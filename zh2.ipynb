{
    "metadata": {
        "kernelspec": {
            "name": "SQL",
            "display_name": "SQL",
            "language": "sql"
        },
        "language_info": {
            "name": "sql",
            "version": ""
        }
    },
    "nbformat_minor": 2,
    "nbformat": 4,
    "cells": [
        {
            "cell_type": "markdown",
            "source": [
                "**1\\. feladat**\n",
                "\n",
                "Készítsen lekérdezést, amely megjeleníti, hogy szobánként (SZOBA\\_FK) hány olyan foglalás történt, ahol a felnőttek száma nagyobb volt a gyermekek számánál!\n",
                "\n",
                "a. A lekérdezés jelenítse meg a végösszeget is megfelelően jelölve!"
            ],
            "metadata": {
                "azdata_cell_guid": "127489f6-f211-494f-8381-7fd3b31919c8"
            },
            "attachments": {}
        },
        {
            "cell_type": "code",
            "source": [
                "select IIF(GROUPING_ID(SZOBA_FK) = 1, 'Összesen',cast(SZOBA_FK as nvarchar(10))) as 'Szoba',\r\n",
                "    count(*) as 'Foglalások száma'\r\n",
                "from Foglalas\r\n",
                "/*having FELNOTT_SZAM >\r\n",
                "(\r\n",
                "    select GYERMEK_SZAM\r\n",
                "    from Foglalas\r\n",
                ") */\r\n",
                "group by rollup (SZOBA_FK)"
            ],
            "metadata": {
                "azdata_cell_guid": "e928115d-a58f-45da-be6e-df8deecc0407",
                "language": "sql"
            },
            "outputs": [
                {
                    "output_type": "display_data",
                    "data": {
                        "text/html": "(198 rows affected)"
                    },
                    "metadata": {}
                },
                {
                    "output_type": "display_data",
                    "data": {
                        "text/html": "Total execution time: 00:00:00.011"
                    },
                    "metadata": {}
                },
                {
                    "output_type": "execute_result",
                    "metadata": {},
                    "execution_count": 38,
                    "data": {
                        "application/vnd.dataresource+json": {
                            "schema": {
                                "fields": [
                                    {
                                        "name": "Szoba"
                                    },
                                    {
                                        "name": "Foglalások száma"
                                    }
                                ]
                            },
                            "data": [
                                {
                                    "Szoba": "1",
                                    "Foglalások száma": "8"
                                },
                                {
                                    "Szoba": "2",
                                    "Foglalások száma": "4"
                                },
                                {
                                    "Szoba": "3",
                                    "Foglalások száma": "8"
                                },
                                {
                                    "Szoba": "4",
                                    "Foglalások száma": "6"
                                },
                                {
                                    "Szoba": "5",
                                    "Foglalások száma": "4"
                                },
                                {
                                    "Szoba": "6",
                                    "Foglalások száma": "6"
                                },
                                {
                                    "Szoba": "7",
                                    "Foglalások száma": "6"
                                },
                                {
                                    "Szoba": "8",
                                    "Foglalások száma": "5"
                                },
                                {
                                    "Szoba": "9",
                                    "Foglalások száma": "6"
                                },
                                {
                                    "Szoba": "10",
                                    "Foglalások száma": "4"
                                },
                                {
                                    "Szoba": "11",
                                    "Foglalások száma": "4"
                                },
                                {
                                    "Szoba": "12",
                                    "Foglalások száma": "9"
                                },
                                {
                                    "Szoba": "13",
                                    "Foglalások száma": "4"
                                },
                                {
                                    "Szoba": "14",
                                    "Foglalások száma": "3"
                                },
                                {
                                    "Szoba": "15",
                                    "Foglalások száma": "6"
                                },
                                {
                                    "Szoba": "16",
                                    "Foglalások száma": "5"
                                },
                                {
                                    "Szoba": "17",
                                    "Foglalások száma": "6"
                                },
                                {
                                    "Szoba": "18",
                                    "Foglalások száma": "6"
                                },
                                {
                                    "Szoba": "19",
                                    "Foglalások száma": "6"
                                },
                                {
                                    "Szoba": "20",
                                    "Foglalások száma": "5"
                                },
                                {
                                    "Szoba": "21",
                                    "Foglalások száma": "4"
                                },
                                {
                                    "Szoba": "22",
                                    "Foglalások száma": "6"
                                },
                                {
                                    "Szoba": "23",
                                    "Foglalások száma": "3"
                                },
                                {
                                    "Szoba": "24",
                                    "Foglalások száma": "3"
                                },
                                {
                                    "Szoba": "25",
                                    "Foglalások száma": "2"
                                },
                                {
                                    "Szoba": "26",
                                    "Foglalások száma": "2"
                                },
                                {
                                    "Szoba": "27",
                                    "Foglalások száma": "7"
                                },
                                {
                                    "Szoba": "28",
                                    "Foglalások száma": "6"
                                },
                                {
                                    "Szoba": "29",
                                    "Foglalások száma": "6"
                                },
                                {
                                    "Szoba": "30",
                                    "Foglalások száma": "3"
                                },
                                {
                                    "Szoba": "31",
                                    "Foglalások száma": "3"
                                },
                                {
                                    "Szoba": "32",
                                    "Foglalások száma": "1"
                                },
                                {
                                    "Szoba": "33",
                                    "Foglalások száma": "6"
                                },
                                {
                                    "Szoba": "34",
                                    "Foglalások száma": "4"
                                },
                                {
                                    "Szoba": "35",
                                    "Foglalások száma": "9"
                                },
                                {
                                    "Szoba": "36",
                                    "Foglalások száma": "6"
                                },
                                {
                                    "Szoba": "37",
                                    "Foglalások száma": "3"
                                },
                                {
                                    "Szoba": "38",
                                    "Foglalások száma": "8"
                                },
                                {
                                    "Szoba": "39",
                                    "Foglalások száma": "7"
                                },
                                {
                                    "Szoba": "40",
                                    "Foglalások száma": "4"
                                },
                                {
                                    "Szoba": "41",
                                    "Foglalások száma": "2"
                                },
                                {
                                    "Szoba": "42",
                                    "Foglalások száma": "6"
                                },
                                {
                                    "Szoba": "43",
                                    "Foglalások száma": "8"
                                },
                                {
                                    "Szoba": "44",
                                    "Foglalások száma": "6"
                                },
                                {
                                    "Szoba": "45",
                                    "Foglalások száma": "5"
                                },
                                {
                                    "Szoba": "46",
                                    "Foglalások száma": "4"
                                },
                                {
                                    "Szoba": "47",
                                    "Foglalások száma": "2"
                                },
                                {
                                    "Szoba": "48",
                                    "Foglalások száma": "9"
                                },
                                {
                                    "Szoba": "49",
                                    "Foglalások száma": "7"
                                },
                                {
                                    "Szoba": "50",
                                    "Foglalások száma": "4"
                                },
                                {
                                    "Szoba": "51",
                                    "Foglalások száma": "5"
                                },
                                {
                                    "Szoba": "52",
                                    "Foglalások száma": "5"
                                },
                                {
                                    "Szoba": "53",
                                    "Foglalások száma": "2"
                                },
                                {
                                    "Szoba": "54",
                                    "Foglalások száma": "6"
                                },
                                {
                                    "Szoba": "55",
                                    "Foglalások száma": "8"
                                },
                                {
                                    "Szoba": "56",
                                    "Foglalások száma": "2"
                                },
                                {
                                    "Szoba": "57",
                                    "Foglalások száma": "4"
                                },
                                {
                                    "Szoba": "58",
                                    "Foglalások száma": "13"
                                },
                                {
                                    "Szoba": "59",
                                    "Foglalások száma": "7"
                                },
                                {
                                    "Szoba": "60",
                                    "Foglalások száma": "1"
                                },
                                {
                                    "Szoba": "61",
                                    "Foglalások száma": "5"
                                },
                                {
                                    "Szoba": "62",
                                    "Foglalások száma": "5"
                                },
                                {
                                    "Szoba": "63",
                                    "Foglalások száma": "4"
                                },
                                {
                                    "Szoba": "64",
                                    "Foglalások száma": "6"
                                },
                                {
                                    "Szoba": "65",
                                    "Foglalások száma": "1"
                                },
                                {
                                    "Szoba": "66",
                                    "Foglalások száma": "4"
                                },
                                {
                                    "Szoba": "67",
                                    "Foglalások száma": "6"
                                },
                                {
                                    "Szoba": "68",
                                    "Foglalások száma": "3"
                                },
                                {
                                    "Szoba": "69",
                                    "Foglalások száma": "4"
                                },
                                {
                                    "Szoba": "70",
                                    "Foglalások száma": "11"
                                },
                                {
                                    "Szoba": "71",
                                    "Foglalások száma": "3"
                                },
                                {
                                    "Szoba": "72",
                                    "Foglalások száma": "4"
                                },
                                {
                                    "Szoba": "73",
                                    "Foglalások száma": "4"
                                },
                                {
                                    "Szoba": "74",
                                    "Foglalások száma": "9"
                                },
                                {
                                    "Szoba": "75",
                                    "Foglalások száma": "3"
                                },
                                {
                                    "Szoba": "76",
                                    "Foglalások száma": "3"
                                },
                                {
                                    "Szoba": "77",
                                    "Foglalások száma": "6"
                                },
                                {
                                    "Szoba": "78",
                                    "Foglalások száma": "6"
                                },
                                {
                                    "Szoba": "79",
                                    "Foglalások száma": "5"
                                },
                                {
                                    "Szoba": "80",
                                    "Foglalások száma": "7"
                                },
                                {
                                    "Szoba": "81",
                                    "Foglalások száma": "5"
                                },
                                {
                                    "Szoba": "82",
                                    "Foglalások száma": "6"
                                },
                                {
                                    "Szoba": "83",
                                    "Foglalások száma": "8"
                                },
                                {
                                    "Szoba": "84",
                                    "Foglalások száma": "4"
                                },
                                {
                                    "Szoba": "85",
                                    "Foglalások száma": "4"
                                },
                                {
                                    "Szoba": "86",
                                    "Foglalások száma": "5"
                                },
                                {
                                    "Szoba": "87",
                                    "Foglalások száma": "5"
                                },
                                {
                                    "Szoba": "88",
                                    "Foglalások száma": "8"
                                },
                                {
                                    "Szoba": "89",
                                    "Foglalások száma": "8"
                                },
                                {
                                    "Szoba": "90",
                                    "Foglalások száma": "4"
                                },
                                {
                                    "Szoba": "91",
                                    "Foglalások száma": "4"
                                },
                                {
                                    "Szoba": "92",
                                    "Foglalások száma": "6"
                                },
                                {
                                    "Szoba": "93",
                                    "Foglalások száma": "5"
                                },
                                {
                                    "Szoba": "94",
                                    "Foglalások száma": "10"
                                },
                                {
                                    "Szoba": "95",
                                    "Foglalások száma": "4"
                                },
                                {
                                    "Szoba": "96",
                                    "Foglalások száma": "7"
                                },
                                {
                                    "Szoba": "97",
                                    "Foglalások száma": "7"
                                },
                                {
                                    "Szoba": "98",
                                    "Foglalások száma": "4"
                                },
                                {
                                    "Szoba": "99",
                                    "Foglalások száma": "5"
                                },
                                {
                                    "Szoba": "100",
                                    "Foglalások száma": "4"
                                },
                                {
                                    "Szoba": "101",
                                    "Foglalások száma": "3"
                                },
                                {
                                    "Szoba": "102",
                                    "Foglalások száma": "2"
                                },
                                {
                                    "Szoba": "103",
                                    "Foglalások száma": "4"
                                },
                                {
                                    "Szoba": "104",
                                    "Foglalások száma": "4"
                                },
                                {
                                    "Szoba": "105",
                                    "Foglalások száma": "2"
                                },
                                {
                                    "Szoba": "106",
                                    "Foglalások száma": "6"
                                },
                                {
                                    "Szoba": "107",
                                    "Foglalások száma": "5"
                                },
                                {
                                    "Szoba": "108",
                                    "Foglalások száma": "2"
                                },
                                {
                                    "Szoba": "109",
                                    "Foglalások száma": "7"
                                },
                                {
                                    "Szoba": "110",
                                    "Foglalások száma": "8"
                                },
                                {
                                    "Szoba": "111",
                                    "Foglalások száma": "5"
                                },
                                {
                                    "Szoba": "112",
                                    "Foglalások száma": "5"
                                },
                                {
                                    "Szoba": "113",
                                    "Foglalások száma": "5"
                                },
                                {
                                    "Szoba": "114",
                                    "Foglalások száma": "4"
                                },
                                {
                                    "Szoba": "115",
                                    "Foglalások száma": "7"
                                },
                                {
                                    "Szoba": "116",
                                    "Foglalások száma": "2"
                                },
                                {
                                    "Szoba": "117",
                                    "Foglalások száma": "8"
                                },
                                {
                                    "Szoba": "118",
                                    "Foglalások száma": "7"
                                },
                                {
                                    "Szoba": "119",
                                    "Foglalások száma": "5"
                                },
                                {
                                    "Szoba": "120",
                                    "Foglalások száma": "6"
                                },
                                {
                                    "Szoba": "121",
                                    "Foglalások száma": "8"
                                },
                                {
                                    "Szoba": "122",
                                    "Foglalások száma": "9"
                                },
                                {
                                    "Szoba": "123",
                                    "Foglalások száma": "5"
                                },
                                {
                                    "Szoba": "124",
                                    "Foglalások száma": "6"
                                },
                                {
                                    "Szoba": "125",
                                    "Foglalások száma": "1"
                                },
                                {
                                    "Szoba": "126",
                                    "Foglalások száma": "6"
                                },
                                {
                                    "Szoba": "127",
                                    "Foglalások száma": "7"
                                },
                                {
                                    "Szoba": "128",
                                    "Foglalások száma": "5"
                                },
                                {
                                    "Szoba": "129",
                                    "Foglalások száma": "4"
                                },
                                {
                                    "Szoba": "130",
                                    "Foglalások száma": "6"
                                },
                                {
                                    "Szoba": "131",
                                    "Foglalások száma": "5"
                                },
                                {
                                    "Szoba": "132",
                                    "Foglalások száma": "6"
                                },
                                {
                                    "Szoba": "133",
                                    "Foglalások száma": "6"
                                },
                                {
                                    "Szoba": "134",
                                    "Foglalások száma": "6"
                                },
                                {
                                    "Szoba": "135",
                                    "Foglalások száma": "3"
                                },
                                {
                                    "Szoba": "136",
                                    "Foglalások száma": "3"
                                },
                                {
                                    "Szoba": "137",
                                    "Foglalások száma": "6"
                                },
                                {
                                    "Szoba": "138",
                                    "Foglalások száma": "7"
                                },
                                {
                                    "Szoba": "139",
                                    "Foglalások száma": "7"
                                },
                                {
                                    "Szoba": "140",
                                    "Foglalások száma": "8"
                                },
                                {
                                    "Szoba": "141",
                                    "Foglalások száma": "6"
                                },
                                {
                                    "Szoba": "142",
                                    "Foglalások száma": "2"
                                },
                                {
                                    "Szoba": "143",
                                    "Foglalások száma": "7"
                                },
                                {
                                    "Szoba": "144",
                                    "Foglalások száma": "5"
                                },
                                {
                                    "Szoba": "145",
                                    "Foglalások száma": "6"
                                },
                                {
                                    "Szoba": "146",
                                    "Foglalások száma": "6"
                                },
                                {
                                    "Szoba": "147",
                                    "Foglalások száma": "1"
                                },
                                {
                                    "Szoba": "148",
                                    "Foglalások száma": "6"
                                },
                                {
                                    "Szoba": "149",
                                    "Foglalások száma": "7"
                                },
                                {
                                    "Szoba": "150",
                                    "Foglalások száma": "6"
                                },
                                {
                                    "Szoba": "151",
                                    "Foglalások száma": "3"
                                },
                                {
                                    "Szoba": "152",
                                    "Foglalások száma": "4"
                                },
                                {
                                    "Szoba": "153",
                                    "Foglalások száma": "5"
                                },
                                {
                                    "Szoba": "154",
                                    "Foglalások száma": "5"
                                },
                                {
                                    "Szoba": "155",
                                    "Foglalások száma": "5"
                                },
                                {
                                    "Szoba": "156",
                                    "Foglalások száma": "7"
                                },
                                {
                                    "Szoba": "157",
                                    "Foglalások száma": "5"
                                },
                                {
                                    "Szoba": "158",
                                    "Foglalások száma": "3"
                                },
                                {
                                    "Szoba": "160",
                                    "Foglalások száma": "5"
                                },
                                {
                                    "Szoba": "161",
                                    "Foglalások száma": "6"
                                },
                                {
                                    "Szoba": "162",
                                    "Foglalások száma": "3"
                                },
                                {
                                    "Szoba": "163",
                                    "Foglalások száma": "7"
                                },
                                {
                                    "Szoba": "164",
                                    "Foglalások száma": "5"
                                },
                                {
                                    "Szoba": "165",
                                    "Foglalások száma": "7"
                                },
                                {
                                    "Szoba": "166",
                                    "Foglalások száma": "3"
                                },
                                {
                                    "Szoba": "167",
                                    "Foglalások száma": "2"
                                },
                                {
                                    "Szoba": "168",
                                    "Foglalások száma": "5"
                                },
                                {
                                    "Szoba": "169",
                                    "Foglalások száma": "6"
                                },
                                {
                                    "Szoba": "170",
                                    "Foglalások száma": "5"
                                },
                                {
                                    "Szoba": "171",
                                    "Foglalások száma": "5"
                                },
                                {
                                    "Szoba": "172",
                                    "Foglalások száma": "9"
                                },
                                {
                                    "Szoba": "173",
                                    "Foglalások száma": "4"
                                },
                                {
                                    "Szoba": "174",
                                    "Foglalások száma": "4"
                                },
                                {
                                    "Szoba": "175",
                                    "Foglalások száma": "5"
                                },
                                {
                                    "Szoba": "176",
                                    "Foglalások száma": "6"
                                },
                                {
                                    "Szoba": "177",
                                    "Foglalások száma": "4"
                                },
                                {
                                    "Szoba": "178",
                                    "Foglalások száma": "4"
                                },
                                {
                                    "Szoba": "179",
                                    "Foglalások száma": "3"
                                },
                                {
                                    "Szoba": "180",
                                    "Foglalások száma": "3"
                                },
                                {
                                    "Szoba": "181",
                                    "Foglalások száma": "6"
                                },
                                {
                                    "Szoba": "182",
                                    "Foglalások száma": "12"
                                },
                                {
                                    "Szoba": "183",
                                    "Foglalások száma": "4"
                                },
                                {
                                    "Szoba": "184",
                                    "Foglalások száma": "4"
                                },
                                {
                                    "Szoba": "185",
                                    "Foglalások száma": "12"
                                },
                                {
                                    "Szoba": "186",
                                    "Foglalások száma": "4"
                                },
                                {
                                    "Szoba": "187",
                                    "Foglalások száma": "7"
                                },
                                {
                                    "Szoba": "188",
                                    "Foglalások száma": "6"
                                },
                                {
                                    "Szoba": "189",
                                    "Foglalások száma": "5"
                                },
                                {
                                    "Szoba": "190",
                                    "Foglalások száma": "5"
                                },
                                {
                                    "Szoba": "191",
                                    "Foglalások száma": "5"
                                },
                                {
                                    "Szoba": "192",
                                    "Foglalások száma": "2"
                                },
                                {
                                    "Szoba": "193",
                                    "Foglalások száma": "7"
                                },
                                {
                                    "Szoba": "194",
                                    "Foglalások száma": "1"
                                },
                                {
                                    "Szoba": "195",
                                    "Foglalások száma": "6"
                                },
                                {
                                    "Szoba": "196",
                                    "Foglalások száma": "4"
                                },
                                {
                                    "Szoba": "197",
                                    "Foglalások száma": "6"
                                },
                                {
                                    "Szoba": "198",
                                    "Foglalások száma": "8"
                                },
                                {
                                    "Szoba": "Összesen",
                                    "Foglalások száma": "1027"
                                }
                            ]
                        },
                        "text/html": [
                            "<table>",
                            "<tr><th>Szoba</th><th>Foglalások száma</th></tr>",
                            "<tr><td>1</td><td>8</td></tr>",
                            "<tr><td>2</td><td>4</td></tr>",
                            "<tr><td>3</td><td>8</td></tr>",
                            "<tr><td>4</td><td>6</td></tr>",
                            "<tr><td>5</td><td>4</td></tr>",
                            "<tr><td>6</td><td>6</td></tr>",
                            "<tr><td>7</td><td>6</td></tr>",
                            "<tr><td>8</td><td>5</td></tr>",
                            "<tr><td>9</td><td>6</td></tr>",
                            "<tr><td>10</td><td>4</td></tr>",
                            "<tr><td>11</td><td>4</td></tr>",
                            "<tr><td>12</td><td>9</td></tr>",
                            "<tr><td>13</td><td>4</td></tr>",
                            "<tr><td>14</td><td>3</td></tr>",
                            "<tr><td>15</td><td>6</td></tr>",
                            "<tr><td>16</td><td>5</td></tr>",
                            "<tr><td>17</td><td>6</td></tr>",
                            "<tr><td>18</td><td>6</td></tr>",
                            "<tr><td>19</td><td>6</td></tr>",
                            "<tr><td>20</td><td>5</td></tr>",
                            "<tr><td>21</td><td>4</td></tr>",
                            "<tr><td>22</td><td>6</td></tr>",
                            "<tr><td>23</td><td>3</td></tr>",
                            "<tr><td>24</td><td>3</td></tr>",
                            "<tr><td>25</td><td>2</td></tr>",
                            "<tr><td>26</td><td>2</td></tr>",
                            "<tr><td>27</td><td>7</td></tr>",
                            "<tr><td>28</td><td>6</td></tr>",
                            "<tr><td>29</td><td>6</td></tr>",
                            "<tr><td>30</td><td>3</td></tr>",
                            "<tr><td>31</td><td>3</td></tr>",
                            "<tr><td>32</td><td>1</td></tr>",
                            "<tr><td>33</td><td>6</td></tr>",
                            "<tr><td>34</td><td>4</td></tr>",
                            "<tr><td>35</td><td>9</td></tr>",
                            "<tr><td>36</td><td>6</td></tr>",
                            "<tr><td>37</td><td>3</td></tr>",
                            "<tr><td>38</td><td>8</td></tr>",
                            "<tr><td>39</td><td>7</td></tr>",
                            "<tr><td>40</td><td>4</td></tr>",
                            "<tr><td>41</td><td>2</td></tr>",
                            "<tr><td>42</td><td>6</td></tr>",
                            "<tr><td>43</td><td>8</td></tr>",
                            "<tr><td>44</td><td>6</td></tr>",
                            "<tr><td>45</td><td>5</td></tr>",
                            "<tr><td>46</td><td>4</td></tr>",
                            "<tr><td>47</td><td>2</td></tr>",
                            "<tr><td>48</td><td>9</td></tr>",
                            "<tr><td>49</td><td>7</td></tr>",
                            "<tr><td>50</td><td>4</td></tr>",
                            "<tr><td>51</td><td>5</td></tr>",
                            "<tr><td>52</td><td>5</td></tr>",
                            "<tr><td>53</td><td>2</td></tr>",
                            "<tr><td>54</td><td>6</td></tr>",
                            "<tr><td>55</td><td>8</td></tr>",
                            "<tr><td>56</td><td>2</td></tr>",
                            "<tr><td>57</td><td>4</td></tr>",
                            "<tr><td>58</td><td>13</td></tr>",
                            "<tr><td>59</td><td>7</td></tr>",
                            "<tr><td>60</td><td>1</td></tr>",
                            "<tr><td>61</td><td>5</td></tr>",
                            "<tr><td>62</td><td>5</td></tr>",
                            "<tr><td>63</td><td>4</td></tr>",
                            "<tr><td>64</td><td>6</td></tr>",
                            "<tr><td>65</td><td>1</td></tr>",
                            "<tr><td>66</td><td>4</td></tr>",
                            "<tr><td>67</td><td>6</td></tr>",
                            "<tr><td>68</td><td>3</td></tr>",
                            "<tr><td>69</td><td>4</td></tr>",
                            "<tr><td>70</td><td>11</td></tr>",
                            "<tr><td>71</td><td>3</td></tr>",
                            "<tr><td>72</td><td>4</td></tr>",
                            "<tr><td>73</td><td>4</td></tr>",
                            "<tr><td>74</td><td>9</td></tr>",
                            "<tr><td>75</td><td>3</td></tr>",
                            "<tr><td>76</td><td>3</td></tr>",
                            "<tr><td>77</td><td>6</td></tr>",
                            "<tr><td>78</td><td>6</td></tr>",
                            "<tr><td>79</td><td>5</td></tr>",
                            "<tr><td>80</td><td>7</td></tr>",
                            "<tr><td>81</td><td>5</td></tr>",
                            "<tr><td>82</td><td>6</td></tr>",
                            "<tr><td>83</td><td>8</td></tr>",
                            "<tr><td>84</td><td>4</td></tr>",
                            "<tr><td>85</td><td>4</td></tr>",
                            "<tr><td>86</td><td>5</td></tr>",
                            "<tr><td>87</td><td>5</td></tr>",
                            "<tr><td>88</td><td>8</td></tr>",
                            "<tr><td>89</td><td>8</td></tr>",
                            "<tr><td>90</td><td>4</td></tr>",
                            "<tr><td>91</td><td>4</td></tr>",
                            "<tr><td>92</td><td>6</td></tr>",
                            "<tr><td>93</td><td>5</td></tr>",
                            "<tr><td>94</td><td>10</td></tr>",
                            "<tr><td>95</td><td>4</td></tr>",
                            "<tr><td>96</td><td>7</td></tr>",
                            "<tr><td>97</td><td>7</td></tr>",
                            "<tr><td>98</td><td>4</td></tr>",
                            "<tr><td>99</td><td>5</td></tr>",
                            "<tr><td>100</td><td>4</td></tr>",
                            "<tr><td>101</td><td>3</td></tr>",
                            "<tr><td>102</td><td>2</td></tr>",
                            "<tr><td>103</td><td>4</td></tr>",
                            "<tr><td>104</td><td>4</td></tr>",
                            "<tr><td>105</td><td>2</td></tr>",
                            "<tr><td>106</td><td>6</td></tr>",
                            "<tr><td>107</td><td>5</td></tr>",
                            "<tr><td>108</td><td>2</td></tr>",
                            "<tr><td>109</td><td>7</td></tr>",
                            "<tr><td>110</td><td>8</td></tr>",
                            "<tr><td>111</td><td>5</td></tr>",
                            "<tr><td>112</td><td>5</td></tr>",
                            "<tr><td>113</td><td>5</td></tr>",
                            "<tr><td>114</td><td>4</td></tr>",
                            "<tr><td>115</td><td>7</td></tr>",
                            "<tr><td>116</td><td>2</td></tr>",
                            "<tr><td>117</td><td>8</td></tr>",
                            "<tr><td>118</td><td>7</td></tr>",
                            "<tr><td>119</td><td>5</td></tr>",
                            "<tr><td>120</td><td>6</td></tr>",
                            "<tr><td>121</td><td>8</td></tr>",
                            "<tr><td>122</td><td>9</td></tr>",
                            "<tr><td>123</td><td>5</td></tr>",
                            "<tr><td>124</td><td>6</td></tr>",
                            "<tr><td>125</td><td>1</td></tr>",
                            "<tr><td>126</td><td>6</td></tr>",
                            "<tr><td>127</td><td>7</td></tr>",
                            "<tr><td>128</td><td>5</td></tr>",
                            "<tr><td>129</td><td>4</td></tr>",
                            "<tr><td>130</td><td>6</td></tr>",
                            "<tr><td>131</td><td>5</td></tr>",
                            "<tr><td>132</td><td>6</td></tr>",
                            "<tr><td>133</td><td>6</td></tr>",
                            "<tr><td>134</td><td>6</td></tr>",
                            "<tr><td>135</td><td>3</td></tr>",
                            "<tr><td>136</td><td>3</td></tr>",
                            "<tr><td>137</td><td>6</td></tr>",
                            "<tr><td>138</td><td>7</td></tr>",
                            "<tr><td>139</td><td>7</td></tr>",
                            "<tr><td>140</td><td>8</td></tr>",
                            "<tr><td>141</td><td>6</td></tr>",
                            "<tr><td>142</td><td>2</td></tr>",
                            "<tr><td>143</td><td>7</td></tr>",
                            "<tr><td>144</td><td>5</td></tr>",
                            "<tr><td>145</td><td>6</td></tr>",
                            "<tr><td>146</td><td>6</td></tr>",
                            "<tr><td>147</td><td>1</td></tr>",
                            "<tr><td>148</td><td>6</td></tr>",
                            "<tr><td>149</td><td>7</td></tr>",
                            "<tr><td>150</td><td>6</td></tr>",
                            "<tr><td>151</td><td>3</td></tr>",
                            "<tr><td>152</td><td>4</td></tr>",
                            "<tr><td>153</td><td>5</td></tr>",
                            "<tr><td>154</td><td>5</td></tr>",
                            "<tr><td>155</td><td>5</td></tr>",
                            "<tr><td>156</td><td>7</td></tr>",
                            "<tr><td>157</td><td>5</td></tr>",
                            "<tr><td>158</td><td>3</td></tr>",
                            "<tr><td>160</td><td>5</td></tr>",
                            "<tr><td>161</td><td>6</td></tr>",
                            "<tr><td>162</td><td>3</td></tr>",
                            "<tr><td>163</td><td>7</td></tr>",
                            "<tr><td>164</td><td>5</td></tr>",
                            "<tr><td>165</td><td>7</td></tr>",
                            "<tr><td>166</td><td>3</td></tr>",
                            "<tr><td>167</td><td>2</td></tr>",
                            "<tr><td>168</td><td>5</td></tr>",
                            "<tr><td>169</td><td>6</td></tr>",
                            "<tr><td>170</td><td>5</td></tr>",
                            "<tr><td>171</td><td>5</td></tr>",
                            "<tr><td>172</td><td>9</td></tr>",
                            "<tr><td>173</td><td>4</td></tr>",
                            "<tr><td>174</td><td>4</td></tr>",
                            "<tr><td>175</td><td>5</td></tr>",
                            "<tr><td>176</td><td>6</td></tr>",
                            "<tr><td>177</td><td>4</td></tr>",
                            "<tr><td>178</td><td>4</td></tr>",
                            "<tr><td>179</td><td>3</td></tr>",
                            "<tr><td>180</td><td>3</td></tr>",
                            "<tr><td>181</td><td>6</td></tr>",
                            "<tr><td>182</td><td>12</td></tr>",
                            "<tr><td>183</td><td>4</td></tr>",
                            "<tr><td>184</td><td>4</td></tr>",
                            "<tr><td>185</td><td>12</td></tr>",
                            "<tr><td>186</td><td>4</td></tr>",
                            "<tr><td>187</td><td>7</td></tr>",
                            "<tr><td>188</td><td>6</td></tr>",
                            "<tr><td>189</td><td>5</td></tr>",
                            "<tr><td>190</td><td>5</td></tr>",
                            "<tr><td>191</td><td>5</td></tr>",
                            "<tr><td>192</td><td>2</td></tr>",
                            "<tr><td>193</td><td>7</td></tr>",
                            "<tr><td>194</td><td>1</td></tr>",
                            "<tr><td>195</td><td>6</td></tr>",
                            "<tr><td>196</td><td>4</td></tr>",
                            "<tr><td>197</td><td>6</td></tr>",
                            "<tr><td>198</td><td>8</td></tr>",
                            "<tr><td>Összesen</td><td>1027</td></tr>",
                            "</table>"
                        ]
                    }
                }
            ],
            "execution_count": 38
        },
        {
            "cell_type": "markdown",
            "source": [
                "2\\. feladat\n",
                "\n",
                "Készítsük listát, amely a szobák azonosítóit és a hozzájuk tartozó foglalások azonosítóját és időtartalmát (napokban) jeleníti meg!\n",
                "\n",
                "- Egy új oszlopban jelenítsük meg az adott szoba időben <mark><mark>előző</mark></mark> foglalásának időtartamát is! - lag()\n",
                "- Ha nincs <mark>előző</mark>, akkor 0 jelenjen meg"
            ],
            "metadata": {
                "azdata_cell_guid": "4e15842c-ea55-4e28-8fb8-51d3daee3d5e"
            },
            "attachments": {}
        },
        {
            "cell_type": "code",
            "source": [
                "select sz.SZOBA_ID as 'Szoba azonosító',\r\n",
                "    FOGLALAS_PK as 'Foglalás azonosító',\r\n",
                "    DATEDIFF(day, f.METTOL, f.MEDDIG) as 'Időtartam (nap)',\r\n",
                "    lag(DATEDIFF(day, f.METTOL, f.MEDDIG), 1, 0) over(\r\n",
                "        partition by sz.SZOBA_ID\r\n",
                "        order by sz.SZOBA_ID\r\n",
                "    ) as 'Előző foglalás időtartama'\r\n",
                "from Szoba sz \r\n",
                "    join Foglalas f on sz.SZOBA_ID = f.SZOBA_FK"
            ],
            "metadata": {
                "azdata_cell_guid": "aa4b6aeb-e9da-4715-8185-627a5e439c02",
                "language": "sql"
            },
            "outputs": [
                {
                    "output_type": "display_data",
                    "data": {
                        "text/html": "(1027 rows affected)"
                    },
                    "metadata": {}
                },
                {
                    "output_type": "display_data",
                    "data": {
                        "text/html": "Total execution time: 00:00:00.015"
                    },
                    "metadata": {}
                },
                {
                    "output_type": "execute_result",
                    "metadata": {},
                    "execution_count": 12,
                    "data": {
                        "application/vnd.dataresource+json": {
                            "schema": {
                                "fields": [
                                    {
                                        "name": "Szoba azonosító"
                                    },
                                    {
                                        "name": "Foglalás azonosító"
                                    },
                                    {
                                        "name": "Időtartam (nap)"
                                    },
                                    {
                                        "name": "Előző foglalás időtartama"
                                    }
                                ]
                            },
                            "data": [
                                {
                                    "Szoba azonosító": "1",
                                    "Foglalás azonosító": "620",
                                    "Időtartam (nap)": "5",
                                    "Előző foglalás időtartama": "0"
                                },
                                {
                                    "Szoba azonosító": "1",
                                    "Foglalás azonosító": "738",
                                    "Időtartam (nap)": "7",
                                    "Előző foglalás időtartama": "5"
                                },
                                {
                                    "Szoba azonosító": "1",
                                    "Foglalás azonosító": "803",
                                    "Időtartam (nap)": "4",
                                    "Előző foglalás időtartama": "7"
                                },
                                {
                                    "Szoba azonosító": "1",
                                    "Foglalás azonosító": "949",
                                    "Időtartam (nap)": "1",
                                    "Előző foglalás időtartama": "4"
                                },
                                {
                                    "Szoba azonosító": "1",
                                    "Foglalás azonosító": "1137",
                                    "Időtartam (nap)": "2",
                                    "Előző foglalás időtartama": "1"
                                },
                                {
                                    "Szoba azonosító": "1",
                                    "Foglalás azonosító": "1152",
                                    "Időtartam (nap)": "1",
                                    "Előző foglalás időtartama": "2"
                                },
                                {
                                    "Szoba azonosító": "1",
                                    "Foglalás azonosító": "1274",
                                    "Időtartam (nap)": "1",
                                    "Előző foglalás időtartama": "1"
                                },
                                {
                                    "Szoba azonosító": "1",
                                    "Foglalás azonosító": "1334",
                                    "Időtartam (nap)": "4",
                                    "Előző foglalás időtartama": "1"
                                },
                                {
                                    "Szoba azonosító": "2",
                                    "Foglalás azonosító": "1311",
                                    "Időtartam (nap)": "7",
                                    "Előző foglalás időtartama": "0"
                                },
                                {
                                    "Szoba azonosító": "2",
                                    "Foglalás azonosító": "1051",
                                    "Időtartam (nap)": "1",
                                    "Előző foglalás időtartama": "7"
                                },
                                {
                                    "Szoba azonosító": "2",
                                    "Foglalás azonosító": "1069",
                                    "Időtartam (nap)": "7",
                                    "Előző foglalás időtartama": "1"
                                },
                                {
                                    "Szoba azonosító": "2",
                                    "Foglalás azonosító": "828",
                                    "Időtartam (nap)": "3",
                                    "Előző foglalás időtartama": "7"
                                },
                                {
                                    "Szoba azonosító": "3",
                                    "Foglalás azonosító": "788",
                                    "Időtartam (nap)": "6",
                                    "Előző foglalás időtartama": "0"
                                },
                                {
                                    "Szoba azonosító": "3",
                                    "Foglalás azonosító": "629",
                                    "Időtartam (nap)": "4",
                                    "Előző foglalás időtartama": "6"
                                },
                                {
                                    "Szoba azonosító": "3",
                                    "Foglalás azonosító": "666",
                                    "Időtartam (nap)": "6",
                                    "Előző foglalás időtartama": "4"
                                },
                                {
                                    "Szoba azonosító": "3",
                                    "Foglalás azonosító": "1110",
                                    "Időtartam (nap)": "7",
                                    "Előző foglalás időtartama": "6"
                                },
                                {
                                    "Szoba azonosító": "3",
                                    "Foglalás azonosító": "1038",
                                    "Időtartam (nap)": "3",
                                    "Előző foglalás időtartama": "7"
                                },
                                {
                                    "Szoba azonosító": "3",
                                    "Foglalás azonosító": "1151",
                                    "Időtartam (nap)": "1",
                                    "Előző foglalás időtartama": "3"
                                },
                                {
                                    "Szoba azonosító": "3",
                                    "Foglalás azonosító": "1434",
                                    "Időtartam (nap)": "5",
                                    "Előző foglalás időtartama": "1"
                                },
                                {
                                    "Szoba azonosító": "3",
                                    "Foglalás azonosító": "1544",
                                    "Időtartam (nap)": "5",
                                    "Előző foglalás időtartama": "5"
                                },
                                {
                                    "Szoba azonosító": "4",
                                    "Foglalás azonosító": "1492",
                                    "Időtartam (nap)": "6",
                                    "Előző foglalás időtartama": "0"
                                },
                                {
                                    "Szoba azonosító": "4",
                                    "Foglalás azonosító": "1132",
                                    "Időtartam (nap)": "6",
                                    "Előző foglalás időtartama": "6"
                                },
                                {
                                    "Szoba azonosító": "4",
                                    "Foglalás azonosító": "1001",
                                    "Időtartam (nap)": "7",
                                    "Előző foglalás időtartama": "6"
                                },
                                {
                                    "Szoba azonosító": "4",
                                    "Foglalás azonosító": "1127",
                                    "Időtartam (nap)": "3",
                                    "Előző foglalás időtartama": "7"
                                },
                                {
                                    "Szoba azonosító": "4",
                                    "Foglalás azonosító": "946",
                                    "Időtartam (nap)": "5",
                                    "Előző foglalás időtartama": "3"
                                },
                                {
                                    "Szoba azonosító": "4",
                                    "Foglalás azonosító": "651",
                                    "Időtartam (nap)": "7",
                                    "Előző foglalás időtartama": "5"
                                },
                                {
                                    "Szoba azonosító": "5",
                                    "Foglalás azonosító": "564",
                                    "Időtartam (nap)": "2",
                                    "Előző foglalás időtartama": "0"
                                },
                                {
                                    "Szoba azonosító": "5",
                                    "Foglalás azonosító": "965",
                                    "Időtartam (nap)": "7",
                                    "Előző foglalás időtartama": "2"
                                },
                                {
                                    "Szoba azonosító": "5",
                                    "Foglalás azonosító": "1073",
                                    "Időtartam (nap)": "5",
                                    "Előző foglalás időtartama": "7"
                                },
                                {
                                    "Szoba azonosító": "5",
                                    "Foglalás azonosító": "1257",
                                    "Időtartam (nap)": "3",
                                    "Előző foglalás időtartama": "5"
                                },
                                {
                                    "Szoba azonosító": "6",
                                    "Foglalás azonosító": "1099",
                                    "Időtartam (nap)": "4",
                                    "Előző foglalás időtartama": "0"
                                },
                                {
                                    "Szoba azonosító": "6",
                                    "Foglalás azonosító": "990",
                                    "Időtartam (nap)": "4",
                                    "Előző foglalás időtartama": "4"
                                },
                                {
                                    "Szoba azonosító": "6",
                                    "Foglalás azonosító": "850",
                                    "Időtartam (nap)": "2",
                                    "Előző foglalás időtartama": "4"
                                },
                                {
                                    "Szoba azonosító": "6",
                                    "Foglalás azonosító": "873",
                                    "Időtartam (nap)": "3",
                                    "Előző foglalás időtartama": "2"
                                },
                                {
                                    "Szoba azonosító": "6",
                                    "Foglalás azonosító": "560",
                                    "Időtartam (nap)": "6",
                                    "Előző foglalás időtartama": "3"
                                },
                                {
                                    "Szoba azonosító": "6",
                                    "Foglalás azonosító": "772",
                                    "Időtartam (nap)": "6",
                                    "Előző foglalás időtartama": "6"
                                },
                                {
                                    "Szoba azonosító": "7",
                                    "Foglalás azonosító": "759",
                                    "Időtartam (nap)": "7",
                                    "Előző foglalás időtartama": "0"
                                },
                                {
                                    "Szoba azonosító": "7",
                                    "Foglalás azonosító": "562",
                                    "Időtartam (nap)": "4",
                                    "Előző foglalás időtartama": "7"
                                },
                                {
                                    "Szoba azonosító": "7",
                                    "Foglalás azonosító": "1252",
                                    "Időtartam (nap)": "2",
                                    "Előző foglalás időtartama": "4"
                                },
                                {
                                    "Szoba azonosító": "7",
                                    "Foglalás azonosító": "1131",
                                    "Időtartam (nap)": "1",
                                    "Előző foglalás időtartama": "2"
                                },
                                {
                                    "Szoba azonosító": "7",
                                    "Foglalás azonosító": "1175",
                                    "Időtartam (nap)": "4",
                                    "Előző foglalás időtartama": "1"
                                },
                                {
                                    "Szoba azonosító": "7",
                                    "Foglalás azonosító": "1182",
                                    "Időtartam (nap)": "4",
                                    "Előző foglalás időtartama": "4"
                                },
                                {
                                    "Szoba azonosító": "8",
                                    "Foglalás azonosító": "694",
                                    "Időtartam (nap)": "4",
                                    "Előző foglalás időtartama": "0"
                                },
                                {
                                    "Szoba azonosító": "8",
                                    "Foglalás azonosító": "832",
                                    "Időtartam (nap)": "4",
                                    "Előző foglalás időtartama": "4"
                                },
                                {
                                    "Szoba azonosító": "8",
                                    "Foglalás azonosító": "818",
                                    "Időtartam (nap)": "4",
                                    "Előző foglalás időtartama": "4"
                                },
                                {
                                    "Szoba azonosító": "8",
                                    "Foglalás azonosító": "882",
                                    "Időtartam (nap)": "1",
                                    "Előző foglalás időtartama": "4"
                                },
                                {
                                    "Szoba azonosító": "8",
                                    "Foglalás azonosító": "947",
                                    "Időtartam (nap)": "3",
                                    "Előző foglalás időtartama": "1"
                                },
                                {
                                    "Szoba azonosító": "9",
                                    "Foglalás azonosító": "609",
                                    "Időtartam (nap)": "2",
                                    "Előző foglalás időtartama": "0"
                                },
                                {
                                    "Szoba azonosító": "9",
                                    "Foglalás azonosító": "1157",
                                    "Időtartam (nap)": "6",
                                    "Előző foglalás időtartama": "2"
                                },
                                {
                                    "Szoba azonosító": "9",
                                    "Foglalás azonosító": "1260",
                                    "Időtartam (nap)": "6",
                                    "Előző foglalás időtartama": "6"
                                },
                                {
                                    "Szoba azonosító": "9",
                                    "Foglalás azonosító": "1220",
                                    "Időtartam (nap)": "3",
                                    "Előző foglalás időtartama": "6"
                                },
                                {
                                    "Szoba azonosító": "9",
                                    "Foglalás azonosító": "1537",
                                    "Időtartam (nap)": "3",
                                    "Előző foglalás időtartama": "3"
                                },
                                {
                                    "Szoba azonosító": "9",
                                    "Foglalás azonosító": "1423",
                                    "Időtartam (nap)": "3",
                                    "Előző foglalás időtartama": "3"
                                },
                                {
                                    "Szoba azonosító": "10",
                                    "Foglalás azonosító": "1319",
                                    "Időtartam (nap)": "6",
                                    "Előző foglalás időtartama": "0"
                                },
                                {
                                    "Szoba azonosító": "10",
                                    "Foglalás azonosító": "569",
                                    "Időtartam (nap)": "3",
                                    "Előző foglalás időtartama": "6"
                                },
                                {
                                    "Szoba azonosító": "10",
                                    "Foglalás azonosító": "790",
                                    "Időtartam (nap)": "5",
                                    "Előző foglalás időtartama": "3"
                                },
                                {
                                    "Szoba azonosító": "10",
                                    "Foglalás azonosító": "795",
                                    "Időtartam (nap)": "4",
                                    "Előző foglalás időtartama": "5"
                                },
                                {
                                    "Szoba azonosító": "11",
                                    "Foglalás azonosító": "918",
                                    "Időtartam (nap)": "6",
                                    "Előző foglalás időtartama": "0"
                                },
                                {
                                    "Szoba azonosító": "11",
                                    "Foglalás azonosító": "1123",
                                    "Időtartam (nap)": "5",
                                    "Előző foglalás időtartama": "6"
                                },
                                {
                                    "Szoba azonosító": "11",
                                    "Foglalás azonosító": "1236",
                                    "Időtartam (nap)": "1",
                                    "Előző foglalás időtartama": "5"
                                },
                                {
                                    "Szoba azonosító": "11",
                                    "Foglalás azonosító": "1523",
                                    "Időtartam (nap)": "1",
                                    "Előző foglalás időtartama": "1"
                                },
                                {
                                    "Szoba azonosító": "12",
                                    "Foglalás azonosító": "1430",
                                    "Időtartam (nap)": "2",
                                    "Előző foglalás időtartama": "0"
                                },
                                {
                                    "Szoba azonosító": "12",
                                    "Foglalás azonosító": "1140",
                                    "Időtartam (nap)": "3",
                                    "Előző foglalás időtartama": "2"
                                },
                                {
                                    "Szoba azonosító": "12",
                                    "Foglalás azonosító": "1164",
                                    "Időtartam (nap)": "5",
                                    "Előző foglalás időtartama": "3"
                                },
                                {
                                    "Szoba azonosító": "12",
                                    "Foglalás azonosító": "1020",
                                    "Időtartam (nap)": "5",
                                    "Előző foglalás időtartama": "5"
                                },
                                {
                                    "Szoba azonosító": "12",
                                    "Foglalás azonosító": "951",
                                    "Időtartam (nap)": "3",
                                    "Előző foglalás időtartama": "5"
                                },
                                {
                                    "Szoba azonosító": "12",
                                    "Foglalás azonosító": "970",
                                    "Időtartam (nap)": "2",
                                    "Előző foglalás időtartama": "3"
                                },
                                {
                                    "Szoba azonosító": "12",
                                    "Foglalás azonosító": "876",
                                    "Időtartam (nap)": "7",
                                    "Előző foglalás időtartama": "2"
                                },
                                {
                                    "Szoba azonosító": "12",
                                    "Foglalás azonosító": "775",
                                    "Időtartam (nap)": "4",
                                    "Előző foglalás időtartama": "7"
                                },
                                {
                                    "Szoba azonosító": "12",
                                    "Foglalás azonosító": "697",
                                    "Időtartam (nap)": "2",
                                    "Előző foglalás időtartama": "4"
                                },
                                {
                                    "Szoba azonosító": "13",
                                    "Foglalás azonosító": "763",
                                    "Időtartam (nap)": "4",
                                    "Előző foglalás időtartama": "0"
                                },
                                {
                                    "Szoba azonosító": "13",
                                    "Foglalás azonosító": "1044",
                                    "Időtartam (nap)": "6",
                                    "Előző foglalás időtartama": "4"
                                },
                                {
                                    "Szoba azonosító": "13",
                                    "Foglalás azonosító": "1347",
                                    "Időtartam (nap)": "3",
                                    "Előző foglalás időtartama": "6"
                                },
                                {
                                    "Szoba azonosító": "13",
                                    "Foglalás azonosító": "1469",
                                    "Időtartam (nap)": "2",
                                    "Előző foglalás időtartama": "3"
                                },
                                {
                                    "Szoba azonosító": "14",
                                    "Foglalás azonosító": "1542",
                                    "Időtartam (nap)": "4",
                                    "Előző foglalás időtartama": "0"
                                },
                                {
                                    "Szoba azonosító": "14",
                                    "Foglalás azonosító": "813",
                                    "Időtartam (nap)": "3",
                                    "Előző foglalás időtartama": "4"
                                },
                                {
                                    "Szoba azonosító": "14",
                                    "Foglalás azonosító": "663",
                                    "Időtartam (nap)": "1",
                                    "Előző foglalás időtartama": "3"
                                },
                                {
                                    "Szoba azonosító": "15",
                                    "Foglalás azonosító": "791",
                                    "Időtartam (nap)": "5",
                                    "Előző foglalás időtartama": "0"
                                },
                                {
                                    "Szoba azonosító": "15",
                                    "Foglalás azonosító": "1028",
                                    "Időtartam (nap)": "2",
                                    "Előző foglalás időtartama": "5"
                                },
                                {
                                    "Szoba azonosító": "15",
                                    "Foglalás azonosító": "1442",
                                    "Időtartam (nap)": "3",
                                    "Előző foglalás időtartama": "2"
                                },
                                {
                                    "Szoba azonosító": "15",
                                    "Foglalás azonosító": "1418",
                                    "Időtartam (nap)": "4",
                                    "Előző foglalás időtartama": "3"
                                },
                                {
                                    "Szoba azonosító": "15",
                                    "Foglalás azonosító": "1129",
                                    "Időtartam (nap)": "4",
                                    "Előző foglalás időtartama": "4"
                                },
                                {
                                    "Szoba azonosító": "15",
                                    "Foglalás azonosító": "1244",
                                    "Időtartam (nap)": "1",
                                    "Előző foglalás időtartama": "4"
                                },
                                {
                                    "Szoba azonosító": "16",
                                    "Foglalás azonosító": "1498",
                                    "Időtartam (nap)": "7",
                                    "Előző foglalás időtartama": "0"
                                },
                                {
                                    "Szoba azonosító": "16",
                                    "Foglalás azonosító": "896",
                                    "Időtartam (nap)": "1",
                                    "Előző foglalás időtartama": "7"
                                },
                                {
                                    "Szoba azonosító": "16",
                                    "Foglalás azonosító": "856",
                                    "Időtartam (nap)": "6",
                                    "Előző foglalás időtartama": "1"
                                },
                                {
                                    "Szoba azonosító": "16",
                                    "Foglalás azonosító": "973",
                                    "Időtartam (nap)": "1",
                                    "Előző foglalás időtartama": "6"
                                },
                                {
                                    "Szoba azonosító": "16",
                                    "Foglalás azonosító": "687",
                                    "Időtartam (nap)": "3",
                                    "Előző foglalás időtartama": "1"
                                },
                                {
                                    "Szoba azonosító": "17",
                                    "Foglalás azonosító": "602",
                                    "Időtartam (nap)": "6",
                                    "Előző foglalás időtartama": "0"
                                },
                                {
                                    "Szoba azonosító": "17",
                                    "Foglalás azonosító": "744",
                                    "Időtartam (nap)": "1",
                                    "Előző foglalás időtartama": "6"
                                },
                                {
                                    "Szoba azonosító": "17",
                                    "Foglalás azonosító": "713",
                                    "Időtartam (nap)": "6",
                                    "Előző foglalás időtartama": "1"
                                },
                                {
                                    "Szoba azonosító": "17",
                                    "Foglalás azonosító": "916",
                                    "Időtartam (nap)": "2",
                                    "Előző foglalás időtartama": "6"
                                },
                                {
                                    "Szoba azonosító": "17",
                                    "Foglalás azonosító": "1549",
                                    "Időtartam (nap)": "3",
                                    "Előző foglalás időtartama": "2"
                                },
                                {
                                    "Szoba azonosító": "17",
                                    "Foglalás azonosító": "1316",
                                    "Időtartam (nap)": "5",
                                    "Előző foglalás időtartama": "3"
                                },
                                {
                                    "Szoba azonosító": "18",
                                    "Foglalás azonosító": "1173",
                                    "Időtartam (nap)": "6",
                                    "Előző foglalás időtartama": "0"
                                },
                                {
                                    "Szoba azonosító": "18",
                                    "Foglalás azonosító": "1198",
                                    "Időtartam (nap)": "4",
                                    "Előző foglalás időtartama": "6"
                                },
                                {
                                    "Szoba azonosító": "18",
                                    "Foglalás azonosító": "1505",
                                    "Időtartam (nap)": "6",
                                    "Előző foglalás időtartama": "4"
                                },
                                {
                                    "Szoba azonosító": "18",
                                    "Foglalás azonosító": "1035",
                                    "Időtartam (nap)": "6",
                                    "Előző foglalás időtartama": "6"
                                },
                                {
                                    "Szoba azonosító": "18",
                                    "Foglalás azonosító": "767",
                                    "Időtartam (nap)": "3",
                                    "Előző foglalás időtartama": "6"
                                },
                                {
                                    "Szoba azonosító": "18",
                                    "Foglalás azonosító": "626",
                                    "Időtartam (nap)": "3",
                                    "Előző foglalás időtartama": "3"
                                },
                                {
                                    "Szoba azonosító": "19",
                                    "Foglalás azonosító": "696",
                                    "Időtartam (nap)": "1",
                                    "Előző foglalás időtartama": "0"
                                },
                                {
                                    "Szoba azonosító": "19",
                                    "Foglalás azonosító": "778",
                                    "Időtartam (nap)": "1",
                                    "Előző foglalás időtartama": "1"
                                },
                                {
                                    "Szoba azonosító": "19",
                                    "Foglalás azonosító": "948",
                                    "Időtartam (nap)": "2",
                                    "Előző foglalás időtartama": "1"
                                },
                                {
                                    "Szoba azonosító": "19",
                                    "Foglalás azonosító": "1533",
                                    "Időtartam (nap)": "1",
                                    "Előző foglalás időtartama": "2"
                                },
                                {
                                    "Szoba azonosító": "19",
                                    "Foglalás azonosító": "1139",
                                    "Időtartam (nap)": "7",
                                    "Előző foglalás időtartama": "1"
                                },
                                {
                                    "Szoba azonosító": "19",
                                    "Foglalás azonosító": "1237",
                                    "Időtartam (nap)": "1",
                                    "Előző foglalás időtartama": "7"
                                },
                                {
                                    "Szoba azonosító": "20",
                                    "Foglalás azonosító": "1114",
                                    "Időtartam (nap)": "5",
                                    "Előző foglalás időtartama": "0"
                                },
                                {
                                    "Szoba azonosító": "20",
                                    "Foglalás azonosító": "1106",
                                    "Időtartam (nap)": "2",
                                    "Előző foglalás időtartama": "5"
                                },
                                {
                                    "Szoba azonosító": "20",
                                    "Foglalás azonosító": "1070",
                                    "Időtartam (nap)": "1",
                                    "Előző foglalás időtartama": "2"
                                },
                                {
                                    "Szoba azonosító": "20",
                                    "Foglalás azonosító": "820",
                                    "Időtartam (nap)": "1",
                                    "Előző foglalás időtartama": "1"
                                },
                                {
                                    "Szoba azonosító": "20",
                                    "Foglalás azonosító": "755",
                                    "Időtartam (nap)": "6",
                                    "Előző foglalás időtartama": "1"
                                },
                                {
                                    "Szoba azonosító": "21",
                                    "Foglalás azonosító": "805",
                                    "Időtartam (nap)": "1",
                                    "Előző foglalás időtartama": "0"
                                },
                                {
                                    "Szoba azonosító": "21",
                                    "Foglalás azonosító": "660",
                                    "Időtartam (nap)": "5",
                                    "Előző foglalás időtartama": "1"
                                },
                                {
                                    "Szoba azonosító": "21",
                                    "Foglalás azonosító": "566",
                                    "Időtartam (nap)": "6",
                                    "Előző foglalás időtartama": "5"
                                },
                                {
                                    "Szoba azonosító": "21",
                                    "Foglalás azonosító": "1212",
                                    "Időtartam (nap)": "6",
                                    "Előző foglalás időtartama": "6"
                                },
                                {
                                    "Szoba azonosító": "22",
                                    "Foglalás azonosító": "1206",
                                    "Időtartam (nap)": "7",
                                    "Előző foglalás időtartama": "0"
                                },
                                {
                                    "Szoba azonosító": "22",
                                    "Foglalás azonosító": "1130",
                                    "Időtartam (nap)": "1",
                                    "Előző foglalás időtartama": "7"
                                },
                                {
                                    "Szoba azonosító": "22",
                                    "Foglalás azonosító": "1195",
                                    "Időtartam (nap)": "6",
                                    "Előző foglalás időtartama": "1"
                                },
                                {
                                    "Szoba azonosító": "22",
                                    "Foglalás azonosító": "1287",
                                    "Időtartam (nap)": "3",
                                    "Előző foglalás időtartama": "6"
                                },
                                {
                                    "Szoba azonosító": "22",
                                    "Foglalás azonosító": "1005",
                                    "Időtartam (nap)": "3",
                                    "Előző foglalás időtartama": "3"
                                },
                                {
                                    "Szoba azonosító": "22",
                                    "Foglalás azonosító": "906",
                                    "Időtartam (nap)": "1",
                                    "Előző foglalás időtartama": "3"
                                },
                                {
                                    "Szoba azonosító": "23",
                                    "Foglalás azonosító": "848",
                                    "Időtartam (nap)": "1",
                                    "Előző foglalás időtartama": "0"
                                },
                                {
                                    "Szoba azonosító": "23",
                                    "Foglalás azonosító": "945",
                                    "Időtartam (nap)": "7",
                                    "Előző foglalás időtartama": "1"
                                },
                                {
                                    "Szoba azonosító": "23",
                                    "Foglalás azonosító": "934",
                                    "Időtartam (nap)": "1",
                                    "Előző foglalás időtartama": "7"
                                },
                                {
                                    "Szoba azonosító": "24",
                                    "Foglalás azonosító": "852",
                                    "Időtartam (nap)": "2",
                                    "Előző foglalás időtartama": "0"
                                },
                                {
                                    "Szoba azonosító": "24",
                                    "Foglalás azonosító": "1415",
                                    "Időtartam (nap)": "3",
                                    "Előző foglalás időtartama": "2"
                                },
                                {
                                    "Szoba azonosító": "24",
                                    "Foglalás azonosító": "1167",
                                    "Időtartam (nap)": "1",
                                    "Előző foglalás időtartama": "3"
                                },
                                {
                                    "Szoba azonosító": "25",
                                    "Foglalás azonosító": "1362",
                                    "Időtartam (nap)": "2",
                                    "Előző foglalás időtartama": "0"
                                },
                                {
                                    "Szoba azonosító": "25",
                                    "Foglalás azonosító": "1052",
                                    "Időtartam (nap)": "3",
                                    "Előző foglalás időtartama": "2"
                                },
                                {
                                    "Szoba azonosító": "26",
                                    "Foglalás azonosító": "1388",
                                    "Időtartam (nap)": "3",
                                    "Előző foglalás időtartama": "0"
                                },
                                {
                                    "Szoba azonosító": "26",
                                    "Foglalás azonosító": "1158",
                                    "Időtartam (nap)": "2",
                                    "Előző foglalás időtartama": "3"
                                },
                                {
                                    "Szoba azonosító": "27",
                                    "Foglalás azonosító": "1275",
                                    "Időtartam (nap)": "6",
                                    "Előző foglalás időtartama": "0"
                                },
                                {
                                    "Szoba azonosító": "27",
                                    "Foglalás azonosító": "1377",
                                    "Időtartam (nap)": "1",
                                    "Előző foglalás időtartama": "6"
                                },
                                {
                                    "Szoba azonosító": "27",
                                    "Foglalás azonosító": "1476",
                                    "Időtartam (nap)": "1",
                                    "Előző foglalás időtartama": "1"
                                },
                                {
                                    "Szoba azonosító": "27",
                                    "Foglalás azonosító": "1031",
                                    "Időtartam (nap)": "2",
                                    "Előző foglalás időtartama": "1"
                                },
                                {
                                    "Szoba azonosító": "27",
                                    "Foglalás azonosító": "1082",
                                    "Időtartam (nap)": "5",
                                    "Előző foglalás időtartama": "2"
                                },
                                {
                                    "Szoba azonosító": "27",
                                    "Foglalás azonosító": "807",
                                    "Időtartam (nap)": "2",
                                    "Előző foglalás időtartama": "5"
                                },
                                {
                                    "Szoba azonosító": "27",
                                    "Foglalás azonosító": "758",
                                    "Időtartam (nap)": "3",
                                    "Előző foglalás időtartama": "2"
                                },
                                {
                                    "Szoba azonosító": "28",
                                    "Foglalás azonosító": "725",
                                    "Időtartam (nap)": "5",
                                    "Előző foglalás időtartama": "0"
                                },
                                {
                                    "Szoba azonosító": "28",
                                    "Foglalás azonosító": "872",
                                    "Időtartam (nap)": "5",
                                    "Előző foglalás időtartama": "5"
                                },
                                {
                                    "Szoba azonosító": "28",
                                    "Foglalás azonosító": "901",
                                    "Időtartam (nap)": "4",
                                    "Előző foglalás időtartama": "5"
                                },
                                {
                                    "Szoba azonosító": "28",
                                    "Foglalás azonosító": "886",
                                    "Időtartam (nap)": "4",
                                    "Előző foglalás időtartama": "4"
                                },
                                {
                                    "Szoba azonosító": "28",
                                    "Foglalás azonosító": "1459",
                                    "Időtartam (nap)": "2",
                                    "Előző foglalás időtartama": "4"
                                },
                                {
                                    "Szoba azonosító": "28",
                                    "Foglalás azonosító": "1150",
                                    "Időtartam (nap)": "6",
                                    "Előző foglalás időtartama": "2"
                                },
                                {
                                    "Szoba azonosító": "29",
                                    "Foglalás azonosító": "1185",
                                    "Időtartam (nap)": "5",
                                    "Előző foglalás időtartama": "0"
                                },
                                {
                                    "Szoba azonosító": "29",
                                    "Foglalás azonosító": "1235",
                                    "Időtartam (nap)": "7",
                                    "Előző foglalás időtartama": "5"
                                },
                                {
                                    "Szoba azonosító": "29",
                                    "Foglalás azonosító": "1568",
                                    "Időtartam (nap)": "7",
                                    "Előző foglalás időtartama": "7"
                                },
                                {
                                    "Szoba azonosító": "29",
                                    "Foglalás azonosító": "894",
                                    "Időtartam (nap)": "1",
                                    "Előző foglalás időtartama": "7"
                                },
                                {
                                    "Szoba azonosító": "29",
                                    "Foglalás azonosító": "1076",
                                    "Időtartam (nap)": "7",
                                    "Előző foglalás időtartama": "1"
                                },
                                {
                                    "Szoba azonosító": "29",
                                    "Foglalás azonosító": "611",
                                    "Időtartam (nap)": "5",
                                    "Előző foglalás időtartama": "7"
                                },
                                {
                                    "Szoba azonosító": "30",
                                    "Foglalás azonosító": "604",
                                    "Időtartam (nap)": "2",
                                    "Előző foglalás időtartama": "0"
                                },
                                {
                                    "Szoba azonosító": "30",
                                    "Foglalás azonosító": "1023",
                                    "Időtartam (nap)": "7",
                                    "Előző foglalás időtartama": "2"
                                },
                                {
                                    "Szoba azonosító": "30",
                                    "Foglalás azonosító": "1136",
                                    "Időtartam (nap)": "5",
                                    "Előző foglalás időtartama": "7"
                                },
                                {
                                    "Szoba azonosító": "31",
                                    "Foglalás azonosító": "606",
                                    "Időtartam (nap)": "1",
                                    "Előző foglalás időtartama": "0"
                                },
                                {
                                    "Szoba azonosító": "31",
                                    "Foglalás azonosító": "598",
                                    "Időtartam (nap)": "2",
                                    "Előző foglalás időtartama": "1"
                                },
                                {
                                    "Szoba azonosító": "31",
                                    "Foglalás azonosító": "728",
                                    "Időtartam (nap)": "4",
                                    "Előző foglalás időtartama": "2"
                                },
                                {
                                    "Szoba azonosító": "32",
                                    "Foglalás azonosító": "920",
                                    "Időtartam (nap)": "4",
                                    "Előző foglalás időtartama": "0"
                                },
                                {
                                    "Szoba azonosító": "33",
                                    "Foglalás azonosító": "1053",
                                    "Időtartam (nap)": "1",
                                    "Előző foglalás időtartama": "0"
                                },
                                {
                                    "Szoba azonosító": "33",
                                    "Foglalás azonosító": "1012",
                                    "Időtartam (nap)": "7",
                                    "Előző foglalás időtartama": "1"
                                },
                                {
                                    "Szoba azonosító": "33",
                                    "Foglalás azonosító": "624",
                                    "Időtartam (nap)": "6",
                                    "Előző foglalás időtartama": "7"
                                },
                                {
                                    "Szoba azonosító": "33",
                                    "Foglalás azonosító": "1381",
                                    "Időtartam (nap)": "6",
                                    "Előző foglalás időtartama": "6"
                                },
                                {
                                    "Szoba azonosító": "33",
                                    "Foglalás azonosító": "1344",
                                    "Időtartam (nap)": "5",
                                    "Előző foglalás időtartama": "6"
                                },
                                {
                                    "Szoba azonosító": "33",
                                    "Foglalás azonosító": "1321",
                                    "Időtartam (nap)": "4",
                                    "Előző foglalás időtartama": "5"
                                },
                                {
                                    "Szoba azonosító": "34",
                                    "Foglalás azonosító": "777",
                                    "Időtartam (nap)": "3",
                                    "Előző foglalás időtartama": "0"
                                },
                                {
                                    "Szoba azonosító": "34",
                                    "Foglalás azonosító": "821",
                                    "Időtartam (nap)": "1",
                                    "Előző foglalás időtartama": "3"
                                },
                                {
                                    "Szoba azonosító": "34",
                                    "Foglalás azonosító": "904",
                                    "Időtartam (nap)": "2",
                                    "Előző foglalás időtartama": "1"
                                },
                                {
                                    "Szoba azonosító": "34",
                                    "Foglalás azonosító": "870",
                                    "Időtartam (nap)": "6",
                                    "Előző foglalás időtartama": "2"
                                },
                                {
                                    "Szoba azonosító": "35",
                                    "Foglalás azonosító": "971",
                                    "Időtartam (nap)": "3",
                                    "Előző foglalás időtartama": "0"
                                },
                                {
                                    "Szoba azonosító": "35",
                                    "Foglalás azonosító": "979",
                                    "Időtartam (nap)": "7",
                                    "Előző foglalás időtartama": "3"
                                },
                                {
                                    "Szoba azonosító": "35",
                                    "Foglalás azonosító": "829",
                                    "Időtartam (nap)": "2",
                                    "Előző foglalás időtartama": "7"
                                },
                                {
                                    "Szoba azonosító": "35",
                                    "Foglalás azonosító": "707",
                                    "Időtartam (nap)": "2",
                                    "Előző foglalás időtartama": "2"
                                },
                                {
                                    "Szoba azonosító": "35",
                                    "Foglalás azonosító": "686",
                                    "Időtartam (nap)": "6",
                                    "Előző foglalás időtartama": "2"
                                },
                                {
                                    "Szoba azonosító": "35",
                                    "Foglalás azonosító": "1411",
                                    "Időtartam (nap)": "1",
                                    "Előző foglalás időtartama": "6"
                                },
                                {
                                    "Szoba azonosító": "35",
                                    "Foglalás azonosító": "1480",
                                    "Időtartam (nap)": "37",
                                    "Előző foglalás időtartama": "1"
                                },
                                {
                                    "Szoba azonosító": "35",
                                    "Foglalás azonosító": "1436",
                                    "Időtartam (nap)": "1",
                                    "Előző foglalás időtartama": "37"
                                },
                                {
                                    "Szoba azonosító": "35",
                                    "Foglalás azonosító": "1529",
                                    "Időtartam (nap)": "4",
                                    "Előző foglalás időtartama": "1"
                                },
                                {
                                    "Szoba azonosító": "36",
                                    "Foglalás azonosító": "748",
                                    "Időtartam (nap)": "2",
                                    "Előző foglalás időtartama": "0"
                                },
                                {
                                    "Szoba azonosító": "36",
                                    "Foglalás azonosító": "750",
                                    "Időtartam (nap)": "6",
                                    "Előző foglalás időtartama": "2"
                                },
                                {
                                    "Szoba azonosító": "36",
                                    "Foglalás azonosító": "985",
                                    "Időtartam (nap)": "6",
                                    "Előző foglalás időtartama": "6"
                                },
                                {
                                    "Szoba azonosító": "36",
                                    "Foglalás azonosító": "919",
                                    "Időtartam (nap)": "1",
                                    "Előző foglalás időtartama": "6"
                                },
                                {
                                    "Szoba azonosító": "36",
                                    "Foglalás azonosító": "895",
                                    "Időtartam (nap)": "5",
                                    "Előző foglalás időtartama": "1"
                                },
                                {
                                    "Szoba azonosító": "36",
                                    "Foglalás azonosító": "1003",
                                    "Időtartam (nap)": "4",
                                    "Előző foglalás időtartama": "5"
                                },
                                {
                                    "Szoba azonosító": "37",
                                    "Foglalás azonosító": "705",
                                    "Időtartam (nap)": "4",
                                    "Előző foglalás időtartama": "0"
                                },
                                {
                                    "Szoba azonosító": "37",
                                    "Foglalás azonosító": "688",
                                    "Időtartam (nap)": "2",
                                    "Előző foglalás időtartama": "4"
                                },
                                {
                                    "Szoba azonosító": "37",
                                    "Foglalás azonosító": "1335",
                                    "Időtartam (nap)": "7",
                                    "Előző foglalás időtartama": "2"
                                },
                                {
                                    "Szoba azonosító": "38",
                                    "Foglalás azonosító": "1416",
                                    "Időtartam (nap)": "5",
                                    "Előző foglalás időtartama": "0"
                                },
                                {
                                    "Szoba azonosító": "38",
                                    "Foglalás azonosító": "1351",
                                    "Időtartam (nap)": "4",
                                    "Előző foglalás időtartama": "5"
                                },
                                {
                                    "Szoba azonosító": "38",
                                    "Foglalás azonosító": "1556",
                                    "Időtartam (nap)": "6",
                                    "Előző foglalás időtartama": "4"
                                },
                                {
                                    "Szoba azonosító": "38",
                                    "Foglalás azonosító": "1478",
                                    "Időtartam (nap)": "4",
                                    "Előző foglalás időtartama": "6"
                                },
                                {
                                    "Szoba azonosító": "38",
                                    "Foglalás azonosító": "627",
                                    "Időtartam (nap)": "6",
                                    "Előző foglalás időtartama": "4"
                                },
                                {
                                    "Szoba azonosító": "38",
                                    "Foglalás azonosító": "1033",
                                    "Időtartam (nap)": "2",
                                    "Előző foglalás időtartama": "6"
                                },
                                {
                                    "Szoba azonosító": "38",
                                    "Foglalás azonosító": "1078",
                                    "Időtartam (nap)": "7",
                                    "Előző foglalás időtartama": "2"
                                },
                                {
                                    "Szoba azonosító": "38",
                                    "Foglalás azonosító": "1060",
                                    "Időtartam (nap)": "2",
                                    "Előző foglalás időtartama": "7"
                                },
                                {
                                    "Szoba azonosító": "39",
                                    "Foglalás azonosító": "899",
                                    "Időtartam (nap)": "6",
                                    "Előző foglalás időtartama": "0"
                                },
                                {
                                    "Szoba azonosító": "39",
                                    "Foglalás azonosító": "601",
                                    "Időtartam (nap)": "6",
                                    "Előző foglalás időtartama": "6"
                                },
                                {
                                    "Szoba azonosító": "39",
                                    "Foglalás azonosító": "1435",
                                    "Időtartam (nap)": "7",
                                    "Előző foglalás időtartama": "6"
                                },
                                {
                                    "Szoba azonosító": "39",
                                    "Foglalás azonosító": "1454",
                                    "Időtartam (nap)": "1",
                                    "Előző foglalás időtartama": "7"
                                },
                                {
                                    "Szoba azonosító": "39",
                                    "Foglalás azonosító": "1538",
                                    "Időtartam (nap)": "2",
                                    "Előző foglalás időtartama": "1"
                                },
                                {
                                    "Szoba azonosító": "39",
                                    "Foglalás azonosító": "1380",
                                    "Időtartam (nap)": "5",
                                    "Előző foglalás időtartama": "2"
                                },
                                {
                                    "Szoba azonosító": "39",
                                    "Foglalás azonosító": "1214",
                                    "Időtartam (nap)": "5",
                                    "Előző foglalás időtartama": "5"
                                },
                                {
                                    "Szoba azonosító": "40",
                                    "Foglalás azonosító": "924",
                                    "Időtartam (nap)": "5",
                                    "Előző foglalás időtartama": "0"
                                },
                                {
                                    "Szoba azonosító": "40",
                                    "Foglalás azonosító": "932",
                                    "Időtartam (nap)": "6",
                                    "Előző foglalás időtartama": "5"
                                },
                                {
                                    "Szoba azonosító": "40",
                                    "Foglalás azonosító": "1118",
                                    "Időtartam (nap)": "5",
                                    "Előző foglalás időtartama": "6"
                                },
                                {
                                    "Szoba azonosító": "40",
                                    "Foglalás azonosító": "1018",
                                    "Időtartam (nap)": "5",
                                    "Előző foglalás időtartama": "5"
                                },
                                {
                                    "Szoba azonosító": "41",
                                    "Foglalás azonosító": "960",
                                    "Időtartam (nap)": "6",
                                    "Előző foglalás időtartama": "0"
                                },
                                {
                                    "Szoba azonosító": "41",
                                    "Foglalás azonosító": "1144",
                                    "Időtartam (nap)": "1",
                                    "Előző foglalás időtartama": "6"
                                },
                                {
                                    "Szoba azonosító": "42",
                                    "Foglalás azonosító": "1309",
                                    "Időtartam (nap)": "2",
                                    "Előző foglalás időtartama": "0"
                                },
                                {
                                    "Szoba azonosító": "42",
                                    "Foglalás azonosító": "1444",
                                    "Időtartam (nap)": "6",
                                    "Előző foglalás időtartama": "2"
                                },
                                {
                                    "Szoba azonosító": "42",
                                    "Foglalás azonosító": "851",
                                    "Időtartam (nap)": "7",
                                    "Előző foglalás időtartama": "6"
                                },
                                {
                                    "Szoba azonosító": "42",
                                    "Foglalás azonosító": "561",
                                    "Időtartam (nap)": "4",
                                    "Előző foglalás időtartama": "7"
                                },
                                {
                                    "Szoba azonosító": "42",
                                    "Foglalás azonosító": "590",
                                    "Időtartam (nap)": "5",
                                    "Előző foglalás időtartama": "4"
                                },
                                {
                                    "Szoba azonosító": "42",
                                    "Foglalás azonosító": "770",
                                    "Időtartam (nap)": "3",
                                    "Előző foglalás időtartama": "5"
                                },
                                {
                                    "Szoba azonosító": "43",
                                    "Foglalás azonosító": "670",
                                    "Időtartam (nap)": "4",
                                    "Előző foglalás időtartama": "0"
                                },
                                {
                                    "Szoba azonosító": "43",
                                    "Foglalás azonosító": "1019",
                                    "Időtartam (nap)": "4",
                                    "Előző foglalás időtartama": "4"
                                },
                                {
                                    "Szoba azonosító": "43",
                                    "Foglalás azonosító": "1088",
                                    "Időtartam (nap)": "2",
                                    "Előző foglalás időtartama": "4"
                                },
                                {
                                    "Szoba azonosító": "43",
                                    "Foglalás azonosító": "1553",
                                    "Időtartam (nap)": "5",
                                    "Előző foglalás időtartama": "2"
                                },
                                {
                                    "Szoba azonosító": "43",
                                    "Foglalás azonosító": "1524",
                                    "Időtartam (nap)": "1",
                                    "Előző foglalás időtartama": "5"
                                },
                                {
                                    "Szoba azonosító": "43",
                                    "Foglalás azonosító": "1207",
                                    "Időtartam (nap)": "1",
                                    "Előző foglalás időtartama": "1"
                                },
                                {
                                    "Szoba azonosító": "43",
                                    "Foglalás azonosító": "1227",
                                    "Időtartam (nap)": "5",
                                    "Előző foglalás időtartama": "1"
                                },
                                {
                                    "Szoba azonosító": "43",
                                    "Foglalás azonosító": "1270",
                                    "Időtartam (nap)": "4",
                                    "Előző foglalás időtartama": "5"
                                },
                                {
                                    "Szoba azonosító": "44",
                                    "Foglalás azonosító": "1295",
                                    "Időtartam (nap)": "2",
                                    "Előző foglalás időtartama": "0"
                                },
                                {
                                    "Szoba azonosító": "44",
                                    "Foglalás azonosító": "1552",
                                    "Időtartam (nap)": "2",
                                    "Előző foglalás időtartama": "2"
                                },
                                {
                                    "Szoba azonosító": "44",
                                    "Foglalás azonosító": "1425",
                                    "Időtartam (nap)": "2",
                                    "Előző foglalás időtartama": "2"
                                },
                                {
                                    "Szoba azonosító": "44",
                                    "Foglalás azonosító": "658",
                                    "Időtartam (nap)": "6",
                                    "Előző foglalás időtartama": "2"
                                },
                                {
                                    "Szoba azonosító": "44",
                                    "Foglalás azonosító": "589",
                                    "Időtartam (nap)": "2",
                                    "Előző foglalás időtartama": "6"
                                },
                                {
                                    "Szoba azonosító": "44",
                                    "Foglalás azonosító": "823",
                                    "Időtartam (nap)": "2",
                                    "Előző foglalás időtartama": "2"
                                },
                                {
                                    "Szoba azonosító": "45",
                                    "Foglalás azonosító": "802",
                                    "Időtartam (nap)": "7",
                                    "Előző foglalás időtartama": "0"
                                },
                                {
                                    "Szoba azonosító": "45",
                                    "Foglalás azonosító": "800",
                                    "Időtartam (nap)": "5",
                                    "Előző foglalás időtartama": "7"
                                },
                                {
                                    "Szoba azonosító": "45",
                                    "Foglalás azonosító": "846",
                                    "Időtartam (nap)": "3",
                                    "Előző foglalás időtartama": "5"
                                },
                                {
                                    "Szoba azonosító": "45",
                                    "Foglalás azonosító": "1303",
                                    "Időtartam (nap)": "2",
                                    "Előző foglalás időtartama": "3"
                                },
                                {
                                    "Szoba azonosító": "45",
                                    "Foglalás azonosító": "1135",
                                    "Időtartam (nap)": "3",
                                    "Előző foglalás időtartama": "2"
                                },
                                {
                                    "Szoba azonosító": "46",
                                    "Foglalás azonosító": "1187",
                                    "Időtartam (nap)": "7",
                                    "Előző foglalás időtartama": "0"
                                },
                                {
                                    "Szoba azonosító": "46",
                                    "Foglalás azonosító": "1291",
                                    "Időtartam (nap)": "3",
                                    "Előző foglalás időtartama": "7"
                                },
                                {
                                    "Szoba azonosító": "46",
                                    "Foglalás azonosító": "1515",
                                    "Időtartam (nap)": "4",
                                    "Előző foglalás időtartama": "3"
                                },
                                {
                                    "Szoba azonosító": "46",
                                    "Foglalás azonosító": "752",
                                    "Időtartam (nap)": "5",
                                    "Előző foglalás időtartama": "4"
                                },
                                {
                                    "Szoba azonosító": "47",
                                    "Foglalás azonosító": "955",
                                    "Időtartam (nap)": "1",
                                    "Előző foglalás időtartama": "0"
                                },
                                {
                                    "Szoba azonosító": "47",
                                    "Foglalás azonosító": "1056",
                                    "Időtartam (nap)": "7",
                                    "Előző foglalás időtartama": "1"
                                },
                                {
                                    "Szoba azonosító": "48",
                                    "Foglalás azonosító": "986",
                                    "Időtartam (nap)": "5",
                                    "Előző foglalás időtartama": "0"
                                },
                                {
                                    "Szoba azonosító": "48",
                                    "Foglalás azonosító": "914",
                                    "Időtartam (nap)": "5",
                                    "Előző foglalás időtartama": "5"
                                },
                                {
                                    "Szoba azonosító": "48",
                                    "Foglalás azonosító": "824",
                                    "Időtartam (nap)": "2",
                                    "Előző foglalás időtartama": "5"
                                },
                                {
                                    "Szoba azonosító": "48",
                                    "Foglalás azonosító": "603",
                                    "Időtartam (nap)": "3",
                                    "Előző foglalás időtartama": "2"
                                },
                                {
                                    "Szoba azonosító": "48",
                                    "Foglalás azonosító": "628",
                                    "Időtartam (nap)": "2",
                                    "Előző foglalás időtartama": "3"
                                },
                                {
                                    "Szoba azonosító": "48",
                                    "Foglalás azonosító": "1546",
                                    "Időtartam (nap)": "3",
                                    "Előző foglalás időtartama": "2"
                                },
                                {
                                    "Szoba azonosító": "48",
                                    "Foglalás azonosító": "1547",
                                    "Időtartam (nap)": "1",
                                    "Előző foglalás időtartama": "3"
                                },
                                {
                                    "Szoba azonosító": "48",
                                    "Foglalás azonosító": "1581",
                                    "Időtartam (nap)": "5",
                                    "Előző foglalás időtartama": "1"
                                },
                                {
                                    "Szoba azonosító": "48",
                                    "Foglalás azonosító": "1243",
                                    "Időtartam (nap)": "6",
                                    "Előző foglalás időtartama": "5"
                                },
                                {
                                    "Szoba azonosító": "49",
                                    "Foglalás azonosító": "1221",
                                    "Időtartam (nap)": "2",
                                    "Előző foglalás időtartama": "0"
                                },
                                {
                                    "Szoba azonosító": "49",
                                    "Foglalás azonosító": "1200",
                                    "Időtartam (nap)": "7",
                                    "Előző foglalás időtartama": "2"
                                },
                                {
                                    "Szoba azonosító": "49",
                                    "Foglalás azonosító": "1536",
                                    "Időtartam (nap)": "6",
                                    "Előző foglalás időtartama": "7"
                                },
                                {
                                    "Szoba azonosító": "49",
                                    "Foglalás azonosító": "826",
                                    "Időtartam (nap)": "4",
                                    "Előző foglalás időtartama": "6"
                                },
                                {
                                    "Szoba azonosító": "49",
                                    "Foglalás azonosító": "793",
                                    "Időtartam (nap)": "6",
                                    "Előző foglalás időtartama": "4"
                                },
                                {
                                    "Szoba azonosító": "49",
                                    "Foglalás azonosító": "888",
                                    "Időtartam (nap)": "7",
                                    "Előző foglalás időtartama": "6"
                                },
                                {
                                    "Szoba azonosító": "49",
                                    "Foglalás azonosító": "1066",
                                    "Időtartam (nap)": "7",
                                    "Előző foglalás időtartama": "7"
                                },
                                {
                                    "Szoba azonosító": "50",
                                    "Foglalás azonosító": "1063",
                                    "Időtartam (nap)": "2",
                                    "Előző foglalás időtartama": "0"
                                },
                                {
                                    "Szoba azonosító": "50",
                                    "Foglalás azonosító": "787",
                                    "Időtartam (nap)": "3",
                                    "Előző foglalás időtartama": "2"
                                },
                                {
                                    "Szoba azonosító": "50",
                                    "Foglalás azonosító": "1224",
                                    "Időtartam (nap)": "1",
                                    "Előző foglalás időtartama": "3"
                                },
                                {
                                    "Szoba azonosító": "50",
                                    "Foglalás azonosító": "1272",
                                    "Időtartam (nap)": "1",
                                    "Előző foglalás időtartama": "1"
                                },
                                {
                                    "Szoba azonosító": "51",
                                    "Foglalás azonosító": "1165",
                                    "Időtartam (nap)": "5",
                                    "Előző foglalás időtartama": "0"
                                },
                                {
                                    "Szoba azonosító": "51",
                                    "Foglalás azonosító": "1550",
                                    "Időtartam (nap)": "1",
                                    "Előző foglalás időtartama": "5"
                                },
                                {
                                    "Szoba azonosító": "51",
                                    "Foglalás azonosító": "1477",
                                    "Időtartam (nap)": "6",
                                    "Előző foglalás időtartama": "1"
                                },
                                {
                                    "Szoba azonosító": "51",
                                    "Foglalás azonosító": "811",
                                    "Időtartam (nap)": "2",
                                    "Előző foglalás időtartama": "6"
                                },
                                {
                                    "Szoba azonosító": "51",
                                    "Foglalás azonosító": "865",
                                    "Időtartam (nap)": "7",
                                    "Előző foglalás időtartama": "2"
                                },
                                {
                                    "Szoba azonosító": "52",
                                    "Foglalás azonosító": "822",
                                    "Időtartam (nap)": "7",
                                    "Előző foglalás időtartama": "0"
                                },
                                {
                                    "Szoba azonosító": "52",
                                    "Foglalás azonosító": "1431",
                                    "Időtartam (nap)": "5",
                                    "Előző foglalás időtartama": "7"
                                },
                                {
                                    "Szoba azonosító": "52",
                                    "Foglalás azonosító": "1534",
                                    "Időtartam (nap)": "5",
                                    "Előző foglalás időtartama": "5"
                                },
                                {
                                    "Szoba azonosító": "52",
                                    "Foglalás azonosító": "1258",
                                    "Időtartam (nap)": "5",
                                    "Előző foglalás időtartama": "5"
                                },
                                {
                                    "Szoba azonosító": "52",
                                    "Foglalás azonosító": "1202",
                                    "Időtartam (nap)": "2",
                                    "Előző foglalás időtartama": "5"
                                },
                                {
                                    "Szoba azonosító": "53",
                                    "Foglalás azonosító": "855",
                                    "Időtartam (nap)": "1",
                                    "Előző foglalás időtartama": "0"
                                },
                                {
                                    "Szoba azonosító": "53",
                                    "Foglalás azonosító": "987",
                                    "Időtartam (nap)": "4",
                                    "Előző foglalás időtartama": "1"
                                },
                                {
                                    "Szoba azonosító": "54",
                                    "Foglalás azonosító": "889",
                                    "Időtartam (nap)": "2",
                                    "Előző foglalás időtartama": "0"
                                },
                                {
                                    "Szoba azonosító": "54",
                                    "Foglalás azonosító": "1096",
                                    "Időtartam (nap)": "4",
                                    "Előző foglalás időtartama": "2"
                                },
                                {
                                    "Szoba azonosító": "54",
                                    "Foglalás azonosító": "622",
                                    "Időtartam (nap)": "7",
                                    "Előző foglalás időtartama": "4"
                                },
                                {
                                    "Szoba azonosító": "54",
                                    "Foglalás azonosító": "642",
                                    "Időtartam (nap)": "5",
                                    "Előző foglalás időtartama": "7"
                                },
                                {
                                    "Szoba azonosító": "54",
                                    "Foglalás azonosító": "668",
                                    "Időtartam (nap)": "1",
                                    "Előző foglalás időtartama": "5"
                                },
                                {
                                    "Szoba azonosító": "54",
                                    "Foglalás azonosító": "1328",
                                    "Időtartam (nap)": "4",
                                    "Előző foglalás időtartama": "1"
                                },
                                {
                                    "Szoba azonosító": "55",
                                    "Foglalás azonosító": "1327",
                                    "Időtartam (nap)": "6",
                                    "Előző foglalás időtartama": "0"
                                },
                                {
                                    "Szoba azonosító": "55",
                                    "Foglalás azonosító": "1386",
                                    "Időtartam (nap)": "2",
                                    "Előző foglalás időtartama": "6"
                                },
                                {
                                    "Szoba azonosító": "55",
                                    "Foglalás azonosító": "1232",
                                    "Időtartam (nap)": "7",
                                    "Előző foglalás időtartama": "2"
                                },
                                {
                                    "Szoba azonosító": "55",
                                    "Foglalás azonosító": "1163",
                                    "Időtartam (nap)": "2",
                                    "Előző foglalás időtartama": "7"
                                },
                                {
                                    "Szoba azonosító": "55",
                                    "Foglalás azonosító": "1512",
                                    "Időtartam (nap)": "1",
                                    "Előző foglalás időtartama": "2"
                                },
                                {
                                    "Szoba azonosító": "55",
                                    "Foglalás azonosító": "1520",
                                    "Időtartam (nap)": "1",
                                    "Előző foglalás időtartama": "1"
                                },
                                {
                                    "Szoba azonosító": "55",
                                    "Foglalás azonosító": "734",
                                    "Időtartam (nap)": "6",
                                    "Előző foglalás időtartama": "1"
                                },
                                {
                                    "Szoba azonosító": "55",
                                    "Foglalás azonosító": "1086",
                                    "Időtartam (nap)": "5",
                                    "Előző foglalás időtartama": "6"
                                },
                                {
                                    "Szoba azonosító": "56",
                                    "Foglalás azonosító": "935",
                                    "Időtartam (nap)": "4",
                                    "Előző foglalás időtartama": "0"
                                },
                                {
                                    "Szoba azonosító": "56",
                                    "Foglalás azonosító": "838",
                                    "Időtartam (nap)": "2",
                                    "Előző foglalás időtartama": "4"
                                },
                                {
                                    "Szoba azonosító": "57",
                                    "Foglalás azonosító": "1504",
                                    "Időtartam (nap)": "4",
                                    "Előző foglalás időtartama": "0"
                                },
                                {
                                    "Szoba azonosító": "57",
                                    "Foglalás azonosító": "1466",
                                    "Időtartam (nap)": "7",
                                    "Előző foglalás időtartama": "4"
                                },
                                {
                                    "Szoba azonosító": "57",
                                    "Foglalás azonosító": "1389",
                                    "Időtartam (nap)": "1",
                                    "Előző foglalás időtartama": "7"
                                },
                                {
                                    "Szoba azonosító": "57",
                                    "Foglalás azonosító": "1348",
                                    "Időtartam (nap)": "1",
                                    "Előző foglalás időtartama": "1"
                                },
                                {
                                    "Szoba azonosító": "58",
                                    "Foglalás azonosító": "1322",
                                    "Időtartam (nap)": "3",
                                    "Előző foglalás időtartama": "0"
                                },
                                {
                                    "Szoba azonosító": "58",
                                    "Foglalás azonosító": "1293",
                                    "Időtartam (nap)": "3",
                                    "Előző foglalás időtartama": "3"
                                },
                                {
                                    "Szoba azonosító": "58",
                                    "Foglalás azonosító": "1285",
                                    "Időtartam (nap)": "7",
                                    "Előző foglalás időtartama": "3"
                                },
                                {
                                    "Szoba azonosító": "58",
                                    "Foglalás azonosító": "1307",
                                    "Időtartam (nap)": "6",
                                    "Előző foglalás időtartama": "7"
                                },
                                {
                                    "Szoba azonosító": "58",
                                    "Foglalás azonosító": "1186",
                                    "Időtartam (nap)": "6",
                                    "Előző foglalás időtartama": "6"
                                },
                                {
                                    "Szoba azonosító": "58",
                                    "Foglalás azonosító": "1208",
                                    "Időtartam (nap)": "6",
                                    "Előző foglalás időtartama": "6"
                                },
                                {
                                    "Szoba azonosító": "58",
                                    "Foglalás azonosító": "1255",
                                    "Időtartam (nap)": "7",
                                    "Előző foglalás időtartama": "6"
                                },
                                {
                                    "Szoba azonosító": "58",
                                    "Foglalás azonosító": "1261",
                                    "Időtartam (nap)": "6",
                                    "Előző foglalás időtartama": "7"
                                },
                                {
                                    "Szoba azonosító": "58",
                                    "Foglalás azonosító": "1451",
                                    "Időtartam (nap)": "6",
                                    "Előző foglalás időtartama": "6"
                                },
                                {
                                    "Szoba azonosító": "58",
                                    "Foglalás azonosító": "719",
                                    "Időtartam (nap)": "3",
                                    "Előző foglalás időtartama": "6"
                                },
                                {
                                    "Szoba azonosító": "58",
                                    "Foglalás azonosító": "773",
                                    "Időtartam (nap)": "2",
                                    "Előző foglalás időtartama": "3"
                                },
                                {
                                    "Szoba azonosító": "58",
                                    "Foglalás azonosító": "883",
                                    "Időtartam (nap)": "5",
                                    "Előző foglalás időtartama": "2"
                                },
                                {
                                    "Szoba azonosító": "58",
                                    "Foglalás azonosító": "1113",
                                    "Időtartam (nap)": "3",
                                    "Előző foglalás időtartama": "5"
                                },
                                {
                                    "Szoba azonosító": "59",
                                    "Foglalás azonosító": "1084",
                                    "Időtartam (nap)": "2",
                                    "Előző foglalás időtartama": "0"
                                },
                                {
                                    "Szoba azonosító": "59",
                                    "Foglalás azonosító": "1080",
                                    "Időtartam (nap)": "1",
                                    "Előző foglalás időtartama": "2"
                                },
                                {
                                    "Szoba azonosító": "59",
                                    "Foglalás azonosító": "1573",
                                    "Időtartam (nap)": "1",
                                    "Előző foglalás időtartama": "1"
                                },
                                {
                                    "Szoba azonosító": "59",
                                    "Foglalás azonosító": "1239",
                                    "Időtartam (nap)": "2",
                                    "Előző foglalás időtartama": "1"
                                },
                                {
                                    "Szoba azonosító": "59",
                                    "Foglalás azonosító": "1191",
                                    "Időtartam (nap)": "6",
                                    "Előző foglalás időtartama": "2"
                                },
                                {
                                    "Szoba azonosító": "59",
                                    "Foglalás azonosító": "1170",
                                    "Időtartam (nap)": "5",
                                    "Előző foglalás időtartama": "6"
                                },
                                {
                                    "Szoba azonosító": "59",
                                    "Foglalás azonosító": "1288",
                                    "Időtartam (nap)": "3",
                                    "Előző foglalás időtartama": "5"
                                },
                                {
                                    "Szoba azonosító": "60",
                                    "Foglalás azonosító": "676",
                                    "Időtartam (nap)": "2",
                                    "Előző foglalás időtartama": "0"
                                },
                                {
                                    "Szoba azonosító": "61",
                                    "Foglalás azonosító": "756",
                                    "Időtartam (nap)": "6",
                                    "Előző foglalás időtartama": "0"
                                },
                                {
                                    "Szoba azonosító": "61",
                                    "Foglalás azonosító": "701",
                                    "Időtartam (nap)": "2",
                                    "Előző foglalás időtartama": "6"
                                },
                                {
                                    "Szoba azonosító": "61",
                                    "Foglalás azonosító": "1148",
                                    "Időtartam (nap)": "3",
                                    "Előző foglalás időtartama": "2"
                                },
                                {
                                    "Szoba azonosító": "61",
                                    "Foglalás azonosító": "1218",
                                    "Időtartam (nap)": "2",
                                    "Előző foglalás időtartama": "3"
                                },
                                {
                                    "Szoba azonosító": "61",
                                    "Foglalás azonosító": "1496",
                                    "Időtartam (nap)": "7",
                                    "Előző foglalás időtartama": "2"
                                },
                                {
                                    "Szoba azonosító": "62",
                                    "Foglalás azonosító": "1426",
                                    "Időtartam (nap)": "4",
                                    "Előző foglalás időtartama": "0"
                                },
                                {
                                    "Szoba azonosító": "62",
                                    "Foglalás azonosító": "702",
                                    "Időtartam (nap)": "5",
                                    "Előző foglalás időtartama": "4"
                                },
                                {
                                    "Szoba azonosító": "62",
                                    "Foglalás azonosító": "1081",
                                    "Időtartam (nap)": "7",
                                    "Előző foglalás időtartama": "5"
                                },
                                {
                                    "Szoba azonosító": "62",
                                    "Foglalás azonosító": "936",
                                    "Időtartam (nap)": "3",
                                    "Előző foglalás időtartama": "7"
                                },
                                {
                                    "Szoba azonosító": "62",
                                    "Foglalás azonosító": "938",
                                    "Időtartam (nap)": "1",
                                    "Előző foglalás időtartama": "3"
                                },
                                {
                                    "Szoba azonosító": "63",
                                    "Foglalás azonosító": "891",
                                    "Időtartam (nap)": "6",
                                    "Előző foglalás időtartama": "0"
                                },
                                {
                                    "Szoba azonosító": "63",
                                    "Foglalás azonosító": "845",
                                    "Időtartam (nap)": "1",
                                    "Előző foglalás időtartama": "6"
                                },
                                {
                                    "Szoba azonosító": "63",
                                    "Foglalás azonosító": "769",
                                    "Időtartam (nap)": "5",
                                    "Előző foglalás időtartama": "1"
                                },
                                {
                                    "Szoba azonosító": "63",
                                    "Foglalás azonosító": "625",
                                    "Időtartam (nap)": "3",
                                    "Előző foglalás időtartama": "5"
                                },
                                {
                                    "Szoba azonosító": "64",
                                    "Foglalás azonosító": "875",
                                    "Időtartam (nap)": "2",
                                    "Előző foglalás időtartama": "0"
                                },
                                {
                                    "Szoba azonosító": "64",
                                    "Foglalás azonosító": "1122",
                                    "Időtartam (nap)": "4",
                                    "Előző foglalás időtartama": "2"
                                },
                                {
                                    "Szoba azonosító": "64",
                                    "Foglalás azonosító": "1446",
                                    "Időtartam (nap)": "6",
                                    "Előző foglalás időtartama": "4"
                                },
                                {
                                    "Szoba azonosító": "64",
                                    "Foglalás azonosító": "1465",
                                    "Időtartam (nap)": "4",
                                    "Előző foglalás időtartama": "6"
                                },
                                {
                                    "Szoba azonosító": "64",
                                    "Foglalás azonosító": "1582",
                                    "Időtartam (nap)": "1",
                                    "Előző foglalás időtartama": "4"
                                },
                                {
                                    "Szoba azonosító": "64",
                                    "Foglalás azonosító": "1233",
                                    "Időtartam (nap)": "7",
                                    "Előző foglalás időtartama": "1"
                                },
                                {
                                    "Szoba azonosító": "65",
                                    "Foglalás azonosító": "650",
                                    "Időtartam (nap)": "6",
                                    "Előző foglalás időtartama": "0"
                                },
                                {
                                    "Szoba azonosító": "66",
                                    "Foglalás azonosító": "736",
                                    "Időtartam (nap)": "3",
                                    "Előző foglalás időtartama": "0"
                                },
                                {
                                    "Szoba azonosító": "66",
                                    "Foglalás azonosító": "950",
                                    "Időtartam (nap)": "3",
                                    "Előző foglalás időtartama": "3"
                                },
                                {
                                    "Szoba azonosító": "66",
                                    "Foglalás azonosító": "1234",
                                    "Időtartam (nap)": "3",
                                    "Előző foglalás időtartama": "3"
                                },
                                {
                                    "Szoba azonosító": "66",
                                    "Foglalás azonosító": "1264",
                                    "Időtartam (nap)": "4",
                                    "Előző foglalás időtartama": "3"
                                },
                                {
                                    "Szoba azonosító": "67",
                                    "Foglalás azonosító": "1382",
                                    "Időtartam (nap)": "1",
                                    "Előző foglalás időtartama": "0"
                                },
                                {
                                    "Szoba azonosító": "67",
                                    "Foglalás azonosító": "1584",
                                    "Időtartam (nap)": "1",
                                    "Előző foglalás időtartama": "1"
                                },
                                {
                                    "Szoba azonosító": "67",
                                    "Foglalás azonosító": "1580",
                                    "Időtartam (nap)": "5",
                                    "Előző foglalás időtartama": "1"
                                },
                                {
                                    "Szoba azonosító": "67",
                                    "Foglalás azonosító": "874",
                                    "Időtartam (nap)": "6",
                                    "Előző foglalás időtartama": "5"
                                },
                                {
                                    "Szoba azonosító": "67",
                                    "Foglalás azonosító": "638",
                                    "Időtartam (nap)": "5",
                                    "Előző foglalás időtartama": "6"
                                },
                                {
                                    "Szoba azonosító": "67",
                                    "Foglalás azonosító": "645",
                                    "Időtartam (nap)": "6",
                                    "Előző foglalás időtartama": "5"
                                },
                                {
                                    "Szoba azonosító": "68",
                                    "Foglalás azonosító": "563",
                                    "Időtartam (nap)": "5",
                                    "Előző foglalás időtartama": "0"
                                },
                                {
                                    "Szoba azonosító": "68",
                                    "Foglalás azonosító": "1027",
                                    "Időtartam (nap)": "7",
                                    "Előző foglalás időtartama": "5"
                                },
                                {
                                    "Szoba azonosító": "68",
                                    "Foglalás azonosító": "1324",
                                    "Időtartam (nap)": "4",
                                    "Előző foglalás időtartama": "7"
                                },
                                {
                                    "Szoba azonosító": "69",
                                    "Foglalás azonosító": "1246",
                                    "Időtartam (nap)": "7",
                                    "Előző foglalás időtartama": "0"
                                },
                                {
                                    "Szoba azonosító": "69",
                                    "Foglalás azonosító": "1225",
                                    "Időtartam (nap)": "5",
                                    "Előző foglalás időtartama": "7"
                                },
                                {
                                    "Szoba azonosító": "69",
                                    "Foglalás azonosító": "1055",
                                    "Időtartam (nap)": "5",
                                    "Előző foglalás időtartama": "5"
                                },
                                {
                                    "Szoba azonosító": "69",
                                    "Foglalás azonosító": "885",
                                    "Időtartam (nap)": "1",
                                    "Előző foglalás időtartama": "5"
                                },
                                {
                                    "Szoba azonosító": "70",
                                    "Foglalás azonosító": "860",
                                    "Időtartam (nap)": "2",
                                    "Előző foglalás időtartama": "0"
                                },
                                {
                                    "Szoba azonosító": "70",
                                    "Foglalás azonosító": "1006",
                                    "Időtartam (nap)": "3",
                                    "Előző foglalás időtartama": "2"
                                },
                                {
                                    "Szoba azonosító": "70",
                                    "Foglalás azonosító": "1126",
                                    "Időtartam (nap)": "3",
                                    "Előző foglalás időtartama": "3"
                                },
                                {
                                    "Szoba azonosító": "70",
                                    "Foglalás azonosító": "1092",
                                    "Időtartam (nap)": "3",
                                    "Előző foglalás időtartama": "3"
                                },
                                {
                                    "Szoba azonosító": "70",
                                    "Foglalás azonosító": "585",
                                    "Időtartam (nap)": "5",
                                    "Előző foglalás időtartama": "3"
                                },
                                {
                                    "Szoba azonosító": "70",
                                    "Foglalás azonosító": "704",
                                    "Időtartam (nap)": "3",
                                    "Előző foglalás időtartama": "5"
                                },
                                {
                                    "Szoba azonosító": "70",
                                    "Foglalás azonosító": "814",
                                    "Időtartam (nap)": "3",
                                    "Előző foglalás időtartama": "3"
                                },
                                {
                                    "Szoba azonosító": "70",
                                    "Foglalás azonosító": "1325",
                                    "Időtartam (nap)": "7",
                                    "Előző foglalás időtartama": "3"
                                },
                                {
                                    "Szoba azonosító": "70",
                                    "Foglalás azonosító": "1333",
                                    "Időtartam (nap)": "6",
                                    "Előző foglalás időtartama": "7"
                                },
                                {
                                    "Szoba azonosító": "70",
                                    "Foglalás azonosító": "1365",
                                    "Időtartam (nap)": "3",
                                    "Előző foglalás időtartama": "6"
                                },
                                {
                                    "Szoba azonosító": "70",
                                    "Foglalás azonosító": "1457",
                                    "Időtartam (nap)": "7",
                                    "Előző foglalás időtartama": "3"
                                },
                                {
                                    "Szoba azonosító": "71",
                                    "Foglalás azonosító": "712",
                                    "Időtartam (nap)": "1",
                                    "Előző foglalás időtartama": "0"
                                },
                                {
                                    "Szoba azonosító": "71",
                                    "Foglalás azonosító": "681",
                                    "Időtartam (nap)": "3",
                                    "Előző foglalás időtartama": "1"
                                },
                                {
                                    "Szoba azonosító": "71",
                                    "Foglalás azonosító": "1009",
                                    "Időtartam (nap)": "1",
                                    "Előző foglalás időtartama": "3"
                                },
                                {
                                    "Szoba azonosító": "72",
                                    "Foglalás azonosító": "902",
                                    "Időtartam (nap)": "5",
                                    "Előző foglalás időtartama": "0"
                                },
                                {
                                    "Szoba azonosító": "72",
                                    "Foglalás azonosító": "961",
                                    "Időtartam (nap)": "6",
                                    "Előző foglalás időtartama": "5"
                                },
                                {
                                    "Szoba azonosító": "72",
                                    "Foglalás azonosító": "1396",
                                    "Időtartam (nap)": "3",
                                    "Előző foglalás időtartama": "6"
                                },
                                {
                                    "Szoba azonosító": "72",
                                    "Foglalás azonosító": "1318",
                                    "Időtartam (nap)": "2",
                                    "Előző foglalás időtartama": "3"
                                },
                                {
                                    "Szoba azonosító": "73",
                                    "Foglalás azonosító": "1331",
                                    "Időtartam (nap)": "4",
                                    "Előző foglalás időtartama": "0"
                                },
                                {
                                    "Szoba azonosító": "73",
                                    "Foglalás azonosító": "1159",
                                    "Időtartam (nap)": "5",
                                    "Előző foglalás időtartama": "4"
                                },
                                {
                                    "Szoba azonosító": "73",
                                    "Foglalás azonosító": "1000",
                                    "Időtartam (nap)": "4",
                                    "Előző foglalás időtartama": "5"
                                },
                                {
                                    "Szoba azonosító": "73",
                                    "Foglalás azonosító": "714",
                                    "Időtartam (nap)": "7",
                                    "Előző foglalás időtartama": "4"
                                },
                                {
                                    "Szoba azonosító": "74",
                                    "Foglalás azonosító": "830",
                                    "Időtartam (nap)": "1",
                                    "Előző foglalás időtartama": "0"
                                },
                                {
                                    "Szoba azonosító": "74",
                                    "Foglalás azonosító": "797",
                                    "Időtartam (nap)": "5",
                                    "Előző foglalás időtartama": "1"
                                },
                                {
                                    "Szoba azonosító": "74",
                                    "Foglalás azonosító": "595",
                                    "Időtartam (nap)": "7",
                                    "Előző foglalás időtartama": "5"
                                },
                                {
                                    "Szoba azonosító": "74",
                                    "Foglalás azonosító": "1093",
                                    "Időtartam (nap)": "6",
                                    "Előző foglalás időtartama": "7"
                                },
                                {
                                    "Szoba azonosító": "74",
                                    "Foglalás azonosító": "963",
                                    "Időtartam (nap)": "1",
                                    "Előző foglalás időtartama": "6"
                                },
                                {
                                    "Szoba azonosító": "74",
                                    "Foglalás azonosító": "940",
                                    "Időtartam (nap)": "5",
                                    "Előző foglalás időtartama": "1"
                                },
                                {
                                    "Szoba azonosító": "74",
                                    "Foglalás azonosító": "877",
                                    "Időtartam (nap)": "4",
                                    "Előző foglalás időtartama": "5"
                                },
                                {
                                    "Szoba azonosító": "74",
                                    "Foglalás azonosító": "847",
                                    "Időtartam (nap)": "3",
                                    "Előző foglalás időtartama": "4"
                                },
                                {
                                    "Szoba azonosító": "74",
                                    "Foglalás azonosító": "1179",
                                    "Időtartam (nap)": "7",
                                    "Előző foglalás időtartama": "3"
                                },
                                {
                                    "Szoba azonosító": "75",
                                    "Foglalás azonosító": "1412",
                                    "Időtartam (nap)": "2",
                                    "Előző foglalás időtartama": "0"
                                },
                                {
                                    "Szoba azonosító": "75",
                                    "Foglalás azonosító": "1458",
                                    "Időtartam (nap)": "1",
                                    "Előző foglalás időtartama": "2"
                                },
                                {
                                    "Szoba azonosító": "75",
                                    "Foglalás azonosító": "1013",
                                    "Időtartam (nap)": "5",
                                    "Előző foglalás időtartama": "1"
                                },
                                {
                                    "Szoba azonosító": "76",
                                    "Foglalás azonosító": "976",
                                    "Időtartam (nap)": "2",
                                    "Előző foglalás időtartama": "0"
                                },
                                {
                                    "Szoba azonosító": "76",
                                    "Foglalás azonosító": "683",
                                    "Időtartam (nap)": "7",
                                    "Előző foglalás időtartama": "2"
                                },
                                {
                                    "Szoba azonosító": "76",
                                    "Foglalás azonosító": "1557",
                                    "Időtartam (nap)": "3",
                                    "Előző foglalás időtartama": "7"
                                },
                                {
                                    "Szoba azonosító": "77",
                                    "Foglalás azonosító": "1461",
                                    "Időtartam (nap)": "4",
                                    "Előző foglalás időtartama": "0"
                                },
                                {
                                    "Szoba azonosító": "77",
                                    "Foglalás azonosító": "1439",
                                    "Időtartam (nap)": "6",
                                    "Előző foglalás időtartama": "4"
                                },
                                {
                                    "Szoba azonosító": "77",
                                    "Foglalás azonosító": "698",
                                    "Időtartam (nap)": "4",
                                    "Előző foglalás időtartama": "6"
                                },
                                {
                                    "Szoba azonosító": "77",
                                    "Foglalás azonosító": "593",
                                    "Időtartam (nap)": "3",
                                    "Előző foglalás időtartama": "4"
                                },
                                {
                                    "Szoba azonosító": "77",
                                    "Foglalás azonosító": "982",
                                    "Időtartam (nap)": "3",
                                    "Előző foglalás időtartama": "3"
                                },
                                {
                                    "Szoba azonosító": "77",
                                    "Foglalás azonosító": "1104",
                                    "Időtartam (nap)": "1",
                                    "Előző foglalás időtartama": "3"
                                },
                                {
                                    "Szoba azonosító": "78",
                                    "Foglalás azonosító": "568",
                                    "Időtartam (nap)": "1",
                                    "Előző foglalás időtartama": "0"
                                },
                                {
                                    "Szoba azonosító": "78",
                                    "Foglalás azonosító": "700",
                                    "Időtartam (nap)": "5",
                                    "Előző foglalás időtartama": "1"
                                },
                                {
                                    "Szoba azonosító": "78",
                                    "Foglalás azonosító": "646",
                                    "Időtartam (nap)": "3",
                                    "Előző foglalás időtartama": "5"
                                },
                                {
                                    "Szoba azonosító": "78",
                                    "Foglalás azonosító": "1577",
                                    "Időtartam (nap)": "7",
                                    "Előző foglalás időtartama": "3"
                                },
                                {
                                    "Szoba azonosító": "78",
                                    "Foglalás azonosító": "1281",
                                    "Időtartam (nap)": "3",
                                    "Előző foglalás időtartama": "7"
                                },
                                {
                                    "Szoba azonosító": "78",
                                    "Foglalás azonosító": "1268",
                                    "Időtartam (nap)": "2",
                                    "Előző foglalás időtartama": "3"
                                },
                                {
                                    "Szoba azonosító": "79",
                                    "Foglalás azonosító": "1229",
                                    "Időtartam (nap)": "7",
                                    "Előző foglalás időtartama": "0"
                                },
                                {
                                    "Szoba azonosító": "79",
                                    "Foglalás azonosító": "1345",
                                    "Időtartam (nap)": "3",
                                    "Előző foglalás időtartama": "7"
                                },
                                {
                                    "Szoba azonosító": "79",
                                    "Foglalás azonosító": "1447",
                                    "Időtartam (nap)": "4",
                                    "Előző foglalás időtartama": "3"
                                },
                                {
                                    "Szoba azonosító": "79",
                                    "Foglalás azonosító": "583",
                                    "Időtartam (nap)": "6",
                                    "Előző foglalás időtartama": "4"
                                },
                                {
                                    "Szoba azonosító": "79",
                                    "Foglalás azonosító": "1054",
                                    "Időtartam (nap)": "1",
                                    "Előző foglalás időtartama": "6"
                                },
                                {
                                    "Szoba azonosító": "80",
                                    "Foglalás azonosító": "983",
                                    "Időtartam (nap)": "6",
                                    "Előző foglalás időtartama": "0"
                                },
                                {
                                    "Szoba azonosító": "80",
                                    "Foglalás azonosító": "1071",
                                    "Időtartam (nap)": "4",
                                    "Előző foglalás időtartama": "6"
                                },
                                {
                                    "Szoba azonosító": "80",
                                    "Foglalás azonosító": "929",
                                    "Időtartam (nap)": "2",
                                    "Előző foglalás időtartama": "4"
                                },
                                {
                                    "Szoba azonosító": "80",
                                    "Foglalás azonosító": "887",
                                    "Időtartam (nap)": "6",
                                    "Előző foglalás időtartama": "2"
                                },
                                {
                                    "Szoba azonosító": "80",
                                    "Foglalás azonosító": "667",
                                    "Időtartam (nap)": "6",
                                    "Előző foglalás időtartama": "6"
                                },
                                {
                                    "Szoba azonosító": "80",
                                    "Foglalás azonosító": "1367",
                                    "Időtartam (nap)": "3",
                                    "Előző foglalás időtartama": "6"
                                },
                                {
                                    "Szoba azonosító": "80",
                                    "Foglalás azonosító": "1279",
                                    "Időtartam (nap)": "5",
                                    "Előző foglalás időtartama": "3"
                                },
                                {
                                    "Szoba azonosító": "81",
                                    "Foglalás azonosító": "1366",
                                    "Időtartam (nap)": "5",
                                    "Előző foglalás időtartama": "0"
                                },
                                {
                                    "Szoba azonosító": "81",
                                    "Foglalás azonosító": "1443",
                                    "Időtartam (nap)": "7",
                                    "Előző foglalás időtartama": "5"
                                },
                                {
                                    "Szoba azonosító": "81",
                                    "Foglalás azonosító": "1464",
                                    "Időtartam (nap)": "7",
                                    "Előző foglalás időtartama": "7"
                                },
                                {
                                    "Szoba azonosító": "81",
                                    "Foglalás azonosító": "1562",
                                    "Időtartam (nap)": "3",
                                    "Előző foglalás időtartama": "7"
                                },
                                {
                                    "Szoba azonosító": "81",
                                    "Foglalás azonosító": "1506",
                                    "Időtartam (nap)": "3",
                                    "Előző foglalás időtartama": "3"
                                },
                                {
                                    "Szoba azonosító": "82",
                                    "Foglalás azonosító": "1406",
                                    "Időtartam (nap)": "1",
                                    "Előző foglalás időtartama": "0"
                                },
                                {
                                    "Szoba azonosító": "82",
                                    "Foglalás azonosító": "1277",
                                    "Időtartam (nap)": "5",
                                    "Előző foglalás időtartama": "1"
                                },
                                {
                                    "Szoba azonosító": "82",
                                    "Foglalás azonosító": "1341",
                                    "Időtartam (nap)": "2",
                                    "Előző foglalás időtartama": "5"
                                },
                                {
                                    "Szoba azonosító": "82",
                                    "Foglalás azonosító": "862",
                                    "Időtartam (nap)": "4",
                                    "Előző foglalás időtartama": "2"
                                },
                                {
                                    "Szoba azonosító": "82",
                                    "Foglalás azonosító": "871",
                                    "Időtartam (nap)": "5",
                                    "Előző foglalás időtartama": "4"
                                },
                                {
                                    "Szoba azonosító": "82",
                                    "Foglalás azonosító": "997",
                                    "Időtartam (nap)": "6",
                                    "Előző foglalás időtartama": "5"
                                },
                                {
                                    "Szoba azonosító": "83",
                                    "Foglalás azonosító": "995",
                                    "Időtartam (nap)": "5",
                                    "Előző foglalás időtartama": "0"
                                },
                                {
                                    "Szoba azonosító": "83",
                                    "Foglalás azonosító": "1119",
                                    "Időtartam (nap)": "6",
                                    "Előző foglalás időtartama": "5"
                                },
                                {
                                    "Szoba azonosító": "83",
                                    "Foglalás azonosító": "869",
                                    "Időtartam (nap)": "6",
                                    "Előző foglalás időtartama": "6"
                                },
                                {
                                    "Szoba azonosító": "83",
                                    "Foglalás azonosító": "878",
                                    "Időtartam (nap)": "6",
                                    "Előző foglalás időtartama": "6"
                                },
                                {
                                    "Szoba azonosító": "83",
                                    "Foglalás azonosító": "674",
                                    "Időtartam (nap)": "4",
                                    "Előző foglalás időtartama": "6"
                                },
                                {
                                    "Szoba azonosító": "83",
                                    "Foglalás azonosító": "572",
                                    "Időtartam (nap)": "7",
                                    "Előző foglalás időtartama": "4"
                                },
                                {
                                    "Szoba azonosító": "83",
                                    "Foglalás azonosító": "798",
                                    "Időtartam (nap)": "4",
                                    "Előző foglalás időtartama": "7"
                                },
                                {
                                    "Szoba azonosító": "83",
                                    "Foglalás azonosító": "1379",
                                    "Időtartam (nap)": "7",
                                    "Előző foglalás időtartama": "4"
                                },
                                {
                                    "Szoba azonosító": "84",
                                    "Foglalás azonosító": "1376",
                                    "Időtartam (nap)": "5",
                                    "Előző foglalás időtartama": "0"
                                },
                                {
                                    "Szoba azonosító": "84",
                                    "Foglalás azonosító": "1384",
                                    "Időtartam (nap)": "7",
                                    "Előző foglalás időtartama": "5"
                                },
                                {
                                    "Szoba azonosító": "84",
                                    "Foglalás azonosító": "819",
                                    "Időtartam (nap)": "2",
                                    "Előző foglalás időtartama": "7"
                                },
                                {
                                    "Szoba azonosító": "84",
                                    "Foglalás azonosító": "954",
                                    "Időtartam (nap)": "5",
                                    "Előző foglalás időtartama": "2"
                                },
                                {
                                    "Szoba azonosító": "85",
                                    "Foglalás azonosító": "1059",
                                    "Időtartam (nap)": "3",
                                    "Előző foglalás időtartama": "0"
                                },
                                {
                                    "Szoba azonosító": "85",
                                    "Foglalás azonosító": "647",
                                    "Időtartam (nap)": "3",
                                    "Előző foglalás időtartama": "3"
                                },
                                {
                                    "Szoba azonosító": "85",
                                    "Foglalás azonosító": "1320",
                                    "Időtartam (nap)": "1",
                                    "Előző foglalás időtartama": "3"
                                },
                                {
                                    "Szoba azonosító": "85",
                                    "Foglalás azonosító": "1513",
                                    "Időtartam (nap)": "7",
                                    "Előző foglalás időtartama": "1"
                                },
                                {
                                    "Szoba azonosító": "86",
                                    "Foglalás azonosító": "1453",
                                    "Időtartam (nap)": "1",
                                    "Előző foglalás időtartama": "0"
                                },
                                {
                                    "Szoba azonosító": "86",
                                    "Foglalás azonosító": "1079",
                                    "Időtartam (nap)": "4",
                                    "Előző foglalás időtartama": "1"
                                },
                                {
                                    "Szoba azonosító": "86",
                                    "Foglalás azonosító": "1108",
                                    "Időtartam (nap)": "1",
                                    "Előző foglalás időtartama": "4"
                                },
                                {
                                    "Szoba azonosító": "86",
                                    "Foglalás azonosító": "1057",
                                    "Időtartam (nap)": "5",
                                    "Előző foglalás időtartama": "1"
                                },
                                {
                                    "Szoba azonosító": "86",
                                    "Foglalás azonosító": "859",
                                    "Időtartam (nap)": "1",
                                    "Előző foglalás időtartama": "5"
                                },
                                {
                                    "Szoba azonosító": "87",
                                    "Foglalás azonosító": "844",
                                    "Időtartam (nap)": "1",
                                    "Előző foglalás időtartama": "0"
                                },
                                {
                                    "Szoba azonosító": "87",
                                    "Foglalás azonosító": "1103",
                                    "Időtartam (nap)": "3",
                                    "Előző foglalás időtartama": "1"
                                },
                                {
                                    "Szoba azonosító": "87",
                                    "Foglalás azonosító": "558",
                                    "Időtartam (nap)": "4",
                                    "Előző foglalás időtartama": "3"
                                },
                                {
                                    "Szoba azonosító": "87",
                                    "Foglalás azonosító": "1456",
                                    "Időtartam (nap)": "5",
                                    "Előző foglalás időtartama": "4"
                                },
                                {
                                    "Szoba azonosító": "87",
                                    "Foglalás azonosító": "1349",
                                    "Időtartam (nap)": "5",
                                    "Előző foglalás időtartama": "5"
                                },
                                {
                                    "Szoba azonosító": "88",
                                    "Foglalás azonosító": "1300",
                                    "Időtartam (nap)": "3",
                                    "Előző foglalás időtartama": "0"
                                },
                                {
                                    "Szoba azonosító": "88",
                                    "Foglalás azonosító": "1359",
                                    "Időtartam (nap)": "2",
                                    "Előző foglalás időtartama": "3"
                                },
                                {
                                    "Szoba azonosító": "88",
                                    "Foglalás azonosító": "1273",
                                    "Időtartam (nap)": "7",
                                    "Előző foglalás időtartama": "2"
                                },
                                {
                                    "Szoba azonosító": "88",
                                    "Foglalás azonosító": "1196",
                                    "Időtartam (nap)": "3",
                                    "Előző foglalás időtartama": "7"
                                },
                                {
                                    "Szoba azonosító": "88",
                                    "Foglalás azonosító": "1548",
                                    "Időtartam (nap)": "7",
                                    "Előző foglalás időtartama": "3"
                                },
                                {
                                    "Szoba azonosító": "88",
                                    "Foglalás azonosító": "1575",
                                    "Időtartam (nap)": "6",
                                    "Előző foglalás időtartama": "7"
                                },
                                {
                                    "Szoba azonosító": "88",
                                    "Foglalás azonosító": "757",
                                    "Időtartam (nap)": "7",
                                    "Előző foglalás időtartama": "6"
                                },
                                {
                                    "Szoba azonosító": "88",
                                    "Foglalás azonosító": "866",
                                    "Időtartam (nap)": "2",
                                    "Előző foglalás időtartama": "7"
                                },
                                {
                                    "Szoba azonosító": "89",
                                    "Foglalás azonosító": "1101",
                                    "Időtartam (nap)": "5",
                                    "Előző foglalás időtartama": "0"
                                },
                                {
                                    "Szoba azonosító": "89",
                                    "Foglalás azonosító": "1037",
                                    "Időtartam (nap)": "7",
                                    "Előző foglalás időtartama": "5"
                                },
                                {
                                    "Szoba azonosító": "89",
                                    "Foglalás azonosító": "817",
                                    "Időtartam (nap)": "3",
                                    "Előző foglalás időtartama": "7"
                                },
                                {
                                    "Szoba azonosító": "89",
                                    "Foglalás azonosító": "1521",
                                    "Időtartam (nap)": "7",
                                    "Előző foglalás időtartama": "3"
                                },
                                {
                                    "Szoba azonosító": "89",
                                    "Foglalás azonosító": "1189",
                                    "Időtartam (nap)": "6",
                                    "Előző foglalás időtartama": "7"
                                },
                                {
                                    "Szoba azonosító": "89",
                                    "Foglalás azonosító": "1269",
                                    "Időtartam (nap)": "2",
                                    "Előző foglalás időtartama": "6"
                                },
                                {
                                    "Szoba azonosító": "89",
                                    "Foglalás azonosító": "1253",
                                    "Időtartam (nap)": "2",
                                    "Előző foglalás időtartama": "2"
                                },
                                {
                                    "Szoba azonosító": "89",
                                    "Foglalás azonosító": "1399",
                                    "Időtartam (nap)": "2",
                                    "Előző foglalás időtartama": "2"
                                },
                                {
                                    "Szoba azonosító": "90",
                                    "Foglalás azonosító": "1405",
                                    "Időtartam (nap)": "5",
                                    "Előző foglalás időtartama": "0"
                                },
                                {
                                    "Szoba azonosító": "90",
                                    "Foglalás azonosító": "1299",
                                    "Időtartam (nap)": "6",
                                    "Előző foglalás időtartama": "5"
                                },
                                {
                                    "Szoba azonosító": "90",
                                    "Foglalás azonosító": "1174",
                                    "Időtartam (nap)": "7",
                                    "Előző foglalás időtartama": "6"
                                },
                                {
                                    "Szoba azonosító": "90",
                                    "Foglalás azonosító": "729",
                                    "Időtartam (nap)": "2",
                                    "Előző foglalás időtartama": "7"
                                },
                                {
                                    "Szoba azonosító": "91",
                                    "Foglalás azonosító": "732",
                                    "Időtartam (nap)": "4",
                                    "Előző foglalás időtartama": "0"
                                },
                                {
                                    "Szoba azonosító": "91",
                                    "Foglalás azonosító": "636",
                                    "Időtartam (nap)": "6",
                                    "Előző foglalás időtartama": "4"
                                },
                                {
                                    "Szoba azonosító": "91",
                                    "Foglalás azonosító": "1213",
                                    "Időtartam (nap)": "3",
                                    "Előző foglalás időtartama": "6"
                                },
                                {
                                    "Szoba azonosító": "91",
                                    "Foglalás azonosító": "1397",
                                    "Időtartam (nap)": "4",
                                    "Előző foglalás időtartama": "3"
                                },
                                {
                                    "Szoba azonosító": "92",
                                    "Foglalás azonosító": "1555",
                                    "Időtartam (nap)": "4",
                                    "Előző foglalás időtartama": "0"
                                },
                                {
                                    "Szoba azonosító": "92",
                                    "Foglalás azonosító": "1527",
                                    "Időtartam (nap)": "2",
                                    "Előző foglalás időtartama": "4"
                                },
                                {
                                    "Szoba azonosító": "92",
                                    "Foglalás azonosító": "809",
                                    "Időtartam (nap)": "3",
                                    "Előző foglalás időtartama": "2"
                                },
                                {
                                    "Szoba azonosító": "92",
                                    "Foglalás azonosító": "841",
                                    "Időtartam (nap)": "6",
                                    "Előző foglalás időtartama": "3"
                                },
                                {
                                    "Szoba azonosító": "92",
                                    "Foglalás azonosító": "1016",
                                    "Időtartam (nap)": "2",
                                    "Előző foglalás időtartama": "6"
                                },
                                {
                                    "Szoba azonosító": "92",
                                    "Foglalás azonosító": "942",
                                    "Időtartam (nap)": "6",
                                    "Előző foglalás időtartama": "2"
                                },
                                {
                                    "Szoba azonosító": "93",
                                    "Foglalás azonosító": "741",
                                    "Időtartam (nap)": "7",
                                    "Előző foglalás időtartama": "0"
                                },
                                {
                                    "Szoba azonosító": "93",
                                    "Foglalás azonosító": "1391",
                                    "Időtartam (nap)": "4",
                                    "Előző foglalás időtartama": "7"
                                },
                                {
                                    "Szoba azonosító": "93",
                                    "Foglalás azonosító": "1355",
                                    "Időtartam (nap)": "2",
                                    "Előző foglalás időtartama": "4"
                                },
                                {
                                    "Szoba azonosító": "93",
                                    "Foglalás azonosító": "1217",
                                    "Időtartam (nap)": "1",
                                    "Előző foglalás időtartama": "2"
                                },
                                {
                                    "Szoba azonosító": "93",
                                    "Foglalás azonosító": "1169",
                                    "Időtartam (nap)": "4",
                                    "Előző foglalás időtartama": "1"
                                },
                                {
                                    "Szoba azonosító": "94",
                                    "Foglalás azonosító": "1241",
                                    "Időtartam (nap)": "7",
                                    "Előző foglalás időtartama": "0"
                                },
                                {
                                    "Szoba azonosító": "94",
                                    "Foglalás azonosító": "1368",
                                    "Időtartam (nap)": "1",
                                    "Előző foglalás időtartama": "7"
                                },
                                {
                                    "Szoba azonosító": "94",
                                    "Foglalás azonosító": "1305",
                                    "Időtartam (nap)": "2",
                                    "Előző foglalás időtartama": "1"
                                },
                                {
                                    "Szoba azonosító": "94",
                                    "Foglalás azonosító": "1312",
                                    "Időtartam (nap)": "3",
                                    "Előző foglalás időtartama": "2"
                                },
                                {
                                    "Szoba azonosító": "94",
                                    "Foglalás azonosító": "1518",
                                    "Időtartam (nap)": "2",
                                    "Előző foglalás időtartama": "3"
                                },
                                {
                                    "Szoba azonosító": "94",
                                    "Foglalás azonosító": "1564",
                                    "Időtartam (nap)": "7",
                                    "Előző foglalás időtartama": "2"
                                },
                                {
                                    "Szoba azonosító": "94",
                                    "Foglalás azonosító": "727",
                                    "Időtartam (nap)": "3",
                                    "Előző foglalás időtartama": "7"
                                },
                                {
                                    "Szoba azonosító": "94",
                                    "Foglalás azonosító": "665",
                                    "Időtartam (nap)": "7",
                                    "Előző foglalás időtartama": "3"
                                },
                                {
                                    "Szoba azonosító": "94",
                                    "Foglalás azonosító": "616",
                                    "Időtartam (nap)": "4",
                                    "Előző foglalás időtartama": "7"
                                },
                                {
                                    "Szoba azonosító": "94",
                                    "Foglalás azonosító": "975",
                                    "Időtartam (nap)": "5",
                                    "Előző foglalás időtartama": "4"
                                },
                                {
                                    "Szoba azonosító": "95",
                                    "Foglalás azonosító": "1048",
                                    "Időtartam (nap)": "3",
                                    "Előző foglalás időtartama": "0"
                                },
                                {
                                    "Szoba azonosító": "95",
                                    "Foglalás azonosító": "1097",
                                    "Időtartam (nap)": "4",
                                    "Előző foglalás időtartama": "3"
                                },
                                {
                                    "Szoba azonosító": "95",
                                    "Foglalás azonosító": "656",
                                    "Időtartam (nap)": "7",
                                    "Előző foglalás időtartama": "4"
                                },
                                {
                                    "Szoba azonosító": "95",
                                    "Foglalás azonosító": "1543",
                                    "Időtartam (nap)": "7",
                                    "Előző foglalás időtartama": "7"
                                },
                                {
                                    "Szoba azonosító": "96",
                                    "Foglalás azonosító": "1438",
                                    "Időtartam (nap)": "2",
                                    "Előző foglalás időtartama": "0"
                                },
                                {
                                    "Szoba azonosító": "96",
                                    "Foglalás azonosító": "1569",
                                    "Időtartam (nap)": "7",
                                    "Előző foglalás időtartama": "2"
                                },
                                {
                                    "Szoba azonosító": "96",
                                    "Foglalás azonosító": "1378",
                                    "Időtartam (nap)": "3",
                                    "Előző foglalás időtartama": "7"
                                },
                                {
                                    "Szoba azonosító": "96",
                                    "Foglalás azonosító": "671",
                                    "Időtartam (nap)": "4",
                                    "Előző foglalás időtartama": "3"
                                },
                                {
                                    "Szoba azonosító": "96",
                                    "Foglalás azonosító": "623",
                                    "Időtartam (nap)": "7",
                                    "Előző foglalás időtartama": "4"
                                },
                                {
                                    "Szoba azonosító": "96",
                                    "Foglalás azonosító": "607",
                                    "Időtartam (nap)": "4",
                                    "Előző foglalás időtartama": "7"
                                },
                                {
                                    "Szoba azonosító": "96",
                                    "Foglalás azonosító": "780",
                                    "Időtartam (nap)": "1",
                                    "Előző foglalás időtartama": "4"
                                },
                                {
                                    "Szoba azonosító": "97",
                                    "Foglalás azonosító": "836",
                                    "Időtartam (nap)": "2",
                                    "Előző foglalás időtartama": "0"
                                },
                                {
                                    "Szoba azonosító": "97",
                                    "Foglalás azonosító": "726",
                                    "Időtartam (nap)": "4",
                                    "Előző foglalás időtartama": "2"
                                },
                                {
                                    "Szoba azonosító": "97",
                                    "Foglalás azonosító": "718",
                                    "Időtartam (nap)": "7",
                                    "Előző foglalás időtartama": "4"
                                },
                                {
                                    "Szoba azonosító": "97",
                                    "Foglalás azonosító": "635",
                                    "Időtartam (nap)": "3",
                                    "Előző foglalás időtartama": "7"
                                },
                                {
                                    "Szoba azonosító": "97",
                                    "Foglalás azonosító": "1395",
                                    "Időtartam (nap)": "1",
                                    "Előző foglalás időtartama": "3"
                                },
                                {
                                    "Szoba azonosító": "97",
                                    "Foglalás azonosító": "1417",
                                    "Időtartam (nap)": "7",
                                    "Előző foglalás időtartama": "1"
                                },
                                {
                                    "Szoba azonosító": "97",
                                    "Foglalás azonosító": "1528",
                                    "Időtartam (nap)": "2",
                                    "Előző foglalás időtartama": "7"
                                },
                                {
                                    "Szoba azonosító": "98",
                                    "Foglalás azonosító": "1402",
                                    "Időtartam (nap)": "2",
                                    "Előző foglalás időtartama": "0"
                                },
                                {
                                    "Szoba azonosító": "98",
                                    "Foglalás azonosító": "631",
                                    "Időtartam (nap)": "6",
                                    "Előző foglalás időtartama": "2"
                                },
                                {
                                    "Szoba azonosító": "98",
                                    "Foglalás azonosító": "1050",
                                    "Időtartam (nap)": "6",
                                    "Előző foglalás időtartama": "6"
                                },
                                {
                                    "Szoba azonosító": "98",
                                    "Foglalás azonosító": "884",
                                    "Időtartam (nap)": "5",
                                    "Előző foglalás időtartama": "6"
                                },
                                {
                                    "Szoba azonosító": "99",
                                    "Foglalás azonosító": "1072",
                                    "Időtartam (nap)": "1",
                                    "Előző foglalás időtartama": "0"
                                },
                                {
                                    "Szoba azonosító": "99",
                                    "Foglalás azonosító": "632",
                                    "Időtartam (nap)": "1",
                                    "Előző foglalás időtartama": "1"
                                },
                                {
                                    "Szoba azonosító": "99",
                                    "Foglalás azonosító": "691",
                                    "Időtartam (nap)": "5",
                                    "Előző foglalás időtartama": "1"
                                },
                                {
                                    "Szoba azonosító": "99",
                                    "Foglalás azonosító": "1408",
                                    "Időtartam (nap)": "1",
                                    "Előző foglalás időtartama": "5"
                                },
                                {
                                    "Szoba azonosító": "99",
                                    "Foglalás azonosító": "1486",
                                    "Időtartam (nap)": "5",
                                    "Előző foglalás időtartama": "1"
                                },
                                {
                                    "Szoba azonosító": "100",
                                    "Foglalás azonosító": "1482",
                                    "Időtartam (nap)": "7",
                                    "Előző foglalás időtartama": "0"
                                },
                                {
                                    "Szoba azonosító": "100",
                                    "Foglalás azonosító": "1315",
                                    "Időtartam (nap)": "5",
                                    "Előző foglalás időtartama": "7"
                                },
                                {
                                    "Szoba azonosító": "100",
                                    "Foglalás azonosító": "637",
                                    "Időtartam (nap)": "5",
                                    "Előző foglalás időtartama": "5"
                                },
                                {
                                    "Szoba azonosító": "100",
                                    "Foglalás azonosító": "597",
                                    "Időtartam (nap)": "1",
                                    "Előző foglalás időtartama": "5"
                                },
                                {
                                    "Szoba azonosító": "101",
                                    "Foglalás azonosító": "715",
                                    "Időtartam (nap)": "3",
                                    "Előző foglalás időtartama": "0"
                                },
                                {
                                    "Szoba azonosító": "101",
                                    "Foglalás azonosító": "1332",
                                    "Időtartam (nap)": "6",
                                    "Előző foglalás időtartama": "3"
                                },
                                {
                                    "Szoba azonosító": "101",
                                    "Foglalás azonosító": "1516",
                                    "Időtartam (nap)": "4",
                                    "Előző foglalás időtartama": "6"
                                },
                                {
                                    "Szoba azonosító": "102",
                                    "Foglalás azonosító": "1343",
                                    "Időtartam (nap)": "2",
                                    "Előző foglalás időtartama": "0"
                                },
                                {
                                    "Szoba azonosító": "102",
                                    "Foglalás azonosító": "689",
                                    "Időtartam (nap)": "5",
                                    "Előző foglalás időtartama": "2"
                                },
                                {
                                    "Szoba azonosító": "103",
                                    "Foglalás azonosító": "992",
                                    "Időtartam (nap)": "7",
                                    "Előző foglalás időtartama": "0"
                                },
                                {
                                    "Szoba azonosító": "103",
                                    "Foglalás azonosító": "972",
                                    "Időtartam (nap)": "2",
                                    "Előző foglalás időtartama": "7"
                                },
                                {
                                    "Szoba azonosító": "103",
                                    "Foglalás azonosító": "1398",
                                    "Időtartam (nap)": "1",
                                    "Előző foglalás időtartama": "2"
                                },
                                {
                                    "Szoba azonosító": "103",
                                    "Foglalás azonosító": "1485",
                                    "Időtartam (nap)": "4",
                                    "Előző foglalás időtartama": "1"
                                },
                                {
                                    "Szoba azonosító": "104",
                                    "Foglalás azonosító": "1522",
                                    "Időtartam (nap)": "2",
                                    "Előző foglalás időtartama": "0"
                                },
                                {
                                    "Szoba azonosító": "104",
                                    "Foglalás azonosító": "1532",
                                    "Időtartam (nap)": "3",
                                    "Előző foglalás időtartama": "2"
                                },
                                {
                                    "Szoba azonosító": "104",
                                    "Foglalás azonosító": "1180",
                                    "Időtartam (nap)": "1",
                                    "Előző foglalás időtartama": "3"
                                },
                                {
                                    "Szoba azonosító": "104",
                                    "Foglalás azonosító": "837",
                                    "Időtartam (nap)": "4",
                                    "Előző foglalás időtartama": "1"
                                },
                                {
                                    "Szoba azonosító": "105",
                                    "Foglalás azonosító": "618",
                                    "Időtartam (nap)": "1",
                                    "Előző foglalás időtartama": "0"
                                },
                                {
                                    "Szoba azonosító": "105",
                                    "Foglalás azonosító": "1525",
                                    "Időtartam (nap)": "5",
                                    "Előző foglalás időtartama": "1"
                                },
                                {
                                    "Szoba azonosító": "106",
                                    "Foglalás azonosító": "1510",
                                    "Időtartam (nap)": "6",
                                    "Előző foglalás időtartama": "0"
                                },
                                {
                                    "Szoba azonosító": "106",
                                    "Foglalás azonosító": "1271",
                                    "Időtartam (nap)": "5",
                                    "Előző foglalás időtartama": "6"
                                },
                                {
                                    "Szoba azonosító": "106",
                                    "Foglalás azonosító": "1228",
                                    "Időtartam (nap)": "7",
                                    "Előző foglalás időtartama": "5"
                                },
                                {
                                    "Szoba azonosító": "106",
                                    "Foglalás azonosító": "1372",
                                    "Időtartam (nap)": "7",
                                    "Előző foglalás időtartama": "7"
                                },
                                {
                                    "Szoba azonosító": "106",
                                    "Foglalás azonosító": "610",
                                    "Időtartam (nap)": "3",
                                    "Előző foglalás időtartama": "7"
                                },
                                {
                                    "Szoba azonosító": "106",
                                    "Foglalás azonosító": "708",
                                    "Időtartam (nap)": "7",
                                    "Előző foglalás időtartama": "3"
                                },
                                {
                                    "Szoba azonosító": "107",
                                    "Foglalás azonosító": "586",
                                    "Időtartam (nap)": "6",
                                    "Előző foglalás időtartama": "0"
                                },
                                {
                                    "Szoba azonosító": "107",
                                    "Foglalás azonosító": "1354",
                                    "Időtartam (nap)": "1",
                                    "Előző foglalás időtartama": "6"
                                },
                                {
                                    "Szoba azonosító": "107",
                                    "Foglalás azonosító": "1250",
                                    "Időtartam (nap)": "4",
                                    "Előző foglalás időtartama": "1"
                                },
                                {
                                    "Szoba azonosító": "107",
                                    "Foglalás azonosító": "1494",
                                    "Időtartam (nap)": "2",
                                    "Előző foglalás időtartama": "4"
                                },
                                {
                                    "Szoba azonosító": "107",
                                    "Foglalás azonosító": "1452",
                                    "Időtartam (nap)": "6",
                                    "Előző foglalás időtartama": "2"
                                },
                                {
                                    "Szoba azonosító": "108",
                                    "Foglalás azonosító": "1392",
                                    "Időtartam (nap)": "6",
                                    "Előző foglalás időtartama": "0"
                                },
                                {
                                    "Szoba azonosító": "108",
                                    "Foglalás azonosító": "1102",
                                    "Időtartam (nap)": "1",
                                    "Előző foglalás időtartama": "6"
                                },
                                {
                                    "Szoba azonosító": "109",
                                    "Foglalás azonosító": "1083",
                                    "Időtartam (nap)": "1",
                                    "Előző foglalás időtartama": "0"
                                },
                                {
                                    "Szoba azonosító": "109",
                                    "Foglalás azonosító": "621",
                                    "Időtartam (nap)": "7",
                                    "Előző foglalás időtartama": "1"
                                },
                                {
                                    "Szoba azonosító": "109",
                                    "Foglalás azonosító": "614",
                                    "Időtartam (nap)": "4",
                                    "Előző foglalás időtartama": "7"
                                },
                                {
                                    "Szoba azonosító": "109",
                                    "Foglalás azonosító": "654",
                                    "Időtartam (nap)": "5",
                                    "Előző foglalás időtartama": "4"
                                },
                                {
                                    "Szoba azonosító": "109",
                                    "Foglalás azonosító": "810",
                                    "Időtartam (nap)": "2",
                                    "Előző foglalás időtartama": "5"
                                },
                                {
                                    "Szoba azonosító": "109",
                                    "Foglalás azonosító": "1298",
                                    "Időtartam (nap)": "4",
                                    "Előző foglalás időtartama": "2"
                                },
                                {
                                    "Szoba azonosító": "109",
                                    "Foglalás azonosító": "1560",
                                    "Időtartam (nap)": "1",
                                    "Előző foglalás időtartama": "4"
                                },
                                {
                                    "Szoba azonosító": "110",
                                    "Foglalás azonosító": "1424",
                                    "Időtartam (nap)": "1",
                                    "Előző foglalás időtartama": "0"
                                },
                                {
                                    "Szoba azonosító": "110",
                                    "Foglalás azonosító": "1489",
                                    "Időtartam (nap)": "6",
                                    "Előző foglalás időtartama": "1"
                                },
                                {
                                    "Szoba azonosító": "110",
                                    "Foglalás azonosító": "1162",
                                    "Időtartam (nap)": "2",
                                    "Előző foglalás időtartama": "6"
                                },
                                {
                                    "Szoba azonosító": "110",
                                    "Foglalás azonosító": "685",
                                    "Időtartam (nap)": "1",
                                    "Előző foglalás időtartama": "2"
                                },
                                {
                                    "Szoba azonosító": "110",
                                    "Foglalás azonosító": "1109",
                                    "Időtartam (nap)": "5",
                                    "Előző foglalás időtartama": "1"
                                },
                                {
                                    "Szoba azonosító": "110",
                                    "Foglalás azonosító": "1041",
                                    "Időtartam (nap)": "3",
                                    "Előző foglalás időtartama": "5"
                                },
                                {
                                    "Szoba azonosító": "110",
                                    "Foglalás azonosító": "964",
                                    "Időtartam (nap)": "6",
                                    "Előző foglalás időtartama": "3"
                                },
                                {
                                    "Szoba azonosító": "110",
                                    "Foglalás azonosító": "931",
                                    "Időtartam (nap)": "5",
                                    "Előző foglalás időtartama": "6"
                                },
                                {
                                    "Szoba azonosító": "111",
                                    "Foglalás azonosító": "959",
                                    "Időtartam (nap)": "7",
                                    "Előző foglalás időtartama": "0"
                                },
                                {
                                    "Szoba azonosító": "111",
                                    "Foglalás azonosító": "605",
                                    "Időtartam (nap)": "7",
                                    "Előző foglalás időtartama": "7"
                                },
                                {
                                    "Szoba azonosító": "111",
                                    "Foglalás azonosító": "786",
                                    "Időtartam (nap)": "4",
                                    "Előző foglalás időtartama": "7"
                                },
                                {
                                    "Szoba azonosító": "111",
                                    "Foglalás azonosító": "1296",
                                    "Időtartam (nap)": "3",
                                    "Előző foglalás időtartama": "4"
                                },
                                {
                                    "Szoba azonosító": "111",
                                    "Foglalás azonosító": "1353",
                                    "Időtartam (nap)": "5",
                                    "Előző foglalás időtartama": "3"
                                },
                                {
                                    "Szoba azonosító": "112",
                                    "Foglalás azonosító": "1530",
                                    "Időtartam (nap)": "6",
                                    "Előző foglalás időtartama": "0"
                                },
                                {
                                    "Szoba azonosító": "112",
                                    "Foglalás azonosító": "776",
                                    "Időtartam (nap)": "4",
                                    "Előző foglalás időtartama": "6"
                                },
                                {
                                    "Szoba azonosító": "112",
                                    "Foglalás azonosító": "801",
                                    "Időtartam (nap)": "5",
                                    "Előző foglalás időtartama": "4"
                                },
                                {
                                    "Szoba azonosító": "112",
                                    "Foglalás azonosító": "921",
                                    "Időtartam (nap)": "1",
                                    "Előző foglalás időtartama": "5"
                                },
                                {
                                    "Szoba azonosító": "112",
                                    "Foglalás azonosító": "1124",
                                    "Időtartam (nap)": "6",
                                    "Előző foglalás időtartama": "1"
                                },
                                {
                                    "Szoba azonosító": "113",
                                    "Foglalás azonosító": "1085",
                                    "Időtartam (nap)": "4",
                                    "Előző foglalás időtartama": "0"
                                },
                                {
                                    "Szoba azonosító": "113",
                                    "Foglalás azonosító": "1029",
                                    "Időtartam (nap)": "5",
                                    "Előző foglalás időtartama": "4"
                                },
                                {
                                    "Szoba azonosító": "113",
                                    "Foglalás azonosító": "1495",
                                    "Időtartam (nap)": "7",
                                    "Előző foglalás időtartama": "5"
                                },
                                {
                                    "Szoba azonosító": "113",
                                    "Foglalás azonosító": "1499",
                                    "Időtartam (nap)": "2",
                                    "Előző foglalás időtartama": "7"
                                },
                                {
                                    "Szoba azonosító": "113",
                                    "Foglalás azonosító": "1263",
                                    "Időtartam (nap)": "1",
                                    "Előző foglalás időtartama": "2"
                                },
                                {
                                    "Szoba azonosító": "114",
                                    "Foglalás azonosító": "1540",
                                    "Időtartam (nap)": "3",
                                    "Előző foglalás időtartama": "0"
                                },
                                {
                                    "Szoba azonosító": "114",
                                    "Foglalás azonosító": "966",
                                    "Időtartam (nap)": "6",
                                    "Előző foglalás időtartama": "3"
                                },
                                {
                                    "Szoba azonosító": "114",
                                    "Foglalás azonosító": "827",
                                    "Időtartam (nap)": "7",
                                    "Előző foglalás időtartama": "6"
                                },
                                {
                                    "Szoba azonosító": "114",
                                    "Foglalás azonosító": "737",
                                    "Időtartam (nap)": "2",
                                    "Előző foglalás időtartama": "7"
                                },
                                {
                                    "Szoba azonosító": "115",
                                    "Foglalás azonosító": "596",
                                    "Időtartam (nap)": "7",
                                    "Előző foglalás időtartama": "0"
                                },
                                {
                                    "Szoba azonosító": "115",
                                    "Foglalás azonosító": "943",
                                    "Időtartam (nap)": "7",
                                    "Előző foglalás időtartama": "7"
                                },
                                {
                                    "Szoba azonosító": "115",
                                    "Foglalás azonosító": "1121",
                                    "Időtartam (nap)": "7",
                                    "Előző foglalás időtartama": "7"
                                },
                                {
                                    "Szoba azonosító": "115",
                                    "Foglalás azonosító": "1554",
                                    "Időtartam (nap)": "3",
                                    "Előző foglalás időtartama": "7"
                                },
                                {
                                    "Szoba azonosító": "115",
                                    "Foglalás azonosító": "1566",
                                    "Időtartam (nap)": "1",
                                    "Előző foglalás időtartama": "3"
                                },
                                {
                                    "Szoba azonosító": "115",
                                    "Foglalás azonosító": "1154",
                                    "Időtartam (nap)": "4",
                                    "Előző foglalás időtartama": "1"
                                },
                                {
                                    "Szoba azonosító": "115",
                                    "Foglalás azonosító": "1352",
                                    "Időtartam (nap)": "3",
                                    "Előző foglalás időtartama": "4"
                                },
                                {
                                    "Szoba azonosító": "116",
                                    "Foglalás azonosító": "1501",
                                    "Időtartam (nap)": "4",
                                    "Előző foglalás időtartama": "0"
                                },
                                {
                                    "Szoba azonosító": "116",
                                    "Foglalás azonosító": "1455",
                                    "Időtartam (nap)": "2",
                                    "Előző foglalás időtartama": "4"
                                },
                                {
                                    "Szoba azonosító": "117",
                                    "Foglalás azonosító": "1468",
                                    "Időtartam (nap)": "7",
                                    "Előző foglalás időtartama": "0"
                                },
                                {
                                    "Szoba azonosító": "117",
                                    "Foglalás azonosító": "1192",
                                    "Időtartam (nap)": "2",
                                    "Előző foglalás időtartama": "7"
                                },
                                {
                                    "Szoba azonosító": "117",
                                    "Foglalás azonosító": "1247",
                                    "Időtartam (nap)": "3",
                                    "Előző foglalás időtartama": "2"
                                },
                                {
                                    "Szoba azonosító": "117",
                                    "Foglalás azonosító": "1002",
                                    "Időtartam (nap)": "1",
                                    "Előző foglalás időtartama": "3"
                                },
                                {
                                    "Szoba azonosító": "117",
                                    "Foglalás azonosító": "962",
                                    "Időtartam (nap)": "4",
                                    "Előző foglalás időtartama": "1"
                                },
                                {
                                    "Szoba azonosító": "117",
                                    "Foglalás azonosító": "953",
                                    "Időtartam (nap)": "5",
                                    "Előző foglalás időtartama": "4"
                                },
                                {
                                    "Szoba azonosító": "117",
                                    "Foglalás azonosító": "612",
                                    "Időtartam (nap)": "2",
                                    "Előző foglalás időtartama": "5"
                                },
                                {
                                    "Szoba azonosító": "117",
                                    "Foglalás azonosító": "617",
                                    "Időtartam (nap)": "3",
                                    "Előző foglalás időtartama": "2"
                                },
                                {
                                    "Szoba azonosító": "118",
                                    "Foglalás azonosító": "716",
                                    "Időtartam (nap)": "1",
                                    "Előző foglalás időtartama": "0"
                                },
                                {
                                    "Szoba azonosító": "118",
                                    "Foglalás azonosító": "864",
                                    "Időtartam (nap)": "6",
                                    "Előző foglalás időtartama": "1"
                                },
                                {
                                    "Szoba azonosító": "118",
                                    "Foglalás azonosító": "994",
                                    "Időtartam (nap)": "7",
                                    "Előző foglalás időtartama": "6"
                                },
                                {
                                    "Szoba azonosító": "118",
                                    "Foglalás azonosító": "996",
                                    "Időtartam (nap)": "3",
                                    "Előző foglalás időtartama": "7"
                                },
                                {
                                    "Szoba azonosító": "118",
                                    "Foglalás azonosító": "1374",
                                    "Időtartam (nap)": "5",
                                    "Előző foglalás időtartama": "3"
                                },
                                {
                                    "Szoba azonosító": "118",
                                    "Foglalás azonosító": "1472",
                                    "Időtartam (nap)": "6",
                                    "Előző foglalás időtartama": "5"
                                },
                                {
                                    "Szoba azonosító": "118",
                                    "Foglalás azonosító": "1481",
                                    "Időtartam (nap)": "3",
                                    "Előző foglalás időtartama": "6"
                                },
                                {
                                    "Szoba azonosító": "119",
                                    "Foglalás azonosító": "1488",
                                    "Időtartam (nap)": "3",
                                    "Előző foglalás időtartama": "0"
                                },
                                {
                                    "Szoba azonosító": "119",
                                    "Foglalás azonosító": "1413",
                                    "Időtartam (nap)": "3",
                                    "Előző foglalás időtartama": "3"
                                },
                                {
                                    "Szoba azonosító": "119",
                                    "Foglalás azonosító": "1026",
                                    "Időtartam (nap)": "3",
                                    "Előző foglalás időtartama": "3"
                                },
                                {
                                    "Szoba azonosító": "119",
                                    "Foglalás azonosító": "706",
                                    "Időtartam (nap)": "2",
                                    "Előző foglalás időtartama": "3"
                                },
                                {
                                    "Szoba azonosító": "119",
                                    "Foglalás azonosító": "722",
                                    "Időtartam (nap)": "1",
                                    "Előző foglalás időtartama": "2"
                                },
                                {
                                    "Szoba azonosító": "120",
                                    "Foglalás azonosító": "762",
                                    "Időtartam (nap)": "3",
                                    "Előző foglalás időtartama": "0"
                                },
                                {
                                    "Szoba azonosító": "120",
                                    "Foglalás azonosító": "998",
                                    "Időtartam (nap)": "3",
                                    "Előző foglalás időtartama": "3"
                                },
                                {
                                    "Szoba azonosító": "120",
                                    "Foglalás azonosító": "1089",
                                    "Időtartam (nap)": "6",
                                    "Előző foglalás időtartama": "3"
                                },
                                {
                                    "Szoba azonosító": "120",
                                    "Foglalás azonosító": "1339",
                                    "Időtartam (nap)": "6",
                                    "Előző foglalás időtartama": "6"
                                },
                                {
                                    "Szoba azonosító": "120",
                                    "Foglalás azonosító": "1493",
                                    "Időtartam (nap)": "7",
                                    "Előző foglalás időtartama": "6"
                                },
                                {
                                    "Szoba azonosító": "120",
                                    "Foglalás azonosító": "1483",
                                    "Időtartam (nap)": "1",
                                    "Előző foglalás időtartama": "7"
                                },
                                {
                                    "Szoba azonosító": "121",
                                    "Foglalás azonosító": "1393",
                                    "Időtartam (nap)": "6",
                                    "Előző foglalás időtartama": "0"
                                },
                                {
                                    "Szoba azonosító": "121",
                                    "Foglalás azonosító": "1373",
                                    "Időtartam (nap)": "5",
                                    "Előző foglalás időtartama": "6"
                                },
                                {
                                    "Szoba azonosító": "121",
                                    "Foglalás azonosító": "1215",
                                    "Időtartam (nap)": "4",
                                    "Előző foglalás időtartama": "5"
                                },
                                {
                                    "Szoba azonosító": "121",
                                    "Foglalás azonosító": "1128",
                                    "Időtartam (nap)": "4",
                                    "Előző foglalás időtartama": "4"
                                },
                                {
                                    "Szoba azonosító": "121",
                                    "Foglalás azonosító": "1049",
                                    "Időtartam (nap)": "3",
                                    "Előző foglalás időtartama": "4"
                                },
                                {
                                    "Szoba azonosító": "121",
                                    "Foglalás azonosító": "858",
                                    "Időtartam (nap)": "5",
                                    "Előző foglalás időtartama": "3"
                                },
                                {
                                    "Szoba azonosító": "121",
                                    "Foglalás azonosító": "739",
                                    "Időtartam (nap)": "6",
                                    "Előző foglalás időtartama": "5"
                                },
                                {
                                    "Szoba azonosító": "121",
                                    "Foglalás azonosító": "735",
                                    "Időtartam (nap)": "6",
                                    "Előző foglalás időtartama": "6"
                                },
                                {
                                    "Szoba azonosító": "122",
                                    "Foglalás azonosító": "1036",
                                    "Időtartam (nap)": "2",
                                    "Előző foglalás időtartama": "0"
                                },
                                {
                                    "Szoba azonosító": "122",
                                    "Foglalás azonosító": "1007",
                                    "Időtartam (nap)": "2",
                                    "Előző foglalás időtartama": "2"
                                },
                                {
                                    "Szoba azonosító": "122",
                                    "Foglalás azonosító": "1062",
                                    "Időtartam (nap)": "3",
                                    "Előző foglalás időtartama": "2"
                                },
                                {
                                    "Szoba azonosító": "122",
                                    "Foglalás azonosító": "1209",
                                    "Időtartam (nap)": "1",
                                    "Előző foglalás időtartama": "3"
                                },
                                {
                                    "Szoba azonosító": "122",
                                    "Foglalás azonosító": "1245",
                                    "Időtartam (nap)": "2",
                                    "Előző foglalás időtartama": "1"
                                },
                                {
                                    "Szoba azonosító": "122",
                                    "Foglalás azonosító": "1166",
                                    "Időtartam (nap)": "4",
                                    "Előző foglalás időtartama": "2"
                                },
                                {
                                    "Szoba azonosító": "122",
                                    "Foglalás azonosító": "1385",
                                    "Időtartam (nap)": "5",
                                    "Előző foglalás időtartama": "4"
                                },
                                {
                                    "Szoba azonosító": "122",
                                    "Foglalás azonosító": "1337",
                                    "Időtartam (nap)": "2",
                                    "Előző foglalás időtartama": "5"
                                },
                                {
                                    "Szoba azonosító": "122",
                                    "Foglalás azonosító": "1440",
                                    "Időtartam (nap)": "3",
                                    "Előző foglalás időtartama": "2"
                                },
                                {
                                    "Szoba azonosító": "123",
                                    "Foglalás azonosító": "1282",
                                    "Időtartam (nap)": "6",
                                    "Előző foglalás időtartama": "0"
                                },
                                {
                                    "Szoba azonosító": "123",
                                    "Foglalás azonosító": "1223",
                                    "Időtartam (nap)": "1",
                                    "Előző foglalás időtartama": "6"
                                },
                                {
                                    "Szoba azonosító": "123",
                                    "Foglalás azonosító": "967",
                                    "Időtartam (nap)": "5",
                                    "Előző foglalás időtartama": "1"
                                },
                                {
                                    "Szoba azonosító": "123",
                                    "Foglalás azonosító": "923",
                                    "Időtartam (nap)": "4",
                                    "Előző foglalás időtartama": "5"
                                },
                                {
                                    "Szoba azonosító": "123",
                                    "Foglalás azonosító": "587",
                                    "Időtartam (nap)": "7",
                                    "Előző foglalás időtartama": "4"
                                },
                                {
                                    "Szoba azonosító": "124",
                                    "Foglalás azonosító": "861",
                                    "Időtartam (nap)": "1",
                                    "Előző foglalás időtartama": "0"
                                },
                                {
                                    "Szoba azonosító": "124",
                                    "Foglalás azonosító": "1210",
                                    "Időtartam (nap)": "4",
                                    "Előző foglalás időtartama": "1"
                                },
                                {
                                    "Szoba azonosító": "124",
                                    "Foglalás azonosító": "1330",
                                    "Időtartam (nap)": "7",
                                    "Előző foglalás időtartama": "4"
                                },
                                {
                                    "Szoba azonosító": "124",
                                    "Foglalás azonosító": "1419",
                                    "Időtartam (nap)": "3",
                                    "Előző foglalás időtartama": "7"
                                },
                                {
                                    "Szoba azonosító": "124",
                                    "Foglalás azonosító": "1403",
                                    "Időtartam (nap)": "6",
                                    "Előző foglalás időtartama": "3"
                                },
                                {
                                    "Szoba azonosító": "124",
                                    "Foglalás azonosító": "1531",
                                    "Időtartam (nap)": "6",
                                    "Előző foglalás időtartama": "6"
                                },
                                {
                                    "Szoba azonosító": "125",
                                    "Foglalás azonosító": "576",
                                    "Időtartam (nap)": "1",
                                    "Előző foglalás időtartama": "0"
                                },
                                {
                                    "Szoba azonosító": "126",
                                    "Foglalás azonosító": "754",
                                    "Időtartam (nap)": "4",
                                    "Előző foglalás időtartama": "0"
                                },
                                {
                                    "Szoba azonosító": "126",
                                    "Foglalás azonosító": "806",
                                    "Időtartam (nap)": "6",
                                    "Előző foglalás időtartama": "4"
                                },
                                {
                                    "Szoba azonosító": "126",
                                    "Foglalás azonosító": "1500",
                                    "Időtartam (nap)": "4",
                                    "Előző foglalás időtartama": "6"
                                },
                                {
                                    "Szoba azonosító": "126",
                                    "Foglalás azonosító": "1428",
                                    "Időtartam (nap)": "7",
                                    "Előző foglalás időtartama": "4"
                                },
                                {
                                    "Szoba azonosító": "126",
                                    "Foglalás azonosító": "1364",
                                    "Időtartam (nap)": "6",
                                    "Előző foglalás időtartama": "7"
                                },
                                {
                                    "Szoba azonosító": "126",
                                    "Foglalás azonosító": "1134",
                                    "Időtartam (nap)": "1",
                                    "Előző foglalás időtartama": "6"
                                },
                                {
                                    "Szoba azonosító": "127",
                                    "Foglalás azonosító": "1226",
                                    "Időtartam (nap)": "5",
                                    "Előző foglalás időtartama": "0"
                                },
                                {
                                    "Szoba azonosító": "127",
                                    "Foglalás azonosító": "1286",
                                    "Időtartam (nap)": "1",
                                    "Előző foglalás időtartama": "5"
                                },
                                {
                                    "Szoba azonosító": "127",
                                    "Foglalás azonosító": "1579",
                                    "Időtartam (nap)": "5",
                                    "Előző foglalás időtartama": "1"
                                },
                                {
                                    "Szoba azonosító": "127",
                                    "Foglalás azonosító": "643",
                                    "Időtartam (nap)": "2",
                                    "Előző foglalás időtartama": "5"
                                },
                                {
                                    "Szoba azonosító": "127",
                                    "Foglalás azonosító": "853",
                                    "Időtartam (nap)": "5",
                                    "Előző foglalás időtartama": "2"
                                },
                                {
                                    "Szoba azonosító": "127",
                                    "Foglalás azonosító": "879",
                                    "Időtartam (nap)": "2",
                                    "Előző foglalás időtartama": "5"
                                },
                                {
                                    "Szoba azonosító": "127",
                                    "Foglalás azonosító": "1034",
                                    "Időtartam (nap)": "6",
                                    "Előző foglalás időtartama": "2"
                                },
                                {
                                    "Szoba azonosító": "128",
                                    "Foglalás azonosító": "815",
                                    "Időtartam (nap)": "1",
                                    "Előző foglalás időtartama": "0"
                                },
                                {
                                    "Szoba azonosító": "128",
                                    "Foglalás azonosító": "717",
                                    "Időtartam (nap)": "2",
                                    "Előző foglalás időtartama": "1"
                                },
                                {
                                    "Szoba azonosító": "128",
                                    "Foglalás azonosító": "1574",
                                    "Időtartam (nap)": "1",
                                    "Előző foglalás időtartama": "2"
                                },
                                {
                                    "Szoba azonosító": "128",
                                    "Foglalás azonosító": "1583",
                                    "Időtartam (nap)": "4",
                                    "Előző foglalás időtartama": "1"
                                },
                                {
                                    "Szoba azonosító": "128",
                                    "Foglalás azonosító": "1290",
                                    "Időtartam (nap)": "1",
                                    "Előző foglalás időtartama": "4"
                                },
                                {
                                    "Szoba azonosító": "129",
                                    "Foglalás azonosító": "1360",
                                    "Időtartam (nap)": "6",
                                    "Előző foglalás időtartama": "0"
                                },
                                {
                                    "Szoba azonosító": "129",
                                    "Foglalás azonosító": "1445",
                                    "Időtartam (nap)": "7",
                                    "Előző foglalás időtartama": "6"
                                },
                                {
                                    "Szoba azonosító": "129",
                                    "Foglalás azonosító": "1509",
                                    "Időtartam (nap)": "6",
                                    "Előző foglalás időtartama": "7"
                                },
                                {
                                    "Szoba azonosító": "129",
                                    "Foglalás azonosító": "723",
                                    "Időtartam (nap)": "7",
                                    "Előző foglalás időtartama": "6"
                                },
                                {
                                    "Szoba azonosító": "130",
                                    "Foglalás azonosító": "779",
                                    "Időtartam (nap)": "6",
                                    "Előző foglalás időtartama": "0"
                                },
                                {
                                    "Szoba azonosító": "130",
                                    "Foglalás azonosító": "580",
                                    "Időtartam (nap)": "3",
                                    "Előző foglalás időtartama": "6"
                                },
                                {
                                    "Szoba azonosító": "130",
                                    "Foglalás azonosító": "613",
                                    "Időtartam (nap)": "3",
                                    "Előző foglalás időtartama": "3"
                                },
                                {
                                    "Szoba azonosító": "130",
                                    "Foglalás azonosító": "1040",
                                    "Időtartam (nap)": "1",
                                    "Előző foglalás időtartama": "3"
                                },
                                {
                                    "Szoba azonosító": "130",
                                    "Foglalás azonosító": "910",
                                    "Időtartam (nap)": "2",
                                    "Előző foglalás időtartama": "1"
                                },
                                {
                                    "Szoba azonosító": "130",
                                    "Foglalás azonosító": "1475",
                                    "Időtartam (nap)": "7",
                                    "Előző foglalás időtartama": "2"
                                },
                                {
                                    "Szoba azonosító": "131",
                                    "Foglalás azonosító": "1474",
                                    "Időtartam (nap)": "5",
                                    "Előző foglalás időtartama": "0"
                                },
                                {
                                    "Szoba azonosító": "131",
                                    "Foglalás azonosító": "881",
                                    "Időtartam (nap)": "6",
                                    "Előző foglalás időtartama": "5"
                                },
                                {
                                    "Szoba azonosító": "131",
                                    "Foglalás azonosító": "559",
                                    "Időtartam (nap)": "2",
                                    "Előző foglalás időtartama": "6"
                                },
                                {
                                    "Szoba azonosító": "131",
                                    "Foglalás azonosító": "655",
                                    "Időtartam (nap)": "1",
                                    "Előző foglalás időtartama": "2"
                                },
                                {
                                    "Szoba azonosító": "131",
                                    "Foglalás azonosító": "760",
                                    "Időtartam (nap)": "4",
                                    "Előző foglalás időtartama": "1"
                                },
                                {
                                    "Szoba azonosító": "132",
                                    "Foglalás azonosító": "619",
                                    "Időtartam (nap)": "7",
                                    "Előző foglalás időtartama": "0"
                                },
                                {
                                    "Szoba azonosító": "132",
                                    "Foglalás azonosító": "999",
                                    "Időtartam (nap)": "6",
                                    "Előző foglalás időtartama": "7"
                                },
                                {
                                    "Szoba azonosító": "132",
                                    "Foglalás azonosító": "1090",
                                    "Időtartam (nap)": "7",
                                    "Előző foglalás időtartama": "6"
                                },
                                {
                                    "Szoba azonosító": "132",
                                    "Foglalás azonosító": "1111",
                                    "Időtartam (nap)": "3",
                                    "Előző foglalás időtartama": "7"
                                },
                                {
                                    "Szoba azonosító": "132",
                                    "Foglalás azonosító": "1519",
                                    "Időtartam (nap)": "2",
                                    "Előző foglalás időtartama": "3"
                                },
                                {
                                    "Szoba azonosító": "132",
                                    "Foglalás azonosító": "1301",
                                    "Időtartam (nap)": "2",
                                    "Előző foglalás időtartama": "2"
                                },
                                {
                                    "Szoba azonosító": "133",
                                    "Foglalás azonosító": "1306",
                                    "Időtartam (nap)": "3",
                                    "Előző foglalás időtartama": "0"
                                },
                                {
                                    "Szoba azonosító": "133",
                                    "Foglalás azonosító": "1363",
                                    "Időtartam (nap)": "5",
                                    "Előző foglalás időtartama": "3"
                                },
                                {
                                    "Szoba azonosító": "133",
                                    "Foglalás azonosító": "1409",
                                    "Időtartam (nap)": "1",
                                    "Előző foglalás időtartama": "5"
                                },
                                {
                                    "Szoba azonosító": "133",
                                    "Foglalás azonosító": "1149",
                                    "Időtartam (nap)": "7",
                                    "Előző foglalás időtartama": "1"
                                },
                                {
                                    "Szoba azonosító": "133",
                                    "Foglalás azonosító": "909",
                                    "Időtartam (nap)": "4",
                                    "Előző foglalás időtartama": "7"
                                },
                                {
                                    "Szoba azonosító": "133",
                                    "Foglalás azonosító": "988",
                                    "Időtartam (nap)": "3",
                                    "Előző foglalás időtartama": "4"
                                },
                                {
                                    "Szoba azonosító": "134",
                                    "Foglalás azonosító": "1004",
                                    "Időtartam (nap)": "5",
                                    "Előző foglalás időtartama": "0"
                                },
                                {
                                    "Szoba azonosító": "134",
                                    "Foglalás azonosító": "1024",
                                    "Időtartam (nap)": "1",
                                    "Előző foglalás időtartama": "5"
                                },
                                {
                                    "Szoba azonosító": "134",
                                    "Foglalás azonosító": "1045",
                                    "Időtartam (nap)": "2",
                                    "Előző foglalás időtartama": "1"
                                },
                                {
                                    "Szoba azonosító": "134",
                                    "Foglalás azonosító": "1219",
                                    "Időtartam (nap)": "6",
                                    "Előző foglalás időtartama": "2"
                                },
                                {
                                    "Szoba azonosító": "134",
                                    "Foglalás azonosító": "1178",
                                    "Időtartam (nap)": "7",
                                    "Előző foglalás időtartama": "6"
                                },
                                {
                                    "Szoba azonosító": "134",
                                    "Foglalás azonosító": "1535",
                                    "Időtartam (nap)": "7",
                                    "Előző foglalás időtartama": "7"
                                },
                                {
                                    "Szoba azonosító": "135",
                                    "Foglalás azonosító": "1289",
                                    "Időtartam (nap)": "3",
                                    "Előző foglalás időtartama": "0"
                                },
                                {
                                    "Szoba azonosító": "135",
                                    "Foglalás azonosító": "849",
                                    "Időtartam (nap)": "7",
                                    "Előző foglalás időtartama": "3"
                                },
                                {
                                    "Szoba azonosító": "135",
                                    "Foglalás azonosító": "724",
                                    "Időtartam (nap)": "6",
                                    "Előző foglalás időtartama": "7"
                                },
                                {
                                    "Szoba azonosító": "136",
                                    "Foglalás azonosító": "584",
                                    "Időtartam (nap)": "2",
                                    "Előző foglalás időtartama": "0"
                                },
                                {
                                    "Szoba azonosító": "136",
                                    "Foglalás azonosító": "661",
                                    "Időtartam (nap)": "5",
                                    "Előző foglalás időtartama": "2"
                                },
                                {
                                    "Szoba azonosító": "136",
                                    "Foglalás azonosító": "1046",
                                    "Időtartam (nap)": "4",
                                    "Előző foglalás időtartama": "5"
                                },
                                {
                                    "Szoba azonosító": "137",
                                    "Foglalás azonosító": "1014",
                                    "Időtartam (nap)": "1",
                                    "Előző foglalás időtartama": "0"
                                },
                                {
                                    "Szoba azonosító": "137",
                                    "Foglalás azonosító": "657",
                                    "Időtartam (nap)": "6",
                                    "Előző foglalás időtartama": "1"
                                },
                                {
                                    "Szoba azonosító": "137",
                                    "Foglalás azonosító": "649",
                                    "Időtartam (nap)": "5",
                                    "Előző foglalás időtartama": "6"
                                },
                                {
                                    "Szoba azonosító": "137",
                                    "Foglalás azonosító": "582",
                                    "Időtartam (nap)": "3",
                                    "Előző foglalás időtartama": "5"
                                },
                                {
                                    "Szoba azonosító": "137",
                                    "Foglalás azonosító": "1280",
                                    "Időtartam (nap)": "3",
                                    "Előző foglalás időtartama": "3"
                                },
                                {
                                    "Szoba azonosító": "137",
                                    "Foglalás azonosító": "1201",
                                    "Időtartam (nap)": "6",
                                    "Előző foglalás időtartama": "3"
                                },
                                {
                                    "Szoba azonosító": "138",
                                    "Foglalás azonosító": "1256",
                                    "Időtartam (nap)": "4",
                                    "Előző foglalás időtartama": "0"
                                },
                                {
                                    "Szoba azonosító": "138",
                                    "Foglalás azonosító": "1283",
                                    "Időtartam (nap)": "2",
                                    "Előző foglalás időtartama": "4"
                                },
                                {
                                    "Szoba azonosító": "138",
                                    "Foglalás azonosító": "1294",
                                    "Időtartam (nap)": "5",
                                    "Előző foglalás időtartama": "2"
                                },
                                {
                                    "Szoba azonosító": "138",
                                    "Foglalás azonosító": "1358",
                                    "Időtartam (nap)": "7",
                                    "Előző foglalás időtartama": "5"
                                },
                                {
                                    "Szoba azonosító": "138",
                                    "Foglalás azonosító": "1370",
                                    "Időtartam (nap)": "5",
                                    "Előző foglalás időtartama": "7"
                                },
                                {
                                    "Szoba azonosító": "138",
                                    "Foglalás azonosító": "768",
                                    "Időtartam (nap)": "6",
                                    "Előző foglalás időtartama": "5"
                                },
                                {
                                    "Szoba azonosító": "138",
                                    "Foglalás azonosító": "796",
                                    "Időtartam (nap)": "4",
                                    "Előző foglalás időtartama": "6"
                                },
                                {
                                    "Szoba azonosító": "139",
                                    "Foglalás azonosító": "751",
                                    "Időtartam (nap)": "4",
                                    "Előző foglalás időtartama": "0"
                                },
                                {
                                    "Szoba azonosító": "139",
                                    "Foglalás azonosító": "745",
                                    "Időtartam (nap)": "1",
                                    "Előző foglalás időtartama": "4"
                                },
                                {
                                    "Szoba azonosító": "139",
                                    "Foglalás azonosító": "579",
                                    "Időtartam (nap)": "2",
                                    "Előző foglalás időtartama": "1"
                                },
                                {
                                    "Szoba azonosító": "139",
                                    "Foglalás azonosító": "1042",
                                    "Időtartam (nap)": "2",
                                    "Előző foglalás időtartama": "2"
                                },
                                {
                                    "Szoba azonosító": "139",
                                    "Foglalás azonosító": "1064",
                                    "Időtartam (nap)": "6",
                                    "Előző foglalás időtartama": "2"
                                },
                                {
                                    "Szoba azonosító": "139",
                                    "Foglalás azonosító": "1450",
                                    "Időtartam (nap)": "7",
                                    "Előző foglalás időtartama": "6"
                                },
                                {
                                    "Szoba azonosító": "139",
                                    "Foglalás azonosító": "1433",
                                    "Időtartam (nap)": "6",
                                    "Előző foglalás időtartama": "7"
                                },
                                {
                                    "Szoba azonosító": "140",
                                    "Foglalás azonosító": "1371",
                                    "Időtartam (nap)": "1",
                                    "Előző foglalás időtartama": "0"
                                },
                                {
                                    "Szoba azonosító": "140",
                                    "Foglalás azonosító": "1361",
                                    "Időtartam (nap)": "3",
                                    "Előző foglalás időtartama": "1"
                                },
                                {
                                    "Szoba azonosító": "140",
                                    "Foglalás azonosító": "1357",
                                    "Időtartam (nap)": "4",
                                    "Előző foglalás időtartama": "3"
                                },
                                {
                                    "Szoba azonosító": "140",
                                    "Foglalás azonosító": "1259",
                                    "Időtartam (nap)": "7",
                                    "Előző foglalás időtartama": "4"
                                },
                                {
                                    "Szoba azonosító": "140",
                                    "Foglalás azonosító": "1156",
                                    "Időtartam (nap)": "3",
                                    "Előző foglalás időtartama": "7"
                                },
                                {
                                    "Szoba azonosító": "140",
                                    "Foglalás azonosító": "1098",
                                    "Időtartam (nap)": "2",
                                    "Előző foglalás időtartama": "3"
                                },
                                {
                                    "Szoba azonosító": "140",
                                    "Foglalás azonosító": "915",
                                    "Időtartam (nap)": "2",
                                    "Előző foglalás időtartama": "2"
                                },
                                {
                                    "Szoba azonosító": "140",
                                    "Foglalás azonosító": "733",
                                    "Időtartam (nap)": "1",
                                    "Előző foglalás időtartama": "2"
                                },
                                {
                                    "Szoba azonosító": "141",
                                    "Foglalás azonosító": "761",
                                    "Időtartam (nap)": "3",
                                    "Előző foglalás időtartama": "0"
                                },
                                {
                                    "Szoba azonosító": "141",
                                    "Foglalás azonosító": "784",
                                    "Időtartam (nap)": "7",
                                    "Előző foglalás időtartama": "3"
                                },
                                {
                                    "Szoba azonosító": "141",
                                    "Foglalás azonosító": "565",
                                    "Időtartam (nap)": "6",
                                    "Előző foglalás időtartama": "7"
                                },
                                {
                                    "Szoba azonosító": "141",
                                    "Foglalás azonosító": "908",
                                    "Időtartam (nap)": "2",
                                    "Előző foglalás időtartama": "6"
                                },
                                {
                                    "Szoba azonosító": "141",
                                    "Foglalás azonosító": "1254",
                                    "Időtartam (nap)": "4",
                                    "Előző foglalás időtartama": "2"
                                },
                                {
                                    "Szoba azonosító": "141",
                                    "Foglalás azonosító": "1401",
                                    "Időtartam (nap)": "6",
                                    "Előző foglalás időtartama": "4"
                                },
                                {
                                    "Szoba azonosító": "142",
                                    "Foglalás azonosító": "1369",
                                    "Időtartam (nap)": "6",
                                    "Előző foglalás időtartama": "0"
                                },
                                {
                                    "Szoba azonosító": "142",
                                    "Foglalás azonosító": "1545",
                                    "Időtartam (nap)": "3",
                                    "Előző foglalás időtartama": "6"
                                },
                                {
                                    "Szoba azonosító": "143",
                                    "Foglalás azonosító": "1448",
                                    "Időtartam (nap)": "6",
                                    "Előző foglalás időtartama": "0"
                                },
                                {
                                    "Szoba azonosító": "143",
                                    "Foglalás azonosító": "1394",
                                    "Időtartam (nap)": "3",
                                    "Előző foglalás időtartama": "6"
                                },
                                {
                                    "Szoba azonosító": "143",
                                    "Foglalás azonosító": "1313",
                                    "Időtartam (nap)": "4",
                                    "Előző foglalás időtartama": "3"
                                },
                                {
                                    "Szoba azonosító": "143",
                                    "Foglalás azonosító": "1222",
                                    "Időtartam (nap)": "2",
                                    "Előző foglalás időtartama": "4"
                                },
                                {
                                    "Szoba azonosító": "143",
                                    "Foglalás azonosító": "1155",
                                    "Időtartam (nap)": "7",
                                    "Előző foglalás időtartama": "2"
                                },
                                {
                                    "Szoba azonosító": "143",
                                    "Foglalás azonosító": "1193",
                                    "Időtartam (nap)": "6",
                                    "Előző foglalás időtartama": "7"
                                },
                                {
                                    "Szoba azonosító": "143",
                                    "Foglalás azonosító": "980",
                                    "Időtartam (nap)": "3",
                                    "Előző foglalás időtartama": "6"
                                },
                                {
                                    "Szoba azonosító": "144",
                                    "Foglalás azonosító": "1087",
                                    "Időtartam (nap)": "2",
                                    "Előző foglalás időtartama": "0"
                                },
                                {
                                    "Szoba azonosító": "144",
                                    "Foglalás azonosító": "581",
                                    "Időtartam (nap)": "4",
                                    "Előző foglalás időtartama": "2"
                                },
                                {
                                    "Szoba azonosító": "144",
                                    "Foglalás azonosító": "1199",
                                    "Időtartam (nap)": "7",
                                    "Előző foglalás időtartama": "4"
                                },
                                {
                                    "Szoba azonosító": "144",
                                    "Foglalás azonosító": "1297",
                                    "Időtartam (nap)": "1",
                                    "Előző foglalás időtartama": "7"
                                },
                                {
                                    "Szoba azonosító": "144",
                                    "Foglalás azonosító": "1572",
                                    "Időtartam (nap)": "2",
                                    "Előző foglalás időtartama": "1"
                                },
                                {
                                    "Szoba azonosító": "145",
                                    "Foglalás azonosító": "1471",
                                    "Időtartam (nap)": "1",
                                    "Előző foglalás időtartama": "0"
                                },
                                {
                                    "Szoba azonosító": "145",
                                    "Foglalás azonosító": "1338",
                                    "Időtartam (nap)": "2",
                                    "Előző foglalás időtartama": "1"
                                },
                                {
                                    "Szoba azonosító": "145",
                                    "Foglalás azonosító": "1145",
                                    "Időtartam (nap)": "4",
                                    "Előző foglalás időtartama": "2"
                                },
                                {
                                    "Szoba azonosító": "145",
                                    "Foglalás azonosító": "703",
                                    "Időtartam (nap)": "4",
                                    "Előző foglalás időtartama": "4"
                                },
                                {
                                    "Szoba azonosító": "145",
                                    "Foglalás azonosító": "1077",
                                    "Időtartam (nap)": "1",
                                    "Előző foglalás időtartama": "4"
                                },
                                {
                                    "Szoba azonosító": "145",
                                    "Foglalás azonosító": "1120",
                                    "Időtartam (nap)": "1",
                                    "Előző foglalás időtartama": "1"
                                },
                                {
                                    "Szoba azonosító": "146",
                                    "Foglalás azonosító": "1032",
                                    "Időtartam (nap)": "5",
                                    "Előző foglalás időtartama": "0"
                                },
                                {
                                    "Szoba azonosító": "146",
                                    "Foglalás azonosító": "890",
                                    "Időtartam (nap)": "3",
                                    "Előző foglalás időtartama": "5"
                                },
                                {
                                    "Szoba azonosító": "146",
                                    "Foglalás azonosító": "789",
                                    "Időtartam (nap)": "7",
                                    "Előző foglalás időtartama": "3"
                                },
                                {
                                    "Szoba azonosító": "146",
                                    "Foglalás azonosító": "804",
                                    "Időtartam (nap)": "7",
                                    "Előző foglalás időtartama": "7"
                                },
                                {
                                    "Szoba azonosító": "146",
                                    "Foglalás azonosító": "664",
                                    "Időtartam (nap)": "3",
                                    "Előző foglalás időtartama": "7"
                                },
                                {
                                    "Szoba azonosító": "146",
                                    "Foglalás azonosító": "1479",
                                    "Időtartam (nap)": "6",
                                    "Előző foglalás időtartama": "3"
                                },
                                {
                                    "Szoba azonosító": "147",
                                    "Foglalás azonosító": "771",
                                    "Időtartam (nap)": "4",
                                    "Előző foglalás időtartama": "0"
                                },
                                {
                                    "Szoba azonosító": "148",
                                    "Foglalás azonosító": "765",
                                    "Időtartam (nap)": "3",
                                    "Előző foglalás időtartama": "0"
                                },
                                {
                                    "Szoba azonosító": "148",
                                    "Foglalás azonosító": "808",
                                    "Időtartam (nap)": "2",
                                    "Előző foglalás időtartama": "3"
                                },
                                {
                                    "Szoba azonosító": "148",
                                    "Foglalás azonosító": "783",
                                    "Időtartam (nap)": "7",
                                    "Előző foglalás időtartama": "2"
                                },
                                {
                                    "Szoba azonosító": "148",
                                    "Foglalás azonosító": "812",
                                    "Időtartam (nap)": "6",
                                    "Előző foglalás időtartama": "7"
                                },
                                {
                                    "Szoba azonosító": "148",
                                    "Foglalás azonosító": "678",
                                    "Időtartam (nap)": "4",
                                    "Előző foglalás időtartama": "6"
                                },
                                {
                                    "Szoba azonosító": "148",
                                    "Foglalás azonosító": "1578",
                                    "Időtartam (nap)": "7",
                                    "Előző foglalás időtartama": "4"
                                },
                                {
                                    "Szoba azonosító": "149",
                                    "Foglalás azonosító": "1514",
                                    "Időtartam (nap)": "5",
                                    "Előző foglalás időtartama": "0"
                                },
                                {
                                    "Szoba azonosító": "149",
                                    "Foglalás azonosító": "1146",
                                    "Időtartam (nap)": "6",
                                    "Előző foglalás időtartama": "5"
                                },
                                {
                                    "Szoba azonosító": "149",
                                    "Foglalás azonosító": "652",
                                    "Időtartam (nap)": "1",
                                    "Előző foglalás időtartama": "6"
                                },
                                {
                                    "Szoba azonosító": "149",
                                    "Foglalás azonosító": "591",
                                    "Időtartam (nap)": "1",
                                    "Előző foglalás időtartama": "1"
                                },
                                {
                                    "Szoba azonosító": "149",
                                    "Foglalás azonosító": "833",
                                    "Időtartam (nap)": "2",
                                    "Előző foglalás időtartama": "1"
                                },
                                {
                                    "Szoba azonosító": "149",
                                    "Foglalás azonosító": "834",
                                    "Időtartam (nap)": "5",
                                    "Előző foglalás időtartama": "2"
                                },
                                {
                                    "Szoba azonosító": "149",
                                    "Foglalás azonosító": "843",
                                    "Időtartam (nap)": "4",
                                    "Előző foglalás időtartama": "5"
                                },
                                {
                                    "Szoba azonosító": "150",
                                    "Foglalás azonosító": "1100",
                                    "Időtartam (nap)": "5",
                                    "Előző foglalás időtartama": "0"
                                },
                                {
                                    "Szoba azonosító": "150",
                                    "Foglalás azonosító": "1105",
                                    "Időtartam (nap)": "1",
                                    "Előző foglalás időtartama": "5"
                                },
                                {
                                    "Szoba azonosító": "150",
                                    "Foglalás azonosító": "641",
                                    "Időtartam (nap)": "3",
                                    "Előző foglalás időtartama": "1"
                                },
                                {
                                    "Szoba azonosító": "150",
                                    "Foglalás azonosító": "1177",
                                    "Időtartam (nap)": "1",
                                    "Előző foglalás időtartama": "3"
                                },
                                {
                                    "Szoba azonosító": "150",
                                    "Foglalás azonosító": "1203",
                                    "Időtartam (nap)": "4",
                                    "Előző foglalás időtartama": "1"
                                },
                                {
                                    "Szoba azonosító": "150",
                                    "Foglalás azonosító": "1432",
                                    "Időtartam (nap)": "3",
                                    "Előző foglalás időtartama": "4"
                                },
                                {
                                    "Szoba azonosító": "151",
                                    "Foglalás azonosító": "1115",
                                    "Időtartam (nap)": "3",
                                    "Előző foglalás időtartama": "0"
                                },
                                {
                                    "Szoba azonosító": "151",
                                    "Foglalás azonosító": "1058",
                                    "Időtartam (nap)": "3",
                                    "Előző foglalás időtartama": "3"
                                },
                                {
                                    "Szoba azonosító": "151",
                                    "Foglalás azonosító": "893",
                                    "Időtartam (nap)": "3",
                                    "Előző foglalás időtartama": "3"
                                },
                                {
                                    "Szoba azonosító": "152",
                                    "Foglalás azonosító": "730",
                                    "Időtartam (nap)": "2",
                                    "Előző foglalás időtartama": "0"
                                },
                                {
                                    "Szoba azonosító": "152",
                                    "Foglalás azonosító": "1558",
                                    "Időtartam (nap)": "2",
                                    "Előző foglalás időtartama": "2"
                                },
                                {
                                    "Szoba azonosító": "152",
                                    "Foglalás azonosító": "1197",
                                    "Időtartam (nap)": "6",
                                    "Előző foglalás időtartama": "2"
                                },
                                {
                                    "Szoba azonosító": "152",
                                    "Foglalás azonosító": "1160",
                                    "Időtartam (nap)": "7",
                                    "Előző foglalás időtartama": "6"
                                },
                                {
                                    "Szoba azonosító": "153",
                                    "Foglalás azonosító": "1507",
                                    "Időtartam (nap)": "3",
                                    "Előző foglalás időtartama": "0"
                                },
                                {
                                    "Szoba azonosító": "153",
                                    "Foglalás azonosító": "1470",
                                    "Időtartam (nap)": "5",
                                    "Előző foglalás időtartama": "3"
                                },
                                {
                                    "Szoba azonosító": "153",
                                    "Foglalás azonosító": "1460",
                                    "Időtartam (nap)": "3",
                                    "Előző foglalás időtartama": "5"
                                },
                                {
                                    "Szoba azonosító": "153",
                                    "Foglalás azonosító": "594",
                                    "Időtartam (nap)": "3",
                                    "Előző foglalás időtartama": "3"
                                },
                                {
                                    "Szoba azonosító": "153",
                                    "Foglalás azonosító": "969",
                                    "Időtartam (nap)": "6",
                                    "Előző foglalás időtartama": "3"
                                },
                                {
                                    "Szoba azonosító": "154",
                                    "Foglalás azonosító": "968",
                                    "Időtartam (nap)": "1",
                                    "Előző foglalás időtartama": "0"
                                },
                                {
                                    "Szoba azonosító": "154",
                                    "Foglalás azonosító": "1061",
                                    "Időtartam (nap)": "7",
                                    "Előző foglalás időtartama": "1"
                                },
                                {
                                    "Szoba azonosító": "154",
                                    "Foglalás azonosító": "1539",
                                    "Időtartam (nap)": "2",
                                    "Előző foglalás időtartama": "7"
                                },
                                {
                                    "Szoba azonosító": "154",
                                    "Foglalás azonosító": "1168",
                                    "Időtartam (nap)": "6",
                                    "Előző foglalás időtartama": "2"
                                },
                                {
                                    "Szoba azonosító": "154",
                                    "Foglalás azonosító": "1262",
                                    "Időtartam (nap)": "1",
                                    "Előző foglalás időtartama": "6"
                                },
                                {
                                    "Szoba azonosító": "155",
                                    "Foglalás azonosító": "1310",
                                    "Időtartam (nap)": "1",
                                    "Előző foglalás időtartama": "0"
                                },
                                {
                                    "Szoba azonosító": "155",
                                    "Foglalás azonosító": "1541",
                                    "Időtartam (nap)": "1",
                                    "Előző foglalás időtartama": "1"
                                },
                                {
                                    "Szoba azonosító": "155",
                                    "Foglalás azonosító": "1112",
                                    "Időtartam (nap)": "4",
                                    "Előző foglalás időtartama": "1"
                                },
                                {
                                    "Szoba azonosító": "155",
                                    "Foglalás azonosító": "577",
                                    "Időtartam (nap)": "3",
                                    "Előző foglalás időtartama": "4"
                                },
                                {
                                    "Szoba azonosító": "155",
                                    "Foglalás azonosító": "575",
                                    "Időtartam (nap)": "1",
                                    "Előző foglalás időtartama": "3"
                                },
                                {
                                    "Szoba azonosító": "156",
                                    "Foglalás azonosító": "588",
                                    "Időtartam (nap)": "7",
                                    "Előző foglalás időtartama": "0"
                                },
                                {
                                    "Szoba azonosító": "156",
                                    "Foglalás azonosító": "692",
                                    "Időtartam (nap)": "6",
                                    "Előző foglalás időtartama": "7"
                                },
                                {
                                    "Szoba azonosító": "156",
                                    "Foglalás azonosító": "956",
                                    "Időtartam (nap)": "6",
                                    "Előző foglalás időtartama": "6"
                                },
                                {
                                    "Szoba azonosító": "156",
                                    "Foglalás azonosító": "907",
                                    "Időtartam (nap)": "3",
                                    "Előző foglalás időtartama": "6"
                                },
                                {
                                    "Szoba azonosító": "156",
                                    "Foglalás azonosító": "1561",
                                    "Időtartam (nap)": "4",
                                    "Előző foglalás időtartama": "3"
                                },
                                {
                                    "Szoba azonosító": "156",
                                    "Foglalás azonosító": "1462",
                                    "Időtartam (nap)": "7",
                                    "Előző foglalás időtartama": "4"
                                },
                                {
                                    "Szoba azonosító": "156",
                                    "Foglalás azonosító": "1490",
                                    "Időtartam (nap)": "1",
                                    "Előző foglalás időtartama": "7"
                                },
                                {
                                    "Szoba azonosító": "157",
                                    "Foglalás azonosító": "1551",
                                    "Időtartam (nap)": "3",
                                    "Előző foglalás időtartama": "0"
                                },
                                {
                                    "Szoba azonosító": "157",
                                    "Foglalás azonosító": "1240",
                                    "Időtartam (nap)": "7",
                                    "Előző foglalás időtartama": "3"
                                },
                                {
                                    "Szoba azonosító": "157",
                                    "Foglalás azonosító": "1047",
                                    "Időtartam (nap)": "4",
                                    "Előző foglalás időtartama": "7"
                                },
                                {
                                    "Szoba azonosító": "157",
                                    "Foglalás azonosító": "1025",
                                    "Időtartam (nap)": "3",
                                    "Előző foglalás időtartama": "4"
                                },
                                {
                                    "Szoba azonosító": "157",
                                    "Foglalás azonosító": "648",
                                    "Időtartam (nap)": "4",
                                    "Előző foglalás időtartama": "3"
                                },
                                {
                                    "Szoba azonosító": "158",
                                    "Foglalás azonosító": "825",
                                    "Időtartam (nap)": "4",
                                    "Előző foglalás időtartama": "0"
                                },
                                {
                                    "Szoba azonosító": "158",
                                    "Foglalás azonosító": "1117",
                                    "Időtartam (nap)": "3",
                                    "Előző foglalás időtartama": "4"
                                },
                                {
                                    "Szoba azonosító": "158",
                                    "Foglalás azonosító": "840",
                                    "Időtartam (nap)": "4",
                                    "Előző foglalás időtartama": "3"
                                },
                                {
                                    "Szoba azonosító": "160",
                                    "Foglalás azonosító": "922",
                                    "Időtartam (nap)": "2",
                                    "Előző foglalás időtartama": "0"
                                },
                                {
                                    "Szoba azonosító": "160",
                                    "Foglalás azonosító": "927",
                                    "Időtartam (nap)": "4",
                                    "Előző foglalás időtartama": "2"
                                },
                                {
                                    "Szoba azonosító": "160",
                                    "Foglalás azonosító": "933",
                                    "Időtartam (nap)": "4",
                                    "Előző foglalás időtartama": "4"
                                },
                                {
                                    "Szoba azonosító": "160",
                                    "Foglalás azonosító": "720",
                                    "Időtartam (nap)": "2",
                                    "Előző foglalás időtartama": "4"
                                },
                                {
                                    "Szoba azonosító": "160",
                                    "Foglalás azonosító": "1565",
                                    "Időtartam (nap)": "3",
                                    "Előző foglalás időtartama": "2"
                                },
                                {
                                    "Szoba azonosító": "161",
                                    "Foglalás azonosító": "1571",
                                    "Időtartam (nap)": "4",
                                    "Előző foglalás időtartama": "0"
                                },
                                {
                                    "Szoba azonosító": "161",
                                    "Foglalás azonosító": "1190",
                                    "Időtartam (nap)": "7",
                                    "Előző foglalás időtartama": "4"
                                },
                                {
                                    "Szoba azonosító": "161",
                                    "Foglalás azonosító": "639",
                                    "Időtartam (nap)": "4",
                                    "Előző foglalás időtartama": "7"
                                },
                                {
                                    "Szoba azonosító": "161",
                                    "Foglalás azonosító": "653",
                                    "Időtartam (nap)": "7",
                                    "Előző foglalás időtartama": "4"
                                },
                                {
                                    "Szoba azonosító": "161",
                                    "Foglalás azonosító": "911",
                                    "Időtartam (nap)": "4",
                                    "Előző foglalás időtartama": "7"
                                },
                                {
                                    "Szoba azonosító": "161",
                                    "Foglalás azonosító": "1068",
                                    "Időtartam (nap)": "6",
                                    "Előző foglalás időtartama": "4"
                                },
                                {
                                    "Szoba azonosító": "162",
                                    "Foglalás azonosító": "599",
                                    "Időtartam (nap)": "4",
                                    "Előző foglalás időtartama": "0"
                                },
                                {
                                    "Szoba azonosító": "162",
                                    "Foglalás azonosító": "1205",
                                    "Időtartam (nap)": "6",
                                    "Előző foglalás időtartama": "4"
                                },
                                {
                                    "Szoba azonosító": "162",
                                    "Foglalás azonosító": "1400",
                                    "Időtartam (nap)": "1",
                                    "Előző foglalás időtartama": "6"
                                },
                                {
                                    "Szoba azonosító": "163",
                                    "Foglalás azonosító": "1265",
                                    "Időtartam (nap)": "5",
                                    "Előző foglalás időtartama": "0"
                                },
                                {
                                    "Szoba azonosító": "163",
                                    "Foglalás azonosító": "1487",
                                    "Időtartam (nap)": "3",
                                    "Előző foglalás időtartama": "5"
                                },
                                {
                                    "Szoba azonosító": "163",
                                    "Foglalás azonosító": "630",
                                    "Időtartam (nap)": "2",
                                    "Előző foglalás időtartama": "3"
                                },
                                {
                                    "Szoba azonosító": "163",
                                    "Foglalás azonosító": "782",
                                    "Időtartam (nap)": "3",
                                    "Előző foglalás időtartama": "2"
                                },
                                {
                                    "Szoba azonosító": "163",
                                    "Foglalás azonosító": "1075",
                                    "Időtartam (nap)": "4",
                                    "Előző foglalás időtartama": "3"
                                },
                                {
                                    "Szoba azonosító": "163",
                                    "Foglalás azonosító": "1107",
                                    "Időtartam (nap)": "3",
                                    "Előző foglalás időtartama": "4"
                                },
                                {
                                    "Szoba azonosító": "163",
                                    "Foglalás azonosító": "941",
                                    "Időtartam (nap)": "1",
                                    "Előző foglalás időtartama": "3"
                                },
                                {
                                    "Szoba azonosító": "164",
                                    "Foglalás azonosító": "1010",
                                    "Időtartam (nap)": "2",
                                    "Előző foglalás időtartama": "0"
                                },
                                {
                                    "Szoba azonosító": "164",
                                    "Foglalás azonosító": "742",
                                    "Időtartam (nap)": "6",
                                    "Előző foglalás időtartama": "2"
                                },
                                {
                                    "Szoba azonosító": "164",
                                    "Foglalás azonosító": "570",
                                    "Időtartam (nap)": "7",
                                    "Előző foglalás időtartama": "6"
                                },
                                {
                                    "Szoba azonosító": "164",
                                    "Foglalás azonosító": "1292",
                                    "Időtartam (nap)": "2",
                                    "Előző foglalás időtartama": "7"
                                },
                                {
                                    "Szoba azonosító": "164",
                                    "Foglalás azonosító": "1284",
                                    "Időtartam (nap)": "4",
                                    "Előző foglalás időtartama": "2"
                                },
                                {
                                    "Szoba azonosító": "165",
                                    "Foglalás azonosító": "1375",
                                    "Időtartam (nap)": "4",
                                    "Előző foglalás időtartama": "0"
                                },
                                {
                                    "Szoba azonosító": "165",
                                    "Foglalás azonosító": "1141",
                                    "Időtartam (nap)": "1",
                                    "Előző foglalás időtartama": "4"
                                },
                                {
                                    "Szoba azonosító": "165",
                                    "Foglalás azonosító": "640",
                                    "Időtartam (nap)": "3",
                                    "Előző foglalás időtartama": "1"
                                },
                                {
                                    "Szoba azonosító": "165",
                                    "Foglalás azonosító": "900",
                                    "Időtartam (nap)": "6",
                                    "Előző foglalás időtartama": "3"
                                },
                                {
                                    "Szoba azonosító": "165",
                                    "Foglalás azonosító": "897",
                                    "Időtartam (nap)": "6",
                                    "Előző foglalás időtartama": "6"
                                },
                                {
                                    "Szoba azonosító": "165",
                                    "Foglalás azonosító": "892",
                                    "Időtartam (nap)": "3",
                                    "Előző foglalás időtartama": "6"
                                },
                                {
                                    "Szoba azonosító": "165",
                                    "Foglalás azonosító": "857",
                                    "Időtartam (nap)": "5",
                                    "Előző foglalás időtartama": "3"
                                },
                                {
                                    "Szoba azonosító": "166",
                                    "Foglalás azonosító": "644",
                                    "Időtartam (nap)": "7",
                                    "Előző foglalás időtartama": "0"
                                },
                                {
                                    "Szoba azonosító": "166",
                                    "Foglalás azonosító": "781",
                                    "Időtartam (nap)": "7",
                                    "Előző foglalás időtartama": "7"
                                },
                                {
                                    "Szoba azonosító": "166",
                                    "Foglalás azonosító": "1526",
                                    "Időtartam (nap)": "2",
                                    "Előző foglalás időtartama": "7"
                                },
                                {
                                    "Szoba azonosító": "167",
                                    "Foglalás azonosító": "1414",
                                    "Időtartam (nap)": "3",
                                    "Előző foglalás időtartama": "0"
                                },
                                {
                                    "Szoba azonosító": "167",
                                    "Foglalás azonosító": "854",
                                    "Időtartam (nap)": "7",
                                    "Előző foglalás időtartama": "3"
                                },
                                {
                                    "Szoba azonosító": "168",
                                    "Foglalás azonosító": "930",
                                    "Időtartam (nap)": "3",
                                    "Előző foglalás időtartama": "0"
                                },
                                {
                                    "Szoba azonosító": "168",
                                    "Foglalás azonosító": "794",
                                    "Időtartam (nap)": "4",
                                    "Előző foglalás időtartama": "3"
                                },
                                {
                                    "Szoba azonosító": "168",
                                    "Foglalás azonosító": "792",
                                    "Időtartam (nap)": "3",
                                    "Előző foglalás időtartama": "4"
                                },
                                {
                                    "Szoba azonosító": "168",
                                    "Foglalás azonosító": "1266",
                                    "Időtartam (nap)": "4",
                                    "Előző foglalás időtartama": "3"
                                },
                                {
                                    "Szoba azonosító": "168",
                                    "Foglalás azonosító": "1249",
                                    "Időtartam (nap)": "4",
                                    "Előző foglalás időtartama": "4"
                                },
                                {
                                    "Szoba azonosító": "169",
                                    "Foglalás azonosító": "1356",
                                    "Időtartam (nap)": "4",
                                    "Előző foglalás időtartama": "0"
                                },
                                {
                                    "Szoba azonosító": "169",
                                    "Foglalás azonosító": "1427",
                                    "Időtartam (nap)": "1",
                                    "Előző foglalás időtartama": "4"
                                },
                                {
                                    "Szoba azonosító": "169",
                                    "Foglalás azonosító": "746",
                                    "Időtartam (nap)": "7",
                                    "Előző foglalás időtartama": "1"
                                },
                                {
                                    "Szoba azonosító": "169",
                                    "Foglalás azonosító": "659",
                                    "Időtartam (nap)": "6",
                                    "Előző foglalás időtartama": "7"
                                },
                                {
                                    "Szoba azonosító": "169",
                                    "Foglalás azonosító": "573",
                                    "Időtartam (nap)": "5",
                                    "Előző foglalás időtartama": "6"
                                },
                                {
                                    "Szoba azonosító": "169",
                                    "Foglalás azonosító": "974",
                                    "Időtartam (nap)": "1",
                                    "Előző foglalás időtartama": "5"
                                },
                                {
                                    "Szoba azonosító": "170",
                                    "Foglalás azonosító": "944",
                                    "Időtartam (nap)": "4",
                                    "Előző foglalás időtartama": "0"
                                },
                                {
                                    "Szoba azonosító": "170",
                                    "Foglalás azonosító": "567",
                                    "Időtartam (nap)": "7",
                                    "Előző foglalás időtartama": "4"
                                },
                                {
                                    "Szoba azonosító": "170",
                                    "Foglalás azonosító": "1342",
                                    "Időtartam (nap)": "6",
                                    "Előző foglalás időtartama": "7"
                                },
                                {
                                    "Szoba azonosító": "170",
                                    "Foglalás azonosító": "1267",
                                    "Időtartam (nap)": "7",
                                    "Előző foglalás időtartama": "6"
                                },
                                {
                                    "Szoba azonosító": "170",
                                    "Foglalás azonosító": "1194",
                                    "Időtartam (nap)": "4",
                                    "Előző foglalás időtartama": "7"
                                },
                                {
                                    "Szoba azonosító": "171",
                                    "Foglalás azonosító": "1181",
                                    "Időtartam (nap)": "6",
                                    "Előző foglalás időtartama": "0"
                                },
                                {
                                    "Szoba azonosító": "171",
                                    "Foglalás azonosító": "1329",
                                    "Időtartam (nap)": "5",
                                    "Előző foglalás időtartama": "6"
                                },
                                {
                                    "Szoba azonosító": "171",
                                    "Foglalás azonosító": "1567",
                                    "Időtartam (nap)": "6",
                                    "Előző foglalás időtartama": "5"
                                },
                                {
                                    "Szoba azonosító": "171",
                                    "Foglalás azonosító": "574",
                                    "Időtartam (nap)": "2",
                                    "Előző foglalás időtartama": "6"
                                },
                                {
                                    "Szoba azonosító": "171",
                                    "Foglalás azonosító": "981",
                                    "Időtartam (nap)": "4",
                                    "Előző foglalás időtartama": "2"
                                },
                                {
                                    "Szoba azonosító": "172",
                                    "Foglalás azonosító": "984",
                                    "Időtartam (nap)": "4",
                                    "Előző foglalás időtartama": "0"
                                },
                                {
                                    "Szoba azonosító": "172",
                                    "Foglalás azonosító": "749",
                                    "Időtartam (nap)": "6",
                                    "Előző foglalás időtartama": "4"
                                },
                                {
                                    "Szoba azonosító": "172",
                                    "Foglalás azonosító": "709",
                                    "Időtartam (nap)": "5",
                                    "Előző foglalás időtartama": "6"
                                },
                                {
                                    "Szoba azonosító": "172",
                                    "Foglalás azonosító": "839",
                                    "Időtartam (nap)": "5",
                                    "Előző foglalás időtartama": "5"
                                },
                                {
                                    "Szoba azonosító": "172",
                                    "Foglalás azonosító": "1421",
                                    "Időtartam (nap)": "5",
                                    "Előző foglalás időtartama": "5"
                                },
                                {
                                    "Szoba azonosító": "172",
                                    "Foglalás azonosító": "1491",
                                    "Időtartam (nap)": "2",
                                    "Előző foglalás időtartama": "5"
                                },
                                {
                                    "Szoba azonosító": "172",
                                    "Foglalás azonosító": "1336",
                                    "Időtartam (nap)": "5",
                                    "Előző foglalás időtartama": "2"
                                },
                                {
                                    "Szoba azonosító": "172",
                                    "Foglalás azonosító": "1171",
                                    "Időtartam (nap)": "5",
                                    "Előző foglalás időtartama": "5"
                                },
                                {
                                    "Szoba azonosító": "172",
                                    "Foglalás azonosító": "1142",
                                    "Időtartam (nap)": "4",
                                    "Előző foglalás időtartama": "5"
                                },
                                {
                                    "Szoba azonosító": "173",
                                    "Foglalás azonosító": "1350",
                                    "Időtartam (nap)": "3",
                                    "Előző foglalás időtartama": "0"
                                },
                                {
                                    "Szoba azonosító": "173",
                                    "Foglalás azonosító": "1429",
                                    "Időtartam (nap)": "4",
                                    "Előző foglalás időtartama": "3"
                                },
                                {
                                    "Szoba azonosító": "173",
                                    "Foglalás azonosító": "669",
                                    "Időtartam (nap)": "7",
                                    "Előző foglalás időtartama": "4"
                                },
                                {
                                    "Szoba azonosító": "173",
                                    "Foglalás azonosító": "913",
                                    "Időtartam (nap)": "1",
                                    "Előző foglalás időtartama": "7"
                                },
                                {
                                    "Szoba azonosító": "174",
                                    "Foglalás azonosító": "917",
                                    "Időtartam (nap)": "2",
                                    "Előző foglalás időtartama": "0"
                                },
                                {
                                    "Szoba azonosító": "174",
                                    "Foglalás azonosító": "1015",
                                    "Időtartam (nap)": "5",
                                    "Előző foglalás időtartama": "2"
                                },
                                {
                                    "Szoba azonosító": "174",
                                    "Foglalás azonosító": "682",
                                    "Időtartam (nap)": "3",
                                    "Előző foglalás időtartama": "5"
                                },
                                {
                                    "Szoba azonosító": "174",
                                    "Foglalás azonosító": "1276",
                                    "Időtartam (nap)": "1",
                                    "Előző foglalás időtartama": "3"
                                },
                                {
                                    "Szoba azonosító": "175",
                                    "Foglalás azonosító": "1133",
                                    "Időtartam (nap)": "2",
                                    "Előző foglalás időtartama": "0"
                                },
                                {
                                    "Szoba azonosító": "175",
                                    "Foglalás azonosító": "1407",
                                    "Időtartam (nap)": "7",
                                    "Előző foglalás időtartama": "2"
                                },
                                {
                                    "Szoba azonosító": "175",
                                    "Foglalás azonosító": "799",
                                    "Időtartam (nap)": "4",
                                    "Előző foglalás időtartama": "7"
                                },
                                {
                                    "Szoba azonosító": "175",
                                    "Foglalás azonosító": "1094",
                                    "Időtartam (nap)": "5",
                                    "Előző foglalás időtartama": "4"
                                },
                                {
                                    "Szoba azonosító": "175",
                                    "Foglalás azonosító": "867",
                                    "Időtartam (nap)": "6",
                                    "Előző foglalás időtartama": "5"
                                },
                                {
                                    "Szoba azonosító": "176",
                                    "Foglalás azonosító": "592",
                                    "Időtartam (nap)": "5",
                                    "Előző foglalás időtartama": "0"
                                },
                                {
                                    "Szoba azonosító": "176",
                                    "Foglalás azonosító": "1383",
                                    "Időtartam (nap)": "4",
                                    "Előző foglalás időtartama": "5"
                                },
                                {
                                    "Szoba azonosító": "176",
                                    "Foglalás azonosító": "1278",
                                    "Időtartam (nap)": "6",
                                    "Előző foglalás időtartama": "4"
                                },
                                {
                                    "Szoba azonosító": "176",
                                    "Foglalás azonosító": "1143",
                                    "Időtartam (nap)": "6",
                                    "Előző foglalás időtartama": "6"
                                },
                                {
                                    "Szoba azonosító": "176",
                                    "Foglalás azonosító": "1511",
                                    "Időtartam (nap)": "2",
                                    "Előző foglalás időtartama": "6"
                                },
                                {
                                    "Szoba azonosító": "176",
                                    "Foglalás azonosító": "1570",
                                    "Időtartam (nap)": "3",
                                    "Előző foglalás időtartama": "2"
                                },
                                {
                                    "Szoba azonosító": "177",
                                    "Foglalás azonosító": "1503",
                                    "Időtartam (nap)": "3",
                                    "Előző foglalás időtartama": "0"
                                },
                                {
                                    "Szoba azonosító": "177",
                                    "Foglalás azonosító": "1176",
                                    "Időtartam (nap)": "3",
                                    "Előző foglalás időtartama": "3"
                                },
                                {
                                    "Szoba azonosító": "177",
                                    "Foglalás azonosító": "785",
                                    "Időtartam (nap)": "3",
                                    "Előző foglalás időtartama": "3"
                                },
                                {
                                    "Szoba azonosító": "177",
                                    "Foglalás azonosító": "831",
                                    "Időtartam (nap)": "7",
                                    "Előző foglalás időtartama": "3"
                                },
                                {
                                    "Szoba azonosító": "178",
                                    "Foglalás azonosító": "816",
                                    "Időtartam (nap)": "4",
                                    "Előző foglalás időtartama": "0"
                                },
                                {
                                    "Szoba azonosító": "178",
                                    "Foglalás azonosító": "991",
                                    "Időtartam (nap)": "7",
                                    "Előző foglalás időtartama": "4"
                                },
                                {
                                    "Szoba azonosító": "178",
                                    "Foglalás azonosító": "1242",
                                    "Időtartam (nap)": "1",
                                    "Előző foglalás időtartama": "7"
                                },
                                {
                                    "Szoba azonosító": "178",
                                    "Foglalás azonosító": "1211",
                                    "Időtartam (nap)": "3",
                                    "Előző foglalás időtartama": "1"
                                },
                                {
                                    "Szoba azonosító": "179",
                                    "Foglalás azonosító": "1497",
                                    "Időtartam (nap)": "1",
                                    "Előző foglalás időtartama": "0"
                                },
                                {
                                    "Szoba azonosító": "179",
                                    "Foglalás azonosító": "1021",
                                    "Időtartam (nap)": "1",
                                    "Előző foglalás időtartama": "1"
                                },
                                {
                                    "Szoba azonosító": "179",
                                    "Foglalás azonosító": "662",
                                    "Időtartam (nap)": "2",
                                    "Előző foglalás időtartama": "1"
                                },
                                {
                                    "Szoba azonosító": "180",
                                    "Foglalás azonosító": "905",
                                    "Időtartam (nap)": "5",
                                    "Előző foglalás időtartama": "0"
                                },
                                {
                                    "Szoba azonosító": "180",
                                    "Foglalás azonosító": "1563",
                                    "Időtartam (nap)": "6",
                                    "Előző foglalás időtartama": "5"
                                },
                                {
                                    "Szoba azonosító": "180",
                                    "Foglalás azonosító": "1559",
                                    "Időtartam (nap)": "3",
                                    "Előző foglalás időtartama": "6"
                                },
                                {
                                    "Szoba azonosító": "181",
                                    "Foglalás azonosító": "1346",
                                    "Időtartam (nap)": "6",
                                    "Előző foglalás időtartama": "0"
                                },
                                {
                                    "Szoba azonosító": "181",
                                    "Foglalás azonosító": "937",
                                    "Időtartam (nap)": "3",
                                    "Előző foglalás időtartama": "6"
                                },
                                {
                                    "Szoba azonosító": "181",
                                    "Foglalás azonosító": "958",
                                    "Időtartam (nap)": "5",
                                    "Előző foglalás időtartama": "3"
                                },
                                {
                                    "Szoba azonosító": "181",
                                    "Foglalás azonosító": "1022",
                                    "Időtartam (nap)": "1",
                                    "Előző foglalás időtartama": "5"
                                },
                                {
                                    "Szoba azonosító": "181",
                                    "Foglalás azonosító": "677",
                                    "Időtartam (nap)": "4",
                                    "Előző foglalás időtartama": "1"
                                },
                                {
                                    "Szoba azonosító": "181",
                                    "Foglalás azonosító": "731",
                                    "Időtartam (nap)": "6",
                                    "Előző foglalás időtartama": "4"
                                },
                                {
                                    "Szoba azonosító": "182",
                                    "Foglalás azonosító": "740",
                                    "Időtartam (nap)": "3",
                                    "Előző foglalás időtartama": "0"
                                },
                                {
                                    "Szoba azonosító": "182",
                                    "Foglalás azonosító": "571",
                                    "Időtartam (nap)": "2",
                                    "Előző foglalás időtartama": "3"
                                },
                                {
                                    "Szoba azonosító": "182",
                                    "Foglalás azonosító": "1008",
                                    "Időtartam (nap)": "6",
                                    "Előző foglalás időtartama": "2"
                                },
                                {
                                    "Szoba azonosító": "182",
                                    "Foglalás azonosító": "928",
                                    "Időtartam (nap)": "2",
                                    "Előző foglalás időtartama": "6"
                                },
                                {
                                    "Szoba azonosító": "182",
                                    "Foglalás azonosító": "1410",
                                    "Időtartam (nap)": "4",
                                    "Előző foglalás időtartama": "2"
                                },
                                {
                                    "Szoba azonosító": "182",
                                    "Foglalás azonosító": "1308",
                                    "Időtartam (nap)": "1",
                                    "Előző foglalás időtartama": "4"
                                },
                                {
                                    "Szoba azonosító": "182",
                                    "Foglalás azonosító": "1326",
                                    "Időtartam (nap)": "4",
                                    "Előző foglalás időtartama": "1"
                                },
                                {
                                    "Szoba azonosító": "182",
                                    "Foglalás azonosító": "1317",
                                    "Időtartam (nap)": "3",
                                    "Előző foglalás időtartama": "4"
                                },
                                {
                                    "Szoba azonosító": "182",
                                    "Foglalás azonosító": "1230",
                                    "Időtartam (nap)": "7",
                                    "Előző foglalás időtartama": "3"
                                },
                                {
                                    "Szoba azonosító": "182",
                                    "Foglalás azonosító": "1231",
                                    "Időtartam (nap)": "4",
                                    "Előző foglalás időtartama": "7"
                                },
                                {
                                    "Szoba azonosító": "182",
                                    "Foglalás azonosító": "1188",
                                    "Időtartam (nap)": "1",
                                    "Előző foglalás időtartama": "4"
                                },
                                {
                                    "Szoba azonosító": "182",
                                    "Foglalás azonosító": "1422",
                                    "Időtartam (nap)": "3",
                                    "Előző foglalás időtartama": "1"
                                },
                                {
                                    "Szoba azonosító": "183",
                                    "Foglalás azonosító": "1437",
                                    "Időtartam (nap)": "4",
                                    "Előző foglalás időtartama": "0"
                                },
                                {
                                    "Szoba azonosító": "183",
                                    "Foglalás azonosító": "1147",
                                    "Időtartam (nap)": "4",
                                    "Előző foglalás időtartama": "4"
                                },
                                {
                                    "Szoba azonosító": "183",
                                    "Foglalás azonosító": "939",
                                    "Időtartam (nap)": "4",
                                    "Előző foglalás időtartama": "4"
                                },
                                {
                                    "Szoba azonosító": "183",
                                    "Foglalás azonosító": "1067",
                                    "Időtartam (nap)": "7",
                                    "Előző foglalás időtartama": "4"
                                },
                                {
                                    "Szoba azonosító": "184",
                                    "Foglalás azonosító": "880",
                                    "Időtartam (nap)": "4",
                                    "Előző foglalás időtartama": "0"
                                },
                                {
                                    "Szoba azonosító": "184",
                                    "Foglalás azonosító": "608",
                                    "Időtartam (nap)": "2",
                                    "Előző foglalás időtartama": "4"
                                },
                                {
                                    "Szoba azonosító": "184",
                                    "Foglalás azonosító": "684",
                                    "Időtartam (nap)": "3",
                                    "Előző foglalás időtartama": "2"
                                },
                                {
                                    "Szoba azonosító": "184",
                                    "Foglalás azonosító": "1251",
                                    "Időtartam (nap)": "4",
                                    "Előző foglalás időtartama": "3"
                                },
                                {
                                    "Szoba azonosító": "185",
                                    "Foglalás azonosító": "1183",
                                    "Időtartam (nap)": "5",
                                    "Előző foglalás időtartama": "0"
                                },
                                {
                                    "Szoba azonosító": "185",
                                    "Foglalás azonosító": "1441",
                                    "Időtartam (nap)": "7",
                                    "Előző foglalás időtartama": "5"
                                },
                                {
                                    "Szoba azonosító": "185",
                                    "Foglalás azonosító": "1463",
                                    "Időtartam (nap)": "7",
                                    "Előző foglalás időtartama": "7"
                                },
                                {
                                    "Szoba azonosító": "185",
                                    "Foglalás azonosító": "693",
                                    "Időtartam (nap)": "2",
                                    "Előző foglalás időtartama": "7"
                                },
                                {
                                    "Szoba azonosító": "185",
                                    "Foglalás azonosító": "679",
                                    "Időtartam (nap)": "5",
                                    "Előző foglalás időtartama": "2"
                                },
                                {
                                    "Szoba azonosító": "185",
                                    "Foglalás azonosító": "672",
                                    "Időtartam (nap)": "3",
                                    "Előző foglalás időtartama": "5"
                                },
                                {
                                    "Szoba azonosító": "185",
                                    "Foglalás azonosító": "578",
                                    "Időtartam (nap)": "6",
                                    "Előző foglalás időtartama": "3"
                                },
                                {
                                    "Szoba azonosító": "185",
                                    "Foglalás azonosító": "711",
                                    "Időtartam (nap)": "3",
                                    "Előző foglalás időtartama": "6"
                                },
                                {
                                    "Szoba azonosító": "185",
                                    "Foglalás azonosító": "898",
                                    "Időtartam (nap)": "4",
                                    "Előző foglalás időtartama": "3"
                                },
                                {
                                    "Szoba azonosító": "185",
                                    "Foglalás azonosító": "863",
                                    "Időtartam (nap)": "4",
                                    "Előző foglalás időtartama": "4"
                                },
                                {
                                    "Szoba azonosító": "185",
                                    "Foglalás azonosító": "925",
                                    "Időtartam (nap)": "6",
                                    "Előző foglalás időtartama": "4"
                                },
                                {
                                    "Szoba azonosító": "185",
                                    "Foglalás azonosító": "1125",
                                    "Időtartam (nap)": "3",
                                    "Előző foglalás időtartama": "6"
                                },
                                {
                                    "Szoba azonosító": "186",
                                    "Foglalás azonosító": "615",
                                    "Időtartam (nap)": "3",
                                    "Előző foglalás időtartama": "0"
                                },
                                {
                                    "Szoba azonosító": "186",
                                    "Foglalás azonosító": "1467",
                                    "Időtartam (nap)": "3",
                                    "Előző foglalás időtartama": "3"
                                },
                                {
                                    "Szoba azonosító": "186",
                                    "Foglalás azonosító": "1153",
                                    "Időtartam (nap)": "3",
                                    "Előző foglalás időtartama": "3"
                                },
                                {
                                    "Szoba azonosító": "186",
                                    "Foglalás azonosító": "1248",
                                    "Időtartam (nap)": "2",
                                    "Előző foglalás időtartama": "3"
                                },
                                {
                                    "Szoba azonosító": "187",
                                    "Foglalás azonosító": "1404",
                                    "Időtartam (nap)": "2",
                                    "Előző foglalás időtartama": "0"
                                },
                                {
                                    "Szoba azonosító": "187",
                                    "Foglalás azonosító": "695",
                                    "Időtartam (nap)": "6",
                                    "Előző foglalás időtartama": "2"
                                },
                                {
                                    "Szoba azonosító": "187",
                                    "Foglalás azonosító": "633",
                                    "Időtartam (nap)": "6",
                                    "Előző foglalás időtartama": "6"
                                },
                                {
                                    "Szoba azonosító": "187",
                                    "Foglalás azonosító": "743",
                                    "Időtartam (nap)": "2",
                                    "Előző foglalás időtartama": "6"
                                },
                                {
                                    "Szoba azonosító": "187",
                                    "Foglalás azonosító": "766",
                                    "Időtartam (nap)": "1",
                                    "Előző foglalás időtartama": "2"
                                },
                                {
                                    "Szoba azonosító": "187",
                                    "Foglalás azonosító": "957",
                                    "Időtartam (nap)": "4",
                                    "Előző foglalás időtartama": "1"
                                },
                                {
                                    "Szoba azonosító": "187",
                                    "Foglalás azonosító": "868",
                                    "Időtartam (nap)": "4",
                                    "Előző foglalás időtartama": "4"
                                },
                                {
                                    "Szoba azonosító": "188",
                                    "Foglalás azonosító": "912",
                                    "Időtartam (nap)": "1",
                                    "Előző foglalás időtartama": "0"
                                },
                                {
                                    "Szoba azonosító": "188",
                                    "Foglalás azonosító": "1030",
                                    "Időtartam (nap)": "4",
                                    "Előző foglalás időtartama": "1"
                                },
                                {
                                    "Szoba azonosító": "188",
                                    "Foglalás azonosító": "747",
                                    "Időtartam (nap)": "3",
                                    "Előző foglalás időtartama": "4"
                                },
                                {
                                    "Szoba azonosító": "188",
                                    "Foglalás azonosító": "710",
                                    "Időtartam (nap)": "7",
                                    "Előző foglalás időtartama": "3"
                                },
                                {
                                    "Szoba azonosító": "188",
                                    "Foglalás azonosító": "690",
                                    "Időtartam (nap)": "4",
                                    "Előző foglalás időtartama": "7"
                                },
                                {
                                    "Szoba azonosító": "188",
                                    "Foglalás azonosító": "1390",
                                    "Időtartam (nap)": "5",
                                    "Előző foglalás időtartama": "4"
                                },
                                {
                                    "Szoba azonosító": "189",
                                    "Foglalás azonosító": "1204",
                                    "Időtartam (nap)": "2",
                                    "Előző foglalás időtartama": "0"
                                },
                                {
                                    "Szoba azonosító": "189",
                                    "Foglalás azonosító": "1449",
                                    "Időtartam (nap)": "2",
                                    "Előző foglalás időtartama": "2"
                                },
                                {
                                    "Szoba azonosító": "189",
                                    "Foglalás azonosító": "1576",
                                    "Időtartam (nap)": "3",
                                    "Előző foglalás időtartama": "2"
                                },
                                {
                                    "Szoba azonosító": "189",
                                    "Foglalás azonosító": "699",
                                    "Időtartam (nap)": "2",
                                    "Előző foglalás időtartama": "3"
                                },
                                {
                                    "Szoba azonosító": "189",
                                    "Foglalás azonosító": "753",
                                    "Időtartam (nap)": "1",
                                    "Előző foglalás időtartama": "2"
                                },
                                {
                                    "Szoba azonosító": "190",
                                    "Foglalás azonosító": "774",
                                    "Időtartam (nap)": "5",
                                    "Előző foglalás időtartama": "0"
                                },
                                {
                                    "Szoba azonosító": "190",
                                    "Foglalás azonosító": "600",
                                    "Időtartam (nap)": "7",
                                    "Előző foglalás időtartama": "5"
                                },
                                {
                                    "Szoba azonosító": "190",
                                    "Foglalás azonosító": "1017",
                                    "Időtartam (nap)": "1",
                                    "Előző foglalás időtartama": "7"
                                },
                                {
                                    "Szoba azonosító": "190",
                                    "Foglalás azonosító": "989",
                                    "Időtartam (nap)": "1",
                                    "Előző foglalás időtartama": "1"
                                },
                                {
                                    "Szoba azonosító": "190",
                                    "Foglalás azonosító": "1517",
                                    "Időtartam (nap)": "5",
                                    "Előző foglalás időtartama": "1"
                                },
                                {
                                    "Szoba azonosító": "191",
                                    "Foglalás azonosító": "1502",
                                    "Időtartam (nap)": "2",
                                    "Előző foglalás időtartama": "0"
                                },
                                {
                                    "Szoba azonosító": "191",
                                    "Foglalás azonosító": "1508",
                                    "Időtartam (nap)": "7",
                                    "Előző foglalás időtartama": "2"
                                },
                                {
                                    "Szoba azonosító": "191",
                                    "Foglalás azonosító": "1323",
                                    "Időtartam (nap)": "7",
                                    "Előző foglalás időtartama": "7"
                                },
                                {
                                    "Szoba azonosító": "191",
                                    "Foglalás azonosító": "1302",
                                    "Időtartam (nap)": "1",
                                    "Előző foglalás időtartama": "7"
                                },
                                {
                                    "Szoba azonosító": "191",
                                    "Foglalás azonosító": "1039",
                                    "Időtartam (nap)": "6",
                                    "Előző foglalás időtartama": "1"
                                },
                                {
                                    "Szoba azonosító": "192",
                                    "Foglalás azonosító": "903",
                                    "Időtartam (nap)": "7",
                                    "Előző foglalás időtartama": "0"
                                },
                                {
                                    "Szoba azonosító": "192",
                                    "Foglalás azonosító": "680",
                                    "Időtartam (nap)": "4",
                                    "Előző foglalás időtartama": "7"
                                },
                                {
                                    "Szoba azonosító": "193",
                                    "Foglalás azonosító": "675",
                                    "Időtartam (nap)": "2",
                                    "Előző foglalás időtartama": "0"
                                },
                                {
                                    "Szoba azonosító": "193",
                                    "Foglalás azonosító": "634",
                                    "Időtartam (nap)": "6",
                                    "Előző foglalás időtartama": "2"
                                },
                                {
                                    "Szoba azonosító": "193",
                                    "Foglalás azonosító": "835",
                                    "Időtartam (nap)": "2",
                                    "Előző foglalás időtartama": "6"
                                },
                                {
                                    "Szoba azonosító": "193",
                                    "Foglalás azonosító": "977",
                                    "Időtartam (nap)": "2",
                                    "Előző foglalás időtartama": "2"
                                },
                                {
                                    "Szoba azonosító": "193",
                                    "Foglalás azonosító": "926",
                                    "Időtartam (nap)": "1",
                                    "Előző foglalás időtartama": "2"
                                },
                                {
                                    "Szoba azonosító": "193",
                                    "Foglalás azonosító": "1043",
                                    "Időtartam (nap)": "6",
                                    "Előző foglalás időtartama": "1"
                                },
                                {
                                    "Szoba azonosító": "193",
                                    "Foglalás azonosító": "1238",
                                    "Időtartam (nap)": "6",
                                    "Előző foglalás időtartama": "6"
                                },
                                {
                                    "Szoba azonosító": "194",
                                    "Foglalás azonosító": "1095",
                                    "Időtartam (nap)": "5",
                                    "Előző foglalás időtartama": "0"
                                },
                                {
                                    "Szoba azonosító": "195",
                                    "Foglalás azonosító": "1074",
                                    "Időtartam (nap)": "7",
                                    "Előző foglalás időtartama": "0"
                                },
                                {
                                    "Szoba azonosító": "195",
                                    "Foglalás azonosító": "842",
                                    "Időtartam (nap)": "4",
                                    "Előző foglalás időtartama": "7"
                                },
                                {
                                    "Szoba azonosító": "195",
                                    "Foglalás azonosító": "721",
                                    "Időtartam (nap)": "4",
                                    "Előző foglalás időtartama": "4"
                                },
                                {
                                    "Szoba azonosító": "195",
                                    "Foglalás azonosító": "1184",
                                    "Időtartam (nap)": "5",
                                    "Előző foglalás időtartama": "4"
                                },
                                {
                                    "Szoba azonosító": "195",
                                    "Foglalás azonosító": "1473",
                                    "Időtartam (nap)": "7",
                                    "Előző foglalás időtartama": "5"
                                },
                                {
                                    "Szoba azonosító": "195",
                                    "Foglalás azonosító": "1484",
                                    "Időtartam (nap)": "1",
                                    "Előző foglalás időtartama": "7"
                                },
                                {
                                    "Szoba azonosító": "196",
                                    "Foglalás azonosító": "1314",
                                    "Időtartam (nap)": "5",
                                    "Előző foglalás időtartama": "0"
                                },
                                {
                                    "Szoba azonosító": "196",
                                    "Foglalás azonosító": "1340",
                                    "Időtartam (nap)": "5",
                                    "Előző foglalás időtartama": "5"
                                },
                                {
                                    "Szoba azonosító": "196",
                                    "Foglalás azonosító": "673",
                                    "Időtartam (nap)": "5",
                                    "Előző foglalás időtartama": "5"
                                },
                                {
                                    "Szoba azonosító": "196",
                                    "Foglalás azonosító": "952",
                                    "Időtartam (nap)": "3",
                                    "Előző foglalás időtartama": "5"
                                },
                                {
                                    "Szoba azonosító": "197",
                                    "Foglalás azonosító": "1091",
                                    "Időtartam (nap)": "7",
                                    "Előző foglalás időtartama": "0"
                                },
                                {
                                    "Szoba azonosító": "197",
                                    "Foglalás azonosító": "993",
                                    "Időtartam (nap)": "7",
                                    "Előző foglalás időtartama": "7"
                                },
                                {
                                    "Szoba azonosító": "197",
                                    "Foglalás azonosító": "764",
                                    "Időtartam (nap)": "7",
                                    "Előző foglalás időtartama": "7"
                                },
                                {
                                    "Szoba azonosító": "197",
                                    "Foglalás azonosító": "1304",
                                    "Időtartam (nap)": "7",
                                    "Előző foglalás időtartama": "7"
                                },
                                {
                                    "Szoba azonosító": "197",
                                    "Foglalás azonosító": "1387",
                                    "Időtartam (nap)": "3",
                                    "Előző foglalás időtartama": "7"
                                },
                                {
                                    "Szoba azonosító": "197",
                                    "Foglalás azonosító": "1172",
                                    "Időtartam (nap)": "7",
                                    "Előző foglalás időtartama": "3"
                                },
                                {
                                    "Szoba azonosító": "198",
                                    "Foglalás azonosító": "1138",
                                    "Időtartam (nap)": "5",
                                    "Előző foglalás időtartama": "0"
                                },
                                {
                                    "Szoba azonosító": "198",
                                    "Foglalás azonosító": "1161",
                                    "Időtartam (nap)": "5",
                                    "Előző foglalás időtartama": "5"
                                },
                                {
                                    "Szoba azonosító": "198",
                                    "Foglalás azonosító": "1216",
                                    "Időtartam (nap)": "7",
                                    "Előző foglalás időtartama": "5"
                                },
                                {
                                    "Szoba azonosító": "198",
                                    "Foglalás azonosító": "1420",
                                    "Időtartam (nap)": "5",
                                    "Előző foglalás időtartama": "7"
                                },
                                {
                                    "Szoba azonosító": "198",
                                    "Foglalás azonosító": "1011",
                                    "Időtartam (nap)": "7",
                                    "Előző foglalás időtartama": "5"
                                },
                                {
                                    "Szoba azonosító": "198",
                                    "Foglalás azonosító": "1065",
                                    "Időtartam (nap)": "3",
                                    "Előző foglalás időtartama": "7"
                                },
                                {
                                    "Szoba azonosító": "198",
                                    "Foglalás azonosító": "1116",
                                    "Időtartam (nap)": "1",
                                    "Előző foglalás időtartama": "3"
                                },
                                {
                                    "Szoba azonosító": "198",
                                    "Foglalás azonosító": "978",
                                    "Időtartam (nap)": "1",
                                    "Előző foglalás időtartama": "1"
                                }
                            ]
                        },
                        "text/html": [
                            "<table>",
                            "<tr><th>Szoba azonosító</th><th>Foglalás azonosító</th><th>Időtartam (nap)</th><th>Előző foglalás időtartama</th></tr>",
                            "<tr><td>1</td><td>620</td><td>5</td><td>0</td></tr>",
                            "<tr><td>1</td><td>738</td><td>7</td><td>5</td></tr>",
                            "<tr><td>1</td><td>803</td><td>4</td><td>7</td></tr>",
                            "<tr><td>1</td><td>949</td><td>1</td><td>4</td></tr>",
                            "<tr><td>1</td><td>1137</td><td>2</td><td>1</td></tr>",
                            "<tr><td>1</td><td>1152</td><td>1</td><td>2</td></tr>",
                            "<tr><td>1</td><td>1274</td><td>1</td><td>1</td></tr>",
                            "<tr><td>1</td><td>1334</td><td>4</td><td>1</td></tr>",
                            "<tr><td>2</td><td>1311</td><td>7</td><td>0</td></tr>",
                            "<tr><td>2</td><td>1051</td><td>1</td><td>7</td></tr>",
                            "<tr><td>2</td><td>1069</td><td>7</td><td>1</td></tr>",
                            "<tr><td>2</td><td>828</td><td>3</td><td>7</td></tr>",
                            "<tr><td>3</td><td>788</td><td>6</td><td>0</td></tr>",
                            "<tr><td>3</td><td>629</td><td>4</td><td>6</td></tr>",
                            "<tr><td>3</td><td>666</td><td>6</td><td>4</td></tr>",
                            "<tr><td>3</td><td>1110</td><td>7</td><td>6</td></tr>",
                            "<tr><td>3</td><td>1038</td><td>3</td><td>7</td></tr>",
                            "<tr><td>3</td><td>1151</td><td>1</td><td>3</td></tr>",
                            "<tr><td>3</td><td>1434</td><td>5</td><td>1</td></tr>",
                            "<tr><td>3</td><td>1544</td><td>5</td><td>5</td></tr>",
                            "<tr><td>4</td><td>1492</td><td>6</td><td>0</td></tr>",
                            "<tr><td>4</td><td>1132</td><td>6</td><td>6</td></tr>",
                            "<tr><td>4</td><td>1001</td><td>7</td><td>6</td></tr>",
                            "<tr><td>4</td><td>1127</td><td>3</td><td>7</td></tr>",
                            "<tr><td>4</td><td>946</td><td>5</td><td>3</td></tr>",
                            "<tr><td>4</td><td>651</td><td>7</td><td>5</td></tr>",
                            "<tr><td>5</td><td>564</td><td>2</td><td>0</td></tr>",
                            "<tr><td>5</td><td>965</td><td>7</td><td>2</td></tr>",
                            "<tr><td>5</td><td>1073</td><td>5</td><td>7</td></tr>",
                            "<tr><td>5</td><td>1257</td><td>3</td><td>5</td></tr>",
                            "<tr><td>6</td><td>1099</td><td>4</td><td>0</td></tr>",
                            "<tr><td>6</td><td>990</td><td>4</td><td>4</td></tr>",
                            "<tr><td>6</td><td>850</td><td>2</td><td>4</td></tr>",
                            "<tr><td>6</td><td>873</td><td>3</td><td>2</td></tr>",
                            "<tr><td>6</td><td>560</td><td>6</td><td>3</td></tr>",
                            "<tr><td>6</td><td>772</td><td>6</td><td>6</td></tr>",
                            "<tr><td>7</td><td>759</td><td>7</td><td>0</td></tr>",
                            "<tr><td>7</td><td>562</td><td>4</td><td>7</td></tr>",
                            "<tr><td>7</td><td>1252</td><td>2</td><td>4</td></tr>",
                            "<tr><td>7</td><td>1131</td><td>1</td><td>2</td></tr>",
                            "<tr><td>7</td><td>1175</td><td>4</td><td>1</td></tr>",
                            "<tr><td>7</td><td>1182</td><td>4</td><td>4</td></tr>",
                            "<tr><td>8</td><td>694</td><td>4</td><td>0</td></tr>",
                            "<tr><td>8</td><td>832</td><td>4</td><td>4</td></tr>",
                            "<tr><td>8</td><td>818</td><td>4</td><td>4</td></tr>",
                            "<tr><td>8</td><td>882</td><td>1</td><td>4</td></tr>",
                            "<tr><td>8</td><td>947</td><td>3</td><td>1</td></tr>",
                            "<tr><td>9</td><td>609</td><td>2</td><td>0</td></tr>",
                            "<tr><td>9</td><td>1157</td><td>6</td><td>2</td></tr>",
                            "<tr><td>9</td><td>1260</td><td>6</td><td>6</td></tr>",
                            "<tr><td>9</td><td>1220</td><td>3</td><td>6</td></tr>",
                            "<tr><td>9</td><td>1537</td><td>3</td><td>3</td></tr>",
                            "<tr><td>9</td><td>1423</td><td>3</td><td>3</td></tr>",
                            "<tr><td>10</td><td>1319</td><td>6</td><td>0</td></tr>",
                            "<tr><td>10</td><td>569</td><td>3</td><td>6</td></tr>",
                            "<tr><td>10</td><td>790</td><td>5</td><td>3</td></tr>",
                            "<tr><td>10</td><td>795</td><td>4</td><td>5</td></tr>",
                            "<tr><td>11</td><td>918</td><td>6</td><td>0</td></tr>",
                            "<tr><td>11</td><td>1123</td><td>5</td><td>6</td></tr>",
                            "<tr><td>11</td><td>1236</td><td>1</td><td>5</td></tr>",
                            "<tr><td>11</td><td>1523</td><td>1</td><td>1</td></tr>",
                            "<tr><td>12</td><td>1430</td><td>2</td><td>0</td></tr>",
                            "<tr><td>12</td><td>1140</td><td>3</td><td>2</td></tr>",
                            "<tr><td>12</td><td>1164</td><td>5</td><td>3</td></tr>",
                            "<tr><td>12</td><td>1020</td><td>5</td><td>5</td></tr>",
                            "<tr><td>12</td><td>951</td><td>3</td><td>5</td></tr>",
                            "<tr><td>12</td><td>970</td><td>2</td><td>3</td></tr>",
                            "<tr><td>12</td><td>876</td><td>7</td><td>2</td></tr>",
                            "<tr><td>12</td><td>775</td><td>4</td><td>7</td></tr>",
                            "<tr><td>12</td><td>697</td><td>2</td><td>4</td></tr>",
                            "<tr><td>13</td><td>763</td><td>4</td><td>0</td></tr>",
                            "<tr><td>13</td><td>1044</td><td>6</td><td>4</td></tr>",
                            "<tr><td>13</td><td>1347</td><td>3</td><td>6</td></tr>",
                            "<tr><td>13</td><td>1469</td><td>2</td><td>3</td></tr>",
                            "<tr><td>14</td><td>1542</td><td>4</td><td>0</td></tr>",
                            "<tr><td>14</td><td>813</td><td>3</td><td>4</td></tr>",
                            "<tr><td>14</td><td>663</td><td>1</td><td>3</td></tr>",
                            "<tr><td>15</td><td>791</td><td>5</td><td>0</td></tr>",
                            "<tr><td>15</td><td>1028</td><td>2</td><td>5</td></tr>",
                            "<tr><td>15</td><td>1442</td><td>3</td><td>2</td></tr>",
                            "<tr><td>15</td><td>1418</td><td>4</td><td>3</td></tr>",
                            "<tr><td>15</td><td>1129</td><td>4</td><td>4</td></tr>",
                            "<tr><td>15</td><td>1244</td><td>1</td><td>4</td></tr>",
                            "<tr><td>16</td><td>1498</td><td>7</td><td>0</td></tr>",
                            "<tr><td>16</td><td>896</td><td>1</td><td>7</td></tr>",
                            "<tr><td>16</td><td>856</td><td>6</td><td>1</td></tr>",
                            "<tr><td>16</td><td>973</td><td>1</td><td>6</td></tr>",
                            "<tr><td>16</td><td>687</td><td>3</td><td>1</td></tr>",
                            "<tr><td>17</td><td>602</td><td>6</td><td>0</td></tr>",
                            "<tr><td>17</td><td>744</td><td>1</td><td>6</td></tr>",
                            "<tr><td>17</td><td>713</td><td>6</td><td>1</td></tr>",
                            "<tr><td>17</td><td>916</td><td>2</td><td>6</td></tr>",
                            "<tr><td>17</td><td>1549</td><td>3</td><td>2</td></tr>",
                            "<tr><td>17</td><td>1316</td><td>5</td><td>3</td></tr>",
                            "<tr><td>18</td><td>1173</td><td>6</td><td>0</td></tr>",
                            "<tr><td>18</td><td>1198</td><td>4</td><td>6</td></tr>",
                            "<tr><td>18</td><td>1505</td><td>6</td><td>4</td></tr>",
                            "<tr><td>18</td><td>1035</td><td>6</td><td>6</td></tr>",
                            "<tr><td>18</td><td>767</td><td>3</td><td>6</td></tr>",
                            "<tr><td>18</td><td>626</td><td>3</td><td>3</td></tr>",
                            "<tr><td>19</td><td>696</td><td>1</td><td>0</td></tr>",
                            "<tr><td>19</td><td>778</td><td>1</td><td>1</td></tr>",
                            "<tr><td>19</td><td>948</td><td>2</td><td>1</td></tr>",
                            "<tr><td>19</td><td>1533</td><td>1</td><td>2</td></tr>",
                            "<tr><td>19</td><td>1139</td><td>7</td><td>1</td></tr>",
                            "<tr><td>19</td><td>1237</td><td>1</td><td>7</td></tr>",
                            "<tr><td>20</td><td>1114</td><td>5</td><td>0</td></tr>",
                            "<tr><td>20</td><td>1106</td><td>2</td><td>5</td></tr>",
                            "<tr><td>20</td><td>1070</td><td>1</td><td>2</td></tr>",
                            "<tr><td>20</td><td>820</td><td>1</td><td>1</td></tr>",
                            "<tr><td>20</td><td>755</td><td>6</td><td>1</td></tr>",
                            "<tr><td>21</td><td>805</td><td>1</td><td>0</td></tr>",
                            "<tr><td>21</td><td>660</td><td>5</td><td>1</td></tr>",
                            "<tr><td>21</td><td>566</td><td>6</td><td>5</td></tr>",
                            "<tr><td>21</td><td>1212</td><td>6</td><td>6</td></tr>",
                            "<tr><td>22</td><td>1206</td><td>7</td><td>0</td></tr>",
                            "<tr><td>22</td><td>1130</td><td>1</td><td>7</td></tr>",
                            "<tr><td>22</td><td>1195</td><td>6</td><td>1</td></tr>",
                            "<tr><td>22</td><td>1287</td><td>3</td><td>6</td></tr>",
                            "<tr><td>22</td><td>1005</td><td>3</td><td>3</td></tr>",
                            "<tr><td>22</td><td>906</td><td>1</td><td>3</td></tr>",
                            "<tr><td>23</td><td>848</td><td>1</td><td>0</td></tr>",
                            "<tr><td>23</td><td>945</td><td>7</td><td>1</td></tr>",
                            "<tr><td>23</td><td>934</td><td>1</td><td>7</td></tr>",
                            "<tr><td>24</td><td>852</td><td>2</td><td>0</td></tr>",
                            "<tr><td>24</td><td>1415</td><td>3</td><td>2</td></tr>",
                            "<tr><td>24</td><td>1167</td><td>1</td><td>3</td></tr>",
                            "<tr><td>25</td><td>1362</td><td>2</td><td>0</td></tr>",
                            "<tr><td>25</td><td>1052</td><td>3</td><td>2</td></tr>",
                            "<tr><td>26</td><td>1388</td><td>3</td><td>0</td></tr>",
                            "<tr><td>26</td><td>1158</td><td>2</td><td>3</td></tr>",
                            "<tr><td>27</td><td>1275</td><td>6</td><td>0</td></tr>",
                            "<tr><td>27</td><td>1377</td><td>1</td><td>6</td></tr>",
                            "<tr><td>27</td><td>1476</td><td>1</td><td>1</td></tr>",
                            "<tr><td>27</td><td>1031</td><td>2</td><td>1</td></tr>",
                            "<tr><td>27</td><td>1082</td><td>5</td><td>2</td></tr>",
                            "<tr><td>27</td><td>807</td><td>2</td><td>5</td></tr>",
                            "<tr><td>27</td><td>758</td><td>3</td><td>2</td></tr>",
                            "<tr><td>28</td><td>725</td><td>5</td><td>0</td></tr>",
                            "<tr><td>28</td><td>872</td><td>5</td><td>5</td></tr>",
                            "<tr><td>28</td><td>901</td><td>4</td><td>5</td></tr>",
                            "<tr><td>28</td><td>886</td><td>4</td><td>4</td></tr>",
                            "<tr><td>28</td><td>1459</td><td>2</td><td>4</td></tr>",
                            "<tr><td>28</td><td>1150</td><td>6</td><td>2</td></tr>",
                            "<tr><td>29</td><td>1185</td><td>5</td><td>0</td></tr>",
                            "<tr><td>29</td><td>1235</td><td>7</td><td>5</td></tr>",
                            "<tr><td>29</td><td>1568</td><td>7</td><td>7</td></tr>",
                            "<tr><td>29</td><td>894</td><td>1</td><td>7</td></tr>",
                            "<tr><td>29</td><td>1076</td><td>7</td><td>1</td></tr>",
                            "<tr><td>29</td><td>611</td><td>5</td><td>7</td></tr>",
                            "<tr><td>30</td><td>604</td><td>2</td><td>0</td></tr>",
                            "<tr><td>30</td><td>1023</td><td>7</td><td>2</td></tr>",
                            "<tr><td>30</td><td>1136</td><td>5</td><td>7</td></tr>",
                            "<tr><td>31</td><td>606</td><td>1</td><td>0</td></tr>",
                            "<tr><td>31</td><td>598</td><td>2</td><td>1</td></tr>",
                            "<tr><td>31</td><td>728</td><td>4</td><td>2</td></tr>",
                            "<tr><td>32</td><td>920</td><td>4</td><td>0</td></tr>",
                            "<tr><td>33</td><td>1053</td><td>1</td><td>0</td></tr>",
                            "<tr><td>33</td><td>1012</td><td>7</td><td>1</td></tr>",
                            "<tr><td>33</td><td>624</td><td>6</td><td>7</td></tr>",
                            "<tr><td>33</td><td>1381</td><td>6</td><td>6</td></tr>",
                            "<tr><td>33</td><td>1344</td><td>5</td><td>6</td></tr>",
                            "<tr><td>33</td><td>1321</td><td>4</td><td>5</td></tr>",
                            "<tr><td>34</td><td>777</td><td>3</td><td>0</td></tr>",
                            "<tr><td>34</td><td>821</td><td>1</td><td>3</td></tr>",
                            "<tr><td>34</td><td>904</td><td>2</td><td>1</td></tr>",
                            "<tr><td>34</td><td>870</td><td>6</td><td>2</td></tr>",
                            "<tr><td>35</td><td>971</td><td>3</td><td>0</td></tr>",
                            "<tr><td>35</td><td>979</td><td>7</td><td>3</td></tr>",
                            "<tr><td>35</td><td>829</td><td>2</td><td>7</td></tr>",
                            "<tr><td>35</td><td>707</td><td>2</td><td>2</td></tr>",
                            "<tr><td>35</td><td>686</td><td>6</td><td>2</td></tr>",
                            "<tr><td>35</td><td>1411</td><td>1</td><td>6</td></tr>",
                            "<tr><td>35</td><td>1480</td><td>37</td><td>1</td></tr>",
                            "<tr><td>35</td><td>1436</td><td>1</td><td>37</td></tr>",
                            "<tr><td>35</td><td>1529</td><td>4</td><td>1</td></tr>",
                            "<tr><td>36</td><td>748</td><td>2</td><td>0</td></tr>",
                            "<tr><td>36</td><td>750</td><td>6</td><td>2</td></tr>",
                            "<tr><td>36</td><td>985</td><td>6</td><td>6</td></tr>",
                            "<tr><td>36</td><td>919</td><td>1</td><td>6</td></tr>",
                            "<tr><td>36</td><td>895</td><td>5</td><td>1</td></tr>",
                            "<tr><td>36</td><td>1003</td><td>4</td><td>5</td></tr>",
                            "<tr><td>37</td><td>705</td><td>4</td><td>0</td></tr>",
                            "<tr><td>37</td><td>688</td><td>2</td><td>4</td></tr>",
                            "<tr><td>37</td><td>1335</td><td>7</td><td>2</td></tr>",
                            "<tr><td>38</td><td>1416</td><td>5</td><td>0</td></tr>",
                            "<tr><td>38</td><td>1351</td><td>4</td><td>5</td></tr>",
                            "<tr><td>38</td><td>1556</td><td>6</td><td>4</td></tr>",
                            "<tr><td>38</td><td>1478</td><td>4</td><td>6</td></tr>",
                            "<tr><td>38</td><td>627</td><td>6</td><td>4</td></tr>",
                            "<tr><td>38</td><td>1033</td><td>2</td><td>6</td></tr>",
                            "<tr><td>38</td><td>1078</td><td>7</td><td>2</td></tr>",
                            "<tr><td>38</td><td>1060</td><td>2</td><td>7</td></tr>",
                            "<tr><td>39</td><td>899</td><td>6</td><td>0</td></tr>",
                            "<tr><td>39</td><td>601</td><td>6</td><td>6</td></tr>",
                            "<tr><td>39</td><td>1435</td><td>7</td><td>6</td></tr>",
                            "<tr><td>39</td><td>1454</td><td>1</td><td>7</td></tr>",
                            "<tr><td>39</td><td>1538</td><td>2</td><td>1</td></tr>",
                            "<tr><td>39</td><td>1380</td><td>5</td><td>2</td></tr>",
                            "<tr><td>39</td><td>1214</td><td>5</td><td>5</td></tr>",
                            "<tr><td>40</td><td>924</td><td>5</td><td>0</td></tr>",
                            "<tr><td>40</td><td>932</td><td>6</td><td>5</td></tr>",
                            "<tr><td>40</td><td>1118</td><td>5</td><td>6</td></tr>",
                            "<tr><td>40</td><td>1018</td><td>5</td><td>5</td></tr>",
                            "<tr><td>41</td><td>960</td><td>6</td><td>0</td></tr>",
                            "<tr><td>41</td><td>1144</td><td>1</td><td>6</td></tr>",
                            "<tr><td>42</td><td>1309</td><td>2</td><td>0</td></tr>",
                            "<tr><td>42</td><td>1444</td><td>6</td><td>2</td></tr>",
                            "<tr><td>42</td><td>851</td><td>7</td><td>6</td></tr>",
                            "<tr><td>42</td><td>561</td><td>4</td><td>7</td></tr>",
                            "<tr><td>42</td><td>590</td><td>5</td><td>4</td></tr>",
                            "<tr><td>42</td><td>770</td><td>3</td><td>5</td></tr>",
                            "<tr><td>43</td><td>670</td><td>4</td><td>0</td></tr>",
                            "<tr><td>43</td><td>1019</td><td>4</td><td>4</td></tr>",
                            "<tr><td>43</td><td>1088</td><td>2</td><td>4</td></tr>",
                            "<tr><td>43</td><td>1553</td><td>5</td><td>2</td></tr>",
                            "<tr><td>43</td><td>1524</td><td>1</td><td>5</td></tr>",
                            "<tr><td>43</td><td>1207</td><td>1</td><td>1</td></tr>",
                            "<tr><td>43</td><td>1227</td><td>5</td><td>1</td></tr>",
                            "<tr><td>43</td><td>1270</td><td>4</td><td>5</td></tr>",
                            "<tr><td>44</td><td>1295</td><td>2</td><td>0</td></tr>",
                            "<tr><td>44</td><td>1552</td><td>2</td><td>2</td></tr>",
                            "<tr><td>44</td><td>1425</td><td>2</td><td>2</td></tr>",
                            "<tr><td>44</td><td>658</td><td>6</td><td>2</td></tr>",
                            "<tr><td>44</td><td>589</td><td>2</td><td>6</td></tr>",
                            "<tr><td>44</td><td>823</td><td>2</td><td>2</td></tr>",
                            "<tr><td>45</td><td>802</td><td>7</td><td>0</td></tr>",
                            "<tr><td>45</td><td>800</td><td>5</td><td>7</td></tr>",
                            "<tr><td>45</td><td>846</td><td>3</td><td>5</td></tr>",
                            "<tr><td>45</td><td>1303</td><td>2</td><td>3</td></tr>",
                            "<tr><td>45</td><td>1135</td><td>3</td><td>2</td></tr>",
                            "<tr><td>46</td><td>1187</td><td>7</td><td>0</td></tr>",
                            "<tr><td>46</td><td>1291</td><td>3</td><td>7</td></tr>",
                            "<tr><td>46</td><td>1515</td><td>4</td><td>3</td></tr>",
                            "<tr><td>46</td><td>752</td><td>5</td><td>4</td></tr>",
                            "<tr><td>47</td><td>955</td><td>1</td><td>0</td></tr>",
                            "<tr><td>47</td><td>1056</td><td>7</td><td>1</td></tr>",
                            "<tr><td>48</td><td>986</td><td>5</td><td>0</td></tr>",
                            "<tr><td>48</td><td>914</td><td>5</td><td>5</td></tr>",
                            "<tr><td>48</td><td>824</td><td>2</td><td>5</td></tr>",
                            "<tr><td>48</td><td>603</td><td>3</td><td>2</td></tr>",
                            "<tr><td>48</td><td>628</td><td>2</td><td>3</td></tr>",
                            "<tr><td>48</td><td>1546</td><td>3</td><td>2</td></tr>",
                            "<tr><td>48</td><td>1547</td><td>1</td><td>3</td></tr>",
                            "<tr><td>48</td><td>1581</td><td>5</td><td>1</td></tr>",
                            "<tr><td>48</td><td>1243</td><td>6</td><td>5</td></tr>",
                            "<tr><td>49</td><td>1221</td><td>2</td><td>0</td></tr>",
                            "<tr><td>49</td><td>1200</td><td>7</td><td>2</td></tr>",
                            "<tr><td>49</td><td>1536</td><td>6</td><td>7</td></tr>",
                            "<tr><td>49</td><td>826</td><td>4</td><td>6</td></tr>",
                            "<tr><td>49</td><td>793</td><td>6</td><td>4</td></tr>",
                            "<tr><td>49</td><td>888</td><td>7</td><td>6</td></tr>",
                            "<tr><td>49</td><td>1066</td><td>7</td><td>7</td></tr>",
                            "<tr><td>50</td><td>1063</td><td>2</td><td>0</td></tr>",
                            "<tr><td>50</td><td>787</td><td>3</td><td>2</td></tr>",
                            "<tr><td>50</td><td>1224</td><td>1</td><td>3</td></tr>",
                            "<tr><td>50</td><td>1272</td><td>1</td><td>1</td></tr>",
                            "<tr><td>51</td><td>1165</td><td>5</td><td>0</td></tr>",
                            "<tr><td>51</td><td>1550</td><td>1</td><td>5</td></tr>",
                            "<tr><td>51</td><td>1477</td><td>6</td><td>1</td></tr>",
                            "<tr><td>51</td><td>811</td><td>2</td><td>6</td></tr>",
                            "<tr><td>51</td><td>865</td><td>7</td><td>2</td></tr>",
                            "<tr><td>52</td><td>822</td><td>7</td><td>0</td></tr>",
                            "<tr><td>52</td><td>1431</td><td>5</td><td>7</td></tr>",
                            "<tr><td>52</td><td>1534</td><td>5</td><td>5</td></tr>",
                            "<tr><td>52</td><td>1258</td><td>5</td><td>5</td></tr>",
                            "<tr><td>52</td><td>1202</td><td>2</td><td>5</td></tr>",
                            "<tr><td>53</td><td>855</td><td>1</td><td>0</td></tr>",
                            "<tr><td>53</td><td>987</td><td>4</td><td>1</td></tr>",
                            "<tr><td>54</td><td>889</td><td>2</td><td>0</td></tr>",
                            "<tr><td>54</td><td>1096</td><td>4</td><td>2</td></tr>",
                            "<tr><td>54</td><td>622</td><td>7</td><td>4</td></tr>",
                            "<tr><td>54</td><td>642</td><td>5</td><td>7</td></tr>",
                            "<tr><td>54</td><td>668</td><td>1</td><td>5</td></tr>",
                            "<tr><td>54</td><td>1328</td><td>4</td><td>1</td></tr>",
                            "<tr><td>55</td><td>1327</td><td>6</td><td>0</td></tr>",
                            "<tr><td>55</td><td>1386</td><td>2</td><td>6</td></tr>",
                            "<tr><td>55</td><td>1232</td><td>7</td><td>2</td></tr>",
                            "<tr><td>55</td><td>1163</td><td>2</td><td>7</td></tr>",
                            "<tr><td>55</td><td>1512</td><td>1</td><td>2</td></tr>",
                            "<tr><td>55</td><td>1520</td><td>1</td><td>1</td></tr>",
                            "<tr><td>55</td><td>734</td><td>6</td><td>1</td></tr>",
                            "<tr><td>55</td><td>1086</td><td>5</td><td>6</td></tr>",
                            "<tr><td>56</td><td>935</td><td>4</td><td>0</td></tr>",
                            "<tr><td>56</td><td>838</td><td>2</td><td>4</td></tr>",
                            "<tr><td>57</td><td>1504</td><td>4</td><td>0</td></tr>",
                            "<tr><td>57</td><td>1466</td><td>7</td><td>4</td></tr>",
                            "<tr><td>57</td><td>1389</td><td>1</td><td>7</td></tr>",
                            "<tr><td>57</td><td>1348</td><td>1</td><td>1</td></tr>",
                            "<tr><td>58</td><td>1322</td><td>3</td><td>0</td></tr>",
                            "<tr><td>58</td><td>1293</td><td>3</td><td>3</td></tr>",
                            "<tr><td>58</td><td>1285</td><td>7</td><td>3</td></tr>",
                            "<tr><td>58</td><td>1307</td><td>6</td><td>7</td></tr>",
                            "<tr><td>58</td><td>1186</td><td>6</td><td>6</td></tr>",
                            "<tr><td>58</td><td>1208</td><td>6</td><td>6</td></tr>",
                            "<tr><td>58</td><td>1255</td><td>7</td><td>6</td></tr>",
                            "<tr><td>58</td><td>1261</td><td>6</td><td>7</td></tr>",
                            "<tr><td>58</td><td>1451</td><td>6</td><td>6</td></tr>",
                            "<tr><td>58</td><td>719</td><td>3</td><td>6</td></tr>",
                            "<tr><td>58</td><td>773</td><td>2</td><td>3</td></tr>",
                            "<tr><td>58</td><td>883</td><td>5</td><td>2</td></tr>",
                            "<tr><td>58</td><td>1113</td><td>3</td><td>5</td></tr>",
                            "<tr><td>59</td><td>1084</td><td>2</td><td>0</td></tr>",
                            "<tr><td>59</td><td>1080</td><td>1</td><td>2</td></tr>",
                            "<tr><td>59</td><td>1573</td><td>1</td><td>1</td></tr>",
                            "<tr><td>59</td><td>1239</td><td>2</td><td>1</td></tr>",
                            "<tr><td>59</td><td>1191</td><td>6</td><td>2</td></tr>",
                            "<tr><td>59</td><td>1170</td><td>5</td><td>6</td></tr>",
                            "<tr><td>59</td><td>1288</td><td>3</td><td>5</td></tr>",
                            "<tr><td>60</td><td>676</td><td>2</td><td>0</td></tr>",
                            "<tr><td>61</td><td>756</td><td>6</td><td>0</td></tr>",
                            "<tr><td>61</td><td>701</td><td>2</td><td>6</td></tr>",
                            "<tr><td>61</td><td>1148</td><td>3</td><td>2</td></tr>",
                            "<tr><td>61</td><td>1218</td><td>2</td><td>3</td></tr>",
                            "<tr><td>61</td><td>1496</td><td>7</td><td>2</td></tr>",
                            "<tr><td>62</td><td>1426</td><td>4</td><td>0</td></tr>",
                            "<tr><td>62</td><td>702</td><td>5</td><td>4</td></tr>",
                            "<tr><td>62</td><td>1081</td><td>7</td><td>5</td></tr>",
                            "<tr><td>62</td><td>936</td><td>3</td><td>7</td></tr>",
                            "<tr><td>62</td><td>938</td><td>1</td><td>3</td></tr>",
                            "<tr><td>63</td><td>891</td><td>6</td><td>0</td></tr>",
                            "<tr><td>63</td><td>845</td><td>1</td><td>6</td></tr>",
                            "<tr><td>63</td><td>769</td><td>5</td><td>1</td></tr>",
                            "<tr><td>63</td><td>625</td><td>3</td><td>5</td></tr>",
                            "<tr><td>64</td><td>875</td><td>2</td><td>0</td></tr>",
                            "<tr><td>64</td><td>1122</td><td>4</td><td>2</td></tr>",
                            "<tr><td>64</td><td>1446</td><td>6</td><td>4</td></tr>",
                            "<tr><td>64</td><td>1465</td><td>4</td><td>6</td></tr>",
                            "<tr><td>64</td><td>1582</td><td>1</td><td>4</td></tr>",
                            "<tr><td>64</td><td>1233</td><td>7</td><td>1</td></tr>",
                            "<tr><td>65</td><td>650</td><td>6</td><td>0</td></tr>",
                            "<tr><td>66</td><td>736</td><td>3</td><td>0</td></tr>",
                            "<tr><td>66</td><td>950</td><td>3</td><td>3</td></tr>",
                            "<tr><td>66</td><td>1234</td><td>3</td><td>3</td></tr>",
                            "<tr><td>66</td><td>1264</td><td>4</td><td>3</td></tr>",
                            "<tr><td>67</td><td>1382</td><td>1</td><td>0</td></tr>",
                            "<tr><td>67</td><td>1584</td><td>1</td><td>1</td></tr>",
                            "<tr><td>67</td><td>1580</td><td>5</td><td>1</td></tr>",
                            "<tr><td>67</td><td>874</td><td>6</td><td>5</td></tr>",
                            "<tr><td>67</td><td>638</td><td>5</td><td>6</td></tr>",
                            "<tr><td>67</td><td>645</td><td>6</td><td>5</td></tr>",
                            "<tr><td>68</td><td>563</td><td>5</td><td>0</td></tr>",
                            "<tr><td>68</td><td>1027</td><td>7</td><td>5</td></tr>",
                            "<tr><td>68</td><td>1324</td><td>4</td><td>7</td></tr>",
                            "<tr><td>69</td><td>1246</td><td>7</td><td>0</td></tr>",
                            "<tr><td>69</td><td>1225</td><td>5</td><td>7</td></tr>",
                            "<tr><td>69</td><td>1055</td><td>5</td><td>5</td></tr>",
                            "<tr><td>69</td><td>885</td><td>1</td><td>5</td></tr>",
                            "<tr><td>70</td><td>860</td><td>2</td><td>0</td></tr>",
                            "<tr><td>70</td><td>1006</td><td>3</td><td>2</td></tr>",
                            "<tr><td>70</td><td>1126</td><td>3</td><td>3</td></tr>",
                            "<tr><td>70</td><td>1092</td><td>3</td><td>3</td></tr>",
                            "<tr><td>70</td><td>585</td><td>5</td><td>3</td></tr>",
                            "<tr><td>70</td><td>704</td><td>3</td><td>5</td></tr>",
                            "<tr><td>70</td><td>814</td><td>3</td><td>3</td></tr>",
                            "<tr><td>70</td><td>1325</td><td>7</td><td>3</td></tr>",
                            "<tr><td>70</td><td>1333</td><td>6</td><td>7</td></tr>",
                            "<tr><td>70</td><td>1365</td><td>3</td><td>6</td></tr>",
                            "<tr><td>70</td><td>1457</td><td>7</td><td>3</td></tr>",
                            "<tr><td>71</td><td>712</td><td>1</td><td>0</td></tr>",
                            "<tr><td>71</td><td>681</td><td>3</td><td>1</td></tr>",
                            "<tr><td>71</td><td>1009</td><td>1</td><td>3</td></tr>",
                            "<tr><td>72</td><td>902</td><td>5</td><td>0</td></tr>",
                            "<tr><td>72</td><td>961</td><td>6</td><td>5</td></tr>",
                            "<tr><td>72</td><td>1396</td><td>3</td><td>6</td></tr>",
                            "<tr><td>72</td><td>1318</td><td>2</td><td>3</td></tr>",
                            "<tr><td>73</td><td>1331</td><td>4</td><td>0</td></tr>",
                            "<tr><td>73</td><td>1159</td><td>5</td><td>4</td></tr>",
                            "<tr><td>73</td><td>1000</td><td>4</td><td>5</td></tr>",
                            "<tr><td>73</td><td>714</td><td>7</td><td>4</td></tr>",
                            "<tr><td>74</td><td>830</td><td>1</td><td>0</td></tr>",
                            "<tr><td>74</td><td>797</td><td>5</td><td>1</td></tr>",
                            "<tr><td>74</td><td>595</td><td>7</td><td>5</td></tr>",
                            "<tr><td>74</td><td>1093</td><td>6</td><td>7</td></tr>",
                            "<tr><td>74</td><td>963</td><td>1</td><td>6</td></tr>",
                            "<tr><td>74</td><td>940</td><td>5</td><td>1</td></tr>",
                            "<tr><td>74</td><td>877</td><td>4</td><td>5</td></tr>",
                            "<tr><td>74</td><td>847</td><td>3</td><td>4</td></tr>",
                            "<tr><td>74</td><td>1179</td><td>7</td><td>3</td></tr>",
                            "<tr><td>75</td><td>1412</td><td>2</td><td>0</td></tr>",
                            "<tr><td>75</td><td>1458</td><td>1</td><td>2</td></tr>",
                            "<tr><td>75</td><td>1013</td><td>5</td><td>1</td></tr>",
                            "<tr><td>76</td><td>976</td><td>2</td><td>0</td></tr>",
                            "<tr><td>76</td><td>683</td><td>7</td><td>2</td></tr>",
                            "<tr><td>76</td><td>1557</td><td>3</td><td>7</td></tr>",
                            "<tr><td>77</td><td>1461</td><td>4</td><td>0</td></tr>",
                            "<tr><td>77</td><td>1439</td><td>6</td><td>4</td></tr>",
                            "<tr><td>77</td><td>698</td><td>4</td><td>6</td></tr>",
                            "<tr><td>77</td><td>593</td><td>3</td><td>4</td></tr>",
                            "<tr><td>77</td><td>982</td><td>3</td><td>3</td></tr>",
                            "<tr><td>77</td><td>1104</td><td>1</td><td>3</td></tr>",
                            "<tr><td>78</td><td>568</td><td>1</td><td>0</td></tr>",
                            "<tr><td>78</td><td>700</td><td>5</td><td>1</td></tr>",
                            "<tr><td>78</td><td>646</td><td>3</td><td>5</td></tr>",
                            "<tr><td>78</td><td>1577</td><td>7</td><td>3</td></tr>",
                            "<tr><td>78</td><td>1281</td><td>3</td><td>7</td></tr>",
                            "<tr><td>78</td><td>1268</td><td>2</td><td>3</td></tr>",
                            "<tr><td>79</td><td>1229</td><td>7</td><td>0</td></tr>",
                            "<tr><td>79</td><td>1345</td><td>3</td><td>7</td></tr>",
                            "<tr><td>79</td><td>1447</td><td>4</td><td>3</td></tr>",
                            "<tr><td>79</td><td>583</td><td>6</td><td>4</td></tr>",
                            "<tr><td>79</td><td>1054</td><td>1</td><td>6</td></tr>",
                            "<tr><td>80</td><td>983</td><td>6</td><td>0</td></tr>",
                            "<tr><td>80</td><td>1071</td><td>4</td><td>6</td></tr>",
                            "<tr><td>80</td><td>929</td><td>2</td><td>4</td></tr>",
                            "<tr><td>80</td><td>887</td><td>6</td><td>2</td></tr>",
                            "<tr><td>80</td><td>667</td><td>6</td><td>6</td></tr>",
                            "<tr><td>80</td><td>1367</td><td>3</td><td>6</td></tr>",
                            "<tr><td>80</td><td>1279</td><td>5</td><td>3</td></tr>",
                            "<tr><td>81</td><td>1366</td><td>5</td><td>0</td></tr>",
                            "<tr><td>81</td><td>1443</td><td>7</td><td>5</td></tr>",
                            "<tr><td>81</td><td>1464</td><td>7</td><td>7</td></tr>",
                            "<tr><td>81</td><td>1562</td><td>3</td><td>7</td></tr>",
                            "<tr><td>81</td><td>1506</td><td>3</td><td>3</td></tr>",
                            "<tr><td>82</td><td>1406</td><td>1</td><td>0</td></tr>",
                            "<tr><td>82</td><td>1277</td><td>5</td><td>1</td></tr>",
                            "<tr><td>82</td><td>1341</td><td>2</td><td>5</td></tr>",
                            "<tr><td>82</td><td>862</td><td>4</td><td>2</td></tr>",
                            "<tr><td>82</td><td>871</td><td>5</td><td>4</td></tr>",
                            "<tr><td>82</td><td>997</td><td>6</td><td>5</td></tr>",
                            "<tr><td>83</td><td>995</td><td>5</td><td>0</td></tr>",
                            "<tr><td>83</td><td>1119</td><td>6</td><td>5</td></tr>",
                            "<tr><td>83</td><td>869</td><td>6</td><td>6</td></tr>",
                            "<tr><td>83</td><td>878</td><td>6</td><td>6</td></tr>",
                            "<tr><td>83</td><td>674</td><td>4</td><td>6</td></tr>",
                            "<tr><td>83</td><td>572</td><td>7</td><td>4</td></tr>",
                            "<tr><td>83</td><td>798</td><td>4</td><td>7</td></tr>",
                            "<tr><td>83</td><td>1379</td><td>7</td><td>4</td></tr>",
                            "<tr><td>84</td><td>1376</td><td>5</td><td>0</td></tr>",
                            "<tr><td>84</td><td>1384</td><td>7</td><td>5</td></tr>",
                            "<tr><td>84</td><td>819</td><td>2</td><td>7</td></tr>",
                            "<tr><td>84</td><td>954</td><td>5</td><td>2</td></tr>",
                            "<tr><td>85</td><td>1059</td><td>3</td><td>0</td></tr>",
                            "<tr><td>85</td><td>647</td><td>3</td><td>3</td></tr>",
                            "<tr><td>85</td><td>1320</td><td>1</td><td>3</td></tr>",
                            "<tr><td>85</td><td>1513</td><td>7</td><td>1</td></tr>",
                            "<tr><td>86</td><td>1453</td><td>1</td><td>0</td></tr>",
                            "<tr><td>86</td><td>1079</td><td>4</td><td>1</td></tr>",
                            "<tr><td>86</td><td>1108</td><td>1</td><td>4</td></tr>",
                            "<tr><td>86</td><td>1057</td><td>5</td><td>1</td></tr>",
                            "<tr><td>86</td><td>859</td><td>1</td><td>5</td></tr>",
                            "<tr><td>87</td><td>844</td><td>1</td><td>0</td></tr>",
                            "<tr><td>87</td><td>1103</td><td>3</td><td>1</td></tr>",
                            "<tr><td>87</td><td>558</td><td>4</td><td>3</td></tr>",
                            "<tr><td>87</td><td>1456</td><td>5</td><td>4</td></tr>",
                            "<tr><td>87</td><td>1349</td><td>5</td><td>5</td></tr>",
                            "<tr><td>88</td><td>1300</td><td>3</td><td>0</td></tr>",
                            "<tr><td>88</td><td>1359</td><td>2</td><td>3</td></tr>",
                            "<tr><td>88</td><td>1273</td><td>7</td><td>2</td></tr>",
                            "<tr><td>88</td><td>1196</td><td>3</td><td>7</td></tr>",
                            "<tr><td>88</td><td>1548</td><td>7</td><td>3</td></tr>",
                            "<tr><td>88</td><td>1575</td><td>6</td><td>7</td></tr>",
                            "<tr><td>88</td><td>757</td><td>7</td><td>6</td></tr>",
                            "<tr><td>88</td><td>866</td><td>2</td><td>7</td></tr>",
                            "<tr><td>89</td><td>1101</td><td>5</td><td>0</td></tr>",
                            "<tr><td>89</td><td>1037</td><td>7</td><td>5</td></tr>",
                            "<tr><td>89</td><td>817</td><td>3</td><td>7</td></tr>",
                            "<tr><td>89</td><td>1521</td><td>7</td><td>3</td></tr>",
                            "<tr><td>89</td><td>1189</td><td>6</td><td>7</td></tr>",
                            "<tr><td>89</td><td>1269</td><td>2</td><td>6</td></tr>",
                            "<tr><td>89</td><td>1253</td><td>2</td><td>2</td></tr>",
                            "<tr><td>89</td><td>1399</td><td>2</td><td>2</td></tr>",
                            "<tr><td>90</td><td>1405</td><td>5</td><td>0</td></tr>",
                            "<tr><td>90</td><td>1299</td><td>6</td><td>5</td></tr>",
                            "<tr><td>90</td><td>1174</td><td>7</td><td>6</td></tr>",
                            "<tr><td>90</td><td>729</td><td>2</td><td>7</td></tr>",
                            "<tr><td>91</td><td>732</td><td>4</td><td>0</td></tr>",
                            "<tr><td>91</td><td>636</td><td>6</td><td>4</td></tr>",
                            "<tr><td>91</td><td>1213</td><td>3</td><td>6</td></tr>",
                            "<tr><td>91</td><td>1397</td><td>4</td><td>3</td></tr>",
                            "<tr><td>92</td><td>1555</td><td>4</td><td>0</td></tr>",
                            "<tr><td>92</td><td>1527</td><td>2</td><td>4</td></tr>",
                            "<tr><td>92</td><td>809</td><td>3</td><td>2</td></tr>",
                            "<tr><td>92</td><td>841</td><td>6</td><td>3</td></tr>",
                            "<tr><td>92</td><td>1016</td><td>2</td><td>6</td></tr>",
                            "<tr><td>92</td><td>942</td><td>6</td><td>2</td></tr>",
                            "<tr><td>93</td><td>741</td><td>7</td><td>0</td></tr>",
                            "<tr><td>93</td><td>1391</td><td>4</td><td>7</td></tr>",
                            "<tr><td>93</td><td>1355</td><td>2</td><td>4</td></tr>",
                            "<tr><td>93</td><td>1217</td><td>1</td><td>2</td></tr>",
                            "<tr><td>93</td><td>1169</td><td>4</td><td>1</td></tr>",
                            "<tr><td>94</td><td>1241</td><td>7</td><td>0</td></tr>",
                            "<tr><td>94</td><td>1368</td><td>1</td><td>7</td></tr>",
                            "<tr><td>94</td><td>1305</td><td>2</td><td>1</td></tr>",
                            "<tr><td>94</td><td>1312</td><td>3</td><td>2</td></tr>",
                            "<tr><td>94</td><td>1518</td><td>2</td><td>3</td></tr>",
                            "<tr><td>94</td><td>1564</td><td>7</td><td>2</td></tr>",
                            "<tr><td>94</td><td>727</td><td>3</td><td>7</td></tr>",
                            "<tr><td>94</td><td>665</td><td>7</td><td>3</td></tr>",
                            "<tr><td>94</td><td>616</td><td>4</td><td>7</td></tr>",
                            "<tr><td>94</td><td>975</td><td>5</td><td>4</td></tr>",
                            "<tr><td>95</td><td>1048</td><td>3</td><td>0</td></tr>",
                            "<tr><td>95</td><td>1097</td><td>4</td><td>3</td></tr>",
                            "<tr><td>95</td><td>656</td><td>7</td><td>4</td></tr>",
                            "<tr><td>95</td><td>1543</td><td>7</td><td>7</td></tr>",
                            "<tr><td>96</td><td>1438</td><td>2</td><td>0</td></tr>",
                            "<tr><td>96</td><td>1569</td><td>7</td><td>2</td></tr>",
                            "<tr><td>96</td><td>1378</td><td>3</td><td>7</td></tr>",
                            "<tr><td>96</td><td>671</td><td>4</td><td>3</td></tr>",
                            "<tr><td>96</td><td>623</td><td>7</td><td>4</td></tr>",
                            "<tr><td>96</td><td>607</td><td>4</td><td>7</td></tr>",
                            "<tr><td>96</td><td>780</td><td>1</td><td>4</td></tr>",
                            "<tr><td>97</td><td>836</td><td>2</td><td>0</td></tr>",
                            "<tr><td>97</td><td>726</td><td>4</td><td>2</td></tr>",
                            "<tr><td>97</td><td>718</td><td>7</td><td>4</td></tr>",
                            "<tr><td>97</td><td>635</td><td>3</td><td>7</td></tr>",
                            "<tr><td>97</td><td>1395</td><td>1</td><td>3</td></tr>",
                            "<tr><td>97</td><td>1417</td><td>7</td><td>1</td></tr>",
                            "<tr><td>97</td><td>1528</td><td>2</td><td>7</td></tr>",
                            "<tr><td>98</td><td>1402</td><td>2</td><td>0</td></tr>",
                            "<tr><td>98</td><td>631</td><td>6</td><td>2</td></tr>",
                            "<tr><td>98</td><td>1050</td><td>6</td><td>6</td></tr>",
                            "<tr><td>98</td><td>884</td><td>5</td><td>6</td></tr>",
                            "<tr><td>99</td><td>1072</td><td>1</td><td>0</td></tr>",
                            "<tr><td>99</td><td>632</td><td>1</td><td>1</td></tr>",
                            "<tr><td>99</td><td>691</td><td>5</td><td>1</td></tr>",
                            "<tr><td>99</td><td>1408</td><td>1</td><td>5</td></tr>",
                            "<tr><td>99</td><td>1486</td><td>5</td><td>1</td></tr>",
                            "<tr><td>100</td><td>1482</td><td>7</td><td>0</td></tr>",
                            "<tr><td>100</td><td>1315</td><td>5</td><td>7</td></tr>",
                            "<tr><td>100</td><td>637</td><td>5</td><td>5</td></tr>",
                            "<tr><td>100</td><td>597</td><td>1</td><td>5</td></tr>",
                            "<tr><td>101</td><td>715</td><td>3</td><td>0</td></tr>",
                            "<tr><td>101</td><td>1332</td><td>6</td><td>3</td></tr>",
                            "<tr><td>101</td><td>1516</td><td>4</td><td>6</td></tr>",
                            "<tr><td>102</td><td>1343</td><td>2</td><td>0</td></tr>",
                            "<tr><td>102</td><td>689</td><td>5</td><td>2</td></tr>",
                            "<tr><td>103</td><td>992</td><td>7</td><td>0</td></tr>",
                            "<tr><td>103</td><td>972</td><td>2</td><td>7</td></tr>",
                            "<tr><td>103</td><td>1398</td><td>1</td><td>2</td></tr>",
                            "<tr><td>103</td><td>1485</td><td>4</td><td>1</td></tr>",
                            "<tr><td>104</td><td>1522</td><td>2</td><td>0</td></tr>",
                            "<tr><td>104</td><td>1532</td><td>3</td><td>2</td></tr>",
                            "<tr><td>104</td><td>1180</td><td>1</td><td>3</td></tr>",
                            "<tr><td>104</td><td>837</td><td>4</td><td>1</td></tr>",
                            "<tr><td>105</td><td>618</td><td>1</td><td>0</td></tr>",
                            "<tr><td>105</td><td>1525</td><td>5</td><td>1</td></tr>",
                            "<tr><td>106</td><td>1510</td><td>6</td><td>0</td></tr>",
                            "<tr><td>106</td><td>1271</td><td>5</td><td>6</td></tr>",
                            "<tr><td>106</td><td>1228</td><td>7</td><td>5</td></tr>",
                            "<tr><td>106</td><td>1372</td><td>7</td><td>7</td></tr>",
                            "<tr><td>106</td><td>610</td><td>3</td><td>7</td></tr>",
                            "<tr><td>106</td><td>708</td><td>7</td><td>3</td></tr>",
                            "<tr><td>107</td><td>586</td><td>6</td><td>0</td></tr>",
                            "<tr><td>107</td><td>1354</td><td>1</td><td>6</td></tr>",
                            "<tr><td>107</td><td>1250</td><td>4</td><td>1</td></tr>",
                            "<tr><td>107</td><td>1494</td><td>2</td><td>4</td></tr>",
                            "<tr><td>107</td><td>1452</td><td>6</td><td>2</td></tr>",
                            "<tr><td>108</td><td>1392</td><td>6</td><td>0</td></tr>",
                            "<tr><td>108</td><td>1102</td><td>1</td><td>6</td></tr>",
                            "<tr><td>109</td><td>1083</td><td>1</td><td>0</td></tr>",
                            "<tr><td>109</td><td>621</td><td>7</td><td>1</td></tr>",
                            "<tr><td>109</td><td>614</td><td>4</td><td>7</td></tr>",
                            "<tr><td>109</td><td>654</td><td>5</td><td>4</td></tr>",
                            "<tr><td>109</td><td>810</td><td>2</td><td>5</td></tr>",
                            "<tr><td>109</td><td>1298</td><td>4</td><td>2</td></tr>",
                            "<tr><td>109</td><td>1560</td><td>1</td><td>4</td></tr>",
                            "<tr><td>110</td><td>1424</td><td>1</td><td>0</td></tr>",
                            "<tr><td>110</td><td>1489</td><td>6</td><td>1</td></tr>",
                            "<tr><td>110</td><td>1162</td><td>2</td><td>6</td></tr>",
                            "<tr><td>110</td><td>685</td><td>1</td><td>2</td></tr>",
                            "<tr><td>110</td><td>1109</td><td>5</td><td>1</td></tr>",
                            "<tr><td>110</td><td>1041</td><td>3</td><td>5</td></tr>",
                            "<tr><td>110</td><td>964</td><td>6</td><td>3</td></tr>",
                            "<tr><td>110</td><td>931</td><td>5</td><td>6</td></tr>",
                            "<tr><td>111</td><td>959</td><td>7</td><td>0</td></tr>",
                            "<tr><td>111</td><td>605</td><td>7</td><td>7</td></tr>",
                            "<tr><td>111</td><td>786</td><td>4</td><td>7</td></tr>",
                            "<tr><td>111</td><td>1296</td><td>3</td><td>4</td></tr>",
                            "<tr><td>111</td><td>1353</td><td>5</td><td>3</td></tr>",
                            "<tr><td>112</td><td>1530</td><td>6</td><td>0</td></tr>",
                            "<tr><td>112</td><td>776</td><td>4</td><td>6</td></tr>",
                            "<tr><td>112</td><td>801</td><td>5</td><td>4</td></tr>",
                            "<tr><td>112</td><td>921</td><td>1</td><td>5</td></tr>",
                            "<tr><td>112</td><td>1124</td><td>6</td><td>1</td></tr>",
                            "<tr><td>113</td><td>1085</td><td>4</td><td>0</td></tr>",
                            "<tr><td>113</td><td>1029</td><td>5</td><td>4</td></tr>",
                            "<tr><td>113</td><td>1495</td><td>7</td><td>5</td></tr>",
                            "<tr><td>113</td><td>1499</td><td>2</td><td>7</td></tr>",
                            "<tr><td>113</td><td>1263</td><td>1</td><td>2</td></tr>",
                            "<tr><td>114</td><td>1540</td><td>3</td><td>0</td></tr>",
                            "<tr><td>114</td><td>966</td><td>6</td><td>3</td></tr>",
                            "<tr><td>114</td><td>827</td><td>7</td><td>6</td></tr>",
                            "<tr><td>114</td><td>737</td><td>2</td><td>7</td></tr>",
                            "<tr><td>115</td><td>596</td><td>7</td><td>0</td></tr>",
                            "<tr><td>115</td><td>943</td><td>7</td><td>7</td></tr>",
                            "<tr><td>115</td><td>1121</td><td>7</td><td>7</td></tr>",
                            "<tr><td>115</td><td>1554</td><td>3</td><td>7</td></tr>",
                            "<tr><td>115</td><td>1566</td><td>1</td><td>3</td></tr>",
                            "<tr><td>115</td><td>1154</td><td>4</td><td>1</td></tr>",
                            "<tr><td>115</td><td>1352</td><td>3</td><td>4</td></tr>",
                            "<tr><td>116</td><td>1501</td><td>4</td><td>0</td></tr>",
                            "<tr><td>116</td><td>1455</td><td>2</td><td>4</td></tr>",
                            "<tr><td>117</td><td>1468</td><td>7</td><td>0</td></tr>",
                            "<tr><td>117</td><td>1192</td><td>2</td><td>7</td></tr>",
                            "<tr><td>117</td><td>1247</td><td>3</td><td>2</td></tr>",
                            "<tr><td>117</td><td>1002</td><td>1</td><td>3</td></tr>",
                            "<tr><td>117</td><td>962</td><td>4</td><td>1</td></tr>",
                            "<tr><td>117</td><td>953</td><td>5</td><td>4</td></tr>",
                            "<tr><td>117</td><td>612</td><td>2</td><td>5</td></tr>",
                            "<tr><td>117</td><td>617</td><td>3</td><td>2</td></tr>",
                            "<tr><td>118</td><td>716</td><td>1</td><td>0</td></tr>",
                            "<tr><td>118</td><td>864</td><td>6</td><td>1</td></tr>",
                            "<tr><td>118</td><td>994</td><td>7</td><td>6</td></tr>",
                            "<tr><td>118</td><td>996</td><td>3</td><td>7</td></tr>",
                            "<tr><td>118</td><td>1374</td><td>5</td><td>3</td></tr>",
                            "<tr><td>118</td><td>1472</td><td>6</td><td>5</td></tr>",
                            "<tr><td>118</td><td>1481</td><td>3</td><td>6</td></tr>",
                            "<tr><td>119</td><td>1488</td><td>3</td><td>0</td></tr>",
                            "<tr><td>119</td><td>1413</td><td>3</td><td>3</td></tr>",
                            "<tr><td>119</td><td>1026</td><td>3</td><td>3</td></tr>",
                            "<tr><td>119</td><td>706</td><td>2</td><td>3</td></tr>",
                            "<tr><td>119</td><td>722</td><td>1</td><td>2</td></tr>",
                            "<tr><td>120</td><td>762</td><td>3</td><td>0</td></tr>",
                            "<tr><td>120</td><td>998</td><td>3</td><td>3</td></tr>",
                            "<tr><td>120</td><td>1089</td><td>6</td><td>3</td></tr>",
                            "<tr><td>120</td><td>1339</td><td>6</td><td>6</td></tr>",
                            "<tr><td>120</td><td>1493</td><td>7</td><td>6</td></tr>",
                            "<tr><td>120</td><td>1483</td><td>1</td><td>7</td></tr>",
                            "<tr><td>121</td><td>1393</td><td>6</td><td>0</td></tr>",
                            "<tr><td>121</td><td>1373</td><td>5</td><td>6</td></tr>",
                            "<tr><td>121</td><td>1215</td><td>4</td><td>5</td></tr>",
                            "<tr><td>121</td><td>1128</td><td>4</td><td>4</td></tr>",
                            "<tr><td>121</td><td>1049</td><td>3</td><td>4</td></tr>",
                            "<tr><td>121</td><td>858</td><td>5</td><td>3</td></tr>",
                            "<tr><td>121</td><td>739</td><td>6</td><td>5</td></tr>",
                            "<tr><td>121</td><td>735</td><td>6</td><td>6</td></tr>",
                            "<tr><td>122</td><td>1036</td><td>2</td><td>0</td></tr>",
                            "<tr><td>122</td><td>1007</td><td>2</td><td>2</td></tr>",
                            "<tr><td>122</td><td>1062</td><td>3</td><td>2</td></tr>",
                            "<tr><td>122</td><td>1209</td><td>1</td><td>3</td></tr>",
                            "<tr><td>122</td><td>1245</td><td>2</td><td>1</td></tr>",
                            "<tr><td>122</td><td>1166</td><td>4</td><td>2</td></tr>",
                            "<tr><td>122</td><td>1385</td><td>5</td><td>4</td></tr>",
                            "<tr><td>122</td><td>1337</td><td>2</td><td>5</td></tr>",
                            "<tr><td>122</td><td>1440</td><td>3</td><td>2</td></tr>",
                            "<tr><td>123</td><td>1282</td><td>6</td><td>0</td></tr>",
                            "<tr><td>123</td><td>1223</td><td>1</td><td>6</td></tr>",
                            "<tr><td>123</td><td>967</td><td>5</td><td>1</td></tr>",
                            "<tr><td>123</td><td>923</td><td>4</td><td>5</td></tr>",
                            "<tr><td>123</td><td>587</td><td>7</td><td>4</td></tr>",
                            "<tr><td>124</td><td>861</td><td>1</td><td>0</td></tr>",
                            "<tr><td>124</td><td>1210</td><td>4</td><td>1</td></tr>",
                            "<tr><td>124</td><td>1330</td><td>7</td><td>4</td></tr>",
                            "<tr><td>124</td><td>1419</td><td>3</td><td>7</td></tr>",
                            "<tr><td>124</td><td>1403</td><td>6</td><td>3</td></tr>",
                            "<tr><td>124</td><td>1531</td><td>6</td><td>6</td></tr>",
                            "<tr><td>125</td><td>576</td><td>1</td><td>0</td></tr>",
                            "<tr><td>126</td><td>754</td><td>4</td><td>0</td></tr>",
                            "<tr><td>126</td><td>806</td><td>6</td><td>4</td></tr>",
                            "<tr><td>126</td><td>1500</td><td>4</td><td>6</td></tr>",
                            "<tr><td>126</td><td>1428</td><td>7</td><td>4</td></tr>",
                            "<tr><td>126</td><td>1364</td><td>6</td><td>7</td></tr>",
                            "<tr><td>126</td><td>1134</td><td>1</td><td>6</td></tr>",
                            "<tr><td>127</td><td>1226</td><td>5</td><td>0</td></tr>",
                            "<tr><td>127</td><td>1286</td><td>1</td><td>5</td></tr>",
                            "<tr><td>127</td><td>1579</td><td>5</td><td>1</td></tr>",
                            "<tr><td>127</td><td>643</td><td>2</td><td>5</td></tr>",
                            "<tr><td>127</td><td>853</td><td>5</td><td>2</td></tr>",
                            "<tr><td>127</td><td>879</td><td>2</td><td>5</td></tr>",
                            "<tr><td>127</td><td>1034</td><td>6</td><td>2</td></tr>",
                            "<tr><td>128</td><td>815</td><td>1</td><td>0</td></tr>",
                            "<tr><td>128</td><td>717</td><td>2</td><td>1</td></tr>",
                            "<tr><td>128</td><td>1574</td><td>1</td><td>2</td></tr>",
                            "<tr><td>128</td><td>1583</td><td>4</td><td>1</td></tr>",
                            "<tr><td>128</td><td>1290</td><td>1</td><td>4</td></tr>",
                            "<tr><td>129</td><td>1360</td><td>6</td><td>0</td></tr>",
                            "<tr><td>129</td><td>1445</td><td>7</td><td>6</td></tr>",
                            "<tr><td>129</td><td>1509</td><td>6</td><td>7</td></tr>",
                            "<tr><td>129</td><td>723</td><td>7</td><td>6</td></tr>",
                            "<tr><td>130</td><td>779</td><td>6</td><td>0</td></tr>",
                            "<tr><td>130</td><td>580</td><td>3</td><td>6</td></tr>",
                            "<tr><td>130</td><td>613</td><td>3</td><td>3</td></tr>",
                            "<tr><td>130</td><td>1040</td><td>1</td><td>3</td></tr>",
                            "<tr><td>130</td><td>910</td><td>2</td><td>1</td></tr>",
                            "<tr><td>130</td><td>1475</td><td>7</td><td>2</td></tr>",
                            "<tr><td>131</td><td>1474</td><td>5</td><td>0</td></tr>",
                            "<tr><td>131</td><td>881</td><td>6</td><td>5</td></tr>",
                            "<tr><td>131</td><td>559</td><td>2</td><td>6</td></tr>",
                            "<tr><td>131</td><td>655</td><td>1</td><td>2</td></tr>",
                            "<tr><td>131</td><td>760</td><td>4</td><td>1</td></tr>",
                            "<tr><td>132</td><td>619</td><td>7</td><td>0</td></tr>",
                            "<tr><td>132</td><td>999</td><td>6</td><td>7</td></tr>",
                            "<tr><td>132</td><td>1090</td><td>7</td><td>6</td></tr>",
                            "<tr><td>132</td><td>1111</td><td>3</td><td>7</td></tr>",
                            "<tr><td>132</td><td>1519</td><td>2</td><td>3</td></tr>",
                            "<tr><td>132</td><td>1301</td><td>2</td><td>2</td></tr>",
                            "<tr><td>133</td><td>1306</td><td>3</td><td>0</td></tr>",
                            "<tr><td>133</td><td>1363</td><td>5</td><td>3</td></tr>",
                            "<tr><td>133</td><td>1409</td><td>1</td><td>5</td></tr>",
                            "<tr><td>133</td><td>1149</td><td>7</td><td>1</td></tr>",
                            "<tr><td>133</td><td>909</td><td>4</td><td>7</td></tr>",
                            "<tr><td>133</td><td>988</td><td>3</td><td>4</td></tr>",
                            "<tr><td>134</td><td>1004</td><td>5</td><td>0</td></tr>",
                            "<tr><td>134</td><td>1024</td><td>1</td><td>5</td></tr>",
                            "<tr><td>134</td><td>1045</td><td>2</td><td>1</td></tr>",
                            "<tr><td>134</td><td>1219</td><td>6</td><td>2</td></tr>",
                            "<tr><td>134</td><td>1178</td><td>7</td><td>6</td></tr>",
                            "<tr><td>134</td><td>1535</td><td>7</td><td>7</td></tr>",
                            "<tr><td>135</td><td>1289</td><td>3</td><td>0</td></tr>",
                            "<tr><td>135</td><td>849</td><td>7</td><td>3</td></tr>",
                            "<tr><td>135</td><td>724</td><td>6</td><td>7</td></tr>",
                            "<tr><td>136</td><td>584</td><td>2</td><td>0</td></tr>",
                            "<tr><td>136</td><td>661</td><td>5</td><td>2</td></tr>",
                            "<tr><td>136</td><td>1046</td><td>4</td><td>5</td></tr>",
                            "<tr><td>137</td><td>1014</td><td>1</td><td>0</td></tr>",
                            "<tr><td>137</td><td>657</td><td>6</td><td>1</td></tr>",
                            "<tr><td>137</td><td>649</td><td>5</td><td>6</td></tr>",
                            "<tr><td>137</td><td>582</td><td>3</td><td>5</td></tr>",
                            "<tr><td>137</td><td>1280</td><td>3</td><td>3</td></tr>",
                            "<tr><td>137</td><td>1201</td><td>6</td><td>3</td></tr>",
                            "<tr><td>138</td><td>1256</td><td>4</td><td>0</td></tr>",
                            "<tr><td>138</td><td>1283</td><td>2</td><td>4</td></tr>",
                            "<tr><td>138</td><td>1294</td><td>5</td><td>2</td></tr>",
                            "<tr><td>138</td><td>1358</td><td>7</td><td>5</td></tr>",
                            "<tr><td>138</td><td>1370</td><td>5</td><td>7</td></tr>",
                            "<tr><td>138</td><td>768</td><td>6</td><td>5</td></tr>",
                            "<tr><td>138</td><td>796</td><td>4</td><td>6</td></tr>",
                            "<tr><td>139</td><td>751</td><td>4</td><td>0</td></tr>",
                            "<tr><td>139</td><td>745</td><td>1</td><td>4</td></tr>",
                            "<tr><td>139</td><td>579</td><td>2</td><td>1</td></tr>",
                            "<tr><td>139</td><td>1042</td><td>2</td><td>2</td></tr>",
                            "<tr><td>139</td><td>1064</td><td>6</td><td>2</td></tr>",
                            "<tr><td>139</td><td>1450</td><td>7</td><td>6</td></tr>",
                            "<tr><td>139</td><td>1433</td><td>6</td><td>7</td></tr>",
                            "<tr><td>140</td><td>1371</td><td>1</td><td>0</td></tr>",
                            "<tr><td>140</td><td>1361</td><td>3</td><td>1</td></tr>",
                            "<tr><td>140</td><td>1357</td><td>4</td><td>3</td></tr>",
                            "<tr><td>140</td><td>1259</td><td>7</td><td>4</td></tr>",
                            "<tr><td>140</td><td>1156</td><td>3</td><td>7</td></tr>",
                            "<tr><td>140</td><td>1098</td><td>2</td><td>3</td></tr>",
                            "<tr><td>140</td><td>915</td><td>2</td><td>2</td></tr>",
                            "<tr><td>140</td><td>733</td><td>1</td><td>2</td></tr>",
                            "<tr><td>141</td><td>761</td><td>3</td><td>0</td></tr>",
                            "<tr><td>141</td><td>784</td><td>7</td><td>3</td></tr>",
                            "<tr><td>141</td><td>565</td><td>6</td><td>7</td></tr>",
                            "<tr><td>141</td><td>908</td><td>2</td><td>6</td></tr>",
                            "<tr><td>141</td><td>1254</td><td>4</td><td>2</td></tr>",
                            "<tr><td>141</td><td>1401</td><td>6</td><td>4</td></tr>",
                            "<tr><td>142</td><td>1369</td><td>6</td><td>0</td></tr>",
                            "<tr><td>142</td><td>1545</td><td>3</td><td>6</td></tr>",
                            "<tr><td>143</td><td>1448</td><td>6</td><td>0</td></tr>",
                            "<tr><td>143</td><td>1394</td><td>3</td><td>6</td></tr>",
                            "<tr><td>143</td><td>1313</td><td>4</td><td>3</td></tr>",
                            "<tr><td>143</td><td>1222</td><td>2</td><td>4</td></tr>",
                            "<tr><td>143</td><td>1155</td><td>7</td><td>2</td></tr>",
                            "<tr><td>143</td><td>1193</td><td>6</td><td>7</td></tr>",
                            "<tr><td>143</td><td>980</td><td>3</td><td>6</td></tr>",
                            "<tr><td>144</td><td>1087</td><td>2</td><td>0</td></tr>",
                            "<tr><td>144</td><td>581</td><td>4</td><td>2</td></tr>",
                            "<tr><td>144</td><td>1199</td><td>7</td><td>4</td></tr>",
                            "<tr><td>144</td><td>1297</td><td>1</td><td>7</td></tr>",
                            "<tr><td>144</td><td>1572</td><td>2</td><td>1</td></tr>",
                            "<tr><td>145</td><td>1471</td><td>1</td><td>0</td></tr>",
                            "<tr><td>145</td><td>1338</td><td>2</td><td>1</td></tr>",
                            "<tr><td>145</td><td>1145</td><td>4</td><td>2</td></tr>",
                            "<tr><td>145</td><td>703</td><td>4</td><td>4</td></tr>",
                            "<tr><td>145</td><td>1077</td><td>1</td><td>4</td></tr>",
                            "<tr><td>145</td><td>1120</td><td>1</td><td>1</td></tr>",
                            "<tr><td>146</td><td>1032</td><td>5</td><td>0</td></tr>",
                            "<tr><td>146</td><td>890</td><td>3</td><td>5</td></tr>",
                            "<tr><td>146</td><td>789</td><td>7</td><td>3</td></tr>",
                            "<tr><td>146</td><td>804</td><td>7</td><td>7</td></tr>",
                            "<tr><td>146</td><td>664</td><td>3</td><td>7</td></tr>",
                            "<tr><td>146</td><td>1479</td><td>6</td><td>3</td></tr>",
                            "<tr><td>147</td><td>771</td><td>4</td><td>0</td></tr>",
                            "<tr><td>148</td><td>765</td><td>3</td><td>0</td></tr>",
                            "<tr><td>148</td><td>808</td><td>2</td><td>3</td></tr>",
                            "<tr><td>148</td><td>783</td><td>7</td><td>2</td></tr>",
                            "<tr><td>148</td><td>812</td><td>6</td><td>7</td></tr>",
                            "<tr><td>148</td><td>678</td><td>4</td><td>6</td></tr>",
                            "<tr><td>148</td><td>1578</td><td>7</td><td>4</td></tr>",
                            "<tr><td>149</td><td>1514</td><td>5</td><td>0</td></tr>",
                            "<tr><td>149</td><td>1146</td><td>6</td><td>5</td></tr>",
                            "<tr><td>149</td><td>652</td><td>1</td><td>6</td></tr>",
                            "<tr><td>149</td><td>591</td><td>1</td><td>1</td></tr>",
                            "<tr><td>149</td><td>833</td><td>2</td><td>1</td></tr>",
                            "<tr><td>149</td><td>834</td><td>5</td><td>2</td></tr>",
                            "<tr><td>149</td><td>843</td><td>4</td><td>5</td></tr>",
                            "<tr><td>150</td><td>1100</td><td>5</td><td>0</td></tr>",
                            "<tr><td>150</td><td>1105</td><td>1</td><td>5</td></tr>",
                            "<tr><td>150</td><td>641</td><td>3</td><td>1</td></tr>",
                            "<tr><td>150</td><td>1177</td><td>1</td><td>3</td></tr>",
                            "<tr><td>150</td><td>1203</td><td>4</td><td>1</td></tr>",
                            "<tr><td>150</td><td>1432</td><td>3</td><td>4</td></tr>",
                            "<tr><td>151</td><td>1115</td><td>3</td><td>0</td></tr>",
                            "<tr><td>151</td><td>1058</td><td>3</td><td>3</td></tr>",
                            "<tr><td>151</td><td>893</td><td>3</td><td>3</td></tr>",
                            "<tr><td>152</td><td>730</td><td>2</td><td>0</td></tr>",
                            "<tr><td>152</td><td>1558</td><td>2</td><td>2</td></tr>",
                            "<tr><td>152</td><td>1197</td><td>6</td><td>2</td></tr>",
                            "<tr><td>152</td><td>1160</td><td>7</td><td>6</td></tr>",
                            "<tr><td>153</td><td>1507</td><td>3</td><td>0</td></tr>",
                            "<tr><td>153</td><td>1470</td><td>5</td><td>3</td></tr>",
                            "<tr><td>153</td><td>1460</td><td>3</td><td>5</td></tr>",
                            "<tr><td>153</td><td>594</td><td>3</td><td>3</td></tr>",
                            "<tr><td>153</td><td>969</td><td>6</td><td>3</td></tr>",
                            "<tr><td>154</td><td>968</td><td>1</td><td>0</td></tr>",
                            "<tr><td>154</td><td>1061</td><td>7</td><td>1</td></tr>",
                            "<tr><td>154</td><td>1539</td><td>2</td><td>7</td></tr>",
                            "<tr><td>154</td><td>1168</td><td>6</td><td>2</td></tr>",
                            "<tr><td>154</td><td>1262</td><td>1</td><td>6</td></tr>",
                            "<tr><td>155</td><td>1310</td><td>1</td><td>0</td></tr>",
                            "<tr><td>155</td><td>1541</td><td>1</td><td>1</td></tr>",
                            "<tr><td>155</td><td>1112</td><td>4</td><td>1</td></tr>",
                            "<tr><td>155</td><td>577</td><td>3</td><td>4</td></tr>",
                            "<tr><td>155</td><td>575</td><td>1</td><td>3</td></tr>",
                            "<tr><td>156</td><td>588</td><td>7</td><td>0</td></tr>",
                            "<tr><td>156</td><td>692</td><td>6</td><td>7</td></tr>",
                            "<tr><td>156</td><td>956</td><td>6</td><td>6</td></tr>",
                            "<tr><td>156</td><td>907</td><td>3</td><td>6</td></tr>",
                            "<tr><td>156</td><td>1561</td><td>4</td><td>3</td></tr>",
                            "<tr><td>156</td><td>1462</td><td>7</td><td>4</td></tr>",
                            "<tr><td>156</td><td>1490</td><td>1</td><td>7</td></tr>",
                            "<tr><td>157</td><td>1551</td><td>3</td><td>0</td></tr>",
                            "<tr><td>157</td><td>1240</td><td>7</td><td>3</td></tr>",
                            "<tr><td>157</td><td>1047</td><td>4</td><td>7</td></tr>",
                            "<tr><td>157</td><td>1025</td><td>3</td><td>4</td></tr>",
                            "<tr><td>157</td><td>648</td><td>4</td><td>3</td></tr>",
                            "<tr><td>158</td><td>825</td><td>4</td><td>0</td></tr>",
                            "<tr><td>158</td><td>1117</td><td>3</td><td>4</td></tr>",
                            "<tr><td>158</td><td>840</td><td>4</td><td>3</td></tr>",
                            "<tr><td>160</td><td>922</td><td>2</td><td>0</td></tr>",
                            "<tr><td>160</td><td>927</td><td>4</td><td>2</td></tr>",
                            "<tr><td>160</td><td>933</td><td>4</td><td>4</td></tr>",
                            "<tr><td>160</td><td>720</td><td>2</td><td>4</td></tr>",
                            "<tr><td>160</td><td>1565</td><td>3</td><td>2</td></tr>",
                            "<tr><td>161</td><td>1571</td><td>4</td><td>0</td></tr>",
                            "<tr><td>161</td><td>1190</td><td>7</td><td>4</td></tr>",
                            "<tr><td>161</td><td>639</td><td>4</td><td>7</td></tr>",
                            "<tr><td>161</td><td>653</td><td>7</td><td>4</td></tr>",
                            "<tr><td>161</td><td>911</td><td>4</td><td>7</td></tr>",
                            "<tr><td>161</td><td>1068</td><td>6</td><td>4</td></tr>",
                            "<tr><td>162</td><td>599</td><td>4</td><td>0</td></tr>",
                            "<tr><td>162</td><td>1205</td><td>6</td><td>4</td></tr>",
                            "<tr><td>162</td><td>1400</td><td>1</td><td>6</td></tr>",
                            "<tr><td>163</td><td>1265</td><td>5</td><td>0</td></tr>",
                            "<tr><td>163</td><td>1487</td><td>3</td><td>5</td></tr>",
                            "<tr><td>163</td><td>630</td><td>2</td><td>3</td></tr>",
                            "<tr><td>163</td><td>782</td><td>3</td><td>2</td></tr>",
                            "<tr><td>163</td><td>1075</td><td>4</td><td>3</td></tr>",
                            "<tr><td>163</td><td>1107</td><td>3</td><td>4</td></tr>",
                            "<tr><td>163</td><td>941</td><td>1</td><td>3</td></tr>",
                            "<tr><td>164</td><td>1010</td><td>2</td><td>0</td></tr>",
                            "<tr><td>164</td><td>742</td><td>6</td><td>2</td></tr>",
                            "<tr><td>164</td><td>570</td><td>7</td><td>6</td></tr>",
                            "<tr><td>164</td><td>1292</td><td>2</td><td>7</td></tr>",
                            "<tr><td>164</td><td>1284</td><td>4</td><td>2</td></tr>",
                            "<tr><td>165</td><td>1375</td><td>4</td><td>0</td></tr>",
                            "<tr><td>165</td><td>1141</td><td>1</td><td>4</td></tr>",
                            "<tr><td>165</td><td>640</td><td>3</td><td>1</td></tr>",
                            "<tr><td>165</td><td>900</td><td>6</td><td>3</td></tr>",
                            "<tr><td>165</td><td>897</td><td>6</td><td>6</td></tr>",
                            "<tr><td>165</td><td>892</td><td>3</td><td>6</td></tr>",
                            "<tr><td>165</td><td>857</td><td>5</td><td>3</td></tr>",
                            "<tr><td>166</td><td>644</td><td>7</td><td>0</td></tr>",
                            "<tr><td>166</td><td>781</td><td>7</td><td>7</td></tr>",
                            "<tr><td>166</td><td>1526</td><td>2</td><td>7</td></tr>",
                            "<tr><td>167</td><td>1414</td><td>3</td><td>0</td></tr>",
                            "<tr><td>167</td><td>854</td><td>7</td><td>3</td></tr>",
                            "<tr><td>168</td><td>930</td><td>3</td><td>0</td></tr>",
                            "<tr><td>168</td><td>794</td><td>4</td><td>3</td></tr>",
                            "<tr><td>168</td><td>792</td><td>3</td><td>4</td></tr>",
                            "<tr><td>168</td><td>1266</td><td>4</td><td>3</td></tr>",
                            "<tr><td>168</td><td>1249</td><td>4</td><td>4</td></tr>",
                            "<tr><td>169</td><td>1356</td><td>4</td><td>0</td></tr>",
                            "<tr><td>169</td><td>1427</td><td>1</td><td>4</td></tr>",
                            "<tr><td>169</td><td>746</td><td>7</td><td>1</td></tr>",
                            "<tr><td>169</td><td>659</td><td>6</td><td>7</td></tr>",
                            "<tr><td>169</td><td>573</td><td>5</td><td>6</td></tr>",
                            "<tr><td>169</td><td>974</td><td>1</td><td>5</td></tr>",
                            "<tr><td>170</td><td>944</td><td>4</td><td>0</td></tr>",
                            "<tr><td>170</td><td>567</td><td>7</td><td>4</td></tr>",
                            "<tr><td>170</td><td>1342</td><td>6</td><td>7</td></tr>",
                            "<tr><td>170</td><td>1267</td><td>7</td><td>6</td></tr>",
                            "<tr><td>170</td><td>1194</td><td>4</td><td>7</td></tr>",
                            "<tr><td>171</td><td>1181</td><td>6</td><td>0</td></tr>",
                            "<tr><td>171</td><td>1329</td><td>5</td><td>6</td></tr>",
                            "<tr><td>171</td><td>1567</td><td>6</td><td>5</td></tr>",
                            "<tr><td>171</td><td>574</td><td>2</td><td>6</td></tr>",
                            "<tr><td>171</td><td>981</td><td>4</td><td>2</td></tr>",
                            "<tr><td>172</td><td>984</td><td>4</td><td>0</td></tr>",
                            "<tr><td>172</td><td>749</td><td>6</td><td>4</td></tr>",
                            "<tr><td>172</td><td>709</td><td>5</td><td>6</td></tr>",
                            "<tr><td>172</td><td>839</td><td>5</td><td>5</td></tr>",
                            "<tr><td>172</td><td>1421</td><td>5</td><td>5</td></tr>",
                            "<tr><td>172</td><td>1491</td><td>2</td><td>5</td></tr>",
                            "<tr><td>172</td><td>1336</td><td>5</td><td>2</td></tr>",
                            "<tr><td>172</td><td>1171</td><td>5</td><td>5</td></tr>",
                            "<tr><td>172</td><td>1142</td><td>4</td><td>5</td></tr>",
                            "<tr><td>173</td><td>1350</td><td>3</td><td>0</td></tr>",
                            "<tr><td>173</td><td>1429</td><td>4</td><td>3</td></tr>",
                            "<tr><td>173</td><td>669</td><td>7</td><td>4</td></tr>",
                            "<tr><td>173</td><td>913</td><td>1</td><td>7</td></tr>",
                            "<tr><td>174</td><td>917</td><td>2</td><td>0</td></tr>",
                            "<tr><td>174</td><td>1015</td><td>5</td><td>2</td></tr>",
                            "<tr><td>174</td><td>682</td><td>3</td><td>5</td></tr>",
                            "<tr><td>174</td><td>1276</td><td>1</td><td>3</td></tr>",
                            "<tr><td>175</td><td>1133</td><td>2</td><td>0</td></tr>",
                            "<tr><td>175</td><td>1407</td><td>7</td><td>2</td></tr>",
                            "<tr><td>175</td><td>799</td><td>4</td><td>7</td></tr>",
                            "<tr><td>175</td><td>1094</td><td>5</td><td>4</td></tr>",
                            "<tr><td>175</td><td>867</td><td>6</td><td>5</td></tr>",
                            "<tr><td>176</td><td>592</td><td>5</td><td>0</td></tr>",
                            "<tr><td>176</td><td>1383</td><td>4</td><td>5</td></tr>",
                            "<tr><td>176</td><td>1278</td><td>6</td><td>4</td></tr>",
                            "<tr><td>176</td><td>1143</td><td>6</td><td>6</td></tr>",
                            "<tr><td>176</td><td>1511</td><td>2</td><td>6</td></tr>",
                            "<tr><td>176</td><td>1570</td><td>3</td><td>2</td></tr>",
                            "<tr><td>177</td><td>1503</td><td>3</td><td>0</td></tr>",
                            "<tr><td>177</td><td>1176</td><td>3</td><td>3</td></tr>",
                            "<tr><td>177</td><td>785</td><td>3</td><td>3</td></tr>",
                            "<tr><td>177</td><td>831</td><td>7</td><td>3</td></tr>",
                            "<tr><td>178</td><td>816</td><td>4</td><td>0</td></tr>",
                            "<tr><td>178</td><td>991</td><td>7</td><td>4</td></tr>",
                            "<tr><td>178</td><td>1242</td><td>1</td><td>7</td></tr>",
                            "<tr><td>178</td><td>1211</td><td>3</td><td>1</td></tr>",
                            "<tr><td>179</td><td>1497</td><td>1</td><td>0</td></tr>",
                            "<tr><td>179</td><td>1021</td><td>1</td><td>1</td></tr>",
                            "<tr><td>179</td><td>662</td><td>2</td><td>1</td></tr>",
                            "<tr><td>180</td><td>905</td><td>5</td><td>0</td></tr>",
                            "<tr><td>180</td><td>1563</td><td>6</td><td>5</td></tr>",
                            "<tr><td>180</td><td>1559</td><td>3</td><td>6</td></tr>",
                            "<tr><td>181</td><td>1346</td><td>6</td><td>0</td></tr>",
                            "<tr><td>181</td><td>937</td><td>3</td><td>6</td></tr>",
                            "<tr><td>181</td><td>958</td><td>5</td><td>3</td></tr>",
                            "<tr><td>181</td><td>1022</td><td>1</td><td>5</td></tr>",
                            "<tr><td>181</td><td>677</td><td>4</td><td>1</td></tr>",
                            "<tr><td>181</td><td>731</td><td>6</td><td>4</td></tr>",
                            "<tr><td>182</td><td>740</td><td>3</td><td>0</td></tr>",
                            "<tr><td>182</td><td>571</td><td>2</td><td>3</td></tr>",
                            "<tr><td>182</td><td>1008</td><td>6</td><td>2</td></tr>",
                            "<tr><td>182</td><td>928</td><td>2</td><td>6</td></tr>",
                            "<tr><td>182</td><td>1410</td><td>4</td><td>2</td></tr>",
                            "<tr><td>182</td><td>1308</td><td>1</td><td>4</td></tr>",
                            "<tr><td>182</td><td>1326</td><td>4</td><td>1</td></tr>",
                            "<tr><td>182</td><td>1317</td><td>3</td><td>4</td></tr>",
                            "<tr><td>182</td><td>1230</td><td>7</td><td>3</td></tr>",
                            "<tr><td>182</td><td>1231</td><td>4</td><td>7</td></tr>",
                            "<tr><td>182</td><td>1188</td><td>1</td><td>4</td></tr>",
                            "<tr><td>182</td><td>1422</td><td>3</td><td>1</td></tr>",
                            "<tr><td>183</td><td>1437</td><td>4</td><td>0</td></tr>",
                            "<tr><td>183</td><td>1147</td><td>4</td><td>4</td></tr>",
                            "<tr><td>183</td><td>939</td><td>4</td><td>4</td></tr>",
                            "<tr><td>183</td><td>1067</td><td>7</td><td>4</td></tr>",
                            "<tr><td>184</td><td>880</td><td>4</td><td>0</td></tr>",
                            "<tr><td>184</td><td>608</td><td>2</td><td>4</td></tr>",
                            "<tr><td>184</td><td>684</td><td>3</td><td>2</td></tr>",
                            "<tr><td>184</td><td>1251</td><td>4</td><td>3</td></tr>",
                            "<tr><td>185</td><td>1183</td><td>5</td><td>0</td></tr>",
                            "<tr><td>185</td><td>1441</td><td>7</td><td>5</td></tr>",
                            "<tr><td>185</td><td>1463</td><td>7</td><td>7</td></tr>",
                            "<tr><td>185</td><td>693</td><td>2</td><td>7</td></tr>",
                            "<tr><td>185</td><td>679</td><td>5</td><td>2</td></tr>",
                            "<tr><td>185</td><td>672</td><td>3</td><td>5</td></tr>",
                            "<tr><td>185</td><td>578</td><td>6</td><td>3</td></tr>",
                            "<tr><td>185</td><td>711</td><td>3</td><td>6</td></tr>",
                            "<tr><td>185</td><td>898</td><td>4</td><td>3</td></tr>",
                            "<tr><td>185</td><td>863</td><td>4</td><td>4</td></tr>",
                            "<tr><td>185</td><td>925</td><td>6</td><td>4</td></tr>",
                            "<tr><td>185</td><td>1125</td><td>3</td><td>6</td></tr>",
                            "<tr><td>186</td><td>615</td><td>3</td><td>0</td></tr>",
                            "<tr><td>186</td><td>1467</td><td>3</td><td>3</td></tr>",
                            "<tr><td>186</td><td>1153</td><td>3</td><td>3</td></tr>",
                            "<tr><td>186</td><td>1248</td><td>2</td><td>3</td></tr>",
                            "<tr><td>187</td><td>1404</td><td>2</td><td>0</td></tr>",
                            "<tr><td>187</td><td>695</td><td>6</td><td>2</td></tr>",
                            "<tr><td>187</td><td>633</td><td>6</td><td>6</td></tr>",
                            "<tr><td>187</td><td>743</td><td>2</td><td>6</td></tr>",
                            "<tr><td>187</td><td>766</td><td>1</td><td>2</td></tr>",
                            "<tr><td>187</td><td>957</td><td>4</td><td>1</td></tr>",
                            "<tr><td>187</td><td>868</td><td>4</td><td>4</td></tr>",
                            "<tr><td>188</td><td>912</td><td>1</td><td>0</td></tr>",
                            "<tr><td>188</td><td>1030</td><td>4</td><td>1</td></tr>",
                            "<tr><td>188</td><td>747</td><td>3</td><td>4</td></tr>",
                            "<tr><td>188</td><td>710</td><td>7</td><td>3</td></tr>",
                            "<tr><td>188</td><td>690</td><td>4</td><td>7</td></tr>",
                            "<tr><td>188</td><td>1390</td><td>5</td><td>4</td></tr>",
                            "<tr><td>189</td><td>1204</td><td>2</td><td>0</td></tr>",
                            "<tr><td>189</td><td>1449</td><td>2</td><td>2</td></tr>",
                            "<tr><td>189</td><td>1576</td><td>3</td><td>2</td></tr>",
                            "<tr><td>189</td><td>699</td><td>2</td><td>3</td></tr>",
                            "<tr><td>189</td><td>753</td><td>1</td><td>2</td></tr>",
                            "<tr><td>190</td><td>774</td><td>5</td><td>0</td></tr>",
                            "<tr><td>190</td><td>600</td><td>7</td><td>5</td></tr>",
                            "<tr><td>190</td><td>1017</td><td>1</td><td>7</td></tr>",
                            "<tr><td>190</td><td>989</td><td>1</td><td>1</td></tr>",
                            "<tr><td>190</td><td>1517</td><td>5</td><td>1</td></tr>",
                            "<tr><td>191</td><td>1502</td><td>2</td><td>0</td></tr>",
                            "<tr><td>191</td><td>1508</td><td>7</td><td>2</td></tr>",
                            "<tr><td>191</td><td>1323</td><td>7</td><td>7</td></tr>",
                            "<tr><td>191</td><td>1302</td><td>1</td><td>7</td></tr>",
                            "<tr><td>191</td><td>1039</td><td>6</td><td>1</td></tr>",
                            "<tr><td>192</td><td>903</td><td>7</td><td>0</td></tr>",
                            "<tr><td>192</td><td>680</td><td>4</td><td>7</td></tr>",
                            "<tr><td>193</td><td>675</td><td>2</td><td>0</td></tr>",
                            "<tr><td>193</td><td>634</td><td>6</td><td>2</td></tr>",
                            "<tr><td>193</td><td>835</td><td>2</td><td>6</td></tr>",
                            "<tr><td>193</td><td>977</td><td>2</td><td>2</td></tr>",
                            "<tr><td>193</td><td>926</td><td>1</td><td>2</td></tr>",
                            "<tr><td>193</td><td>1043</td><td>6</td><td>1</td></tr>",
                            "<tr><td>193</td><td>1238</td><td>6</td><td>6</td></tr>",
                            "<tr><td>194</td><td>1095</td><td>5</td><td>0</td></tr>",
                            "<tr><td>195</td><td>1074</td><td>7</td><td>0</td></tr>",
                            "<tr><td>195</td><td>842</td><td>4</td><td>7</td></tr>",
                            "<tr><td>195</td><td>721</td><td>4</td><td>4</td></tr>",
                            "<tr><td>195</td><td>1184</td><td>5</td><td>4</td></tr>",
                            "<tr><td>195</td><td>1473</td><td>7</td><td>5</td></tr>",
                            "<tr><td>195</td><td>1484</td><td>1</td><td>7</td></tr>",
                            "<tr><td>196</td><td>1314</td><td>5</td><td>0</td></tr>",
                            "<tr><td>196</td><td>1340</td><td>5</td><td>5</td></tr>",
                            "<tr><td>196</td><td>673</td><td>5</td><td>5</td></tr>",
                            "<tr><td>196</td><td>952</td><td>3</td><td>5</td></tr>",
                            "<tr><td>197</td><td>1091</td><td>7</td><td>0</td></tr>",
                            "<tr><td>197</td><td>993</td><td>7</td><td>7</td></tr>",
                            "<tr><td>197</td><td>764</td><td>7</td><td>7</td></tr>",
                            "<tr><td>197</td><td>1304</td><td>7</td><td>7</td></tr>",
                            "<tr><td>197</td><td>1387</td><td>3</td><td>7</td></tr>",
                            "<tr><td>197</td><td>1172</td><td>7</td><td>3</td></tr>",
                            "<tr><td>198</td><td>1138</td><td>5</td><td>0</td></tr>",
                            "<tr><td>198</td><td>1161</td><td>5</td><td>5</td></tr>",
                            "<tr><td>198</td><td>1216</td><td>7</td><td>5</td></tr>",
                            "<tr><td>198</td><td>1420</td><td>5</td><td>7</td></tr>",
                            "<tr><td>198</td><td>1011</td><td>7</td><td>5</td></tr>",
                            "<tr><td>198</td><td>1065</td><td>3</td><td>7</td></tr>",
                            "<tr><td>198</td><td>1116</td><td>1</td><td>3</td></tr>",
                            "<tr><td>198</td><td>978</td><td>1</td><td>1</td></tr>",
                            "</table>"
                        ]
                    }
                }
            ],
            "execution_count": 12
        },
        {
            "cell_type": "markdown",
            "source": [
                "3\\. feladat\n",
                "\n",
                "Jelenítsük meg, hogy az egyes szálláshelyeken összesen hány foglalás történt!\n",
                "\n",
                "a. Csak a szálláshely neve és a foglalásszám jelenjen meg\n",
                "\n",
                "b. A listát szűrjük azon szálláshelyekre, ahol több foglalás történt, mint a Fortuna panzióban!"
            ],
            "metadata": {
                "azdata_cell_guid": "33a39d59-7b05-4a35-9593-a716e73f8043"
            },
            "attachments": {}
        },
        {
            "cell_type": "code",
            "source": [
                "select distinct szh.SZALLAS_NEV as 'Szálláshely neve',\r\n",
                "        count(*) over(\r\n",
                "            partition by szh.SZALLAS_NEV\r\n",
                "        ) as 'Foglalásszám'\r\n",
                "from Szallashely szh\r\n",
                "    join Foglalas f on f.SZOBA_FK = szh.SZALLAS_ID\r\n",
                "/*\r\n",
                "having count(*) over(partition by szh.SZALLAS_NEV) > \r\n",
                "(\r\n",
                "    select count(*) over(partition by szh2.SZALLAS_NEV)\r\n",
                "    from Szallashely szh2\r\n",
                "    where szh2.SZALLAS_NEV = 'Fortuna panzió'\r\n",
                "        and szh2.SZALLAS_NEV = szh2.SZALLAS_NEV\r\n",
                ")\r\n",
                "*/"
            ],
            "metadata": {
                "azdata_cell_guid": "96eb1803-8a12-4c99-84f7-83f6c9cccf3e",
                "language": "sql"
            },
            "outputs": [
                {
                    "output_type": "display_data",
                    "data": {
                        "text/html": "(18 rows affected)"
                    },
                    "metadata": {}
                },
                {
                    "output_type": "display_data",
                    "data": {
                        "text/html": "Total execution time: 00:00:00.009"
                    },
                    "metadata": {}
                },
                {
                    "output_type": "execute_result",
                    "metadata": {},
                    "execution_count": 32,
                    "data": {
                        "application/vnd.dataresource+json": {
                            "schema": {
                                "fields": [
                                    {
                                        "name": "Szálláshely neve"
                                    },
                                    {
                                        "name": "Foglalásszám"
                                    }
                                ]
                            },
                            "data": [
                                {
                                    "Szálláshely neve": "Bagoly Hotel",
                                    "Foglalásszám": "5"
                                },
                                {
                                    "Szálláshely neve": "Családi Ház",
                                    "Foglalásszám": "4"
                                },
                                {
                                    "Szálláshely neve": "Fortuna Apartman",
                                    "Foglalásszám": "14"
                                },
                                {
                                    "Szálláshely neve": "Fortuna panzió",
                                    "Foglalásszám": "10"
                                },
                                {
                                    "Szálláshely neve": "Gold Hotel",
                                    "Foglalásszám": "9"
                                },
                                {
                                    "Szálláshely neve": "Hotel Három Hattyú",
                                    "Foglalásszám": "5"
                                },
                                {
                                    "Szálláshely neve": "Jáde panzió",
                                    "Foglalásszám": "6"
                                },
                                {
                                    "Szálláshely neve": "Kentaur Hotel",
                                    "Foglalásszám": "6"
                                },
                                {
                                    "Szálláshely neve": "Kollégium",
                                    "Foglalásszám": "5"
                                },
                                {
                                    "Szálláshely neve": "Lagúna Hotel",
                                    "Foglalásszám": "4"
                                },
                                {
                                    "Szálláshely neve": "Müller Vendégház",
                                    "Foglalásszám": "4"
                                },
                                {
                                    "Szálláshely neve": "Nyárfás Vendégház",
                                    "Foglalásszám": "9"
                                },
                                {
                                    "Szálláshely neve": "Partiszél Vendégház",
                                    "Foglalásszám": "4"
                                },
                                {
                                    "Szálláshely neve": "Riviéra Panzió",
                                    "Foglalásszám": "4"
                                },
                                {
                                    "Szálláshely neve": "Sába-Ház",
                                    "Foglalásszám": "8"
                                },
                                {
                                    "Szálláshely neve": "Szarvas Hotel",
                                    "Foglalásszám": "6"
                                },
                                {
                                    "Szálláshely neve": "Szieszta Apartmanház",
                                    "Foglalásszám": "6"
                                },
                                {
                                    "Szálláshely neve": "Tímárház Panzió",
                                    "Foglalásszám": "6"
                                }
                            ]
                        },
                        "text/html": [
                            "<table>",
                            "<tr><th>Szálláshely neve</th><th>Foglalásszám</th></tr>",
                            "<tr><td>Bagoly Hotel</td><td>5</td></tr>",
                            "<tr><td>Családi Ház</td><td>4</td></tr>",
                            "<tr><td>Fortuna Apartman</td><td>14</td></tr>",
                            "<tr><td>Fortuna panzió</td><td>10</td></tr>",
                            "<tr><td>Gold Hotel</td><td>9</td></tr>",
                            "<tr><td>Hotel Három Hattyú</td><td>5</td></tr>",
                            "<tr><td>Jáde panzió</td><td>6</td></tr>",
                            "<tr><td>Kentaur Hotel</td><td>6</td></tr>",
                            "<tr><td>Kollégium</td><td>5</td></tr>",
                            "<tr><td>Lagúna Hotel</td><td>4</td></tr>",
                            "<tr><td>Müller Vendégház</td><td>4</td></tr>",
                            "<tr><td>Nyárfás Vendégház</td><td>9</td></tr>",
                            "<tr><td>Partiszél Vendégház</td><td>4</td></tr>",
                            "<tr><td>Riviéra Panzió</td><td>4</td></tr>",
                            "<tr><td>Sába-Ház</td><td>8</td></tr>",
                            "<tr><td>Szarvas Hotel</td><td>6</td></tr>",
                            "<tr><td>Szieszta Apartmanház</td><td>6</td></tr>",
                            "<tr><td>Tímárház Panzió</td><td>6</td></tr>",
                            "</table>"
                        ]
                    }
                }
            ],
            "execution_count": 32
        }
    ]
}