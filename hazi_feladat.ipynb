{
    "metadata": {
        "kernelspec": {
            "name": "SQL",
            "display_name": "SQL",
            "language": "sql"
        },
        "language_info": {
            "name": "sql",
            "version": ""
        }
    },
    "nbformat_minor": 2,
    "nbformat": 4,
    "cells": [
        {
            "cell_type": "markdown",
            "source": [
                "A termék tábla sorainak száma"
            ],
            "metadata": {
                "language": "sql",
                "azdata_cell_guid": "caa1fb4b-ada6-45c4-b5e9-727be397d235"
            },
            "attachments": {}
        },
        {
            "cell_type": "code",
            "source": [
                "SELECT COUNT(*) AS 'sorok száma'\r\n",
                "FROM Termek"
            ],
            "metadata": {
                "azdata_cell_guid": "4dd0584f-7e4a-47f8-9b1b-1292b001eef9",
                "language": "sql"
            },
            "outputs": [
                {
                    "output_type": "display_data",
                    "data": {
                        "text/html": "(1 row affected)"
                    },
                    "metadata": {}
                },
                {
                    "output_type": "display_data",
                    "data": {
                        "text/html": "Total execution time: 00:00:00.011"
                    },
                    "metadata": {}
                },
                {
                    "output_type": "execute_result",
                    "execution_count": 4,
                    "data": {
                        "application/vnd.dataresource+json": {
                            "schema": {
                                "fields": [
                                    {
                                        "name": "sorok száma"
                                    }
                                ]
                            },
                            "data": [
                                {
                                    "sorok száma": "551"
                                }
                            ]
                        },
                        "text/html": "<table><tr><th>sorok száma</th></tr><tr><td>551</td></tr></table>"
                    },
                    "metadata": {}
                }
            ],
            "execution_count": 4
        },
        {
            "cell_type": "code",
            "source": [
                "A LISTAAR oszlop adatainak megjelenítése"
            ],
            "metadata": {
                "language": "sql",
                "azdata_cell_guid": "fc6c364e-053d-4397-a5b2-c4cbf2d0ecaf"
            },
            "outputs": [],
            "execution_count": null
        },
        {
            "cell_type": "code",
            "source": [
                "SELECT MIN(LISTAAR) AS 'minimum érték',\r\n",
                "    MAX(LISTAAR) AS 'maximum érték',\r\n",
                "    ROUND(AVG(LISTAAR), 4) AS 'átlagos érték',\r\n",
                "    ROUND(STDEV(LISTAAR), 4) AS 'szórás',\r\n",
                "    ROUND(VAR(LISTAAR), 4) AS 'variancia'\r\n",
                "FROM Termek\r\n",
                "WHERE LISTAAR IS NOT NULL"
            ],
            "metadata": {
                "language": "sql",
                "azdata_cell_guid": "d33e08c7-e13c-4db0-8411-6acefb1cff4a"
            },
            "outputs": [
                {
                    "output_type": "display_data",
                    "data": {
                        "text/html": "(1 row affected)"
                    },
                    "metadata": {}
                },
                {
                    "output_type": "display_data",
                    "data": {
                        "text/html": "Total execution time: 00:00:00.023"
                    },
                    "metadata": {}
                },
                {
                    "output_type": "execute_result",
                    "execution_count": 16,
                    "data": {
                        "application/vnd.dataresource+json": {
                            "schema": {
                                "fields": [
                                    {
                                        "name": "minimum érték"
                                    },
                                    {
                                        "name": "maximum érték"
                                    },
                                    {
                                        "name": "átlagos érték"
                                    },
                                    {
                                        "name": "szórás"
                                    },
                                    {
                                        "name": "eltérés"
                                    }
                                ]
                            },
                            "data": [
                                {
                                    "minimum érték": "0",
                                    "maximum érték": "46000",
                                    "átlagos érték": "786,2813",
                                    "szórás": "3602,4812",
                                    "eltérés": "12977870,5298"
                                }
                            ]
                        },
                        "text/html": "<table><tr><th>minimum érték</th><th>maximum érték</th><th>átlagos érték</th><th>szórás</th><th>eltérés</th></tr><tr><td>0</td><td>46000</td><td>786,2813</td><td>3602,4812</td><td>12977870,5298</td></tr></table>"
                    },
                    "metadata": {}
                }
            ],
            "execution_count": 16
        },
        {
            "cell_type": "markdown",
            "source": [
                "A MEGNEVEZES <span style=\"color: rgb(33, 33, 33); font-family: Consolas, &quot;Courier New&quot;, monospace; font-size: 12px; white-space: pre;\">oszlop adatainak megjelenítése</span>"
            ],
            "metadata": {
                "language": "sql",
                "azdata_cell_guid": "bdc2705d-3302-4b3e-af5f-ccfdcdf330d5"
            },
            "attachments": {}
        },
        {
            "cell_type": "code",
            "source": [
                "SELECT MIN(MEGNEVEZES) AS 'első érték', \r\n",
                "       MAX(MEGNEVEZES) AS 'utolsó érték',\r\n",
                "       MIN(LEN(MEGNEVEZES)) AS 'minimum hossz', \r\n",
                "       MAX(LEN(MEGNEVEZES)) AS 'maximum hossz', \r\n",
                "       AVG(LEN(MEGNEVEZES)) AS 'átlagos hossz', \r\n",
                "       ROUND(STDEV(LEN(MEGNEVEZES)), 5) AS 'szórás', \r\n",
                "       ROUND(VAR(LEN(MEGNEVEZES)), 4) AS 'variancia',\r\n",
                "       COUNT(DISTINCT MEGNEVEZES) AS 'egyedi értékek'\r\n",
                "FROM Termek\r\n",
                "WHERE MEGNEVEZES IS NOT NULL\r\n",
                "AND LEN(MEGNEVEZES) > 0"
            ],
            "metadata": {
                "language": "sql",
                "azdata_cell_guid": "2fcd8f4e-479e-454e-b1b5-47d9063f9e4c"
            },
            "outputs": [
                {
                    "output_type": "display_data",
                    "data": {
                        "text/html": "(1 row affected)"
                    },
                    "metadata": {}
                },
                {
                    "output_type": "display_data",
                    "data": {
                        "text/html": "Total execution time: 00:00:00.060"
                    },
                    "metadata": {}
                },
                {
                    "output_type": "execute_result",
                    "metadata": {},
                    "execution_count": 3,
                    "data": {
                        "application/vnd.dataresource+json": {
                            "schema": {
                                "fields": [
                                    {
                                        "name": "első érték"
                                    },
                                    {
                                        "name": "utolsó érték"
                                    },
                                    {
                                        "name": "minimum hossz"
                                    },
                                    {
                                        "name": "maximum hossz"
                                    },
                                    {
                                        "name": "átlagos hossz"
                                    },
                                    {
                                        "name": "szórás"
                                    },
                                    {
                                        "name": "variancia"
                                    },
                                    {
                                        "name": "egyedi értékek"
                                    }
                                ]
                            },
                            "data": [
                                {
                                    "első érték": "A föld amelyen élünk - Európa földrajza",
                                    "utolsó érték": "Zseléstoll Lizzy Card",
                                    "minimum hossz": "3",
                                    "maximum hossz": "40",
                                    "átlagos hossz": "18",
                                    "szórás": "5,89156",
                                    "variancia": "34,7105",
                                    "egyedi értékek": "543"
                                }
                            ]
                        },
                        "text/html": [
                            "<table>",
                            "<tr><th>első érték</th><th>utolsó érték</th><th>minimum hossz</th><th>maximum hossz</th><th>átlagos hossz</th><th>szórás</th><th>variancia</th><th>egyedi értékek</th></tr>",
                            "<tr><td>A föld amelyen élünk - Európa földrajza</td><td>Zseléstoll Lizzy Card</td><td>3</td><td>40</td><td>18</td><td>5,89156</td><td>34,7105</td><td>543</td></tr>",
                            "</table>"
                        ]
                    }
                }
            ],
            "execution_count": 3
        },
        {
            "cell_type": "code",
            "source": [
                "SELECT LEN(MEGNEVEZES) AS 'betűk száma',\r\n",
                "       count(*) AS 'darabszám'\r\n",
                "FROM Termek\r\n",
                "GROUP BY LEN(MEGNEVEZES)\r\n",
                "ORDER BY 1"
            ],
            "metadata": {
                "language": "sql",
                "azdata_cell_guid": "ed5e3be3-c80c-4651-8a54-612fcb0c7c65"
            },
            "outputs": [
                {
                    "output_type": "display_data",
                    "data": {
                        "text/html": "(33 rows affected)"
                    },
                    "metadata": {}
                },
                {
                    "output_type": "display_data",
                    "data": {
                        "text/html": "Total execution time: 00:00:00.022"
                    },
                    "metadata": {}
                },
                {
                    "output_type": "execute_result",
                    "metadata": {},
                    "execution_count": 4,
                    "data": {
                        "application/vnd.dataresource+json": {
                            "schema": {
                                "fields": [
                                    {
                                        "name": "betűk száma"
                                    },
                                    {
                                        "name": "darabszám"
                                    }
                                ]
                            },
                            "data": [
                                {
                                    "betűk száma": "3",
                                    "darabszám": "2"
                                },
                                {
                                    "betűk száma": "5",
                                    "darabszám": "2"
                                },
                                {
                                    "betűk száma": "6",
                                    "darabszám": "1"
                                },
                                {
                                    "betűk száma": "7",
                                    "darabszám": "2"
                                },
                                {
                                    "betűk száma": "8",
                                    "darabszám": "5"
                                },
                                {
                                    "betűk száma": "9",
                                    "darabszám": "8"
                                },
                                {
                                    "betűk száma": "10",
                                    "darabszám": "15"
                                },
                                {
                                    "betűk száma": "11",
                                    "darabszám": "18"
                                },
                                {
                                    "betűk száma": "12",
                                    "darabszám": "23"
                                },
                                {
                                    "betűk száma": "13",
                                    "darabszám": "30"
                                },
                                {
                                    "betűk száma": "14",
                                    "darabszám": "35"
                                },
                                {
                                    "betűk száma": "15",
                                    "darabszám": "32"
                                },
                                {
                                    "betűk száma": "16",
                                    "darabszám": "42"
                                },
                                {
                                    "betűk száma": "17",
                                    "darabszám": "32"
                                },
                                {
                                    "betűk száma": "18",
                                    "darabszám": "38"
                                },
                                {
                                    "betűk száma": "19",
                                    "darabszám": "37"
                                },
                                {
                                    "betűk száma": "20",
                                    "darabszám": "35"
                                },
                                {
                                    "betűk száma": "21",
                                    "darabszám": "37"
                                },
                                {
                                    "betűk száma": "22",
                                    "darabszám": "26"
                                },
                                {
                                    "betűk száma": "23",
                                    "darabszám": "20"
                                },
                                {
                                    "betűk száma": "24",
                                    "darabszám": "29"
                                },
                                {
                                    "betűk száma": "25",
                                    "darabszám": "16"
                                },
                                {
                                    "betűk száma": "26",
                                    "darabszám": "12"
                                },
                                {
                                    "betűk száma": "27",
                                    "darabszám": "10"
                                },
                                {
                                    "betűk száma": "28",
                                    "darabszám": "8"
                                },
                                {
                                    "betűk száma": "29",
                                    "darabszám": "11"
                                },
                                {
                                    "betűk száma": "30",
                                    "darabszám": "11"
                                },
                                {
                                    "betűk száma": "31",
                                    "darabszám": "5"
                                },
                                {
                                    "betűk száma": "32",
                                    "darabszám": "1"
                                },
                                {
                                    "betűk száma": "33",
                                    "darabszám": "2"
                                },
                                {
                                    "betűk száma": "36",
                                    "darabszám": "2"
                                },
                                {
                                    "betűk száma": "39",
                                    "darabszám": "2"
                                },
                                {
                                    "betűk száma": "40",
                                    "darabszám": "2"
                                }
                            ]
                        },
                        "text/html": [
                            "<table>",
                            "<tr><th>betűk száma</th><th>darabszám</th></tr>",
                            "<tr><td>3</td><td>2</td></tr>",
                            "<tr><td>5</td><td>2</td></tr>",
                            "<tr><td>6</td><td>1</td></tr>",
                            "<tr><td>7</td><td>2</td></tr>",
                            "<tr><td>8</td><td>5</td></tr>",
                            "<tr><td>9</td><td>8</td></tr>",
                            "<tr><td>10</td><td>15</td></tr>",
                            "<tr><td>11</td><td>18</td></tr>",
                            "<tr><td>12</td><td>23</td></tr>",
                            "<tr><td>13</td><td>30</td></tr>",
                            "<tr><td>14</td><td>35</td></tr>",
                            "<tr><td>15</td><td>32</td></tr>",
                            "<tr><td>16</td><td>42</td></tr>",
                            "<tr><td>17</td><td>32</td></tr>",
                            "<tr><td>18</td><td>38</td></tr>",
                            "<tr><td>19</td><td>37</td></tr>",
                            "<tr><td>20</td><td>35</td></tr>",
                            "<tr><td>21</td><td>37</td></tr>",
                            "<tr><td>22</td><td>26</td></tr>",
                            "<tr><td>23</td><td>20</td></tr>",
                            "<tr><td>24</td><td>29</td></tr>",
                            "<tr><td>25</td><td>16</td></tr>",
                            "<tr><td>26</td><td>12</td></tr>",
                            "<tr><td>27</td><td>10</td></tr>",
                            "<tr><td>28</td><td>8</td></tr>",
                            "<tr><td>29</td><td>11</td></tr>",
                            "<tr><td>30</td><td>11</td></tr>",
                            "<tr><td>31</td><td>5</td></tr>",
                            "<tr><td>32</td><td>1</td></tr>",
                            "<tr><td>33</td><td>2</td></tr>",
                            "<tr><td>36</td><td>2</td></tr>",
                            "<tr><td>39</td><td>2</td></tr>",
                            "<tr><td>40</td><td>2</td></tr>",
                            "</table>"
                        ]
                    }
                }
            ],
            "execution_count": 4
        },
        {
            "cell_type": "code",
            "source": [
                "SELECT TOP 10 MEGNEVEZES AS 'megnevezés', \r\n",
                "        LEN(MEGNEVEZES) AS 'megnevezés hossza'\r\n",
                "FROM Termek\r\n",
                "GROUP BY MEGNEVEZES\r\n",
                "ORDER BY 2 DESC"
            ],
            "metadata": {
                "language": "sql",
                "azdata_cell_guid": "6901e01f-a736-4f80-96ce-85eae42f6199"
            },
            "outputs": [
                {
                    "output_type": "display_data",
                    "data": {
                        "text/html": "(10 rows affected)"
                    },
                    "metadata": {}
                },
                {
                    "output_type": "display_data",
                    "data": {
                        "text/html": "Total execution time: 00:00:00.021"
                    },
                    "metadata": {}
                },
                {
                    "output_type": "execute_result",
                    "metadata": {},
                    "execution_count": 5,
                    "data": {
                        "application/vnd.dataresource+json": {
                            "schema": {
                                "fields": [
                                    {
                                        "name": "megnevezés"
                                    },
                                    {
                                        "name": "megnevezés hossza"
                                    }
                                ]
                            },
                            "data": [
                                {
                                    "megnevezés": "A föld amelyen élünk - Távoli földrészek",
                                    "megnevezés hossza": "40"
                                },
                                {
                                    "megnevezés": "Összefoglaló feladatgyüjtemény számtech.",
                                    "megnevezés hossza": "40"
                                },
                                {
                                    "megnevezés": "A föld amelyen élünk - Hazánk földrajza",
                                    "megnevezés hossza": "39"
                                },
                                {
                                    "megnevezés": "A föld amelyen élünk - Európa földrajza",
                                    "megnevezés hossza": "39"
                                },
                                {
                                    "megnevezés": "G. toll betét UNI lachnok Fine SA-7C",
                                    "megnevezés hossza": "36"
                                },
                                {
                                    "megnevezés": "Ragasztószalag 19 mm-es SCOTCH+ tépő",
                                    "megnevezés hossza": "36"
                                },
                                {
                                    "megnevezés": "A föld amelyen élünk - munkafüzet",
                                    "megnevezés hossza": "33"
                                },
                                {
                                    "megnevezés": "Díszdoboz tollnak 2 db-os keskeny",
                                    "megnevezés hossza": "33"
                                },
                                {
                                    "megnevezés": "Golyóstoll + ceruza Twister 2in1",
                                    "megnevezés hossza": "32"
                                },
                                {
                                    "megnevezés": "Ajándék cs. tasak italos, fólia",
                                    "megnevezés hossza": "31"
                                }
                            ]
                        },
                        "text/html": [
                            "<table>",
                            "<tr><th>megnevezés</th><th>megnevezés hossza</th></tr>",
                            "<tr><td>A föld amelyen élünk - Távoli földrészek</td><td>40</td></tr>",
                            "<tr><td>Összefoglaló feladatgyüjtemény számtech.</td><td>40</td></tr>",
                            "<tr><td>A föld amelyen élünk - Hazánk földrajza</td><td>39</td></tr>",
                            "<tr><td>A föld amelyen élünk - Európa földrajza</td><td>39</td></tr>",
                            "<tr><td>G. toll betét UNI lachnok Fine SA-7C</td><td>36</td></tr>",
                            "<tr><td>Ragasztószalag 19 mm-es SCOTCH+ tépő</td><td>36</td></tr>",
                            "<tr><td>A föld amelyen élünk - munkafüzet</td><td>33</td></tr>",
                            "<tr><td>Díszdoboz tollnak 2 db-os keskeny</td><td>33</td></tr>",
                            "<tr><td>Golyóstoll + ceruza Twister 2in1</td><td>32</td></tr>",
                            "<tr><td>Ajándék cs. tasak italos, fólia</td><td>31</td></tr>",
                            "</table>"
                        ]
                    }
                }
            ],
            "execution_count": 5
        },
        {
            "cell_type": "markdown",
            "source": [
                "A KESZLET <span style=\"color: rgb(33, 33, 33); font-family: Consolas, &quot;Courier New&quot;, monospace; font-size: 12px; white-space: pre;\">oszlop adatainak megjelenítése</span>"
            ],
            "metadata": {
                "language": "sql",
                "azdata_cell_guid": "db6efead-2ddf-485b-b2bb-a4f2b3b95c3a"
            },
            "attachments": {}
        },
        {
            "cell_type": "code",
            "source": [
                "SELECT MIN(KESZLET) as 'minimum',\r\n",
                "    MAX(KESZLET) as 'maximum'\r\n",
                "FROM Termek"
            ],
            "metadata": {
                "language": "sql",
                "azdata_cell_guid": "5dc5622c-a27d-4758-8d50-ffe9e91c5ee9"
            },
            "outputs": [
                {
                    "output_type": "display_data",
                    "data": {
                        "text/html": "(1 row affected)"
                    },
                    "metadata": {}
                },
                {
                    "output_type": "display_data",
                    "data": {
                        "text/html": "Total execution time: 00:00:00.020"
                    },
                    "metadata": {}
                },
                {
                    "output_type": "execute_result",
                    "metadata": {},
                    "execution_count": 6,
                    "data": {
                        "application/vnd.dataresource+json": {
                            "schema": {
                                "fields": [
                                    {
                                        "name": "minimum"
                                    },
                                    {
                                        "name": "maximum"
                                    }
                                ]
                            },
                            "data": [
                                {
                                    "minimum": "0",
                                    "maximum": "50000"
                                }
                            ]
                        },
                        "text/html": [
                            "<table>",
                            "<tr><th>minimum</th><th>maximum</th></tr>",
                            "<tr><td>0</td><td>50000</td></tr>",
                            "</table>"
                        ]
                    }
                }
            ],
            "execution_count": 6
        },
        {
            "cell_type": "code",
            "source": [
                "DECLARE \r\n",
                "@min int = 100,\r\n",
                "@max int = 10000;   \r\n",
                "\r\n",
                "SELECT\r\n",
                "    SUM(CASE WHEN KESZLET < @min THEN 1 ELSE 0 end) AS 'tartomány alatti',\r\n",
                "    SUM(CASE WHEN KESZLET BETWEEN @min and @max THEN 1 ELSE 0 end) AS 'tarományon belül',\r\n",
                "    SUM(CASE WHEN KESZLET > @max THEN 1 ELSE 0 end) AS 'tarományon felüli'\r\n",
                "FROM Termek\r\n",
                ""
            ],
            "metadata": {
                "language": "sql",
                "azdata_cell_guid": "50527814-1d70-4fd0-9e06-7eeefc08e588"
            },
            "outputs": [
                {
                    "output_type": "display_data",
                    "data": {
                        "text/html": "(1 row affected)"
                    },
                    "metadata": {}
                },
                {
                    "output_type": "display_data",
                    "data": {
                        "text/html": "Total execution time: 00:00:00.018"
                    },
                    "metadata": {}
                },
                {
                    "output_type": "execute_result",
                    "execution_count": 24,
                    "data": {
                        "application/vnd.dataresource+json": {
                            "schema": {
                                "fields": [
                                    {
                                        "name": "tartomány alatti"
                                    },
                                    {
                                        "name": "tarományon belül"
                                    },
                                    {
                                        "name": "tarományon felüli"
                                    }
                                ]
                            },
                            "data": [
                                {
                                    "tartomány alatti": "6",
                                    "tarományon belül": "534",
                                    "tarományon felüli": "11"
                                }
                            ]
                        },
                        "text/html": "<table><tr><th>tartomány alatti</th><th>tarományon belül</th><th>tarományon felüli</th></tr><tr><td>6</td><td>534</td><td>11</td></tr></table>"
                    },
                    "metadata": {}
                }
            ],
            "execution_count": 24
        },
        {
            "cell_type": "markdown",
            "source": [
                "A FELVITTE oszlop adatainak megjelenítése"
            ],
            "metadata": {
                "language": "sql",
                "azdata_cell_guid": "d320a553-bad1-4bd9-866c-f32d756ac58a"
            },
            "attachments": {}
        },
        {
            "cell_type": "code",
            "source": [
                "SELECT TOP 10\r\n",
                "    FELVITTE AS value, \r\n",
                "    COUNT(*) row_count\r\n",
                "from Termek\r\n",
                "WHERE FELVITTE IS NOT null\r\n",
                "GROUP BY FELVITTE\r\n",
                "ORDER BY COUNT(*) desc"
            ],
            "metadata": {
                "language": "sql",
                "azdata_cell_guid": "9760e209-1aeb-427c-a9e8-13f0e24cf99c"
            },
            "outputs": [
                {
                    "output_type": "display_data",
                    "data": {
                        "text/html": "(3 rows affected)"
                    },
                    "metadata": {}
                },
                {
                    "output_type": "display_data",
                    "data": {
                        "text/html": "Total execution time: 00:00:00.022"
                    },
                    "metadata": {}
                },
                {
                    "output_type": "execute_result",
                    "metadata": {},
                    "execution_count": 7,
                    "data": {
                        "application/vnd.dataresource+json": {
                            "schema": {
                                "fields": [
                                    {
                                        "name": "value"
                                    },
                                    {
                                        "name": "row_count"
                                    }
                                ]
                            },
                            "data": [
                                {
                                    "value": "Béla",
                                    "row_count": "189"
                                },
                                {
                                    "value": "Sára",
                                    "row_count": "188"
                                },
                                {
                                    "value": "Mari",
                                    "row_count": "174"
                                }
                            ]
                        },
                        "text/html": [
                            "<table>",
                            "<tr><th>value</th><th>row_count</th></tr>",
                            "<tr><td>Béla</td><td>189</td></tr>",
                            "<tr><td>Sára</td><td>188</td></tr>",
                            "<tr><td>Mari</td><td>174</td></tr>",
                            "</table>"
                        ]
                    }
                }
            ],
            "execution_count": 7
        },
        {
            "cell_type": "markdown",
            "source": [
                "A LEIRAS oszlop adatainak megjelenítése"
            ],
            "metadata": {
                "language": "sql",
                "azdata_cell_guid": "2934715f-f34e-4c06-a26e-bd388e4b0e14"
            },
            "attachments": {}
        },
        {
            "cell_type": "code",
            "source": [
                "SELECT tipus,\r\n",
                "    COUNT(*) darab\r\n",
                "FROM \r\n",
                "    (SELECT \r\n",
                "        CASE WHEN LEIRAS  IS NULL THEN 'NULL'\r\n",
                "            ELSE 'Nem üres' \r\n",
                "            END AS tipus\r\n",
                "        FROM Termek) rows\r\n",
                "GROUP BY tipus"
            ],
            "metadata": {
                "language": "sql",
                "azdata_cell_guid": "aeab1bba-729b-42bc-b5b2-03fc1c3eab37"
            },
            "outputs": [
                {
                    "output_type": "display_data",
                    "data": {
                        "text/html": "(2 rows affected)"
                    },
                    "metadata": {}
                },
                {
                    "output_type": "display_data",
                    "data": {
                        "text/html": "Total execution time: 00:00:00.017"
                    },
                    "metadata": {}
                },
                {
                    "output_type": "execute_result",
                    "metadata": {},
                    "execution_count": 8,
                    "data": {
                        "application/vnd.dataresource+json": {
                            "schema": {
                                "fields": [
                                    {
                                        "name": "tipus"
                                    },
                                    {
                                        "name": "darab"
                                    }
                                ]
                            },
                            "data": [
                                {
                                    "tipus": "Nem üres",
                                    "darab": "24"
                                },
                                {
                                    "tipus": "NULL",
                                    "darab": "527"
                                }
                            ]
                        },
                        "text/html": [
                            "<table>",
                            "<tr><th>tipus</th><th>darab</th></tr>",
                            "<tr><td>Nem üres</td><td>24</td></tr>",
                            "<tr><td>NULL</td><td>527</td></tr>",
                            "</table>"
                        ]
                    }
                }
            ],
            "execution_count": 8
        },
        {
            "cell_type": "code",
            "source": [
                "SELECT tipus, \r\n",
                "    SUM(darab) AS darab\r\n",
                "FROM\r\n",
                "    (SELECT \r\n",
                "        CASE WHEN [value] IS NULL then 'NULL'\r\n",
                "            WHEN darab = 1 then 'Egyedi'\r\n",
                "            ELSE 'Nem egyedi' \r\n",
                "            END AS tipus,\r\n",
                "        darab\r\n",
                "    FROM (\r\n",
                "        SELECT LEIRAS [value], \r\n",
                "            COUNT(*) darab\r\n",
                "        FROM Termek\r\n",
                "        GROUP BY LEIRAS) X) Y\r\n",
                "GROUP BY tipus"
            ],
            "metadata": {
                "language": "sql",
                "azdata_cell_guid": "bb045a44-5e4a-48db-9800-b16c17c8ed89"
            },
            "outputs": [
                {
                    "output_type": "display_data",
                    "data": {
                        "text/html": "(3 rows affected)"
                    },
                    "metadata": {}
                },
                {
                    "output_type": "display_data",
                    "data": {
                        "text/html": "Total execution time: 00:00:00.023"
                    },
                    "metadata": {}
                },
                {
                    "output_type": "execute_result",
                    "metadata": {},
                    "execution_count": 9,
                    "data": {
                        "application/vnd.dataresource+json": {
                            "schema": {
                                "fields": [
                                    {
                                        "name": "tipus"
                                    },
                                    {
                                        "name": "darab"
                                    }
                                ]
                            },
                            "data": [
                                {
                                    "tipus": "Egyedi",
                                    "darab": "17"
                                },
                                {
                                    "tipus": "Nem egyedi",
                                    "darab": "7"
                                },
                                {
                                    "tipus": "NULL",
                                    "darab": "527"
                                }
                            ]
                        },
                        "text/html": [
                            "<table>",
                            "<tr><th>tipus</th><th>darab</th></tr>",
                            "<tr><td>Egyedi</td><td>17</td></tr>",
                            "<tr><td>Nem egyedi</td><td>7</td></tr>",
                            "<tr><td>NULL</td><td>527</td></tr>",
                            "</table>"
                        ]
                    }
                }
            ],
            "execution_count": 9
        }
    ]
}