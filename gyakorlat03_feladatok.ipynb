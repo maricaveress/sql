{
    "metadata": {
        "kernelspec": {
            "name": "SQL",
            "display_name": "SQL",
            "language": "sql"
        },
        "language_info": {
            "name": "sql",
            "version": ""
        },
        "extensions": {
            "azuredatastudio": {
                "version": 1,
                "views": []
            }
        }
    },
    "nbformat_minor": 2,
    "nbformat": 4,
    "cells": [
        {
            "cell_type": "markdown",
            "source": [
                "**Az első 5 feladat ismétlés (többtáblás lekérdezések) a tanulmányi adatbázisból**\n",
                "\n",
                "1. Készítsünk listát arról, hogy melyik óra melyik teremben van!\n",
                "    \n",
                "    1. Jelenítsük meg az óra azonosítóját és a terem nevét!\n",
                "    2. A listát szűrjük a 3 karakter hosszú, \\[100;199\\] zárt intervallumba eső termekre! Feltesszük, hogy a 3 karakter hosszú terem nevek csak számjegyeket tartalmaznak."
            ],
            "metadata": {
                "azdata_cell_guid": "77f2d5b3-38e9-41cc-893f-f5afd02b97ef"
            },
            "attachments": {}
        },
        {
            "cell_type": "code",
            "source": [
                "select o.ora_id as 'óra azon',\r\n",
                "    t.terem as 'terem név'\r\n",
                "from orak o \r\n",
                "join termek t on o.terem = t.Tkód\r\n",
                "where len(t.terem) = 3 and t.terem between 100 and 199"
            ],
            "metadata": {
                "azdata_cell_guid": "bd3cef1a-4e6e-4ece-9dc3-aaa9d2b5d66d",
                "language": "sql"
            },
            "outputs": [
                {
                    "output_type": "display_data",
                    "data": {
                        "text/html": "(30 rows affected)"
                    },
                    "metadata": {}
                },
                {
                    "output_type": "display_data",
                    "data": {
                        "text/html": "Total execution time: 00:00:00.142"
                    },
                    "metadata": {}
                },
                {
                    "output_type": "execute_result",
                    "metadata": {},
                    "execution_count": 1,
                    "data": {
                        "application/vnd.dataresource+json": {
                            "schema": {
                                "fields": [
                                    {
                                        "name": "óra azon"
                                    },
                                    {
                                        "name": "terem név"
                                    }
                                ]
                            },
                            "data": [
                                {
                                    "óra azon": "159",
                                    "terem név": "117"
                                },
                                {
                                    "óra azon": "160",
                                    "terem név": "118"
                                },
                                {
                                    "óra azon": "161",
                                    "terem név": "118"
                                },
                                {
                                    "óra azon": "162",
                                    "terem név": "119"
                                },
                                {
                                    "óra azon": "163",
                                    "terem név": "120"
                                },
                                {
                                    "óra azon": "164",
                                    "terem név": "119"
                                },
                                {
                                    "óra azon": "165",
                                    "terem név": "119"
                                },
                                {
                                    "óra azon": "166",
                                    "terem név": "119"
                                },
                                {
                                    "óra azon": "167",
                                    "terem név": "120"
                                },
                                {
                                    "óra azon": "170",
                                    "terem név": "120"
                                },
                                {
                                    "óra azon": "172",
                                    "terem név": "119"
                                },
                                {
                                    "óra azon": "173",
                                    "terem név": "119"
                                },
                                {
                                    "óra azon": "175",
                                    "terem név": "120"
                                },
                                {
                                    "óra azon": "176",
                                    "terem név": "118"
                                },
                                {
                                    "óra azon": "177",
                                    "terem név": "119"
                                },
                                {
                                    "óra azon": "179",
                                    "terem név": "120"
                                },
                                {
                                    "óra azon": "180",
                                    "terem név": "119"
                                },
                                {
                                    "óra azon": "181",
                                    "terem név": "118"
                                },
                                {
                                    "óra azon": "185",
                                    "terem név": "120"
                                },
                                {
                                    "óra azon": "192",
                                    "terem név": "119"
                                },
                                {
                                    "óra azon": "195",
                                    "terem név": "116"
                                },
                                {
                                    "óra azon": "197",
                                    "terem név": "116"
                                },
                                {
                                    "óra azon": "198",
                                    "terem név": "119"
                                },
                                {
                                    "óra azon": "204",
                                    "terem név": "120"
                                },
                                {
                                    "óra azon": "212",
                                    "terem név": "120"
                                },
                                {
                                    "óra azon": "218",
                                    "terem név": "118"
                                },
                                {
                                    "óra azon": "220",
                                    "terem név": "119"
                                },
                                {
                                    "óra azon": "222",
                                    "terem név": "116"
                                },
                                {
                                    "óra azon": "226",
                                    "terem név": "117"
                                },
                                {
                                    "óra azon": "227",
                                    "terem név": "116"
                                }
                            ]
                        },
                        "text/html": [
                            "<table>",
                            "<tr><th>óra azon</th><th>terem név</th></tr>",
                            "<tr><td>159</td><td>117</td></tr>",
                            "<tr><td>160</td><td>118</td></tr>",
                            "<tr><td>161</td><td>118</td></tr>",
                            "<tr><td>162</td><td>119</td></tr>",
                            "<tr><td>163</td><td>120</td></tr>",
                            "<tr><td>164</td><td>119</td></tr>",
                            "<tr><td>165</td><td>119</td></tr>",
                            "<tr><td>166</td><td>119</td></tr>",
                            "<tr><td>167</td><td>120</td></tr>",
                            "<tr><td>170</td><td>120</td></tr>",
                            "<tr><td>172</td><td>119</td></tr>",
                            "<tr><td>173</td><td>119</td></tr>",
                            "<tr><td>175</td><td>120</td></tr>",
                            "<tr><td>176</td><td>118</td></tr>",
                            "<tr><td>177</td><td>119</td></tr>",
                            "<tr><td>179</td><td>120</td></tr>",
                            "<tr><td>180</td><td>119</td></tr>",
                            "<tr><td>181</td><td>118</td></tr>",
                            "<tr><td>185</td><td>120</td></tr>",
                            "<tr><td>192</td><td>119</td></tr>",
                            "<tr><td>195</td><td>116</td></tr>",
                            "<tr><td>197</td><td>116</td></tr>",
                            "<tr><td>198</td><td>119</td></tr>",
                            "<tr><td>204</td><td>120</td></tr>",
                            "<tr><td>212</td><td>120</td></tr>",
                            "<tr><td>218</td><td>118</td></tr>",
                            "<tr><td>220</td><td>119</td></tr>",
                            "<tr><td>222</td><td>116</td></tr>",
                            "<tr><td>226</td><td>117</td></tr>",
                            "<tr><td>227</td><td>116</td></tr>",
                            "</table>"
                        ]
                    }
                }
            ],
            "execution_count": 1
        },
        {
            "cell_type": "markdown",
            "source": [
                "2. <span style=\"font-weight: 600; color: rgb(36, 41, 47); font-family: -apple-system, BlinkMacSystemFont, &quot;Segoe UI&quot;, Helvetica, Arial, sans-serif, &quot;Apple Color Emoji&quot;, &quot;Segoe UI Emoji&quot;; font-size: 16px;\">Hány óra van összesen az egyes napokon?</span>\n",
                "\n",
                "1. Jelenítsük meg a napok nevét és az órák számát az adott napon!\n",
                "2. Az oszlopokat nevezzük el értelemszerűen!\n",
                "3. A listát rendezzük óraszám szerint növekvő sorrendbe!"
            ],
            "metadata": {
                "azdata_cell_guid": "88f5b4bb-f4c1-4bad-a0c7-b2592687b422"
            },
            "attachments": {}
        },
        {
            "cell_type": "code",
            "source": [
                "select n.nap as 'napok neve*',\r\n",
                "    count(*) as 'órák száma'\r\n",
                "from Orak o\r\n",
                "join napok n on o.nap = n.nap_id\r\n",
                "group by n.nap\r\n",
                "order by count(*)"
            ],
            "metadata": {
                "azdata_cell_guid": "e9de5726-f036-4fb9-8c33-a873955ed886",
                "language": "sql"
            },
            "outputs": [
                {
                    "output_type": "display_data",
                    "data": {
                        "text/html": "(5 rows affected)"
                    },
                    "metadata": {}
                },
                {
                    "output_type": "display_data",
                    "data": {
                        "text/html": "Total execution time: 00:00:00.249"
                    },
                    "metadata": {}
                },
                {
                    "output_type": "execute_result",
                    "metadata": {},
                    "execution_count": 3,
                    "data": {
                        "application/vnd.dataresource+json": {
                            "schema": {
                                "fields": [
                                    {
                                        "name": "napok neve"
                                    },
                                    {
                                        "name": "órák száma"
                                    }
                                ]
                            },
                            "data": [
                                {
                                    "napok neve": "Péntek",
                                    "órák száma": "6"
                                },
                                {
                                    "napok neve": "Szerda",
                                    "órák száma": "6"
                                },
                                {
                                    "napok neve": "Kedd",
                                    "órák száma": "13"
                                },
                                {
                                    "napok neve": "Csütörtök",
                                    "órák száma": "19"
                                },
                                {
                                    "napok neve": "Hétfő",
                                    "órák száma": "23"
                                }
                            ]
                        },
                        "text/html": [
                            "<table>",
                            "<tr><th>napok neve</th><th>órák száma</th></tr>",
                            "<tr><td>Péntek</td><td>6</td></tr>",
                            "<tr><td>Szerda</td><td>6</td></tr>",
                            "<tr><td>Kedd</td><td>13</td></tr>",
                            "<tr><td>Csütörtök</td><td>19</td></tr>",
                            "<tr><td>Hétfő</td><td>23</td></tr>",
                            "</table>"
                        ]
                    }
                }
            ],
            "execution_count": 3
        },
        {
            "cell_type": "markdown",
            "source": [
                "3. <span style=\"font-weight: 600; color: rgb(36, 41, 47); font-family: -apple-system, BlinkMacSystemFont, &quot;Segoe UI&quot;, Helvetica, Arial, sans-serif, &quot;Apple Color Emoji&quot;, &quot;Segoe UI Emoji&quot;; font-size: 16px;\">Készítsünk listát arról, hogy melyik oktatónak hány órája van az Órák táblában!</span>\n",
                "\n",
                "1. A lista jelenítse meg az oktatók nevét, és az órák számát!\n",
                "2. Az oszlopokat nevezzük el értelemszerűen!\n",
                "3. A listából hagyjuk ki az óraadókat!"
            ],
            "metadata": {
                "azdata_cell_guid": "9e7249de-1b59-43d8-84b1-26fa7d81fc5a"
            },
            "attachments": {}
        },
        {
            "cell_type": "code",
            "source": [
                "select okt.nev as 'oktató neve',\r\n",
                "    count(*) as 'órák száma' \r\n",
                "from oktatok okt \r\n",
                "join orak o on okt.oktato_id = o.tanar\r\n",
                "join Beosztasok b on okt.beosztás = b.beosztas_id\r\n",
                "where b.beosztasnev <> 'Óraadó'\r\n",
                "group by okt.nev"
            ],
            "metadata": {
                "azdata_cell_guid": "6405d3e8-a9b1-45d7-aa76-3b1e785ef6cc",
                "language": "sql"
            },
            "outputs": [
                {
                    "output_type": "display_data",
                    "data": {
                        "text/html": "(15 rows affected)"
                    },
                    "metadata": {}
                },
                {
                    "output_type": "display_data",
                    "data": {
                        "text/html": "Total execution time: 00:00:00.273"
                    },
                    "metadata": {}
                },
                {
                    "output_type": "execute_result",
                    "metadata": {},
                    "execution_count": 10,
                    "data": {
                        "application/vnd.dataresource+json": {
                            "schema": {
                                "fields": [
                                    {
                                        "name": "oktató neve"
                                    },
                                    {
                                        "name": "órák száma"
                                    }
                                ]
                            },
                            "data": [
                                {
                                    "oktató neve": "Balkán András",
                                    "órák száma": "3"
                                },
                                {
                                    "oktató neve": "Farkasos Piroska",
                                    "órák száma": "7"
                                },
                                {
                                    "oktató neve": "Jogrerős Pál",
                                    "órák száma": "2"
                                },
                                {
                                    "oktató neve": "Juhász András",
                                    "órák száma": "2"
                                },
                                {
                                    "oktató neve": "Kiss János",
                                    "órák száma": "4"
                                },
                                {
                                    "oktató neve": "Kovács László",
                                    "órák száma": "4"
                                },
                                {
                                    "oktató neve": "Pelikán József",
                                    "órák száma": "6"
                                },
                                {
                                    "oktató neve": "Róbert Gida",
                                    "órák száma": "1"
                                },
                                {
                                    "oktató neve": "Szénási ászló",
                                    "órák száma": "2"
                                },
                                {
                                    "oktató neve": "Szentágotai Istvás",
                                    "órák száma": "8"
                                },
                                {
                                    "oktató neve": "Szép llonka",
                                    "órák száma": "4"
                                },
                                {
                                    "oktató neve": "Szerb László",
                                    "órák száma": "3"
                                },
                                {
                                    "oktató neve": "Ujfalussi István",
                                    "órák száma": "3"
                                },
                                {
                                    "oktató neve": "Varga Kata",
                                    "órák száma": "4"
                                },
                                {
                                    "oktató neve": "Vitéz János",
                                    "órák száma": "4"
                                }
                            ]
                        },
                        "text/html": [
                            "<table>",
                            "<tr><th>oktató neve</th><th>órák száma</th></tr>",
                            "<tr><td>Balkán András</td><td>3</td></tr>",
                            "<tr><td>Farkasos Piroska</td><td>7</td></tr>",
                            "<tr><td>Jogrerős Pál</td><td>2</td></tr>",
                            "<tr><td>Juhász András</td><td>2</td></tr>",
                            "<tr><td>Kiss János</td><td>4</td></tr>",
                            "<tr><td>Kovács László</td><td>4</td></tr>",
                            "<tr><td>Pelikán József</td><td>6</td></tr>",
                            "<tr><td>Róbert Gida</td><td>1</td></tr>",
                            "<tr><td>Szénási ászló</td><td>2</td></tr>",
                            "<tr><td>Szentágotai Istvás</td><td>8</td></tr>",
                            "<tr><td>Szép llonka</td><td>4</td></tr>",
                            "<tr><td>Szerb László</td><td>3</td></tr>",
                            "<tr><td>Ujfalussi István</td><td>3</td></tr>",
                            "<tr><td>Varga Kata</td><td>4</td></tr>",
                            "<tr><td>Vitéz János</td><td>4</td></tr>",
                            "</table>"
                        ]
                    }
                }
            ],
            "execution_count": 10
        },
        {
            "cell_type": "markdown",
            "source": [
                "4. <span style=\"color: rgb(36, 41, 47); font-family: -apple-system, BlinkMacSystemFont, &quot;Segoe UI&quot;, Helvetica, Arial, sans-serif, &quot;Apple Color Emoji&quot;, &quot;Segoe UI Emoji&quot;; font-size: 16px;\">Van-e olyan tantárgy, amelyből nincs óra?</span>\n",
                "\n",
                "1. Jelentsük meg a tantárgy nevét és a tantárgyfelelős nevét!"
            ],
            "metadata": {
                "azdata_cell_guid": "6478e469-c094-472c-a772-ccd5b5c61516"
            },
            "attachments": {}
        },
        {
            "cell_type": "code",
            "source": [
                "select tt.Tantárgynév as 'tantárgy neve',\r\n",
                "    okt.nev as 'tárgyfelelős neve'\r\n",
                "from tantárgyak tt\r\n",
                "left join orak o on tt.tkód = o.targy\r\n",
                "join oktatok okt on tt.Tantárgyfelelős = okt.oktato_id\r\n",
                "where o.targy is null"
            ],
            "metadata": {
                "azdata_cell_guid": "02031ea2-3838-458d-839c-228e3b362b61",
                "language": "sql",
                "tags": []
            },
            "outputs": [
                {
                    "output_type": "display_data",
                    "data": {
                        "text/html": "(1 row affected)"
                    },
                    "metadata": {}
                },
                {
                    "output_type": "display_data",
                    "data": {
                        "text/html": "Total execution time: 00:00:00.457"
                    },
                    "metadata": {}
                },
                {
                    "output_type": "execute_result",
                    "metadata": {},
                    "execution_count": 15,
                    "data": {
                        "application/vnd.dataresource+json": {
                            "schema": {
                                "fields": [
                                    {
                                        "name": "tantárgy neve"
                                    },
                                    {
                                        "name": "tárgyfelelős neve"
                                    }
                                ]
                            },
                            "data": [
                                {
                                    "tantárgy neve": "Folyami gáttan",
                                    "tárgyfelelős neve": "Varga Kata"
                                }
                            ]
                        },
                        "text/html": [
                            "<table>",
                            "<tr><th>tantárgy neve</th><th>tárgyfelelős neve</th></tr>",
                            "<tr><td>Folyami gáttan</td><td>Varga Kata</td></tr>",
                            "</table>"
                        ]
                    }
                }
            ],
            "execution_count": 15
        },
        {
            "cell_type": "markdown",
            "source": [
                "5. <span style=\"background-color: rgb(255, 255, 255); color: rgb(36, 41, 47); font-family: -apple-system, BlinkMacSystemFont, &quot;Segoe UI&quot;, Helvetica, Arial, sans-serif, &quot;Apple Color Emoji&quot;, &quot;Segoe UI Emoji&quot;; font-size: 16px;\">Hány óra van összesen a 120-as teremben?</span>"
            ],
            "metadata": {
                "azdata_cell_guid": "9edbbaf9-c276-4898-9a01-e1b2993c089f"
            },
            "attachments": {}
        },
        {
            "cell_type": "code",
            "source": [
                "select count(*) as \"összes óra\"\r\n",
                "from termek t \r\n",
                "join orak o on t.tkód = o.terem\r\n",
                "where t.terem = '120'"
            ],
            "metadata": {
                "azdata_cell_guid": "5ad5fdcb-2878-4111-861a-833bcd50e935",
                "language": "sql"
            },
            "outputs": [
                {
                    "output_type": "display_data",
                    "data": {
                        "text/html": "(1 row affected)"
                    },
                    "metadata": {}
                },
                {
                    "output_type": "display_data",
                    "data": {
                        "text/html": "Total execution time: 00:00:00.536"
                    },
                    "metadata": {}
                },
                {
                    "output_type": "execute_result",
                    "metadata": {},
                    "execution_count": 18,
                    "data": {
                        "application/vnd.dataresource+json": {
                            "schema": {
                                "fields": [
                                    {
                                        "name": "összes óra"
                                    }
                                ]
                            },
                            "data": [
                                {
                                    "összes óra": "8"
                                }
                            ]
                        },
                        "text/html": [
                            "<table>",
                            "<tr><th>összes óra</th></tr>",
                            "<tr><td>8</td></tr>",
                            "</table>"
                        ]
                    }
                }
            ],
            "execution_count": 18
        },
        {
            "cell_type": "markdown",
            "source": [
                "**A 6-10 feladatokat halmazműveletek segítségével oldjuk meg, szintén a tanulmányi adatbázison**\n",
                "\n",
                "6. <span style=\"background-color:rgb(255, 255, 255);color:rgb(36, 41, 47);font-family:-apple-system, BlinkMacSystemFont, &quot;Segoe UI&quot;, Helvetica, Arial, sans-serif, &quot;Apple Color Emoji&quot;, &quot;Segoe UI Emoji&quot;;font-size:16px;font-weight:600;\">Jelenítsük meg azon tanárok azonosítóját és nevét, akik hétfői vagy keddi napokon tanítanak!</span>"
            ],
            "metadata": {
                "azdata_cell_guid": "5fe65c1c-2479-45ac-ad03-ec99d12eae21"
            },
            "attachments": {}
        },
        {
            "cell_type": "code",
            "source": [
                "select okt.oktato_id as 'tanár azon',\r\n",
                "    okt.nev as 'tanár neve'\r\n",
                "from oktatok okt\r\n",
                "join orak o on okt.oktato_id = o.tanar\r\n",
                "join napok n on o.nap = n.nap_id\r\n",
                "where n.nap = 'hétfő'\r\n",
                "union\r\n",
                "select okt.oktato_id as 'tanár azon',\r\n",
                "    okt.nev as 'tanár neve'\r\n",
                "from oktatok okt\r\n",
                "join orak o on okt.oktato_id = o.tanar\r\n",
                "join napok n on o.nap = n.nap_id\r\n",
                "where n.nap = 'kedd'"
            ],
            "metadata": {
                "azdata_cell_guid": "924f2dde-f1c2-4def-a7f9-dbf4bace7735",
                "language": "sql"
            },
            "outputs": [
                {
                    "output_type": "display_data",
                    "data": {
                        "text/html": "(17 rows affected)"
                    },
                    "metadata": {}
                },
                {
                    "output_type": "display_data",
                    "data": {
                        "text/html": "Total execution time: 00:00:00.246"
                    },
                    "metadata": {}
                },
                {
                    "output_type": "execute_result",
                    "metadata": {},
                    "execution_count": 21,
                    "data": {
                        "application/vnd.dataresource+json": {
                            "schema": {
                                "fields": [
                                    {
                                        "name": "tanár azon"
                                    },
                                    {
                                        "name": "tanár neve"
                                    }
                                ]
                            },
                            "data": [
                                {
                                    "tanár azon": "1",
                                    "tanár neve": "Kovács László"
                                },
                                {
                                    "tanár azon": "2",
                                    "tanár neve": "Szentágotai Istvás"
                                },
                                {
                                    "tanár azon": "3",
                                    "tanár neve": "Szerb László"
                                },
                                {
                                    "tanár azon": "4",
                                    "tanár neve": "Ujfalussi István"
                                },
                                {
                                    "tanár azon": "5",
                                    "tanár neve": "Balkán András"
                                },
                                {
                                    "tanár azon": "6",
                                    "tanár neve": "Szép llonka"
                                },
                                {
                                    "tanár azon": "7",
                                    "tanár neve": "Kiss János"
                                },
                                {
                                    "tanár azon": "8",
                                    "tanár neve": "Pelikán József"
                                },
                                {
                                    "tanár azon": "9",
                                    "tanár neve": "Farkasos Piroska"
                                },
                                {
                                    "tanár azon": "10",
                                    "tanár neve": "Jogrerős Pál"
                                },
                                {
                                    "tanár azon": "12",
                                    "tanár neve": "Varga Kata"
                                },
                                {
                                    "tanár azon": "14",
                                    "tanár neve": "Szénási ászló"
                                },
                                {
                                    "tanár azon": "18",
                                    "tanár neve": "Nógrádi Kata"
                                },
                                {
                                    "tanár azon": "20",
                                    "tanár neve": "Kovács András"
                                },
                                {
                                    "tanár azon": "104",
                                    "tanár neve": "Ludas Mátyás"
                                },
                                {
                                    "tanár azon": "108",
                                    "tanár neve": "Róbert Gida"
                                },
                                {
                                    "tanár azon": "200",
                                    "tanár neve": "Aranyi Mária"
                                }
                            ]
                        },
                        "text/html": [
                            "<table>",
                            "<tr><th>tanár azon</th><th>tanár neve</th></tr>",
                            "<tr><td>1</td><td>Kovács László</td></tr>",
                            "<tr><td>2</td><td>Szentágotai Istvás</td></tr>",
                            "<tr><td>3</td><td>Szerb László</td></tr>",
                            "<tr><td>4</td><td>Ujfalussi István</td></tr>",
                            "<tr><td>5</td><td>Balkán András</td></tr>",
                            "<tr><td>6</td><td>Szép llonka</td></tr>",
                            "<tr><td>7</td><td>Kiss János</td></tr>",
                            "<tr><td>8</td><td>Pelikán József</td></tr>",
                            "<tr><td>9</td><td>Farkasos Piroska</td></tr>",
                            "<tr><td>10</td><td>Jogrerős Pál</td></tr>",
                            "<tr><td>12</td><td>Varga Kata</td></tr>",
                            "<tr><td>14</td><td>Szénási ászló</td></tr>",
                            "<tr><td>18</td><td>Nógrádi Kata</td></tr>",
                            "<tr><td>20</td><td>Kovács András</td></tr>",
                            "<tr><td>104</td><td>Ludas Mátyás</td></tr>",
                            "<tr><td>108</td><td>Róbert Gida</td></tr>",
                            "<tr><td>200</td><td>Aranyi Mária</td></tr>",
                            "</table>"
                        ]
                    }
                }
            ],
            "execution_count": 21
        },
        {
            "cell_type": "markdown",
            "source": [
                "7. <span style=\"background-color: rgb(255, 255, 255); color: rgb(36, 41, 47); font-family: -apple-system, BlinkMacSystemFont, &quot;Segoe UI&quot;, Helvetica, Arial, sans-serif, &quot;Apple Color Emoji&quot;, &quot;Segoe UI Emoji&quot;; font-size: 16px; font-weight: 600;\">Melyek azok a tantárgyak, amelyek esetén van óra a 8.00-kor kezdődő sávban, de nincs a 12.30-kor kezdődő sávban?</span>"
            ],
            "metadata": {
                "azdata_cell_guid": "3aeb6bf5-b111-40d5-92b2-9712ce335696"
            },
            "attachments": {}
        },
        {
            "cell_type": "code",
            "source": [
                "select tt.Tantárgynév\r\n",
                "from Tantárgyak tt\r\n",
                "join orak o on tt.Tkód = o.tanar\r\n",
                "join Savok s on o.sav = s.Sav_id\r\n",
                "where s.Időpont = '8.00'\r\n",
                "\r\n",
                "except \r\n",
                "\r\n",
                "select tt.Tantárgynév\r\n",
                "from Tantárgyak tt\r\n",
                "join orak o on tt.Tkód = o.tanar\r\n",
                "join Savok s on o.sav = s.Sav_id\r\n",
                "where s.Időpont = '12.30'"
            ],
            "metadata": {
                "azdata_cell_guid": "3e89b651-f56f-4102-af52-30eb2bbe360d",
                "language": "sql"
            },
            "outputs": [
                {
                    "output_type": "display_data",
                    "data": {
                        "text/html": "(2 rows affected)"
                    },
                    "metadata": {}
                },
                {
                    "output_type": "display_data",
                    "data": {
                        "text/html": "Total execution time: 00:00:00.080"
                    },
                    "metadata": {}
                },
                {
                    "output_type": "execute_result",
                    "metadata": {},
                    "execution_count": 25,
                    "data": {
                        "application/vnd.dataresource+json": {
                            "schema": {
                                "fields": [
                                    {
                                        "name": "Tantárgynév"
                                    }
                                ]
                            },
                            "data": [
                                {
                                    "Tantárgynév": "Az ürgeöntés alapjai"
                                },
                                {
                                    "Tantárgynév": "Fejezetek az ürgék jogaiból"
                                }
                            ]
                        },
                        "text/html": [
                            "<table>",
                            "<tr><th>Tantárgynév</th></tr>",
                            "<tr><td>Az ürgeöntés alapjai</td></tr>",
                            "<tr><td>Fejezetek az ürgék jogaiból</td></tr>",
                            "</table>"
                        ]
                    }
                }
            ],
            "execution_count": 25
        },
        {
            "cell_type": "markdown",
            "source": [
                "8. <span style=\"background-color: rgb(255, 255, 255); color: rgb(36, 41, 47); font-family: -apple-system, BlinkMacSystemFont, &quot;Segoe UI&quot;, Helvetica, Arial, sans-serif, &quot;Apple Color Emoji&quot;, &quot;Segoe UI Emoji&quot;; font-size: 16px; font-weight: 600;\">Listázzuk azokat a termeket, amelyekben oktat Kovács László és van olyan tanóra a teremben, ahol a tantárgy nevében nem szerepel az 'ürge' szó!</span>"
            ],
            "metadata": {
                "azdata_cell_guid": "26a504dc-ff6a-439f-94c0-4580eca3eacf"
            },
            "attachments": {}
        },
        {
            "cell_type": "code",
            "source": [
                "select t.terem as 'termek'\r\n",
                "from termek t\r\n",
                "join orak o on t.tkód = o.terem\r\n",
                "join oktatok okt on o.tanar = okt.oktato_id\r\n",
                "where okt.nev = 'Kovács László'\r\n",
                "\r\n",
                "intersect \r\n",
                "\r\n",
                "select t.terem as 'termek'\r\n",
                "from termek t\r\n",
                "join orak o on t.Tkód = o.terem\r\n",
                "join Tantárgyak tt on o.targy = tt.tkód\r\n",
                "where tt.Tantárgynév not like '%ürge%'"
            ],
            "metadata": {
                "azdata_cell_guid": "1cbb8aeb-78b5-4350-aa45-e3202fdab85b",
                "language": "sql"
            },
            "outputs": [
                {
                    "output_type": "display_data",
                    "data": {
                        "text/html": "(4 rows affected)"
                    },
                    "metadata": {}
                },
                {
                    "output_type": "display_data",
                    "data": {
                        "text/html": "Total execution time: 00:00:00.189"
                    },
                    "metadata": {}
                },
                {
                    "output_type": "execute_result",
                    "metadata": {},
                    "execution_count": 29,
                    "data": {
                        "application/vnd.dataresource+json": {
                            "schema": {
                                "fields": [
                                    {
                                        "name": "termek"
                                    }
                                ]
                            },
                            "data": [
                                {
                                    "termek": "116"
                                },
                                {
                                    "termek": "119"
                                },
                                {
                                    "termek": "S.Asor.S3"
                                },
                                {
                                    "termek": "VP 203."
                                }
                            ]
                        },
                        "text/html": [
                            "<table>",
                            "<tr><th>termek</th></tr>",
                            "<tr><td>116</td></tr>",
                            "<tr><td>119</td></tr>",
                            "<tr><td>S.Asor.S3</td></tr>",
                            "<tr><td>VP 203.</td></tr>",
                            "</table>"
                        ]
                    }
                }
            ],
            "execution_count": 29
        },
        {
            "cell_type": "markdown",
            "source": [
                "9. <span style=\"font-weight: 600; color: rgb(36, 41, 47); font-family: -apple-system, BlinkMacSystemFont, &quot;Segoe UI&quot;, Helvetica, Arial, sans-serif, &quot;Apple Color Emoji&quot;, &quot;Segoe UI Emoji&quot;; font-size: 16px;\">Készítsünk listát arról, hogy melyik tanárnak hány órája van a (munka) hét elején (hétfőn), hét közben (kedd, szerda és csütörtök), illetve a hét végén (péntek)!</span>\n",
                "\n",
                "1. Jelenítsük meg a tanár azonosítóját, nevét, az időszakot (hét eleje - hét közben - hét vége), valamint az óraszámot!\n",
                "2. A három megjelölt időszakot külön kérdezzük le, majd fűzzük össze a lekérdezések eredményeit!\n",
                "3. Rendezzük a listát az oktató neve, azon belül időszak szerint!"
            ],
            "metadata": {
                "azdata_cell_guid": "435e2860-2dd5-4877-90f4-34a43baeb53c"
            },
            "attachments": {}
        },
        {
            "cell_type": "code",
            "source": [
                "select okt.oktato_id as 'tanár azon',\r\n",
                "    okt.nev as 'tanár neve',\r\n",
                "    case \r\n",
                "    when n.nap = 'Hétfő' then 'hét eleje'\r\n",
                "    when n.nap = 'Péntek' then 'hét vége'\r\n",
                "    else 'hét közepe'\r\n",
                "    end\r\n",
                "    as 'időszak',\r\n",
                "    count(*) as 'óraszám'\r\n",
                "from oktatok okt\r\n",
                "    join orak o on okt.oktato_id = o.tanar\r\n",
                "    join napok n on o.nap = n.nap_id\r\n",
                "group by okt.oktato_id, okt.nev,\r\n",
                "    case \r\n",
                "    when n.nap = 'Hétfő' then 'hét eleje'\r\n",
                "    when n.nap = 'Péntek' then 'hét vége'\r\n",
                "    else 'hét közepe'\r\n",
                "    end\r\n",
                "order by okt.oktato_id, okt.nev, 'időszak'"
            ],
            "metadata": {
                "azdata_cell_guid": "ce846351-ddbe-4d8e-b8fb-2a92c73ac80b",
                "language": "sql"
            },
            "outputs": [
                {
                    "output_type": "display_data",
                    "data": {
                        "text/html": "(33 rows affected)"
                    },
                    "metadata": {}
                },
                {
                    "output_type": "display_data",
                    "data": {
                        "text/html": "Total execution time: 00:00:00.043"
                    },
                    "metadata": {}
                },
                {
                    "output_type": "execute_result",
                    "metadata": {},
                    "execution_count": 34,
                    "data": {
                        "application/vnd.dataresource+json": {
                            "schema": {
                                "fields": [
                                    {
                                        "name": "tanár azon"
                                    },
                                    {
                                        "name": "tanár neve"
                                    },
                                    {
                                        "name": "időszak"
                                    },
                                    {
                                        "name": "óraszám"
                                    }
                                ]
                            },
                            "data": [
                                {
                                    "tanár azon": "1",
                                    "tanár neve": "Kovács László",
                                    "időszak": "hét közepe",
                                    "óraszám": "3"
                                },
                                {
                                    "tanár azon": "1",
                                    "tanár neve": "Kovács László",
                                    "időszak": "hét vége",
                                    "óraszám": "1"
                                },
                                {
                                    "tanár azon": "2",
                                    "tanár neve": "Szentágotai Istvás",
                                    "időszak": "hét eleje",
                                    "óraszám": "1"
                                },
                                {
                                    "tanár azon": "2",
                                    "tanár neve": "Szentágotai Istvás",
                                    "időszak": "hét közepe",
                                    "óraszám": "5"
                                },
                                {
                                    "tanár azon": "2",
                                    "tanár neve": "Szentágotai Istvás",
                                    "időszak": "hét vége",
                                    "óraszám": "2"
                                },
                                {
                                    "tanár azon": "3",
                                    "tanár neve": "Szerb László",
                                    "időszak": "hét közepe",
                                    "óraszám": "3"
                                },
                                {
                                    "tanár azon": "4",
                                    "tanár neve": "Ujfalussi István",
                                    "időszak": "hét eleje",
                                    "óraszám": "1"
                                },
                                {
                                    "tanár azon": "4",
                                    "tanár neve": "Ujfalussi István",
                                    "időszak": "hét közepe",
                                    "óraszám": "2"
                                },
                                {
                                    "tanár azon": "5",
                                    "tanár neve": "Balkán András",
                                    "időszak": "hét eleje",
                                    "óraszám": "2"
                                },
                                {
                                    "tanár azon": "5",
                                    "tanár neve": "Balkán András",
                                    "időszak": "hét közepe",
                                    "óraszám": "1"
                                },
                                {
                                    "tanár azon": "6",
                                    "tanár neve": "Szép llonka",
                                    "időszak": "hét eleje",
                                    "óraszám": "4"
                                },
                                {
                                    "tanár azon": "7",
                                    "tanár neve": "Kiss János",
                                    "időszak": "hét eleje",
                                    "óraszám": "2"
                                },
                                {
                                    "tanár azon": "7",
                                    "tanár neve": "Kiss János",
                                    "időszak": "hét közepe",
                                    "óraszám": "2"
                                },
                                {
                                    "tanár azon": "8",
                                    "tanár neve": "Pelikán József",
                                    "időszak": "hét eleje",
                                    "óraszám": "3"
                                },
                                {
                                    "tanár azon": "8",
                                    "tanár neve": "Pelikán József",
                                    "időszak": "hét közepe",
                                    "óraszám": "3"
                                },
                                {
                                    "tanár azon": "9",
                                    "tanár neve": "Farkasos Piroska",
                                    "időszak": "hét eleje",
                                    "óraszám": "2"
                                },
                                {
                                    "tanár azon": "9",
                                    "tanár neve": "Farkasos Piroska",
                                    "időszak": "hét közepe",
                                    "óraszám": "4"
                                },
                                {
                                    "tanár azon": "9",
                                    "tanár neve": "Farkasos Piroska",
                                    "időszak": "hét vége",
                                    "óraszám": "1"
                                },
                                {
                                    "tanár azon": "10",
                                    "tanár neve": "Jogrerős Pál",
                                    "időszak": "hét eleje",
                                    "óraszám": "2"
                                },
                                {
                                    "tanár azon": "12",
                                    "tanár neve": "Varga Kata",
                                    "időszak": "hét eleje",
                                    "óraszám": "2"
                                },
                                {
                                    "tanár azon": "12",
                                    "tanár neve": "Varga Kata",
                                    "időszak": "hét közepe",
                                    "óraszám": "2"
                                },
                                {
                                    "tanár azon": "14",
                                    "tanár neve": "Szénási ászló",
                                    "időszak": "hét közepe",
                                    "óraszám": "2"
                                },
                                {
                                    "tanár azon": "18",
                                    "tanár neve": "Nógrádi Kata",
                                    "időszak": "hét közepe",
                                    "óraszám": "1"
                                },
                                {
                                    "tanár azon": "20",
                                    "tanár neve": "Kovács András",
                                    "időszak": "hét eleje",
                                    "óraszám": "2"
                                },
                                {
                                    "tanár azon": "20",
                                    "tanár neve": "Kovács András",
                                    "időszak": "hét közepe",
                                    "óraszám": "2"
                                },
                                {
                                    "tanár azon": "104",
                                    "tanár neve": "Ludas Mátyás",
                                    "időszak": "hét eleje",
                                    "óraszám": "1"
                                },
                                {
                                    "tanár azon": "104",
                                    "tanár neve": "Ludas Mátyás",
                                    "időszak": "hét közepe",
                                    "óraszám": "1"
                                },
                                {
                                    "tanár azon": "108",
                                    "tanár neve": "Róbert Gida",
                                    "időszak": "hét közepe",
                                    "óraszám": "1"
                                },
                                {
                                    "tanár azon": "111",
                                    "tanár neve": "Vitéz János",
                                    "időszak": "hét közepe",
                                    "óraszám": "2"
                                },
                                {
                                    "tanár azon": "111",
                                    "tanár neve": "Vitéz János",
                                    "időszak": "hét vége",
                                    "óraszám": "2"
                                },
                                {
                                    "tanár azon": "200",
                                    "tanár neve": "Aranyi Mária",
                                    "időszak": "hét eleje",
                                    "óraszám": "1"
                                },
                                {
                                    "tanár azon": "300",
                                    "tanár neve": "Szabó Andrera",
                                    "időszak": "hét közepe",
                                    "óraszám": "2"
                                },
                                {
                                    "tanár azon": "301",
                                    "tanár neve": "Juhász András",
                                    "időszak": "hét közepe",
                                    "óraszám": "2"
                                }
                            ]
                        },
                        "text/html": [
                            "<table>",
                            "<tr><th>tanár azon</th><th>tanár neve</th><th>időszak</th><th>óraszám</th></tr>",
                            "<tr><td>1</td><td>Kovács László</td><td>hét közepe</td><td>3</td></tr>",
                            "<tr><td>1</td><td>Kovács László</td><td>hét vége</td><td>1</td></tr>",
                            "<tr><td>2</td><td>Szentágotai Istvás</td><td>hét eleje</td><td>1</td></tr>",
                            "<tr><td>2</td><td>Szentágotai Istvás</td><td>hét közepe</td><td>5</td></tr>",
                            "<tr><td>2</td><td>Szentágotai Istvás</td><td>hét vége</td><td>2</td></tr>",
                            "<tr><td>3</td><td>Szerb László</td><td>hét közepe</td><td>3</td></tr>",
                            "<tr><td>4</td><td>Ujfalussi István</td><td>hét eleje</td><td>1</td></tr>",
                            "<tr><td>4</td><td>Ujfalussi István</td><td>hét közepe</td><td>2</td></tr>",
                            "<tr><td>5</td><td>Balkán András</td><td>hét eleje</td><td>2</td></tr>",
                            "<tr><td>5</td><td>Balkán András</td><td>hét közepe</td><td>1</td></tr>",
                            "<tr><td>6</td><td>Szép llonka</td><td>hét eleje</td><td>4</td></tr>",
                            "<tr><td>7</td><td>Kiss János</td><td>hét eleje</td><td>2</td></tr>",
                            "<tr><td>7</td><td>Kiss János</td><td>hét közepe</td><td>2</td></tr>",
                            "<tr><td>8</td><td>Pelikán József</td><td>hét eleje</td><td>3</td></tr>",
                            "<tr><td>8</td><td>Pelikán József</td><td>hét közepe</td><td>3</td></tr>",
                            "<tr><td>9</td><td>Farkasos Piroska</td><td>hét eleje</td><td>2</td></tr>",
                            "<tr><td>9</td><td>Farkasos Piroska</td><td>hét közepe</td><td>4</td></tr>",
                            "<tr><td>9</td><td>Farkasos Piroska</td><td>hét vége</td><td>1</td></tr>",
                            "<tr><td>10</td><td>Jogrerős Pál</td><td>hét eleje</td><td>2</td></tr>",
                            "<tr><td>12</td><td>Varga Kata</td><td>hét eleje</td><td>2</td></tr>",
                            "<tr><td>12</td><td>Varga Kata</td><td>hét közepe</td><td>2</td></tr>",
                            "<tr><td>14</td><td>Szénási ászló</td><td>hét közepe</td><td>2</td></tr>",
                            "<tr><td>18</td><td>Nógrádi Kata</td><td>hét közepe</td><td>1</td></tr>",
                            "<tr><td>20</td><td>Kovács András</td><td>hét eleje</td><td>2</td></tr>",
                            "<tr><td>20</td><td>Kovács András</td><td>hét közepe</td><td>2</td></tr>",
                            "<tr><td>104</td><td>Ludas Mátyás</td><td>hét eleje</td><td>1</td></tr>",
                            "<tr><td>104</td><td>Ludas Mátyás</td><td>hét közepe</td><td>1</td></tr>",
                            "<tr><td>108</td><td>Róbert Gida</td><td>hét közepe</td><td>1</td></tr>",
                            "<tr><td>111</td><td>Vitéz János</td><td>hét közepe</td><td>2</td></tr>",
                            "<tr><td>111</td><td>Vitéz János</td><td>hét vége</td><td>2</td></tr>",
                            "<tr><td>200</td><td>Aranyi Mária</td><td>hét eleje</td><td>1</td></tr>",
                            "<tr><td>300</td><td>Szabó Andrera</td><td>hét közepe</td><td>2</td></tr>",
                            "<tr><td>301</td><td>Juhász András</td><td>hét közepe</td><td>2</td></tr>",
                            "</table>"
                        ]
                    }
                }
            ],
            "execution_count": 34
        },
        {
            "cell_type": "markdown",
            "source": [
                "10. <span style=\"background-color: rgb(255, 255, 255); color: rgb(36, 41, 47); font-family: -apple-system, BlinkMacSystemFont, &quot;Segoe UI&quot;, Helvetica, Arial, sans-serif, &quot;Apple Color Emoji&quot;, &quot;Segoe UI Emoji&quot;; font-size: 16px; font-weight: 600;\">Melyik napokon nincs órája Pelikán Józsefnek?</span>"
            ],
            "metadata": {
                "azdata_cell_guid": "217c5772-afe2-4a7c-b913-e3a3e09d6411"
            },
            "attachments": {}
        },
        {
            "cell_type": "code",
            "source": [
                "select nap \r\n",
                "from napok\r\n",
                "\r\n",
                "except\r\n",
                "\r\n",
                "select n.nap\r\n",
                "from oktatok okt\r\n",
                "join orak o on okt.oktato_id = o.tanar\r\n",
                "join napok n on o.nap = n.nap_id\r\n",
                "where okt.nev = 'Pelikán József'"
            ],
            "metadata": {
                "azdata_cell_guid": "a9cc0926-3dbd-4ed8-8179-1c39d64a0762",
                "language": "sql"
            },
            "outputs": [
                {
                    "output_type": "display_data",
                    "data": {
                        "text/html": "(3 rows affected)"
                    },
                    "metadata": {}
                },
                {
                    "output_type": "display_data",
                    "data": {
                        "text/html": "Total execution time: 00:00:00.037"
                    },
                    "metadata": {}
                },
                {
                    "output_type": "execute_result",
                    "metadata": {},
                    "execution_count": 35,
                    "data": {
                        "application/vnd.dataresource+json": {
                            "schema": {
                                "fields": [
                                    {
                                        "name": "nap"
                                    }
                                ]
                            },
                            "data": [
                                {
                                    "nap": "Csütörtök"
                                },
                                {
                                    "nap": "Péntek"
                                },
                                {
                                    "nap": "Szerda"
                                }
                            ]
                        },
                        "text/html": [
                            "<table>",
                            "<tr><th>nap</th></tr>",
                            "<tr><td>Csütörtök</td></tr>",
                            "<tr><td>Péntek</td></tr>",
                            "<tr><td>Szerda</td></tr>",
                            "</table>"
                        ]
                    }
                }
            ],
            "execution_count": 35
        },
        {
            "cell_type": "markdown",
            "source": [
                "**A 11-15 feladatok gyakorlásra szolgálnak a közelgő zh-ra :-)**\n",
                "\n",
                "11. _Készítsünk listát az oktatók adatairól!_\n",
                "\n",
                "1. Az oktatók titulusa és neve összefűzve jelenjen meg, közöttük szóközzel!\n",
                "2. Ha valakinek nincs titulusa, akkor csak a neve jelenjen meg, szóköz nélkül!\n",
                "3. A listát rendezzük a beosztás kódja, azon belül a státusz kódja szerint növekvő sorrendbe!\n",
                "4. Az oszlopokat nevezzük el értelemszerűen!"
            ],
            "metadata": {
                "azdata_cell_guid": "d2340f5f-1614-473c-b937-85740d67f7c1"
            },
            "attachments": {}
        },
        {
            "cell_type": "code",
            "source": [
                "select oktato_id 'oktató azonosítója',\r\n",
                "        case when titulus is not null then titulus + ' ' + nev\r\n",
                "        else nev\r\n",
                "        end as 'oktatók titulusa és neve',\r\n",
                "        beosztás as 'beosztása',\r\n",
                "        [status] as 'státusza'\r\n",
                "from Oktatok\r\n",
                "order by beosztás, [status] asc"
            ],
            "metadata": {
                "azdata_cell_guid": "e99c2c53-898f-4787-b0e6-182d106dc16f",
                "language": "sql"
            },
            "outputs": [
                {
                    "output_type": "display_data",
                    "data": {
                        "text/html": "(25 rows affected)"
                    },
                    "metadata": {}
                },
                {
                    "output_type": "display_data",
                    "data": {
                        "text/html": "Total execution time: 00:00:00.021"
                    },
                    "metadata": {}
                },
                {
                    "output_type": "execute_result",
                    "metadata": {},
                    "execution_count": 44,
                    "data": {
                        "application/vnd.dataresource+json": {
                            "schema": {
                                "fields": [
                                    {
                                        "name": "oktató azonosítója"
                                    },
                                    {
                                        "name": "oktatók titulusa és neve"
                                    },
                                    {
                                        "name": "beosztása"
                                    },
                                    {
                                        "name": "státusza"
                                    }
                                ]
                            },
                            "data": [
                                {
                                    "oktató azonosítója": "18",
                                    "oktatók titulusa és neve": "Nógrádi Kata",
                                    "beosztása": "1",
                                    "státusza": "1"
                                },
                                {
                                    "oktató azonosítója": "19",
                                    "oktatók titulusa és neve": "Rácz András",
                                    "beosztása": "1",
                                    "státusza": "1"
                                },
                                {
                                    "oktató azonosítója": "20",
                                    "oktatók titulusa és neve": "Kovács András",
                                    "beosztása": "1",
                                    "státusza": "1"
                                },
                                {
                                    "oktató azonosítója": "104",
                                    "oktatók titulusa és neve": "Ludas Mátyás",
                                    "beosztása": "1",
                                    "státusza": "1"
                                },
                                {
                                    "oktató azonosítója": "200",
                                    "oktatók titulusa és neve": "Aranyi Mária",
                                    "beosztása": "1",
                                    "státusza": "1"
                                },
                                {
                                    "oktató azonosítója": "300",
                                    "oktatók titulusa és neve": "Szabó Andrera",
                                    "beosztása": "1",
                                    "státusza": "1"
                                },
                                {
                                    "oktató azonosítója": "105",
                                    "oktatók titulusa és neve": "Kiss István",
                                    "beosztása": "1",
                                    "státusza": "2"
                                },
                                {
                                    "oktató azonosítója": "107",
                                    "oktatók titulusa és neve": "Mészáros Kriszta",
                                    "beosztása": "1",
                                    "státusza": "2"
                                },
                                {
                                    "oktató azonosítója": "108",
                                    "oktatók titulusa és neve": "Róbert Gida",
                                    "beosztása": "2",
                                    "státusza": "1"
                                },
                                {
                                    "oktató azonosítója": "111",
                                    "oktatók titulusa és neve": "Vitéz János",
                                    "beosztása": "2",
                                    "státusza": "1"
                                },
                                {
                                    "oktató azonosítója": "7",
                                    "oktatók titulusa és neve": "Kiss János",
                                    "beosztása": "2",
                                    "státusza": "1"
                                },
                                {
                                    "oktató azonosítója": "8",
                                    "oktatók titulusa és neve": "Pelikán József",
                                    "beosztása": "2",
                                    "státusza": "3"
                                },
                                {
                                    "oktató azonosítója": "9",
                                    "oktatók titulusa és neve": "Farkasos Piroska",
                                    "beosztása": "2",
                                    "státusza": "3"
                                },
                                {
                                    "oktató azonosítója": "6",
                                    "oktatók titulusa és neve": "Dr. Szép llonka",
                                    "beosztása": "3",
                                    "státusza": "1"
                                },
                                {
                                    "oktató azonosítója": "14",
                                    "oktatók titulusa és neve": "Szénási ászló",
                                    "beosztása": "3",
                                    "státusza": "1"
                                },
                                {
                                    "oktató azonosítója": "2",
                                    "oktatók titulusa és neve": "Dr. Szentágotai Istvás",
                                    "beosztása": "3",
                                    "státusza": "2"
                                },
                                {
                                    "oktató azonosítója": "3",
                                    "oktatók titulusa és neve": "Szerb László",
                                    "beosztása": "4",
                                    "státusza": "1"
                                },
                                {
                                    "oktató azonosítója": "11",
                                    "oktatók titulusa és neve": "Dr. Józsa Gábor",
                                    "beosztása": "4",
                                    "státusza": "1"
                                },
                                {
                                    "oktató azonosítója": "12",
                                    "oktatók titulusa és neve": "Dr. Varga Kata",
                                    "beosztása": "4",
                                    "státusza": "1"
                                },
                                {
                                    "oktató azonosítója": "5",
                                    "oktatók titulusa és neve": "Dr. Balkán András",
                                    "beosztása": "4",
                                    "státusza": "2"
                                },
                                {
                                    "oktató azonosítója": "302",
                                    "oktatók titulusa és neve": "Dr. Kovacs Istvan",
                                    "beosztása": "5",
                                    "státusza": "1"
                                },
                                {
                                    "oktató azonosítója": "301",
                                    "oktatók titulusa és neve": "Dr. Juhász András",
                                    "beosztása": "6",
                                    "státusza": "1"
                                },
                                {
                                    "oktató azonosítója": "10",
                                    "oktatók titulusa és neve": "Prof. Jogrerős Pál",
                                    "beosztása": "6",
                                    "státusza": "1"
                                },
                                {
                                    "oktató azonosítója": "1",
                                    "oktatók titulusa és neve": "Dr. Kovács László",
                                    "beosztása": "6",
                                    "státusza": "2"
                                },
                                {
                                    "oktató azonosítója": "4",
                                    "oktatók titulusa és neve": "Prof, tanszékvezető Ujfalussi István",
                                    "beosztása": "6",
                                    "státusza": "2"
                                }
                            ]
                        },
                        "text/html": [
                            "<table>",
                            "<tr><th>oktató azonosítója</th><th>oktatók titulusa és neve</th><th>beosztása</th><th>státusza</th></tr>",
                            "<tr><td>18</td><td>Nógrádi Kata</td><td>1</td><td>1</td></tr>",
                            "<tr><td>19</td><td>Rácz András</td><td>1</td><td>1</td></tr>",
                            "<tr><td>20</td><td>Kovács András</td><td>1</td><td>1</td></tr>",
                            "<tr><td>104</td><td>Ludas Mátyás</td><td>1</td><td>1</td></tr>",
                            "<tr><td>200</td><td>Aranyi Mária</td><td>1</td><td>1</td></tr>",
                            "<tr><td>300</td><td>Szabó Andrera</td><td>1</td><td>1</td></tr>",
                            "<tr><td>105</td><td>Kiss István</td><td>1</td><td>2</td></tr>",
                            "<tr><td>107</td><td>Mészáros Kriszta</td><td>1</td><td>2</td></tr>",
                            "<tr><td>108</td><td>Róbert Gida</td><td>2</td><td>1</td></tr>",
                            "<tr><td>111</td><td>Vitéz János</td><td>2</td><td>1</td></tr>",
                            "<tr><td>7</td><td>Kiss János</td><td>2</td><td>1</td></tr>",
                            "<tr><td>8</td><td>Pelikán József</td><td>2</td><td>3</td></tr>",
                            "<tr><td>9</td><td>Farkasos Piroska</td><td>2</td><td>3</td></tr>",
                            "<tr><td>6</td><td>Dr. Szép llonka</td><td>3</td><td>1</td></tr>",
                            "<tr><td>14</td><td>Szénási ászló</td><td>3</td><td>1</td></tr>",
                            "<tr><td>2</td><td>Dr. Szentágotai Istvás</td><td>3</td><td>2</td></tr>",
                            "<tr><td>3</td><td>Szerb László</td><td>4</td><td>1</td></tr>",
                            "<tr><td>11</td><td>Dr. Józsa Gábor</td><td>4</td><td>1</td></tr>",
                            "<tr><td>12</td><td>Dr. Varga Kata</td><td>4</td><td>1</td></tr>",
                            "<tr><td>5</td><td>Dr. Balkán András</td><td>4</td><td>2</td></tr>",
                            "<tr><td>302</td><td>Dr. Kovacs Istvan</td><td>5</td><td>1</td></tr>",
                            "<tr><td>301</td><td>Dr. Juhász András</td><td>6</td><td>1</td></tr>",
                            "<tr><td>10</td><td>Prof. Jogrerős Pál</td><td>6</td><td>1</td></tr>",
                            "<tr><td>1</td><td>Dr. Kovács László</td><td>6</td><td>2</td></tr>",
                            "<tr><td>4</td><td>Prof, tanszékvezető Ujfalussi István</td><td>6</td><td>2</td></tr>",
                            "</table>"
                        ]
                    }
                }
            ],
            "execution_count": 44
        },
        {
            "cell_type": "markdown",
            "source": [
                "<span style=\"color: #09885a;\">12</span>. Készítsünk listát, amely megmutatja, hogy összesen hány tantárgy van kreditenkénti csoportosításban!\n",
                "\n",
                "  \n",
                "\n",
                "A listából hagyjuk ki azokat a tételeket, ahol ez a darabszám <span style=\"color: #09885a;\">1</span>!\n",
                "\n",
                "A Folyami gáttan tantárgyat ne vegyük figyelembe!\n",
                "\n",
                "A listát rendezzük darabszám szerint csökkenő sorrendbe!\n",
                "\n",
                "Az oszlopokat nevezzük el értelemszerűen!"
            ],
            "metadata": {
                "azdata_cell_guid": "a765e9d6-58b3-4171-872a-78f3118fd6e3"
            },
            "attachments": {}
        },
        {
            "cell_type": "code",
            "source": [
                "select kredit as 'kreditek',\r\n",
                "    count(*) as 'tantágyak'\r\n",
                "from tantárgyak\r\n",
                "where tantárgynév <> 'Folyami gáttan'\r\n",
                "group by kredit\r\n",
                "having count(*) <> 1\r\n",
                "order by count(*) desc\r\n",
                ""
            ],
            "metadata": {
                "azdata_cell_guid": "422e8127-b652-4d3a-bfd7-9b1637b5781e",
                "language": "sql"
            },
            "outputs": [
                {
                    "output_type": "display_data",
                    "data": {
                        "text/html": "(4 rows affected)"
                    },
                    "metadata": {}
                },
                {
                    "output_type": "display_data",
                    "data": {
                        "text/html": "Total execution time: 00:00:00.023"
                    },
                    "metadata": {}
                },
                {
                    "output_type": "execute_result",
                    "metadata": {},
                    "execution_count": 47,
                    "data": {
                        "application/vnd.dataresource+json": {
                            "schema": {
                                "fields": [
                                    {
                                        "name": "kreditek"
                                    },
                                    {
                                        "name": "tantágyak"
                                    }
                                ]
                            },
                            "data": [
                                {
                                    "kreditek": "2",
                                    "tantágyak": "3"
                                },
                                {
                                    "kreditek": "3",
                                    "tantágyak": "3"
                                },
                                {
                                    "kreditek": "4",
                                    "tantágyak": "2"
                                },
                                {
                                    "kreditek": "1",
                                    "tantágyak": "2"
                                }
                            ]
                        },
                        "text/html": [
                            "<table>",
                            "<tr><th>kreditek</th><th>tantágyak</th></tr>",
                            "<tr><td>2</td><td>3</td></tr>",
                            "<tr><td>3</td><td>3</td></tr>",
                            "<tr><td>4</td><td>2</td></tr>",
                            "<tr><td>1</td><td>2</td></tr>",
                            "</table>"
                        ]
                    }
                }
            ],
            "execution_count": 47
        },
        {
            "cell_type": "markdown",
            "source": [
                "13. _Készítsünk listát az oktatók nevéről, a beosztásuk alapján elvárt és a tényleges óraszámukról!_\n",
                "\n",
                "1. Az oszlopok neve legyen 'Oktató neve', 'Elvárt óraszám' és 'Tényleges óraszám'\n",
                "2. Szűrjük a listát azokra az oktatókra, ahol az elvárt és a tényleges óraszám azonos"
            ],
            "metadata": {
                "azdata_cell_guid": "3f9237ae-f109-401c-acb9-31d75e73331b"
            },
            "attachments": {}
        },
        {
            "cell_type": "code",
            "source": [
                "select okt.nev as 'Oktató neve',\r\n",
                "       b.elvart as 'Elvárt óraszám',\r\n",
                "       count(*) as 'Tényleges óraszám'\r\n",
                "from oktatok okt\r\n",
                "join beosztasok b on okt.beosztás = b.beosztas_id\r\n",
                "join orak o on okt.oktato_id = o.tanar\r\n",
                "group by okt.nev, b.elvart\r\n",
                "having elvart = count(*) "
            ],
            "metadata": {
                "azdata_cell_guid": "4b31bb89-cfbc-46b1-8639-85c462877786",
                "language": "sql"
            },
            "outputs": [
                {
                    "output_type": "display_data",
                    "data": {
                        "text/html": "(4 rows affected)"
                    },
                    "metadata": {}
                },
                {
                    "output_type": "display_data",
                    "data": {
                        "text/html": "Total execution time: 00:00:00.033"
                    },
                    "metadata": {}
                },
                {
                    "output_type": "execute_result",
                    "metadata": {},
                    "execution_count": 49,
                    "data": {
                        "application/vnd.dataresource+json": {
                            "schema": {
                                "fields": [
                                    {
                                        "name": "Oktató neve"
                                    },
                                    {
                                        "name": "Elvárt óraszám"
                                    },
                                    {
                                        "name": "Tényleges óraszám"
                                    }
                                ]
                            },
                            "data": [
                                {
                                    "Oktató neve": "Jogrerős Pál",
                                    "Elvárt óraszám": "2",
                                    "Tényleges óraszám": "2"
                                },
                                {
                                    "Oktató neve": "Juhász András",
                                    "Elvárt óraszám": "2",
                                    "Tényleges óraszám": "2"
                                },
                                {
                                    "Oktató neve": "Varga Kata",
                                    "Elvárt óraszám": "4",
                                    "Tényleges óraszám": "4"
                                },
                                {
                                    "Oktató neve": "Pelikán József",
                                    "Elvárt óraszám": "6",
                                    "Tényleges óraszám": "6"
                                }
                            ]
                        },
                        "text/html": [
                            "<table>",
                            "<tr><th>Oktató neve</th><th>Elvárt óraszám</th><th>Tényleges óraszám</th></tr>",
                            "<tr><td>Jogrerős Pál</td><td>2</td><td>2</td></tr>",
                            "<tr><td>Juhász András</td><td>2</td><td>2</td></tr>",
                            "<tr><td>Varga Kata</td><td>4</td><td>4</td></tr>",
                            "<tr><td>Pelikán József</td><td>6</td><td>6</td></tr>",
                            "</table>"
                        ]
                    }
                }
            ],
            "execution_count": 49
        },
        {
            "cell_type": "markdown",
            "source": [
                "14. _Készítsünk listát, amely megmutatja, hogy mely tantárgyból nincs óra egyáltalán!_\n",
                "\n",
                "1. Csak a tantárgy neve jelenjen meg!"
            ],
            "metadata": {
                "azdata_cell_guid": "f634e09a-85ef-4e70-8ec6-ef355dfddaa7"
            },
            "attachments": {}
        },
        {
            "cell_type": "code",
            "source": [
                "select tt.tantárgynév as 'tantárgy neve'\r\n",
                "from tantárgyak tt \r\n",
                "left join orak o on tt.tkód = o.targy\r\n",
                "where o.targy is null"
            ],
            "metadata": {
                "azdata_cell_guid": "88abc55b-2c78-495b-a72f-3f8f4eb5fe70",
                "language": "sql"
            },
            "outputs": [
                {
                    "output_type": "display_data",
                    "data": {
                        "text/html": "(1 row affected)"
                    },
                    "metadata": {}
                },
                {
                    "output_type": "display_data",
                    "data": {
                        "text/html": "Total execution time: 00:00:00.021"
                    },
                    "metadata": {}
                },
                {
                    "output_type": "execute_result",
                    "metadata": {},
                    "execution_count": 50,
                    "data": {
                        "application/vnd.dataresource+json": {
                            "schema": {
                                "fields": [
                                    {
                                        "name": "tantárgy neve"
                                    }
                                ]
                            },
                            "data": [
                                {
                                    "tantárgy neve": "Folyami gáttan"
                                }
                            ]
                        },
                        "text/html": [
                            "<table>",
                            "<tr><th>tantárgy neve</th></tr>",
                            "<tr><td>Folyami gáttan</td></tr>",
                            "</table>"
                        ]
                    }
                }
            ],
            "execution_count": 50
        },
        {
            "cell_type": "markdown",
            "source": [
                "15. _Hány órájuk van az óraadóknak napi bontásban?_\n",
                "\n",
                "1. Csak a napok nevét és az óraszámot jelenítsük meg!\n",
                "2. Rendezzük a listát óraszám szerint növekvő sorrendbe!"
            ],
            "metadata": {
                "azdata_cell_guid": "4cbf2f0d-a65d-480a-8186-ccdb24498443"
            },
            "attachments": {}
        },
        {
            "cell_type": "code",
            "source": [
                "select n.nap as 'napok',\r\n",
                "        count(*) as 'óraszám'\r\n",
                "from orak o \r\n",
                "join oktatok okt on o.tanar = okt.oktato_id\r\n",
                "join napok n on o.nap = n.nap_id\r\n",
                "join statusok st on okt.status = st.skod\r\n",
                "where st.status = 'Óraadó'\r\n",
                "group by n.nap\r\n",
                "order by count(*)"
            ],
            "metadata": {
                "azdata_cell_guid": "c148aee8-bc85-40bf-b80a-a4898a6c05cb",
                "language": "sql"
            },
            "outputs": [
                {
                    "output_type": "display_data",
                    "data": {
                        "text/html": "(5 rows affected)"
                    },
                    "metadata": {}
                },
                {
                    "output_type": "display_data",
                    "data": {
                        "text/html": "Total execution time: 00:00:00.031"
                    },
                    "metadata": {}
                },
                {
                    "output_type": "execute_result",
                    "metadata": {},
                    "execution_count": 55,
                    "data": {
                        "application/vnd.dataresource+json": {
                            "schema": {
                                "fields": [
                                    {
                                        "name": "napok"
                                    },
                                    {
                                        "name": "óraszám"
                                    }
                                ]
                            },
                            "data": [
                                {
                                    "napok": "Péntek",
                                    "óraszám": "1"
                                },
                                {
                                    "napok": "Szerda",
                                    "óraszám": "1"
                                },
                                {
                                    "napok": "Csütörtök",
                                    "óraszám": "3"
                                },
                                {
                                    "napok": "Kedd",
                                    "óraszám": "3"
                                },
                                {
                                    "napok": "Hétfő",
                                    "óraszám": "5"
                                }
                            ]
                        },
                        "text/html": [
                            "<table>",
                            "<tr><th>napok</th><th>óraszám</th></tr>",
                            "<tr><td>Péntek</td><td>1</td></tr>",
                            "<tr><td>Szerda</td><td>1</td></tr>",
                            "<tr><td>Csütörtök</td><td>3</td></tr>",
                            "<tr><td>Kedd</td><td>3</td></tr>",
                            "<tr><td>Hétfő</td><td>5</td></tr>",
                            "</table>"
                        ]
                    }
                }
            ],
            "execution_count": 55
        }
    ]
}