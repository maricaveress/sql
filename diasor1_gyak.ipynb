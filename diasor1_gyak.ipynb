{
    "metadata": {
        "kernelspec": {
            "name": "SQL",
            "display_name": "SQL",
            "language": "sql"
        },
        "language_info": {
            "name": "sql",
            "version": ""
        }
    },
    "nbformat_minor": 2,
    "nbformat": 4,
    "cells": [
        {
            "cell_type": "markdown",
            "source": [
                "<span style=\"mso-spacerun:'yes';font-size:18pt;font-family:Arial;color:rgb(27,32,61);\">Listázzuk a júniusi (6. havi) munkák minden adatát!</span>"
            ],
            "metadata": {
                "azdata_cell_guid": "7f4f477b-599a-49a6-bed7-f4515799e9d1"
            },
            "attachments": {}
        },
        {
            "cell_type": "code",
            "source": [
                "SELECT *\r\n",
                "FROM munka\r\n",
                "WHERE MONTH(datum)=6"
            ],
            "metadata": {
                "azdata_cell_guid": "b61d4f2f-f30d-4eda-b4ca-46d2e5078a51",
                "language": "sql"
            },
            "outputs": [
                {
                    "output_type": "display_data",
                    "data": {
                        "text/html": "(12 rows affected)"
                    },
                    "metadata": {}
                },
                {
                    "output_type": "display_data",
                    "data": {
                        "text/html": "Total execution time: 00:00:00.115"
                    },
                    "metadata": {}
                },
                {
                    "output_type": "execute_result",
                    "metadata": {},
                    "execution_count": 2,
                    "data": {
                        "application/vnd.dataresource+json": {
                            "schema": {
                                "fields": [
                                    {
                                        "name": "munkaId"
                                    },
                                    {
                                        "name": "MhelyId"
                                    },
                                    {
                                        "name": "DiakAz"
                                    },
                                    {
                                        "name": "allas"
                                    },
                                    {
                                        "name": "datum"
                                    },
                                    {
                                        "name": "oradij"
                                    },
                                    {
                                        "name": "oraszam"
                                    },
                                    {
                                        "name": "kozepiskolas"
                                    }
                                ]
                            },
                            "data": [
                                {
                                    "munkaId": "8",
                                    "MhelyId": "9",
                                    "DiakAz": "NULL",
                                    "allas": "kisegítő",
                                    "datum": "2003-06-19 00:00:00.000",
                                    "oradij": "300",
                                    "oraszam": "4",
                                    "kozepiskolas": "0"
                                },
                                {
                                    "munkaId": "9",
                                    "MhelyId": "9",
                                    "DiakAz": "6",
                                    "allas": "takarító",
                                    "datum": "2003-06-19 00:00:00.000",
                                    "oradij": "400",
                                    "oraszam": "4",
                                    "kozepiskolas": "0"
                                },
                                {
                                    "munkaId": "10",
                                    "MhelyId": "9",
                                    "DiakAz": "6",
                                    "allas": "takarító",
                                    "datum": "2003-06-20 00:00:00.000",
                                    "oradij": "400",
                                    "oraszam": "4",
                                    "kozepiskolas": "0"
                                },
                                {
                                    "munkaId": "11",
                                    "MhelyId": "9",
                                    "DiakAz": "8",
                                    "allas": "kisegítő",
                                    "datum": "2003-06-21 00:00:00.000",
                                    "oradij": "300",
                                    "oraszam": "6",
                                    "kozepiskolas": "1"
                                },
                                {
                                    "munkaId": "12",
                                    "MhelyId": "9",
                                    "DiakAz": "8",
                                    "allas": "kisegítő",
                                    "datum": "2003-06-22 00:00:00.000",
                                    "oradij": "300",
                                    "oraszam": "6",
                                    "kozepiskolas": "1"
                                },
                                {
                                    "munkaId": "13",
                                    "MhelyId": "9",
                                    "DiakAz": "6",
                                    "allas": "takarító",
                                    "datum": "2003-06-23 00:00:00.000",
                                    "oradij": "400",
                                    "oraszam": "4",
                                    "kozepiskolas": "0"
                                },
                                {
                                    "munkaId": "16",
                                    "MhelyId": "6",
                                    "DiakAz": "5",
                                    "allas": "pincér",
                                    "datum": "2003-06-11 00:00:00.000",
                                    "oradij": "450",
                                    "oraszam": "6",
                                    "kozepiskolas": "0"
                                },
                                {
                                    "munkaId": "17",
                                    "MhelyId": "6",
                                    "DiakAz": "5",
                                    "allas": "pincér",
                                    "datum": "2003-06-12 00:00:00.000",
                                    "oradij": "450",
                                    "oraszam": "6",
                                    "kozepiskolas": "0"
                                },
                                {
                                    "munkaId": "24",
                                    "MhelyId": "11",
                                    "DiakAz": "5",
                                    "allas": "eladó",
                                    "datum": "2003-06-23 00:00:00.000",
                                    "oradij": "300",
                                    "oraszam": "6",
                                    "kozepiskolas": "0"
                                },
                                {
                                    "munkaId": "38",
                                    "MhelyId": "5",
                                    "DiakAz": "7",
                                    "allas": "eladó",
                                    "datum": "2003-06-05 00:00:00.000",
                                    "oradij": "400",
                                    "oraszam": "4",
                                    "kozepiskolas": "0"
                                },
                                {
                                    "munkaId": "39",
                                    "MhelyId": "5",
                                    "DiakAz": "7",
                                    "allas": "eladó",
                                    "datum": "2003-06-06 00:00:00.000",
                                    "oradij": "400",
                                    "oraszam": "4",
                                    "kozepiskolas": "0"
                                },
                                {
                                    "munkaId": "40",
                                    "MhelyId": "5",
                                    "DiakAz": "7",
                                    "allas": "eladó",
                                    "datum": "2003-06-07 00:00:00.000",
                                    "oradij": "400",
                                    "oraszam": "4",
                                    "kozepiskolas": "0"
                                }
                            ]
                        },
                        "text/html": [
                            "<table>",
                            "<tr><th>munkaId</th><th>MhelyId</th><th>DiakAz</th><th>allas</th><th>datum</th><th>oradij</th><th>oraszam</th><th>kozepiskolas</th></tr>",
                            "<tr><td>8</td><td>9</td><td>NULL</td><td>kisegítő</td><td>2003-06-19 00:00:00.000</td><td>300</td><td>4</td><td>0</td></tr>",
                            "<tr><td>9</td><td>9</td><td>6</td><td>takarító</td><td>2003-06-19 00:00:00.000</td><td>400</td><td>4</td><td>0</td></tr>",
                            "<tr><td>10</td><td>9</td><td>6</td><td>takarító</td><td>2003-06-20 00:00:00.000</td><td>400</td><td>4</td><td>0</td></tr>",
                            "<tr><td>11</td><td>9</td><td>8</td><td>kisegítő</td><td>2003-06-21 00:00:00.000</td><td>300</td><td>6</td><td>1</td></tr>",
                            "<tr><td>12</td><td>9</td><td>8</td><td>kisegítő</td><td>2003-06-22 00:00:00.000</td><td>300</td><td>6</td><td>1</td></tr>",
                            "<tr><td>13</td><td>9</td><td>6</td><td>takarító</td><td>2003-06-23 00:00:00.000</td><td>400</td><td>4</td><td>0</td></tr>",
                            "<tr><td>16</td><td>6</td><td>5</td><td>pincér</td><td>2003-06-11 00:00:00.000</td><td>450</td><td>6</td><td>0</td></tr>",
                            "<tr><td>17</td><td>6</td><td>5</td><td>pincér</td><td>2003-06-12 00:00:00.000</td><td>450</td><td>6</td><td>0</td></tr>",
                            "<tr><td>24</td><td>11</td><td>5</td><td>eladó</td><td>2003-06-23 00:00:00.000</td><td>300</td><td>6</td><td>0</td></tr>",
                            "<tr><td>38</td><td>5</td><td>7</td><td>eladó</td><td>2003-06-05 00:00:00.000</td><td>400</td><td>4</td><td>0</td></tr>",
                            "<tr><td>39</td><td>5</td><td>7</td><td>eladó</td><td>2003-06-06 00:00:00.000</td><td>400</td><td>4</td><td>0</td></tr>",
                            "<tr><td>40</td><td>5</td><td>7</td><td>eladó</td><td>2003-06-07 00:00:00.000</td><td>400</td><td>4</td><td>0</td></tr>",
                            "</table>"
                        ]
                    }
                }
            ],
            "execution_count": 2
        },
        {
            "cell_type": "markdown",
            "source": [
                "<span style=\"mso-spacerun:'yes';font-size:18pt;font-family:Arial;color:rgb(27,32,61);\">Listázzuk a ruhatáros munkák adatait, tüntessük fel a naponta kereshető összeget is egy új oszlopban!</span>\n",
                "\n",
                "<span style=\"mso-spacerun:'yes';font-size:18pt;font-family:Arial;color:rgb(27,32,61);\">Az oszlop neve legyen ’Napi kereset’&nbsp;</span>"
            ],
            "metadata": {
                "azdata_cell_guid": "1859f2d1-91be-4c94-a995-a9541a917da4"
            },
            "attachments": {}
        },
        {
            "cell_type": "code",
            "source": [
                "SELECT *,\r\n",
                "oradij*oraszam as 'Napi kereset'\r\n",
                "from munka\r\n",
                "where allas = 'ruhatáros'\r\n",
                ""
            ],
            "metadata": {
                "azdata_cell_guid": "259622b9-5baa-4884-afed-ba6b525d33e7",
                "language": "sql"
            },
            "outputs": [
                {
                    "output_type": "display_data",
                    "data": {
                        "text/html": "(6 rows affected)"
                    },
                    "metadata": {}
                },
                {
                    "output_type": "display_data",
                    "data": {
                        "text/html": "Total execution time: 00:00:00.149"
                    },
                    "metadata": {}
                },
                {
                    "output_type": "execute_result",
                    "metadata": {},
                    "execution_count": 5,
                    "data": {
                        "application/vnd.dataresource+json": {
                            "schema": {
                                "fields": [
                                    {
                                        "name": "munkaId"
                                    },
                                    {
                                        "name": "MhelyId"
                                    },
                                    {
                                        "name": "DiakAz"
                                    },
                                    {
                                        "name": "allas"
                                    },
                                    {
                                        "name": "datum"
                                    },
                                    {
                                        "name": "oradij"
                                    },
                                    {
                                        "name": "oraszam"
                                    },
                                    {
                                        "name": "kozepiskolas"
                                    },
                                    {
                                        "name": "Napi kereset"
                                    }
                                ]
                            },
                            "data": [
                                {
                                    "munkaId": "14",
                                    "MhelyId": "6",
                                    "DiakAz": "4",
                                    "allas": "ruhatáros",
                                    "datum": "2003-09-11 00:00:00.000",
                                    "oradij": "400",
                                    "oraszam": "4",
                                    "kozepiskolas": "0",
                                    "Napi kereset": "1600"
                                },
                                {
                                    "munkaId": "15",
                                    "MhelyId": "6",
                                    "DiakAz": "7",
                                    "allas": "ruhatáros",
                                    "datum": "2003-09-11 00:00:00.000",
                                    "oradij": "400",
                                    "oraszam": "4",
                                    "kozepiskolas": "0",
                                    "Napi kereset": "1600"
                                },
                                {
                                    "munkaId": "31",
                                    "MhelyId": "7",
                                    "DiakAz": "8",
                                    "allas": "ruhatáros",
                                    "datum": "2003-08-20 00:00:00.000",
                                    "oradij": "200",
                                    "oraszam": "4",
                                    "kozepiskolas": "1",
                                    "Napi kereset": "800"
                                },
                                {
                                    "munkaId": "32",
                                    "MhelyId": "7",
                                    "DiakAz": "8",
                                    "allas": "ruhatáros",
                                    "datum": "2003-08-21 00:00:00.000",
                                    "oradij": "200",
                                    "oraszam": "4",
                                    "kozepiskolas": "1",
                                    "Napi kereset": "800"
                                },
                                {
                                    "munkaId": "33",
                                    "MhelyId": "7",
                                    "DiakAz": "NULL",
                                    "allas": "ruhatáros",
                                    "datum": "2003-08-22 00:00:00.000",
                                    "oradij": "200",
                                    "oraszam": "4",
                                    "kozepiskolas": "1",
                                    "Napi kereset": "800"
                                },
                                {
                                    "munkaId": "34",
                                    "MhelyId": "7",
                                    "DiakAz": "NULL",
                                    "allas": "ruhatáros",
                                    "datum": "2003-08-23 00:00:00.000",
                                    "oradij": "200",
                                    "oraszam": "4",
                                    "kozepiskolas": "1",
                                    "Napi kereset": "800"
                                }
                            ]
                        },
                        "text/html": [
                            "<table>",
                            "<tr><th>munkaId</th><th>MhelyId</th><th>DiakAz</th><th>allas</th><th>datum</th><th>oradij</th><th>oraszam</th><th>kozepiskolas</th><th>Napi kereset</th></tr>",
                            "<tr><td>14</td><td>6</td><td>4</td><td>ruhatáros</td><td>2003-09-11 00:00:00.000</td><td>400</td><td>4</td><td>0</td><td>1600</td></tr>",
                            "<tr><td>15</td><td>6</td><td>7</td><td>ruhatáros</td><td>2003-09-11 00:00:00.000</td><td>400</td><td>4</td><td>0</td><td>1600</td></tr>",
                            "<tr><td>31</td><td>7</td><td>8</td><td>ruhatáros</td><td>2003-08-20 00:00:00.000</td><td>200</td><td>4</td><td>1</td><td>800</td></tr>",
                            "<tr><td>32</td><td>7</td><td>8</td><td>ruhatáros</td><td>2003-08-21 00:00:00.000</td><td>200</td><td>4</td><td>1</td><td>800</td></tr>",
                            "<tr><td>33</td><td>7</td><td>NULL</td><td>ruhatáros</td><td>2003-08-22 00:00:00.000</td><td>200</td><td>4</td><td>1</td><td>800</td></tr>",
                            "<tr><td>34</td><td>7</td><td>NULL</td><td>ruhatáros</td><td>2003-08-23 00:00:00.000</td><td>200</td><td>4</td><td>1</td><td>800</td></tr>",
                            "</table>"
                        ]
                    }
                }
            ],
            "execution_count": 5
        },
        {
            "cell_type": "markdown",
            "source": [
                "<span style=\"mso-spacerun:'yes';font-size:18pt;font-family:Arial;color:rgb(27,32,61);\">Listázzuk a munka tábla első 6 oszlopát! Ha a diáknak nincs azonosítója, akkor helyette 0-t írjunk!</span>\n",
                "\n",
                "<span style=\"mso-spacerun:'yes';font-size:18pt;font-family:Arial;color:rgb(27,32,61);\">A dátumból csak az év, hónap és nap jelenjen meg! Az óradíjat 100 forintra kerekítve jelenítsük meg!&nbsp;</span>"
            ],
            "metadata": {
                "azdata_cell_guid": "18ca85ee-5f48-4811-885c-cc0eb0fe9cb9"
            },
            "attachments": {}
        },
        {
            "cell_type": "code",
            "source": [
                "select munkaid,\r\n",
                "mhelyid,\r\n",
                "isnull(diakaz,0) as 'diákazon',\r\n",
                "allas,\r\n",
                "cast(datum as date) as 'dátum',\r\n",
                "round(oradij,-2) as 'óradíj'\r\n",
                "from munka\r\n",
                ""
            ],
            "metadata": {
                "azdata_cell_guid": "166adfc4-2aff-4f57-ace9-7f916463297d",
                "language": "sql"
            },
            "outputs": [
                {
                    "output_type": "display_data",
                    "data": {
                        "text/html": "(41 rows affected)"
                    },
                    "metadata": {}
                },
                {
                    "output_type": "display_data",
                    "data": {
                        "text/html": "Total execution time: 00:00:00.231"
                    },
                    "metadata": {}
                },
                {
                    "output_type": "execute_result",
                    "metadata": {},
                    "execution_count": 10,
                    "data": {
                        "application/vnd.dataresource+json": {
                            "schema": {
                                "fields": [
                                    {
                                        "name": "munkaid"
                                    },
                                    {
                                        "name": "mhelyid"
                                    },
                                    {
                                        "name": "diákazon"
                                    },
                                    {
                                        "name": "allas"
                                    },
                                    {
                                        "name": "dátum"
                                    },
                                    {
                                        "name": "óradíj"
                                    }
                                ]
                            },
                            "data": [
                                {
                                    "munkaid": "1",
                                    "mhelyid": "1",
                                    "diákazon": "1",
                                    "allas": "kézbesítő",
                                    "dátum": "2003-07-02",
                                    "óradíj": "400"
                                },
                                {
                                    "munkaid": "2",
                                    "mhelyid": "1",
                                    "diákazon": "2",
                                    "allas": "ügyfélszolgálati munkatárs",
                                    "dátum": "2003-07-03",
                                    "óradíj": "300"
                                },
                                {
                                    "munkaid": "3",
                                    "mhelyid": "2",
                                    "diákazon": "1",
                                    "allas": "kisegítő",
                                    "dátum": "2003-07-01",
                                    "óradíj": "500"
                                },
                                {
                                    "munkaid": "4",
                                    "mhelyid": "2",
                                    "diákazon": "2",
                                    "allas": "eladó",
                                    "dátum": "2003-07-01",
                                    "óradíj": "400"
                                },
                                {
                                    "munkaid": "5",
                                    "mhelyid": "1",
                                    "diákazon": "1",
                                    "allas": "kézbesítő",
                                    "dátum": "2003-07-03",
                                    "óradíj": "500"
                                },
                                {
                                    "munkaid": "6",
                                    "mhelyid": "1",
                                    "diákazon": "2",
                                    "allas": "futár",
                                    "dátum": "2003-07-06",
                                    "óradíj": "300"
                                },
                                {
                                    "munkaid": "7",
                                    "mhelyid": "2",
                                    "diákazon": "0",
                                    "allas": "eladó",
                                    "dátum": "2003-07-07",
                                    "óradíj": "400"
                                },
                                {
                                    "munkaid": "8",
                                    "mhelyid": "9",
                                    "diákazon": "0",
                                    "allas": "kisegítő",
                                    "dátum": "2003-06-19",
                                    "óradíj": "300"
                                },
                                {
                                    "munkaid": "9",
                                    "mhelyid": "9",
                                    "diákazon": "6",
                                    "allas": "takarító",
                                    "dátum": "2003-06-19",
                                    "óradíj": "400"
                                },
                                {
                                    "munkaid": "10",
                                    "mhelyid": "9",
                                    "diákazon": "6",
                                    "allas": "takarító",
                                    "dátum": "2003-06-20",
                                    "óradíj": "400"
                                },
                                {
                                    "munkaid": "11",
                                    "mhelyid": "9",
                                    "diákazon": "8",
                                    "allas": "kisegítő",
                                    "dátum": "2003-06-21",
                                    "óradíj": "300"
                                },
                                {
                                    "munkaid": "12",
                                    "mhelyid": "9",
                                    "diákazon": "8",
                                    "allas": "kisegítő",
                                    "dátum": "2003-06-22",
                                    "óradíj": "300"
                                },
                                {
                                    "munkaid": "13",
                                    "mhelyid": "9",
                                    "diákazon": "6",
                                    "allas": "takarító",
                                    "dátum": "2003-06-23",
                                    "óradíj": "400"
                                },
                                {
                                    "munkaid": "14",
                                    "mhelyid": "6",
                                    "diákazon": "4",
                                    "allas": "ruhatáros",
                                    "dátum": "2003-09-11",
                                    "óradíj": "400"
                                },
                                {
                                    "munkaid": "15",
                                    "mhelyid": "6",
                                    "diákazon": "7",
                                    "allas": "ruhatáros",
                                    "dátum": "2003-09-11",
                                    "óradíj": "400"
                                },
                                {
                                    "munkaid": "16",
                                    "mhelyid": "6",
                                    "diákazon": "5",
                                    "allas": "pincér",
                                    "dátum": "2003-06-11",
                                    "óradíj": "500"
                                },
                                {
                                    "munkaid": "17",
                                    "mhelyid": "6",
                                    "diákazon": "5",
                                    "allas": "pincér",
                                    "dátum": "2003-06-12",
                                    "óradíj": "500"
                                },
                                {
                                    "munkaid": "18",
                                    "mhelyid": "8",
                                    "diákazon": "9",
                                    "allas": "eladó",
                                    "dátum": "2003-07-21",
                                    "óradíj": "500"
                                },
                                {
                                    "munkaid": "19",
                                    "mhelyid": "8",
                                    "diákazon": "9",
                                    "allas": "eladó",
                                    "dátum": "2003-07-22",
                                    "óradíj": "500"
                                },
                                {
                                    "munkaid": "20",
                                    "mhelyid": "8",
                                    "diákazon": "10",
                                    "allas": "takarító",
                                    "dátum": "2003-08-10",
                                    "óradíj": "400"
                                },
                                {
                                    "munkaid": "21",
                                    "mhelyid": "8",
                                    "diákazon": "10",
                                    "allas": "takarító",
                                    "dátum": "2003-08-11",
                                    "óradíj": "400"
                                },
                                {
                                    "munkaid": "22",
                                    "mhelyid": "11",
                                    "diákazon": "5",
                                    "allas": "eladó",
                                    "dátum": "2003-05-10",
                                    "óradíj": "400"
                                },
                                {
                                    "munkaid": "23",
                                    "mhelyid": "11",
                                    "diákazon": "6",
                                    "allas": "raktáros",
                                    "dátum": "2003-05-20",
                                    "óradíj": "300"
                                },
                                {
                                    "munkaid": "24",
                                    "mhelyid": "11",
                                    "diákazon": "5",
                                    "allas": "eladó",
                                    "dátum": "2003-06-23",
                                    "óradíj": "300"
                                },
                                {
                                    "munkaid": "25",
                                    "mhelyid": "10",
                                    "diákazon": "0",
                                    "allas": "takarító",
                                    "dátum": "2003-07-29",
                                    "óradíj": "300"
                                },
                                {
                                    "munkaid": "26",
                                    "mhelyid": "10",
                                    "diákazon": "0",
                                    "allas": "takarító",
                                    "dátum": "2003-07-30",
                                    "óradíj": "300"
                                },
                                {
                                    "munkaid": "27",
                                    "mhelyid": "10",
                                    "diákazon": "3",
                                    "allas": "takarító",
                                    "dátum": "2003-07-31",
                                    "óradíj": "300"
                                },
                                {
                                    "munkaid": "28",
                                    "mhelyid": "10",
                                    "diákazon": "3",
                                    "allas": "takarító",
                                    "dátum": "2003-08-01",
                                    "óradíj": "300"
                                },
                                {
                                    "munkaid": "29",
                                    "mhelyid": "10",
                                    "diákazon": "8",
                                    "allas": "eladó",
                                    "dátum": "2003-09-12",
                                    "óradíj": "300"
                                },
                                {
                                    "munkaid": "30",
                                    "mhelyid": "10",
                                    "diákazon": "8",
                                    "allas": "eladó",
                                    "dátum": "2003-09-13",
                                    "óradíj": "300"
                                },
                                {
                                    "munkaid": "31",
                                    "mhelyid": "7",
                                    "diákazon": "8",
                                    "allas": "ruhatáros",
                                    "dátum": "2003-08-20",
                                    "óradíj": "200"
                                },
                                {
                                    "munkaid": "32",
                                    "mhelyid": "7",
                                    "diákazon": "8",
                                    "allas": "ruhatáros",
                                    "dátum": "2003-08-21",
                                    "óradíj": "200"
                                },
                                {
                                    "munkaid": "33",
                                    "mhelyid": "7",
                                    "diákazon": "0",
                                    "allas": "ruhatáros",
                                    "dátum": "2003-08-22",
                                    "óradíj": "200"
                                },
                                {
                                    "munkaid": "34",
                                    "mhelyid": "7",
                                    "diákazon": "0",
                                    "allas": "ruhatáros",
                                    "dátum": "2003-08-23",
                                    "óradíj": "200"
                                },
                                {
                                    "munkaid": "35",
                                    "mhelyid": "4",
                                    "diákazon": "0",
                                    "allas": "raktáros",
                                    "dátum": "2003-10-10",
                                    "óradíj": "300"
                                },
                                {
                                    "munkaid": "36",
                                    "mhelyid": "4",
                                    "diákazon": "0",
                                    "allas": "raktáros",
                                    "dátum": "2003-10-11",
                                    "óradíj": "300"
                                },
                                {
                                    "munkaid": "37",
                                    "mhelyid": "4",
                                    "diákazon": "0",
                                    "allas": "raktáros",
                                    "dátum": "2003-10-12",
                                    "óradíj": "300"
                                },
                                {
                                    "munkaid": "38",
                                    "mhelyid": "5",
                                    "diákazon": "7",
                                    "allas": "eladó",
                                    "dátum": "2003-06-05",
                                    "óradíj": "400"
                                },
                                {
                                    "munkaid": "39",
                                    "mhelyid": "5",
                                    "diákazon": "7",
                                    "allas": "eladó",
                                    "dátum": "2003-06-06",
                                    "óradíj": "400"
                                },
                                {
                                    "munkaid": "40",
                                    "mhelyid": "5",
                                    "diákazon": "7",
                                    "allas": "eladó",
                                    "dátum": "2003-06-07",
                                    "óradíj": "400"
                                },
                                {
                                    "munkaid": "41",
                                    "mhelyid": "11",
                                    "diákazon": "0",
                                    "allas": "eladó",
                                    "dátum": "2003-07-07",
                                    "óradíj": "400"
                                }
                            ]
                        },
                        "text/html": [
                            "<table>",
                            "<tr><th>munkaid</th><th>mhelyid</th><th>diákazon</th><th>allas</th><th>dátum</th><th>óradíj</th></tr>",
                            "<tr><td>1</td><td>1</td><td>1</td><td>kézbesítő</td><td>2003-07-02</td><td>400</td></tr>",
                            "<tr><td>2</td><td>1</td><td>2</td><td>ügyfélszolgálati munkatárs</td><td>2003-07-03</td><td>300</td></tr>",
                            "<tr><td>3</td><td>2</td><td>1</td><td>kisegítő</td><td>2003-07-01</td><td>500</td></tr>",
                            "<tr><td>4</td><td>2</td><td>2</td><td>eladó</td><td>2003-07-01</td><td>400</td></tr>",
                            "<tr><td>5</td><td>1</td><td>1</td><td>kézbesítő</td><td>2003-07-03</td><td>500</td></tr>",
                            "<tr><td>6</td><td>1</td><td>2</td><td>futár</td><td>2003-07-06</td><td>300</td></tr>",
                            "<tr><td>7</td><td>2</td><td>0</td><td>eladó</td><td>2003-07-07</td><td>400</td></tr>",
                            "<tr><td>8</td><td>9</td><td>0</td><td>kisegítő</td><td>2003-06-19</td><td>300</td></tr>",
                            "<tr><td>9</td><td>9</td><td>6</td><td>takarító</td><td>2003-06-19</td><td>400</td></tr>",
                            "<tr><td>10</td><td>9</td><td>6</td><td>takarító</td><td>2003-06-20</td><td>400</td></tr>",
                            "<tr><td>11</td><td>9</td><td>8</td><td>kisegítő</td><td>2003-06-21</td><td>300</td></tr>",
                            "<tr><td>12</td><td>9</td><td>8</td><td>kisegítő</td><td>2003-06-22</td><td>300</td></tr>",
                            "<tr><td>13</td><td>9</td><td>6</td><td>takarító</td><td>2003-06-23</td><td>400</td></tr>",
                            "<tr><td>14</td><td>6</td><td>4</td><td>ruhatáros</td><td>2003-09-11</td><td>400</td></tr>",
                            "<tr><td>15</td><td>6</td><td>7</td><td>ruhatáros</td><td>2003-09-11</td><td>400</td></tr>",
                            "<tr><td>16</td><td>6</td><td>5</td><td>pincér</td><td>2003-06-11</td><td>500</td></tr>",
                            "<tr><td>17</td><td>6</td><td>5</td><td>pincér</td><td>2003-06-12</td><td>500</td></tr>",
                            "<tr><td>18</td><td>8</td><td>9</td><td>eladó</td><td>2003-07-21</td><td>500</td></tr>",
                            "<tr><td>19</td><td>8</td><td>9</td><td>eladó</td><td>2003-07-22</td><td>500</td></tr>",
                            "<tr><td>20</td><td>8</td><td>10</td><td>takarító</td><td>2003-08-10</td><td>400</td></tr>",
                            "<tr><td>21</td><td>8</td><td>10</td><td>takarító</td><td>2003-08-11</td><td>400</td></tr>",
                            "<tr><td>22</td><td>11</td><td>5</td><td>eladó</td><td>2003-05-10</td><td>400</td></tr>",
                            "<tr><td>23</td><td>11</td><td>6</td><td>raktáros</td><td>2003-05-20</td><td>300</td></tr>",
                            "<tr><td>24</td><td>11</td><td>5</td><td>eladó</td><td>2003-06-23</td><td>300</td></tr>",
                            "<tr><td>25</td><td>10</td><td>0</td><td>takarító</td><td>2003-07-29</td><td>300</td></tr>",
                            "<tr><td>26</td><td>10</td><td>0</td><td>takarító</td><td>2003-07-30</td><td>300</td></tr>",
                            "<tr><td>27</td><td>10</td><td>3</td><td>takarító</td><td>2003-07-31</td><td>300</td></tr>",
                            "<tr><td>28</td><td>10</td><td>3</td><td>takarító</td><td>2003-08-01</td><td>300</td></tr>",
                            "<tr><td>29</td><td>10</td><td>8</td><td>eladó</td><td>2003-09-12</td><td>300</td></tr>",
                            "<tr><td>30</td><td>10</td><td>8</td><td>eladó</td><td>2003-09-13</td><td>300</td></tr>",
                            "<tr><td>31</td><td>7</td><td>8</td><td>ruhatáros</td><td>2003-08-20</td><td>200</td></tr>",
                            "<tr><td>32</td><td>7</td><td>8</td><td>ruhatáros</td><td>2003-08-21</td><td>200</td></tr>",
                            "<tr><td>33</td><td>7</td><td>0</td><td>ruhatáros</td><td>2003-08-22</td><td>200</td></tr>",
                            "<tr><td>34</td><td>7</td><td>0</td><td>ruhatáros</td><td>2003-08-23</td><td>200</td></tr>",
                            "<tr><td>35</td><td>4</td><td>0</td><td>raktáros</td><td>2003-10-10</td><td>300</td></tr>",
                            "<tr><td>36</td><td>4</td><td>0</td><td>raktáros</td><td>2003-10-11</td><td>300</td></tr>",
                            "<tr><td>37</td><td>4</td><td>0</td><td>raktáros</td><td>2003-10-12</td><td>300</td></tr>",
                            "<tr><td>38</td><td>5</td><td>7</td><td>eladó</td><td>2003-06-05</td><td>400</td></tr>",
                            "<tr><td>39</td><td>5</td><td>7</td><td>eladó</td><td>2003-06-06</td><td>400</td></tr>",
                            "<tr><td>40</td><td>5</td><td>7</td><td>eladó</td><td>2003-06-07</td><td>400</td></tr>",
                            "<tr><td>41</td><td>11</td><td>0</td><td>eladó</td><td>2003-07-07</td><td>400</td></tr>",
                            "</table>"
                        ]
                    }
                }
            ],
            "execution_count": 10
        },
        {
            "cell_type": "markdown",
            "source": [
                "<span style=\"mso-spacerun:'yes';font-size:15.96pt;font-family:Arial;color:rgb(27,32,61);\">Listázzuk a munka tábla oszlopait! Új oszlopként jelenítsük meg a munkák érvényességi dátumát (dátum + 30 nap) és</span>\n",
                "\n",
                "<span style=\"mso-spacerun:'yes';font-size:15.96pt;font-family:Arial;color:rgb(27,32,61);\">egy minősítő oszlopot ’Fizetés’ néven. Ez utóbbi 450 Ft-os óradíj felett legyen ’ Jó’, alatta ’Nem túl jó</span>"
            ],
            "metadata": {
                "azdata_cell_guid": "a027faab-cde3-4ec4-8f8a-31bfdef78641"
            },
            "attachments": {}
        },
        {
            "cell_type": "code",
            "source": [
                "select *,\r\n",
                "dateadd(day, 30, datum) as 'ésvényesség',\r\n",
                "iif(oradij>450, 'jó', 'nem túl jó') as 'fizetés'\r\n",
                "from munka\r\n",
                ""
            ],
            "metadata": {
                "azdata_cell_guid": "a54db7c7-6852-4649-a515-186b8ef6dfda",
                "language": "sql"
            },
            "outputs": [
                {
                    "output_type": "display_data",
                    "data": {
                        "text/html": "(41 rows affected)"
                    },
                    "metadata": {}
                },
                {
                    "output_type": "display_data",
                    "data": {
                        "text/html": "Total execution time: 00:00:00.199"
                    },
                    "metadata": {}
                },
                {
                    "output_type": "execute_result",
                    "metadata": {},
                    "execution_count": 11,
                    "data": {
                        "application/vnd.dataresource+json": {
                            "schema": {
                                "fields": [
                                    {
                                        "name": "munkaId"
                                    },
                                    {
                                        "name": "MhelyId"
                                    },
                                    {
                                        "name": "DiakAz"
                                    },
                                    {
                                        "name": "allas"
                                    },
                                    {
                                        "name": "datum"
                                    },
                                    {
                                        "name": "oradij"
                                    },
                                    {
                                        "name": "oraszam"
                                    },
                                    {
                                        "name": "kozepiskolas"
                                    },
                                    {
                                        "name": "ésvényesség"
                                    },
                                    {
                                        "name": "fizetés"
                                    }
                                ]
                            },
                            "data": [
                                {
                                    "munkaId": "1",
                                    "MhelyId": "1",
                                    "DiakAz": "1",
                                    "allas": "kézbesítő",
                                    "datum": "2003-07-02 00:00:00.000",
                                    "oradij": "400",
                                    "oraszam": "4",
                                    "kozepiskolas": "0",
                                    "ésvényesség": "2003-08-01 00:00:00.000",
                                    "fizetés": "nem túl jó"
                                },
                                {
                                    "munkaId": "2",
                                    "MhelyId": "1",
                                    "DiakAz": "2",
                                    "allas": "ügyfélszolgálati munkatárs",
                                    "datum": "2003-07-03 00:00:00.000",
                                    "oradij": "300",
                                    "oraszam": "4",
                                    "kozepiskolas": "0",
                                    "ésvényesség": "2003-08-02 00:00:00.000",
                                    "fizetés": "nem túl jó"
                                },
                                {
                                    "munkaId": "3",
                                    "MhelyId": "2",
                                    "DiakAz": "1",
                                    "allas": "kisegítő",
                                    "datum": "2003-07-01 00:00:00.000",
                                    "oradij": "500",
                                    "oraszam": "4",
                                    "kozepiskolas": "1",
                                    "ésvényesség": "2003-07-31 00:00:00.000",
                                    "fizetés": "jó"
                                },
                                {
                                    "munkaId": "4",
                                    "MhelyId": "2",
                                    "DiakAz": "2",
                                    "allas": "eladó",
                                    "datum": "2003-07-01 00:00:00.000",
                                    "oradij": "350",
                                    "oraszam": "4",
                                    "kozepiskolas": "0",
                                    "ésvényesség": "2003-07-31 00:00:00.000",
                                    "fizetés": "nem túl jó"
                                },
                                {
                                    "munkaId": "5",
                                    "MhelyId": "1",
                                    "DiakAz": "1",
                                    "allas": "kézbesítő",
                                    "datum": "2003-07-03 00:00:00.000",
                                    "oradij": "450",
                                    "oraszam": "6",
                                    "kozepiskolas": "0",
                                    "ésvényesség": "2003-08-02 00:00:00.000",
                                    "fizetés": "nem túl jó"
                                },
                                {
                                    "munkaId": "6",
                                    "MhelyId": "1",
                                    "DiakAz": "2",
                                    "allas": "futár",
                                    "datum": "2003-07-06 00:00:00.000",
                                    "oradij": "300",
                                    "oraszam": "5",
                                    "kozepiskolas": "1",
                                    "ésvényesség": "2003-08-05 00:00:00.000",
                                    "fizetés": "nem túl jó"
                                },
                                {
                                    "munkaId": "7",
                                    "MhelyId": "2",
                                    "DiakAz": "NULL",
                                    "allas": "eladó",
                                    "datum": "2003-07-07 00:00:00.000",
                                    "oradij": "400",
                                    "oraszam": "6",
                                    "kozepiskolas": "0",
                                    "ésvényesség": "2003-08-06 00:00:00.000",
                                    "fizetés": "nem túl jó"
                                },
                                {
                                    "munkaId": "8",
                                    "MhelyId": "9",
                                    "DiakAz": "NULL",
                                    "allas": "kisegítő",
                                    "datum": "2003-06-19 00:00:00.000",
                                    "oradij": "300",
                                    "oraszam": "4",
                                    "kozepiskolas": "0",
                                    "ésvényesség": "2003-07-19 00:00:00.000",
                                    "fizetés": "nem túl jó"
                                },
                                {
                                    "munkaId": "9",
                                    "MhelyId": "9",
                                    "DiakAz": "6",
                                    "allas": "takarító",
                                    "datum": "2003-06-19 00:00:00.000",
                                    "oradij": "400",
                                    "oraszam": "4",
                                    "kozepiskolas": "0",
                                    "ésvényesség": "2003-07-19 00:00:00.000",
                                    "fizetés": "nem túl jó"
                                },
                                {
                                    "munkaId": "10",
                                    "MhelyId": "9",
                                    "DiakAz": "6",
                                    "allas": "takarító",
                                    "datum": "2003-06-20 00:00:00.000",
                                    "oradij": "400",
                                    "oraszam": "4",
                                    "kozepiskolas": "0",
                                    "ésvényesség": "2003-07-20 00:00:00.000",
                                    "fizetés": "nem túl jó"
                                },
                                {
                                    "munkaId": "11",
                                    "MhelyId": "9",
                                    "DiakAz": "8",
                                    "allas": "kisegítő",
                                    "datum": "2003-06-21 00:00:00.000",
                                    "oradij": "300",
                                    "oraszam": "6",
                                    "kozepiskolas": "1",
                                    "ésvényesség": "2003-07-21 00:00:00.000",
                                    "fizetés": "nem túl jó"
                                },
                                {
                                    "munkaId": "12",
                                    "MhelyId": "9",
                                    "DiakAz": "8",
                                    "allas": "kisegítő",
                                    "datum": "2003-06-22 00:00:00.000",
                                    "oradij": "300",
                                    "oraszam": "6",
                                    "kozepiskolas": "1",
                                    "ésvényesség": "2003-07-22 00:00:00.000",
                                    "fizetés": "nem túl jó"
                                },
                                {
                                    "munkaId": "13",
                                    "MhelyId": "9",
                                    "DiakAz": "6",
                                    "allas": "takarító",
                                    "datum": "2003-06-23 00:00:00.000",
                                    "oradij": "400",
                                    "oraszam": "4",
                                    "kozepiskolas": "0",
                                    "ésvényesség": "2003-07-23 00:00:00.000",
                                    "fizetés": "nem túl jó"
                                },
                                {
                                    "munkaId": "14",
                                    "MhelyId": "6",
                                    "DiakAz": "4",
                                    "allas": "ruhatáros",
                                    "datum": "2003-09-11 00:00:00.000",
                                    "oradij": "400",
                                    "oraszam": "4",
                                    "kozepiskolas": "0",
                                    "ésvényesség": "2003-10-11 00:00:00.000",
                                    "fizetés": "nem túl jó"
                                },
                                {
                                    "munkaId": "15",
                                    "MhelyId": "6",
                                    "DiakAz": "7",
                                    "allas": "ruhatáros",
                                    "datum": "2003-09-11 00:00:00.000",
                                    "oradij": "400",
                                    "oraszam": "4",
                                    "kozepiskolas": "0",
                                    "ésvényesség": "2003-10-11 00:00:00.000",
                                    "fizetés": "nem túl jó"
                                },
                                {
                                    "munkaId": "16",
                                    "MhelyId": "6",
                                    "DiakAz": "5",
                                    "allas": "pincér",
                                    "datum": "2003-06-11 00:00:00.000",
                                    "oradij": "450",
                                    "oraszam": "6",
                                    "kozepiskolas": "0",
                                    "ésvényesség": "2003-07-11 00:00:00.000",
                                    "fizetés": "nem túl jó"
                                },
                                {
                                    "munkaId": "17",
                                    "MhelyId": "6",
                                    "DiakAz": "5",
                                    "allas": "pincér",
                                    "datum": "2003-06-12 00:00:00.000",
                                    "oradij": "450",
                                    "oraszam": "6",
                                    "kozepiskolas": "0",
                                    "ésvényesség": "2003-07-12 00:00:00.000",
                                    "fizetés": "nem túl jó"
                                },
                                {
                                    "munkaId": "18",
                                    "MhelyId": "8",
                                    "DiakAz": "9",
                                    "allas": "eladó",
                                    "datum": "2003-07-21 00:00:00.000",
                                    "oradij": "500",
                                    "oraszam": "4",
                                    "kozepiskolas": "0",
                                    "ésvényesség": "2003-08-20 00:00:00.000",
                                    "fizetés": "jó"
                                },
                                {
                                    "munkaId": "19",
                                    "MhelyId": "8",
                                    "DiakAz": "9",
                                    "allas": "eladó",
                                    "datum": "2003-07-22 00:00:00.000",
                                    "oradij": "500",
                                    "oraszam": "4",
                                    "kozepiskolas": "0",
                                    "ésvényesség": "2003-08-21 00:00:00.000",
                                    "fizetés": "jó"
                                },
                                {
                                    "munkaId": "20",
                                    "MhelyId": "8",
                                    "DiakAz": "10",
                                    "allas": "takarító",
                                    "datum": "2003-08-10 00:00:00.000",
                                    "oradij": "350",
                                    "oraszam": "6",
                                    "kozepiskolas": "1",
                                    "ésvényesség": "2003-09-09 00:00:00.000",
                                    "fizetés": "nem túl jó"
                                },
                                {
                                    "munkaId": "21",
                                    "MhelyId": "8",
                                    "DiakAz": "10",
                                    "allas": "takarító",
                                    "datum": "2003-08-11 00:00:00.000",
                                    "oradij": "350",
                                    "oraszam": "6",
                                    "kozepiskolas": "1",
                                    "ésvényesség": "2003-09-10 00:00:00.000",
                                    "fizetés": "nem túl jó"
                                },
                                {
                                    "munkaId": "22",
                                    "MhelyId": "11",
                                    "DiakAz": "5",
                                    "allas": "eladó",
                                    "datum": "2003-05-10 00:00:00.000",
                                    "oradij": "400",
                                    "oraszam": "4",
                                    "kozepiskolas": "0",
                                    "ésvényesség": "2003-06-09 00:00:00.000",
                                    "fizetés": "nem túl jó"
                                },
                                {
                                    "munkaId": "23",
                                    "MhelyId": "11",
                                    "DiakAz": "6",
                                    "allas": "raktáros",
                                    "datum": "2003-05-20 00:00:00.000",
                                    "oradij": "300",
                                    "oraszam": "4",
                                    "kozepiskolas": "0",
                                    "ésvényesség": "2003-06-19 00:00:00.000",
                                    "fizetés": "nem túl jó"
                                },
                                {
                                    "munkaId": "24",
                                    "MhelyId": "11",
                                    "DiakAz": "5",
                                    "allas": "eladó",
                                    "datum": "2003-06-23 00:00:00.000",
                                    "oradij": "300",
                                    "oraszam": "6",
                                    "kozepiskolas": "0",
                                    "ésvényesség": "2003-07-23 00:00:00.000",
                                    "fizetés": "nem túl jó"
                                },
                                {
                                    "munkaId": "25",
                                    "MhelyId": "10",
                                    "DiakAz": "NULL",
                                    "allas": "takarító",
                                    "datum": "2003-07-29 00:00:00.000",
                                    "oradij": "250",
                                    "oraszam": "4",
                                    "kozepiskolas": "1",
                                    "ésvényesség": "2003-08-28 00:00:00.000",
                                    "fizetés": "nem túl jó"
                                },
                                {
                                    "munkaId": "26",
                                    "MhelyId": "10",
                                    "DiakAz": "NULL",
                                    "allas": "takarító",
                                    "datum": "2003-07-30 00:00:00.000",
                                    "oradij": "250",
                                    "oraszam": "4",
                                    "kozepiskolas": "1",
                                    "ésvényesség": "2003-08-29 00:00:00.000",
                                    "fizetés": "nem túl jó"
                                },
                                {
                                    "munkaId": "27",
                                    "MhelyId": "10",
                                    "DiakAz": "3",
                                    "allas": "takarító",
                                    "datum": "2003-07-31 00:00:00.000",
                                    "oradij": "300",
                                    "oraszam": "4",
                                    "kozepiskolas": "1",
                                    "ésvényesség": "2003-08-30 00:00:00.000",
                                    "fizetés": "nem túl jó"
                                },
                                {
                                    "munkaId": "28",
                                    "MhelyId": "10",
                                    "DiakAz": "3",
                                    "allas": "takarító",
                                    "datum": "2003-08-01 00:00:00.000",
                                    "oradij": "300",
                                    "oraszam": "4",
                                    "kozepiskolas": "1",
                                    "ésvényesség": "2003-08-31 00:00:00.000",
                                    "fizetés": "nem túl jó"
                                },
                                {
                                    "munkaId": "29",
                                    "MhelyId": "10",
                                    "DiakAz": "8",
                                    "allas": "eladó",
                                    "datum": "2003-09-12 00:00:00.000",
                                    "oradij": "300",
                                    "oraszam": "6",
                                    "kozepiskolas": "1",
                                    "ésvényesség": "2003-10-12 00:00:00.000",
                                    "fizetés": "nem túl jó"
                                },
                                {
                                    "munkaId": "30",
                                    "MhelyId": "10",
                                    "DiakAz": "8",
                                    "allas": "eladó",
                                    "datum": "2003-09-13 00:00:00.000",
                                    "oradij": "300",
                                    "oraszam": "6",
                                    "kozepiskolas": "1",
                                    "ésvényesség": "2003-10-13 00:00:00.000",
                                    "fizetés": "nem túl jó"
                                },
                                {
                                    "munkaId": "31",
                                    "MhelyId": "7",
                                    "DiakAz": "8",
                                    "allas": "ruhatáros",
                                    "datum": "2003-08-20 00:00:00.000",
                                    "oradij": "200",
                                    "oraszam": "4",
                                    "kozepiskolas": "1",
                                    "ésvényesség": "2003-09-19 00:00:00.000",
                                    "fizetés": "nem túl jó"
                                },
                                {
                                    "munkaId": "32",
                                    "MhelyId": "7",
                                    "DiakAz": "8",
                                    "allas": "ruhatáros",
                                    "datum": "2003-08-21 00:00:00.000",
                                    "oradij": "200",
                                    "oraszam": "4",
                                    "kozepiskolas": "1",
                                    "ésvényesség": "2003-09-20 00:00:00.000",
                                    "fizetés": "nem túl jó"
                                },
                                {
                                    "munkaId": "33",
                                    "MhelyId": "7",
                                    "DiakAz": "NULL",
                                    "allas": "ruhatáros",
                                    "datum": "2003-08-22 00:00:00.000",
                                    "oradij": "200",
                                    "oraszam": "4",
                                    "kozepiskolas": "1",
                                    "ésvényesség": "2003-09-21 00:00:00.000",
                                    "fizetés": "nem túl jó"
                                },
                                {
                                    "munkaId": "34",
                                    "MhelyId": "7",
                                    "DiakAz": "NULL",
                                    "allas": "ruhatáros",
                                    "datum": "2003-08-23 00:00:00.000",
                                    "oradij": "200",
                                    "oraszam": "4",
                                    "kozepiskolas": "1",
                                    "ésvényesség": "2003-09-22 00:00:00.000",
                                    "fizetés": "nem túl jó"
                                },
                                {
                                    "munkaId": "35",
                                    "MhelyId": "4",
                                    "DiakAz": "NULL",
                                    "allas": "raktáros",
                                    "datum": "2003-10-10 00:00:00.000",
                                    "oradij": "300",
                                    "oraszam": "6",
                                    "kozepiskolas": "0",
                                    "ésvényesség": "2003-11-09 00:00:00.000",
                                    "fizetés": "nem túl jó"
                                },
                                {
                                    "munkaId": "36",
                                    "MhelyId": "4",
                                    "DiakAz": "NULL",
                                    "allas": "raktáros",
                                    "datum": "2003-10-11 00:00:00.000",
                                    "oradij": "300",
                                    "oraszam": "6",
                                    "kozepiskolas": "0",
                                    "ésvényesség": "2003-11-10 00:00:00.000",
                                    "fizetés": "nem túl jó"
                                },
                                {
                                    "munkaId": "37",
                                    "MhelyId": "4",
                                    "DiakAz": "NULL",
                                    "allas": "raktáros",
                                    "datum": "2003-10-12 00:00:00.000",
                                    "oradij": "300",
                                    "oraszam": "6",
                                    "kozepiskolas": "0",
                                    "ésvényesség": "2003-11-11 00:00:00.000",
                                    "fizetés": "nem túl jó"
                                },
                                {
                                    "munkaId": "38",
                                    "MhelyId": "5",
                                    "DiakAz": "7",
                                    "allas": "eladó",
                                    "datum": "2003-06-05 00:00:00.000",
                                    "oradij": "400",
                                    "oraszam": "4",
                                    "kozepiskolas": "0",
                                    "ésvényesség": "2003-07-05 00:00:00.000",
                                    "fizetés": "nem túl jó"
                                },
                                {
                                    "munkaId": "39",
                                    "MhelyId": "5",
                                    "DiakAz": "7",
                                    "allas": "eladó",
                                    "datum": "2003-06-06 00:00:00.000",
                                    "oradij": "400",
                                    "oraszam": "4",
                                    "kozepiskolas": "0",
                                    "ésvényesség": "2003-07-06 00:00:00.000",
                                    "fizetés": "nem túl jó"
                                },
                                {
                                    "munkaId": "40",
                                    "MhelyId": "5",
                                    "DiakAz": "7",
                                    "allas": "eladó",
                                    "datum": "2003-06-07 00:00:00.000",
                                    "oradij": "400",
                                    "oraszam": "4",
                                    "kozepiskolas": "0",
                                    "ésvényesség": "2003-07-07 00:00:00.000",
                                    "fizetés": "nem túl jó"
                                },
                                {
                                    "munkaId": "41",
                                    "MhelyId": "11",
                                    "DiakAz": "NULL",
                                    "allas": "eladó",
                                    "datum": "2003-07-07 00:00:00.000",
                                    "oradij": "400",
                                    "oraszam": "6",
                                    "kozepiskolas": "0",
                                    "ésvényesség": "2003-08-06 00:00:00.000",
                                    "fizetés": "nem túl jó"
                                }
                            ]
                        },
                        "text/html": [
                            "<table>",
                            "<tr><th>munkaId</th><th>MhelyId</th><th>DiakAz</th><th>allas</th><th>datum</th><th>oradij</th><th>oraszam</th><th>kozepiskolas</th><th>ésvényesség</th><th>fizetés</th></tr>",
                            "<tr><td>1</td><td>1</td><td>1</td><td>kézbesítő</td><td>2003-07-02 00:00:00.000</td><td>400</td><td>4</td><td>0</td><td>2003-08-01 00:00:00.000</td><td>nem túl jó</td></tr>",
                            "<tr><td>2</td><td>1</td><td>2</td><td>ügyfélszolgálati munkatárs</td><td>2003-07-03 00:00:00.000</td><td>300</td><td>4</td><td>0</td><td>2003-08-02 00:00:00.000</td><td>nem túl jó</td></tr>",
                            "<tr><td>3</td><td>2</td><td>1</td><td>kisegítő</td><td>2003-07-01 00:00:00.000</td><td>500</td><td>4</td><td>1</td><td>2003-07-31 00:00:00.000</td><td>jó</td></tr>",
                            "<tr><td>4</td><td>2</td><td>2</td><td>eladó</td><td>2003-07-01 00:00:00.000</td><td>350</td><td>4</td><td>0</td><td>2003-07-31 00:00:00.000</td><td>nem túl jó</td></tr>",
                            "<tr><td>5</td><td>1</td><td>1</td><td>kézbesítő</td><td>2003-07-03 00:00:00.000</td><td>450</td><td>6</td><td>0</td><td>2003-08-02 00:00:00.000</td><td>nem túl jó</td></tr>",
                            "<tr><td>6</td><td>1</td><td>2</td><td>futár</td><td>2003-07-06 00:00:00.000</td><td>300</td><td>5</td><td>1</td><td>2003-08-05 00:00:00.000</td><td>nem túl jó</td></tr>",
                            "<tr><td>7</td><td>2</td><td>NULL</td><td>eladó</td><td>2003-07-07 00:00:00.000</td><td>400</td><td>6</td><td>0</td><td>2003-08-06 00:00:00.000</td><td>nem túl jó</td></tr>",
                            "<tr><td>8</td><td>9</td><td>NULL</td><td>kisegítő</td><td>2003-06-19 00:00:00.000</td><td>300</td><td>4</td><td>0</td><td>2003-07-19 00:00:00.000</td><td>nem túl jó</td></tr>",
                            "<tr><td>9</td><td>9</td><td>6</td><td>takarító</td><td>2003-06-19 00:00:00.000</td><td>400</td><td>4</td><td>0</td><td>2003-07-19 00:00:00.000</td><td>nem túl jó</td></tr>",
                            "<tr><td>10</td><td>9</td><td>6</td><td>takarító</td><td>2003-06-20 00:00:00.000</td><td>400</td><td>4</td><td>0</td><td>2003-07-20 00:00:00.000</td><td>nem túl jó</td></tr>",
                            "<tr><td>11</td><td>9</td><td>8</td><td>kisegítő</td><td>2003-06-21 00:00:00.000</td><td>300</td><td>6</td><td>1</td><td>2003-07-21 00:00:00.000</td><td>nem túl jó</td></tr>",
                            "<tr><td>12</td><td>9</td><td>8</td><td>kisegítő</td><td>2003-06-22 00:00:00.000</td><td>300</td><td>6</td><td>1</td><td>2003-07-22 00:00:00.000</td><td>nem túl jó</td></tr>",
                            "<tr><td>13</td><td>9</td><td>6</td><td>takarító</td><td>2003-06-23 00:00:00.000</td><td>400</td><td>4</td><td>0</td><td>2003-07-23 00:00:00.000</td><td>nem túl jó</td></tr>",
                            "<tr><td>14</td><td>6</td><td>4</td><td>ruhatáros</td><td>2003-09-11 00:00:00.000</td><td>400</td><td>4</td><td>0</td><td>2003-10-11 00:00:00.000</td><td>nem túl jó</td></tr>",
                            "<tr><td>15</td><td>6</td><td>7</td><td>ruhatáros</td><td>2003-09-11 00:00:00.000</td><td>400</td><td>4</td><td>0</td><td>2003-10-11 00:00:00.000</td><td>nem túl jó</td></tr>",
                            "<tr><td>16</td><td>6</td><td>5</td><td>pincér</td><td>2003-06-11 00:00:00.000</td><td>450</td><td>6</td><td>0</td><td>2003-07-11 00:00:00.000</td><td>nem túl jó</td></tr>",
                            "<tr><td>17</td><td>6</td><td>5</td><td>pincér</td><td>2003-06-12 00:00:00.000</td><td>450</td><td>6</td><td>0</td><td>2003-07-12 00:00:00.000</td><td>nem túl jó</td></tr>",
                            "<tr><td>18</td><td>8</td><td>9</td><td>eladó</td><td>2003-07-21 00:00:00.000</td><td>500</td><td>4</td><td>0</td><td>2003-08-20 00:00:00.000</td><td>jó</td></tr>",
                            "<tr><td>19</td><td>8</td><td>9</td><td>eladó</td><td>2003-07-22 00:00:00.000</td><td>500</td><td>4</td><td>0</td><td>2003-08-21 00:00:00.000</td><td>jó</td></tr>",
                            "<tr><td>20</td><td>8</td><td>10</td><td>takarító</td><td>2003-08-10 00:00:00.000</td><td>350</td><td>6</td><td>1</td><td>2003-09-09 00:00:00.000</td><td>nem túl jó</td></tr>",
                            "<tr><td>21</td><td>8</td><td>10</td><td>takarító</td><td>2003-08-11 00:00:00.000</td><td>350</td><td>6</td><td>1</td><td>2003-09-10 00:00:00.000</td><td>nem túl jó</td></tr>",
                            "<tr><td>22</td><td>11</td><td>5</td><td>eladó</td><td>2003-05-10 00:00:00.000</td><td>400</td><td>4</td><td>0</td><td>2003-06-09 00:00:00.000</td><td>nem túl jó</td></tr>",
                            "<tr><td>23</td><td>11</td><td>6</td><td>raktáros</td><td>2003-05-20 00:00:00.000</td><td>300</td><td>4</td><td>0</td><td>2003-06-19 00:00:00.000</td><td>nem túl jó</td></tr>",
                            "<tr><td>24</td><td>11</td><td>5</td><td>eladó</td><td>2003-06-23 00:00:00.000</td><td>300</td><td>6</td><td>0</td><td>2003-07-23 00:00:00.000</td><td>nem túl jó</td></tr>",
                            "<tr><td>25</td><td>10</td><td>NULL</td><td>takarító</td><td>2003-07-29 00:00:00.000</td><td>250</td><td>4</td><td>1</td><td>2003-08-28 00:00:00.000</td><td>nem túl jó</td></tr>",
                            "<tr><td>26</td><td>10</td><td>NULL</td><td>takarító</td><td>2003-07-30 00:00:00.000</td><td>250</td><td>4</td><td>1</td><td>2003-08-29 00:00:00.000</td><td>nem túl jó</td></tr>",
                            "<tr><td>27</td><td>10</td><td>3</td><td>takarító</td><td>2003-07-31 00:00:00.000</td><td>300</td><td>4</td><td>1</td><td>2003-08-30 00:00:00.000</td><td>nem túl jó</td></tr>",
                            "<tr><td>28</td><td>10</td><td>3</td><td>takarító</td><td>2003-08-01 00:00:00.000</td><td>300</td><td>4</td><td>1</td><td>2003-08-31 00:00:00.000</td><td>nem túl jó</td></tr>",
                            "<tr><td>29</td><td>10</td><td>8</td><td>eladó</td><td>2003-09-12 00:00:00.000</td><td>300</td><td>6</td><td>1</td><td>2003-10-12 00:00:00.000</td><td>nem túl jó</td></tr>",
                            "<tr><td>30</td><td>10</td><td>8</td><td>eladó</td><td>2003-09-13 00:00:00.000</td><td>300</td><td>6</td><td>1</td><td>2003-10-13 00:00:00.000</td><td>nem túl jó</td></tr>",
                            "<tr><td>31</td><td>7</td><td>8</td><td>ruhatáros</td><td>2003-08-20 00:00:00.000</td><td>200</td><td>4</td><td>1</td><td>2003-09-19 00:00:00.000</td><td>nem túl jó</td></tr>",
                            "<tr><td>32</td><td>7</td><td>8</td><td>ruhatáros</td><td>2003-08-21 00:00:00.000</td><td>200</td><td>4</td><td>1</td><td>2003-09-20 00:00:00.000</td><td>nem túl jó</td></tr>",
                            "<tr><td>33</td><td>7</td><td>NULL</td><td>ruhatáros</td><td>2003-08-22 00:00:00.000</td><td>200</td><td>4</td><td>1</td><td>2003-09-21 00:00:00.000</td><td>nem túl jó</td></tr>",
                            "<tr><td>34</td><td>7</td><td>NULL</td><td>ruhatáros</td><td>2003-08-23 00:00:00.000</td><td>200</td><td>4</td><td>1</td><td>2003-09-22 00:00:00.000</td><td>nem túl jó</td></tr>",
                            "<tr><td>35</td><td>4</td><td>NULL</td><td>raktáros</td><td>2003-10-10 00:00:00.000</td><td>300</td><td>6</td><td>0</td><td>2003-11-09 00:00:00.000</td><td>nem túl jó</td></tr>",
                            "<tr><td>36</td><td>4</td><td>NULL</td><td>raktáros</td><td>2003-10-11 00:00:00.000</td><td>300</td><td>6</td><td>0</td><td>2003-11-10 00:00:00.000</td><td>nem túl jó</td></tr>",
                            "<tr><td>37</td><td>4</td><td>NULL</td><td>raktáros</td><td>2003-10-12 00:00:00.000</td><td>300</td><td>6</td><td>0</td><td>2003-11-11 00:00:00.000</td><td>nem túl jó</td></tr>",
                            "<tr><td>38</td><td>5</td><td>7</td><td>eladó</td><td>2003-06-05 00:00:00.000</td><td>400</td><td>4</td><td>0</td><td>2003-07-05 00:00:00.000</td><td>nem túl jó</td></tr>",
                            "<tr><td>39</td><td>5</td><td>7</td><td>eladó</td><td>2003-06-06 00:00:00.000</td><td>400</td><td>4</td><td>0</td><td>2003-07-06 00:00:00.000</td><td>nem túl jó</td></tr>",
                            "<tr><td>40</td><td>5</td><td>7</td><td>eladó</td><td>2003-06-07 00:00:00.000</td><td>400</td><td>4</td><td>0</td><td>2003-07-07 00:00:00.000</td><td>nem túl jó</td></tr>",
                            "<tr><td>41</td><td>11</td><td>NULL</td><td>eladó</td><td>2003-07-07 00:00:00.000</td><td>400</td><td>6</td><td>0</td><td>2003-08-06 00:00:00.000</td><td>nem túl jó</td></tr>",
                            "</table>"
                        ]
                    }
                }
            ],
            "execution_count": 11
        },
        {
            "cell_type": "markdown",
            "source": [
                "<span style=\"mso-spacerun:'yes';font-size:15.96pt;font-family:Arial;color:rgb(27,32,61);\">2003.12.31-n kérdezzük le a munka tábla tartalmát. Egy új oszlopban jelenítsük meg, hogy hány hónap telt el a dátum</span>\n",
                "\n",
                "<span style=\"mso-spacerun:'yes';font-size:15.96pt;font-family:Arial;color:rgb(27,32,61);\">oszlop értékéhez képest. Ahol ez meghaladja a 6 hónapot, ott egy másik új oszlopban írjuk ki, hogy ’Archiválandó’.</span>\n",
                "\n",
                "<span style=\"mso-spacerun:'yes';font-size:15.984pt;font-family:Arial;color:rgb(27,32,61);\">Az új oszlopok neve legyen ’Eltelt hónapok száma’, illetve ’Megjegyzés</span>"
            ],
            "metadata": {
                "language": "sql",
                "azdata_cell_guid": "b067fc92-3ed6-4fdb-9855-c5c6032b4968"
            },
            "attachments": {}
        },
        {
            "cell_type": "code",
            "source": [
                "select *,\r\n",
                "datediff(month, datum, '2003.12.31') as 'eltelt hónapok száma',\r\n",
                "iif( datediff(month, datum, '2003.12.31') > 6, 'archiválandó', '') as 'megjegyzés'\r\n",
                "from munka"
            ],
            "metadata": {
                "language": "sql",
                "azdata_cell_guid": "02742e42-608a-4df6-9f9c-c30a106dd378"
            },
            "outputs": [
                {
                    "output_type": "display_data",
                    "data": {
                        "text/html": "(41 rows affected)"
                    },
                    "metadata": {}
                },
                {
                    "output_type": "display_data",
                    "data": {
                        "text/html": "Total execution time: 00:00:00.162"
                    },
                    "metadata": {}
                },
                {
                    "output_type": "execute_result",
                    "metadata": {},
                    "execution_count": 18,
                    "data": {
                        "application/vnd.dataresource+json": {
                            "schema": {
                                "fields": [
                                    {
                                        "name": "munkaId"
                                    },
                                    {
                                        "name": "MhelyId"
                                    },
                                    {
                                        "name": "DiakAz"
                                    },
                                    {
                                        "name": "allas"
                                    },
                                    {
                                        "name": "datum"
                                    },
                                    {
                                        "name": "oradij"
                                    },
                                    {
                                        "name": "oraszam"
                                    },
                                    {
                                        "name": "kozepiskolas"
                                    },
                                    {
                                        "name": "eltelt hónapok száma"
                                    },
                                    {
                                        "name": "megjegyzés"
                                    }
                                ]
                            },
                            "data": [
                                {
                                    "munkaId": "1",
                                    "MhelyId": "1",
                                    "DiakAz": "1",
                                    "allas": "kézbesítő",
                                    "datum": "2003-07-02 00:00:00.000",
                                    "oradij": "400",
                                    "oraszam": "4",
                                    "kozepiskolas": "0",
                                    "eltelt hónapok száma": "5",
                                    "megjegyzés": ""
                                },
                                {
                                    "munkaId": "2",
                                    "MhelyId": "1",
                                    "DiakAz": "2",
                                    "allas": "ügyfélszolgálati munkatárs",
                                    "datum": "2003-07-03 00:00:00.000",
                                    "oradij": "300",
                                    "oraszam": "4",
                                    "kozepiskolas": "0",
                                    "eltelt hónapok száma": "5",
                                    "megjegyzés": ""
                                },
                                {
                                    "munkaId": "3",
                                    "MhelyId": "2",
                                    "DiakAz": "1",
                                    "allas": "kisegítő",
                                    "datum": "2003-07-01 00:00:00.000",
                                    "oradij": "500",
                                    "oraszam": "4",
                                    "kozepiskolas": "1",
                                    "eltelt hónapok száma": "5",
                                    "megjegyzés": ""
                                },
                                {
                                    "munkaId": "4",
                                    "MhelyId": "2",
                                    "DiakAz": "2",
                                    "allas": "eladó",
                                    "datum": "2003-07-01 00:00:00.000",
                                    "oradij": "350",
                                    "oraszam": "4",
                                    "kozepiskolas": "0",
                                    "eltelt hónapok száma": "5",
                                    "megjegyzés": ""
                                },
                                {
                                    "munkaId": "5",
                                    "MhelyId": "1",
                                    "DiakAz": "1",
                                    "allas": "kézbesítő",
                                    "datum": "2003-07-03 00:00:00.000",
                                    "oradij": "450",
                                    "oraszam": "6",
                                    "kozepiskolas": "0",
                                    "eltelt hónapok száma": "5",
                                    "megjegyzés": ""
                                },
                                {
                                    "munkaId": "6",
                                    "MhelyId": "1",
                                    "DiakAz": "2",
                                    "allas": "futár",
                                    "datum": "2003-07-06 00:00:00.000",
                                    "oradij": "300",
                                    "oraszam": "5",
                                    "kozepiskolas": "1",
                                    "eltelt hónapok száma": "5",
                                    "megjegyzés": ""
                                },
                                {
                                    "munkaId": "7",
                                    "MhelyId": "2",
                                    "DiakAz": "NULL",
                                    "allas": "eladó",
                                    "datum": "2003-07-07 00:00:00.000",
                                    "oradij": "400",
                                    "oraszam": "6",
                                    "kozepiskolas": "0",
                                    "eltelt hónapok száma": "5",
                                    "megjegyzés": ""
                                },
                                {
                                    "munkaId": "8",
                                    "MhelyId": "9",
                                    "DiakAz": "NULL",
                                    "allas": "kisegítő",
                                    "datum": "2003-06-19 00:00:00.000",
                                    "oradij": "300",
                                    "oraszam": "4",
                                    "kozepiskolas": "0",
                                    "eltelt hónapok száma": "6",
                                    "megjegyzés": ""
                                },
                                {
                                    "munkaId": "9",
                                    "MhelyId": "9",
                                    "DiakAz": "6",
                                    "allas": "takarító",
                                    "datum": "2003-06-19 00:00:00.000",
                                    "oradij": "400",
                                    "oraszam": "4",
                                    "kozepiskolas": "0",
                                    "eltelt hónapok száma": "6",
                                    "megjegyzés": ""
                                },
                                {
                                    "munkaId": "10",
                                    "MhelyId": "9",
                                    "DiakAz": "6",
                                    "allas": "takarító",
                                    "datum": "2003-06-20 00:00:00.000",
                                    "oradij": "400",
                                    "oraszam": "4",
                                    "kozepiskolas": "0",
                                    "eltelt hónapok száma": "6",
                                    "megjegyzés": ""
                                },
                                {
                                    "munkaId": "11",
                                    "MhelyId": "9",
                                    "DiakAz": "8",
                                    "allas": "kisegítő",
                                    "datum": "2003-06-21 00:00:00.000",
                                    "oradij": "300",
                                    "oraszam": "6",
                                    "kozepiskolas": "1",
                                    "eltelt hónapok száma": "6",
                                    "megjegyzés": ""
                                },
                                {
                                    "munkaId": "12",
                                    "MhelyId": "9",
                                    "DiakAz": "8",
                                    "allas": "kisegítő",
                                    "datum": "2003-06-22 00:00:00.000",
                                    "oradij": "300",
                                    "oraszam": "6",
                                    "kozepiskolas": "1",
                                    "eltelt hónapok száma": "6",
                                    "megjegyzés": ""
                                },
                                {
                                    "munkaId": "13",
                                    "MhelyId": "9",
                                    "DiakAz": "6",
                                    "allas": "takarító",
                                    "datum": "2003-06-23 00:00:00.000",
                                    "oradij": "400",
                                    "oraszam": "4",
                                    "kozepiskolas": "0",
                                    "eltelt hónapok száma": "6",
                                    "megjegyzés": ""
                                },
                                {
                                    "munkaId": "14",
                                    "MhelyId": "6",
                                    "DiakAz": "4",
                                    "allas": "ruhatáros",
                                    "datum": "2003-09-11 00:00:00.000",
                                    "oradij": "400",
                                    "oraszam": "4",
                                    "kozepiskolas": "0",
                                    "eltelt hónapok száma": "3",
                                    "megjegyzés": ""
                                },
                                {
                                    "munkaId": "15",
                                    "MhelyId": "6",
                                    "DiakAz": "7",
                                    "allas": "ruhatáros",
                                    "datum": "2003-09-11 00:00:00.000",
                                    "oradij": "400",
                                    "oraszam": "4",
                                    "kozepiskolas": "0",
                                    "eltelt hónapok száma": "3",
                                    "megjegyzés": ""
                                },
                                {
                                    "munkaId": "16",
                                    "MhelyId": "6",
                                    "DiakAz": "5",
                                    "allas": "pincér",
                                    "datum": "2003-06-11 00:00:00.000",
                                    "oradij": "450",
                                    "oraszam": "6",
                                    "kozepiskolas": "0",
                                    "eltelt hónapok száma": "6",
                                    "megjegyzés": ""
                                },
                                {
                                    "munkaId": "17",
                                    "MhelyId": "6",
                                    "DiakAz": "5",
                                    "allas": "pincér",
                                    "datum": "2003-06-12 00:00:00.000",
                                    "oradij": "450",
                                    "oraszam": "6",
                                    "kozepiskolas": "0",
                                    "eltelt hónapok száma": "6",
                                    "megjegyzés": ""
                                },
                                {
                                    "munkaId": "18",
                                    "MhelyId": "8",
                                    "DiakAz": "9",
                                    "allas": "eladó",
                                    "datum": "2003-07-21 00:00:00.000",
                                    "oradij": "500",
                                    "oraszam": "4",
                                    "kozepiskolas": "0",
                                    "eltelt hónapok száma": "5",
                                    "megjegyzés": ""
                                },
                                {
                                    "munkaId": "19",
                                    "MhelyId": "8",
                                    "DiakAz": "9",
                                    "allas": "eladó",
                                    "datum": "2003-07-22 00:00:00.000",
                                    "oradij": "500",
                                    "oraszam": "4",
                                    "kozepiskolas": "0",
                                    "eltelt hónapok száma": "5",
                                    "megjegyzés": ""
                                },
                                {
                                    "munkaId": "20",
                                    "MhelyId": "8",
                                    "DiakAz": "10",
                                    "allas": "takarító",
                                    "datum": "2003-08-10 00:00:00.000",
                                    "oradij": "350",
                                    "oraszam": "6",
                                    "kozepiskolas": "1",
                                    "eltelt hónapok száma": "4",
                                    "megjegyzés": ""
                                },
                                {
                                    "munkaId": "21",
                                    "MhelyId": "8",
                                    "DiakAz": "10",
                                    "allas": "takarító",
                                    "datum": "2003-08-11 00:00:00.000",
                                    "oradij": "350",
                                    "oraszam": "6",
                                    "kozepiskolas": "1",
                                    "eltelt hónapok száma": "4",
                                    "megjegyzés": ""
                                },
                                {
                                    "munkaId": "22",
                                    "MhelyId": "11",
                                    "DiakAz": "5",
                                    "allas": "eladó",
                                    "datum": "2003-05-10 00:00:00.000",
                                    "oradij": "400",
                                    "oraszam": "4",
                                    "kozepiskolas": "0",
                                    "eltelt hónapok száma": "7",
                                    "megjegyzés": "archiválandó"
                                },
                                {
                                    "munkaId": "23",
                                    "MhelyId": "11",
                                    "DiakAz": "6",
                                    "allas": "raktáros",
                                    "datum": "2003-05-20 00:00:00.000",
                                    "oradij": "300",
                                    "oraszam": "4",
                                    "kozepiskolas": "0",
                                    "eltelt hónapok száma": "7",
                                    "megjegyzés": "archiválandó"
                                },
                                {
                                    "munkaId": "24",
                                    "MhelyId": "11",
                                    "DiakAz": "5",
                                    "allas": "eladó",
                                    "datum": "2003-06-23 00:00:00.000",
                                    "oradij": "300",
                                    "oraszam": "6",
                                    "kozepiskolas": "0",
                                    "eltelt hónapok száma": "6",
                                    "megjegyzés": ""
                                },
                                {
                                    "munkaId": "25",
                                    "MhelyId": "10",
                                    "DiakAz": "NULL",
                                    "allas": "takarító",
                                    "datum": "2003-07-29 00:00:00.000",
                                    "oradij": "250",
                                    "oraszam": "4",
                                    "kozepiskolas": "1",
                                    "eltelt hónapok száma": "5",
                                    "megjegyzés": ""
                                },
                                {
                                    "munkaId": "26",
                                    "MhelyId": "10",
                                    "DiakAz": "NULL",
                                    "allas": "takarító",
                                    "datum": "2003-07-30 00:00:00.000",
                                    "oradij": "250",
                                    "oraszam": "4",
                                    "kozepiskolas": "1",
                                    "eltelt hónapok száma": "5",
                                    "megjegyzés": ""
                                },
                                {
                                    "munkaId": "27",
                                    "MhelyId": "10",
                                    "DiakAz": "3",
                                    "allas": "takarító",
                                    "datum": "2003-07-31 00:00:00.000",
                                    "oradij": "300",
                                    "oraszam": "4",
                                    "kozepiskolas": "1",
                                    "eltelt hónapok száma": "5",
                                    "megjegyzés": ""
                                },
                                {
                                    "munkaId": "28",
                                    "MhelyId": "10",
                                    "DiakAz": "3",
                                    "allas": "takarító",
                                    "datum": "2003-08-01 00:00:00.000",
                                    "oradij": "300",
                                    "oraszam": "4",
                                    "kozepiskolas": "1",
                                    "eltelt hónapok száma": "4",
                                    "megjegyzés": ""
                                },
                                {
                                    "munkaId": "29",
                                    "MhelyId": "10",
                                    "DiakAz": "8",
                                    "allas": "eladó",
                                    "datum": "2003-09-12 00:00:00.000",
                                    "oradij": "300",
                                    "oraszam": "6",
                                    "kozepiskolas": "1",
                                    "eltelt hónapok száma": "3",
                                    "megjegyzés": ""
                                },
                                {
                                    "munkaId": "30",
                                    "MhelyId": "10",
                                    "DiakAz": "8",
                                    "allas": "eladó",
                                    "datum": "2003-09-13 00:00:00.000",
                                    "oradij": "300",
                                    "oraszam": "6",
                                    "kozepiskolas": "1",
                                    "eltelt hónapok száma": "3",
                                    "megjegyzés": ""
                                },
                                {
                                    "munkaId": "31",
                                    "MhelyId": "7",
                                    "DiakAz": "8",
                                    "allas": "ruhatáros",
                                    "datum": "2003-08-20 00:00:00.000",
                                    "oradij": "200",
                                    "oraszam": "4",
                                    "kozepiskolas": "1",
                                    "eltelt hónapok száma": "4",
                                    "megjegyzés": ""
                                },
                                {
                                    "munkaId": "32",
                                    "MhelyId": "7",
                                    "DiakAz": "8",
                                    "allas": "ruhatáros",
                                    "datum": "2003-08-21 00:00:00.000",
                                    "oradij": "200",
                                    "oraszam": "4",
                                    "kozepiskolas": "1",
                                    "eltelt hónapok száma": "4",
                                    "megjegyzés": ""
                                },
                                {
                                    "munkaId": "33",
                                    "MhelyId": "7",
                                    "DiakAz": "NULL",
                                    "allas": "ruhatáros",
                                    "datum": "2003-08-22 00:00:00.000",
                                    "oradij": "200",
                                    "oraszam": "4",
                                    "kozepiskolas": "1",
                                    "eltelt hónapok száma": "4",
                                    "megjegyzés": ""
                                },
                                {
                                    "munkaId": "34",
                                    "MhelyId": "7",
                                    "DiakAz": "NULL",
                                    "allas": "ruhatáros",
                                    "datum": "2003-08-23 00:00:00.000",
                                    "oradij": "200",
                                    "oraszam": "4",
                                    "kozepiskolas": "1",
                                    "eltelt hónapok száma": "4",
                                    "megjegyzés": ""
                                },
                                {
                                    "munkaId": "35",
                                    "MhelyId": "4",
                                    "DiakAz": "NULL",
                                    "allas": "raktáros",
                                    "datum": "2003-10-10 00:00:00.000",
                                    "oradij": "300",
                                    "oraszam": "6",
                                    "kozepiskolas": "0",
                                    "eltelt hónapok száma": "2",
                                    "megjegyzés": ""
                                },
                                {
                                    "munkaId": "36",
                                    "MhelyId": "4",
                                    "DiakAz": "NULL",
                                    "allas": "raktáros",
                                    "datum": "2003-10-11 00:00:00.000",
                                    "oradij": "300",
                                    "oraszam": "6",
                                    "kozepiskolas": "0",
                                    "eltelt hónapok száma": "2",
                                    "megjegyzés": ""
                                },
                                {
                                    "munkaId": "37",
                                    "MhelyId": "4",
                                    "DiakAz": "NULL",
                                    "allas": "raktáros",
                                    "datum": "2003-10-12 00:00:00.000",
                                    "oradij": "300",
                                    "oraszam": "6",
                                    "kozepiskolas": "0",
                                    "eltelt hónapok száma": "2",
                                    "megjegyzés": ""
                                },
                                {
                                    "munkaId": "38",
                                    "MhelyId": "5",
                                    "DiakAz": "7",
                                    "allas": "eladó",
                                    "datum": "2003-06-05 00:00:00.000",
                                    "oradij": "400",
                                    "oraszam": "4",
                                    "kozepiskolas": "0",
                                    "eltelt hónapok száma": "6",
                                    "megjegyzés": ""
                                },
                                {
                                    "munkaId": "39",
                                    "MhelyId": "5",
                                    "DiakAz": "7",
                                    "allas": "eladó",
                                    "datum": "2003-06-06 00:00:00.000",
                                    "oradij": "400",
                                    "oraszam": "4",
                                    "kozepiskolas": "0",
                                    "eltelt hónapok száma": "6",
                                    "megjegyzés": ""
                                },
                                {
                                    "munkaId": "40",
                                    "MhelyId": "5",
                                    "DiakAz": "7",
                                    "allas": "eladó",
                                    "datum": "2003-06-07 00:00:00.000",
                                    "oradij": "400",
                                    "oraszam": "4",
                                    "kozepiskolas": "0",
                                    "eltelt hónapok száma": "6",
                                    "megjegyzés": ""
                                },
                                {
                                    "munkaId": "41",
                                    "MhelyId": "11",
                                    "DiakAz": "NULL",
                                    "allas": "eladó",
                                    "datum": "2003-07-07 00:00:00.000",
                                    "oradij": "400",
                                    "oraszam": "6",
                                    "kozepiskolas": "0",
                                    "eltelt hónapok száma": "5",
                                    "megjegyzés": ""
                                }
                            ]
                        },
                        "text/html": [
                            "<table>",
                            "<tr><th>munkaId</th><th>MhelyId</th><th>DiakAz</th><th>allas</th><th>datum</th><th>oradij</th><th>oraszam</th><th>kozepiskolas</th><th>eltelt hónapok száma</th><th>megjegyzés</th></tr>",
                            "<tr><td>1</td><td>1</td><td>1</td><td>kézbesítő</td><td>2003-07-02 00:00:00.000</td><td>400</td><td>4</td><td>0</td><td>5</td><td></td></tr>",
                            "<tr><td>2</td><td>1</td><td>2</td><td>ügyfélszolgálati munkatárs</td><td>2003-07-03 00:00:00.000</td><td>300</td><td>4</td><td>0</td><td>5</td><td></td></tr>",
                            "<tr><td>3</td><td>2</td><td>1</td><td>kisegítő</td><td>2003-07-01 00:00:00.000</td><td>500</td><td>4</td><td>1</td><td>5</td><td></td></tr>",
                            "<tr><td>4</td><td>2</td><td>2</td><td>eladó</td><td>2003-07-01 00:00:00.000</td><td>350</td><td>4</td><td>0</td><td>5</td><td></td></tr>",
                            "<tr><td>5</td><td>1</td><td>1</td><td>kézbesítő</td><td>2003-07-03 00:00:00.000</td><td>450</td><td>6</td><td>0</td><td>5</td><td></td></tr>",
                            "<tr><td>6</td><td>1</td><td>2</td><td>futár</td><td>2003-07-06 00:00:00.000</td><td>300</td><td>5</td><td>1</td><td>5</td><td></td></tr>",
                            "<tr><td>7</td><td>2</td><td>NULL</td><td>eladó</td><td>2003-07-07 00:00:00.000</td><td>400</td><td>6</td><td>0</td><td>5</td><td></td></tr>",
                            "<tr><td>8</td><td>9</td><td>NULL</td><td>kisegítő</td><td>2003-06-19 00:00:00.000</td><td>300</td><td>4</td><td>0</td><td>6</td><td></td></tr>",
                            "<tr><td>9</td><td>9</td><td>6</td><td>takarító</td><td>2003-06-19 00:00:00.000</td><td>400</td><td>4</td><td>0</td><td>6</td><td></td></tr>",
                            "<tr><td>10</td><td>9</td><td>6</td><td>takarító</td><td>2003-06-20 00:00:00.000</td><td>400</td><td>4</td><td>0</td><td>6</td><td></td></tr>",
                            "<tr><td>11</td><td>9</td><td>8</td><td>kisegítő</td><td>2003-06-21 00:00:00.000</td><td>300</td><td>6</td><td>1</td><td>6</td><td></td></tr>",
                            "<tr><td>12</td><td>9</td><td>8</td><td>kisegítő</td><td>2003-06-22 00:00:00.000</td><td>300</td><td>6</td><td>1</td><td>6</td><td></td></tr>",
                            "<tr><td>13</td><td>9</td><td>6</td><td>takarító</td><td>2003-06-23 00:00:00.000</td><td>400</td><td>4</td><td>0</td><td>6</td><td></td></tr>",
                            "<tr><td>14</td><td>6</td><td>4</td><td>ruhatáros</td><td>2003-09-11 00:00:00.000</td><td>400</td><td>4</td><td>0</td><td>3</td><td></td></tr>",
                            "<tr><td>15</td><td>6</td><td>7</td><td>ruhatáros</td><td>2003-09-11 00:00:00.000</td><td>400</td><td>4</td><td>0</td><td>3</td><td></td></tr>",
                            "<tr><td>16</td><td>6</td><td>5</td><td>pincér</td><td>2003-06-11 00:00:00.000</td><td>450</td><td>6</td><td>0</td><td>6</td><td></td></tr>",
                            "<tr><td>17</td><td>6</td><td>5</td><td>pincér</td><td>2003-06-12 00:00:00.000</td><td>450</td><td>6</td><td>0</td><td>6</td><td></td></tr>",
                            "<tr><td>18</td><td>8</td><td>9</td><td>eladó</td><td>2003-07-21 00:00:00.000</td><td>500</td><td>4</td><td>0</td><td>5</td><td></td></tr>",
                            "<tr><td>19</td><td>8</td><td>9</td><td>eladó</td><td>2003-07-22 00:00:00.000</td><td>500</td><td>4</td><td>0</td><td>5</td><td></td></tr>",
                            "<tr><td>20</td><td>8</td><td>10</td><td>takarító</td><td>2003-08-10 00:00:00.000</td><td>350</td><td>6</td><td>1</td><td>4</td><td></td></tr>",
                            "<tr><td>21</td><td>8</td><td>10</td><td>takarító</td><td>2003-08-11 00:00:00.000</td><td>350</td><td>6</td><td>1</td><td>4</td><td></td></tr>",
                            "<tr><td>22</td><td>11</td><td>5</td><td>eladó</td><td>2003-05-10 00:00:00.000</td><td>400</td><td>4</td><td>0</td><td>7</td><td>archiválandó</td></tr>",
                            "<tr><td>23</td><td>11</td><td>6</td><td>raktáros</td><td>2003-05-20 00:00:00.000</td><td>300</td><td>4</td><td>0</td><td>7</td><td>archiválandó</td></tr>",
                            "<tr><td>24</td><td>11</td><td>5</td><td>eladó</td><td>2003-06-23 00:00:00.000</td><td>300</td><td>6</td><td>0</td><td>6</td><td></td></tr>",
                            "<tr><td>25</td><td>10</td><td>NULL</td><td>takarító</td><td>2003-07-29 00:00:00.000</td><td>250</td><td>4</td><td>1</td><td>5</td><td></td></tr>",
                            "<tr><td>26</td><td>10</td><td>NULL</td><td>takarító</td><td>2003-07-30 00:00:00.000</td><td>250</td><td>4</td><td>1</td><td>5</td><td></td></tr>",
                            "<tr><td>27</td><td>10</td><td>3</td><td>takarító</td><td>2003-07-31 00:00:00.000</td><td>300</td><td>4</td><td>1</td><td>5</td><td></td></tr>",
                            "<tr><td>28</td><td>10</td><td>3</td><td>takarító</td><td>2003-08-01 00:00:00.000</td><td>300</td><td>4</td><td>1</td><td>4</td><td></td></tr>",
                            "<tr><td>29</td><td>10</td><td>8</td><td>eladó</td><td>2003-09-12 00:00:00.000</td><td>300</td><td>6</td><td>1</td><td>3</td><td></td></tr>",
                            "<tr><td>30</td><td>10</td><td>8</td><td>eladó</td><td>2003-09-13 00:00:00.000</td><td>300</td><td>6</td><td>1</td><td>3</td><td></td></tr>",
                            "<tr><td>31</td><td>7</td><td>8</td><td>ruhatáros</td><td>2003-08-20 00:00:00.000</td><td>200</td><td>4</td><td>1</td><td>4</td><td></td></tr>",
                            "<tr><td>32</td><td>7</td><td>8</td><td>ruhatáros</td><td>2003-08-21 00:00:00.000</td><td>200</td><td>4</td><td>1</td><td>4</td><td></td></tr>",
                            "<tr><td>33</td><td>7</td><td>NULL</td><td>ruhatáros</td><td>2003-08-22 00:00:00.000</td><td>200</td><td>4</td><td>1</td><td>4</td><td></td></tr>",
                            "<tr><td>34</td><td>7</td><td>NULL</td><td>ruhatáros</td><td>2003-08-23 00:00:00.000</td><td>200</td><td>4</td><td>1</td><td>4</td><td></td></tr>",
                            "<tr><td>35</td><td>4</td><td>NULL</td><td>raktáros</td><td>2003-10-10 00:00:00.000</td><td>300</td><td>6</td><td>0</td><td>2</td><td></td></tr>",
                            "<tr><td>36</td><td>4</td><td>NULL</td><td>raktáros</td><td>2003-10-11 00:00:00.000</td><td>300</td><td>6</td><td>0</td><td>2</td><td></td></tr>",
                            "<tr><td>37</td><td>4</td><td>NULL</td><td>raktáros</td><td>2003-10-12 00:00:00.000</td><td>300</td><td>6</td><td>0</td><td>2</td><td></td></tr>",
                            "<tr><td>38</td><td>5</td><td>7</td><td>eladó</td><td>2003-06-05 00:00:00.000</td><td>400</td><td>4</td><td>0</td><td>6</td><td></td></tr>",
                            "<tr><td>39</td><td>5</td><td>7</td><td>eladó</td><td>2003-06-06 00:00:00.000</td><td>400</td><td>4</td><td>0</td><td>6</td><td></td></tr>",
                            "<tr><td>40</td><td>5</td><td>7</td><td>eladó</td><td>2003-06-07 00:00:00.000</td><td>400</td><td>4</td><td>0</td><td>6</td><td></td></tr>",
                            "<tr><td>41</td><td>11</td><td>NULL</td><td>eladó</td><td>2003-07-07 00:00:00.000</td><td>400</td><td>6</td><td>0</td><td>5</td><td></td></tr>",
                            "</table>"
                        ]
                    }
                }
            ],
            "execution_count": 18
        },
        {
            "cell_type": "markdown",
            "source": [
                "<span style=\"mso-spacerun:'yes';font-size:15.96pt;font-family:Arial;color:rgb(27,32,61);\">Listázzuk a diák tábla oszlopait! Két új oszlopban jelenítsük meg a vezetéknevet és a keresztnevet is!</span>"
            ],
            "metadata": {
                "azdata_cell_guid": "e36c68ce-f56d-46a1-9cd8-c00c2441ff28"
            },
            "attachments": {}
        },
        {
            "cell_type": "code",
            "source": [
                "select *,\r\n",
                "    left(nev, charindex(' ', nev)-1) as 'vezetéknév',\r\n",
                "    right(nev, len(nev)-charindex(' ', nev)) as 'keresztnév'\r\n",
                "from diak"
            ],
            "metadata": {
                "azdata_cell_guid": "e5d8717e-5223-4464-8148-9860ef32a16b",
                "language": "sql"
            },
            "outputs": [
                {
                    "output_type": "display_data",
                    "data": {
                        "text/html": "(10 rows affected)"
                    },
                    "metadata": {}
                },
                {
                    "output_type": "display_data",
                    "data": {
                        "text/html": "Total execution time: 00:00:00.107"
                    },
                    "metadata": {}
                },
                {
                    "output_type": "execute_result",
                    "metadata": {},
                    "execution_count": 26,
                    "data": {
                        "application/vnd.dataresource+json": {
                            "schema": {
                                "fields": [
                                    {
                                        "name": "DiakAz"
                                    },
                                    {
                                        "name": "Nev"
                                    },
                                    {
                                        "name": "Szulido"
                                    },
                                    {
                                        "name": "vezetéknév"
                                    },
                                    {
                                        "name": "keresztnév"
                                    }
                                ]
                            },
                            "data": [
                                {
                                    "DiakAz": "1",
                                    "Nev": "Kos Péter",
                                    "Szulido": "1987-11-05 00:00:00.000",
                                    "vezetéknév": "Kos",
                                    "keresztnév": "Péter"
                                },
                                {
                                    "DiakAz": "2",
                                    "Nev": "Port Imre",
                                    "Szulido": "1990-05-05 00:00:00.000",
                                    "vezetéknév": "Port",
                                    "keresztnév": "Imre"
                                },
                                {
                                    "DiakAz": "3",
                                    "Nev": "Kovács Imre",
                                    "Szulido": "1984-03-02 00:00:00.000",
                                    "vezetéknév": "Kovács",
                                    "keresztnév": "Imre"
                                },
                                {
                                    "DiakAz": "4",
                                    "Nev": "Horváth Emil",
                                    "Szulido": "1988-05-02 00:00:00.000",
                                    "vezetéknév": "Horváth",
                                    "keresztnév": "Emil"
                                },
                                {
                                    "DiakAz": "5",
                                    "Nev": "Kapos Petra",
                                    "Szulido": "1985-12-23 00:00:00.000",
                                    "vezetéknév": "Kapos",
                                    "keresztnév": "Petra"
                                },
                                {
                                    "DiakAz": "6",
                                    "Nev": "Csóka Anna",
                                    "Szulido": "1981-11-30 00:00:00.000",
                                    "vezetéknév": "Csóka",
                                    "keresztnév": "Anna"
                                },
                                {
                                    "DiakAz": "7",
                                    "Nev": "Nyúl Tamás",
                                    "Szulido": "1988-02-16 00:00:00.000",
                                    "vezetéknév": "Nyúl",
                                    "keresztnév": "Tamás"
                                },
                                {
                                    "DiakAz": "8",
                                    "Nev": "Ordasi Emma",
                                    "Szulido": "1989-01-03 00:00:00.000",
                                    "vezetéknév": "Ordasi",
                                    "keresztnév": "Emma"
                                },
                                {
                                    "DiakAz": "9",
                                    "Nev": "Koppány Olga",
                                    "Szulido": "1984-02-28 00:00:00.000",
                                    "vezetéknév": "Koppány",
                                    "keresztnév": "Olga"
                                },
                                {
                                    "DiakAz": "10",
                                    "Nev": "Kozma Patrícia",
                                    "Szulido": "1983-06-01 00:00:00.000",
                                    "vezetéknév": "Kozma",
                                    "keresztnév": "Patrícia"
                                }
                            ]
                        },
                        "text/html": [
                            "<table>",
                            "<tr><th>DiakAz</th><th>Nev</th><th>Szulido</th><th>vezetéknév</th><th>keresztnév</th></tr>",
                            "<tr><td>1</td><td>Kos Péter</td><td>1987-11-05 00:00:00.000</td><td>Kos</td><td>Péter</td></tr>",
                            "<tr><td>2</td><td>Port Imre</td><td>1990-05-05 00:00:00.000</td><td>Port</td><td>Imre</td></tr>",
                            "<tr><td>3</td><td>Kovács Imre</td><td>1984-03-02 00:00:00.000</td><td>Kovács</td><td>Imre</td></tr>",
                            "<tr><td>4</td><td>Horváth Emil</td><td>1988-05-02 00:00:00.000</td><td>Horváth</td><td>Emil</td></tr>",
                            "<tr><td>5</td><td>Kapos Petra</td><td>1985-12-23 00:00:00.000</td><td>Kapos</td><td>Petra</td></tr>",
                            "<tr><td>6</td><td>Csóka Anna</td><td>1981-11-30 00:00:00.000</td><td>Csóka</td><td>Anna</td></tr>",
                            "<tr><td>7</td><td>Nyúl Tamás</td><td>1988-02-16 00:00:00.000</td><td>Nyúl</td><td>Tamás</td></tr>",
                            "<tr><td>8</td><td>Ordasi Emma</td><td>1989-01-03 00:00:00.000</td><td>Ordasi</td><td>Emma</td></tr>",
                            "<tr><td>9</td><td>Koppány Olga</td><td>1984-02-28 00:00:00.000</td><td>Koppány</td><td>Olga</td></tr>",
                            "<tr><td>10</td><td>Kozma Patrícia</td><td>1983-06-01 00:00:00.000</td><td>Kozma</td><td>Patrícia</td></tr>",
                            "</table>"
                        ]
                    }
                }
            ],
            "execution_count": 26
        }
    ]
}