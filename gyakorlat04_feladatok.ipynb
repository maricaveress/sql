{
    "metadata": {
        "kernelspec": {
            "name": "SQL",
            "display_name": "SQL",
            "language": "sql"
        },
        "language_info": {
            "name": "sql",
            "version": ""
        }
    },
    "nbformat_minor": 2,
    "nbformat": 4,
    "cells": [
        {
            "cell_type": "markdown",
            "source": [
                "1. <span style=\"background-color: rgb(255, 255, 255); color: rgb(0, 0, 0); font-family: &quot;Open Sans&quot;, sans-serif; font-size: 14.44px;\">Készítsünk listát arról, hogy ügyfelenként (LOGIN), azon belül szállítási módonként hány megrendelés történt!&nbsp;</span> \n",
                "\n",
                "a. A lista tartalmazza a részösszegeket és a végösszeget is!  \n",
                "b. Használjuk a ROLLUP záradékot!"
            ],
            "metadata": {
                "azdata_cell_guid": "363cd270-6577-449b-9c89-d4b7c7972d52"
            },
            "attachments": {}
        },
        {
            "cell_type": "code",
            "source": [
                "select LOGIN as 'ügyfél',\r\n",
                "    SZALL_MOD as 'szállítási mód',\r\n",
                "    count(*) as 'megrendelések száma'\r\n",
                "from rendeles\r\n",
                "group by ROLLUP (LOGIN, SZALL_MOD)"
            ],
            "metadata": {
                "azdata_cell_guid": "6ab9f633-a3b5-48c9-a1dc-4fb8235ae85b",
                "language": "sql"
            },
            "outputs": [
                {
                    "output_type": "display_data",
                    "data": {
                        "text/html": "(763 rows affected)"
                    },
                    "metadata": {}
                },
                {
                    "output_type": "display_data",
                    "data": {
                        "text/html": "Total execution time: 00:00:00.159"
                    },
                    "metadata": {}
                },
                {
                    "output_type": "execute_result",
                    "metadata": {},
                    "execution_count": 1,
                    "data": {
                        "application/vnd.dataresource+json": {
                            "schema": {
                                "fields": [
                                    {
                                        "name": "ügyfél"
                                    },
                                    {
                                        "name": "szállítási mód"
                                    },
                                    {
                                        "name": "megrendelések száma"
                                    }
                                ]
                            },
                            "data": [
                                {
                                    "ügyfél": "adam1",
                                    "szállítási mód": "GLS",
                                    "megrendelések száma": "129"
                                },
                                {
                                    "ügyfél": "adam1",
                                    "szállítási mód": "Posta",
                                    "megrendelések száma": "132"
                                },
                                {
                                    "ügyfél": "adam1",
                                    "szállítási mód": "Személyes átvétel",
                                    "megrendelések száma": "131"
                                },
                                {
                                    "ügyfél": "adam1",
                                    "szállítási mód": "NULL",
                                    "megrendelések száma": "392"
                                },
                                {
                                    "ügyfél": "adam3",
                                    "szállítási mód": "GLS",
                                    "megrendelések száma": "10"
                                },
                                {
                                    "ügyfél": "adam3",
                                    "szállítási mód": "Posta",
                                    "megrendelések száma": "3"
                                },
                                {
                                    "ügyfél": "adam3",
                                    "szállítási mód": "Személyes átvétel",
                                    "megrendelések száma": "2"
                                },
                                {
                                    "ügyfél": "adam3",
                                    "szállítási mód": "NULL",
                                    "megrendelések száma": "15"
                                },
                                {
                                    "ügyfél": "adam4",
                                    "szállítási mód": "GLS",
                                    "megrendelések száma": "12"
                                },
                                {
                                    "ügyfél": "adam4",
                                    "szállítási mód": "Posta",
                                    "megrendelések száma": "6"
                                },
                                {
                                    "ügyfél": "adam4",
                                    "szállítási mód": "Személyes átvétel",
                                    "megrendelések száma": "11"
                                },
                                {
                                    "ügyfél": "adam4",
                                    "szállítási mód": "NULL",
                                    "megrendelések száma": "29"
                                },
                                {
                                    "ügyfél": "agnes",
                                    "szállítási mód": "GLS",
                                    "megrendelések száma": "144"
                                },
                                {
                                    "ügyfél": "agnes",
                                    "szállítási mód": "Posta",
                                    "megrendelések száma": "130"
                                },
                                {
                                    "ügyfél": "agnes",
                                    "szállítási mód": "Személyes átvétel",
                                    "megrendelések száma": "144"
                                },
                                {
                                    "ügyfél": "agnes",
                                    "szállítási mód": "NULL",
                                    "megrendelések száma": "418"
                                },
                                {
                                    "ügyfél": "agnes3",
                                    "szállítási mód": "GLS",
                                    "megrendelések száma": "148"
                                },
                                {
                                    "ügyfél": "agnes3",
                                    "szállítási mód": "Posta",
                                    "megrendelések száma": "146"
                                },
                                {
                                    "ügyfél": "agnes3",
                                    "szállítási mód": "Személyes átvétel",
                                    "megrendelések száma": "136"
                                },
                                {
                                    "ügyfél": "agnes3",
                                    "szállítási mód": "NULL",
                                    "megrendelések száma": "430"
                                },
                                {
                                    "ügyfél": "AGNESH",
                                    "szállítási mód": "GLS",
                                    "megrendelések száma": "2"
                                },
                                {
                                    "ügyfél": "AGNESH",
                                    "szállítási mód": "Posta",
                                    "megrendelések száma": "3"
                                },
                                {
                                    "ügyfél": "AGNESH",
                                    "szállítási mód": "Személyes átvétel",
                                    "megrendelések száma": "6"
                                },
                                {
                                    "ügyfél": "AGNESH",
                                    "szállítási mód": "NULL",
                                    "megrendelések száma": "11"
                                },
                                {
                                    "ügyfél": "AGNESK",
                                    "szállítási mód": "GLS",
                                    "megrendelések száma": "1"
                                },
                                {
                                    "ügyfél": "AGNESK",
                                    "szállítási mód": "Posta",
                                    "megrendelések száma": "7"
                                },
                                {
                                    "ügyfél": "AGNESK",
                                    "szállítási mód": "Személyes átvétel",
                                    "megrendelések száma": "7"
                                },
                                {
                                    "ügyfél": "AGNESK",
                                    "szállítási mód": "NULL",
                                    "megrendelések száma": "15"
                                },
                                {
                                    "ügyfél": "akos",
                                    "szállítási mód": "GLS",
                                    "megrendelések száma": "146"
                                },
                                {
                                    "ügyfél": "akos",
                                    "szállítási mód": "Posta",
                                    "megrendelések száma": "143"
                                },
                                {
                                    "ügyfél": "akos",
                                    "szállítási mód": "Személyes átvétel",
                                    "megrendelések száma": "140"
                                },
                                {
                                    "ügyfél": "akos",
                                    "szállítási mód": "NULL",
                                    "megrendelések száma": "429"
                                },
                                {
                                    "ügyfél": "aladar",
                                    "szállítási mód": "GLS",
                                    "megrendelések száma": "156"
                                },
                                {
                                    "ügyfél": "aladar",
                                    "szállítási mód": "Posta",
                                    "megrendelések száma": "134"
                                },
                                {
                                    "ügyfél": "aladar",
                                    "szállítási mód": "Személyes átvétel",
                                    "megrendelések száma": "118"
                                },
                                {
                                    "ügyfél": "aladar",
                                    "szállítási mód": "NULL",
                                    "megrendelések száma": "408"
                                },
                                {
                                    "ügyfél": "alexandra",
                                    "szállítási mód": "GLS",
                                    "megrendelések száma": "5"
                                },
                                {
                                    "ügyfél": "alexandra",
                                    "szállítási mód": "Posta",
                                    "megrendelések száma": "9"
                                },
                                {
                                    "ügyfél": "alexandra",
                                    "szállítási mód": "Személyes átvétel",
                                    "megrendelések száma": "5"
                                },
                                {
                                    "ügyfél": "alexandra",
                                    "szállítási mód": "NULL",
                                    "megrendelések száma": "19"
                                },
                                {
                                    "ügyfél": "andi",
                                    "szállítási mód": "GLS",
                                    "megrendelések száma": "7"
                                },
                                {
                                    "ügyfél": "andi",
                                    "szállítási mód": "Posta",
                                    "megrendelések száma": "4"
                                },
                                {
                                    "ügyfél": "andi",
                                    "szállítási mód": "Személyes átvétel",
                                    "megrendelések száma": "7"
                                },
                                {
                                    "ügyfél": "andi",
                                    "szállítási mód": "NULL",
                                    "megrendelések száma": "18"
                                },
                                {
                                    "ügyfél": "andras2",
                                    "szállítási mód": "GLS",
                                    "megrendelések száma": "4"
                                },
                                {
                                    "ügyfél": "andras2",
                                    "szállítási mód": "Posta",
                                    "megrendelések száma": "7"
                                },
                                {
                                    "ügyfél": "andras2",
                                    "szállítási mód": "Személyes átvétel",
                                    "megrendelések száma": "11"
                                },
                                {
                                    "ügyfél": "andras2",
                                    "szállítási mód": "NULL",
                                    "megrendelések száma": "22"
                                },
                                {
                                    "ügyfél": "andras21",
                                    "szállítási mód": "GLS",
                                    "megrendelések száma": "140"
                                },
                                {
                                    "ügyfél": "andras21",
                                    "szállítási mód": "Posta",
                                    "megrendelések száma": "124"
                                },
                                {
                                    "ügyfél": "andras21",
                                    "szállítási mód": "Személyes átvétel",
                                    "megrendelések száma": "126"
                                },
                                {
                                    "ügyfél": "andras21",
                                    "szállítási mód": "NULL",
                                    "megrendelések száma": "390"
                                },
                                {
                                    "ügyfél": "andras3",
                                    "szállítási mód": "GLS",
                                    "megrendelések száma": "3"
                                },
                                {
                                    "ügyfél": "andras3",
                                    "szállítási mód": "Posta",
                                    "megrendelések száma": "1"
                                },
                                {
                                    "ügyfél": "andras3",
                                    "szállítási mód": "Személyes átvétel",
                                    "megrendelések száma": "5"
                                },
                                {
                                    "ügyfél": "andras3",
                                    "szállítási mód": "NULL",
                                    "megrendelések száma": "9"
                                },
                                {
                                    "ügyfél": "andras4",
                                    "szállítási mód": "GLS",
                                    "megrendelések száma": "4"
                                },
                                {
                                    "ügyfél": "andras4",
                                    "szállítási mód": "Posta",
                                    "megrendelések száma": "4"
                                },
                                {
                                    "ügyfél": "andras4",
                                    "szállítási mód": "Személyes átvétel",
                                    "megrendelések száma": "4"
                                },
                                {
                                    "ügyfél": "andras4",
                                    "szállítási mód": "NULL",
                                    "megrendelések száma": "12"
                                },
                                {
                                    "ügyfél": "andras41",
                                    "szállítási mód": "GLS",
                                    "megrendelések száma": "149"
                                },
                                {
                                    "ügyfél": "andras41",
                                    "szállítási mód": "Posta",
                                    "megrendelések száma": "137"
                                },
                                {
                                    "ügyfél": "andras41",
                                    "szállítási mód": "Személyes átvétel",
                                    "megrendelések száma": "133"
                                },
                                {
                                    "ügyfél": "andras41",
                                    "szállítási mód": "NULL",
                                    "megrendelések száma": "419"
                                },
                                {
                                    "ügyfél": "ANDRASE",
                                    "szállítási mód": "GLS",
                                    "megrendelések száma": "159"
                                },
                                {
                                    "ügyfél": "ANDRASE",
                                    "szállítási mód": "Posta",
                                    "megrendelések száma": "141"
                                },
                                {
                                    "ügyfél": "ANDRASE",
                                    "szállítási mód": "Személyes átvétel",
                                    "megrendelések száma": "136"
                                },
                                {
                                    "ügyfél": "ANDRASE",
                                    "szállítási mód": "NULL",
                                    "megrendelések száma": "436"
                                },
                                {
                                    "ügyfél": "ANDRASN",
                                    "szállítási mód": "GLS",
                                    "megrendelések száma": "10"
                                },
                                {
                                    "ügyfél": "ANDRASN",
                                    "szállítási mód": "Posta",
                                    "megrendelések száma": "9"
                                },
                                {
                                    "ügyfél": "ANDRASN",
                                    "szállítási mód": "Személyes átvétel",
                                    "megrendelések száma": "5"
                                },
                                {
                                    "ügyfél": "ANDRASN",
                                    "szállítási mód": "NULL",
                                    "megrendelések száma": "24"
                                },
                                {
                                    "ügyfél": "andrea",
                                    "szállítási mód": "GLS",
                                    "megrendelések száma": "12"
                                },
                                {
                                    "ügyfél": "andrea",
                                    "szállítási mód": "Posta",
                                    "megrendelések száma": "4"
                                },
                                {
                                    "ügyfél": "andrea",
                                    "szállítási mód": "Személyes átvétel",
                                    "megrendelések száma": "8"
                                },
                                {
                                    "ügyfél": "andrea",
                                    "szállítási mód": "NULL",
                                    "megrendelések száma": "24"
                                },
                                {
                                    "ügyfél": "andrea3",
                                    "szállítási mód": "GLS",
                                    "megrendelések száma": "131"
                                },
                                {
                                    "ügyfél": "andrea3",
                                    "szállítási mód": "Posta",
                                    "megrendelések száma": "136"
                                },
                                {
                                    "ügyfél": "andrea3",
                                    "szállítási mód": "Személyes átvétel",
                                    "megrendelések száma": "146"
                                },
                                {
                                    "ügyfél": "andrea3",
                                    "szállítási mód": "NULL",
                                    "megrendelések száma": "413"
                                },
                                {
                                    "ügyfél": "andrea4",
                                    "szállítási mód": "GLS",
                                    "megrendelések száma": "7"
                                },
                                {
                                    "ügyfél": "andrea4",
                                    "szállítási mód": "Posta",
                                    "megrendelések száma": "4"
                                },
                                {
                                    "ügyfél": "andrea4",
                                    "szállítási mód": "Személyes átvétel",
                                    "megrendelések száma": "7"
                                },
                                {
                                    "ügyfél": "andrea4",
                                    "szállítási mód": "NULL",
                                    "megrendelések száma": "18"
                                },
                                {
                                    "ügyfél": "ANDREAT",
                                    "szállítási mód": "GLS",
                                    "megrendelések száma": "3"
                                },
                                {
                                    "ügyfél": "ANDREAT",
                                    "szállítási mód": "Posta",
                                    "megrendelések száma": "6"
                                },
                                {
                                    "ügyfél": "ANDREAT",
                                    "szállítási mód": "Személyes átvétel",
                                    "megrendelések száma": "12"
                                },
                                {
                                    "ügyfél": "ANDREAT",
                                    "szállítási mód": "NULL",
                                    "megrendelések száma": "21"
                                },
                                {
                                    "ügyfél": "anett3",
                                    "szállítási mód": "GLS",
                                    "megrendelések száma": "3"
                                },
                                {
                                    "ügyfél": "anett3",
                                    "szállítási mód": "Posta",
                                    "megrendelések száma": "6"
                                },
                                {
                                    "ügyfél": "anett3",
                                    "szállítási mód": "Személyes átvétel",
                                    "megrendelések száma": "9"
                                },
                                {
                                    "ügyfél": "anett3",
                                    "szállítási mód": "NULL",
                                    "megrendelések száma": "18"
                                },
                                {
                                    "ügyfél": "aniko",
                                    "szállítási mód": "GLS",
                                    "megrendelések száma": "128"
                                },
                                {
                                    "ügyfél": "aniko",
                                    "szállítási mód": "Posta",
                                    "megrendelések száma": "137"
                                },
                                {
                                    "ügyfél": "aniko",
                                    "szállítási mód": "Személyes átvétel",
                                    "megrendelések száma": "138"
                                },
                                {
                                    "ügyfél": "aniko",
                                    "szállítási mód": "NULL",
                                    "megrendelések száma": "403"
                                },
                                {
                                    "ügyfél": "aniko4",
                                    "szállítási mód": "GLS",
                                    "megrendelések száma": "6"
                                },
                                {
                                    "ügyfél": "aniko4",
                                    "szállítási mód": "Posta",
                                    "megrendelések száma": "6"
                                },
                                {
                                    "ügyfél": "aniko4",
                                    "szállítási mód": "Személyes átvétel",
                                    "megrendelések száma": "3"
                                },
                                {
                                    "ügyfél": "aniko4",
                                    "szállítási mód": "NULL",
                                    "megrendelések száma": "15"
                                },
                                {
                                    "ügyfél": "ANIKOS",
                                    "szállítási mód": "GLS",
                                    "megrendelések száma": "128"
                                },
                                {
                                    "ügyfél": "ANIKOS",
                                    "szállítási mód": "Posta",
                                    "megrendelések száma": "126"
                                },
                                {
                                    "ügyfél": "ANIKOS",
                                    "szállítási mód": "Személyes átvétel",
                                    "megrendelések száma": "150"
                                },
                                {
                                    "ügyfél": "ANIKOS",
                                    "szállítási mód": "NULL",
                                    "megrendelések száma": "404"
                                },
                                {
                                    "ügyfél": "anita",
                                    "szállítási mód": "GLS",
                                    "megrendelések száma": "5"
                                },
                                {
                                    "ügyfél": "anita",
                                    "szállítási mód": "Posta",
                                    "megrendelések száma": "2"
                                },
                                {
                                    "ügyfél": "anita",
                                    "szállítási mód": "Személyes átvétel",
                                    "megrendelések száma": "5"
                                },
                                {
                                    "ügyfél": "anita",
                                    "szállítási mód": "NULL",
                                    "megrendelések száma": "12"
                                },
                                {
                                    "ügyfél": "annamaria1",
                                    "szállítási mód": "GLS",
                                    "megrendelések száma": "5"
                                },
                                {
                                    "ügyfél": "annamaria1",
                                    "szállítási mód": "Posta",
                                    "megrendelések száma": "4"
                                },
                                {
                                    "ügyfél": "annamaria1",
                                    "szállítási mód": "Személyes átvétel",
                                    "megrendelések száma": "7"
                                },
                                {
                                    "ügyfél": "annamaria1",
                                    "szállítási mód": "NULL",
                                    "megrendelések száma": "16"
                                },
                                {
                                    "ügyfél": "ANNAMARIAR",
                                    "szállítási mód": "GLS",
                                    "megrendelések száma": "8"
                                },
                                {
                                    "ügyfél": "ANNAMARIAR",
                                    "szállítási mód": "Posta",
                                    "megrendelések száma": "2"
                                },
                                {
                                    "ügyfél": "ANNAMARIAR",
                                    "szállítási mód": "Személyes átvétel",
                                    "megrendelések száma": "3"
                                },
                                {
                                    "ügyfél": "ANNAMARIAR",
                                    "szállítási mód": "NULL",
                                    "megrendelések száma": "13"
                                },
                                {
                                    "ügyfél": "aron2",
                                    "szállítási mód": "GLS",
                                    "megrendelések száma": "132"
                                },
                                {
                                    "ügyfél": "aron2",
                                    "szállítási mód": "Posta",
                                    "megrendelések száma": "133"
                                },
                                {
                                    "ügyfél": "aron2",
                                    "szállítási mód": "Személyes átvétel",
                                    "megrendelések száma": "144"
                                },
                                {
                                    "ügyfél": "aron2",
                                    "szállítási mód": "NULL",
                                    "megrendelések száma": "409"
                                },
                                {
                                    "ügyfél": "ARONK",
                                    "szállítási mód": "GLS",
                                    "megrendelések száma": "155"
                                },
                                {
                                    "ügyfél": "ARONK",
                                    "szállítási mód": "Posta",
                                    "megrendelések száma": "120"
                                },
                                {
                                    "ügyfél": "ARONK",
                                    "szállítási mód": "Személyes átvétel",
                                    "megrendelések száma": "155"
                                },
                                {
                                    "ügyfél": "ARONK",
                                    "szállítási mód": "NULL",
                                    "megrendelések száma": "430"
                                },
                                {
                                    "ügyfél": "arpad2",
                                    "szállítási mód": "GLS",
                                    "megrendelések száma": "6"
                                },
                                {
                                    "ügyfél": "arpad2",
                                    "szállítási mód": "Posta",
                                    "megrendelések száma": "1"
                                },
                                {
                                    "ügyfél": "arpad2",
                                    "szállítási mód": "Személyes átvétel",
                                    "megrendelések száma": "10"
                                },
                                {
                                    "ügyfél": "arpad2",
                                    "szállítási mód": "NULL",
                                    "megrendelések száma": "17"
                                },
                                {
                                    "ügyfél": "ARPADH",
                                    "szállítási mód": "GLS",
                                    "megrendelések száma": "6"
                                },
                                {
                                    "ügyfél": "ARPADH",
                                    "szállítási mód": "Posta",
                                    "megrendelések száma": "3"
                                },
                                {
                                    "ügyfél": "ARPADH",
                                    "szállítási mód": "Személyes átvétel",
                                    "megrendelések száma": "5"
                                },
                                {
                                    "ügyfél": "ARPADH",
                                    "szállítási mód": "NULL",
                                    "megrendelések száma": "14"
                                },
                                {
                                    "ügyfél": "ARPADM",
                                    "szállítási mód": "GLS",
                                    "megrendelések száma": "6"
                                },
                                {
                                    "ügyfél": "ARPADM",
                                    "szállítási mód": "Posta",
                                    "megrendelések száma": "3"
                                },
                                {
                                    "ügyfél": "ARPADM",
                                    "szállítási mód": "Személyes átvétel",
                                    "megrendelések száma": "7"
                                },
                                {
                                    "ügyfél": "ARPADM",
                                    "szállítási mód": "NULL",
                                    "megrendelések száma": "16"
                                },
                                {
                                    "ügyfél": "attila1",
                                    "szállítási mód": "GLS",
                                    "megrendelések száma": "5"
                                },
                                {
                                    "ügyfél": "attila1",
                                    "szállítási mód": "Posta",
                                    "megrendelések száma": "7"
                                },
                                {
                                    "ügyfél": "attila1",
                                    "szállítási mód": "Személyes átvétel",
                                    "megrendelések száma": "6"
                                },
                                {
                                    "ügyfél": "attila1",
                                    "szállítási mód": "NULL",
                                    "megrendelések száma": "18"
                                },
                                {
                                    "ügyfél": "attila4",
                                    "szállítási mód": "GLS",
                                    "megrendelések száma": "135"
                                },
                                {
                                    "ügyfél": "attila4",
                                    "szállítási mód": "Posta",
                                    "megrendelések száma": "125"
                                },
                                {
                                    "ügyfél": "attila4",
                                    "szállítási mód": "Személyes átvétel",
                                    "megrendelések száma": "141"
                                },
                                {
                                    "ügyfél": "attila4",
                                    "szállítási mód": "NULL",
                                    "megrendelések száma": "401"
                                },
                                {
                                    "ügyfél": "ATTILAO",
                                    "szállítási mód": "GLS",
                                    "megrendelések száma": "4"
                                },
                                {
                                    "ügyfél": "ATTILAO",
                                    "szállítási mód": "Posta",
                                    "megrendelések száma": "4"
                                },
                                {
                                    "ügyfél": "ATTILAO",
                                    "szállítási mód": "Személyes átvétel",
                                    "megrendelések száma": "6"
                                },
                                {
                                    "ügyfél": "ATTILAO",
                                    "szállítási mód": "NULL",
                                    "megrendelések száma": "14"
                                },
                                {
                                    "ügyfél": "balazs1",
                                    "szállítási mód": "GLS",
                                    "megrendelések száma": "128"
                                },
                                {
                                    "ügyfél": "balazs1",
                                    "szállítási mód": "Posta",
                                    "megrendelések száma": "136"
                                },
                                {
                                    "ügyfél": "balazs1",
                                    "szállítási mód": "Személyes átvétel",
                                    "megrendelések száma": "155"
                                },
                                {
                                    "ügyfél": "balazs1",
                                    "szállítási mód": "NULL",
                                    "megrendelések száma": "419"
                                },
                                {
                                    "ügyfél": "balazs2",
                                    "szállítási mód": "GLS",
                                    "megrendelések száma": "5"
                                },
                                {
                                    "ügyfél": "balazs2",
                                    "szállítási mód": "Posta",
                                    "megrendelések száma": "7"
                                },
                                {
                                    "ügyfél": "balazs2",
                                    "szállítási mód": "Személyes átvétel",
                                    "megrendelések száma": "5"
                                },
                                {
                                    "ügyfél": "balazs2",
                                    "szállítási mód": "NULL",
                                    "megrendelések száma": "17"
                                },
                                {
                                    "ügyfél": "balazs3",
                                    "szállítási mód": "GLS",
                                    "megrendelések száma": "6"
                                },
                                {
                                    "ügyfél": "balazs3",
                                    "szállítási mód": "Posta",
                                    "megrendelések száma": "6"
                                },
                                {
                                    "ügyfél": "balazs3",
                                    "szállítási mód": "Személyes átvétel",
                                    "megrendelések száma": "3"
                                },
                                {
                                    "ügyfél": "balazs3",
                                    "szállítási mód": "NULL",
                                    "megrendelések száma": "15"
                                },
                                {
                                    "ügyfél": "balint",
                                    "szállítási mód": "GLS",
                                    "megrendelések száma": "10"
                                },
                                {
                                    "ügyfél": "balint",
                                    "szállítási mód": "Posta",
                                    "megrendelések száma": "4"
                                },
                                {
                                    "ügyfél": "balint",
                                    "szállítási mód": "Személyes átvétel",
                                    "megrendelések száma": "2"
                                },
                                {
                                    "ügyfél": "balint",
                                    "szállítási mód": "NULL",
                                    "megrendelések száma": "16"
                                },
                                {
                                    "ügyfél": "balint1",
                                    "szállítási mód": "GLS",
                                    "megrendelések száma": "158"
                                },
                                {
                                    "ügyfél": "balint1",
                                    "szállítási mód": "Posta",
                                    "megrendelések száma": "152"
                                },
                                {
                                    "ügyfél": "balint1",
                                    "szállítási mód": "Személyes átvétel",
                                    "megrendelések száma": "152"
                                },
                                {
                                    "ügyfél": "balint1",
                                    "szállítási mód": "NULL",
                                    "megrendelések száma": "462"
                                },
                                {
                                    "ügyfél": "balint2",
                                    "szállítási mód": "GLS",
                                    "megrendelések száma": "8"
                                },
                                {
                                    "ügyfél": "balint2",
                                    "szállítási mód": "Posta",
                                    "megrendelések száma": "6"
                                },
                                {
                                    "ügyfél": "balint2",
                                    "szállítási mód": "Személyes átvétel",
                                    "megrendelések száma": "3"
                                },
                                {
                                    "ügyfél": "balint2",
                                    "szállítási mód": "NULL",
                                    "megrendelések száma": "17"
                                },
                                {
                                    "ügyfél": "balu",
                                    "szállítási mód": "GLS",
                                    "megrendelések száma": "127"
                                },
                                {
                                    "ügyfél": "balu",
                                    "szállítási mód": "Posta",
                                    "megrendelések száma": "137"
                                },
                                {
                                    "ügyfél": "balu",
                                    "szállítási mód": "Személyes átvétel",
                                    "megrendelések száma": "123"
                                },
                                {
                                    "ügyfél": "balu",
                                    "szállítási mód": "NULL",
                                    "megrendelések száma": "387"
                                },
                                {
                                    "ügyfél": "BEATRIXK",
                                    "szállítási mód": "GLS",
                                    "megrendelések száma": "135"
                                },
                                {
                                    "ügyfél": "BEATRIXK",
                                    "szállítási mód": "Posta",
                                    "megrendelések száma": "155"
                                },
                                {
                                    "ügyfél": "BEATRIXK",
                                    "szállítási mód": "Személyes átvétel",
                                    "megrendelések száma": "145"
                                },
                                {
                                    "ügyfél": "BEATRIXK",
                                    "szállítási mód": "NULL",
                                    "megrendelések száma": "435"
                                },
                                {
                                    "ügyfél": "BEATRIXS",
                                    "szállítási mód": "GLS",
                                    "megrendelések száma": "146"
                                },
                                {
                                    "ügyfél": "BEATRIXS",
                                    "szállítási mód": "Posta",
                                    "megrendelések száma": "141"
                                },
                                {
                                    "ügyfél": "BEATRIXS",
                                    "szállítási mód": "Személyes átvétel",
                                    "megrendelések száma": "133"
                                },
                                {
                                    "ügyfél": "BEATRIXS",
                                    "szállítási mód": "NULL",
                                    "megrendelések száma": "420"
                                },
                                {
                                    "ügyfél": "BELAF",
                                    "szállítási mód": "GLS",
                                    "megrendelések száma": "11"
                                },
                                {
                                    "ügyfél": "BELAF",
                                    "szállítási mód": "Posta",
                                    "megrendelések száma": "2"
                                },
                                {
                                    "ügyfél": "BELAF",
                                    "szállítási mód": "Személyes átvétel",
                                    "megrendelések száma": "5"
                                },
                                {
                                    "ügyfél": "BELAF",
                                    "szállítási mód": "NULL",
                                    "megrendelések száma": "18"
                                },
                                {
                                    "ügyfél": "bence",
                                    "szállítási mód": "GLS",
                                    "megrendelések száma": "4"
                                },
                                {
                                    "ügyfél": "bence",
                                    "szállítási mód": "Posta",
                                    "megrendelések száma": "6"
                                },
                                {
                                    "ügyfél": "bence",
                                    "szállítási mód": "Személyes átvétel",
                                    "megrendelések száma": "8"
                                },
                                {
                                    "ügyfél": "bence",
                                    "szállítási mód": "NULL",
                                    "megrendelések száma": "18"
                                },
                                {
                                    "ügyfél": "BENCEB",
                                    "szállítási mód": "GLS",
                                    "megrendelések száma": "5"
                                },
                                {
                                    "ügyfél": "BENCEB",
                                    "szállítási mód": "Posta",
                                    "megrendelések száma": "7"
                                },
                                {
                                    "ügyfél": "BENCEB",
                                    "szállítási mód": "Személyes átvétel",
                                    "megrendelések száma": "5"
                                },
                                {
                                    "ügyfél": "BENCEB",
                                    "szállítási mód": "NULL",
                                    "megrendelések száma": "17"
                                },
                                {
                                    "ügyfél": "bernadett1",
                                    "szállítási mód": "GLS",
                                    "megrendelések száma": "10"
                                },
                                {
                                    "ügyfél": "bernadett1",
                                    "szállítási mód": "Posta",
                                    "megrendelések száma": "5"
                                },
                                {
                                    "ügyfél": "bernadett1",
                                    "szállítási mód": "Személyes átvétel",
                                    "megrendelések száma": "5"
                                },
                                {
                                    "ügyfél": "bernadett1",
                                    "szállítási mód": "NULL",
                                    "megrendelések száma": "20"
                                },
                                {
                                    "ügyfél": "bernadett2",
                                    "szállítási mód": "GLS",
                                    "megrendelések száma": "6"
                                },
                                {
                                    "ügyfél": "bernadett2",
                                    "szállítási mód": "Posta",
                                    "megrendelések száma": "2"
                                },
                                {
                                    "ügyfél": "bernadett2",
                                    "szállítási mód": "Személyes átvétel",
                                    "megrendelések száma": "7"
                                },
                                {
                                    "ügyfél": "bernadett2",
                                    "szállítási mód": "NULL",
                                    "megrendelések száma": "15"
                                },
                                {
                                    "ügyfél": "BERNADETTO",
                                    "szállítási mód": "GLS",
                                    "megrendelések száma": "7"
                                },
                                {
                                    "ügyfél": "BERNADETTO",
                                    "szállítási mód": "Posta",
                                    "megrendelések száma": "2"
                                },
                                {
                                    "ügyfél": "BERNADETTO",
                                    "szállítási mód": "Személyes átvétel",
                                    "megrendelések száma": "7"
                                },
                                {
                                    "ügyfél": "BERNADETTO",
                                    "szállítási mód": "NULL",
                                    "megrendelések száma": "16"
                                },
                                {
                                    "ügyfél": "bertalan",
                                    "szállítási mód": "GLS",
                                    "megrendelések száma": "128"
                                },
                                {
                                    "ügyfél": "bertalan",
                                    "szállítási mód": "Posta",
                                    "megrendelések száma": "124"
                                },
                                {
                                    "ügyfél": "bertalan",
                                    "szállítási mód": "Személyes átvétel",
                                    "megrendelések száma": "101"
                                },
                                {
                                    "ügyfél": "bertalan",
                                    "szállítási mód": "NULL",
                                    "megrendelések száma": "353"
                                },
                                {
                                    "ügyfél": "brigitta",
                                    "szállítási mód": "GLS",
                                    "megrendelések száma": "137"
                                },
                                {
                                    "ügyfél": "brigitta",
                                    "szállítási mód": "Posta",
                                    "megrendelések száma": "137"
                                },
                                {
                                    "ügyfél": "brigitta",
                                    "szállítási mód": "Személyes átvétel",
                                    "megrendelések száma": "119"
                                },
                                {
                                    "ügyfél": "brigitta",
                                    "szállítási mód": "NULL",
                                    "megrendelések száma": "393"
                                },
                                {
                                    "ügyfél": "brigitta3",
                                    "szállítási mód": "GLS",
                                    "megrendelések száma": "144"
                                },
                                {
                                    "ügyfél": "brigitta3",
                                    "szállítási mód": "Posta",
                                    "megrendelések száma": "130"
                                },
                                {
                                    "ügyfél": "brigitta3",
                                    "szállítási mód": "Személyes átvétel",
                                    "megrendelések száma": "139"
                                },
                                {
                                    "ügyfél": "brigitta3",
                                    "szállítási mód": "NULL",
                                    "megrendelések száma": "413"
                                },
                                {
                                    "ügyfél": "csongor3",
                                    "szállítási mód": "GLS",
                                    "megrendelések száma": "5"
                                },
                                {
                                    "ügyfél": "csongor3",
                                    "szállítási mód": "Posta",
                                    "megrendelések száma": "2"
                                },
                                {
                                    "ügyfél": "csongor3",
                                    "szállítási mód": "Személyes átvétel",
                                    "megrendelések száma": "8"
                                },
                                {
                                    "ügyfél": "csongor3",
                                    "szállítási mód": "NULL",
                                    "megrendelések száma": "15"
                                },
                                {
                                    "ügyfél": "dani",
                                    "szállítási mód": "GLS",
                                    "megrendelések száma": "5"
                                },
                                {
                                    "ügyfél": "dani",
                                    "szállítási mód": "Személyes átvétel",
                                    "megrendelések száma": "8"
                                },
                                {
                                    "ügyfél": "dani",
                                    "szállítási mód": "NULL",
                                    "megrendelések száma": "13"
                                },
                                {
                                    "ügyfél": "daniel",
                                    "szállítási mód": "GLS",
                                    "megrendelések száma": "7"
                                },
                                {
                                    "ügyfél": "daniel",
                                    "szállítási mód": "Posta",
                                    "megrendelések száma": "2"
                                },
                                {
                                    "ügyfél": "daniel",
                                    "szállítási mód": "Személyes átvétel",
                                    "megrendelések száma": "4"
                                },
                                {
                                    "ügyfél": "daniel",
                                    "szállítási mód": "NULL",
                                    "megrendelések száma": "13"
                                },
                                {
                                    "ügyfél": "daniel1",
                                    "szállítási mód": "GLS",
                                    "megrendelések száma": "156"
                                },
                                {
                                    "ügyfél": "daniel1",
                                    "szállítási mód": "Posta",
                                    "megrendelések száma": "131"
                                },
                                {
                                    "ügyfél": "daniel1",
                                    "szállítási mód": "Személyes átvétel",
                                    "megrendelések száma": "132"
                                },
                                {
                                    "ügyfél": "daniel1",
                                    "szállítási mód": "NULL",
                                    "megrendelések száma": "419"
                                },
                                {
                                    "ügyfél": "david",
                                    "szállítási mód": "GLS",
                                    "megrendelések száma": "161"
                                },
                                {
                                    "ügyfél": "david",
                                    "szállítási mód": "Posta",
                                    "megrendelések száma": "144"
                                },
                                {
                                    "ügyfél": "david",
                                    "szállítási mód": "Személyes átvétel",
                                    "megrendelések száma": "146"
                                },
                                {
                                    "ügyfél": "david",
                                    "szállítási mód": "NULL",
                                    "megrendelések száma": "451"
                                },
                                {
                                    "ügyfél": "david1",
                                    "szállítási mód": "GLS",
                                    "megrendelések száma": "8"
                                },
                                {
                                    "ügyfél": "david1",
                                    "szállítási mód": "Posta",
                                    "megrendelések száma": "1"
                                },
                                {
                                    "ügyfél": "david1",
                                    "szállítási mód": "Személyes átvétel",
                                    "megrendelések száma": "8"
                                },
                                {
                                    "ügyfél": "david1",
                                    "szállítási mód": "NULL",
                                    "megrendelések száma": "17"
                                },
                                {
                                    "ügyfél": "david4",
                                    "szállítási mód": "GLS",
                                    "megrendelések száma": "3"
                                },
                                {
                                    "ügyfél": "david4",
                                    "szállítási mód": "Posta",
                                    "megrendelések száma": "8"
                                },
                                {
                                    "ügyfél": "david4",
                                    "szállítási mód": "Személyes átvétel",
                                    "megrendelések száma": "10"
                                },
                                {
                                    "ügyfél": "david4",
                                    "szállítási mód": "NULL",
                                    "megrendelések száma": "21"
                                },
                                {
                                    "ügyfél": "debora",
                                    "szállítási mód": "GLS",
                                    "megrendelések száma": "7"
                                },
                                {
                                    "ügyfél": "debora",
                                    "szállítási mód": "Posta",
                                    "megrendelések száma": "6"
                                },
                                {
                                    "ügyfél": "debora",
                                    "szállítási mód": "Személyes átvétel",
                                    "megrendelések száma": "3"
                                },
                                {
                                    "ügyfél": "debora",
                                    "szállítási mód": "NULL",
                                    "megrendelések száma": "16"
                                },
                                {
                                    "ügyfél": "denes",
                                    "szállítási mód": "GLS",
                                    "megrendelések száma": "3"
                                },
                                {
                                    "ügyfél": "denes",
                                    "szállítási mód": "Posta",
                                    "megrendelések száma": "2"
                                },
                                {
                                    "ügyfél": "denes",
                                    "szállítási mód": "Személyes átvétel",
                                    "megrendelések száma": "4"
                                },
                                {
                                    "ügyfél": "denes",
                                    "szállítási mód": "NULL",
                                    "megrendelések száma": "9"
                                },
                                {
                                    "ügyfél": "dora3",
                                    "szállítási mód": "GLS",
                                    "megrendelések száma": "144"
                                },
                                {
                                    "ügyfél": "dora3",
                                    "szállítási mód": "Posta",
                                    "megrendelések száma": "124"
                                },
                                {
                                    "ügyfél": "dora3",
                                    "szállítási mód": "Személyes átvétel",
                                    "megrendelések száma": "164"
                                },
                                {
                                    "ügyfél": "dora3",
                                    "szállítási mód": "NULL",
                                    "megrendelések száma": "432"
                                },
                                {
                                    "ügyfél": "edit",
                                    "szállítási mód": "GLS",
                                    "megrendelések száma": "7"
                                },
                                {
                                    "ügyfél": "edit",
                                    "szállítási mód": "Posta",
                                    "megrendelések száma": "2"
                                },
                                {
                                    "ügyfél": "edit",
                                    "szállítási mód": "Személyes átvétel",
                                    "megrendelések száma": "4"
                                },
                                {
                                    "ügyfél": "edit",
                                    "szállítási mód": "NULL",
                                    "megrendelések száma": "13"
                                },
                                {
                                    "ügyfél": "emese",
                                    "szállítási mód": "GLS",
                                    "megrendelések száma": "128"
                                },
                                {
                                    "ügyfél": "emese",
                                    "szállítási mód": "Posta",
                                    "megrendelések száma": "136"
                                },
                                {
                                    "ügyfél": "emese",
                                    "szállítási mód": "Személyes átvétel",
                                    "megrendelések száma": "142"
                                },
                                {
                                    "ügyfél": "emese",
                                    "szállítási mód": "NULL",
                                    "megrendelések száma": "406"
                                },
                                {
                                    "ügyfél": "eszter2",
                                    "szállítási mód": "GLS",
                                    "megrendelések száma": "127"
                                },
                                {
                                    "ügyfél": "eszter2",
                                    "szállítási mód": "Posta",
                                    "megrendelések száma": "136"
                                },
                                {
                                    "ügyfél": "eszter2",
                                    "szállítási mód": "Személyes átvétel",
                                    "megrendelések száma": "152"
                                },
                                {
                                    "ügyfél": "eszter2",
                                    "szállítási mód": "NULL",
                                    "megrendelések száma": "415"
                                },
                                {
                                    "ügyfél": "eszter4",
                                    "szállítási mód": "GLS",
                                    "megrendelések száma": "141"
                                },
                                {
                                    "ügyfél": "eszter4",
                                    "szállítási mód": "Posta",
                                    "megrendelések száma": "134"
                                },
                                {
                                    "ügyfél": "eszter4",
                                    "szállítási mód": "Személyes átvétel",
                                    "megrendelések száma": "149"
                                },
                                {
                                    "ügyfél": "eszter4",
                                    "szállítási mód": "NULL",
                                    "megrendelések száma": "424"
                                },
                                {
                                    "ügyfél": "ESZTERE",
                                    "szállítási mód": "GLS",
                                    "megrendelések száma": "6"
                                },
                                {
                                    "ügyfél": "ESZTERE",
                                    "szállítási mód": "Posta",
                                    "megrendelések száma": "9"
                                },
                                {
                                    "ügyfél": "ESZTERE",
                                    "szállítási mód": "Személyes átvétel",
                                    "megrendelések száma": "7"
                                },
                                {
                                    "ügyfél": "ESZTERE",
                                    "szállítási mód": "NULL",
                                    "megrendelések száma": "22"
                                },
                                {
                                    "ügyfél": "eva",
                                    "szállítási mód": "GLS",
                                    "megrendelések száma": "125"
                                },
                                {
                                    "ügyfél": "eva",
                                    "szállítási mód": "Posta",
                                    "megrendelések száma": "140"
                                },
                                {
                                    "ügyfél": "eva",
                                    "szállítási mód": "Személyes átvétel",
                                    "megrendelések száma": "139"
                                },
                                {
                                    "ügyfél": "eva",
                                    "szállítási mód": "NULL",
                                    "megrendelések száma": "404"
                                },
                                {
                                    "ügyfél": "eva2",
                                    "szállítási mód": "GLS",
                                    "megrendelések száma": "154"
                                },
                                {
                                    "ügyfél": "eva2",
                                    "szállítási mód": "Posta",
                                    "megrendelések száma": "138"
                                },
                                {
                                    "ügyfél": "eva2",
                                    "szállítási mód": "Személyes átvétel",
                                    "megrendelések száma": "170"
                                },
                                {
                                    "ügyfél": "eva2",
                                    "szállítási mód": "NULL",
                                    "megrendelések száma": "462"
                                },
                                {
                                    "ügyfél": "EVAV",
                                    "szállítási mód": "GLS",
                                    "megrendelések száma": "2"
                                },
                                {
                                    "ügyfél": "EVAV",
                                    "szállítási mód": "Posta",
                                    "megrendelések száma": "1"
                                },
                                {
                                    "ügyfél": "EVAV",
                                    "szállítási mód": "Személyes átvétel",
                                    "megrendelések száma": "4"
                                },
                                {
                                    "ügyfél": "EVAV",
                                    "szállítási mód": "NULL",
                                    "megrendelések száma": "7"
                                },
                                {
                                    "ügyfél": "ferenc1",
                                    "szállítási mód": "GLS",
                                    "megrendelések száma": "144"
                                },
                                {
                                    "ügyfél": "ferenc1",
                                    "szállítási mód": "Posta",
                                    "megrendelések száma": "158"
                                },
                                {
                                    "ügyfél": "ferenc1",
                                    "szállítási mód": "Személyes átvétel",
                                    "megrendelések száma": "135"
                                },
                                {
                                    "ügyfél": "ferenc1",
                                    "szállítási mód": "NULL",
                                    "megrendelések száma": "437"
                                },
                                {
                                    "ügyfél": "fruzsina4",
                                    "szállítási mód": "GLS",
                                    "megrendelések száma": "8"
                                },
                                {
                                    "ügyfél": "fruzsina4",
                                    "szállítási mód": "Posta",
                                    "megrendelések száma": "3"
                                },
                                {
                                    "ügyfél": "fruzsina4",
                                    "szállítási mód": "Személyes átvétel",
                                    "megrendelések száma": "7"
                                },
                                {
                                    "ügyfél": "fruzsina4",
                                    "szállítási mód": "NULL",
                                    "megrendelések száma": "18"
                                },
                                {
                                    "ügyfél": "gabor1",
                                    "szállítási mód": "GLS",
                                    "megrendelések száma": "9"
                                },
                                {
                                    "ügyfél": "gabor1",
                                    "szállítási mód": "Posta",
                                    "megrendelések száma": "5"
                                },
                                {
                                    "ügyfél": "gabor1",
                                    "szállítási mód": "Személyes átvétel",
                                    "megrendelések száma": "5"
                                },
                                {
                                    "ügyfél": "gabor1",
                                    "szállítási mód": "NULL",
                                    "megrendelések száma": "19"
                                },
                                {
                                    "ügyfél": "gabor4",
                                    "szállítási mód": "GLS",
                                    "megrendelések száma": "7"
                                },
                                {
                                    "ügyfél": "gabor4",
                                    "szállítási mód": "Posta",
                                    "megrendelések száma": "9"
                                },
                                {
                                    "ügyfél": "gabor4",
                                    "szállítási mód": "Személyes átvétel",
                                    "megrendelések száma": "4"
                                },
                                {
                                    "ügyfél": "gabor4",
                                    "szállítási mód": "NULL",
                                    "megrendelések száma": "20"
                                },
                                {
                                    "ügyfél": "GABORS",
                                    "szállítási mód": "GLS",
                                    "megrendelések száma": "5"
                                },
                                {
                                    "ügyfél": "GABORS",
                                    "szállítási mód": "Posta",
                                    "megrendelések száma": "6"
                                },
                                {
                                    "ügyfél": "GABORS",
                                    "szállítási mód": "Személyes átvétel",
                                    "megrendelések száma": "4"
                                },
                                {
                                    "ügyfél": "GABORS",
                                    "szállítási mód": "NULL",
                                    "megrendelések száma": "15"
                                },
                                {
                                    "ügyfél": "gabriella1",
                                    "szállítási mód": "GLS",
                                    "megrendelések száma": "5"
                                },
                                {
                                    "ügyfél": "gabriella1",
                                    "szállítási mód": "Posta",
                                    "megrendelések száma": "4"
                                },
                                {
                                    "ügyfél": "gabriella1",
                                    "szállítási mód": "Személyes átvétel",
                                    "megrendelések száma": "5"
                                },
                                {
                                    "ügyfél": "gabriella1",
                                    "szállítási mód": "NULL",
                                    "megrendelések száma": "14"
                                },
                                {
                                    "ügyfél": "gabriella10",
                                    "szállítási mód": "GLS",
                                    "megrendelések száma": "4"
                                },
                                {
                                    "ügyfél": "gabriella10",
                                    "szállítási mód": "Posta",
                                    "megrendelések száma": "5"
                                },
                                {
                                    "ügyfél": "gabriella10",
                                    "szállítási mód": "Személyes átvétel",
                                    "megrendelések száma": "7"
                                },
                                {
                                    "ügyfél": "gabriella10",
                                    "szállítási mód": "NULL",
                                    "megrendelések száma": "16"
                                },
                                {
                                    "ügyfél": "georgij",
                                    "szállítási mód": "GLS",
                                    "megrendelések száma": "9"
                                },
                                {
                                    "ügyfél": "georgij",
                                    "szállítási mód": "Posta",
                                    "megrendelések száma": "2"
                                },
                                {
                                    "ügyfél": "georgij",
                                    "szállítási mód": "Személyes átvétel",
                                    "megrendelések száma": "10"
                                },
                                {
                                    "ügyfél": "georgij",
                                    "szállítási mód": "NULL",
                                    "megrendelések száma": "21"
                                },
                                {
                                    "ügyfél": "gusztav",
                                    "szállítási mód": "GLS",
                                    "megrendelések száma": "5"
                                },
                                {
                                    "ügyfél": "gusztav",
                                    "szállítási mód": "Posta",
                                    "megrendelések száma": "4"
                                },
                                {
                                    "ügyfél": "gusztav",
                                    "szállítási mód": "Személyes átvétel",
                                    "megrendelések száma": "5"
                                },
                                {
                                    "ügyfél": "gusztav",
                                    "szállítási mód": "NULL",
                                    "megrendelések száma": "14"
                                },
                                {
                                    "ügyfél": "GYONGYIK",
                                    "szállítási mód": "GLS",
                                    "megrendelések száma": "6"
                                },
                                {
                                    "ügyfél": "GYONGYIK",
                                    "szállítási mód": "Posta",
                                    "megrendelések száma": "6"
                                },
                                {
                                    "ügyfél": "GYONGYIK",
                                    "szállítási mód": "Személyes átvétel",
                                    "megrendelések száma": "3"
                                },
                                {
                                    "ügyfél": "GYONGYIK",
                                    "szállítási mód": "NULL",
                                    "megrendelések száma": "15"
                                },
                                {
                                    "ügyfél": "GYORGYO",
                                    "szállítási mód": "GLS",
                                    "megrendelések száma": "7"
                                },
                                {
                                    "ügyfél": "GYORGYO",
                                    "szállítási mód": "Posta",
                                    "megrendelések száma": "4"
                                },
                                {
                                    "ügyfél": "GYORGYO",
                                    "szállítási mód": "Személyes átvétel",
                                    "megrendelések száma": "5"
                                },
                                {
                                    "ügyfél": "GYORGYO",
                                    "szállítási mód": "NULL",
                                    "megrendelések száma": "16"
                                },
                                {
                                    "ügyfél": "henrik3",
                                    "szállítási mód": "GLS",
                                    "megrendelések száma": "7"
                                },
                                {
                                    "ügyfél": "henrik3",
                                    "szállítási mód": "Posta",
                                    "megrendelések száma": "4"
                                },
                                {
                                    "ügyfél": "henrik3",
                                    "szállítási mód": "Személyes átvétel",
                                    "megrendelések száma": "5"
                                },
                                {
                                    "ügyfél": "henrik3",
                                    "szállítási mód": "NULL",
                                    "megrendelések száma": "16"
                                },
                                {
                                    "ügyfél": "IBOLYAA",
                                    "szállítási mód": "GLS",
                                    "megrendelések száma": "140"
                                },
                                {
                                    "ügyfél": "IBOLYAA",
                                    "szállítási mód": "Posta",
                                    "megrendelések száma": "125"
                                },
                                {
                                    "ügyfél": "IBOLYAA",
                                    "szállítási mód": "Személyes átvétel",
                                    "megrendelések száma": "157"
                                },
                                {
                                    "ügyfél": "IBOLYAA",
                                    "szállítási mód": "NULL",
                                    "megrendelések száma": "422"
                                },
                                {
                                    "ügyfél": "ilona3",
                                    "szállítási mód": "GLS",
                                    "megrendelések száma": "9"
                                },
                                {
                                    "ügyfél": "ilona3",
                                    "szállítási mód": "Posta",
                                    "megrendelések száma": "2"
                                },
                                {
                                    "ügyfél": "ilona3",
                                    "szállítási mód": "Személyes átvétel",
                                    "megrendelések száma": "7"
                                },
                                {
                                    "ügyfél": "ilona3",
                                    "szállítási mód": "NULL",
                                    "megrendelések száma": "18"
                                },
                                {
                                    "ügyfél": "imre",
                                    "szállítási mód": "GLS",
                                    "megrendelések száma": "5"
                                },
                                {
                                    "ügyfél": "imre",
                                    "szállítási mód": "Posta",
                                    "megrendelések száma": "4"
                                },
                                {
                                    "ügyfél": "imre",
                                    "szállítási mód": "Személyes átvétel",
                                    "megrendelések száma": "6"
                                },
                                {
                                    "ügyfél": "imre",
                                    "szállítási mód": "NULL",
                                    "megrendelések száma": "15"
                                },
                                {
                                    "ügyfél": "imre1",
                                    "szállítási mód": "GLS",
                                    "megrendelések száma": "8"
                                },
                                {
                                    "ügyfél": "imre1",
                                    "szállítási mód": "Posta",
                                    "megrendelések száma": "4"
                                },
                                {
                                    "ügyfél": "imre1",
                                    "szállítási mód": "Személyes átvétel",
                                    "megrendelések száma": "3"
                                },
                                {
                                    "ügyfél": "imre1",
                                    "szállítási mód": "NULL",
                                    "megrendelések száma": "15"
                                },
                                {
                                    "ügyfél": "istvan",
                                    "szállítási mód": "GLS",
                                    "megrendelések száma": "3"
                                },
                                {
                                    "ügyfél": "istvan",
                                    "szállítási mód": "Posta",
                                    "megrendelések száma": "4"
                                },
                                {
                                    "ügyfél": "istvan",
                                    "szállítási mód": "Személyes átvétel",
                                    "megrendelések száma": "4"
                                },
                                {
                                    "ügyfél": "istvan",
                                    "szállítási mód": "NULL",
                                    "megrendelések száma": "11"
                                },
                                {
                                    "ügyfél": "istvan1",
                                    "szállítási mód": "GLS",
                                    "megrendelések száma": "8"
                                },
                                {
                                    "ügyfél": "istvan1",
                                    "szállítási mód": "Posta",
                                    "megrendelések száma": "4"
                                },
                                {
                                    "ügyfél": "istvan1",
                                    "szállítási mód": "Személyes átvétel",
                                    "megrendelések száma": "7"
                                },
                                {
                                    "ügyfél": "istvan1",
                                    "szállítási mód": "NULL",
                                    "megrendelések száma": "19"
                                },
                                {
                                    "ügyfél": "ISTVANV",
                                    "szállítási mód": "GLS",
                                    "megrendelések száma": "4"
                                },
                                {
                                    "ügyfél": "ISTVANV",
                                    "szállítási mód": "Posta",
                                    "megrendelések száma": "9"
                                },
                                {
                                    "ügyfél": "ISTVANV",
                                    "szállítási mód": "Személyes átvétel",
                                    "megrendelések száma": "8"
                                },
                                {
                                    "ügyfél": "ISTVANV",
                                    "szállítási mód": "NULL",
                                    "megrendelések száma": "21"
                                },
                                {
                                    "ügyfél": "janos3",
                                    "szállítási mód": "GLS",
                                    "megrendelések száma": "5"
                                },
                                {
                                    "ügyfél": "janos3",
                                    "szállítási mód": "Posta",
                                    "megrendelések száma": "2"
                                },
                                {
                                    "ügyfél": "janos3",
                                    "szállítási mód": "Személyes átvétel",
                                    "megrendelések száma": "6"
                                },
                                {
                                    "ügyfél": "janos3",
                                    "szállítási mód": "NULL",
                                    "megrendelések száma": "13"
                                },
                                {
                                    "ügyfél": "JANOSG",
                                    "szállítási mód": "GLS",
                                    "megrendelések száma": "3"
                                },
                                {
                                    "ügyfél": "JANOSG",
                                    "szállítási mód": "Posta",
                                    "megrendelések száma": "3"
                                },
                                {
                                    "ügyfél": "JANOSG",
                                    "szállítási mód": "Személyes átvétel",
                                    "megrendelések száma": "4"
                                },
                                {
                                    "ügyfél": "JANOSG",
                                    "szállítási mód": "NULL",
                                    "megrendelések száma": "10"
                                },
                                {
                                    "ügyfél": "JANOSP",
                                    "szállítási mód": "GLS",
                                    "megrendelések száma": "7"
                                },
                                {
                                    "ügyfél": "JANOSP",
                                    "szállítási mód": "Posta",
                                    "megrendelések száma": "7"
                                },
                                {
                                    "ügyfél": "JANOSP",
                                    "szállítási mód": "Személyes átvétel",
                                    "megrendelések száma": "3"
                                },
                                {
                                    "ügyfél": "JANOSP",
                                    "szállítási mód": "NULL",
                                    "megrendelések száma": "17"
                                },
                                {
                                    "ügyfél": "jozsef",
                                    "szállítási mód": "GLS",
                                    "megrendelések száma": "116"
                                },
                                {
                                    "ügyfél": "jozsef",
                                    "szállítási mód": "Posta",
                                    "megrendelések száma": "132"
                                },
                                {
                                    "ügyfél": "jozsef",
                                    "szállítási mód": "Személyes átvétel",
                                    "megrendelések száma": "134"
                                },
                                {
                                    "ügyfél": "jozsef",
                                    "szállítási mód": "NULL",
                                    "megrendelések száma": "382"
                                },
                                {
                                    "ügyfél": "jozsef2",
                                    "szállítási mód": "GLS",
                                    "megrendelések száma": "7"
                                },
                                {
                                    "ügyfél": "jozsef2",
                                    "szállítási mód": "Posta",
                                    "megrendelések száma": "2"
                                },
                                {
                                    "ügyfél": "jozsef2",
                                    "szállítási mód": "Személyes átvétel",
                                    "megrendelések száma": "4"
                                },
                                {
                                    "ügyfél": "jozsef2",
                                    "szállítási mód": "NULL",
                                    "megrendelések száma": "13"
                                },
                                {
                                    "ügyfél": "JOZSEFG",
                                    "szállítási mód": "GLS",
                                    "megrendelések száma": "11"
                                },
                                {
                                    "ügyfél": "JOZSEFG",
                                    "szállítási mód": "Posta",
                                    "megrendelések száma": "1"
                                },
                                {
                                    "ügyfél": "JOZSEFG",
                                    "szállítási mód": "Személyes átvétel",
                                    "megrendelések száma": "9"
                                },
                                {
                                    "ügyfél": "JOZSEFG",
                                    "szállítási mód": "NULL",
                                    "megrendelések száma": "21"
                                },
                                {
                                    "ügyfél": "JUDITH",
                                    "szállítási mód": "GLS",
                                    "megrendelések száma": "170"
                                },
                                {
                                    "ügyfél": "JUDITH",
                                    "szállítási mód": "Posta",
                                    "megrendelések száma": "130"
                                },
                                {
                                    "ügyfél": "JUDITH",
                                    "szállítási mód": "Személyes átvétel",
                                    "megrendelések száma": "150"
                                },
                                {
                                    "ügyfél": "JUDITH",
                                    "szállítási mód": "NULL",
                                    "megrendelések száma": "450"
                                },
                                {
                                    "ügyfél": "julia",
                                    "szállítási mód": "GLS",
                                    "megrendelések száma": "137"
                                },
                                {
                                    "ügyfél": "julia",
                                    "szállítási mód": "Posta",
                                    "megrendelések száma": "160"
                                },
                                {
                                    "ügyfél": "julia",
                                    "szállítási mód": "Személyes átvétel",
                                    "megrendelések száma": "138"
                                },
                                {
                                    "ügyfél": "julia",
                                    "szállítási mód": "NULL",
                                    "megrendelések száma": "435"
                                },
                                {
                                    "ügyfél": "julia4",
                                    "szállítási mód": "GLS",
                                    "megrendelések száma": "2"
                                },
                                {
                                    "ügyfél": "julia4",
                                    "szállítási mód": "Posta",
                                    "megrendelések száma": "4"
                                },
                                {
                                    "ügyfél": "julia4",
                                    "szállítási mód": "Személyes átvétel",
                                    "megrendelések száma": "8"
                                },
                                {
                                    "ügyfél": "julia4",
                                    "szállítási mód": "NULL",
                                    "megrendelések száma": "14"
                                },
                                {
                                    "ügyfél": "julianna4",
                                    "szállítási mód": "GLS",
                                    "megrendelések száma": "8"
                                },
                                {
                                    "ügyfél": "julianna4",
                                    "szállítási mód": "Posta",
                                    "megrendelések száma": "12"
                                },
                                {
                                    "ügyfél": "julianna4",
                                    "szállítási mód": "Személyes átvétel",
                                    "megrendelések száma": "7"
                                },
                                {
                                    "ügyfél": "julianna4",
                                    "szállítási mód": "NULL",
                                    "megrendelések száma": "27"
                                },
                                {
                                    "ügyfél": "kata",
                                    "szállítási mód": "GLS",
                                    "megrendelések száma": "5"
                                },
                                {
                                    "ügyfél": "kata",
                                    "szállítási mód": "Posta",
                                    "megrendelések száma": "4"
                                },
                                {
                                    "ügyfél": "kata",
                                    "szállítási mód": "Személyes átvétel",
                                    "megrendelések száma": "3"
                                },
                                {
                                    "ügyfél": "kata",
                                    "szállítási mód": "NULL",
                                    "megrendelések száma": "12"
                                },
                                {
                                    "ügyfél": "katalin",
                                    "szállítási mód": "GLS",
                                    "megrendelések száma": "7"
                                },
                                {
                                    "ügyfél": "katalin",
                                    "szállítási mód": "Posta",
                                    "megrendelések száma": "7"
                                },
                                {
                                    "ügyfél": "katalin",
                                    "szállítási mód": "Személyes átvétel",
                                    "megrendelések száma": "5"
                                },
                                {
                                    "ügyfél": "katalin",
                                    "szállítási mód": "NULL",
                                    "megrendelések száma": "19"
                                },
                                {
                                    "ügyfél": "katalin4",
                                    "szállítási mód": "GLS",
                                    "megrendelések száma": "7"
                                },
                                {
                                    "ügyfél": "katalin4",
                                    "szállítási mód": "Posta",
                                    "megrendelések száma": "5"
                                },
                                {
                                    "ügyfél": "katalin4",
                                    "szállítási mód": "Személyes átvétel",
                                    "megrendelések száma": "11"
                                },
                                {
                                    "ügyfél": "katalin4",
                                    "szállítási mód": "NULL",
                                    "megrendelések száma": "23"
                                },
                                {
                                    "ügyfél": "kati",
                                    "szállítási mód": "GLS",
                                    "megrendelések száma": "4"
                                },
                                {
                                    "ügyfél": "kati",
                                    "szállítási mód": "Posta",
                                    "megrendelések száma": "5"
                                },
                                {
                                    "ügyfél": "kati",
                                    "szállítási mód": "Személyes átvétel",
                                    "megrendelések száma": "4"
                                },
                                {
                                    "ügyfél": "kati",
                                    "szállítási mód": "NULL",
                                    "megrendelések száma": "13"
                                },
                                {
                                    "ügyfél": "katka",
                                    "szállítási mód": "GLS",
                                    "megrendelések száma": "6"
                                },
                                {
                                    "ügyfél": "katka",
                                    "szállítási mód": "Posta",
                                    "megrendelések száma": "6"
                                },
                                {
                                    "ügyfél": "katka",
                                    "szállítási mód": "Személyes átvétel",
                                    "megrendelések száma": "10"
                                },
                                {
                                    "ügyfél": "katka",
                                    "szállítási mód": "NULL",
                                    "megrendelések száma": "22"
                                },
                                {
                                    "ügyfél": "klaudia2",
                                    "szállítási mód": "GLS",
                                    "megrendelések száma": "3"
                                },
                                {
                                    "ügyfél": "klaudia2",
                                    "szállítási mód": "Posta",
                                    "megrendelések száma": "9"
                                },
                                {
                                    "ügyfél": "klaudia2",
                                    "szállítási mód": "Személyes átvétel",
                                    "megrendelések száma": "5"
                                },
                                {
                                    "ügyfél": "klaudia2",
                                    "szállítási mód": "NULL",
                                    "megrendelések száma": "17"
                                },
                                {
                                    "ügyfél": "kornel4",
                                    "szállítási mód": "GLS",
                                    "megrendelések száma": "3"
                                },
                                {
                                    "ügyfél": "kornel4",
                                    "szállítási mód": "Posta",
                                    "megrendelések száma": "1"
                                },
                                {
                                    "ügyfél": "kornel4",
                                    "szállítási mód": "Személyes átvétel",
                                    "megrendelések száma": "7"
                                },
                                {
                                    "ügyfél": "kornel4",
                                    "szállítási mód": "NULL",
                                    "megrendelések száma": "11"
                                },
                                {
                                    "ügyfél": "kristof4",
                                    "szállítási mód": "GLS",
                                    "megrendelések száma": "9"
                                },
                                {
                                    "ügyfél": "kristof4",
                                    "szállítási mód": "Posta",
                                    "megrendelések száma": "4"
                                },
                                {
                                    "ügyfél": "kristof4",
                                    "szállítási mód": "Személyes átvétel",
                                    "megrendelések száma": "8"
                                },
                                {
                                    "ügyfél": "kristof4",
                                    "szállítási mód": "NULL",
                                    "megrendelések száma": "21"
                                },
                                {
                                    "ügyfél": "kriszti",
                                    "szállítási mód": "GLS",
                                    "megrendelések száma": "3"
                                },
                                {
                                    "ügyfél": "kriszti",
                                    "szállítási mód": "Posta",
                                    "megrendelések száma": "5"
                                },
                                {
                                    "ügyfél": "kriszti",
                                    "szállítási mód": "Személyes átvétel",
                                    "megrendelések száma": "5"
                                },
                                {
                                    "ügyfél": "kriszti",
                                    "szállítási mód": "NULL",
                                    "megrendelések száma": "13"
                                },
                                {
                                    "ügyfél": "krisztian4",
                                    "szállítási mód": "GLS",
                                    "megrendelések száma": "5"
                                },
                                {
                                    "ügyfél": "krisztian4",
                                    "szállítási mód": "Posta",
                                    "megrendelések száma": "6"
                                },
                                {
                                    "ügyfél": "krisztian4",
                                    "szállítási mód": "Személyes átvétel",
                                    "megrendelések száma": "6"
                                },
                                {
                                    "ügyfél": "krisztian4",
                                    "szállítási mód": "NULL",
                                    "megrendelések száma": "17"
                                },
                                {
                                    "ügyfél": "KRISZTIANM",
                                    "szállítási mód": "GLS",
                                    "megrendelések száma": "118"
                                },
                                {
                                    "ügyfél": "KRISZTIANM",
                                    "szállítási mód": "Posta",
                                    "megrendelések száma": "136"
                                },
                                {
                                    "ügyfél": "KRISZTIANM",
                                    "szállítási mód": "Személyes átvétel",
                                    "megrendelések száma": "130"
                                },
                                {
                                    "ügyfél": "KRISZTIANM",
                                    "szállítási mód": "NULL",
                                    "megrendelések száma": "384"
                                },
                                {
                                    "ügyfél": "krisztina",
                                    "szállítási mód": "GLS",
                                    "megrendelések száma": "149"
                                },
                                {
                                    "ügyfél": "krisztina",
                                    "szállítási mód": "Posta",
                                    "megrendelések száma": "150"
                                },
                                {
                                    "ügyfél": "krisztina",
                                    "szállítási mód": "Személyes átvétel",
                                    "megrendelések száma": "157"
                                },
                                {
                                    "ügyfél": "krisztina",
                                    "szállítási mód": "NULL",
                                    "megrendelések száma": "456"
                                },
                                {
                                    "ügyfél": "krisztina1",
                                    "szállítási mód": "GLS",
                                    "megrendelések száma": "10"
                                },
                                {
                                    "ügyfél": "krisztina1",
                                    "szállítási mód": "Posta",
                                    "megrendelések száma": "4"
                                },
                                {
                                    "ügyfél": "krisztina1",
                                    "szállítási mód": "Személyes átvétel",
                                    "megrendelések száma": "8"
                                },
                                {
                                    "ügyfél": "krisztina1",
                                    "szállítási mód": "NULL",
                                    "megrendelések száma": "22"
                                },
                                {
                                    "ügyfél": "KRISZTINAG",
                                    "szállítási mód": "GLS",
                                    "megrendelések száma": "6"
                                },
                                {
                                    "ügyfél": "KRISZTINAG",
                                    "szállítási mód": "Posta",
                                    "megrendelések száma": "6"
                                },
                                {
                                    "ügyfél": "KRISZTINAG",
                                    "szállítási mód": "Személyes átvétel",
                                    "megrendelések száma": "10"
                                },
                                {
                                    "ügyfél": "KRISZTINAG",
                                    "szállítási mód": "NULL",
                                    "megrendelések száma": "22"
                                },
                                {
                                    "ügyfél": "lajos",
                                    "szállítási mód": "GLS",
                                    "megrendelések száma": "5"
                                },
                                {
                                    "ügyfél": "lajos",
                                    "szállítási mód": "Posta",
                                    "megrendelések száma": "2"
                                },
                                {
                                    "ügyfél": "lajos",
                                    "szállítási mód": "Személyes átvétel",
                                    "megrendelések száma": "9"
                                },
                                {
                                    "ügyfél": "lajos",
                                    "szállítási mód": "NULL",
                                    "megrendelések száma": "16"
                                },
                                {
                                    "ügyfél": "lala",
                                    "szállítási mód": "GLS",
                                    "megrendelések száma": "5"
                                },
                                {
                                    "ügyfél": "lala",
                                    "szállítási mód": "Posta",
                                    "megrendelések száma": "3"
                                },
                                {
                                    "ügyfél": "lala",
                                    "szállítási mód": "Személyes átvétel",
                                    "megrendelések száma": "9"
                                },
                                {
                                    "ügyfél": "lala",
                                    "szállítási mód": "NULL",
                                    "megrendelések száma": "17"
                                },
                                {
                                    "ügyfél": "laszlo1",
                                    "szállítási mód": "GLS",
                                    "megrendelések száma": "130"
                                },
                                {
                                    "ügyfél": "laszlo1",
                                    "szállítási mód": "Posta",
                                    "megrendelések száma": "129"
                                },
                                {
                                    "ügyfél": "laszlo1",
                                    "szállítási mód": "Személyes átvétel",
                                    "megrendelések száma": "135"
                                },
                                {
                                    "ügyfél": "laszlo1",
                                    "szállítási mód": "NULL",
                                    "megrendelések száma": "394"
                                },
                                {
                                    "ügyfél": "laszlo2",
                                    "szállítási mód": "GLS",
                                    "megrendelések száma": "12"
                                },
                                {
                                    "ügyfél": "laszlo2",
                                    "szállítási mód": "Posta",
                                    "megrendelések száma": "6"
                                },
                                {
                                    "ügyfél": "laszlo2",
                                    "szállítási mód": "Személyes átvétel",
                                    "megrendelések száma": "7"
                                },
                                {
                                    "ügyfél": "laszlo2",
                                    "szállítási mód": "NULL",
                                    "megrendelések száma": "25"
                                },
                                {
                                    "ügyfél": "LASZLOA",
                                    "szállítási mód": "GLS",
                                    "megrendelések száma": "156"
                                },
                                {
                                    "ügyfél": "LASZLOA",
                                    "szállítási mód": "Posta",
                                    "megrendelések száma": "136"
                                },
                                {
                                    "ügyfél": "LASZLOA",
                                    "szállítási mód": "Személyes átvétel",
                                    "megrendelések száma": "154"
                                },
                                {
                                    "ügyfél": "LASZLOA",
                                    "szállítási mód": "NULL",
                                    "megrendelések száma": "446"
                                },
                                {
                                    "ügyfél": "LASZLON",
                                    "szállítási mód": "GLS",
                                    "megrendelések száma": "126"
                                },
                                {
                                    "ügyfél": "LASZLON",
                                    "szállítási mód": "Posta",
                                    "megrendelések száma": "131"
                                },
                                {
                                    "ügyfél": "LASZLON",
                                    "szállítási mód": "Személyes átvétel",
                                    "megrendelések száma": "143"
                                },
                                {
                                    "ügyfél": "LASZLON",
                                    "szállítási mód": "NULL",
                                    "megrendelések száma": "400"
                                },
                                {
                                    "ügyfél": "maria1",
                                    "szállítási mód": "GLS",
                                    "megrendelések száma": "4"
                                },
                                {
                                    "ügyfél": "maria1",
                                    "szállítási mód": "Posta",
                                    "megrendelések száma": "5"
                                },
                                {
                                    "ügyfél": "maria1",
                                    "szállítási mód": "Személyes átvétel",
                                    "megrendelések száma": "1"
                                },
                                {
                                    "ügyfél": "maria1",
                                    "szállítási mód": "NULL",
                                    "megrendelések száma": "10"
                                },
                                {
                                    "ügyfél": "MARKH",
                                    "szállítási mód": "GLS",
                                    "megrendelések száma": "128"
                                },
                                {
                                    "ügyfél": "MARKH",
                                    "szállítási mód": "Posta",
                                    "megrendelések száma": "142"
                                },
                                {
                                    "ügyfél": "MARKH",
                                    "szállítási mód": "Személyes átvétel",
                                    "megrendelések száma": "142"
                                },
                                {
                                    "ügyfél": "MARKH",
                                    "szállítási mód": "NULL",
                                    "megrendelések száma": "412"
                                },
                                {
                                    "ügyfél": "marton",
                                    "szállítási mód": "GLS",
                                    "megrendelések száma": "5"
                                },
                                {
                                    "ügyfél": "marton",
                                    "szállítási mód": "Posta",
                                    "megrendelések száma": "4"
                                },
                                {
                                    "ügyfél": "marton",
                                    "szállítási mód": "Személyes átvétel",
                                    "megrendelések száma": "5"
                                },
                                {
                                    "ügyfél": "marton",
                                    "szállítási mód": "NULL",
                                    "megrendelések száma": "14"
                                },
                                {
                                    "ügyfél": "MATEK",
                                    "szállítási mód": "GLS",
                                    "megrendelések száma": "6"
                                },
                                {
                                    "ügyfél": "MATEK",
                                    "szállítási mód": "Posta",
                                    "megrendelések száma": "10"
                                },
                                {
                                    "ügyfél": "MATEK",
                                    "szállítási mód": "Személyes átvétel",
                                    "megrendelések száma": "9"
                                },
                                {
                                    "ügyfél": "MATEK",
                                    "szállítási mód": "NULL",
                                    "megrendelések száma": "25"
                                },
                                {
                                    "ügyfél": "matyas2",
                                    "szállítási mód": "GLS",
                                    "megrendelések száma": "138"
                                },
                                {
                                    "ügyfél": "matyas2",
                                    "szállítási mód": "Posta",
                                    "megrendelések száma": "131"
                                },
                                {
                                    "ügyfél": "matyas2",
                                    "szállítási mód": "Személyes átvétel",
                                    "megrendelések száma": "164"
                                },
                                {
                                    "ügyfél": "matyas2",
                                    "szállítási mód": "NULL",
                                    "megrendelések száma": "433"
                                },
                                {
                                    "ügyfél": "MATYASS",
                                    "szállítási mód": "GLS",
                                    "megrendelések száma": "4"
                                },
                                {
                                    "ügyfél": "MATYASS",
                                    "szállítási mód": "Posta",
                                    "megrendelések száma": "5"
                                },
                                {
                                    "ügyfél": "MATYASS",
                                    "szállítási mód": "Személyes átvétel",
                                    "megrendelések száma": "3"
                                },
                                {
                                    "ügyfél": "MATYASS",
                                    "szállítási mód": "NULL",
                                    "megrendelések száma": "12"
                                },
                                {
                                    "ügyfél": "MIHALYJ",
                                    "szállítási mód": "GLS",
                                    "megrendelések száma": "3"
                                },
                                {
                                    "ügyfél": "MIHALYJ",
                                    "szállítási mód": "Posta",
                                    "megrendelések száma": "4"
                                },
                                {
                                    "ügyfél": "MIHALYJ",
                                    "szállítási mód": "Személyes átvétel",
                                    "megrendelések száma": "6"
                                },
                                {
                                    "ügyfél": "MIHALYJ",
                                    "szállítási mód": "NULL",
                                    "megrendelések száma": "13"
                                },
                                {
                                    "ügyfél": "miklos2",
                                    "szállítási mód": "GLS",
                                    "megrendelések száma": "7"
                                },
                                {
                                    "ügyfél": "miklos2",
                                    "szállítási mód": "Posta",
                                    "megrendelések száma": "4"
                                },
                                {
                                    "ügyfél": "miklos2",
                                    "szállítási mód": "Személyes átvétel",
                                    "megrendelések száma": "2"
                                },
                                {
                                    "ügyfél": "miklos2",
                                    "szállítási mód": "NULL",
                                    "megrendelések száma": "13"
                                },
                                {
                                    "ügyfél": "MIKLOSB",
                                    "szállítási mód": "GLS",
                                    "megrendelések száma": "6"
                                },
                                {
                                    "ügyfél": "MIKLOSB",
                                    "szállítási mód": "Posta",
                                    "megrendelések száma": "1"
                                },
                                {
                                    "ügyfél": "MIKLOSB",
                                    "szállítási mód": "Személyes átvétel",
                                    "megrendelések száma": "8"
                                },
                                {
                                    "ügyfél": "MIKLOSB",
                                    "szállítási mód": "NULL",
                                    "megrendelések száma": "15"
                                },
                                {
                                    "ügyfél": "MONIKAM",
                                    "szállítási mód": "GLS",
                                    "megrendelések száma": "133"
                                },
                                {
                                    "ügyfél": "MONIKAM",
                                    "szállítási mód": "Posta",
                                    "megrendelések száma": "151"
                                },
                                {
                                    "ügyfél": "MONIKAM",
                                    "szállítási mód": "Személyes átvétel",
                                    "megrendelések száma": "123"
                                },
                                {
                                    "ügyfél": "MONIKAM",
                                    "szállítási mód": "NULL",
                                    "megrendelések száma": "407"
                                },
                                {
                                    "ügyfél": "NANDORF",
                                    "szállítási mód": "GLS",
                                    "megrendelések száma": "147"
                                },
                                {
                                    "ügyfél": "NANDORF",
                                    "szállítási mód": "Posta",
                                    "megrendelések száma": "139"
                                },
                                {
                                    "ügyfél": "NANDORF",
                                    "szállítási mód": "Személyes átvétel",
                                    "megrendelések száma": "134"
                                },
                                {
                                    "ügyfél": "NANDORF",
                                    "szállítási mód": "NULL",
                                    "megrendelések száma": "420"
                                },
                                {
                                    "ügyfél": "nikolett3",
                                    "szállítási mód": "GLS",
                                    "megrendelések száma": "4"
                                },
                                {
                                    "ügyfél": "nikolett3",
                                    "szállítási mód": "Posta",
                                    "megrendelések száma": "3"
                                },
                                {
                                    "ügyfél": "nikolett3",
                                    "szállítási mód": "Személyes átvétel",
                                    "megrendelések száma": "10"
                                },
                                {
                                    "ügyfél": "nikolett3",
                                    "szállítási mód": "NULL",
                                    "megrendelések száma": "17"
                                },
                                {
                                    "ügyfél": "nikoletta4",
                                    "szállítási mód": "GLS",
                                    "megrendelések száma": "137"
                                },
                                {
                                    "ügyfél": "nikoletta4",
                                    "szállítási mód": "Posta",
                                    "megrendelések száma": "158"
                                },
                                {
                                    "ügyfél": "nikoletta4",
                                    "szállítási mód": "Személyes átvétel",
                                    "megrendelések száma": "119"
                                },
                                {
                                    "ügyfél": "nikoletta4",
                                    "szállítási mód": "NULL",
                                    "megrendelések száma": "414"
                                },
                                {
                                    "ügyfél": "NIKOLETTAT",
                                    "szállítási mód": "GLS",
                                    "megrendelések száma": "13"
                                },
                                {
                                    "ügyfél": "NIKOLETTAT",
                                    "szállítási mód": "Posta",
                                    "megrendelések száma": "7"
                                },
                                {
                                    "ügyfél": "NIKOLETTAT",
                                    "szállítási mód": "Személyes átvétel",
                                    "megrendelések száma": "5"
                                },
                                {
                                    "ügyfél": "NIKOLETTAT",
                                    "szállítási mód": "NULL",
                                    "megrendelések száma": "25"
                                },
                                {
                                    "ügyfél": "norbert2",
                                    "szállítási mód": "GLS",
                                    "megrendelések száma": "7"
                                },
                                {
                                    "ügyfél": "norbert2",
                                    "szállítási mód": "Posta",
                                    "megrendelések száma": "4"
                                },
                                {
                                    "ügyfél": "norbert2",
                                    "szállítási mód": "NULL",
                                    "megrendelések száma": "11"
                                },
                                {
                                    "ügyfél": "norbert4",
                                    "szállítási mód": "GLS",
                                    "megrendelések száma": "1"
                                },
                                {
                                    "ügyfél": "norbert4",
                                    "szállítási mód": "Posta",
                                    "megrendelések száma": "3"
                                },
                                {
                                    "ügyfél": "norbert4",
                                    "szállítási mód": "Személyes átvétel",
                                    "megrendelések száma": "9"
                                },
                                {
                                    "ügyfél": "norbert4",
                                    "szállítási mód": "NULL",
                                    "megrendelések száma": "13"
                                },
                                {
                                    "ügyfél": "norbert5",
                                    "szállítási mód": "GLS",
                                    "megrendelések száma": "1"
                                },
                                {
                                    "ügyfél": "norbert5",
                                    "szállítási mód": "Posta",
                                    "megrendelések száma": "6"
                                },
                                {
                                    "ügyfél": "norbert5",
                                    "szállítási mód": "Személyes átvétel",
                                    "megrendelések száma": "9"
                                },
                                {
                                    "ügyfél": "norbert5",
                                    "szállítási mód": "NULL",
                                    "megrendelések száma": "16"
                                },
                                {
                                    "ügyfél": "pal",
                                    "szállítási mód": "GLS",
                                    "megrendelések száma": "152"
                                },
                                {
                                    "ügyfél": "pal",
                                    "szállítási mód": "Posta",
                                    "megrendelések száma": "132"
                                },
                                {
                                    "ügyfél": "pal",
                                    "szállítási mód": "Személyes átvétel",
                                    "megrendelések száma": "154"
                                },
                                {
                                    "ügyfél": "pal",
                                    "szállítási mód": "NULL",
                                    "megrendelések száma": "438"
                                },
                                {
                                    "ügyfél": "peter1",
                                    "szállítási mód": "GLS",
                                    "megrendelések száma": "151"
                                },
                                {
                                    "ügyfél": "peter1",
                                    "szállítási mód": "Posta",
                                    "megrendelések száma": "135"
                                },
                                {
                                    "ügyfél": "peter1",
                                    "szállítási mód": "Személyes átvétel",
                                    "megrendelések száma": "126"
                                },
                                {
                                    "ügyfél": "peter1",
                                    "szállítási mód": "NULL",
                                    "megrendelések száma": "412"
                                },
                                {
                                    "ügyfél": "peter2",
                                    "szállítási mód": "GLS",
                                    "megrendelések száma": "7"
                                },
                                {
                                    "ügyfél": "peter2",
                                    "szállítási mód": "Posta",
                                    "megrendelések száma": "4"
                                },
                                {
                                    "ügyfél": "peter2",
                                    "szállítási mód": "Személyes átvétel",
                                    "megrendelések száma": "7"
                                },
                                {
                                    "ügyfél": "peter2",
                                    "szállítási mód": "NULL",
                                    "megrendelések száma": "18"
                                },
                                {
                                    "ügyfél": "peter3",
                                    "szállítási mód": "GLS",
                                    "megrendelések száma": "8"
                                },
                                {
                                    "ügyfél": "peter3",
                                    "szállítási mód": "Posta",
                                    "megrendelések száma": "7"
                                },
                                {
                                    "ügyfél": "peter3",
                                    "szállítási mód": "Személyes átvétel",
                                    "megrendelések száma": "10"
                                },
                                {
                                    "ügyfél": "peter3",
                                    "szállítási mód": "NULL",
                                    "megrendelések száma": "25"
                                },
                                {
                                    "ügyfél": "peter4",
                                    "szállítási mód": "GLS",
                                    "megrendelések száma": "266"
                                },
                                {
                                    "ügyfél": "peter4",
                                    "szállítási mód": "Posta",
                                    "megrendelések száma": "293"
                                },
                                {
                                    "ügyfél": "peter4",
                                    "szállítási mód": "Személyes átvétel",
                                    "megrendelések száma": "293"
                                },
                                {
                                    "ügyfél": "peter4",
                                    "szállítási mód": "NULL",
                                    "megrendelések száma": "852"
                                },
                                {
                                    "ügyfél": "PETERB",
                                    "szállítási mód": "GLS",
                                    "megrendelések száma": "2"
                                },
                                {
                                    "ügyfél": "PETERB",
                                    "szállítási mód": "Posta",
                                    "megrendelések száma": "4"
                                },
                                {
                                    "ügyfél": "PETERB",
                                    "szállítási mód": "Személyes átvétel",
                                    "megrendelések száma": "9"
                                },
                                {
                                    "ügyfél": "PETERB",
                                    "szállítási mód": "NULL",
                                    "megrendelések száma": "15"
                                },
                                {
                                    "ügyfél": "polla",
                                    "szállítási mód": "GLS",
                                    "megrendelések száma": "9"
                                },
                                {
                                    "ügyfél": "polla",
                                    "szállítási mód": "Posta",
                                    "megrendelések száma": "6"
                                },
                                {
                                    "ügyfél": "polla",
                                    "szállítási mód": "Személyes átvétel",
                                    "megrendelések száma": "7"
                                },
                                {
                                    "ügyfél": "polla",
                                    "szállítási mód": "NULL",
                                    "megrendelések száma": "22"
                                },
                                {
                                    "ügyfél": "rajmond4",
                                    "szállítási mód": "GLS",
                                    "megrendelések száma": "6"
                                },
                                {
                                    "ügyfél": "rajmond4",
                                    "szállítási mód": "Posta",
                                    "megrendelések száma": "5"
                                },
                                {
                                    "ügyfél": "rajmond4",
                                    "szállítási mód": "Személyes átvétel",
                                    "megrendelések száma": "6"
                                },
                                {
                                    "ügyfél": "rajmond4",
                                    "szállítási mód": "NULL",
                                    "megrendelések száma": "17"
                                },
                                {
                                    "ügyfél": "reka4",
                                    "szállítási mód": "GLS",
                                    "megrendelések száma": "5"
                                },
                                {
                                    "ügyfél": "reka4",
                                    "szállítási mód": "Posta",
                                    "megrendelések száma": "4"
                                },
                                {
                                    "ügyfél": "reka4",
                                    "szállítási mód": "Személyes átvétel",
                                    "megrendelések száma": "11"
                                },
                                {
                                    "ügyfél": "reka4",
                                    "szállítási mód": "NULL",
                                    "megrendelések száma": "20"
                                },
                                {
                                    "ügyfél": "RENATAK",
                                    "szállítási mód": "GLS",
                                    "megrendelések száma": "135"
                                },
                                {
                                    "ügyfél": "RENATAK",
                                    "szállítási mód": "Posta",
                                    "megrendelések száma": "140"
                                },
                                {
                                    "ügyfél": "RENATAK",
                                    "szállítási mód": "Személyes átvétel",
                                    "megrendelések száma": "147"
                                },
                                {
                                    "ügyfél": "RENATAK",
                                    "szállítási mód": "NULL",
                                    "megrendelések száma": "422"
                                },
                                {
                                    "ügyfél": "RENATAS",
                                    "szállítási mód": "GLS",
                                    "megrendelések száma": "6"
                                },
                                {
                                    "ügyfél": "RENATAS",
                                    "szállítási mód": "Posta",
                                    "megrendelések száma": "5"
                                },
                                {
                                    "ügyfél": "RENATAS",
                                    "szállítási mód": "Személyes átvétel",
                                    "megrendelések száma": "5"
                                },
                                {
                                    "ügyfél": "RENATAS",
                                    "szállítási mód": "NULL",
                                    "megrendelések száma": "16"
                                },
                                {
                                    "ügyfél": "robert2",
                                    "szállítási mód": "GLS",
                                    "megrendelések száma": "5"
                                },
                                {
                                    "ügyfél": "robert2",
                                    "szállítási mód": "Posta",
                                    "megrendelések száma": "1"
                                },
                                {
                                    "ügyfél": "robert2",
                                    "szállítási mód": "Személyes átvétel",
                                    "megrendelések száma": "7"
                                },
                                {
                                    "ügyfél": "robert2",
                                    "szállítási mód": "NULL",
                                    "megrendelések száma": "13"
                                },
                                {
                                    "ügyfél": "ROBERTI",
                                    "szállítási mód": "GLS",
                                    "megrendelések száma": "5"
                                },
                                {
                                    "ügyfél": "ROBERTI",
                                    "szállítási mód": "Posta",
                                    "megrendelések száma": "3"
                                },
                                {
                                    "ügyfél": "ROBERTI",
                                    "szállítási mód": "Személyes átvétel",
                                    "megrendelések száma": "5"
                                },
                                {
                                    "ügyfél": "ROBERTI",
                                    "szállítási mód": "NULL",
                                    "megrendelések száma": "13"
                                },
                                {
                                    "ügyfél": "ROBERTP",
                                    "szállítási mód": "GLS",
                                    "megrendelések száma": "8"
                                },
                                {
                                    "ügyfél": "ROBERTP",
                                    "szállítási mód": "Posta",
                                    "megrendelések száma": "8"
                                },
                                {
                                    "ügyfél": "ROBERTP",
                                    "szállítási mód": "Személyes átvétel",
                                    "megrendelések száma": "10"
                                },
                                {
                                    "ügyfél": "ROBERTP",
                                    "szállítási mód": "NULL",
                                    "megrendelések száma": "26"
                                },
                                {
                                    "ügyfél": "roland",
                                    "szállítási mód": "GLS",
                                    "megrendelések száma": "132"
                                },
                                {
                                    "ügyfél": "roland",
                                    "szállítási mód": "Posta",
                                    "megrendelések száma": "157"
                                },
                                {
                                    "ügyfél": "roland",
                                    "szállítási mód": "Személyes átvétel",
                                    "megrendelések száma": "125"
                                },
                                {
                                    "ügyfél": "roland",
                                    "szállítási mód": "NULL",
                                    "megrendelések száma": "414"
                                },
                                {
                                    "ügyfél": "roland1",
                                    "szállítási mód": "GLS",
                                    "megrendelések száma": "142"
                                },
                                {
                                    "ügyfél": "roland1",
                                    "szállítási mód": "Posta",
                                    "megrendelések száma": "155"
                                },
                                {
                                    "ügyfél": "roland1",
                                    "szállítási mód": "Személyes átvétel",
                                    "megrendelések száma": "135"
                                },
                                {
                                    "ügyfél": "roland1",
                                    "szállítási mód": "NULL",
                                    "megrendelések száma": "432"
                                },
                                {
                                    "ügyfél": "roza2",
                                    "szállítási mód": "GLS",
                                    "megrendelések száma": "3"
                                },
                                {
                                    "ügyfél": "roza2",
                                    "szállítási mód": "Posta",
                                    "megrendelések száma": "2"
                                },
                                {
                                    "ügyfél": "roza2",
                                    "szállítási mód": "Személyes átvétel",
                                    "megrendelések száma": "3"
                                },
                                {
                                    "ügyfél": "roza2",
                                    "szállítási mód": "NULL",
                                    "megrendelések száma": "8"
                                },
                                {
                                    "ügyfél": "sandor",
                                    "szállítási mód": "GLS",
                                    "megrendelések száma": "4"
                                },
                                {
                                    "ügyfél": "sandor",
                                    "szállítási mód": "Posta",
                                    "megrendelések száma": "6"
                                },
                                {
                                    "ügyfél": "sandor",
                                    "szállítási mód": "Személyes átvétel",
                                    "megrendelések száma": "7"
                                },
                                {
                                    "ügyfél": "sandor",
                                    "szállítási mód": "NULL",
                                    "megrendelések száma": "17"
                                },
                                {
                                    "ügyfél": "sandor3",
                                    "szállítási mód": "GLS",
                                    "megrendelések száma": "4"
                                },
                                {
                                    "ügyfél": "sandor3",
                                    "szállítási mód": "Posta",
                                    "megrendelések száma": "4"
                                },
                                {
                                    "ügyfél": "sandor3",
                                    "szállítási mód": "Személyes átvétel",
                                    "megrendelések száma": "6"
                                },
                                {
                                    "ügyfél": "sandor3",
                                    "szállítási mód": "NULL",
                                    "megrendelések száma": "14"
                                },
                                {
                                    "ügyfél": "sandor4",
                                    "szállítási mód": "GLS",
                                    "megrendelések száma": "4"
                                },
                                {
                                    "ügyfél": "sandor4",
                                    "szállítási mód": "Posta",
                                    "megrendelések száma": "2"
                                },
                                {
                                    "ügyfél": "sandor4",
                                    "szállítási mód": "Személyes átvétel",
                                    "megrendelések száma": "5"
                                },
                                {
                                    "ügyfél": "sandor4",
                                    "szállítási mód": "NULL",
                                    "megrendelések száma": "11"
                                },
                                {
                                    "ügyfél": "sara",
                                    "szállítási mód": "GLS",
                                    "megrendelések száma": "4"
                                },
                                {
                                    "ügyfél": "sara",
                                    "szállítási mód": "Posta",
                                    "megrendelések száma": "7"
                                },
                                {
                                    "ügyfél": "sara",
                                    "szállítási mód": "Személyes átvétel",
                                    "megrendelések száma": "9"
                                },
                                {
                                    "ügyfél": "sara",
                                    "szállítási mód": "NULL",
                                    "megrendelések száma": "20"
                                },
                                {
                                    "ügyfél": "SEBASTIANF",
                                    "szállítási mód": "GLS",
                                    "megrendelések száma": "6"
                                },
                                {
                                    "ügyfél": "SEBASTIANF",
                                    "szállítási mód": "Posta",
                                    "megrendelések száma": "3"
                                },
                                {
                                    "ügyfél": "SEBASTIANF",
                                    "szállítási mód": "Személyes átvétel",
                                    "megrendelések száma": "6"
                                },
                                {
                                    "ügyfél": "SEBASTIANF",
                                    "szállítási mód": "NULL",
                                    "megrendelések száma": "15"
                                },
                                {
                                    "ügyfél": "sebestyen",
                                    "szállítási mód": "GLS",
                                    "megrendelések száma": "4"
                                },
                                {
                                    "ügyfél": "sebestyen",
                                    "szállítási mód": "Posta",
                                    "megrendelések száma": "6"
                                },
                                {
                                    "ügyfél": "sebestyen",
                                    "szállítási mód": "Személyes átvétel",
                                    "megrendelések száma": "6"
                                },
                                {
                                    "ügyfél": "sebestyen",
                                    "szállítási mód": "NULL",
                                    "megrendelések száma": "16"
                                },
                                {
                                    "ügyfél": "szabolcs",
                                    "szállítási mód": "GLS",
                                    "megrendelések száma": "145"
                                },
                                {
                                    "ügyfél": "szabolcs",
                                    "szállítási mód": "Posta",
                                    "megrendelések száma": "157"
                                },
                                {
                                    "ügyfél": "szabolcs",
                                    "szállítási mód": "Személyes átvétel",
                                    "megrendelések száma": "169"
                                },
                                {
                                    "ügyfél": "szabolcs",
                                    "szállítási mód": "NULL",
                                    "megrendelések száma": "471"
                                },
                                {
                                    "ügyfél": "SZABOLCSM",
                                    "szállítási mód": "GLS",
                                    "megrendelések száma": "126"
                                },
                                {
                                    "ügyfél": "SZABOLCSM",
                                    "szállítási mód": "Posta",
                                    "megrendelések száma": "153"
                                },
                                {
                                    "ügyfél": "SZABOLCSM",
                                    "szállítási mód": "Személyes átvétel",
                                    "megrendelések száma": "129"
                                },
                                {
                                    "ügyfél": "SZABOLCSM",
                                    "szállítási mód": "NULL",
                                    "megrendelések száma": "408"
                                },
                                {
                                    "ügyfél": "SZILARDS",
                                    "szállítási mód": "GLS",
                                    "megrendelések száma": "144"
                                },
                                {
                                    "ügyfél": "SZILARDS",
                                    "szállítási mód": "Posta",
                                    "megrendelések száma": "131"
                                },
                                {
                                    "ügyfél": "SZILARDS",
                                    "szállítási mód": "Személyes átvétel",
                                    "megrendelések száma": "111"
                                },
                                {
                                    "ügyfél": "SZILARDS",
                                    "szállítási mód": "NULL",
                                    "megrendelések száma": "386"
                                },
                                {
                                    "ügyfél": "szilvia1",
                                    "szállítási mód": "GLS",
                                    "megrendelések száma": "156"
                                },
                                {
                                    "ügyfél": "szilvia1",
                                    "szállítási mód": "Posta",
                                    "megrendelések száma": "151"
                                },
                                {
                                    "ügyfél": "szilvia1",
                                    "szállítási mód": "Személyes átvétel",
                                    "megrendelések száma": "138"
                                },
                                {
                                    "ügyfél": "szilvia1",
                                    "szállítási mód": "NULL",
                                    "megrendelések száma": "445"
                                },
                                {
                                    "ügyfél": "tamara2",
                                    "szállítási mód": "GLS",
                                    "megrendelések száma": "6"
                                },
                                {
                                    "ügyfél": "tamara2",
                                    "szállítási mód": "Posta",
                                    "megrendelések száma": "4"
                                },
                                {
                                    "ügyfél": "tamara2",
                                    "szállítási mód": "Személyes átvétel",
                                    "megrendelések száma": "3"
                                },
                                {
                                    "ügyfél": "tamara2",
                                    "szállítási mód": "NULL",
                                    "megrendelések száma": "13"
                                },
                                {
                                    "ügyfél": "tamas",
                                    "szállítási mód": "GLS",
                                    "megrendelések száma": "143"
                                },
                                {
                                    "ügyfél": "tamas",
                                    "szállítási mód": "Posta",
                                    "megrendelések száma": "156"
                                },
                                {
                                    "ügyfél": "tamas",
                                    "szállítási mód": "Személyes átvétel",
                                    "megrendelések száma": "122"
                                },
                                {
                                    "ügyfél": "tamas",
                                    "szállítási mód": "NULL",
                                    "megrendelések száma": "421"
                                },
                                {
                                    "ügyfél": "TAMASF",
                                    "szállítási mód": "GLS",
                                    "megrendelések száma": "159"
                                },
                                {
                                    "ügyfél": "TAMASF",
                                    "szállítási mód": "Posta",
                                    "megrendelések száma": "145"
                                },
                                {
                                    "ügyfél": "TAMASF",
                                    "szállítási mód": "Személyes átvétel",
                                    "megrendelések száma": "129"
                                },
                                {
                                    "ügyfél": "TAMASF",
                                    "szállítási mód": "NULL",
                                    "megrendelések száma": "433"
                                },
                                {
                                    "ügyfél": "tibor",
                                    "szállítási mód": "GLS",
                                    "megrendelések száma": "115"
                                },
                                {
                                    "ügyfél": "tibor",
                                    "szállítási mód": "Posta",
                                    "megrendelések száma": "129"
                                },
                                {
                                    "ügyfél": "tibor",
                                    "szállítási mód": "Személyes átvétel",
                                    "megrendelések száma": "130"
                                },
                                {
                                    "ügyfél": "tibor",
                                    "szállítási mód": "NULL",
                                    "megrendelések száma": "374"
                                },
                                {
                                    "ügyfél": "tibor2",
                                    "szállítási mód": "GLS",
                                    "megrendelések száma": "7"
                                },
                                {
                                    "ügyfél": "tibor2",
                                    "szállítási mód": "Posta",
                                    "megrendelések száma": "7"
                                },
                                {
                                    "ügyfél": "tibor2",
                                    "szállítási mód": "Személyes átvétel",
                                    "megrendelések száma": "11"
                                },
                                {
                                    "ügyfél": "tibor2",
                                    "szállítási mód": "NULL",
                                    "megrendelések száma": "25"
                                },
                                {
                                    "ügyfél": "tihamer",
                                    "szállítási mód": "GLS",
                                    "megrendelések száma": "9"
                                },
                                {
                                    "ügyfél": "tihamer",
                                    "szállítási mód": "Posta",
                                    "megrendelések száma": "6"
                                },
                                {
                                    "ügyfél": "tihamer",
                                    "szállítási mód": "Személyes átvétel",
                                    "megrendelések száma": "5"
                                },
                                {
                                    "ügyfél": "tihamer",
                                    "szállítási mód": "NULL",
                                    "megrendelések száma": "20"
                                },
                                {
                                    "ügyfél": "timea",
                                    "szállítási mód": "GLS",
                                    "megrendelések száma": "14"
                                },
                                {
                                    "ügyfél": "timea",
                                    "szállítási mód": "Posta",
                                    "megrendelések száma": "23"
                                },
                                {
                                    "ügyfél": "timea",
                                    "szállítási mód": "Személyes átvétel",
                                    "megrendelések száma": "18"
                                },
                                {
                                    "ügyfél": "timea",
                                    "szállítási mód": "NULL",
                                    "megrendelések száma": "55"
                                },
                                {
                                    "ügyfél": "timea2",
                                    "szállítási mód": "GLS",
                                    "megrendelések száma": "1"
                                },
                                {
                                    "ügyfél": "timea2",
                                    "szállítási mód": "Posta",
                                    "megrendelések száma": "5"
                                },
                                {
                                    "ügyfél": "timea2",
                                    "szállítási mód": "Személyes átvétel",
                                    "megrendelések száma": "10"
                                },
                                {
                                    "ügyfél": "timea2",
                                    "szállítási mód": "NULL",
                                    "megrendelések száma": "16"
                                },
                                {
                                    "ügyfél": "tunde",
                                    "szállítási mód": "GLS",
                                    "megrendelések száma": "6"
                                },
                                {
                                    "ügyfél": "tunde",
                                    "szállítási mód": "Posta",
                                    "megrendelések száma": "6"
                                },
                                {
                                    "ügyfél": "tunde",
                                    "szállítási mód": "Személyes átvétel",
                                    "megrendelések száma": "4"
                                },
                                {
                                    "ügyfél": "tunde",
                                    "szállítási mód": "NULL",
                                    "megrendelések száma": "16"
                                },
                                {
                                    "ügyfél": "valentin",
                                    "szállítási mód": "GLS",
                                    "megrendelések száma": "5"
                                },
                                {
                                    "ügyfél": "valentin",
                                    "szállítási mód": "Posta",
                                    "megrendelések száma": "5"
                                },
                                {
                                    "ügyfél": "valentin",
                                    "szállítási mód": "Személyes átvétel",
                                    "megrendelések száma": "3"
                                },
                                {
                                    "ügyfél": "valentin",
                                    "szállítási mód": "NULL",
                                    "megrendelések száma": "13"
                                },
                                {
                                    "ügyfél": "veronika4",
                                    "szállítási mód": "GLS",
                                    "megrendelések száma": "5"
                                },
                                {
                                    "ügyfél": "veronika4",
                                    "szállítási mód": "Posta",
                                    "megrendelések száma": "6"
                                },
                                {
                                    "ügyfél": "veronika4",
                                    "szállítási mód": "Személyes átvétel",
                                    "megrendelések száma": "7"
                                },
                                {
                                    "ügyfél": "veronika4",
                                    "szállítási mód": "NULL",
                                    "megrendelések száma": "18"
                                },
                                {
                                    "ügyfél": "VIKTORIAU",
                                    "szállítási mód": "GLS",
                                    "megrendelések száma": "5"
                                },
                                {
                                    "ügyfél": "VIKTORIAU",
                                    "szállítási mód": "Posta",
                                    "megrendelések száma": "4"
                                },
                                {
                                    "ügyfél": "VIKTORIAU",
                                    "szállítási mód": "Személyes átvétel",
                                    "megrendelések száma": "5"
                                },
                                {
                                    "ügyfél": "VIKTORIAU",
                                    "szállítási mód": "NULL",
                                    "megrendelések száma": "14"
                                },
                                {
                                    "ügyfél": "VIKTORK",
                                    "szállítási mód": "GLS",
                                    "megrendelések száma": "8"
                                },
                                {
                                    "ügyfél": "VIKTORK",
                                    "szállítási mód": "Posta",
                                    "megrendelések száma": "6"
                                },
                                {
                                    "ügyfél": "VIKTORK",
                                    "szállítási mód": "Személyes átvétel",
                                    "megrendelések száma": "6"
                                },
                                {
                                    "ügyfél": "VIKTORK",
                                    "szállítási mód": "NULL",
                                    "megrendelések száma": "20"
                                },
                                {
                                    "ügyfél": "vivien3",
                                    "szállítási mód": "GLS",
                                    "megrendelések száma": "9"
                                },
                                {
                                    "ügyfél": "vivien3",
                                    "szállítási mód": "Posta",
                                    "megrendelések száma": "6"
                                },
                                {
                                    "ügyfél": "vivien3",
                                    "szállítási mód": "Személyes átvétel",
                                    "megrendelések száma": "7"
                                },
                                {
                                    "ügyfél": "vivien3",
                                    "szállítási mód": "NULL",
                                    "megrendelések száma": "22"
                                },
                                {
                                    "ügyfél": "zoltan",
                                    "szállítási mód": "GLS",
                                    "megrendelések száma": "5"
                                },
                                {
                                    "ügyfél": "zoltan",
                                    "szállítási mód": "Posta",
                                    "megrendelések száma": "3"
                                },
                                {
                                    "ügyfél": "zoltan",
                                    "szállítási mód": "Személyes átvétel",
                                    "megrendelések száma": "7"
                                },
                                {
                                    "ügyfél": "zoltan",
                                    "szállítási mód": "NULL",
                                    "megrendelések száma": "15"
                                },
                                {
                                    "ügyfél": "zoltan4",
                                    "szállítási mód": "GLS",
                                    "megrendelések száma": "129"
                                },
                                {
                                    "ügyfél": "zoltan4",
                                    "szállítási mód": "Posta",
                                    "megrendelések száma": "124"
                                },
                                {
                                    "ügyfél": "zoltan4",
                                    "szállítási mód": "Személyes átvétel",
                                    "megrendelések száma": "171"
                                },
                                {
                                    "ügyfél": "zoltan4",
                                    "szállítási mód": "NULL",
                                    "megrendelések száma": "424"
                                },
                                {
                                    "ügyfél": "ZOLTANP",
                                    "szállítási mód": "GLS",
                                    "megrendelések száma": "6"
                                },
                                {
                                    "ügyfél": "ZOLTANP",
                                    "szállítási mód": "Posta",
                                    "megrendelések száma": "3"
                                },
                                {
                                    "ügyfél": "ZOLTANP",
                                    "szállítási mód": "Személyes átvétel",
                                    "megrendelések száma": "4"
                                },
                                {
                                    "ügyfél": "ZOLTANP",
                                    "szállítási mód": "NULL",
                                    "megrendelések száma": "13"
                                },
                                {
                                    "ügyfél": "ZOLTANT",
                                    "szállítási mód": "GLS",
                                    "megrendelések száma": "127"
                                },
                                {
                                    "ügyfél": "ZOLTANT",
                                    "szállítási mód": "Posta",
                                    "megrendelések száma": "107"
                                },
                                {
                                    "ügyfél": "ZOLTANT",
                                    "szállítási mód": "Személyes átvétel",
                                    "megrendelések száma": "123"
                                },
                                {
                                    "ügyfél": "ZOLTANT",
                                    "szállítási mód": "NULL",
                                    "megrendelések száma": "357"
                                },
                                {
                                    "ügyfél": "zsofi1",
                                    "szállítási mód": "GLS",
                                    "megrendelések száma": "7"
                                },
                                {
                                    "ügyfél": "zsofi1",
                                    "szállítási mód": "Posta",
                                    "megrendelések száma": "6"
                                },
                                {
                                    "ügyfél": "zsofi1",
                                    "szállítási mód": "Személyes átvétel",
                                    "megrendelések száma": "6"
                                },
                                {
                                    "ügyfél": "zsofi1",
                                    "szállítási mód": "NULL",
                                    "megrendelések száma": "19"
                                },
                                {
                                    "ügyfél": "zsolt1",
                                    "szállítási mód": "GLS",
                                    "megrendelések száma": "11"
                                },
                                {
                                    "ügyfél": "zsolt1",
                                    "szállítási mód": "Posta",
                                    "megrendelések száma": "6"
                                },
                                {
                                    "ügyfél": "zsolt1",
                                    "szállítási mód": "Személyes átvétel",
                                    "megrendelések száma": "3"
                                },
                                {
                                    "ügyfél": "zsolt1",
                                    "szállítási mód": "NULL",
                                    "megrendelések száma": "20"
                                },
                                {
                                    "ügyfél": "ZSOLTJ",
                                    "szállítási mód": "GLS",
                                    "megrendelések száma": "1"
                                },
                                {
                                    "ügyfél": "ZSOLTJ",
                                    "szállítási mód": "Posta",
                                    "megrendelések száma": "8"
                                },
                                {
                                    "ügyfél": "ZSOLTJ",
                                    "szállítási mód": "Személyes átvétel",
                                    "megrendelések száma": "9"
                                },
                                {
                                    "ügyfél": "ZSOLTJ",
                                    "szállítási mód": "NULL",
                                    "megrendelések száma": "18"
                                },
                                {
                                    "ügyfél": "zsuzsa",
                                    "szállítási mód": "GLS",
                                    "megrendelések száma": "8"
                                },
                                {
                                    "ügyfél": "zsuzsa",
                                    "szállítási mód": "Posta",
                                    "megrendelések száma": "5"
                                },
                                {
                                    "ügyfél": "zsuzsa",
                                    "szállítási mód": "Személyes átvétel",
                                    "megrendelések száma": "3"
                                },
                                {
                                    "ügyfél": "zsuzsa",
                                    "szállítási mód": "NULL",
                                    "megrendelések száma": "16"
                                },
                                {
                                    "ügyfél": "zsuzsa3",
                                    "szállítási mód": "GLS",
                                    "megrendelések száma": "5"
                                },
                                {
                                    "ügyfél": "zsuzsa3",
                                    "szállítási mód": "Posta",
                                    "megrendelések száma": "5"
                                },
                                {
                                    "ügyfél": "zsuzsa3",
                                    "szállítási mód": "Személyes átvétel",
                                    "megrendelések száma": "6"
                                },
                                {
                                    "ügyfél": "zsuzsa3",
                                    "szállítási mód": "NULL",
                                    "megrendelések száma": "16"
                                },
                                {
                                    "ügyfél": "zsuzsanna",
                                    "szállítási mód": "GLS",
                                    "megrendelések száma": "7"
                                },
                                {
                                    "ügyfél": "zsuzsanna",
                                    "szállítási mód": "Posta",
                                    "megrendelések száma": "5"
                                },
                                {
                                    "ügyfél": "zsuzsanna",
                                    "szállítási mód": "Személyes átvétel",
                                    "megrendelések száma": "3"
                                },
                                {
                                    "ügyfél": "zsuzsanna",
                                    "szállítási mód": "NULL",
                                    "megrendelések száma": "15"
                                },
                                {
                                    "ügyfél": "ZSUZSAV",
                                    "szállítási mód": "GLS",
                                    "megrendelések száma": "139"
                                },
                                {
                                    "ügyfél": "ZSUZSAV",
                                    "szállítási mód": "Posta",
                                    "megrendelések száma": "139"
                                },
                                {
                                    "ügyfél": "ZSUZSAV",
                                    "szállítási mód": "Személyes átvétel",
                                    "megrendelések száma": "142"
                                },
                                {
                                    "ügyfél": "ZSUZSAV",
                                    "szállítási mód": "NULL",
                                    "megrendelések száma": "420"
                                },
                                {
                                    "ügyfél": "NULL",
                                    "szállítási mód": "NULL",
                                    "megrendelések száma": "28085"
                                }
                            ]
                        },
                        "text/html": [
                            "<table>",
                            "<tr><th>ügyfél</th><th>szállítási mód</th><th>megrendelések száma</th></tr>",
                            "<tr><td>adam1</td><td>GLS</td><td>129</td></tr>",
                            "<tr><td>adam1</td><td>Posta</td><td>132</td></tr>",
                            "<tr><td>adam1</td><td>Személyes átvétel</td><td>131</td></tr>",
                            "<tr><td>adam1</td><td>NULL</td><td>392</td></tr>",
                            "<tr><td>adam3</td><td>GLS</td><td>10</td></tr>",
                            "<tr><td>adam3</td><td>Posta</td><td>3</td></tr>",
                            "<tr><td>adam3</td><td>Személyes átvétel</td><td>2</td></tr>",
                            "<tr><td>adam3</td><td>NULL</td><td>15</td></tr>",
                            "<tr><td>adam4</td><td>GLS</td><td>12</td></tr>",
                            "<tr><td>adam4</td><td>Posta</td><td>6</td></tr>",
                            "<tr><td>adam4</td><td>Személyes átvétel</td><td>11</td></tr>",
                            "<tr><td>adam4</td><td>NULL</td><td>29</td></tr>",
                            "<tr><td>agnes</td><td>GLS</td><td>144</td></tr>",
                            "<tr><td>agnes</td><td>Posta</td><td>130</td></tr>",
                            "<tr><td>agnes</td><td>Személyes átvétel</td><td>144</td></tr>",
                            "<tr><td>agnes</td><td>NULL</td><td>418</td></tr>",
                            "<tr><td>agnes3</td><td>GLS</td><td>148</td></tr>",
                            "<tr><td>agnes3</td><td>Posta</td><td>146</td></tr>",
                            "<tr><td>agnes3</td><td>Személyes átvétel</td><td>136</td></tr>",
                            "<tr><td>agnes3</td><td>NULL</td><td>430</td></tr>",
                            "<tr><td>AGNESH</td><td>GLS</td><td>2</td></tr>",
                            "<tr><td>AGNESH</td><td>Posta</td><td>3</td></tr>",
                            "<tr><td>AGNESH</td><td>Személyes átvétel</td><td>6</td></tr>",
                            "<tr><td>AGNESH</td><td>NULL</td><td>11</td></tr>",
                            "<tr><td>AGNESK</td><td>GLS</td><td>1</td></tr>",
                            "<tr><td>AGNESK</td><td>Posta</td><td>7</td></tr>",
                            "<tr><td>AGNESK</td><td>Személyes átvétel</td><td>7</td></tr>",
                            "<tr><td>AGNESK</td><td>NULL</td><td>15</td></tr>",
                            "<tr><td>akos</td><td>GLS</td><td>146</td></tr>",
                            "<tr><td>akos</td><td>Posta</td><td>143</td></tr>",
                            "<tr><td>akos</td><td>Személyes átvétel</td><td>140</td></tr>",
                            "<tr><td>akos</td><td>NULL</td><td>429</td></tr>",
                            "<tr><td>aladar</td><td>GLS</td><td>156</td></tr>",
                            "<tr><td>aladar</td><td>Posta</td><td>134</td></tr>",
                            "<tr><td>aladar</td><td>Személyes átvétel</td><td>118</td></tr>",
                            "<tr><td>aladar</td><td>NULL</td><td>408</td></tr>",
                            "<tr><td>alexandra</td><td>GLS</td><td>5</td></tr>",
                            "<tr><td>alexandra</td><td>Posta</td><td>9</td></tr>",
                            "<tr><td>alexandra</td><td>Személyes átvétel</td><td>5</td></tr>",
                            "<tr><td>alexandra</td><td>NULL</td><td>19</td></tr>",
                            "<tr><td>andi</td><td>GLS</td><td>7</td></tr>",
                            "<tr><td>andi</td><td>Posta</td><td>4</td></tr>",
                            "<tr><td>andi</td><td>Személyes átvétel</td><td>7</td></tr>",
                            "<tr><td>andi</td><td>NULL</td><td>18</td></tr>",
                            "<tr><td>andras2</td><td>GLS</td><td>4</td></tr>",
                            "<tr><td>andras2</td><td>Posta</td><td>7</td></tr>",
                            "<tr><td>andras2</td><td>Személyes átvétel</td><td>11</td></tr>",
                            "<tr><td>andras2</td><td>NULL</td><td>22</td></tr>",
                            "<tr><td>andras21</td><td>GLS</td><td>140</td></tr>",
                            "<tr><td>andras21</td><td>Posta</td><td>124</td></tr>",
                            "<tr><td>andras21</td><td>Személyes átvétel</td><td>126</td></tr>",
                            "<tr><td>andras21</td><td>NULL</td><td>390</td></tr>",
                            "<tr><td>andras3</td><td>GLS</td><td>3</td></tr>",
                            "<tr><td>andras3</td><td>Posta</td><td>1</td></tr>",
                            "<tr><td>andras3</td><td>Személyes átvétel</td><td>5</td></tr>",
                            "<tr><td>andras3</td><td>NULL</td><td>9</td></tr>",
                            "<tr><td>andras4</td><td>GLS</td><td>4</td></tr>",
                            "<tr><td>andras4</td><td>Posta</td><td>4</td></tr>",
                            "<tr><td>andras4</td><td>Személyes átvétel</td><td>4</td></tr>",
                            "<tr><td>andras4</td><td>NULL</td><td>12</td></tr>",
                            "<tr><td>andras41</td><td>GLS</td><td>149</td></tr>",
                            "<tr><td>andras41</td><td>Posta</td><td>137</td></tr>",
                            "<tr><td>andras41</td><td>Személyes átvétel</td><td>133</td></tr>",
                            "<tr><td>andras41</td><td>NULL</td><td>419</td></tr>",
                            "<tr><td>ANDRASE</td><td>GLS</td><td>159</td></tr>",
                            "<tr><td>ANDRASE</td><td>Posta</td><td>141</td></tr>",
                            "<tr><td>ANDRASE</td><td>Személyes átvétel</td><td>136</td></tr>",
                            "<tr><td>ANDRASE</td><td>NULL</td><td>436</td></tr>",
                            "<tr><td>ANDRASN</td><td>GLS</td><td>10</td></tr>",
                            "<tr><td>ANDRASN</td><td>Posta</td><td>9</td></tr>",
                            "<tr><td>ANDRASN</td><td>Személyes átvétel</td><td>5</td></tr>",
                            "<tr><td>ANDRASN</td><td>NULL</td><td>24</td></tr>",
                            "<tr><td>andrea</td><td>GLS</td><td>12</td></tr>",
                            "<tr><td>andrea</td><td>Posta</td><td>4</td></tr>",
                            "<tr><td>andrea</td><td>Személyes átvétel</td><td>8</td></tr>",
                            "<tr><td>andrea</td><td>NULL</td><td>24</td></tr>",
                            "<tr><td>andrea3</td><td>GLS</td><td>131</td></tr>",
                            "<tr><td>andrea3</td><td>Posta</td><td>136</td></tr>",
                            "<tr><td>andrea3</td><td>Személyes átvétel</td><td>146</td></tr>",
                            "<tr><td>andrea3</td><td>NULL</td><td>413</td></tr>",
                            "<tr><td>andrea4</td><td>GLS</td><td>7</td></tr>",
                            "<tr><td>andrea4</td><td>Posta</td><td>4</td></tr>",
                            "<tr><td>andrea4</td><td>Személyes átvétel</td><td>7</td></tr>",
                            "<tr><td>andrea4</td><td>NULL</td><td>18</td></tr>",
                            "<tr><td>ANDREAT</td><td>GLS</td><td>3</td></tr>",
                            "<tr><td>ANDREAT</td><td>Posta</td><td>6</td></tr>",
                            "<tr><td>ANDREAT</td><td>Személyes átvétel</td><td>12</td></tr>",
                            "<tr><td>ANDREAT</td><td>NULL</td><td>21</td></tr>",
                            "<tr><td>anett3</td><td>GLS</td><td>3</td></tr>",
                            "<tr><td>anett3</td><td>Posta</td><td>6</td></tr>",
                            "<tr><td>anett3</td><td>Személyes átvétel</td><td>9</td></tr>",
                            "<tr><td>anett3</td><td>NULL</td><td>18</td></tr>",
                            "<tr><td>aniko</td><td>GLS</td><td>128</td></tr>",
                            "<tr><td>aniko</td><td>Posta</td><td>137</td></tr>",
                            "<tr><td>aniko</td><td>Személyes átvétel</td><td>138</td></tr>",
                            "<tr><td>aniko</td><td>NULL</td><td>403</td></tr>",
                            "<tr><td>aniko4</td><td>GLS</td><td>6</td></tr>",
                            "<tr><td>aniko4</td><td>Posta</td><td>6</td></tr>",
                            "<tr><td>aniko4</td><td>Személyes átvétel</td><td>3</td></tr>",
                            "<tr><td>aniko4</td><td>NULL</td><td>15</td></tr>",
                            "<tr><td>ANIKOS</td><td>GLS</td><td>128</td></tr>",
                            "<tr><td>ANIKOS</td><td>Posta</td><td>126</td></tr>",
                            "<tr><td>ANIKOS</td><td>Személyes átvétel</td><td>150</td></tr>",
                            "<tr><td>ANIKOS</td><td>NULL</td><td>404</td></tr>",
                            "<tr><td>anita</td><td>GLS</td><td>5</td></tr>",
                            "<tr><td>anita</td><td>Posta</td><td>2</td></tr>",
                            "<tr><td>anita</td><td>Személyes átvétel</td><td>5</td></tr>",
                            "<tr><td>anita</td><td>NULL</td><td>12</td></tr>",
                            "<tr><td>annamaria1</td><td>GLS</td><td>5</td></tr>",
                            "<tr><td>annamaria1</td><td>Posta</td><td>4</td></tr>",
                            "<tr><td>annamaria1</td><td>Személyes átvétel</td><td>7</td></tr>",
                            "<tr><td>annamaria1</td><td>NULL</td><td>16</td></tr>",
                            "<tr><td>ANNAMARIAR</td><td>GLS</td><td>8</td></tr>",
                            "<tr><td>ANNAMARIAR</td><td>Posta</td><td>2</td></tr>",
                            "<tr><td>ANNAMARIAR</td><td>Személyes átvétel</td><td>3</td></tr>",
                            "<tr><td>ANNAMARIAR</td><td>NULL</td><td>13</td></tr>",
                            "<tr><td>aron2</td><td>GLS</td><td>132</td></tr>",
                            "<tr><td>aron2</td><td>Posta</td><td>133</td></tr>",
                            "<tr><td>aron2</td><td>Személyes átvétel</td><td>144</td></tr>",
                            "<tr><td>aron2</td><td>NULL</td><td>409</td></tr>",
                            "<tr><td>ARONK</td><td>GLS</td><td>155</td></tr>",
                            "<tr><td>ARONK</td><td>Posta</td><td>120</td></tr>",
                            "<tr><td>ARONK</td><td>Személyes átvétel</td><td>155</td></tr>",
                            "<tr><td>ARONK</td><td>NULL</td><td>430</td></tr>",
                            "<tr><td>arpad2</td><td>GLS</td><td>6</td></tr>",
                            "<tr><td>arpad2</td><td>Posta</td><td>1</td></tr>",
                            "<tr><td>arpad2</td><td>Személyes átvétel</td><td>10</td></tr>",
                            "<tr><td>arpad2</td><td>NULL</td><td>17</td></tr>",
                            "<tr><td>ARPADH</td><td>GLS</td><td>6</td></tr>",
                            "<tr><td>ARPADH</td><td>Posta</td><td>3</td></tr>",
                            "<tr><td>ARPADH</td><td>Személyes átvétel</td><td>5</td></tr>",
                            "<tr><td>ARPADH</td><td>NULL</td><td>14</td></tr>",
                            "<tr><td>ARPADM</td><td>GLS</td><td>6</td></tr>",
                            "<tr><td>ARPADM</td><td>Posta</td><td>3</td></tr>",
                            "<tr><td>ARPADM</td><td>Személyes átvétel</td><td>7</td></tr>",
                            "<tr><td>ARPADM</td><td>NULL</td><td>16</td></tr>",
                            "<tr><td>attila1</td><td>GLS</td><td>5</td></tr>",
                            "<tr><td>attila1</td><td>Posta</td><td>7</td></tr>",
                            "<tr><td>attila1</td><td>Személyes átvétel</td><td>6</td></tr>",
                            "<tr><td>attila1</td><td>NULL</td><td>18</td></tr>",
                            "<tr><td>attila4</td><td>GLS</td><td>135</td></tr>",
                            "<tr><td>attila4</td><td>Posta</td><td>125</td></tr>",
                            "<tr><td>attila4</td><td>Személyes átvétel</td><td>141</td></tr>",
                            "<tr><td>attila4</td><td>NULL</td><td>401</td></tr>",
                            "<tr><td>ATTILAO</td><td>GLS</td><td>4</td></tr>",
                            "<tr><td>ATTILAO</td><td>Posta</td><td>4</td></tr>",
                            "<tr><td>ATTILAO</td><td>Személyes átvétel</td><td>6</td></tr>",
                            "<tr><td>ATTILAO</td><td>NULL</td><td>14</td></tr>",
                            "<tr><td>balazs1</td><td>GLS</td><td>128</td></tr>",
                            "<tr><td>balazs1</td><td>Posta</td><td>136</td></tr>",
                            "<tr><td>balazs1</td><td>Személyes átvétel</td><td>155</td></tr>",
                            "<tr><td>balazs1</td><td>NULL</td><td>419</td></tr>",
                            "<tr><td>balazs2</td><td>GLS</td><td>5</td></tr>",
                            "<tr><td>balazs2</td><td>Posta</td><td>7</td></tr>",
                            "<tr><td>balazs2</td><td>Személyes átvétel</td><td>5</td></tr>",
                            "<tr><td>balazs2</td><td>NULL</td><td>17</td></tr>",
                            "<tr><td>balazs3</td><td>GLS</td><td>6</td></tr>",
                            "<tr><td>balazs3</td><td>Posta</td><td>6</td></tr>",
                            "<tr><td>balazs3</td><td>Személyes átvétel</td><td>3</td></tr>",
                            "<tr><td>balazs3</td><td>NULL</td><td>15</td></tr>",
                            "<tr><td>balint</td><td>GLS</td><td>10</td></tr>",
                            "<tr><td>balint</td><td>Posta</td><td>4</td></tr>",
                            "<tr><td>balint</td><td>Személyes átvétel</td><td>2</td></tr>",
                            "<tr><td>balint</td><td>NULL</td><td>16</td></tr>",
                            "<tr><td>balint1</td><td>GLS</td><td>158</td></tr>",
                            "<tr><td>balint1</td><td>Posta</td><td>152</td></tr>",
                            "<tr><td>balint1</td><td>Személyes átvétel</td><td>152</td></tr>",
                            "<tr><td>balint1</td><td>NULL</td><td>462</td></tr>",
                            "<tr><td>balint2</td><td>GLS</td><td>8</td></tr>",
                            "<tr><td>balint2</td><td>Posta</td><td>6</td></tr>",
                            "<tr><td>balint2</td><td>Személyes átvétel</td><td>3</td></tr>",
                            "<tr><td>balint2</td><td>NULL</td><td>17</td></tr>",
                            "<tr><td>balu</td><td>GLS</td><td>127</td></tr>",
                            "<tr><td>balu</td><td>Posta</td><td>137</td></tr>",
                            "<tr><td>balu</td><td>Személyes átvétel</td><td>123</td></tr>",
                            "<tr><td>balu</td><td>NULL</td><td>387</td></tr>",
                            "<tr><td>BEATRIXK</td><td>GLS</td><td>135</td></tr>",
                            "<tr><td>BEATRIXK</td><td>Posta</td><td>155</td></tr>",
                            "<tr><td>BEATRIXK</td><td>Személyes átvétel</td><td>145</td></tr>",
                            "<tr><td>BEATRIXK</td><td>NULL</td><td>435</td></tr>",
                            "<tr><td>BEATRIXS</td><td>GLS</td><td>146</td></tr>",
                            "<tr><td>BEATRIXS</td><td>Posta</td><td>141</td></tr>",
                            "<tr><td>BEATRIXS</td><td>Személyes átvétel</td><td>133</td></tr>",
                            "<tr><td>BEATRIXS</td><td>NULL</td><td>420</td></tr>",
                            "<tr><td>BELAF</td><td>GLS</td><td>11</td></tr>",
                            "<tr><td>BELAF</td><td>Posta</td><td>2</td></tr>",
                            "<tr><td>BELAF</td><td>Személyes átvétel</td><td>5</td></tr>",
                            "<tr><td>BELAF</td><td>NULL</td><td>18</td></tr>",
                            "<tr><td>bence</td><td>GLS</td><td>4</td></tr>",
                            "<tr><td>bence</td><td>Posta</td><td>6</td></tr>",
                            "<tr><td>bence</td><td>Személyes átvétel</td><td>8</td></tr>",
                            "<tr><td>bence</td><td>NULL</td><td>18</td></tr>",
                            "<tr><td>BENCEB</td><td>GLS</td><td>5</td></tr>",
                            "<tr><td>BENCEB</td><td>Posta</td><td>7</td></tr>",
                            "<tr><td>BENCEB</td><td>Személyes átvétel</td><td>5</td></tr>",
                            "<tr><td>BENCEB</td><td>NULL</td><td>17</td></tr>",
                            "<tr><td>bernadett1</td><td>GLS</td><td>10</td></tr>",
                            "<tr><td>bernadett1</td><td>Posta</td><td>5</td></tr>",
                            "<tr><td>bernadett1</td><td>Személyes átvétel</td><td>5</td></tr>",
                            "<tr><td>bernadett1</td><td>NULL</td><td>20</td></tr>",
                            "<tr><td>bernadett2</td><td>GLS</td><td>6</td></tr>",
                            "<tr><td>bernadett2</td><td>Posta</td><td>2</td></tr>",
                            "<tr><td>bernadett2</td><td>Személyes átvétel</td><td>7</td></tr>",
                            "<tr><td>bernadett2</td><td>NULL</td><td>15</td></tr>",
                            "<tr><td>BERNADETTO</td><td>GLS</td><td>7</td></tr>",
                            "<tr><td>BERNADETTO</td><td>Posta</td><td>2</td></tr>",
                            "<tr><td>BERNADETTO</td><td>Személyes átvétel</td><td>7</td></tr>",
                            "<tr><td>BERNADETTO</td><td>NULL</td><td>16</td></tr>",
                            "<tr><td>bertalan</td><td>GLS</td><td>128</td></tr>",
                            "<tr><td>bertalan</td><td>Posta</td><td>124</td></tr>",
                            "<tr><td>bertalan</td><td>Személyes átvétel</td><td>101</td></tr>",
                            "<tr><td>bertalan</td><td>NULL</td><td>353</td></tr>",
                            "<tr><td>brigitta</td><td>GLS</td><td>137</td></tr>",
                            "<tr><td>brigitta</td><td>Posta</td><td>137</td></tr>",
                            "<tr><td>brigitta</td><td>Személyes átvétel</td><td>119</td></tr>",
                            "<tr><td>brigitta</td><td>NULL</td><td>393</td></tr>",
                            "<tr><td>brigitta3</td><td>GLS</td><td>144</td></tr>",
                            "<tr><td>brigitta3</td><td>Posta</td><td>130</td></tr>",
                            "<tr><td>brigitta3</td><td>Személyes átvétel</td><td>139</td></tr>",
                            "<tr><td>brigitta3</td><td>NULL</td><td>413</td></tr>",
                            "<tr><td>csongor3</td><td>GLS</td><td>5</td></tr>",
                            "<tr><td>csongor3</td><td>Posta</td><td>2</td></tr>",
                            "<tr><td>csongor3</td><td>Személyes átvétel</td><td>8</td></tr>",
                            "<tr><td>csongor3</td><td>NULL</td><td>15</td></tr>",
                            "<tr><td>dani</td><td>GLS</td><td>5</td></tr>",
                            "<tr><td>dani</td><td>Személyes átvétel</td><td>8</td></tr>",
                            "<tr><td>dani</td><td>NULL</td><td>13</td></tr>",
                            "<tr><td>daniel</td><td>GLS</td><td>7</td></tr>",
                            "<tr><td>daniel</td><td>Posta</td><td>2</td></tr>",
                            "<tr><td>daniel</td><td>Személyes átvétel</td><td>4</td></tr>",
                            "<tr><td>daniel</td><td>NULL</td><td>13</td></tr>",
                            "<tr><td>daniel1</td><td>GLS</td><td>156</td></tr>",
                            "<tr><td>daniel1</td><td>Posta</td><td>131</td></tr>",
                            "<tr><td>daniel1</td><td>Személyes átvétel</td><td>132</td></tr>",
                            "<tr><td>daniel1</td><td>NULL</td><td>419</td></tr>",
                            "<tr><td>david</td><td>GLS</td><td>161</td></tr>",
                            "<tr><td>david</td><td>Posta</td><td>144</td></tr>",
                            "<tr><td>david</td><td>Személyes átvétel</td><td>146</td></tr>",
                            "<tr><td>david</td><td>NULL</td><td>451</td></tr>",
                            "<tr><td>david1</td><td>GLS</td><td>8</td></tr>",
                            "<tr><td>david1</td><td>Posta</td><td>1</td></tr>",
                            "<tr><td>david1</td><td>Személyes átvétel</td><td>8</td></tr>",
                            "<tr><td>david1</td><td>NULL</td><td>17</td></tr>",
                            "<tr><td>david4</td><td>GLS</td><td>3</td></tr>",
                            "<tr><td>david4</td><td>Posta</td><td>8</td></tr>",
                            "<tr><td>david4</td><td>Személyes átvétel</td><td>10</td></tr>",
                            "<tr><td>david4</td><td>NULL</td><td>21</td></tr>",
                            "<tr><td>debora</td><td>GLS</td><td>7</td></tr>",
                            "<tr><td>debora</td><td>Posta</td><td>6</td></tr>",
                            "<tr><td>debora</td><td>Személyes átvétel</td><td>3</td></tr>",
                            "<tr><td>debora</td><td>NULL</td><td>16</td></tr>",
                            "<tr><td>denes</td><td>GLS</td><td>3</td></tr>",
                            "<tr><td>denes</td><td>Posta</td><td>2</td></tr>",
                            "<tr><td>denes</td><td>Személyes átvétel</td><td>4</td></tr>",
                            "<tr><td>denes</td><td>NULL</td><td>9</td></tr>",
                            "<tr><td>dora3</td><td>GLS</td><td>144</td></tr>",
                            "<tr><td>dora3</td><td>Posta</td><td>124</td></tr>",
                            "<tr><td>dora3</td><td>Személyes átvétel</td><td>164</td></tr>",
                            "<tr><td>dora3</td><td>NULL</td><td>432</td></tr>",
                            "<tr><td>edit</td><td>GLS</td><td>7</td></tr>",
                            "<tr><td>edit</td><td>Posta</td><td>2</td></tr>",
                            "<tr><td>edit</td><td>Személyes átvétel</td><td>4</td></tr>",
                            "<tr><td>edit</td><td>NULL</td><td>13</td></tr>",
                            "<tr><td>emese</td><td>GLS</td><td>128</td></tr>",
                            "<tr><td>emese</td><td>Posta</td><td>136</td></tr>",
                            "<tr><td>emese</td><td>Személyes átvétel</td><td>142</td></tr>",
                            "<tr><td>emese</td><td>NULL</td><td>406</td></tr>",
                            "<tr><td>eszter2</td><td>GLS</td><td>127</td></tr>",
                            "<tr><td>eszter2</td><td>Posta</td><td>136</td></tr>",
                            "<tr><td>eszter2</td><td>Személyes átvétel</td><td>152</td></tr>",
                            "<tr><td>eszter2</td><td>NULL</td><td>415</td></tr>",
                            "<tr><td>eszter4</td><td>GLS</td><td>141</td></tr>",
                            "<tr><td>eszter4</td><td>Posta</td><td>134</td></tr>",
                            "<tr><td>eszter4</td><td>Személyes átvétel</td><td>149</td></tr>",
                            "<tr><td>eszter4</td><td>NULL</td><td>424</td></tr>",
                            "<tr><td>ESZTERE</td><td>GLS</td><td>6</td></tr>",
                            "<tr><td>ESZTERE</td><td>Posta</td><td>9</td></tr>",
                            "<tr><td>ESZTERE</td><td>Személyes átvétel</td><td>7</td></tr>",
                            "<tr><td>ESZTERE</td><td>NULL</td><td>22</td></tr>",
                            "<tr><td>eva</td><td>GLS</td><td>125</td></tr>",
                            "<tr><td>eva</td><td>Posta</td><td>140</td></tr>",
                            "<tr><td>eva</td><td>Személyes átvétel</td><td>139</td></tr>",
                            "<tr><td>eva</td><td>NULL</td><td>404</td></tr>",
                            "<tr><td>eva2</td><td>GLS</td><td>154</td></tr>",
                            "<tr><td>eva2</td><td>Posta</td><td>138</td></tr>",
                            "<tr><td>eva2</td><td>Személyes átvétel</td><td>170</td></tr>",
                            "<tr><td>eva2</td><td>NULL</td><td>462</td></tr>",
                            "<tr><td>EVAV</td><td>GLS</td><td>2</td></tr>",
                            "<tr><td>EVAV</td><td>Posta</td><td>1</td></tr>",
                            "<tr><td>EVAV</td><td>Személyes átvétel</td><td>4</td></tr>",
                            "<tr><td>EVAV</td><td>NULL</td><td>7</td></tr>",
                            "<tr><td>ferenc1</td><td>GLS</td><td>144</td></tr>",
                            "<tr><td>ferenc1</td><td>Posta</td><td>158</td></tr>",
                            "<tr><td>ferenc1</td><td>Személyes átvétel</td><td>135</td></tr>",
                            "<tr><td>ferenc1</td><td>NULL</td><td>437</td></tr>",
                            "<tr><td>fruzsina4</td><td>GLS</td><td>8</td></tr>",
                            "<tr><td>fruzsina4</td><td>Posta</td><td>3</td></tr>",
                            "<tr><td>fruzsina4</td><td>Személyes átvétel</td><td>7</td></tr>",
                            "<tr><td>fruzsina4</td><td>NULL</td><td>18</td></tr>",
                            "<tr><td>gabor1</td><td>GLS</td><td>9</td></tr>",
                            "<tr><td>gabor1</td><td>Posta</td><td>5</td></tr>",
                            "<tr><td>gabor1</td><td>Személyes átvétel</td><td>5</td></tr>",
                            "<tr><td>gabor1</td><td>NULL</td><td>19</td></tr>",
                            "<tr><td>gabor4</td><td>GLS</td><td>7</td></tr>",
                            "<tr><td>gabor4</td><td>Posta</td><td>9</td></tr>",
                            "<tr><td>gabor4</td><td>Személyes átvétel</td><td>4</td></tr>",
                            "<tr><td>gabor4</td><td>NULL</td><td>20</td></tr>",
                            "<tr><td>GABORS</td><td>GLS</td><td>5</td></tr>",
                            "<tr><td>GABORS</td><td>Posta</td><td>6</td></tr>",
                            "<tr><td>GABORS</td><td>Személyes átvétel</td><td>4</td></tr>",
                            "<tr><td>GABORS</td><td>NULL</td><td>15</td></tr>",
                            "<tr><td>gabriella1</td><td>GLS</td><td>5</td></tr>",
                            "<tr><td>gabriella1</td><td>Posta</td><td>4</td></tr>",
                            "<tr><td>gabriella1</td><td>Személyes átvétel</td><td>5</td></tr>",
                            "<tr><td>gabriella1</td><td>NULL</td><td>14</td></tr>",
                            "<tr><td>gabriella10</td><td>GLS</td><td>4</td></tr>",
                            "<tr><td>gabriella10</td><td>Posta</td><td>5</td></tr>",
                            "<tr><td>gabriella10</td><td>Személyes átvétel</td><td>7</td></tr>",
                            "<tr><td>gabriella10</td><td>NULL</td><td>16</td></tr>",
                            "<tr><td>georgij</td><td>GLS</td><td>9</td></tr>",
                            "<tr><td>georgij</td><td>Posta</td><td>2</td></tr>",
                            "<tr><td>georgij</td><td>Személyes átvétel</td><td>10</td></tr>",
                            "<tr><td>georgij</td><td>NULL</td><td>21</td></tr>",
                            "<tr><td>gusztav</td><td>GLS</td><td>5</td></tr>",
                            "<tr><td>gusztav</td><td>Posta</td><td>4</td></tr>",
                            "<tr><td>gusztav</td><td>Személyes átvétel</td><td>5</td></tr>",
                            "<tr><td>gusztav</td><td>NULL</td><td>14</td></tr>",
                            "<tr><td>GYONGYIK</td><td>GLS</td><td>6</td></tr>",
                            "<tr><td>GYONGYIK</td><td>Posta</td><td>6</td></tr>",
                            "<tr><td>GYONGYIK</td><td>Személyes átvétel</td><td>3</td></tr>",
                            "<tr><td>GYONGYIK</td><td>NULL</td><td>15</td></tr>",
                            "<tr><td>GYORGYO</td><td>GLS</td><td>7</td></tr>",
                            "<tr><td>GYORGYO</td><td>Posta</td><td>4</td></tr>",
                            "<tr><td>GYORGYO</td><td>Személyes átvétel</td><td>5</td></tr>",
                            "<tr><td>GYORGYO</td><td>NULL</td><td>16</td></tr>",
                            "<tr><td>henrik3</td><td>GLS</td><td>7</td></tr>",
                            "<tr><td>henrik3</td><td>Posta</td><td>4</td></tr>",
                            "<tr><td>henrik3</td><td>Személyes átvétel</td><td>5</td></tr>",
                            "<tr><td>henrik3</td><td>NULL</td><td>16</td></tr>",
                            "<tr><td>IBOLYAA</td><td>GLS</td><td>140</td></tr>",
                            "<tr><td>IBOLYAA</td><td>Posta</td><td>125</td></tr>",
                            "<tr><td>IBOLYAA</td><td>Személyes átvétel</td><td>157</td></tr>",
                            "<tr><td>IBOLYAA</td><td>NULL</td><td>422</td></tr>",
                            "<tr><td>ilona3</td><td>GLS</td><td>9</td></tr>",
                            "<tr><td>ilona3</td><td>Posta</td><td>2</td></tr>",
                            "<tr><td>ilona3</td><td>Személyes átvétel</td><td>7</td></tr>",
                            "<tr><td>ilona3</td><td>NULL</td><td>18</td></tr>",
                            "<tr><td>imre</td><td>GLS</td><td>5</td></tr>",
                            "<tr><td>imre</td><td>Posta</td><td>4</td></tr>",
                            "<tr><td>imre</td><td>Személyes átvétel</td><td>6</td></tr>",
                            "<tr><td>imre</td><td>NULL</td><td>15</td></tr>",
                            "<tr><td>imre1</td><td>GLS</td><td>8</td></tr>",
                            "<tr><td>imre1</td><td>Posta</td><td>4</td></tr>",
                            "<tr><td>imre1</td><td>Személyes átvétel</td><td>3</td></tr>",
                            "<tr><td>imre1</td><td>NULL</td><td>15</td></tr>",
                            "<tr><td>istvan</td><td>GLS</td><td>3</td></tr>",
                            "<tr><td>istvan</td><td>Posta</td><td>4</td></tr>",
                            "<tr><td>istvan</td><td>Személyes átvétel</td><td>4</td></tr>",
                            "<tr><td>istvan</td><td>NULL</td><td>11</td></tr>",
                            "<tr><td>istvan1</td><td>GLS</td><td>8</td></tr>",
                            "<tr><td>istvan1</td><td>Posta</td><td>4</td></tr>",
                            "<tr><td>istvan1</td><td>Személyes átvétel</td><td>7</td></tr>",
                            "<tr><td>istvan1</td><td>NULL</td><td>19</td></tr>",
                            "<tr><td>ISTVANV</td><td>GLS</td><td>4</td></tr>",
                            "<tr><td>ISTVANV</td><td>Posta</td><td>9</td></tr>",
                            "<tr><td>ISTVANV</td><td>Személyes átvétel</td><td>8</td></tr>",
                            "<tr><td>ISTVANV</td><td>NULL</td><td>21</td></tr>",
                            "<tr><td>janos3</td><td>GLS</td><td>5</td></tr>",
                            "<tr><td>janos3</td><td>Posta</td><td>2</td></tr>",
                            "<tr><td>janos3</td><td>Személyes átvétel</td><td>6</td></tr>",
                            "<tr><td>janos3</td><td>NULL</td><td>13</td></tr>",
                            "<tr><td>JANOSG</td><td>GLS</td><td>3</td></tr>",
                            "<tr><td>JANOSG</td><td>Posta</td><td>3</td></tr>",
                            "<tr><td>JANOSG</td><td>Személyes átvétel</td><td>4</td></tr>",
                            "<tr><td>JANOSG</td><td>NULL</td><td>10</td></tr>",
                            "<tr><td>JANOSP</td><td>GLS</td><td>7</td></tr>",
                            "<tr><td>JANOSP</td><td>Posta</td><td>7</td></tr>",
                            "<tr><td>JANOSP</td><td>Személyes átvétel</td><td>3</td></tr>",
                            "<tr><td>JANOSP</td><td>NULL</td><td>17</td></tr>",
                            "<tr><td>jozsef</td><td>GLS</td><td>116</td></tr>",
                            "<tr><td>jozsef</td><td>Posta</td><td>132</td></tr>",
                            "<tr><td>jozsef</td><td>Személyes átvétel</td><td>134</td></tr>",
                            "<tr><td>jozsef</td><td>NULL</td><td>382</td></tr>",
                            "<tr><td>jozsef2</td><td>GLS</td><td>7</td></tr>",
                            "<tr><td>jozsef2</td><td>Posta</td><td>2</td></tr>",
                            "<tr><td>jozsef2</td><td>Személyes átvétel</td><td>4</td></tr>",
                            "<tr><td>jozsef2</td><td>NULL</td><td>13</td></tr>",
                            "<tr><td>JOZSEFG</td><td>GLS</td><td>11</td></tr>",
                            "<tr><td>JOZSEFG</td><td>Posta</td><td>1</td></tr>",
                            "<tr><td>JOZSEFG</td><td>Személyes átvétel</td><td>9</td></tr>",
                            "<tr><td>JOZSEFG</td><td>NULL</td><td>21</td></tr>",
                            "<tr><td>JUDITH</td><td>GLS</td><td>170</td></tr>",
                            "<tr><td>JUDITH</td><td>Posta</td><td>130</td></tr>",
                            "<tr><td>JUDITH</td><td>Személyes átvétel</td><td>150</td></tr>",
                            "<tr><td>JUDITH</td><td>NULL</td><td>450</td></tr>",
                            "<tr><td>julia</td><td>GLS</td><td>137</td></tr>",
                            "<tr><td>julia</td><td>Posta</td><td>160</td></tr>",
                            "<tr><td>julia</td><td>Személyes átvétel</td><td>138</td></tr>",
                            "<tr><td>julia</td><td>NULL</td><td>435</td></tr>",
                            "<tr><td>julia4</td><td>GLS</td><td>2</td></tr>",
                            "<tr><td>julia4</td><td>Posta</td><td>4</td></tr>",
                            "<tr><td>julia4</td><td>Személyes átvétel</td><td>8</td></tr>",
                            "<tr><td>julia4</td><td>NULL</td><td>14</td></tr>",
                            "<tr><td>julianna4</td><td>GLS</td><td>8</td></tr>",
                            "<tr><td>julianna4</td><td>Posta</td><td>12</td></tr>",
                            "<tr><td>julianna4</td><td>Személyes átvétel</td><td>7</td></tr>",
                            "<tr><td>julianna4</td><td>NULL</td><td>27</td></tr>",
                            "<tr><td>kata</td><td>GLS</td><td>5</td></tr>",
                            "<tr><td>kata</td><td>Posta</td><td>4</td></tr>",
                            "<tr><td>kata</td><td>Személyes átvétel</td><td>3</td></tr>",
                            "<tr><td>kata</td><td>NULL</td><td>12</td></tr>",
                            "<tr><td>katalin</td><td>GLS</td><td>7</td></tr>",
                            "<tr><td>katalin</td><td>Posta</td><td>7</td></tr>",
                            "<tr><td>katalin</td><td>Személyes átvétel</td><td>5</td></tr>",
                            "<tr><td>katalin</td><td>NULL</td><td>19</td></tr>",
                            "<tr><td>katalin4</td><td>GLS</td><td>7</td></tr>",
                            "<tr><td>katalin4</td><td>Posta</td><td>5</td></tr>",
                            "<tr><td>katalin4</td><td>Személyes átvétel</td><td>11</td></tr>",
                            "<tr><td>katalin4</td><td>NULL</td><td>23</td></tr>",
                            "<tr><td>kati</td><td>GLS</td><td>4</td></tr>",
                            "<tr><td>kati</td><td>Posta</td><td>5</td></tr>",
                            "<tr><td>kati</td><td>Személyes átvétel</td><td>4</td></tr>",
                            "<tr><td>kati</td><td>NULL</td><td>13</td></tr>",
                            "<tr><td>katka</td><td>GLS</td><td>6</td></tr>",
                            "<tr><td>katka</td><td>Posta</td><td>6</td></tr>",
                            "<tr><td>katka</td><td>Személyes átvétel</td><td>10</td></tr>",
                            "<tr><td>katka</td><td>NULL</td><td>22</td></tr>",
                            "<tr><td>klaudia2</td><td>GLS</td><td>3</td></tr>",
                            "<tr><td>klaudia2</td><td>Posta</td><td>9</td></tr>",
                            "<tr><td>klaudia2</td><td>Személyes átvétel</td><td>5</td></tr>",
                            "<tr><td>klaudia2</td><td>NULL</td><td>17</td></tr>",
                            "<tr><td>kornel4</td><td>GLS</td><td>3</td></tr>",
                            "<tr><td>kornel4</td><td>Posta</td><td>1</td></tr>",
                            "<tr><td>kornel4</td><td>Személyes átvétel</td><td>7</td></tr>",
                            "<tr><td>kornel4</td><td>NULL</td><td>11</td></tr>",
                            "<tr><td>kristof4</td><td>GLS</td><td>9</td></tr>",
                            "<tr><td>kristof4</td><td>Posta</td><td>4</td></tr>",
                            "<tr><td>kristof4</td><td>Személyes átvétel</td><td>8</td></tr>",
                            "<tr><td>kristof4</td><td>NULL</td><td>21</td></tr>",
                            "<tr><td>kriszti</td><td>GLS</td><td>3</td></tr>",
                            "<tr><td>kriszti</td><td>Posta</td><td>5</td></tr>",
                            "<tr><td>kriszti</td><td>Személyes átvétel</td><td>5</td></tr>",
                            "<tr><td>kriszti</td><td>NULL</td><td>13</td></tr>",
                            "<tr><td>krisztian4</td><td>GLS</td><td>5</td></tr>",
                            "<tr><td>krisztian4</td><td>Posta</td><td>6</td></tr>",
                            "<tr><td>krisztian4</td><td>Személyes átvétel</td><td>6</td></tr>",
                            "<tr><td>krisztian4</td><td>NULL</td><td>17</td></tr>",
                            "<tr><td>KRISZTIANM</td><td>GLS</td><td>118</td></tr>",
                            "<tr><td>KRISZTIANM</td><td>Posta</td><td>136</td></tr>",
                            "<tr><td>KRISZTIANM</td><td>Személyes átvétel</td><td>130</td></tr>",
                            "<tr><td>KRISZTIANM</td><td>NULL</td><td>384</td></tr>",
                            "<tr><td>krisztina</td><td>GLS</td><td>149</td></tr>",
                            "<tr><td>krisztina</td><td>Posta</td><td>150</td></tr>",
                            "<tr><td>krisztina</td><td>Személyes átvétel</td><td>157</td></tr>",
                            "<tr><td>krisztina</td><td>NULL</td><td>456</td></tr>",
                            "<tr><td>krisztina1</td><td>GLS</td><td>10</td></tr>",
                            "<tr><td>krisztina1</td><td>Posta</td><td>4</td></tr>",
                            "<tr><td>krisztina1</td><td>Személyes átvétel</td><td>8</td></tr>",
                            "<tr><td>krisztina1</td><td>NULL</td><td>22</td></tr>",
                            "<tr><td>KRISZTINAG</td><td>GLS</td><td>6</td></tr>",
                            "<tr><td>KRISZTINAG</td><td>Posta</td><td>6</td></tr>",
                            "<tr><td>KRISZTINAG</td><td>Személyes átvétel</td><td>10</td></tr>",
                            "<tr><td>KRISZTINAG</td><td>NULL</td><td>22</td></tr>",
                            "<tr><td>lajos</td><td>GLS</td><td>5</td></tr>",
                            "<tr><td>lajos</td><td>Posta</td><td>2</td></tr>",
                            "<tr><td>lajos</td><td>Személyes átvétel</td><td>9</td></tr>",
                            "<tr><td>lajos</td><td>NULL</td><td>16</td></tr>",
                            "<tr><td>lala</td><td>GLS</td><td>5</td></tr>",
                            "<tr><td>lala</td><td>Posta</td><td>3</td></tr>",
                            "<tr><td>lala</td><td>Személyes átvétel</td><td>9</td></tr>",
                            "<tr><td>lala</td><td>NULL</td><td>17</td></tr>",
                            "<tr><td>laszlo1</td><td>GLS</td><td>130</td></tr>",
                            "<tr><td>laszlo1</td><td>Posta</td><td>129</td></tr>",
                            "<tr><td>laszlo1</td><td>Személyes átvétel</td><td>135</td></tr>",
                            "<tr><td>laszlo1</td><td>NULL</td><td>394</td></tr>",
                            "<tr><td>laszlo2</td><td>GLS</td><td>12</td></tr>",
                            "<tr><td>laszlo2</td><td>Posta</td><td>6</td></tr>",
                            "<tr><td>laszlo2</td><td>Személyes átvétel</td><td>7</td></tr>",
                            "<tr><td>laszlo2</td><td>NULL</td><td>25</td></tr>",
                            "<tr><td>LASZLOA</td><td>GLS</td><td>156</td></tr>",
                            "<tr><td>LASZLOA</td><td>Posta</td><td>136</td></tr>",
                            "<tr><td>LASZLOA</td><td>Személyes átvétel</td><td>154</td></tr>",
                            "<tr><td>LASZLOA</td><td>NULL</td><td>446</td></tr>",
                            "<tr><td>LASZLON</td><td>GLS</td><td>126</td></tr>",
                            "<tr><td>LASZLON</td><td>Posta</td><td>131</td></tr>",
                            "<tr><td>LASZLON</td><td>Személyes átvétel</td><td>143</td></tr>",
                            "<tr><td>LASZLON</td><td>NULL</td><td>400</td></tr>",
                            "<tr><td>maria1</td><td>GLS</td><td>4</td></tr>",
                            "<tr><td>maria1</td><td>Posta</td><td>5</td></tr>",
                            "<tr><td>maria1</td><td>Személyes átvétel</td><td>1</td></tr>",
                            "<tr><td>maria1</td><td>NULL</td><td>10</td></tr>",
                            "<tr><td>MARKH</td><td>GLS</td><td>128</td></tr>",
                            "<tr><td>MARKH</td><td>Posta</td><td>142</td></tr>",
                            "<tr><td>MARKH</td><td>Személyes átvétel</td><td>142</td></tr>",
                            "<tr><td>MARKH</td><td>NULL</td><td>412</td></tr>",
                            "<tr><td>marton</td><td>GLS</td><td>5</td></tr>",
                            "<tr><td>marton</td><td>Posta</td><td>4</td></tr>",
                            "<tr><td>marton</td><td>Személyes átvétel</td><td>5</td></tr>",
                            "<tr><td>marton</td><td>NULL</td><td>14</td></tr>",
                            "<tr><td>MATEK</td><td>GLS</td><td>6</td></tr>",
                            "<tr><td>MATEK</td><td>Posta</td><td>10</td></tr>",
                            "<tr><td>MATEK</td><td>Személyes átvétel</td><td>9</td></tr>",
                            "<tr><td>MATEK</td><td>NULL</td><td>25</td></tr>",
                            "<tr><td>matyas2</td><td>GLS</td><td>138</td></tr>",
                            "<tr><td>matyas2</td><td>Posta</td><td>131</td></tr>",
                            "<tr><td>matyas2</td><td>Személyes átvétel</td><td>164</td></tr>",
                            "<tr><td>matyas2</td><td>NULL</td><td>433</td></tr>",
                            "<tr><td>MATYASS</td><td>GLS</td><td>4</td></tr>",
                            "<tr><td>MATYASS</td><td>Posta</td><td>5</td></tr>",
                            "<tr><td>MATYASS</td><td>Személyes átvétel</td><td>3</td></tr>",
                            "<tr><td>MATYASS</td><td>NULL</td><td>12</td></tr>",
                            "<tr><td>MIHALYJ</td><td>GLS</td><td>3</td></tr>",
                            "<tr><td>MIHALYJ</td><td>Posta</td><td>4</td></tr>",
                            "<tr><td>MIHALYJ</td><td>Személyes átvétel</td><td>6</td></tr>",
                            "<tr><td>MIHALYJ</td><td>NULL</td><td>13</td></tr>",
                            "<tr><td>miklos2</td><td>GLS</td><td>7</td></tr>",
                            "<tr><td>miklos2</td><td>Posta</td><td>4</td></tr>",
                            "<tr><td>miklos2</td><td>Személyes átvétel</td><td>2</td></tr>",
                            "<tr><td>miklos2</td><td>NULL</td><td>13</td></tr>",
                            "<tr><td>MIKLOSB</td><td>GLS</td><td>6</td></tr>",
                            "<tr><td>MIKLOSB</td><td>Posta</td><td>1</td></tr>",
                            "<tr><td>MIKLOSB</td><td>Személyes átvétel</td><td>8</td></tr>",
                            "<tr><td>MIKLOSB</td><td>NULL</td><td>15</td></tr>",
                            "<tr><td>MONIKAM</td><td>GLS</td><td>133</td></tr>",
                            "<tr><td>MONIKAM</td><td>Posta</td><td>151</td></tr>",
                            "<tr><td>MONIKAM</td><td>Személyes átvétel</td><td>123</td></tr>",
                            "<tr><td>MONIKAM</td><td>NULL</td><td>407</td></tr>",
                            "<tr><td>NANDORF</td><td>GLS</td><td>147</td></tr>",
                            "<tr><td>NANDORF</td><td>Posta</td><td>139</td></tr>",
                            "<tr><td>NANDORF</td><td>Személyes átvétel</td><td>134</td></tr>",
                            "<tr><td>NANDORF</td><td>NULL</td><td>420</td></tr>",
                            "<tr><td>nikolett3</td><td>GLS</td><td>4</td></tr>",
                            "<tr><td>nikolett3</td><td>Posta</td><td>3</td></tr>",
                            "<tr><td>nikolett3</td><td>Személyes átvétel</td><td>10</td></tr>",
                            "<tr><td>nikolett3</td><td>NULL</td><td>17</td></tr>",
                            "<tr><td>nikoletta4</td><td>GLS</td><td>137</td></tr>",
                            "<tr><td>nikoletta4</td><td>Posta</td><td>158</td></tr>",
                            "<tr><td>nikoletta4</td><td>Személyes átvétel</td><td>119</td></tr>",
                            "<tr><td>nikoletta4</td><td>NULL</td><td>414</td></tr>",
                            "<tr><td>NIKOLETTAT</td><td>GLS</td><td>13</td></tr>",
                            "<tr><td>NIKOLETTAT</td><td>Posta</td><td>7</td></tr>",
                            "<tr><td>NIKOLETTAT</td><td>Személyes átvétel</td><td>5</td></tr>",
                            "<tr><td>NIKOLETTAT</td><td>NULL</td><td>25</td></tr>",
                            "<tr><td>norbert2</td><td>GLS</td><td>7</td></tr>",
                            "<tr><td>norbert2</td><td>Posta</td><td>4</td></tr>",
                            "<tr><td>norbert2</td><td>NULL</td><td>11</td></tr>",
                            "<tr><td>norbert4</td><td>GLS</td><td>1</td></tr>",
                            "<tr><td>norbert4</td><td>Posta</td><td>3</td></tr>",
                            "<tr><td>norbert4</td><td>Személyes átvétel</td><td>9</td></tr>",
                            "<tr><td>norbert4</td><td>NULL</td><td>13</td></tr>",
                            "<tr><td>norbert5</td><td>GLS</td><td>1</td></tr>",
                            "<tr><td>norbert5</td><td>Posta</td><td>6</td></tr>",
                            "<tr><td>norbert5</td><td>Személyes átvétel</td><td>9</td></tr>",
                            "<tr><td>norbert5</td><td>NULL</td><td>16</td></tr>",
                            "<tr><td>pal</td><td>GLS</td><td>152</td></tr>",
                            "<tr><td>pal</td><td>Posta</td><td>132</td></tr>",
                            "<tr><td>pal</td><td>Személyes átvétel</td><td>154</td></tr>",
                            "<tr><td>pal</td><td>NULL</td><td>438</td></tr>",
                            "<tr><td>peter1</td><td>GLS</td><td>151</td></tr>",
                            "<tr><td>peter1</td><td>Posta</td><td>135</td></tr>",
                            "<tr><td>peter1</td><td>Személyes átvétel</td><td>126</td></tr>",
                            "<tr><td>peter1</td><td>NULL</td><td>412</td></tr>",
                            "<tr><td>peter2</td><td>GLS</td><td>7</td></tr>",
                            "<tr><td>peter2</td><td>Posta</td><td>4</td></tr>",
                            "<tr><td>peter2</td><td>Személyes átvétel</td><td>7</td></tr>",
                            "<tr><td>peter2</td><td>NULL</td><td>18</td></tr>",
                            "<tr><td>peter3</td><td>GLS</td><td>8</td></tr>",
                            "<tr><td>peter3</td><td>Posta</td><td>7</td></tr>",
                            "<tr><td>peter3</td><td>Személyes átvétel</td><td>10</td></tr>",
                            "<tr><td>peter3</td><td>NULL</td><td>25</td></tr>",
                            "<tr><td>peter4</td><td>GLS</td><td>266</td></tr>",
                            "<tr><td>peter4</td><td>Posta</td><td>293</td></tr>",
                            "<tr><td>peter4</td><td>Személyes átvétel</td><td>293</td></tr>",
                            "<tr><td>peter4</td><td>NULL</td><td>852</td></tr>",
                            "<tr><td>PETERB</td><td>GLS</td><td>2</td></tr>",
                            "<tr><td>PETERB</td><td>Posta</td><td>4</td></tr>",
                            "<tr><td>PETERB</td><td>Személyes átvétel</td><td>9</td></tr>",
                            "<tr><td>PETERB</td><td>NULL</td><td>15</td></tr>",
                            "<tr><td>polla</td><td>GLS</td><td>9</td></tr>",
                            "<tr><td>polla</td><td>Posta</td><td>6</td></tr>",
                            "<tr><td>polla</td><td>Személyes átvétel</td><td>7</td></tr>",
                            "<tr><td>polla</td><td>NULL</td><td>22</td></tr>",
                            "<tr><td>rajmond4</td><td>GLS</td><td>6</td></tr>",
                            "<tr><td>rajmond4</td><td>Posta</td><td>5</td></tr>",
                            "<tr><td>rajmond4</td><td>Személyes átvétel</td><td>6</td></tr>",
                            "<tr><td>rajmond4</td><td>NULL</td><td>17</td></tr>",
                            "<tr><td>reka4</td><td>GLS</td><td>5</td></tr>",
                            "<tr><td>reka4</td><td>Posta</td><td>4</td></tr>",
                            "<tr><td>reka4</td><td>Személyes átvétel</td><td>11</td></tr>",
                            "<tr><td>reka4</td><td>NULL</td><td>20</td></tr>",
                            "<tr><td>RENATAK</td><td>GLS</td><td>135</td></tr>",
                            "<tr><td>RENATAK</td><td>Posta</td><td>140</td></tr>",
                            "<tr><td>RENATAK</td><td>Személyes átvétel</td><td>147</td></tr>",
                            "<tr><td>RENATAK</td><td>NULL</td><td>422</td></tr>",
                            "<tr><td>RENATAS</td><td>GLS</td><td>6</td></tr>",
                            "<tr><td>RENATAS</td><td>Posta</td><td>5</td></tr>",
                            "<tr><td>RENATAS</td><td>Személyes átvétel</td><td>5</td></tr>",
                            "<tr><td>RENATAS</td><td>NULL</td><td>16</td></tr>",
                            "<tr><td>robert2</td><td>GLS</td><td>5</td></tr>",
                            "<tr><td>robert2</td><td>Posta</td><td>1</td></tr>",
                            "<tr><td>robert2</td><td>Személyes átvétel</td><td>7</td></tr>",
                            "<tr><td>robert2</td><td>NULL</td><td>13</td></tr>",
                            "<tr><td>ROBERTI</td><td>GLS</td><td>5</td></tr>",
                            "<tr><td>ROBERTI</td><td>Posta</td><td>3</td></tr>",
                            "<tr><td>ROBERTI</td><td>Személyes átvétel</td><td>5</td></tr>",
                            "<tr><td>ROBERTI</td><td>NULL</td><td>13</td></tr>",
                            "<tr><td>ROBERTP</td><td>GLS</td><td>8</td></tr>",
                            "<tr><td>ROBERTP</td><td>Posta</td><td>8</td></tr>",
                            "<tr><td>ROBERTP</td><td>Személyes átvétel</td><td>10</td></tr>",
                            "<tr><td>ROBERTP</td><td>NULL</td><td>26</td></tr>",
                            "<tr><td>roland</td><td>GLS</td><td>132</td></tr>",
                            "<tr><td>roland</td><td>Posta</td><td>157</td></tr>",
                            "<tr><td>roland</td><td>Személyes átvétel</td><td>125</td></tr>",
                            "<tr><td>roland</td><td>NULL</td><td>414</td></tr>",
                            "<tr><td>roland1</td><td>GLS</td><td>142</td></tr>",
                            "<tr><td>roland1</td><td>Posta</td><td>155</td></tr>",
                            "<tr><td>roland1</td><td>Személyes átvétel</td><td>135</td></tr>",
                            "<tr><td>roland1</td><td>NULL</td><td>432</td></tr>",
                            "<tr><td>roza2</td><td>GLS</td><td>3</td></tr>",
                            "<tr><td>roza2</td><td>Posta</td><td>2</td></tr>",
                            "<tr><td>roza2</td><td>Személyes átvétel</td><td>3</td></tr>",
                            "<tr><td>roza2</td><td>NULL</td><td>8</td></tr>",
                            "<tr><td>sandor</td><td>GLS</td><td>4</td></tr>",
                            "<tr><td>sandor</td><td>Posta</td><td>6</td></tr>",
                            "<tr><td>sandor</td><td>Személyes átvétel</td><td>7</td></tr>",
                            "<tr><td>sandor</td><td>NULL</td><td>17</td></tr>",
                            "<tr><td>sandor3</td><td>GLS</td><td>4</td></tr>",
                            "<tr><td>sandor3</td><td>Posta</td><td>4</td></tr>",
                            "<tr><td>sandor3</td><td>Személyes átvétel</td><td>6</td></tr>",
                            "<tr><td>sandor3</td><td>NULL</td><td>14</td></tr>",
                            "<tr><td>sandor4</td><td>GLS</td><td>4</td></tr>",
                            "<tr><td>sandor4</td><td>Posta</td><td>2</td></tr>",
                            "<tr><td>sandor4</td><td>Személyes átvétel</td><td>5</td></tr>",
                            "<tr><td>sandor4</td><td>NULL</td><td>11</td></tr>",
                            "<tr><td>sara</td><td>GLS</td><td>4</td></tr>",
                            "<tr><td>sara</td><td>Posta</td><td>7</td></tr>",
                            "<tr><td>sara</td><td>Személyes átvétel</td><td>9</td></tr>",
                            "<tr><td>sara</td><td>NULL</td><td>20</td></tr>",
                            "<tr><td>SEBASTIANF</td><td>GLS</td><td>6</td></tr>",
                            "<tr><td>SEBASTIANF</td><td>Posta</td><td>3</td></tr>",
                            "<tr><td>SEBASTIANF</td><td>Személyes átvétel</td><td>6</td></tr>",
                            "<tr><td>SEBASTIANF</td><td>NULL</td><td>15</td></tr>",
                            "<tr><td>sebestyen</td><td>GLS</td><td>4</td></tr>",
                            "<tr><td>sebestyen</td><td>Posta</td><td>6</td></tr>",
                            "<tr><td>sebestyen</td><td>Személyes átvétel</td><td>6</td></tr>",
                            "<tr><td>sebestyen</td><td>NULL</td><td>16</td></tr>",
                            "<tr><td>szabolcs</td><td>GLS</td><td>145</td></tr>",
                            "<tr><td>szabolcs</td><td>Posta</td><td>157</td></tr>",
                            "<tr><td>szabolcs</td><td>Személyes átvétel</td><td>169</td></tr>",
                            "<tr><td>szabolcs</td><td>NULL</td><td>471</td></tr>",
                            "<tr><td>SZABOLCSM</td><td>GLS</td><td>126</td></tr>",
                            "<tr><td>SZABOLCSM</td><td>Posta</td><td>153</td></tr>",
                            "<tr><td>SZABOLCSM</td><td>Személyes átvétel</td><td>129</td></tr>",
                            "<tr><td>SZABOLCSM</td><td>NULL</td><td>408</td></tr>",
                            "<tr><td>SZILARDS</td><td>GLS</td><td>144</td></tr>",
                            "<tr><td>SZILARDS</td><td>Posta</td><td>131</td></tr>",
                            "<tr><td>SZILARDS</td><td>Személyes átvétel</td><td>111</td></tr>",
                            "<tr><td>SZILARDS</td><td>NULL</td><td>386</td></tr>",
                            "<tr><td>szilvia1</td><td>GLS</td><td>156</td></tr>",
                            "<tr><td>szilvia1</td><td>Posta</td><td>151</td></tr>",
                            "<tr><td>szilvia1</td><td>Személyes átvétel</td><td>138</td></tr>",
                            "<tr><td>szilvia1</td><td>NULL</td><td>445</td></tr>",
                            "<tr><td>tamara2</td><td>GLS</td><td>6</td></tr>",
                            "<tr><td>tamara2</td><td>Posta</td><td>4</td></tr>",
                            "<tr><td>tamara2</td><td>Személyes átvétel</td><td>3</td></tr>",
                            "<tr><td>tamara2</td><td>NULL</td><td>13</td></tr>",
                            "<tr><td>tamas</td><td>GLS</td><td>143</td></tr>",
                            "<tr><td>tamas</td><td>Posta</td><td>156</td></tr>",
                            "<tr><td>tamas</td><td>Személyes átvétel</td><td>122</td></tr>",
                            "<tr><td>tamas</td><td>NULL</td><td>421</td></tr>",
                            "<tr><td>TAMASF</td><td>GLS</td><td>159</td></tr>",
                            "<tr><td>TAMASF</td><td>Posta</td><td>145</td></tr>",
                            "<tr><td>TAMASF</td><td>Személyes átvétel</td><td>129</td></tr>",
                            "<tr><td>TAMASF</td><td>NULL</td><td>433</td></tr>",
                            "<tr><td>tibor</td><td>GLS</td><td>115</td></tr>",
                            "<tr><td>tibor</td><td>Posta</td><td>129</td></tr>",
                            "<tr><td>tibor</td><td>Személyes átvétel</td><td>130</td></tr>",
                            "<tr><td>tibor</td><td>NULL</td><td>374</td></tr>",
                            "<tr><td>tibor2</td><td>GLS</td><td>7</td></tr>",
                            "<tr><td>tibor2</td><td>Posta</td><td>7</td></tr>",
                            "<tr><td>tibor2</td><td>Személyes átvétel</td><td>11</td></tr>",
                            "<tr><td>tibor2</td><td>NULL</td><td>25</td></tr>",
                            "<tr><td>tihamer</td><td>GLS</td><td>9</td></tr>",
                            "<tr><td>tihamer</td><td>Posta</td><td>6</td></tr>",
                            "<tr><td>tihamer</td><td>Személyes átvétel</td><td>5</td></tr>",
                            "<tr><td>tihamer</td><td>NULL</td><td>20</td></tr>",
                            "<tr><td>timea</td><td>GLS</td><td>14</td></tr>",
                            "<tr><td>timea</td><td>Posta</td><td>23</td></tr>",
                            "<tr><td>timea</td><td>Személyes átvétel</td><td>18</td></tr>",
                            "<tr><td>timea</td><td>NULL</td><td>55</td></tr>",
                            "<tr><td>timea2</td><td>GLS</td><td>1</td></tr>",
                            "<tr><td>timea2</td><td>Posta</td><td>5</td></tr>",
                            "<tr><td>timea2</td><td>Személyes átvétel</td><td>10</td></tr>",
                            "<tr><td>timea2</td><td>NULL</td><td>16</td></tr>",
                            "<tr><td>tunde</td><td>GLS</td><td>6</td></tr>",
                            "<tr><td>tunde</td><td>Posta</td><td>6</td></tr>",
                            "<tr><td>tunde</td><td>Személyes átvétel</td><td>4</td></tr>",
                            "<tr><td>tunde</td><td>NULL</td><td>16</td></tr>",
                            "<tr><td>valentin</td><td>GLS</td><td>5</td></tr>",
                            "<tr><td>valentin</td><td>Posta</td><td>5</td></tr>",
                            "<tr><td>valentin</td><td>Személyes átvétel</td><td>3</td></tr>",
                            "<tr><td>valentin</td><td>NULL</td><td>13</td></tr>",
                            "<tr><td>veronika4</td><td>GLS</td><td>5</td></tr>",
                            "<tr><td>veronika4</td><td>Posta</td><td>6</td></tr>",
                            "<tr><td>veronika4</td><td>Személyes átvétel</td><td>7</td></tr>",
                            "<tr><td>veronika4</td><td>NULL</td><td>18</td></tr>",
                            "<tr><td>VIKTORIAU</td><td>GLS</td><td>5</td></tr>",
                            "<tr><td>VIKTORIAU</td><td>Posta</td><td>4</td></tr>",
                            "<tr><td>VIKTORIAU</td><td>Személyes átvétel</td><td>5</td></tr>",
                            "<tr><td>VIKTORIAU</td><td>NULL</td><td>14</td></tr>",
                            "<tr><td>VIKTORK</td><td>GLS</td><td>8</td></tr>",
                            "<tr><td>VIKTORK</td><td>Posta</td><td>6</td></tr>",
                            "<tr><td>VIKTORK</td><td>Személyes átvétel</td><td>6</td></tr>",
                            "<tr><td>VIKTORK</td><td>NULL</td><td>20</td></tr>",
                            "<tr><td>vivien3</td><td>GLS</td><td>9</td></tr>",
                            "<tr><td>vivien3</td><td>Posta</td><td>6</td></tr>",
                            "<tr><td>vivien3</td><td>Személyes átvétel</td><td>7</td></tr>",
                            "<tr><td>vivien3</td><td>NULL</td><td>22</td></tr>",
                            "<tr><td>zoltan</td><td>GLS</td><td>5</td></tr>",
                            "<tr><td>zoltan</td><td>Posta</td><td>3</td></tr>",
                            "<tr><td>zoltan</td><td>Személyes átvétel</td><td>7</td></tr>",
                            "<tr><td>zoltan</td><td>NULL</td><td>15</td></tr>",
                            "<tr><td>zoltan4</td><td>GLS</td><td>129</td></tr>",
                            "<tr><td>zoltan4</td><td>Posta</td><td>124</td></tr>",
                            "<tr><td>zoltan4</td><td>Személyes átvétel</td><td>171</td></tr>",
                            "<tr><td>zoltan4</td><td>NULL</td><td>424</td></tr>",
                            "<tr><td>ZOLTANP</td><td>GLS</td><td>6</td></tr>",
                            "<tr><td>ZOLTANP</td><td>Posta</td><td>3</td></tr>",
                            "<tr><td>ZOLTANP</td><td>Személyes átvétel</td><td>4</td></tr>",
                            "<tr><td>ZOLTANP</td><td>NULL</td><td>13</td></tr>",
                            "<tr><td>ZOLTANT</td><td>GLS</td><td>127</td></tr>",
                            "<tr><td>ZOLTANT</td><td>Posta</td><td>107</td></tr>",
                            "<tr><td>ZOLTANT</td><td>Személyes átvétel</td><td>123</td></tr>",
                            "<tr><td>ZOLTANT</td><td>NULL</td><td>357</td></tr>",
                            "<tr><td>zsofi1</td><td>GLS</td><td>7</td></tr>",
                            "<tr><td>zsofi1</td><td>Posta</td><td>6</td></tr>",
                            "<tr><td>zsofi1</td><td>Személyes átvétel</td><td>6</td></tr>",
                            "<tr><td>zsofi1</td><td>NULL</td><td>19</td></tr>",
                            "<tr><td>zsolt1</td><td>GLS</td><td>11</td></tr>",
                            "<tr><td>zsolt1</td><td>Posta</td><td>6</td></tr>",
                            "<tr><td>zsolt1</td><td>Személyes átvétel</td><td>3</td></tr>",
                            "<tr><td>zsolt1</td><td>NULL</td><td>20</td></tr>",
                            "<tr><td>ZSOLTJ</td><td>GLS</td><td>1</td></tr>",
                            "<tr><td>ZSOLTJ</td><td>Posta</td><td>8</td></tr>",
                            "<tr><td>ZSOLTJ</td><td>Személyes átvétel</td><td>9</td></tr>",
                            "<tr><td>ZSOLTJ</td><td>NULL</td><td>18</td></tr>",
                            "<tr><td>zsuzsa</td><td>GLS</td><td>8</td></tr>",
                            "<tr><td>zsuzsa</td><td>Posta</td><td>5</td></tr>",
                            "<tr><td>zsuzsa</td><td>Személyes átvétel</td><td>3</td></tr>",
                            "<tr><td>zsuzsa</td><td>NULL</td><td>16</td></tr>",
                            "<tr><td>zsuzsa3</td><td>GLS</td><td>5</td></tr>",
                            "<tr><td>zsuzsa3</td><td>Posta</td><td>5</td></tr>",
                            "<tr><td>zsuzsa3</td><td>Személyes átvétel</td><td>6</td></tr>",
                            "<tr><td>zsuzsa3</td><td>NULL</td><td>16</td></tr>",
                            "<tr><td>zsuzsanna</td><td>GLS</td><td>7</td></tr>",
                            "<tr><td>zsuzsanna</td><td>Posta</td><td>5</td></tr>",
                            "<tr><td>zsuzsanna</td><td>Személyes átvétel</td><td>3</td></tr>",
                            "<tr><td>zsuzsanna</td><td>NULL</td><td>15</td></tr>",
                            "<tr><td>ZSUZSAV</td><td>GLS</td><td>139</td></tr>",
                            "<tr><td>ZSUZSAV</td><td>Posta</td><td>139</td></tr>",
                            "<tr><td>ZSUZSAV</td><td>Személyes átvétel</td><td>142</td></tr>",
                            "<tr><td>ZSUZSAV</td><td>NULL</td><td>420</td></tr>",
                            "<tr><td>NULL</td><td>NULL</td><td>28085</td></tr>",
                            "</table>"
                        ]
                    }
                }
            ],
            "execution_count": 1
        },
        {
            "cell_type": "markdown",
            "source": [
                "2. <span style=\"background-color: rgb(255, 255, 255); color: rgb(0, 0, 0); font-family: &quot;Open Sans&quot;, sans-serif; font-size: 14.44px;\">Készítsünk listát a termékek számáról a következő csoportosítási szempontok szerint:<br>kategória azonosító, raktárkód, raktárkód+mennyiségi egység!</span>\n",
                "\n",
                "a. A listát szűrjük azokra a csoportokra, ahol a termékek száma legalább 6!"
            ],
            "metadata": {
                "azdata_cell_guid": "ea75c103-911f-41a3-a32c-3d40fb3e4e4a"
            },
            "attachments": {}
        },
        {
            "cell_type": "code",
            "source": [
                "select KAT_ID 'kategória azonosító',\r\n",
                "    RAKTAR_KOD 'raktárkód',\r\n",
                "    MEGYS,\r\n",
                "    count(*)\r\n",
                "from Termek\r\n",
                "group by grouping sets (KAT_ID,\r\n",
                "RAKTAR_KOD, (RAKTAR_KOD, MEGYS))"
            ],
            "metadata": {
                "azdata_cell_guid": "222b9618-a8e8-42b4-a8e8-d002257122b7",
                "language": "sql"
            },
            "outputs": [
                {
                    "output_type": "display_data",
                    "data": {
                        "text/html": "(174 rows affected)"
                    },
                    "metadata": {}
                },
                {
                    "output_type": "display_data",
                    "data": {
                        "text/html": "Total execution time: 00:00:00.252"
                    },
                    "metadata": {}
                },
                {
                    "output_type": "execute_result",
                    "metadata": {},
                    "execution_count": 2,
                    "data": {
                        "application/vnd.dataresource+json": {
                            "schema": {
                                "fields": [
                                    {
                                        "name": "kategória azonosító"
                                    },
                                    {
                                        "name": "raktárkód"
                                    },
                                    {
                                        "name": "MEGYS"
                                    },
                                    {
                                        "name": "(No column name)"
                                    }
                                ]
                            },
                            "data": [
                                {
                                    "kategória azonosító": "NULL",
                                    "raktárkód": "1",
                                    "MEGYS": "db",
                                    "(No column name)": "11"
                                },
                                {
                                    "kategória azonosító": "NULL",
                                    "raktárkód": "1",
                                    "MEGYS": "NULL",
                                    "(No column name)": "11"
                                },
                                {
                                    "kategória azonosító": "NULL",
                                    "raktárkód": "2",
                                    "MEGYS": "db",
                                    "(No column name)": "5"
                                },
                                {
                                    "kategória azonosító": "NULL",
                                    "raktárkód": "2",
                                    "MEGYS": "NULL",
                                    "(No column name)": "5"
                                },
                                {
                                    "kategória azonosító": "NULL",
                                    "raktárkód": "3",
                                    "MEGYS": "db",
                                    "(No column name)": "14"
                                },
                                {
                                    "kategória azonosító": "NULL",
                                    "raktárkód": "3",
                                    "MEGYS": "NULL",
                                    "(No column name)": "14"
                                },
                                {
                                    "kategória azonosító": "NULL",
                                    "raktárkód": "4",
                                    "MEGYS": "db",
                                    "(No column name)": "4"
                                },
                                {
                                    "kategória azonosító": "NULL",
                                    "raktárkód": "4",
                                    "MEGYS": "NULL",
                                    "(No column name)": "4"
                                },
                                {
                                    "kategória azonosító": "NULL",
                                    "raktárkód": "5",
                                    "MEGYS": "csomag",
                                    "(No column name)": "7"
                                },
                                {
                                    "kategória azonosító": "NULL",
                                    "raktárkód": "5",
                                    "MEGYS": "db",
                                    "(No column name)": "72"
                                },
                                {
                                    "kategória azonosító": "NULL",
                                    "raktárkód": "5",
                                    "MEGYS": "doboz",
                                    "(No column name)": "1"
                                },
                                {
                                    "kategória azonosító": "NULL",
                                    "raktárkód": "5",
                                    "MEGYS": "ív",
                                    "(No column name)": "5"
                                },
                                {
                                    "kategória azonosító": "NULL",
                                    "raktárkód": "5",
                                    "MEGYS": "üveg",
                                    "(No column name)": "1"
                                },
                                {
                                    "kategória azonosító": "NULL",
                                    "raktárkód": "5",
                                    "MEGYS": "NULL",
                                    "(No column name)": "86"
                                },
                                {
                                    "kategória azonosító": "NULL",
                                    "raktárkód": "6",
                                    "MEGYS": "csomag",
                                    "(No column name)": "9"
                                },
                                {
                                    "kategória azonosító": "NULL",
                                    "raktárkód": "6",
                                    "MEGYS": "db",
                                    "(No column name)": "94"
                                },
                                {
                                    "kategória azonosító": "NULL",
                                    "raktárkód": "6",
                                    "MEGYS": "ív",
                                    "(No column name)": "3"
                                },
                                {
                                    "kategória azonosító": "NULL",
                                    "raktárkód": "6",
                                    "MEGYS": "NULL",
                                    "(No column name)": "106"
                                },
                                {
                                    "kategória azonosító": "NULL",
                                    "raktárkód": "7",
                                    "MEGYS": "csomag",
                                    "(No column name)": "9"
                                },
                                {
                                    "kategória azonosító": "NULL",
                                    "raktárkód": "7",
                                    "MEGYS": "db",
                                    "(No column name)": "88"
                                },
                                {
                                    "kategória azonosító": "NULL",
                                    "raktárkód": "7",
                                    "MEGYS": "ív",
                                    "(No column name)": "2"
                                },
                                {
                                    "kategória azonosító": "NULL",
                                    "raktárkód": "7",
                                    "MEGYS": "tekercs",
                                    "(No column name)": "1"
                                },
                                {
                                    "kategória azonosító": "NULL",
                                    "raktárkód": "7",
                                    "MEGYS": "NULL",
                                    "(No column name)": "100"
                                },
                                {
                                    "kategória azonosító": "NULL",
                                    "raktárkód": "8",
                                    "MEGYS": "csomag",
                                    "(No column name)": "8"
                                },
                                {
                                    "kategória azonosító": "NULL",
                                    "raktárkód": "8",
                                    "MEGYS": "db",
                                    "(No column name)": "109"
                                },
                                {
                                    "kategória azonosító": "NULL",
                                    "raktárkód": "8",
                                    "MEGYS": "ív",
                                    "(No column name)": "6"
                                },
                                {
                                    "kategória azonosító": "NULL",
                                    "raktárkód": "8",
                                    "MEGYS": "NULL",
                                    "(No column name)": "123"
                                },
                                {
                                    "kategória azonosító": "NULL",
                                    "raktárkód": "9",
                                    "MEGYS": "csomag",
                                    "(No column name)": "11"
                                },
                                {
                                    "kategória azonosító": "NULL",
                                    "raktárkód": "9",
                                    "MEGYS": "db",
                                    "(No column name)": "86"
                                },
                                {
                                    "kategória azonosító": "NULL",
                                    "raktárkód": "9",
                                    "MEGYS": "ív",
                                    "(No column name)": "5"
                                },
                                {
                                    "kategória azonosító": "NULL",
                                    "raktárkód": "9",
                                    "MEGYS": "NULL",
                                    "(No column name)": "102"
                                },
                                {
                                    "kategória azonosító": "4",
                                    "raktárkód": "NULL",
                                    "MEGYS": "NULL",
                                    "(No column name)": "15"
                                },
                                {
                                    "kategória azonosító": "5",
                                    "raktárkód": "NULL",
                                    "MEGYS": "NULL",
                                    "(No column name)": "3"
                                },
                                {
                                    "kategória azonosító": "6",
                                    "raktárkód": "NULL",
                                    "MEGYS": "NULL",
                                    "(No column name)": "20"
                                },
                                {
                                    "kategória azonosító": "7",
                                    "raktárkód": "NULL",
                                    "MEGYS": "NULL",
                                    "(No column name)": "3"
                                },
                                {
                                    "kategória azonosító": "8",
                                    "raktárkód": "NULL",
                                    "MEGYS": "NULL",
                                    "(No column name)": "3"
                                },
                                {
                                    "kategória azonosító": "9",
                                    "raktárkód": "NULL",
                                    "MEGYS": "NULL",
                                    "(No column name)": "2"
                                },
                                {
                                    "kategória azonosító": "10",
                                    "raktárkód": "NULL",
                                    "MEGYS": "NULL",
                                    "(No column name)": "1"
                                },
                                {
                                    "kategória azonosító": "11",
                                    "raktárkód": "NULL",
                                    "MEGYS": "NULL",
                                    "(No column name)": "1"
                                },
                                {
                                    "kategória azonosító": "12",
                                    "raktárkód": "NULL",
                                    "MEGYS": "NULL",
                                    "(No column name)": "1"
                                },
                                {
                                    "kategória azonosító": "13",
                                    "raktárkód": "NULL",
                                    "MEGYS": "NULL",
                                    "(No column name)": "2"
                                },
                                {
                                    "kategória azonosító": "14",
                                    "raktárkód": "NULL",
                                    "MEGYS": "NULL",
                                    "(No column name)": "4"
                                },
                                {
                                    "kategória azonosító": "15",
                                    "raktárkód": "NULL",
                                    "MEGYS": "NULL",
                                    "(No column name)": "1"
                                },
                                {
                                    "kategória azonosító": "16",
                                    "raktárkód": "NULL",
                                    "MEGYS": "NULL",
                                    "(No column name)": "7"
                                },
                                {
                                    "kategória azonosító": "17",
                                    "raktárkód": "NULL",
                                    "MEGYS": "NULL",
                                    "(No column name)": "1"
                                },
                                {
                                    "kategória azonosító": "18",
                                    "raktárkód": "NULL",
                                    "MEGYS": "NULL",
                                    "(No column name)": "2"
                                },
                                {
                                    "kategória azonosító": "19",
                                    "raktárkód": "NULL",
                                    "MEGYS": "NULL",
                                    "(No column name)": "19"
                                },
                                {
                                    "kategória azonosító": "20",
                                    "raktárkód": "NULL",
                                    "MEGYS": "NULL",
                                    "(No column name)": "3"
                                },
                                {
                                    "kategória azonosító": "21",
                                    "raktárkód": "NULL",
                                    "MEGYS": "NULL",
                                    "(No column name)": "5"
                                },
                                {
                                    "kategória azonosító": "22",
                                    "raktárkód": "NULL",
                                    "MEGYS": "NULL",
                                    "(No column name)": "2"
                                },
                                {
                                    "kategória azonosító": "24",
                                    "raktárkód": "NULL",
                                    "MEGYS": "NULL",
                                    "(No column name)": "7"
                                },
                                {
                                    "kategória azonosító": "25",
                                    "raktárkód": "NULL",
                                    "MEGYS": "NULL",
                                    "(No column name)": "4"
                                },
                                {
                                    "kategória azonosító": "26",
                                    "raktárkód": "NULL",
                                    "MEGYS": "NULL",
                                    "(No column name)": "1"
                                },
                                {
                                    "kategória azonosító": "27",
                                    "raktárkód": "NULL",
                                    "MEGYS": "NULL",
                                    "(No column name)": "3"
                                },
                                {
                                    "kategória azonosító": "28",
                                    "raktárkód": "NULL",
                                    "MEGYS": "NULL",
                                    "(No column name)": "5"
                                },
                                {
                                    "kategória azonosító": "29",
                                    "raktárkód": "NULL",
                                    "MEGYS": "NULL",
                                    "(No column name)": "1"
                                },
                                {
                                    "kategória azonosító": "30",
                                    "raktárkód": "NULL",
                                    "MEGYS": "NULL",
                                    "(No column name)": "7"
                                },
                                {
                                    "kategória azonosító": "31",
                                    "raktárkód": "NULL",
                                    "MEGYS": "NULL",
                                    "(No column name)": "1"
                                },
                                {
                                    "kategória azonosító": "32",
                                    "raktárkód": "NULL",
                                    "MEGYS": "NULL",
                                    "(No column name)": "3"
                                },
                                {
                                    "kategória azonosító": "33",
                                    "raktárkód": "NULL",
                                    "MEGYS": "NULL",
                                    "(No column name)": "1"
                                },
                                {
                                    "kategória azonosító": "34",
                                    "raktárkód": "NULL",
                                    "MEGYS": "NULL",
                                    "(No column name)": "1"
                                },
                                {
                                    "kategória azonosító": "35",
                                    "raktárkód": "NULL",
                                    "MEGYS": "NULL",
                                    "(No column name)": "7"
                                },
                                {
                                    "kategória azonosító": "36",
                                    "raktárkód": "NULL",
                                    "MEGYS": "NULL",
                                    "(No column name)": "5"
                                },
                                {
                                    "kategória azonosító": "37",
                                    "raktárkód": "NULL",
                                    "MEGYS": "NULL",
                                    "(No column name)": "1"
                                },
                                {
                                    "kategória azonosító": "38",
                                    "raktárkód": "NULL",
                                    "MEGYS": "NULL",
                                    "(No column name)": "1"
                                },
                                {
                                    "kategória azonosító": "39",
                                    "raktárkód": "NULL",
                                    "MEGYS": "NULL",
                                    "(No column name)": "2"
                                },
                                {
                                    "kategória azonosító": "40",
                                    "raktárkód": "NULL",
                                    "MEGYS": "NULL",
                                    "(No column name)": "1"
                                },
                                {
                                    "kategória azonosító": "41",
                                    "raktárkód": "NULL",
                                    "MEGYS": "NULL",
                                    "(No column name)": "13"
                                },
                                {
                                    "kategória azonosító": "42",
                                    "raktárkód": "NULL",
                                    "MEGYS": "NULL",
                                    "(No column name)": "1"
                                },
                                {
                                    "kategória azonosító": "43",
                                    "raktárkód": "NULL",
                                    "MEGYS": "NULL",
                                    "(No column name)": "3"
                                },
                                {
                                    "kategória azonosító": "44",
                                    "raktárkód": "NULL",
                                    "MEGYS": "NULL",
                                    "(No column name)": "1"
                                },
                                {
                                    "kategória azonosító": "45",
                                    "raktárkód": "NULL",
                                    "MEGYS": "NULL",
                                    "(No column name)": "11"
                                },
                                {
                                    "kategória azonosító": "46",
                                    "raktárkód": "NULL",
                                    "MEGYS": "NULL",
                                    "(No column name)": "7"
                                },
                                {
                                    "kategória azonosító": "47",
                                    "raktárkód": "NULL",
                                    "MEGYS": "NULL",
                                    "(No column name)": "4"
                                },
                                {
                                    "kategória azonosító": "48",
                                    "raktárkód": "NULL",
                                    "MEGYS": "NULL",
                                    "(No column name)": "2"
                                },
                                {
                                    "kategória azonosító": "49",
                                    "raktárkód": "NULL",
                                    "MEGYS": "NULL",
                                    "(No column name)": "2"
                                },
                                {
                                    "kategória azonosító": "50",
                                    "raktárkód": "NULL",
                                    "MEGYS": "NULL",
                                    "(No column name)": "1"
                                },
                                {
                                    "kategória azonosító": "51",
                                    "raktárkód": "NULL",
                                    "MEGYS": "NULL",
                                    "(No column name)": "3"
                                },
                                {
                                    "kategória azonosító": "52",
                                    "raktárkód": "NULL",
                                    "MEGYS": "NULL",
                                    "(No column name)": "26"
                                },
                                {
                                    "kategória azonosító": "53",
                                    "raktárkód": "NULL",
                                    "MEGYS": "NULL",
                                    "(No column name)": "1"
                                },
                                {
                                    "kategória azonosító": "54",
                                    "raktárkód": "NULL",
                                    "MEGYS": "NULL",
                                    "(No column name)": "6"
                                },
                                {
                                    "kategória azonosító": "55",
                                    "raktárkód": "NULL",
                                    "MEGYS": "NULL",
                                    "(No column name)": "2"
                                },
                                {
                                    "kategória azonosító": "56",
                                    "raktárkód": "NULL",
                                    "MEGYS": "NULL",
                                    "(No column name)": "4"
                                },
                                {
                                    "kategória azonosító": "57",
                                    "raktárkód": "NULL",
                                    "MEGYS": "NULL",
                                    "(No column name)": "2"
                                },
                                {
                                    "kategória azonosító": "58",
                                    "raktárkód": "NULL",
                                    "MEGYS": "NULL",
                                    "(No column name)": "3"
                                },
                                {
                                    "kategória azonosító": "59",
                                    "raktárkód": "NULL",
                                    "MEGYS": "NULL",
                                    "(No column name)": "4"
                                },
                                {
                                    "kategória azonosító": "60",
                                    "raktárkód": "NULL",
                                    "MEGYS": "NULL",
                                    "(No column name)": "5"
                                },
                                {
                                    "kategória azonosító": "61",
                                    "raktárkód": "NULL",
                                    "MEGYS": "NULL",
                                    "(No column name)": "1"
                                },
                                {
                                    "kategória azonosító": "62",
                                    "raktárkód": "NULL",
                                    "MEGYS": "NULL",
                                    "(No column name)": "2"
                                },
                                {
                                    "kategória azonosító": "64",
                                    "raktárkód": "NULL",
                                    "MEGYS": "NULL",
                                    "(No column name)": "4"
                                },
                                {
                                    "kategória azonosító": "65",
                                    "raktárkód": "NULL",
                                    "MEGYS": "NULL",
                                    "(No column name)": "2"
                                },
                                {
                                    "kategória azonosító": "66",
                                    "raktárkód": "NULL",
                                    "MEGYS": "NULL",
                                    "(No column name)": "7"
                                },
                                {
                                    "kategória azonosító": "67",
                                    "raktárkód": "NULL",
                                    "MEGYS": "NULL",
                                    "(No column name)": "2"
                                },
                                {
                                    "kategória azonosító": "68",
                                    "raktárkód": "NULL",
                                    "MEGYS": "NULL",
                                    "(No column name)": "2"
                                },
                                {
                                    "kategória azonosító": "70",
                                    "raktárkód": "NULL",
                                    "MEGYS": "NULL",
                                    "(No column name)": "3"
                                },
                                {
                                    "kategória azonosító": "71",
                                    "raktárkód": "NULL",
                                    "MEGYS": "NULL",
                                    "(No column name)": "2"
                                },
                                {
                                    "kategória azonosító": "72",
                                    "raktárkód": "NULL",
                                    "MEGYS": "NULL",
                                    "(No column name)": "2"
                                },
                                {
                                    "kategória azonosító": "73",
                                    "raktárkód": "NULL",
                                    "MEGYS": "NULL",
                                    "(No column name)": "2"
                                },
                                {
                                    "kategória azonosító": "74",
                                    "raktárkód": "NULL",
                                    "MEGYS": "NULL",
                                    "(No column name)": "1"
                                },
                                {
                                    "kategória azonosító": "75",
                                    "raktárkód": "NULL",
                                    "MEGYS": "NULL",
                                    "(No column name)": "2"
                                },
                                {
                                    "kategória azonosító": "76",
                                    "raktárkód": "NULL",
                                    "MEGYS": "NULL",
                                    "(No column name)": "5"
                                },
                                {
                                    "kategória azonosító": "78",
                                    "raktárkód": "NULL",
                                    "MEGYS": "NULL",
                                    "(No column name)": "24"
                                },
                                {
                                    "kategória azonosító": "79",
                                    "raktárkód": "NULL",
                                    "MEGYS": "NULL",
                                    "(No column name)": "4"
                                },
                                {
                                    "kategória azonosító": "80",
                                    "raktárkód": "NULL",
                                    "MEGYS": "NULL",
                                    "(No column name)": "1"
                                },
                                {
                                    "kategória azonosító": "82",
                                    "raktárkód": "NULL",
                                    "MEGYS": "NULL",
                                    "(No column name)": "1"
                                },
                                {
                                    "kategória azonosító": "83",
                                    "raktárkód": "NULL",
                                    "MEGYS": "NULL",
                                    "(No column name)": "6"
                                },
                                {
                                    "kategória azonosító": "84",
                                    "raktárkód": "NULL",
                                    "MEGYS": "NULL",
                                    "(No column name)": "1"
                                },
                                {
                                    "kategória azonosító": "85",
                                    "raktárkód": "NULL",
                                    "MEGYS": "NULL",
                                    "(No column name)": "16"
                                },
                                {
                                    "kategória azonosító": "86",
                                    "raktárkód": "NULL",
                                    "MEGYS": "NULL",
                                    "(No column name)": "1"
                                },
                                {
                                    "kategória azonosító": "88",
                                    "raktárkód": "NULL",
                                    "MEGYS": "NULL",
                                    "(No column name)": "2"
                                },
                                {
                                    "kategória azonosító": "89",
                                    "raktárkód": "NULL",
                                    "MEGYS": "NULL",
                                    "(No column name)": "3"
                                },
                                {
                                    "kategória azonosító": "90",
                                    "raktárkód": "NULL",
                                    "MEGYS": "NULL",
                                    "(No column name)": "2"
                                },
                                {
                                    "kategória azonosító": "91",
                                    "raktárkód": "NULL",
                                    "MEGYS": "NULL",
                                    "(No column name)": "7"
                                },
                                {
                                    "kategória azonosító": "92",
                                    "raktárkód": "NULL",
                                    "MEGYS": "NULL",
                                    "(No column name)": "2"
                                },
                                {
                                    "kategória azonosító": "93",
                                    "raktárkód": "NULL",
                                    "MEGYS": "NULL",
                                    "(No column name)": "7"
                                },
                                {
                                    "kategória azonosító": "94",
                                    "raktárkód": "NULL",
                                    "MEGYS": "NULL",
                                    "(No column name)": "2"
                                },
                                {
                                    "kategória azonosító": "95",
                                    "raktárkód": "NULL",
                                    "MEGYS": "NULL",
                                    "(No column name)": "2"
                                },
                                {
                                    "kategória azonosító": "96",
                                    "raktárkód": "NULL",
                                    "MEGYS": "NULL",
                                    "(No column name)": "9"
                                },
                                {
                                    "kategória azonosító": "97",
                                    "raktárkód": "NULL",
                                    "MEGYS": "NULL",
                                    "(No column name)": "10"
                                },
                                {
                                    "kategória azonosító": "98",
                                    "raktárkód": "NULL",
                                    "MEGYS": "NULL",
                                    "(No column name)": "4"
                                },
                                {
                                    "kategória azonosító": "99",
                                    "raktárkód": "NULL",
                                    "MEGYS": "NULL",
                                    "(No column name)": "1"
                                },
                                {
                                    "kategória azonosító": "100",
                                    "raktárkód": "NULL",
                                    "MEGYS": "NULL",
                                    "(No column name)": "9"
                                },
                                {
                                    "kategória azonosító": "101",
                                    "raktárkód": "NULL",
                                    "MEGYS": "NULL",
                                    "(No column name)": "1"
                                },
                                {
                                    "kategória azonosító": "103",
                                    "raktárkód": "NULL",
                                    "MEGYS": "NULL",
                                    "(No column name)": "1"
                                },
                                {
                                    "kategória azonosító": "104",
                                    "raktárkód": "NULL",
                                    "MEGYS": "NULL",
                                    "(No column name)": "2"
                                },
                                {
                                    "kategória azonosító": "105",
                                    "raktárkód": "NULL",
                                    "MEGYS": "NULL",
                                    "(No column name)": "1"
                                },
                                {
                                    "kategória azonosító": "106",
                                    "raktárkód": "NULL",
                                    "MEGYS": "NULL",
                                    "(No column name)": "5"
                                },
                                {
                                    "kategória azonosító": "107",
                                    "raktárkód": "NULL",
                                    "MEGYS": "NULL",
                                    "(No column name)": "1"
                                },
                                {
                                    "kategória azonosító": "108",
                                    "raktárkód": "NULL",
                                    "MEGYS": "NULL",
                                    "(No column name)": "1"
                                },
                                {
                                    "kategória azonosító": "109",
                                    "raktárkód": "NULL",
                                    "MEGYS": "NULL",
                                    "(No column name)": "1"
                                },
                                {
                                    "kategória azonosító": "110",
                                    "raktárkód": "NULL",
                                    "MEGYS": "NULL",
                                    "(No column name)": "2"
                                },
                                {
                                    "kategória azonosító": "111",
                                    "raktárkód": "NULL",
                                    "MEGYS": "NULL",
                                    "(No column name)": "3"
                                },
                                {
                                    "kategória azonosító": "112",
                                    "raktárkód": "NULL",
                                    "MEGYS": "NULL",
                                    "(No column name)": "2"
                                },
                                {
                                    "kategória azonosító": "114",
                                    "raktárkód": "NULL",
                                    "MEGYS": "NULL",
                                    "(No column name)": "1"
                                },
                                {
                                    "kategória azonosító": "115",
                                    "raktárkód": "NULL",
                                    "MEGYS": "NULL",
                                    "(No column name)": "1"
                                },
                                {
                                    "kategória azonosító": "116",
                                    "raktárkód": "NULL",
                                    "MEGYS": "NULL",
                                    "(No column name)": "2"
                                },
                                {
                                    "kategória azonosító": "117",
                                    "raktárkód": "NULL",
                                    "MEGYS": "NULL",
                                    "(No column name)": "2"
                                },
                                {
                                    "kategória azonosító": "118",
                                    "raktárkód": "NULL",
                                    "MEGYS": "NULL",
                                    "(No column name)": "9"
                                },
                                {
                                    "kategória azonosító": "119",
                                    "raktárkód": "NULL",
                                    "MEGYS": "NULL",
                                    "(No column name)": "3"
                                },
                                {
                                    "kategória azonosító": "121",
                                    "raktárkód": "NULL",
                                    "MEGYS": "NULL",
                                    "(No column name)": "2"
                                },
                                {
                                    "kategória azonosító": "122",
                                    "raktárkód": "NULL",
                                    "MEGYS": "NULL",
                                    "(No column name)": "7"
                                },
                                {
                                    "kategória azonosító": "123",
                                    "raktárkód": "NULL",
                                    "MEGYS": "NULL",
                                    "(No column name)": "2"
                                },
                                {
                                    "kategória azonosító": "124",
                                    "raktárkód": "NULL",
                                    "MEGYS": "NULL",
                                    "(No column name)": "10"
                                },
                                {
                                    "kategória azonosító": "125",
                                    "raktárkód": "NULL",
                                    "MEGYS": "NULL",
                                    "(No column name)": "4"
                                },
                                {
                                    "kategória azonosító": "126",
                                    "raktárkód": "NULL",
                                    "MEGYS": "NULL",
                                    "(No column name)": "1"
                                },
                                {
                                    "kategória azonosító": "127",
                                    "raktárkód": "NULL",
                                    "MEGYS": "NULL",
                                    "(No column name)": "2"
                                },
                                {
                                    "kategória azonosító": "128",
                                    "raktárkód": "NULL",
                                    "MEGYS": "NULL",
                                    "(No column name)": "2"
                                },
                                {
                                    "kategória azonosító": "129",
                                    "raktárkód": "NULL",
                                    "MEGYS": "NULL",
                                    "(No column name)": "2"
                                },
                                {
                                    "kategória azonosító": "130",
                                    "raktárkód": "NULL",
                                    "MEGYS": "NULL",
                                    "(No column name)": "1"
                                },
                                {
                                    "kategória azonosító": "131",
                                    "raktárkód": "NULL",
                                    "MEGYS": "NULL",
                                    "(No column name)": "1"
                                },
                                {
                                    "kategória azonosító": "132",
                                    "raktárkód": "NULL",
                                    "MEGYS": "NULL",
                                    "(No column name)": "1"
                                },
                                {
                                    "kategória azonosító": "133",
                                    "raktárkód": "NULL",
                                    "MEGYS": "NULL",
                                    "(No column name)": "6"
                                },
                                {
                                    "kategória azonosító": "134",
                                    "raktárkód": "NULL",
                                    "MEGYS": "NULL",
                                    "(No column name)": "2"
                                },
                                {
                                    "kategória azonosító": "135",
                                    "raktárkód": "NULL",
                                    "MEGYS": "NULL",
                                    "(No column name)": "1"
                                },
                                {
                                    "kategória azonosító": "136",
                                    "raktárkód": "NULL",
                                    "MEGYS": "NULL",
                                    "(No column name)": "2"
                                },
                                {
                                    "kategória azonosító": "137",
                                    "raktárkód": "NULL",
                                    "MEGYS": "NULL",
                                    "(No column name)": "3"
                                },
                                {
                                    "kategória azonosító": "138",
                                    "raktárkód": "NULL",
                                    "MEGYS": "NULL",
                                    "(No column name)": "5"
                                },
                                {
                                    "kategória azonosító": "139",
                                    "raktárkód": "NULL",
                                    "MEGYS": "NULL",
                                    "(No column name)": "1"
                                },
                                {
                                    "kategória azonosító": "140",
                                    "raktárkód": "NULL",
                                    "MEGYS": "NULL",
                                    "(No column name)": "1"
                                },
                                {
                                    "kategória azonosító": "141",
                                    "raktárkód": "NULL",
                                    "MEGYS": "NULL",
                                    "(No column name)": "2"
                                },
                                {
                                    "kategória azonosító": "142",
                                    "raktárkód": "NULL",
                                    "MEGYS": "NULL",
                                    "(No column name)": "1"
                                },
                                {
                                    "kategória azonosító": "143",
                                    "raktárkód": "NULL",
                                    "MEGYS": "NULL",
                                    "(No column name)": "3"
                                },
                                {
                                    "kategória azonosító": "144",
                                    "raktárkód": "NULL",
                                    "MEGYS": "NULL",
                                    "(No column name)": "2"
                                },
                                {
                                    "kategória azonosító": "145",
                                    "raktárkód": "NULL",
                                    "MEGYS": "NULL",
                                    "(No column name)": "18"
                                },
                                {
                                    "kategória azonosító": "146",
                                    "raktárkód": "NULL",
                                    "MEGYS": "NULL",
                                    "(No column name)": "7"
                                },
                                {
                                    "kategória azonosító": "147",
                                    "raktárkód": "NULL",
                                    "MEGYS": "NULL",
                                    "(No column name)": "1"
                                },
                                {
                                    "kategória azonosító": "148",
                                    "raktárkód": "NULL",
                                    "MEGYS": "NULL",
                                    "(No column name)": "1"
                                },
                                {
                                    "kategória azonosító": "149",
                                    "raktárkód": "NULL",
                                    "MEGYS": "NULL",
                                    "(No column name)": "6"
                                },
                                {
                                    "kategória azonosító": "150",
                                    "raktárkód": "NULL",
                                    "MEGYS": "NULL",
                                    "(No column name)": "2"
                                },
                                {
                                    "kategória azonosító": "151",
                                    "raktárkód": "NULL",
                                    "MEGYS": "NULL",
                                    "(No column name)": "4"
                                },
                                {
                                    "kategória azonosító": "152",
                                    "raktárkód": "NULL",
                                    "MEGYS": "NULL",
                                    "(No column name)": "6"
                                },
                                {
                                    "kategória azonosító": "153",
                                    "raktárkód": "NULL",
                                    "MEGYS": "NULL",
                                    "(No column name)": "1"
                                },
                                {
                                    "kategória azonosító": "154",
                                    "raktárkód": "NULL",
                                    "MEGYS": "NULL",
                                    "(No column name)": "4"
                                },
                                {
                                    "kategória azonosító": "155",
                                    "raktárkód": "NULL",
                                    "MEGYS": "NULL",
                                    "(No column name)": "1"
                                }
                            ]
                        },
                        "text/html": [
                            "<table>",
                            "<tr><th>kategória azonosító</th><th>raktárkód</th><th>MEGYS</th><th>(No column name)</th></tr>",
                            "<tr><td>NULL</td><td>1</td><td>db</td><td>11</td></tr>",
                            "<tr><td>NULL</td><td>1</td><td>NULL</td><td>11</td></tr>",
                            "<tr><td>NULL</td><td>2</td><td>db</td><td>5</td></tr>",
                            "<tr><td>NULL</td><td>2</td><td>NULL</td><td>5</td></tr>",
                            "<tr><td>NULL</td><td>3</td><td>db</td><td>14</td></tr>",
                            "<tr><td>NULL</td><td>3</td><td>NULL</td><td>14</td></tr>",
                            "<tr><td>NULL</td><td>4</td><td>db</td><td>4</td></tr>",
                            "<tr><td>NULL</td><td>4</td><td>NULL</td><td>4</td></tr>",
                            "<tr><td>NULL</td><td>5</td><td>csomag</td><td>7</td></tr>",
                            "<tr><td>NULL</td><td>5</td><td>db</td><td>72</td></tr>",
                            "<tr><td>NULL</td><td>5</td><td>doboz</td><td>1</td></tr>",
                            "<tr><td>NULL</td><td>5</td><td>ív</td><td>5</td></tr>",
                            "<tr><td>NULL</td><td>5</td><td>üveg</td><td>1</td></tr>",
                            "<tr><td>NULL</td><td>5</td><td>NULL</td><td>86</td></tr>",
                            "<tr><td>NULL</td><td>6</td><td>csomag</td><td>9</td></tr>",
                            "<tr><td>NULL</td><td>6</td><td>db</td><td>94</td></tr>",
                            "<tr><td>NULL</td><td>6</td><td>ív</td><td>3</td></tr>",
                            "<tr><td>NULL</td><td>6</td><td>NULL</td><td>106</td></tr>",
                            "<tr><td>NULL</td><td>7</td><td>csomag</td><td>9</td></tr>",
                            "<tr><td>NULL</td><td>7</td><td>db</td><td>88</td></tr>",
                            "<tr><td>NULL</td><td>7</td><td>ív</td><td>2</td></tr>",
                            "<tr><td>NULL</td><td>7</td><td>tekercs</td><td>1</td></tr>",
                            "<tr><td>NULL</td><td>7</td><td>NULL</td><td>100</td></tr>",
                            "<tr><td>NULL</td><td>8</td><td>csomag</td><td>8</td></tr>",
                            "<tr><td>NULL</td><td>8</td><td>db</td><td>109</td></tr>",
                            "<tr><td>NULL</td><td>8</td><td>ív</td><td>6</td></tr>",
                            "<tr><td>NULL</td><td>8</td><td>NULL</td><td>123</td></tr>",
                            "<tr><td>NULL</td><td>9</td><td>csomag</td><td>11</td></tr>",
                            "<tr><td>NULL</td><td>9</td><td>db</td><td>86</td></tr>",
                            "<tr><td>NULL</td><td>9</td><td>ív</td><td>5</td></tr>",
                            "<tr><td>NULL</td><td>9</td><td>NULL</td><td>102</td></tr>",
                            "<tr><td>4</td><td>NULL</td><td>NULL</td><td>15</td></tr>",
                            "<tr><td>5</td><td>NULL</td><td>NULL</td><td>3</td></tr>",
                            "<tr><td>6</td><td>NULL</td><td>NULL</td><td>20</td></tr>",
                            "<tr><td>7</td><td>NULL</td><td>NULL</td><td>3</td></tr>",
                            "<tr><td>8</td><td>NULL</td><td>NULL</td><td>3</td></tr>",
                            "<tr><td>9</td><td>NULL</td><td>NULL</td><td>2</td></tr>",
                            "<tr><td>10</td><td>NULL</td><td>NULL</td><td>1</td></tr>",
                            "<tr><td>11</td><td>NULL</td><td>NULL</td><td>1</td></tr>",
                            "<tr><td>12</td><td>NULL</td><td>NULL</td><td>1</td></tr>",
                            "<tr><td>13</td><td>NULL</td><td>NULL</td><td>2</td></tr>",
                            "<tr><td>14</td><td>NULL</td><td>NULL</td><td>4</td></tr>",
                            "<tr><td>15</td><td>NULL</td><td>NULL</td><td>1</td></tr>",
                            "<tr><td>16</td><td>NULL</td><td>NULL</td><td>7</td></tr>",
                            "<tr><td>17</td><td>NULL</td><td>NULL</td><td>1</td></tr>",
                            "<tr><td>18</td><td>NULL</td><td>NULL</td><td>2</td></tr>",
                            "<tr><td>19</td><td>NULL</td><td>NULL</td><td>19</td></tr>",
                            "<tr><td>20</td><td>NULL</td><td>NULL</td><td>3</td></tr>",
                            "<tr><td>21</td><td>NULL</td><td>NULL</td><td>5</td></tr>",
                            "<tr><td>22</td><td>NULL</td><td>NULL</td><td>2</td></tr>",
                            "<tr><td>24</td><td>NULL</td><td>NULL</td><td>7</td></tr>",
                            "<tr><td>25</td><td>NULL</td><td>NULL</td><td>4</td></tr>",
                            "<tr><td>26</td><td>NULL</td><td>NULL</td><td>1</td></tr>",
                            "<tr><td>27</td><td>NULL</td><td>NULL</td><td>3</td></tr>",
                            "<tr><td>28</td><td>NULL</td><td>NULL</td><td>5</td></tr>",
                            "<tr><td>29</td><td>NULL</td><td>NULL</td><td>1</td></tr>",
                            "<tr><td>30</td><td>NULL</td><td>NULL</td><td>7</td></tr>",
                            "<tr><td>31</td><td>NULL</td><td>NULL</td><td>1</td></tr>",
                            "<tr><td>32</td><td>NULL</td><td>NULL</td><td>3</td></tr>",
                            "<tr><td>33</td><td>NULL</td><td>NULL</td><td>1</td></tr>",
                            "<tr><td>34</td><td>NULL</td><td>NULL</td><td>1</td></tr>",
                            "<tr><td>35</td><td>NULL</td><td>NULL</td><td>7</td></tr>",
                            "<tr><td>36</td><td>NULL</td><td>NULL</td><td>5</td></tr>",
                            "<tr><td>37</td><td>NULL</td><td>NULL</td><td>1</td></tr>",
                            "<tr><td>38</td><td>NULL</td><td>NULL</td><td>1</td></tr>",
                            "<tr><td>39</td><td>NULL</td><td>NULL</td><td>2</td></tr>",
                            "<tr><td>40</td><td>NULL</td><td>NULL</td><td>1</td></tr>",
                            "<tr><td>41</td><td>NULL</td><td>NULL</td><td>13</td></tr>",
                            "<tr><td>42</td><td>NULL</td><td>NULL</td><td>1</td></tr>",
                            "<tr><td>43</td><td>NULL</td><td>NULL</td><td>3</td></tr>",
                            "<tr><td>44</td><td>NULL</td><td>NULL</td><td>1</td></tr>",
                            "<tr><td>45</td><td>NULL</td><td>NULL</td><td>11</td></tr>",
                            "<tr><td>46</td><td>NULL</td><td>NULL</td><td>7</td></tr>",
                            "<tr><td>47</td><td>NULL</td><td>NULL</td><td>4</td></tr>",
                            "<tr><td>48</td><td>NULL</td><td>NULL</td><td>2</td></tr>",
                            "<tr><td>49</td><td>NULL</td><td>NULL</td><td>2</td></tr>",
                            "<tr><td>50</td><td>NULL</td><td>NULL</td><td>1</td></tr>",
                            "<tr><td>51</td><td>NULL</td><td>NULL</td><td>3</td></tr>",
                            "<tr><td>52</td><td>NULL</td><td>NULL</td><td>26</td></tr>",
                            "<tr><td>53</td><td>NULL</td><td>NULL</td><td>1</td></tr>",
                            "<tr><td>54</td><td>NULL</td><td>NULL</td><td>6</td></tr>",
                            "<tr><td>55</td><td>NULL</td><td>NULL</td><td>2</td></tr>",
                            "<tr><td>56</td><td>NULL</td><td>NULL</td><td>4</td></tr>",
                            "<tr><td>57</td><td>NULL</td><td>NULL</td><td>2</td></tr>",
                            "<tr><td>58</td><td>NULL</td><td>NULL</td><td>3</td></tr>",
                            "<tr><td>59</td><td>NULL</td><td>NULL</td><td>4</td></tr>",
                            "<tr><td>60</td><td>NULL</td><td>NULL</td><td>5</td></tr>",
                            "<tr><td>61</td><td>NULL</td><td>NULL</td><td>1</td></tr>",
                            "<tr><td>62</td><td>NULL</td><td>NULL</td><td>2</td></tr>",
                            "<tr><td>64</td><td>NULL</td><td>NULL</td><td>4</td></tr>",
                            "<tr><td>65</td><td>NULL</td><td>NULL</td><td>2</td></tr>",
                            "<tr><td>66</td><td>NULL</td><td>NULL</td><td>7</td></tr>",
                            "<tr><td>67</td><td>NULL</td><td>NULL</td><td>2</td></tr>",
                            "<tr><td>68</td><td>NULL</td><td>NULL</td><td>2</td></tr>",
                            "<tr><td>70</td><td>NULL</td><td>NULL</td><td>3</td></tr>",
                            "<tr><td>71</td><td>NULL</td><td>NULL</td><td>2</td></tr>",
                            "<tr><td>72</td><td>NULL</td><td>NULL</td><td>2</td></tr>",
                            "<tr><td>73</td><td>NULL</td><td>NULL</td><td>2</td></tr>",
                            "<tr><td>74</td><td>NULL</td><td>NULL</td><td>1</td></tr>",
                            "<tr><td>75</td><td>NULL</td><td>NULL</td><td>2</td></tr>",
                            "<tr><td>76</td><td>NULL</td><td>NULL</td><td>5</td></tr>",
                            "<tr><td>78</td><td>NULL</td><td>NULL</td><td>24</td></tr>",
                            "<tr><td>79</td><td>NULL</td><td>NULL</td><td>4</td></tr>",
                            "<tr><td>80</td><td>NULL</td><td>NULL</td><td>1</td></tr>",
                            "<tr><td>82</td><td>NULL</td><td>NULL</td><td>1</td></tr>",
                            "<tr><td>83</td><td>NULL</td><td>NULL</td><td>6</td></tr>",
                            "<tr><td>84</td><td>NULL</td><td>NULL</td><td>1</td></tr>",
                            "<tr><td>85</td><td>NULL</td><td>NULL</td><td>16</td></tr>",
                            "<tr><td>86</td><td>NULL</td><td>NULL</td><td>1</td></tr>",
                            "<tr><td>88</td><td>NULL</td><td>NULL</td><td>2</td></tr>",
                            "<tr><td>89</td><td>NULL</td><td>NULL</td><td>3</td></tr>",
                            "<tr><td>90</td><td>NULL</td><td>NULL</td><td>2</td></tr>",
                            "<tr><td>91</td><td>NULL</td><td>NULL</td><td>7</td></tr>",
                            "<tr><td>92</td><td>NULL</td><td>NULL</td><td>2</td></tr>",
                            "<tr><td>93</td><td>NULL</td><td>NULL</td><td>7</td></tr>",
                            "<tr><td>94</td><td>NULL</td><td>NULL</td><td>2</td></tr>",
                            "<tr><td>95</td><td>NULL</td><td>NULL</td><td>2</td></tr>",
                            "<tr><td>96</td><td>NULL</td><td>NULL</td><td>9</td></tr>",
                            "<tr><td>97</td><td>NULL</td><td>NULL</td><td>10</td></tr>",
                            "<tr><td>98</td><td>NULL</td><td>NULL</td><td>4</td></tr>",
                            "<tr><td>99</td><td>NULL</td><td>NULL</td><td>1</td></tr>",
                            "<tr><td>100</td><td>NULL</td><td>NULL</td><td>9</td></tr>",
                            "<tr><td>101</td><td>NULL</td><td>NULL</td><td>1</td></tr>",
                            "<tr><td>103</td><td>NULL</td><td>NULL</td><td>1</td></tr>",
                            "<tr><td>104</td><td>NULL</td><td>NULL</td><td>2</td></tr>",
                            "<tr><td>105</td><td>NULL</td><td>NULL</td><td>1</td></tr>",
                            "<tr><td>106</td><td>NULL</td><td>NULL</td><td>5</td></tr>",
                            "<tr><td>107</td><td>NULL</td><td>NULL</td><td>1</td></tr>",
                            "<tr><td>108</td><td>NULL</td><td>NULL</td><td>1</td></tr>",
                            "<tr><td>109</td><td>NULL</td><td>NULL</td><td>1</td></tr>",
                            "<tr><td>110</td><td>NULL</td><td>NULL</td><td>2</td></tr>",
                            "<tr><td>111</td><td>NULL</td><td>NULL</td><td>3</td></tr>",
                            "<tr><td>112</td><td>NULL</td><td>NULL</td><td>2</td></tr>",
                            "<tr><td>114</td><td>NULL</td><td>NULL</td><td>1</td></tr>",
                            "<tr><td>115</td><td>NULL</td><td>NULL</td><td>1</td></tr>",
                            "<tr><td>116</td><td>NULL</td><td>NULL</td><td>2</td></tr>",
                            "<tr><td>117</td><td>NULL</td><td>NULL</td><td>2</td></tr>",
                            "<tr><td>118</td><td>NULL</td><td>NULL</td><td>9</td></tr>",
                            "<tr><td>119</td><td>NULL</td><td>NULL</td><td>3</td></tr>",
                            "<tr><td>121</td><td>NULL</td><td>NULL</td><td>2</td></tr>",
                            "<tr><td>122</td><td>NULL</td><td>NULL</td><td>7</td></tr>",
                            "<tr><td>123</td><td>NULL</td><td>NULL</td><td>2</td></tr>",
                            "<tr><td>124</td><td>NULL</td><td>NULL</td><td>10</td></tr>",
                            "<tr><td>125</td><td>NULL</td><td>NULL</td><td>4</td></tr>",
                            "<tr><td>126</td><td>NULL</td><td>NULL</td><td>1</td></tr>",
                            "<tr><td>127</td><td>NULL</td><td>NULL</td><td>2</td></tr>",
                            "<tr><td>128</td><td>NULL</td><td>NULL</td><td>2</td></tr>",
                            "<tr><td>129</td><td>NULL</td><td>NULL</td><td>2</td></tr>",
                            "<tr><td>130</td><td>NULL</td><td>NULL</td><td>1</td></tr>",
                            "<tr><td>131</td><td>NULL</td><td>NULL</td><td>1</td></tr>",
                            "<tr><td>132</td><td>NULL</td><td>NULL</td><td>1</td></tr>",
                            "<tr><td>133</td><td>NULL</td><td>NULL</td><td>6</td></tr>",
                            "<tr><td>134</td><td>NULL</td><td>NULL</td><td>2</td></tr>",
                            "<tr><td>135</td><td>NULL</td><td>NULL</td><td>1</td></tr>",
                            "<tr><td>136</td><td>NULL</td><td>NULL</td><td>2</td></tr>",
                            "<tr><td>137</td><td>NULL</td><td>NULL</td><td>3</td></tr>",
                            "<tr><td>138</td><td>NULL</td><td>NULL</td><td>5</td></tr>",
                            "<tr><td>139</td><td>NULL</td><td>NULL</td><td>1</td></tr>",
                            "<tr><td>140</td><td>NULL</td><td>NULL</td><td>1</td></tr>",
                            "<tr><td>141</td><td>NULL</td><td>NULL</td><td>2</td></tr>",
                            "<tr><td>142</td><td>NULL</td><td>NULL</td><td>1</td></tr>",
                            "<tr><td>143</td><td>NULL</td><td>NULL</td><td>3</td></tr>",
                            "<tr><td>144</td><td>NULL</td><td>NULL</td><td>2</td></tr>",
                            "<tr><td>145</td><td>NULL</td><td>NULL</td><td>18</td></tr>",
                            "<tr><td>146</td><td>NULL</td><td>NULL</td><td>7</td></tr>",
                            "<tr><td>147</td><td>NULL</td><td>NULL</td><td>1</td></tr>",
                            "<tr><td>148</td><td>NULL</td><td>NULL</td><td>1</td></tr>",
                            "<tr><td>149</td><td>NULL</td><td>NULL</td><td>6</td></tr>",
                            "<tr><td>150</td><td>NULL</td><td>NULL</td><td>2</td></tr>",
                            "<tr><td>151</td><td>NULL</td><td>NULL</td><td>4</td></tr>",
                            "<tr><td>152</td><td>NULL</td><td>NULL</td><td>6</td></tr>",
                            "<tr><td>153</td><td>NULL</td><td>NULL</td><td>1</td></tr>",
                            "<tr><td>154</td><td>NULL</td><td>NULL</td><td>4</td></tr>",
                            "<tr><td>155</td><td>NULL</td><td>NULL</td><td>1</td></tr>",
                            "</table>"
                        ]
                    }
                }
            ],
            "execution_count": 2
        },
        {
            "cell_type": "markdown",
            "source": [
                "```\n",
                "3. Készítsünk listát az egyes termékkategóriákban lévő termékek számáról! \n",
                "\n",
                "```\n",
                "\n",
                "a. Elég megjeleníteni a kategóriák azonosítóit és a darabszámokat!   \n",
                "<span style=\"color: var(--vscode-foreground);\">b. A lista megfelelően jelölve tartalmazza a végösszeget is!&nbsp;<br></span> <span style=\"color: var(--vscode-foreground);\">c. Az oszlopokat nevezzük el értelemszerűen!&nbsp;<br></span> <span style=\"color: var(--vscode-foreground);\">d. A listát rendezzük a darabszám szerint növekvő sorrendbe!</span>\n",
                "\n",
                "  \n",
                "\n",
                "![](https://moodle.uni-corvinus.hu/theme/image.php/adaptable/atto_h5p/1709548862/icon)"
            ],
            "metadata": {
                "azdata_cell_guid": "d7876bb9-76d0-4d07-baed-3cb17b2f96c3"
            },
            "attachments": {}
        },
        {
            "cell_type": "code",
            "source": [
                "select IIF(GROUPING_ID(KAT_ID) = 1, 'Összesen',cast(KAT_ID as nvarchar(10))) as 'kategória azonosító',\r\n",
                "    count(*) as 'darabszám'\r\n",
                "from Termek\r\n",
                "group by rollup (KAT_ID)\r\n",
                "order by count(*)"
            ],
            "metadata": {
                "azdata_cell_guid": "56ec19ce-e249-4551-b2a8-f17569765acc",
                "language": "sql"
            },
            "outputs": [
                {
                    "output_type": "display_data",
                    "data": {
                        "text/html": "(144 rows affected)"
                    },
                    "metadata": {}
                },
                {
                    "output_type": "display_data",
                    "data": {
                        "text/html": "Total execution time: 00:00:00.083"
                    },
                    "metadata": {}
                },
                {
                    "output_type": "execute_result",
                    "metadata": {},
                    "execution_count": 3,
                    "data": {
                        "application/vnd.dataresource+json": {
                            "schema": {
                                "fields": [
                                    {
                                        "name": "kategória azonosító"
                                    },
                                    {
                                        "name": "darabszám"
                                    }
                                ]
                            },
                            "data": [
                                {
                                    "kategória azonosító": "10",
                                    "darabszám": "1"
                                },
                                {
                                    "kategória azonosító": "11",
                                    "darabszám": "1"
                                },
                                {
                                    "kategória azonosító": "12",
                                    "darabszám": "1"
                                },
                                {
                                    "kategória azonosító": "15",
                                    "darabszám": "1"
                                },
                                {
                                    "kategória azonosító": "17",
                                    "darabszám": "1"
                                },
                                {
                                    "kategória azonosító": "26",
                                    "darabszám": "1"
                                },
                                {
                                    "kategória azonosító": "29",
                                    "darabszám": "1"
                                },
                                {
                                    "kategória azonosító": "31",
                                    "darabszám": "1"
                                },
                                {
                                    "kategória azonosító": "33",
                                    "darabszám": "1"
                                },
                                {
                                    "kategória azonosító": "34",
                                    "darabszám": "1"
                                },
                                {
                                    "kategória azonosító": "37",
                                    "darabszám": "1"
                                },
                                {
                                    "kategória azonosító": "38",
                                    "darabszám": "1"
                                },
                                {
                                    "kategória azonosító": "40",
                                    "darabszám": "1"
                                },
                                {
                                    "kategória azonosító": "42",
                                    "darabszám": "1"
                                },
                                {
                                    "kategória azonosító": "44",
                                    "darabszám": "1"
                                },
                                {
                                    "kategória azonosító": "50",
                                    "darabszám": "1"
                                },
                                {
                                    "kategória azonosító": "53",
                                    "darabszám": "1"
                                },
                                {
                                    "kategória azonosító": "61",
                                    "darabszám": "1"
                                },
                                {
                                    "kategória azonosító": "74",
                                    "darabszám": "1"
                                },
                                {
                                    "kategória azonosító": "80",
                                    "darabszám": "1"
                                },
                                {
                                    "kategória azonosító": "82",
                                    "darabszám": "1"
                                },
                                {
                                    "kategória azonosító": "84",
                                    "darabszám": "1"
                                },
                                {
                                    "kategória azonosító": "86",
                                    "darabszám": "1"
                                },
                                {
                                    "kategória azonosító": "99",
                                    "darabszám": "1"
                                },
                                {
                                    "kategória azonosító": "101",
                                    "darabszám": "1"
                                },
                                {
                                    "kategória azonosító": "103",
                                    "darabszám": "1"
                                },
                                {
                                    "kategória azonosító": "105",
                                    "darabszám": "1"
                                },
                                {
                                    "kategória azonosító": "107",
                                    "darabszám": "1"
                                },
                                {
                                    "kategória azonosító": "108",
                                    "darabszám": "1"
                                },
                                {
                                    "kategória azonosító": "109",
                                    "darabszám": "1"
                                },
                                {
                                    "kategória azonosító": "114",
                                    "darabszám": "1"
                                },
                                {
                                    "kategória azonosító": "115",
                                    "darabszám": "1"
                                },
                                {
                                    "kategória azonosító": "126",
                                    "darabszám": "1"
                                },
                                {
                                    "kategória azonosító": "130",
                                    "darabszám": "1"
                                },
                                {
                                    "kategória azonosító": "131",
                                    "darabszám": "1"
                                },
                                {
                                    "kategória azonosító": "132",
                                    "darabszám": "1"
                                },
                                {
                                    "kategória azonosító": "135",
                                    "darabszám": "1"
                                },
                                {
                                    "kategória azonosító": "139",
                                    "darabszám": "1"
                                },
                                {
                                    "kategória azonosító": "140",
                                    "darabszám": "1"
                                },
                                {
                                    "kategória azonosító": "142",
                                    "darabszám": "1"
                                },
                                {
                                    "kategória azonosító": "147",
                                    "darabszám": "1"
                                },
                                {
                                    "kategória azonosító": "148",
                                    "darabszám": "1"
                                },
                                {
                                    "kategória azonosító": "153",
                                    "darabszám": "1"
                                },
                                {
                                    "kategória azonosító": "155",
                                    "darabszám": "1"
                                },
                                {
                                    "kategória azonosító": "150",
                                    "darabszám": "2"
                                },
                                {
                                    "kategória azonosító": "144",
                                    "darabszám": "2"
                                },
                                {
                                    "kategória azonosító": "141",
                                    "darabszám": "2"
                                },
                                {
                                    "kategória azonosító": "136",
                                    "darabszám": "2"
                                },
                                {
                                    "kategória azonosító": "123",
                                    "darabszám": "2"
                                },
                                {
                                    "kategória azonosító": "134",
                                    "darabszám": "2"
                                },
                                {
                                    "kategória azonosító": "127",
                                    "darabszám": "2"
                                },
                                {
                                    "kategória azonosító": "128",
                                    "darabszám": "2"
                                },
                                {
                                    "kategória azonosító": "129",
                                    "darabszám": "2"
                                },
                                {
                                    "kategória azonosító": "116",
                                    "darabszám": "2"
                                },
                                {
                                    "kategória azonosító": "117",
                                    "darabszám": "2"
                                },
                                {
                                    "kategória azonosító": "112",
                                    "darabszám": "2"
                                },
                                {
                                    "kategória azonosító": "121",
                                    "darabszám": "2"
                                },
                                {
                                    "kategória azonosító": "110",
                                    "darabszám": "2"
                                },
                                {
                                    "kategória azonosító": "104",
                                    "darabszám": "2"
                                },
                                {
                                    "kategória azonosító": "94",
                                    "darabszám": "2"
                                },
                                {
                                    "kategória azonosító": "95",
                                    "darabszám": "2"
                                },
                                {
                                    "kategória azonosító": "88",
                                    "darabszám": "2"
                                },
                                {
                                    "kategória azonosító": "90",
                                    "darabszám": "2"
                                },
                                {
                                    "kategória azonosító": "92",
                                    "darabszám": "2"
                                },
                                {
                                    "kategória azonosító": "71",
                                    "darabszám": "2"
                                },
                                {
                                    "kategória azonosító": "72",
                                    "darabszám": "2"
                                },
                                {
                                    "kategória azonosító": "73",
                                    "darabszám": "2"
                                },
                                {
                                    "kategória azonosító": "75",
                                    "darabszám": "2"
                                },
                                {
                                    "kategória azonosító": "62",
                                    "darabszám": "2"
                                },
                                {
                                    "kategória azonosító": "55",
                                    "darabszám": "2"
                                },
                                {
                                    "kategória azonosító": "65",
                                    "darabszám": "2"
                                },
                                {
                                    "kategória azonosító": "67",
                                    "darabszám": "2"
                                },
                                {
                                    "kategória azonosító": "68",
                                    "darabszám": "2"
                                },
                                {
                                    "kategória azonosító": "57",
                                    "darabszám": "2"
                                },
                                {
                                    "kategória azonosító": "48",
                                    "darabszám": "2"
                                },
                                {
                                    "kategória azonosító": "49",
                                    "darabszám": "2"
                                },
                                {
                                    "kategória azonosító": "39",
                                    "darabszám": "2"
                                },
                                {
                                    "kategória azonosító": "22",
                                    "darabszám": "2"
                                },
                                {
                                    "kategória azonosító": "18",
                                    "darabszám": "2"
                                },
                                {
                                    "kategória azonosító": "9",
                                    "darabszám": "2"
                                },
                                {
                                    "kategória azonosító": "13",
                                    "darabszám": "2"
                                },
                                {
                                    "kategória azonosító": "5",
                                    "darabszám": "3"
                                },
                                {
                                    "kategória azonosító": "7",
                                    "darabszám": "3"
                                },
                                {
                                    "kategória azonosító": "8",
                                    "darabszám": "3"
                                },
                                {
                                    "kategória azonosító": "20",
                                    "darabszám": "3"
                                },
                                {
                                    "kategória azonosító": "27",
                                    "darabszám": "3"
                                },
                                {
                                    "kategória azonosító": "32",
                                    "darabszám": "3"
                                },
                                {
                                    "kategória azonosító": "43",
                                    "darabszám": "3"
                                },
                                {
                                    "kategória azonosító": "58",
                                    "darabszám": "3"
                                },
                                {
                                    "kategória azonosító": "51",
                                    "darabszám": "3"
                                },
                                {
                                    "kategória azonosító": "70",
                                    "darabszám": "3"
                                },
                                {
                                    "kategória azonosító": "89",
                                    "darabszám": "3"
                                },
                                {
                                    "kategória azonosító": "111",
                                    "darabszám": "3"
                                },
                                {
                                    "kategória azonosító": "119",
                                    "darabszám": "3"
                                },
                                {
                                    "kategória azonosító": "137",
                                    "darabszám": "3"
                                },
                                {
                                    "kategória azonosító": "143",
                                    "darabszám": "3"
                                },
                                {
                                    "kategória azonosító": "151",
                                    "darabszám": "4"
                                },
                                {
                                    "kategória azonosító": "154",
                                    "darabszám": "4"
                                },
                                {
                                    "kategória azonosító": "125",
                                    "darabszám": "4"
                                },
                                {
                                    "kategória azonosító": "79",
                                    "darabszám": "4"
                                },
                                {
                                    "kategória azonosító": "98",
                                    "darabszám": "4"
                                },
                                {
                                    "kategória azonosító": "56",
                                    "darabszám": "4"
                                },
                                {
                                    "kategória azonosító": "64",
                                    "darabszám": "4"
                                },
                                {
                                    "kategória azonosító": "59",
                                    "darabszám": "4"
                                },
                                {
                                    "kategória azonosító": "47",
                                    "darabszám": "4"
                                },
                                {
                                    "kategória azonosító": "25",
                                    "darabszám": "4"
                                },
                                {
                                    "kategória azonosító": "14",
                                    "darabszám": "4"
                                },
                                {
                                    "kategória azonosító": "21",
                                    "darabszám": "5"
                                },
                                {
                                    "kategória azonosító": "36",
                                    "darabszám": "5"
                                },
                                {
                                    "kategória azonosító": "28",
                                    "darabszám": "5"
                                },
                                {
                                    "kategória azonosító": "60",
                                    "darabszám": "5"
                                },
                                {
                                    "kategória azonosító": "76",
                                    "darabszám": "5"
                                },
                                {
                                    "kategória azonosító": "106",
                                    "darabszám": "5"
                                },
                                {
                                    "kategória azonosító": "138",
                                    "darabszám": "5"
                                },
                                {
                                    "kategória azonosító": "133",
                                    "darabszám": "6"
                                },
                                {
                                    "kategória azonosító": "152",
                                    "darabszám": "6"
                                },
                                {
                                    "kategória azonosító": "149",
                                    "darabszám": "6"
                                },
                                {
                                    "kategória azonosító": "83",
                                    "darabszám": "6"
                                },
                                {
                                    "kategória azonosító": "54",
                                    "darabszám": "6"
                                },
                                {
                                    "kategória azonosító": "46",
                                    "darabszám": "7"
                                },
                                {
                                    "kategória azonosító": "66",
                                    "darabszám": "7"
                                },
                                {
                                    "kategória azonosító": "24",
                                    "darabszám": "7"
                                },
                                {
                                    "kategória azonosító": "30",
                                    "darabszám": "7"
                                },
                                {
                                    "kategória azonosító": "35",
                                    "darabszám": "7"
                                },
                                {
                                    "kategória azonosító": "16",
                                    "darabszám": "7"
                                },
                                {
                                    "kategória azonosító": "146",
                                    "darabszám": "7"
                                },
                                {
                                    "kategória azonosító": "122",
                                    "darabszám": "7"
                                },
                                {
                                    "kategória azonosító": "93",
                                    "darabszám": "7"
                                },
                                {
                                    "kategória azonosító": "91",
                                    "darabszám": "7"
                                },
                                {
                                    "kategória azonosító": "100",
                                    "darabszám": "9"
                                },
                                {
                                    "kategória azonosító": "96",
                                    "darabszám": "9"
                                },
                                {
                                    "kategória azonosító": "118",
                                    "darabszám": "9"
                                },
                                {
                                    "kategória azonosító": "97",
                                    "darabszám": "10"
                                },
                                {
                                    "kategória azonosító": "124",
                                    "darabszám": "10"
                                },
                                {
                                    "kategória azonosító": "45",
                                    "darabszám": "11"
                                },
                                {
                                    "kategória azonosító": "41",
                                    "darabszám": "13"
                                },
                                {
                                    "kategória azonosító": "4",
                                    "darabszám": "15"
                                },
                                {
                                    "kategória azonosító": "85",
                                    "darabszám": "16"
                                },
                                {
                                    "kategória azonosító": "145",
                                    "darabszám": "18"
                                },
                                {
                                    "kategória azonosító": "19",
                                    "darabszám": "19"
                                },
                                {
                                    "kategória azonosító": "6",
                                    "darabszám": "20"
                                },
                                {
                                    "kategória azonosító": "78",
                                    "darabszám": "24"
                                },
                                {
                                    "kategória azonosító": "52",
                                    "darabszám": "26"
                                },
                                {
                                    "kategória azonosító": "Összesen",
                                    "darabszám": "551"
                                }
                            ]
                        },
                        "text/html": [
                            "<table>",
                            "<tr><th>kategória azonosító</th><th>darabszám</th></tr>",
                            "<tr><td>10</td><td>1</td></tr>",
                            "<tr><td>11</td><td>1</td></tr>",
                            "<tr><td>12</td><td>1</td></tr>",
                            "<tr><td>15</td><td>1</td></tr>",
                            "<tr><td>17</td><td>1</td></tr>",
                            "<tr><td>26</td><td>1</td></tr>",
                            "<tr><td>29</td><td>1</td></tr>",
                            "<tr><td>31</td><td>1</td></tr>",
                            "<tr><td>33</td><td>1</td></tr>",
                            "<tr><td>34</td><td>1</td></tr>",
                            "<tr><td>37</td><td>1</td></tr>",
                            "<tr><td>38</td><td>1</td></tr>",
                            "<tr><td>40</td><td>1</td></tr>",
                            "<tr><td>42</td><td>1</td></tr>",
                            "<tr><td>44</td><td>1</td></tr>",
                            "<tr><td>50</td><td>1</td></tr>",
                            "<tr><td>53</td><td>1</td></tr>",
                            "<tr><td>61</td><td>1</td></tr>",
                            "<tr><td>74</td><td>1</td></tr>",
                            "<tr><td>80</td><td>1</td></tr>",
                            "<tr><td>82</td><td>1</td></tr>",
                            "<tr><td>84</td><td>1</td></tr>",
                            "<tr><td>86</td><td>1</td></tr>",
                            "<tr><td>99</td><td>1</td></tr>",
                            "<tr><td>101</td><td>1</td></tr>",
                            "<tr><td>103</td><td>1</td></tr>",
                            "<tr><td>105</td><td>1</td></tr>",
                            "<tr><td>107</td><td>1</td></tr>",
                            "<tr><td>108</td><td>1</td></tr>",
                            "<tr><td>109</td><td>1</td></tr>",
                            "<tr><td>114</td><td>1</td></tr>",
                            "<tr><td>115</td><td>1</td></tr>",
                            "<tr><td>126</td><td>1</td></tr>",
                            "<tr><td>130</td><td>1</td></tr>",
                            "<tr><td>131</td><td>1</td></tr>",
                            "<tr><td>132</td><td>1</td></tr>",
                            "<tr><td>135</td><td>1</td></tr>",
                            "<tr><td>139</td><td>1</td></tr>",
                            "<tr><td>140</td><td>1</td></tr>",
                            "<tr><td>142</td><td>1</td></tr>",
                            "<tr><td>147</td><td>1</td></tr>",
                            "<tr><td>148</td><td>1</td></tr>",
                            "<tr><td>153</td><td>1</td></tr>",
                            "<tr><td>155</td><td>1</td></tr>",
                            "<tr><td>150</td><td>2</td></tr>",
                            "<tr><td>144</td><td>2</td></tr>",
                            "<tr><td>141</td><td>2</td></tr>",
                            "<tr><td>136</td><td>2</td></tr>",
                            "<tr><td>123</td><td>2</td></tr>",
                            "<tr><td>134</td><td>2</td></tr>",
                            "<tr><td>127</td><td>2</td></tr>",
                            "<tr><td>128</td><td>2</td></tr>",
                            "<tr><td>129</td><td>2</td></tr>",
                            "<tr><td>116</td><td>2</td></tr>",
                            "<tr><td>117</td><td>2</td></tr>",
                            "<tr><td>112</td><td>2</td></tr>",
                            "<tr><td>121</td><td>2</td></tr>",
                            "<tr><td>110</td><td>2</td></tr>",
                            "<tr><td>104</td><td>2</td></tr>",
                            "<tr><td>94</td><td>2</td></tr>",
                            "<tr><td>95</td><td>2</td></tr>",
                            "<tr><td>88</td><td>2</td></tr>",
                            "<tr><td>90</td><td>2</td></tr>",
                            "<tr><td>92</td><td>2</td></tr>",
                            "<tr><td>71</td><td>2</td></tr>",
                            "<tr><td>72</td><td>2</td></tr>",
                            "<tr><td>73</td><td>2</td></tr>",
                            "<tr><td>75</td><td>2</td></tr>",
                            "<tr><td>62</td><td>2</td></tr>",
                            "<tr><td>55</td><td>2</td></tr>",
                            "<tr><td>65</td><td>2</td></tr>",
                            "<tr><td>67</td><td>2</td></tr>",
                            "<tr><td>68</td><td>2</td></tr>",
                            "<tr><td>57</td><td>2</td></tr>",
                            "<tr><td>48</td><td>2</td></tr>",
                            "<tr><td>49</td><td>2</td></tr>",
                            "<tr><td>39</td><td>2</td></tr>",
                            "<tr><td>22</td><td>2</td></tr>",
                            "<tr><td>18</td><td>2</td></tr>",
                            "<tr><td>9</td><td>2</td></tr>",
                            "<tr><td>13</td><td>2</td></tr>",
                            "<tr><td>5</td><td>3</td></tr>",
                            "<tr><td>7</td><td>3</td></tr>",
                            "<tr><td>8</td><td>3</td></tr>",
                            "<tr><td>20</td><td>3</td></tr>",
                            "<tr><td>27</td><td>3</td></tr>",
                            "<tr><td>32</td><td>3</td></tr>",
                            "<tr><td>43</td><td>3</td></tr>",
                            "<tr><td>58</td><td>3</td></tr>",
                            "<tr><td>51</td><td>3</td></tr>",
                            "<tr><td>70</td><td>3</td></tr>",
                            "<tr><td>89</td><td>3</td></tr>",
                            "<tr><td>111</td><td>3</td></tr>",
                            "<tr><td>119</td><td>3</td></tr>",
                            "<tr><td>137</td><td>3</td></tr>",
                            "<tr><td>143</td><td>3</td></tr>",
                            "<tr><td>151</td><td>4</td></tr>",
                            "<tr><td>154</td><td>4</td></tr>",
                            "<tr><td>125</td><td>4</td></tr>",
                            "<tr><td>79</td><td>4</td></tr>",
                            "<tr><td>98</td><td>4</td></tr>",
                            "<tr><td>56</td><td>4</td></tr>",
                            "<tr><td>64</td><td>4</td></tr>",
                            "<tr><td>59</td><td>4</td></tr>",
                            "<tr><td>47</td><td>4</td></tr>",
                            "<tr><td>25</td><td>4</td></tr>",
                            "<tr><td>14</td><td>4</td></tr>",
                            "<tr><td>21</td><td>5</td></tr>",
                            "<tr><td>36</td><td>5</td></tr>",
                            "<tr><td>28</td><td>5</td></tr>",
                            "<tr><td>60</td><td>5</td></tr>",
                            "<tr><td>76</td><td>5</td></tr>",
                            "<tr><td>106</td><td>5</td></tr>",
                            "<tr><td>138</td><td>5</td></tr>",
                            "<tr><td>133</td><td>6</td></tr>",
                            "<tr><td>152</td><td>6</td></tr>",
                            "<tr><td>149</td><td>6</td></tr>",
                            "<tr><td>83</td><td>6</td></tr>",
                            "<tr><td>54</td><td>6</td></tr>",
                            "<tr><td>46</td><td>7</td></tr>",
                            "<tr><td>66</td><td>7</td></tr>",
                            "<tr><td>24</td><td>7</td></tr>",
                            "<tr><td>30</td><td>7</td></tr>",
                            "<tr><td>35</td><td>7</td></tr>",
                            "<tr><td>16</td><td>7</td></tr>",
                            "<tr><td>146</td><td>7</td></tr>",
                            "<tr><td>122</td><td>7</td></tr>",
                            "<tr><td>93</td><td>7</td></tr>",
                            "<tr><td>91</td><td>7</td></tr>",
                            "<tr><td>100</td><td>9</td></tr>",
                            "<tr><td>96</td><td>9</td></tr>",
                            "<tr><td>118</td><td>9</td></tr>",
                            "<tr><td>97</td><td>10</td></tr>",
                            "<tr><td>124</td><td>10</td></tr>",
                            "<tr><td>45</td><td>11</td></tr>",
                            "<tr><td>41</td><td>13</td></tr>",
                            "<tr><td>4</td><td>15</td></tr>",
                            "<tr><td>85</td><td>16</td></tr>",
                            "<tr><td>145</td><td>18</td></tr>",
                            "<tr><td>19</td><td>19</td></tr>",
                            "<tr><td>6</td><td>20</td></tr>",
                            "<tr><td>78</td><td>24</td></tr>",
                            "<tr><td>52</td><td>26</td></tr>",
                            "<tr><td>Összesen</td><td>551</td></tr>",
                            "</table>"
                        ]
                    }
                }
            ],
            "execution_count": 3
        },
        {
            "cell_type": "markdown",
            "source": [
                "4. <span style=\"background-color: rgb(255, 255, 255); color: rgb(0, 0, 0); font-family: &quot;Open Sans&quot;, sans-serif; font-size: 14.44px;\">Készítsünk listát az ügyfelek számáról születési év szerint, azon belül nem szerinti bontásban!&nbsp;</span> \n",
                "\n",
                "a. A lista megfelelően jelölve tartalmazza a részösszegeket és a végösszeget is!  \n",
                "b. Az oszlopoknak adjunk nevet értelemszerűen!"
            ],
            "metadata": {
                "azdata_cell_guid": "8e7fef82-8022-49a0-8255-fc2846c2134b"
            },
            "attachments": {}
        },
        {
            "cell_type": "code",
            "source": [
                "select IIF(GROUPING_ID(szulev) = 1, 'Végösszeg',cast(szulev as nvarchar(4)))as 'születési év',\r\n",
                "    CASE \r\n",
                "         WHEN GROUPING_ID(szulev, nem) = 1 THEN 'Részösszeg'\r\n",
                "         WHEN GROUPING_ID(szulev, nem) = 3 THEN 'Végösszeg'\r\n",
                "         ELSE nem \r\n",
                "         END as 'nem',\r\n",
                "    count(*) as 'ügyfelek száma'\r\n",
                "from ugyfel\r\n",
                "group by ROLLUP (szulev, nem)"
            ],
            "metadata": {
                "azdata_cell_guid": "36f7b396-4a1f-45e5-8720-2302537c91bc",
                "language": "sql"
            },
            "outputs": [
                {
                    "output_type": "display_data",
                    "data": {
                        "text/html": "(96 rows affected)"
                    },
                    "metadata": {}
                },
                {
                    "output_type": "display_data",
                    "data": {
                        "text/html": "Total execution time: 00:00:00.030"
                    },
                    "metadata": {}
                },
                {
                    "output_type": "execute_result",
                    "metadata": {},
                    "execution_count": 8,
                    "data": {
                        "application/vnd.dataresource+json": {
                            "schema": {
                                "fields": [
                                    {
                                        "name": "születési év"
                                    },
                                    {
                                        "name": "nem"
                                    },
                                    {
                                        "name": "ügyfelek száma"
                                    }
                                ]
                            },
                            "data": [
                                {
                                    "születési év": "1967",
                                    "nem": "F",
                                    "ügyfelek száma": "5"
                                },
                                {
                                    "születési év": "1967",
                                    "nem": "N",
                                    "ügyfelek száma": "3"
                                },
                                {
                                    "születési év": "1967",
                                    "nem": "Részösszeg",
                                    "ügyfelek száma": "8"
                                },
                                {
                                    "születési év": "1968",
                                    "nem": "F",
                                    "ügyfelek száma": "5"
                                },
                                {
                                    "születési év": "1968",
                                    "nem": "N",
                                    "ügyfelek száma": "3"
                                },
                                {
                                    "születési év": "1968",
                                    "nem": "Részösszeg",
                                    "ügyfelek száma": "8"
                                },
                                {
                                    "születési év": "1969",
                                    "nem": "F",
                                    "ügyfelek száma": "5"
                                },
                                {
                                    "születési év": "1969",
                                    "nem": "N",
                                    "ügyfelek száma": "3"
                                },
                                {
                                    "születési év": "1969",
                                    "nem": "Részösszeg",
                                    "ügyfelek száma": "8"
                                },
                                {
                                    "születési év": "1970",
                                    "nem": "F",
                                    "ügyfelek száma": "4"
                                },
                                {
                                    "születési év": "1970",
                                    "nem": "Részösszeg",
                                    "ügyfelek száma": "4"
                                },
                                {
                                    "születési év": "1971",
                                    "nem": "F",
                                    "ügyfelek száma": "2"
                                },
                                {
                                    "születési év": "1971",
                                    "nem": "N",
                                    "ügyfelek száma": "3"
                                },
                                {
                                    "születési év": "1971",
                                    "nem": "Részösszeg",
                                    "ügyfelek száma": "5"
                                },
                                {
                                    "születési év": "1972",
                                    "nem": "F",
                                    "ügyfelek száma": "2"
                                },
                                {
                                    "születési év": "1972",
                                    "nem": "N",
                                    "ügyfelek száma": "2"
                                },
                                {
                                    "születési év": "1972",
                                    "nem": "Részösszeg",
                                    "ügyfelek száma": "4"
                                },
                                {
                                    "születési év": "1973",
                                    "nem": "F",
                                    "ügyfelek száma": "2"
                                },
                                {
                                    "születési év": "1973",
                                    "nem": "N",
                                    "ügyfelek száma": "2"
                                },
                                {
                                    "születési év": "1973",
                                    "nem": "Részösszeg",
                                    "ügyfelek száma": "4"
                                },
                                {
                                    "születési év": "1974",
                                    "nem": "F",
                                    "ügyfelek száma": "1"
                                },
                                {
                                    "születési év": "1974",
                                    "nem": "N",
                                    "ügyfelek száma": "3"
                                },
                                {
                                    "születési év": "1974",
                                    "nem": "Részösszeg",
                                    "ügyfelek száma": "4"
                                },
                                {
                                    "születési év": "1975",
                                    "nem": "F",
                                    "ügyfelek száma": "8"
                                },
                                {
                                    "születési év": "1975",
                                    "nem": "N",
                                    "ügyfelek száma": "3"
                                },
                                {
                                    "születési év": "1975",
                                    "nem": "Részösszeg",
                                    "ügyfelek száma": "11"
                                },
                                {
                                    "születési év": "1976",
                                    "nem": "F",
                                    "ügyfelek száma": "5"
                                },
                                {
                                    "születési év": "1976",
                                    "nem": "N",
                                    "ügyfelek száma": "2"
                                },
                                {
                                    "születési év": "1976",
                                    "nem": "Részösszeg",
                                    "ügyfelek száma": "7"
                                },
                                {
                                    "születési év": "1977",
                                    "nem": "F",
                                    "ügyfelek száma": "4"
                                },
                                {
                                    "születési év": "1977",
                                    "nem": "N",
                                    "ügyfelek száma": "1"
                                },
                                {
                                    "születési év": "1977",
                                    "nem": "Részösszeg",
                                    "ügyfelek száma": "5"
                                },
                                {
                                    "születési év": "1978",
                                    "nem": "F",
                                    "ügyfelek száma": "3"
                                },
                                {
                                    "születési év": "1978",
                                    "nem": "N",
                                    "ügyfelek száma": "4"
                                },
                                {
                                    "születési év": "1978",
                                    "nem": "Részösszeg",
                                    "ügyfelek száma": "7"
                                },
                                {
                                    "születési év": "1979",
                                    "nem": "F",
                                    "ügyfelek száma": "4"
                                },
                                {
                                    "születési év": "1979",
                                    "nem": "N",
                                    "ügyfelek száma": "3"
                                },
                                {
                                    "születési év": "1979",
                                    "nem": "Részösszeg",
                                    "ügyfelek száma": "7"
                                },
                                {
                                    "születési év": "1980",
                                    "nem": "F",
                                    "ügyfelek száma": "4"
                                },
                                {
                                    "születési év": "1980",
                                    "nem": "N",
                                    "ügyfelek száma": "3"
                                },
                                {
                                    "születési év": "1980",
                                    "nem": "Részösszeg",
                                    "ügyfelek száma": "7"
                                },
                                {
                                    "születési év": "1981",
                                    "nem": "N",
                                    "ügyfelek száma": "4"
                                },
                                {
                                    "születési év": "1981",
                                    "nem": "Részösszeg",
                                    "ügyfelek száma": "4"
                                },
                                {
                                    "születési év": "1982",
                                    "nem": "F",
                                    "ügyfelek száma": "2"
                                },
                                {
                                    "születési év": "1982",
                                    "nem": "N",
                                    "ügyfelek száma": "2"
                                },
                                {
                                    "születési év": "1982",
                                    "nem": "Részösszeg",
                                    "ügyfelek száma": "4"
                                },
                                {
                                    "születési év": "1983",
                                    "nem": "F",
                                    "ügyfelek száma": "5"
                                },
                                {
                                    "születési év": "1983",
                                    "nem": "N",
                                    "ügyfelek száma": "3"
                                },
                                {
                                    "születési év": "1983",
                                    "nem": "Részösszeg",
                                    "ügyfelek száma": "8"
                                },
                                {
                                    "születési év": "1984",
                                    "nem": "F",
                                    "ügyfelek száma": "6"
                                },
                                {
                                    "születési év": "1984",
                                    "nem": "N",
                                    "ügyfelek száma": "2"
                                },
                                {
                                    "születési év": "1984",
                                    "nem": "Részösszeg",
                                    "ügyfelek száma": "8"
                                },
                                {
                                    "születési év": "1985",
                                    "nem": "F",
                                    "ügyfelek száma": "5"
                                },
                                {
                                    "születési év": "1985",
                                    "nem": "N",
                                    "ügyfelek száma": "1"
                                },
                                {
                                    "születési év": "1985",
                                    "nem": "Részösszeg",
                                    "ügyfelek száma": "6"
                                },
                                {
                                    "születési év": "1986",
                                    "nem": "F",
                                    "ügyfelek száma": "7"
                                },
                                {
                                    "születési év": "1986",
                                    "nem": "N",
                                    "ügyfelek száma": "2"
                                },
                                {
                                    "születési év": "1986",
                                    "nem": "Részösszeg",
                                    "ügyfelek száma": "9"
                                },
                                {
                                    "születési év": "1987",
                                    "nem": "F",
                                    "ügyfelek száma": "2"
                                },
                                {
                                    "születési év": "1987",
                                    "nem": "N",
                                    "ügyfelek száma": "3"
                                },
                                {
                                    "születési év": "1987",
                                    "nem": "Részösszeg",
                                    "ügyfelek száma": "5"
                                },
                                {
                                    "születési év": "1988",
                                    "nem": "F",
                                    "ügyfelek száma": "2"
                                },
                                {
                                    "születési év": "1988",
                                    "nem": "N",
                                    "ügyfelek száma": "4"
                                },
                                {
                                    "születési év": "1988",
                                    "nem": "Részösszeg",
                                    "ügyfelek száma": "6"
                                },
                                {
                                    "születési év": "1989",
                                    "nem": "F",
                                    "ügyfelek száma": "6"
                                },
                                {
                                    "születési év": "1989",
                                    "nem": "N",
                                    "ügyfelek száma": "1"
                                },
                                {
                                    "születési év": "1989",
                                    "nem": "Részösszeg",
                                    "ügyfelek száma": "7"
                                },
                                {
                                    "születési év": "1990",
                                    "nem": "F",
                                    "ügyfelek száma": "5"
                                },
                                {
                                    "születési év": "1990",
                                    "nem": "N",
                                    "ügyfelek száma": "3"
                                },
                                {
                                    "születési év": "1990",
                                    "nem": "Részösszeg",
                                    "ügyfelek száma": "8"
                                },
                                {
                                    "születési év": "1991",
                                    "nem": "F",
                                    "ügyfelek száma": "3"
                                },
                                {
                                    "születési év": "1991",
                                    "nem": "N",
                                    "ügyfelek száma": "3"
                                },
                                {
                                    "születési év": "1991",
                                    "nem": "Részösszeg",
                                    "ügyfelek száma": "6"
                                },
                                {
                                    "születési év": "1992",
                                    "nem": "F",
                                    "ügyfelek száma": "3"
                                },
                                {
                                    "születési év": "1992",
                                    "nem": "N",
                                    "ügyfelek száma": "1"
                                },
                                {
                                    "születési év": "1992",
                                    "nem": "Részösszeg",
                                    "ügyfelek száma": "4"
                                },
                                {
                                    "születési év": "1993",
                                    "nem": "F",
                                    "ügyfelek száma": "2"
                                },
                                {
                                    "születési év": "1993",
                                    "nem": "N",
                                    "ügyfelek száma": "3"
                                },
                                {
                                    "születési év": "1993",
                                    "nem": "Részösszeg",
                                    "ügyfelek száma": "5"
                                },
                                {
                                    "születési év": "1994",
                                    "nem": "N",
                                    "ügyfelek száma": "3"
                                },
                                {
                                    "születési év": "1994",
                                    "nem": "Részösszeg",
                                    "ügyfelek száma": "3"
                                },
                                {
                                    "születési év": "1995",
                                    "nem": "F",
                                    "ügyfelek száma": "3"
                                },
                                {
                                    "születési év": "1995",
                                    "nem": "N",
                                    "ügyfelek száma": "3"
                                },
                                {
                                    "születési év": "1995",
                                    "nem": "Részösszeg",
                                    "ügyfelek száma": "6"
                                },
                                {
                                    "születési év": "1996",
                                    "nem": "F",
                                    "ügyfelek száma": "2"
                                },
                                {
                                    "születési év": "1996",
                                    "nem": "N",
                                    "ügyfelek száma": "5"
                                },
                                {
                                    "születési év": "1996",
                                    "nem": "Részösszeg",
                                    "ügyfelek száma": "7"
                                },
                                {
                                    "születési év": "1997",
                                    "nem": "F",
                                    "ügyfelek száma": "10"
                                },
                                {
                                    "születési év": "1997",
                                    "nem": "N",
                                    "ügyfelek száma": "2"
                                },
                                {
                                    "születési év": "1997",
                                    "nem": "Részösszeg",
                                    "ügyfelek száma": "12"
                                },
                                {
                                    "születési év": "1998",
                                    "nem": "F",
                                    "ügyfelek száma": "1"
                                },
                                {
                                    "születési év": "1998",
                                    "nem": "N",
                                    "ügyfelek száma": "1"
                                },
                                {
                                    "születési év": "1998",
                                    "nem": "Részösszeg",
                                    "ügyfelek száma": "2"
                                },
                                {
                                    "születési év": "2000",
                                    "nem": "F",
                                    "ügyfelek száma": "1"
                                },
                                {
                                    "születési év": "2000",
                                    "nem": "Részösszeg",
                                    "ügyfelek száma": "1"
                                },
                                {
                                    "születési év": "Végösszeg",
                                    "nem": "Végösszeg",
                                    "ügyfelek száma": "200"
                                }
                            ]
                        },
                        "text/html": [
                            "<table>",
                            "<tr><th>születési év</th><th>nem</th><th>ügyfelek száma</th></tr>",
                            "<tr><td>1967</td><td>F</td><td>5</td></tr>",
                            "<tr><td>1967</td><td>N</td><td>3</td></tr>",
                            "<tr><td>1967</td><td>Részösszeg</td><td>8</td></tr>",
                            "<tr><td>1968</td><td>F</td><td>5</td></tr>",
                            "<tr><td>1968</td><td>N</td><td>3</td></tr>",
                            "<tr><td>1968</td><td>Részösszeg</td><td>8</td></tr>",
                            "<tr><td>1969</td><td>F</td><td>5</td></tr>",
                            "<tr><td>1969</td><td>N</td><td>3</td></tr>",
                            "<tr><td>1969</td><td>Részösszeg</td><td>8</td></tr>",
                            "<tr><td>1970</td><td>F</td><td>4</td></tr>",
                            "<tr><td>1970</td><td>Részösszeg</td><td>4</td></tr>",
                            "<tr><td>1971</td><td>F</td><td>2</td></tr>",
                            "<tr><td>1971</td><td>N</td><td>3</td></tr>",
                            "<tr><td>1971</td><td>Részösszeg</td><td>5</td></tr>",
                            "<tr><td>1972</td><td>F</td><td>2</td></tr>",
                            "<tr><td>1972</td><td>N</td><td>2</td></tr>",
                            "<tr><td>1972</td><td>Részösszeg</td><td>4</td></tr>",
                            "<tr><td>1973</td><td>F</td><td>2</td></tr>",
                            "<tr><td>1973</td><td>N</td><td>2</td></tr>",
                            "<tr><td>1973</td><td>Részösszeg</td><td>4</td></tr>",
                            "<tr><td>1974</td><td>F</td><td>1</td></tr>",
                            "<tr><td>1974</td><td>N</td><td>3</td></tr>",
                            "<tr><td>1974</td><td>Részösszeg</td><td>4</td></tr>",
                            "<tr><td>1975</td><td>F</td><td>8</td></tr>",
                            "<tr><td>1975</td><td>N</td><td>3</td></tr>",
                            "<tr><td>1975</td><td>Részösszeg</td><td>11</td></tr>",
                            "<tr><td>1976</td><td>F</td><td>5</td></tr>",
                            "<tr><td>1976</td><td>N</td><td>2</td></tr>",
                            "<tr><td>1976</td><td>Részösszeg</td><td>7</td></tr>",
                            "<tr><td>1977</td><td>F</td><td>4</td></tr>",
                            "<tr><td>1977</td><td>N</td><td>1</td></tr>",
                            "<tr><td>1977</td><td>Részösszeg</td><td>5</td></tr>",
                            "<tr><td>1978</td><td>F</td><td>3</td></tr>",
                            "<tr><td>1978</td><td>N</td><td>4</td></tr>",
                            "<tr><td>1978</td><td>Részösszeg</td><td>7</td></tr>",
                            "<tr><td>1979</td><td>F</td><td>4</td></tr>",
                            "<tr><td>1979</td><td>N</td><td>3</td></tr>",
                            "<tr><td>1979</td><td>Részösszeg</td><td>7</td></tr>",
                            "<tr><td>1980</td><td>F</td><td>4</td></tr>",
                            "<tr><td>1980</td><td>N</td><td>3</td></tr>",
                            "<tr><td>1980</td><td>Részösszeg</td><td>7</td></tr>",
                            "<tr><td>1981</td><td>N</td><td>4</td></tr>",
                            "<tr><td>1981</td><td>Részösszeg</td><td>4</td></tr>",
                            "<tr><td>1982</td><td>F</td><td>2</td></tr>",
                            "<tr><td>1982</td><td>N</td><td>2</td></tr>",
                            "<tr><td>1982</td><td>Részösszeg</td><td>4</td></tr>",
                            "<tr><td>1983</td><td>F</td><td>5</td></tr>",
                            "<tr><td>1983</td><td>N</td><td>3</td></tr>",
                            "<tr><td>1983</td><td>Részösszeg</td><td>8</td></tr>",
                            "<tr><td>1984</td><td>F</td><td>6</td></tr>",
                            "<tr><td>1984</td><td>N</td><td>2</td></tr>",
                            "<tr><td>1984</td><td>Részösszeg</td><td>8</td></tr>",
                            "<tr><td>1985</td><td>F</td><td>5</td></tr>",
                            "<tr><td>1985</td><td>N</td><td>1</td></tr>",
                            "<tr><td>1985</td><td>Részösszeg</td><td>6</td></tr>",
                            "<tr><td>1986</td><td>F</td><td>7</td></tr>",
                            "<tr><td>1986</td><td>N</td><td>2</td></tr>",
                            "<tr><td>1986</td><td>Részösszeg</td><td>9</td></tr>",
                            "<tr><td>1987</td><td>F</td><td>2</td></tr>",
                            "<tr><td>1987</td><td>N</td><td>3</td></tr>",
                            "<tr><td>1987</td><td>Részösszeg</td><td>5</td></tr>",
                            "<tr><td>1988</td><td>F</td><td>2</td></tr>",
                            "<tr><td>1988</td><td>N</td><td>4</td></tr>",
                            "<tr><td>1988</td><td>Részösszeg</td><td>6</td></tr>",
                            "<tr><td>1989</td><td>F</td><td>6</td></tr>",
                            "<tr><td>1989</td><td>N</td><td>1</td></tr>",
                            "<tr><td>1989</td><td>Részösszeg</td><td>7</td></tr>",
                            "<tr><td>1990</td><td>F</td><td>5</td></tr>",
                            "<tr><td>1990</td><td>N</td><td>3</td></tr>",
                            "<tr><td>1990</td><td>Részösszeg</td><td>8</td></tr>",
                            "<tr><td>1991</td><td>F</td><td>3</td></tr>",
                            "<tr><td>1991</td><td>N</td><td>3</td></tr>",
                            "<tr><td>1991</td><td>Részösszeg</td><td>6</td></tr>",
                            "<tr><td>1992</td><td>F</td><td>3</td></tr>",
                            "<tr><td>1992</td><td>N</td><td>1</td></tr>",
                            "<tr><td>1992</td><td>Részösszeg</td><td>4</td></tr>",
                            "<tr><td>1993</td><td>F</td><td>2</td></tr>",
                            "<tr><td>1993</td><td>N</td><td>3</td></tr>",
                            "<tr><td>1993</td><td>Részösszeg</td><td>5</td></tr>",
                            "<tr><td>1994</td><td>N</td><td>3</td></tr>",
                            "<tr><td>1994</td><td>Részösszeg</td><td>3</td></tr>",
                            "<tr><td>1995</td><td>F</td><td>3</td></tr>",
                            "<tr><td>1995</td><td>N</td><td>3</td></tr>",
                            "<tr><td>1995</td><td>Részösszeg</td><td>6</td></tr>",
                            "<tr><td>1996</td><td>F</td><td>2</td></tr>",
                            "<tr><td>1996</td><td>N</td><td>5</td></tr>",
                            "<tr><td>1996</td><td>Részösszeg</td><td>7</td></tr>",
                            "<tr><td>1997</td><td>F</td><td>10</td></tr>",
                            "<tr><td>1997</td><td>N</td><td>2</td></tr>",
                            "<tr><td>1997</td><td>Részösszeg</td><td>12</td></tr>",
                            "<tr><td>1998</td><td>F</td><td>1</td></tr>",
                            "<tr><td>1998</td><td>N</td><td>1</td></tr>",
                            "<tr><td>1998</td><td>Részösszeg</td><td>2</td></tr>",
                            "<tr><td>2000</td><td>F</td><td>1</td></tr>",
                            "<tr><td>2000</td><td>Részösszeg</td><td>1</td></tr>",
                            "<tr><td>Végösszeg</td><td>Végösszeg</td><td>200</td></tr>",
                            "</table>"
                        ]
                    }
                }
            ],
            "execution_count": 8
        },
        {
            "cell_type": "markdown",
            "source": [
                "5. <span style=\"background-color: rgb(255, 255, 255); color: rgb(0, 0, 0); font-family: &quot;Open Sans&quot;, sans-serif; font-size: 14.44px;\">Készítsünk listát a termékek számáról a felvitel hónapja, azon belül napja szerint csoportosítva.&nbsp;</span> \n",
                "\n",
                "a. A lista csak a részösszegeket és a végösszeget tartalmazza!  \n",
                "b. Az oszlopoknak adjunk megfelelő nevet!  \n",
                "c. Ötlet: HAVING + GROUPING\\_ID fv együttes használata"
            ],
            "metadata": {
                "azdata_cell_guid": "84239ca2-6b5e-49f5-9860-d44c11d6de32"
            },
            "attachments": {}
        },
        {
            "cell_type": "code",
            "source": [
                "select month(felvitel) as 'felvitel hónapja',\r\n",
                "    day(felvitel) as 'felvitel napja',\r\n",
                "count(*) as 'termékek száma'\r\n",
                "from termek\r\n",
                "group by rollup(month(felvitel), day(felvitel))\r\n",
                "having GROUPING_ID(month(felvitel), day(felvitel)) > 0"
            ],
            "metadata": {
                "azdata_cell_guid": "06d9a62b-9430-424b-a135-d80e675f0eb3",
                "language": "sql"
            },
            "outputs": [
                {
                    "output_type": "display_data",
                    "data": {
                        "text/html": "(5 rows affected)"
                    },
                    "metadata": {}
                },
                {
                    "output_type": "display_data",
                    "data": {
                        "text/html": "Total execution time: 00:00:00.029"
                    },
                    "metadata": {}
                },
                {
                    "output_type": "execute_result",
                    "metadata": {},
                    "execution_count": 11,
                    "data": {
                        "application/vnd.dataresource+json": {
                            "schema": {
                                "fields": [
                                    {
                                        "name": "felvitel hónapja"
                                    },
                                    {
                                        "name": "felvitel napja"
                                    },
                                    {
                                        "name": "termékek száma"
                                    }
                                ]
                            },
                            "data": [
                                {
                                    "felvitel hónapja": "7",
                                    "felvitel napja": "NULL",
                                    "termékek száma": "355"
                                },
                                {
                                    "felvitel hónapja": "8",
                                    "felvitel napja": "NULL",
                                    "termékek száma": "194"
                                },
                                {
                                    "felvitel hónapja": "9",
                                    "felvitel napja": "NULL",
                                    "termékek száma": "1"
                                },
                                {
                                    "felvitel hónapja": "12",
                                    "felvitel napja": "NULL",
                                    "termékek száma": "1"
                                },
                                {
                                    "felvitel hónapja": "NULL",
                                    "felvitel napja": "NULL",
                                    "termékek száma": "551"
                                }
                            ]
                        },
                        "text/html": [
                            "<table>",
                            "<tr><th>felvitel hónapja</th><th>felvitel napja</th><th>termékek száma</th></tr>",
                            "<tr><td>7</td><td>NULL</td><td>355</td></tr>",
                            "<tr><td>8</td><td>NULL</td><td>194</td></tr>",
                            "<tr><td>9</td><td>NULL</td><td>1</td></tr>",
                            "<tr><td>12</td><td>NULL</td><td>1</td></tr>",
                            "<tr><td>NULL</td><td>NULL</td><td>551</td></tr>",
                            "</table>"
                        ]
                    }
                }
            ],
            "execution_count": 11
        }
    ]
}