{
    "metadata": {
        "kernelspec": {
            "name": "SQL",
            "display_name": "SQL",
            "language": "sql"
        },
        "language_info": {
            "name": "sql",
            "version": ""
        }
    },
    "nbformat_minor": 2,
    "nbformat": 4,
    "cells": [
        {
            "cell_type": "markdown",
            "source": [
                "Listázzuk \"laszlo2\" vendég gyermek nélküli foglalásainak adatait!\n",
                "\n",
                "a. Egy új oszlopban jelenítsük meg, hogy a foglalás a nyári szezonban (június, július, augusztus) történt-e (Igen/Nem). \n",
                "\n",
                "b. A foglalás dátumánál a METTOL oszlopot vegyük figyelembe"
            ],
            "metadata": {
                "azdata_cell_guid": "ddf219fb-dec4-40d1-b230-8aaee9711fe5"
            },
            "attachments": {}
        },
        {
            "cell_type": "code",
            "source": [
                "select *,\r\n",
                "iif(month(mettol) in (6,7,8),'Igen','Nem') as 'nyáron?'\r\n",
                "from foglalas\r\n",
                "where ugyfel_fk = 'laszlo2'"
            ],
            "metadata": {
                "azdata_cell_guid": "a33a0f50-bb93-4a56-afa3-80c5eb2b1a4d",
                "language": "sql"
            },
            "outputs": [
                {
                    "output_type": "display_data",
                    "data": {
                        "text/html": "(5 rows affected)"
                    },
                    "metadata": {}
                },
                {
                    "output_type": "display_data",
                    "data": {
                        "text/html": "Total execution time: 00:00:00.057"
                    },
                    "metadata": {}
                },
                {
                    "output_type": "execute_result",
                    "metadata": {},
                    "execution_count": 1,
                    "data": {
                        "application/vnd.dataresource+json": {
                            "schema": {
                                "fields": [
                                    {
                                        "name": "FOGLALAS_PK"
                                    },
                                    {
                                        "name": "UGYFEL_FK"
                                    },
                                    {
                                        "name": "SZOBA_FK"
                                    },
                                    {
                                        "name": "METTOL"
                                    },
                                    {
                                        "name": "MEDDIG"
                                    },
                                    {
                                        "name": "FELNOTT_SZAM"
                                    },
                                    {
                                        "name": "GYERMEK_SZAM"
                                    },
                                    {
                                        "name": "nyáron?"
                                    }
                                ]
                            },
                            "data": [
                                {
                                    "FOGLALAS_PK": "561",
                                    "UGYFEL_FK": "laszlo2",
                                    "SZOBA_FK": "42",
                                    "METTOL": "2016-04-06",
                                    "MEDDIG": "2016-04-10",
                                    "FELNOTT_SZAM": "2",
                                    "GYERMEK_SZAM": "0",
                                    "nyáron?": "Nem"
                                },
                                {
                                    "FOGLALAS_PK": "604",
                                    "UGYFEL_FK": "laszlo2",
                                    "SZOBA_FK": "30",
                                    "METTOL": "2016-04-27",
                                    "MEDDIG": "2016-04-29",
                                    "FELNOTT_SZAM": "1",
                                    "GYERMEK_SZAM": "1",
                                    "nyáron?": "Nem"
                                },
                                {
                                    "FOGLALAS_PK": "778",
                                    "UGYFEL_FK": "laszlo2",
                                    "SZOBA_FK": "19",
                                    "METTOL": "2016-08-14",
                                    "MEDDIG": "2016-08-15",
                                    "FELNOTT_SZAM": "2",
                                    "GYERMEK_SZAM": "1",
                                    "nyáron?": "Igen"
                                },
                                {
                                    "FOGLALAS_PK": "1032",
                                    "UGYFEL_FK": "laszlo2",
                                    "SZOBA_FK": "146",
                                    "METTOL": "2016-09-05",
                                    "MEDDIG": "2016-09-10",
                                    "FELNOTT_SZAM": "2",
                                    "GYERMEK_SZAM": "1",
                                    "nyáron?": "Nem"
                                },
                                {
                                    "FOGLALAS_PK": "1320",
                                    "UGYFEL_FK": "laszlo2",
                                    "SZOBA_FK": "85",
                                    "METTOL": "2016-11-25",
                                    "MEDDIG": "2016-11-26",
                                    "FELNOTT_SZAM": "2",
                                    "GYERMEK_SZAM": "1",
                                    "nyáron?": "Nem"
                                }
                            ]
                        },
                        "text/html": [
                            "<table>",
                            "<tr><th>FOGLALAS_PK</th><th>UGYFEL_FK</th><th>SZOBA_FK</th><th>METTOL</th><th>MEDDIG</th><th>FELNOTT_SZAM</th><th>GYERMEK_SZAM</th><th>nyáron?</th></tr>",
                            "<tr><td>561</td><td>laszlo2</td><td>42</td><td>2016-04-06</td><td>2016-04-10</td><td>2</td><td>0</td><td>Nem</td></tr>",
                            "<tr><td>604</td><td>laszlo2</td><td>30</td><td>2016-04-27</td><td>2016-04-29</td><td>1</td><td>1</td><td>Nem</td></tr>",
                            "<tr><td>778</td><td>laszlo2</td><td>19</td><td>2016-08-14</td><td>2016-08-15</td><td>2</td><td>1</td><td>Igen</td></tr>",
                            "<tr><td>1032</td><td>laszlo2</td><td>146</td><td>2016-09-05</td><td>2016-09-10</td><td>2</td><td>1</td><td>Nem</td></tr>",
                            "<tr><td>1320</td><td>laszlo2</td><td>85</td><td>2016-11-25</td><td>2016-11-26</td><td>2</td><td>1</td><td>Nem</td></tr>",
                            "</table>"
                        ]
                    }
                }
            ],
            "execution_count": 1
        },
        {
            "cell_type": "markdown",
            "source": [
                "Egészítsük ki a megkezdett lekérdezést, amely listázza, hogy szálláshely típusonként, azon belül éves és havi bontában hány foglalás történt! \n",
                "\n",
                " a. Az év és hónap megjelenítésénél a foglalás tábla METTOL oszlopát használjuk! \n",
                "\n",
                " b. A számolásnál csak a legalább 5 napos foglalásokat vegyük figyelembe!"
            ],
            "metadata": {
                "azdata_cell_guid": "435f1799-37bd-4843-bdcb-1764b6302102"
            },
            "attachments": {}
        },
        {
            "cell_type": "code",
            "source": [
                "SELECT szh.TIPUS, YEAR(f.METTOL) AS 'Év', MONTH(f.METTOL) AS 'Hónap', COUNT(f.FOGLALAS_PK) as 'Foglalások száma'\r\n",
                "FROM Foglalas f\r\n",
                "JOIN Szoba sz ON f.SZOBA_FK = sz.SZOBA_ID \r\n",
                "JOIN Szallashely szh ON sz.SZALLAS_FK = szh.SZALLAS_ID\r\n",
                "WHERE DATEDIFF(day,mettol, meddig)>=5\r\n",
                "GROUP BY szh.TIPUS, YEAR(f.METTOL), MONTH(f.METTOL)"
            ],
            "metadata": {
                "azdata_cell_guid": "80cab9f8-6eec-454c-93ba-ec78a34dcbb0",
                "language": "sql"
            },
            "outputs": [
                {
                    "output_type": "display_data",
                    "data": {
                        "text/html": "(45 rows affected)"
                    },
                    "metadata": {}
                },
                {
                    "output_type": "display_data",
                    "data": {
                        "text/html": "Total execution time: 00:00:00.042"
                    },
                    "metadata": {}
                },
                {
                    "output_type": "execute_result",
                    "metadata": {},
                    "execution_count": 5,
                    "data": {
                        "application/vnd.dataresource+json": {
                            "schema": {
                                "fields": [
                                    {
                                        "name": "TIPUS"
                                    },
                                    {
                                        "name": "Év"
                                    },
                                    {
                                        "name": "Hónap"
                                    },
                                    {
                                        "name": "Foglalások száma"
                                    }
                                ]
                            },
                            "data": [
                                {
                                    "TIPUS": "Apartman",
                                    "Év": "2016",
                                    "Hónap": "4",
                                    "Foglalások száma": "2"
                                },
                                {
                                    "TIPUS": "Apartman",
                                    "Év": "2016",
                                    "Hónap": "5",
                                    "Foglalások száma": "1"
                                },
                                {
                                    "TIPUS": "Apartman",
                                    "Év": "2016",
                                    "Hónap": "6",
                                    "Foglalások száma": "1"
                                },
                                {
                                    "TIPUS": "Apartman",
                                    "Év": "2016",
                                    "Hónap": "7",
                                    "Foglalások száma": "1"
                                },
                                {
                                    "TIPUS": "Apartman",
                                    "Év": "2016",
                                    "Hónap": "8",
                                    "Foglalások száma": "2"
                                },
                                {
                                    "TIPUS": "Apartman",
                                    "Év": "2016",
                                    "Hónap": "9",
                                    "Foglalások száma": "3"
                                },
                                {
                                    "TIPUS": "Apartman",
                                    "Év": "2016",
                                    "Hónap": "10",
                                    "Foglalások száma": "9"
                                },
                                {
                                    "TIPUS": "Apartman",
                                    "Év": "2016",
                                    "Hónap": "11",
                                    "Foglalások száma": "3"
                                },
                                {
                                    "TIPUS": "Apartman",
                                    "Év": "2016",
                                    "Hónap": "12",
                                    "Foglalások száma": "2"
                                },
                                {
                                    "TIPUS": "Apartman",
                                    "Év": "2017",
                                    "Hónap": "1",
                                    "Foglalások száma": "1"
                                },
                                {
                                    "TIPUS": "Apartman",
                                    "Év": "2017",
                                    "Hónap": "2",
                                    "Foglalások száma": "5"
                                },
                                {
                                    "TIPUS": "Hotel",
                                    "Év": "2016",
                                    "Hónap": "4",
                                    "Foglalások száma": "16"
                                },
                                {
                                    "TIPUS": "Hotel",
                                    "Év": "2016",
                                    "Hónap": "5",
                                    "Foglalások száma": "32"
                                },
                                {
                                    "TIPUS": "Hotel",
                                    "Év": "2016",
                                    "Hónap": "6",
                                    "Foglalások száma": "29"
                                },
                                {
                                    "TIPUS": "Hotel",
                                    "Év": "2016",
                                    "Hónap": "7",
                                    "Foglalások száma": "30"
                                },
                                {
                                    "TIPUS": "Hotel",
                                    "Év": "2016",
                                    "Hónap": "8",
                                    "Foglalások száma": "22"
                                },
                                {
                                    "TIPUS": "Hotel",
                                    "Év": "2016",
                                    "Hónap": "9",
                                    "Foglalások száma": "19"
                                },
                                {
                                    "TIPUS": "Hotel",
                                    "Év": "2016",
                                    "Hónap": "10",
                                    "Foglalások száma": "36"
                                },
                                {
                                    "TIPUS": "Hotel",
                                    "Év": "2016",
                                    "Hónap": "11",
                                    "Foglalások száma": "27"
                                },
                                {
                                    "TIPUS": "Hotel",
                                    "Év": "2016",
                                    "Hónap": "12",
                                    "Foglalások száma": "25"
                                },
                                {
                                    "TIPUS": "Hotel",
                                    "Év": "2017",
                                    "Hónap": "1",
                                    "Foglalások száma": "28"
                                },
                                {
                                    "TIPUS": "Hotel",
                                    "Év": "2017",
                                    "Hónap": "2",
                                    "Foglalások száma": "21"
                                },
                                {
                                    "TIPUS": "Hotel",
                                    "Év": "2017",
                                    "Hónap": "3",
                                    "Foglalások száma": "1"
                                },
                                {
                                    "TIPUS": "panzió",
                                    "Év": "2016",
                                    "Hónap": "4",
                                    "Foglalások száma": "2"
                                },
                                {
                                    "TIPUS": "panzió",
                                    "Év": "2016",
                                    "Hónap": "5",
                                    "Foglalások száma": "9"
                                },
                                {
                                    "TIPUS": "panzió",
                                    "Év": "2016",
                                    "Hónap": "6",
                                    "Foglalások száma": "10"
                                },
                                {
                                    "TIPUS": "panzió",
                                    "Év": "2016",
                                    "Hónap": "7",
                                    "Foglalások száma": "7"
                                },
                                {
                                    "TIPUS": "panzió",
                                    "Év": "2016",
                                    "Hónap": "8",
                                    "Foglalások száma": "6"
                                },
                                {
                                    "TIPUS": "panzió",
                                    "Év": "2016",
                                    "Hónap": "9",
                                    "Foglalások száma": "6"
                                },
                                {
                                    "TIPUS": "panzió",
                                    "Év": "2016",
                                    "Hónap": "10",
                                    "Foglalások száma": "11"
                                },
                                {
                                    "TIPUS": "panzió",
                                    "Év": "2016",
                                    "Hónap": "11",
                                    "Foglalások száma": "3"
                                },
                                {
                                    "TIPUS": "panzió",
                                    "Év": "2016",
                                    "Hónap": "12",
                                    "Foglalások száma": "6"
                                },
                                {
                                    "TIPUS": "panzió",
                                    "Év": "2017",
                                    "Hónap": "1",
                                    "Foglalások száma": "5"
                                },
                                {
                                    "TIPUS": "panzió",
                                    "Év": "2017",
                                    "Hónap": "2",
                                    "Foglalások száma": "5"
                                },
                                {
                                    "TIPUS": "panzió",
                                    "Év": "2017",
                                    "Hónap": "3",
                                    "Foglalások száma": "1"
                                },
                                {
                                    "TIPUS": "vendégház",
                                    "Év": "2016",
                                    "Hónap": "4",
                                    "Foglalások száma": "2"
                                },
                                {
                                    "TIPUS": "vendégház",
                                    "Év": "2016",
                                    "Hónap": "5",
                                    "Foglalások száma": "5"
                                },
                                {
                                    "TIPUS": "vendégház",
                                    "Év": "2016",
                                    "Hónap": "6",
                                    "Foglalások száma": "3"
                                },
                                {
                                    "TIPUS": "vendégház",
                                    "Év": "2016",
                                    "Hónap": "7",
                                    "Foglalások száma": "5"
                                },
                                {
                                    "TIPUS": "vendégház",
                                    "Év": "2016",
                                    "Hónap": "8",
                                    "Foglalások száma": "5"
                                },
                                {
                                    "TIPUS": "vendégház",
                                    "Év": "2016",
                                    "Hónap": "9",
                                    "Foglalások száma": "4"
                                },
                                {
                                    "TIPUS": "vendégház",
                                    "Év": "2016",
                                    "Hónap": "10",
                                    "Foglalások száma": "7"
                                },
                                {
                                    "TIPUS": "vendégház",
                                    "Év": "2016",
                                    "Hónap": "11",
                                    "Foglalások száma": "4"
                                },
                                {
                                    "TIPUS": "vendégház",
                                    "Év": "2017",
                                    "Hónap": "1",
                                    "Foglalások száma": "1"
                                },
                                {
                                    "TIPUS": "vendégház",
                                    "Év": "2017",
                                    "Hónap": "2",
                                    "Foglalások száma": "3"
                                }
                            ]
                        },
                        "text/html": [
                            "<table>",
                            "<tr><th>TIPUS</th><th>Év</th><th>Hónap</th><th>Foglalások száma</th></tr>",
                            "<tr><td>Apartman</td><td>2016</td><td>4</td><td>2</td></tr>",
                            "<tr><td>Apartman</td><td>2016</td><td>5</td><td>1</td></tr>",
                            "<tr><td>Apartman</td><td>2016</td><td>6</td><td>1</td></tr>",
                            "<tr><td>Apartman</td><td>2016</td><td>7</td><td>1</td></tr>",
                            "<tr><td>Apartman</td><td>2016</td><td>8</td><td>2</td></tr>",
                            "<tr><td>Apartman</td><td>2016</td><td>9</td><td>3</td></tr>",
                            "<tr><td>Apartman</td><td>2016</td><td>10</td><td>9</td></tr>",
                            "<tr><td>Apartman</td><td>2016</td><td>11</td><td>3</td></tr>",
                            "<tr><td>Apartman</td><td>2016</td><td>12</td><td>2</td></tr>",
                            "<tr><td>Apartman</td><td>2017</td><td>1</td><td>1</td></tr>",
                            "<tr><td>Apartman</td><td>2017</td><td>2</td><td>5</td></tr>",
                            "<tr><td>Hotel</td><td>2016</td><td>4</td><td>16</td></tr>",
                            "<tr><td>Hotel</td><td>2016</td><td>5</td><td>32</td></tr>",
                            "<tr><td>Hotel</td><td>2016</td><td>6</td><td>29</td></tr>",
                            "<tr><td>Hotel</td><td>2016</td><td>7</td><td>30</td></tr>",
                            "<tr><td>Hotel</td><td>2016</td><td>8</td><td>22</td></tr>",
                            "<tr><td>Hotel</td><td>2016</td><td>9</td><td>19</td></tr>",
                            "<tr><td>Hotel</td><td>2016</td><td>10</td><td>36</td></tr>",
                            "<tr><td>Hotel</td><td>2016</td><td>11</td><td>27</td></tr>",
                            "<tr><td>Hotel</td><td>2016</td><td>12</td><td>25</td></tr>",
                            "<tr><td>Hotel</td><td>2017</td><td>1</td><td>28</td></tr>",
                            "<tr><td>Hotel</td><td>2017</td><td>2</td><td>21</td></tr>",
                            "<tr><td>Hotel</td><td>2017</td><td>3</td><td>1</td></tr>",
                            "<tr><td>panzió</td><td>2016</td><td>4</td><td>2</td></tr>",
                            "<tr><td>panzió</td><td>2016</td><td>5</td><td>9</td></tr>",
                            "<tr><td>panzió</td><td>2016</td><td>6</td><td>10</td></tr>",
                            "<tr><td>panzió</td><td>2016</td><td>7</td><td>7</td></tr>",
                            "<tr><td>panzió</td><td>2016</td><td>8</td><td>6</td></tr>",
                            "<tr><td>panzió</td><td>2016</td><td>9</td><td>6</td></tr>",
                            "<tr><td>panzió</td><td>2016</td><td>10</td><td>11</td></tr>",
                            "<tr><td>panzió</td><td>2016</td><td>11</td><td>3</td></tr>",
                            "<tr><td>panzió</td><td>2016</td><td>12</td><td>6</td></tr>",
                            "<tr><td>panzió</td><td>2017</td><td>1</td><td>5</td></tr>",
                            "<tr><td>panzió</td><td>2017</td><td>2</td><td>5</td></tr>",
                            "<tr><td>panzió</td><td>2017</td><td>3</td><td>1</td></tr>",
                            "<tr><td>vendégház</td><td>2016</td><td>4</td><td>2</td></tr>",
                            "<tr><td>vendégház</td><td>2016</td><td>5</td><td>5</td></tr>",
                            "<tr><td>vendégház</td><td>2016</td><td>6</td><td>3</td></tr>",
                            "<tr><td>vendégház</td><td>2016</td><td>7</td><td>5</td></tr>",
                            "<tr><td>vendégház</td><td>2016</td><td>8</td><td>5</td></tr>",
                            "<tr><td>vendégház</td><td>2016</td><td>9</td><td>4</td></tr>",
                            "<tr><td>vendégház</td><td>2016</td><td>10</td><td>7</td></tr>",
                            "<tr><td>vendégház</td><td>2016</td><td>11</td><td>4</td></tr>",
                            "<tr><td>vendégház</td><td>2017</td><td>1</td><td>1</td></tr>",
                            "<tr><td>vendégház</td><td>2017</td><td>2</td><td>3</td></tr>",
                            "</table>"
                        ]
                    }
                }
            ],
            "execution_count": 5
        },
        {
            "cell_type": "markdown",
            "source": [
                "Jelenítsük meg azon szobák adatait, amelyeket még egyszer sem adtak ki!\n",
                "\n",
                "a. Minden szoba alapára naponta 20 ezer Ft. Ha a szoba még klímás is, akkor a napi felár 5000 Ft. \n",
                "\n",
                "b. Egy új oszlopban jelenítsük meg a ki nem adott szobák napi árát is!\n",
                "\n",
                "c. Az oszlop neve legyen 'Napi ár'"
            ],
            "metadata": {
                "azdata_cell_guid": "da2fbddd-3ed3-4a21-806c-ca82566d86fe"
            },
            "attachments": {}
        },
        {
            "cell_type": "code",
            "source": [
                "SELECT sz.SZOBA_ID, sz.szoba_szama, sz.ferohely, sz.potagy, sz.klimas, sz.szallas_fk,\r\n",
                "iif(sz.KLIMAS='i',20000,5000) as 'Napi ár'\r\n",
                "FROM Foglalas f\r\n",
                "right JOIN Szoba sz ON f.SZOBA_FK = sz.SZOBA_ID \r\n",
                "where f.mettol is null"
            ],
            "metadata": {
                "azdata_cell_guid": "54e2c617-5a27-438a-9a4b-cc713464e2a5",
                "language": "sql"
            },
            "outputs": [
                {
                    "output_type": "display_data",
                    "data": {
                        "text/html": "(97 rows affected)"
                    },
                    "metadata": {}
                },
                {
                    "output_type": "display_data",
                    "data": {
                        "text/html": "Total execution time: 00:00:00.043"
                    },
                    "metadata": {}
                },
                {
                    "output_type": "execute_result",
                    "metadata": {},
                    "execution_count": 18,
                    "data": {
                        "application/vnd.dataresource+json": {
                            "schema": {
                                "fields": [
                                    {
                                        "name": "SZOBA_ID"
                                    },
                                    {
                                        "name": "szoba_szama"
                                    },
                                    {
                                        "name": "ferohely"
                                    },
                                    {
                                        "name": "potagy"
                                    },
                                    {
                                        "name": "klimas"
                                    },
                                    {
                                        "name": "szallas_fk"
                                    },
                                    {
                                        "name": "Napi ár"
                                    }
                                ]
                            },
                            "data": [
                                {
                                    "SZOBA_ID": "261",
                                    "szoba_szama": "19",
                                    "ferohely": "1",
                                    "potagy": "1",
                                    "klimas": "n",
                                    "szallas_fk": "16",
                                    "Napi ár": "5000"
                                },
                                {
                                    "SZOBA_ID": "238",
                                    "szoba_szama": "8",
                                    "ferohely": "3",
                                    "potagy": "1",
                                    "klimas": "i",
                                    "szallas_fk": "15",
                                    "Napi ár": "20000"
                                },
                                {
                                    "SZOBA_ID": "215",
                                    "szoba_szama": "1",
                                    "ferohely": "2",
                                    "potagy": "1",
                                    "klimas": "i",
                                    "szallas_fk": "13",
                                    "Napi ár": "20000"
                                },
                                {
                                    "SZOBA_ID": "209",
                                    "szoba_szama": "45",
                                    "ferohely": "3",
                                    "potagy": "2",
                                    "klimas": "n",
                                    "szallas_fk": "12",
                                    "Napi ár": "5000"
                                },
                                {
                                    "SZOBA_ID": "284",
                                    "szoba_szama": "4",
                                    "ferohely": "2",
                                    "potagy": "2",
                                    "klimas": "i",
                                    "szallas_fk": "19",
                                    "Napi ár": "20000"
                                },
                                {
                                    "SZOBA_ID": "232",
                                    "szoba_szama": "2",
                                    "ferohely": "2",
                                    "potagy": "0",
                                    "klimas": "i",
                                    "szallas_fk": "15",
                                    "Napi ár": "20000"
                                },
                                {
                                    "SZOBA_ID": "278",
                                    "szoba_szama": "1",
                                    "ferohely": "3",
                                    "potagy": "1",
                                    "klimas": "i",
                                    "szallas_fk": "18",
                                    "Napi ár": "20000"
                                },
                                {
                                    "SZOBA_ID": "221",
                                    "szoba_szama": "7",
                                    "ferohely": "3",
                                    "potagy": "0",
                                    "klimas": "i",
                                    "szallas_fk": "13",
                                    "Napi ár": "20000"
                                },
                                {
                                    "SZOBA_ID": "201",
                                    "szoba_szama": "37",
                                    "ferohely": "3",
                                    "potagy": "1",
                                    "klimas": "n",
                                    "szallas_fk": "12",
                                    "Napi ár": "5000"
                                },
                                {
                                    "SZOBA_ID": "244",
                                    "szoba_szama": "2",
                                    "ferohely": "2",
                                    "potagy": "1",
                                    "klimas": "i",
                                    "szallas_fk": "16",
                                    "Napi ár": "20000"
                                },
                                {
                                    "SZOBA_ID": "252",
                                    "szoba_szama": "10",
                                    "ferohely": "3",
                                    "potagy": "1",
                                    "klimas": "i",
                                    "szallas_fk": "16",
                                    "Napi ár": "20000"
                                },
                                {
                                    "SZOBA_ID": "258",
                                    "szoba_szama": "16",
                                    "ferohely": "2",
                                    "potagy": "0",
                                    "klimas": "i",
                                    "szallas_fk": "16",
                                    "Napi ár": "20000"
                                },
                                {
                                    "SZOBA_ID": "264",
                                    "szoba_szama": "2",
                                    "ferohely": "3",
                                    "potagy": "0",
                                    "klimas": "i",
                                    "szallas_fk": "17",
                                    "Napi ár": "20000"
                                },
                                {
                                    "SZOBA_ID": "281",
                                    "szoba_szama": "1",
                                    "ferohely": "2",
                                    "potagy": "0",
                                    "klimas": "n",
                                    "szallas_fk": "19",
                                    "Napi ár": "5000"
                                },
                                {
                                    "SZOBA_ID": "212",
                                    "szoba_szama": "48",
                                    "ferohely": "3",
                                    "potagy": "0",
                                    "klimas": "n",
                                    "szallas_fk": "12",
                                    "Napi ár": "5000"
                                },
                                {
                                    "SZOBA_ID": "235",
                                    "szoba_szama": "5",
                                    "ferohely": "3",
                                    "potagy": "0",
                                    "klimas": "i",
                                    "szallas_fk": "15",
                                    "Napi ár": "20000"
                                },
                                {
                                    "SZOBA_ID": "218",
                                    "szoba_szama": "4",
                                    "ferohely": "3",
                                    "potagy": "0",
                                    "klimas": "i",
                                    "szallas_fk": "13",
                                    "Napi ár": "20000"
                                },
                                {
                                    "SZOBA_ID": "229",
                                    "szoba_szama": "3",
                                    "ferohely": "2",
                                    "potagy": "0",
                                    "klimas": "i",
                                    "szallas_fk": "14",
                                    "Napi ár": "20000"
                                },
                                {
                                    "SZOBA_ID": "275",
                                    "szoba_szama": "13",
                                    "ferohely": "2",
                                    "potagy": "1",
                                    "klimas": "n",
                                    "szallas_fk": "17",
                                    "Napi ár": "5000"
                                },
                                {
                                    "SZOBA_ID": "272",
                                    "szoba_szama": "10",
                                    "ferohely": "3",
                                    "potagy": "0",
                                    "klimas": "i",
                                    "szallas_fk": "17",
                                    "Napi ár": "20000"
                                },
                                {
                                    "SZOBA_ID": "255",
                                    "szoba_szama": "13",
                                    "ferohely": "3",
                                    "potagy": "0",
                                    "klimas": "n",
                                    "szallas_fk": "16",
                                    "Napi ár": "5000"
                                },
                                {
                                    "SZOBA_ID": "292",
                                    "szoba_szama": "8",
                                    "ferohely": "2",
                                    "potagy": "1",
                                    "klimas": "i",
                                    "szallas_fk": "20",
                                    "Napi ár": "20000"
                                },
                                {
                                    "SZOBA_ID": "241",
                                    "szoba_szama": "11",
                                    "ferohely": "2",
                                    "potagy": "0",
                                    "klimas": "i",
                                    "szallas_fk": "15",
                                    "Napi ár": "20000"
                                },
                                {
                                    "SZOBA_ID": "213",
                                    "szoba_szama": "49",
                                    "ferohely": "3",
                                    "potagy": "0",
                                    "klimas": "i",
                                    "szallas_fk": "12",
                                    "Napi ár": "20000"
                                },
                                {
                                    "SZOBA_ID": "236",
                                    "szoba_szama": "6",
                                    "ferohely": "3",
                                    "potagy": "1",
                                    "klimas": "n",
                                    "szallas_fk": "15",
                                    "Napi ár": "5000"
                                },
                                {
                                    "SZOBA_ID": "259",
                                    "szoba_szama": "17",
                                    "ferohely": "2",
                                    "potagy": "0",
                                    "klimas": "i",
                                    "szallas_fk": "16",
                                    "Napi ár": "20000"
                                },
                                {
                                    "SZOBA_ID": "267",
                                    "szoba_szama": "5",
                                    "ferohely": "2",
                                    "potagy": "1",
                                    "klimas": "n",
                                    "szallas_fk": "17",
                                    "Napi ár": "5000"
                                },
                                {
                                    "SZOBA_ID": "230",
                                    "szoba_szama": "4",
                                    "ferohely": "3",
                                    "potagy": "2",
                                    "klimas": "i",
                                    "szallas_fk": "14",
                                    "Napi ár": "20000"
                                },
                                {
                                    "SZOBA_ID": "276",
                                    "szoba_szama": "14",
                                    "ferohely": "2",
                                    "potagy": "0",
                                    "klimas": "i",
                                    "szallas_fk": "17",
                                    "Napi ár": "20000"
                                },
                                {
                                    "SZOBA_ID": "273",
                                    "szoba_szama": "11",
                                    "ferohely": "2",
                                    "potagy": "1",
                                    "klimas": "i",
                                    "szallas_fk": "17",
                                    "Napi ár": "20000"
                                },
                                {
                                    "SZOBA_ID": "250",
                                    "szoba_szama": "8",
                                    "ferohely": "3",
                                    "potagy": "1",
                                    "klimas": "n",
                                    "szallas_fk": "16",
                                    "Napi ár": "5000"
                                },
                                {
                                    "SZOBA_ID": "207",
                                    "szoba_szama": "43",
                                    "ferohely": "2",
                                    "potagy": "1",
                                    "klimas": "i",
                                    "szallas_fk": "12",
                                    "Napi ár": "20000"
                                },
                                {
                                    "SZOBA_ID": "256",
                                    "szoba_szama": "14",
                                    "ferohely": "3",
                                    "potagy": "1",
                                    "klimas": "i",
                                    "szallas_fk": "16",
                                    "Napi ár": "20000"
                                },
                                {
                                    "SZOBA_ID": "293",
                                    "szoba_szama": "9",
                                    "ferohely": "2",
                                    "potagy": "1",
                                    "klimas": "i",
                                    "szallas_fk": "20",
                                    "Napi ár": "20000"
                                },
                                {
                                    "SZOBA_ID": "239",
                                    "szoba_szama": "9",
                                    "ferohely": "2",
                                    "potagy": "2",
                                    "klimas": "i",
                                    "szallas_fk": "15",
                                    "Napi ár": "20000"
                                },
                                {
                                    "SZOBA_ID": "216",
                                    "szoba_szama": "2",
                                    "ferohely": "3",
                                    "potagy": "1",
                                    "klimas": "i",
                                    "szallas_fk": "13",
                                    "Napi ár": "20000"
                                },
                                {
                                    "SZOBA_ID": "287",
                                    "szoba_szama": "3",
                                    "ferohely": "3",
                                    "potagy": "0",
                                    "klimas": "n",
                                    "szallas_fk": "20",
                                    "Napi ár": "5000"
                                },
                                {
                                    "SZOBA_ID": "233",
                                    "szoba_szama": "3",
                                    "ferohely": "3",
                                    "potagy": "0",
                                    "klimas": "n",
                                    "szallas_fk": "15",
                                    "Napi ár": "5000"
                                },
                                {
                                    "SZOBA_ID": "210",
                                    "szoba_szama": "46",
                                    "ferohely": "2",
                                    "potagy": "0",
                                    "klimas": "i",
                                    "szallas_fk": "12",
                                    "Napi ár": "20000"
                                },
                                {
                                    "SZOBA_ID": "279",
                                    "szoba_szama": "2",
                                    "ferohely": "2",
                                    "potagy": "1",
                                    "klimas": "i",
                                    "szallas_fk": "18",
                                    "Napi ár": "20000"
                                },
                                {
                                    "SZOBA_ID": "270",
                                    "szoba_szama": "8",
                                    "ferohely": "3",
                                    "potagy": "0",
                                    "klimas": "n",
                                    "szallas_fk": "17",
                                    "Napi ár": "5000"
                                },
                                {
                                    "SZOBA_ID": "224",
                                    "szoba_szama": "10",
                                    "ferohely": "2",
                                    "potagy": "0",
                                    "klimas": "i",
                                    "szallas_fk": "13",
                                    "Napi ár": "20000"
                                },
                                {
                                    "SZOBA_ID": "227",
                                    "szoba_szama": "1",
                                    "ferohely": "2",
                                    "potagy": "1",
                                    "klimas": "i",
                                    "szallas_fk": "14",
                                    "Napi ár": "20000"
                                },
                                {
                                    "SZOBA_ID": "204",
                                    "szoba_szama": "40",
                                    "ferohely": "3",
                                    "potagy": "1",
                                    "klimas": "i",
                                    "szallas_fk": "12",
                                    "Napi ár": "20000"
                                },
                                {
                                    "SZOBA_ID": "253",
                                    "szoba_szama": "11",
                                    "ferohely": "2",
                                    "potagy": "0",
                                    "klimas": "i",
                                    "szallas_fk": "16",
                                    "Napi ár": "20000"
                                },
                                {
                                    "SZOBA_ID": "290",
                                    "szoba_szama": "6",
                                    "ferohely": "2",
                                    "potagy": "1",
                                    "klimas": "i",
                                    "szallas_fk": "20",
                                    "Napi ár": "20000"
                                },
                                {
                                    "SZOBA_ID": "247",
                                    "szoba_szama": "5",
                                    "ferohely": "2",
                                    "potagy": "0",
                                    "klimas": "i",
                                    "szallas_fk": "16",
                                    "Napi ár": "20000"
                                },
                                {
                                    "SZOBA_ID": "211",
                                    "szoba_szama": "47",
                                    "ferohely": "2",
                                    "potagy": "1",
                                    "klimas": "i",
                                    "szallas_fk": "12",
                                    "Napi ár": "20000"
                                },
                                {
                                    "SZOBA_ID": "282",
                                    "szoba_szama": "2",
                                    "ferohely": "2",
                                    "potagy": "0",
                                    "klimas": "i",
                                    "szallas_fk": "19",
                                    "Napi ár": "20000"
                                },
                                {
                                    "SZOBA_ID": "288",
                                    "szoba_szama": "4",
                                    "ferohely": "2",
                                    "potagy": "1",
                                    "klimas": "i",
                                    "szallas_fk": "20",
                                    "Napi ár": "20000"
                                },
                                {
                                    "SZOBA_ID": "234",
                                    "szoba_szama": "4",
                                    "ferohely": "3",
                                    "potagy": "1",
                                    "klimas": "i",
                                    "szallas_fk": "15",
                                    "Napi ár": "20000"
                                },
                                {
                                    "SZOBA_ID": "219",
                                    "szoba_szama": "5",
                                    "ferohely": "2",
                                    "potagy": "0",
                                    "klimas": "n",
                                    "szallas_fk": "13",
                                    "Napi ár": "5000"
                                },
                                {
                                    "SZOBA_ID": "265",
                                    "szoba_szama": "3",
                                    "ferohely": "3",
                                    "potagy": "0",
                                    "klimas": "i",
                                    "szallas_fk": "17",
                                    "Napi ár": "20000"
                                },
                                {
                                    "SZOBA_ID": "271",
                                    "szoba_szama": "9",
                                    "ferohely": "3",
                                    "potagy": "0",
                                    "klimas": "i",
                                    "szallas_fk": "17",
                                    "Napi ár": "20000"
                                },
                                {
                                    "SZOBA_ID": "228",
                                    "szoba_szama": "2",
                                    "ferohely": "3",
                                    "potagy": "0",
                                    "klimas": "i",
                                    "szallas_fk": "14",
                                    "Napi ár": "20000"
                                },
                                {
                                    "SZOBA_ID": "205",
                                    "szoba_szama": "41",
                                    "ferohely": "3",
                                    "potagy": "0",
                                    "klimas": "i",
                                    "szallas_fk": "12",
                                    "Napi ár": "20000"
                                },
                                {
                                    "SZOBA_ID": "291",
                                    "szoba_szama": "7",
                                    "ferohely": "2",
                                    "potagy": "1",
                                    "klimas": "i",
                                    "szallas_fk": "20",
                                    "Napi ár": "20000"
                                },
                                {
                                    "SZOBA_ID": "242",
                                    "szoba_szama": "12",
                                    "ferohely": "2",
                                    "potagy": "1",
                                    "klimas": "i",
                                    "szallas_fk": "15",
                                    "Napi ár": "20000"
                                },
                                {
                                    "SZOBA_ID": "254",
                                    "szoba_szama": "12",
                                    "ferohely": "2",
                                    "potagy": "0",
                                    "klimas": "i",
                                    "szallas_fk": "16",
                                    "Napi ár": "20000"
                                },
                                {
                                    "SZOBA_ID": "199",
                                    "szoba_szama": "35",
                                    "ferohely": "3",
                                    "potagy": "2",
                                    "klimas": "i",
                                    "szallas_fk": "12",
                                    "Napi ár": "20000"
                                },
                                {
                                    "SZOBA_ID": "248",
                                    "szoba_szama": "6",
                                    "ferohely": "2",
                                    "potagy": "2",
                                    "klimas": "i",
                                    "szallas_fk": "16",
                                    "Napi ár": "20000"
                                },
                                {
                                    "SZOBA_ID": "285",
                                    "szoba_szama": "1",
                                    "ferohely": "2",
                                    "potagy": "1",
                                    "klimas": "i",
                                    "szallas_fk": "20",
                                    "Napi ár": "20000"
                                },
                                {
                                    "SZOBA_ID": "262",
                                    "szoba_szama": "20",
                                    "ferohely": "1",
                                    "potagy": "0",
                                    "klimas": "n",
                                    "szallas_fk": "16",
                                    "Napi ár": "5000"
                                },
                                {
                                    "SZOBA_ID": "231",
                                    "szoba_szama": "1",
                                    "ferohely": "2",
                                    "potagy": "0",
                                    "klimas": "i",
                                    "szallas_fk": "15",
                                    "Napi ár": "20000"
                                },
                                {
                                    "SZOBA_ID": "268",
                                    "szoba_szama": "6",
                                    "ferohely": "2",
                                    "potagy": "2",
                                    "klimas": "n",
                                    "szallas_fk": "17",
                                    "Napi ár": "5000"
                                },
                                {
                                    "SZOBA_ID": "222",
                                    "szoba_szama": "8",
                                    "ferohely": "2",
                                    "potagy": "0",
                                    "klimas": "n",
                                    "szallas_fk": "13",
                                    "Napi ár": "5000"
                                },
                                {
                                    "SZOBA_ID": "202",
                                    "szoba_szama": "38",
                                    "ferohely": "3",
                                    "potagy": "1",
                                    "klimas": "i",
                                    "szallas_fk": "12",
                                    "Napi ár": "20000"
                                },
                                {
                                    "SZOBA_ID": "225",
                                    "szoba_szama": "11",
                                    "ferohely": "2",
                                    "potagy": "1",
                                    "klimas": "i",
                                    "szallas_fk": "13",
                                    "Napi ár": "20000"
                                },
                                {
                                    "SZOBA_ID": "274",
                                    "szoba_szama": "12",
                                    "ferohely": "3",
                                    "potagy": "1",
                                    "klimas": "i",
                                    "szallas_fk": "17",
                                    "Napi ár": "20000"
                                },
                                {
                                    "SZOBA_ID": "251",
                                    "szoba_szama": "9",
                                    "ferohely": "3",
                                    "potagy": "0",
                                    "klimas": "n",
                                    "szallas_fk": "16",
                                    "Napi ár": "5000"
                                },
                                {
                                    "SZOBA_ID": "159",
                                    "szoba_szama": "25",
                                    "ferohely": "3",
                                    "potagy": "1",
                                    "klimas": "n",
                                    "szallas_fk": "10",
                                    "Napi ár": "5000"
                                },
                                {
                                    "SZOBA_ID": "208",
                                    "szoba_szama": "44",
                                    "ferohely": "2",
                                    "potagy": "1",
                                    "klimas": "i",
                                    "szallas_fk": "12",
                                    "Napi ár": "20000"
                                },
                                {
                                    "SZOBA_ID": "294",
                                    "szoba_szama": "10",
                                    "ferohely": "3",
                                    "potagy": "0",
                                    "klimas": "i",
                                    "szallas_fk": "20",
                                    "Napi ár": "20000"
                                },
                                {
                                    "SZOBA_ID": "245",
                                    "szoba_szama": "3",
                                    "ferohely": "2",
                                    "potagy": "1",
                                    "klimas": "i",
                                    "szallas_fk": "16",
                                    "Napi ár": "20000"
                                },
                                {
                                    "SZOBA_ID": "286",
                                    "szoba_szama": "2",
                                    "ferohely": "3",
                                    "potagy": "0",
                                    "klimas": "i",
                                    "szallas_fk": "20",
                                    "Napi ár": "20000"
                                },
                                {
                                    "SZOBA_ID": "263",
                                    "szoba_szama": "1",
                                    "ferohely": "2",
                                    "potagy": "2",
                                    "klimas": "i",
                                    "szallas_fk": "17",
                                    "Napi ár": "20000"
                                },
                                {
                                    "SZOBA_ID": "240",
                                    "szoba_szama": "10",
                                    "ferohely": "3",
                                    "potagy": "0",
                                    "klimas": "i",
                                    "szallas_fk": "15",
                                    "Napi ár": "20000"
                                },
                                {
                                    "SZOBA_ID": "257",
                                    "szoba_szama": "15",
                                    "ferohely": "2",
                                    "potagy": "0",
                                    "klimas": "i",
                                    "szallas_fk": "16",
                                    "Napi ár": "20000"
                                },
                                {
                                    "SZOBA_ID": "280",
                                    "szoba_szama": "3",
                                    "ferohely": "3",
                                    "potagy": "0",
                                    "klimas": "n",
                                    "szallas_fk": "18",
                                    "Napi ár": "5000"
                                },
                                {
                                    "SZOBA_ID": "217",
                                    "szoba_szama": "3",
                                    "ferohely": "2",
                                    "potagy": "1",
                                    "klimas": "n",
                                    "szallas_fk": "13",
                                    "Napi ár": "5000"
                                },
                                {
                                    "SZOBA_ID": "223",
                                    "szoba_szama": "9",
                                    "ferohely": "2",
                                    "potagy": "1",
                                    "klimas": "i",
                                    "szallas_fk": "13",
                                    "Napi ár": "20000"
                                },
                                {
                                    "SZOBA_ID": "269",
                                    "szoba_szama": "7",
                                    "ferohely": "2",
                                    "potagy": "1",
                                    "klimas": "i",
                                    "szallas_fk": "17",
                                    "Napi ár": "20000"
                                },
                                {
                                    "SZOBA_ID": "226",
                                    "szoba_szama": "12",
                                    "ferohely": "3",
                                    "potagy": "1",
                                    "klimas": "n",
                                    "szallas_fk": "13",
                                    "Napi ár": "5000"
                                },
                                {
                                    "SZOBA_ID": "203",
                                    "szoba_szama": "39",
                                    "ferohely": "3",
                                    "potagy": "0",
                                    "klimas": "i",
                                    "szallas_fk": "12",
                                    "Napi ár": "20000"
                                },
                                {
                                    "SZOBA_ID": "289",
                                    "szoba_szama": "5",
                                    "ferohely": "3",
                                    "potagy": "0",
                                    "klimas": "i",
                                    "szallas_fk": "20",
                                    "Napi ár": "20000"
                                },
                                {
                                    "SZOBA_ID": "246",
                                    "szoba_szama": "4",
                                    "ferohely": "2",
                                    "potagy": "0",
                                    "klimas": "i",
                                    "szallas_fk": "16",
                                    "Napi ár": "20000"
                                },
                                {
                                    "SZOBA_ID": "214",
                                    "szoba_szama": "50",
                                    "ferohely": "3",
                                    "potagy": "1",
                                    "klimas": "i",
                                    "szallas_fk": "12",
                                    "Napi ár": "20000"
                                },
                                {
                                    "SZOBA_ID": "237",
                                    "szoba_szama": "7",
                                    "ferohely": "2",
                                    "potagy": "2",
                                    "klimas": "n",
                                    "szallas_fk": "15",
                                    "Napi ár": "5000"
                                },
                                {
                                    "SZOBA_ID": "260",
                                    "szoba_szama": "18",
                                    "ferohely": "2",
                                    "potagy": "0",
                                    "klimas": "i",
                                    "szallas_fk": "16",
                                    "Napi ár": "20000"
                                },
                                {
                                    "SZOBA_ID": "283",
                                    "szoba_szama": "3",
                                    "ferohely": "2",
                                    "potagy": "0",
                                    "klimas": "n",
                                    "szallas_fk": "19",
                                    "Napi ár": "5000"
                                },
                                {
                                    "SZOBA_ID": "220",
                                    "szoba_szama": "6",
                                    "ferohely": "3",
                                    "potagy": "0",
                                    "klimas": "i",
                                    "szallas_fk": "13",
                                    "Napi ár": "20000"
                                },
                                {
                                    "SZOBA_ID": "266",
                                    "szoba_szama": "4",
                                    "ferohely": "2",
                                    "potagy": "1",
                                    "klimas": "i",
                                    "szallas_fk": "17",
                                    "Napi ár": "20000"
                                },
                                {
                                    "SZOBA_ID": "277",
                                    "szoba_szama": "15",
                                    "ferohely": "2",
                                    "potagy": "0",
                                    "klimas": "i",
                                    "szallas_fk": "17",
                                    "Napi ár": "20000"
                                },
                                {
                                    "SZOBA_ID": "249",
                                    "szoba_szama": "7",
                                    "ferohely": "2",
                                    "potagy": "1",
                                    "klimas": "n",
                                    "szallas_fk": "16",
                                    "Napi ár": "5000"
                                },
                                {
                                    "SZOBA_ID": "206",
                                    "szoba_szama": "42",
                                    "ferohely": "2",
                                    "potagy": "1",
                                    "klimas": "i",
                                    "szallas_fk": "12",
                                    "Napi ár": "20000"
                                },
                                {
                                    "SZOBA_ID": "243",
                                    "szoba_szama": "1",
                                    "ferohely": "2",
                                    "potagy": "0",
                                    "klimas": "i",
                                    "szallas_fk": "16",
                                    "Napi ár": "20000"
                                },
                                {
                                    "SZOBA_ID": "200",
                                    "szoba_szama": "36",
                                    "ferohely": "2",
                                    "potagy": "0",
                                    "klimas": "i",
                                    "szallas_fk": "12",
                                    "Napi ár": "20000"
                                }
                            ]
                        },
                        "text/html": [
                            "<table>",
                            "<tr><th>SZOBA_ID</th><th>szoba_szama</th><th>ferohely</th><th>potagy</th><th>klimas</th><th>szallas_fk</th><th>Napi ár</th></tr>",
                            "<tr><td>261</td><td>19</td><td>1</td><td>1</td><td>n</td><td>16</td><td>5000</td></tr>",
                            "<tr><td>238</td><td>8</td><td>3</td><td>1</td><td>i</td><td>15</td><td>20000</td></tr>",
                            "<tr><td>215</td><td>1</td><td>2</td><td>1</td><td>i</td><td>13</td><td>20000</td></tr>",
                            "<tr><td>209</td><td>45</td><td>3</td><td>2</td><td>n</td><td>12</td><td>5000</td></tr>",
                            "<tr><td>284</td><td>4</td><td>2</td><td>2</td><td>i</td><td>19</td><td>20000</td></tr>",
                            "<tr><td>232</td><td>2</td><td>2</td><td>0</td><td>i</td><td>15</td><td>20000</td></tr>",
                            "<tr><td>278</td><td>1</td><td>3</td><td>1</td><td>i</td><td>18</td><td>20000</td></tr>",
                            "<tr><td>221</td><td>7</td><td>3</td><td>0</td><td>i</td><td>13</td><td>20000</td></tr>",
                            "<tr><td>201</td><td>37</td><td>3</td><td>1</td><td>n</td><td>12</td><td>5000</td></tr>",
                            "<tr><td>244</td><td>2</td><td>2</td><td>1</td><td>i</td><td>16</td><td>20000</td></tr>",
                            "<tr><td>252</td><td>10</td><td>3</td><td>1</td><td>i</td><td>16</td><td>20000</td></tr>",
                            "<tr><td>258</td><td>16</td><td>2</td><td>0</td><td>i</td><td>16</td><td>20000</td></tr>",
                            "<tr><td>264</td><td>2</td><td>3</td><td>0</td><td>i</td><td>17</td><td>20000</td></tr>",
                            "<tr><td>281</td><td>1</td><td>2</td><td>0</td><td>n</td><td>19</td><td>5000</td></tr>",
                            "<tr><td>212</td><td>48</td><td>3</td><td>0</td><td>n</td><td>12</td><td>5000</td></tr>",
                            "<tr><td>235</td><td>5</td><td>3</td><td>0</td><td>i</td><td>15</td><td>20000</td></tr>",
                            "<tr><td>218</td><td>4</td><td>3</td><td>0</td><td>i</td><td>13</td><td>20000</td></tr>",
                            "<tr><td>229</td><td>3</td><td>2</td><td>0</td><td>i</td><td>14</td><td>20000</td></tr>",
                            "<tr><td>275</td><td>13</td><td>2</td><td>1</td><td>n</td><td>17</td><td>5000</td></tr>",
                            "<tr><td>272</td><td>10</td><td>3</td><td>0</td><td>i</td><td>17</td><td>20000</td></tr>",
                            "<tr><td>255</td><td>13</td><td>3</td><td>0</td><td>n</td><td>16</td><td>5000</td></tr>",
                            "<tr><td>292</td><td>8</td><td>2</td><td>1</td><td>i</td><td>20</td><td>20000</td></tr>",
                            "<tr><td>241</td><td>11</td><td>2</td><td>0</td><td>i</td><td>15</td><td>20000</td></tr>",
                            "<tr><td>213</td><td>49</td><td>3</td><td>0</td><td>i</td><td>12</td><td>20000</td></tr>",
                            "<tr><td>236</td><td>6</td><td>3</td><td>1</td><td>n</td><td>15</td><td>5000</td></tr>",
                            "<tr><td>259</td><td>17</td><td>2</td><td>0</td><td>i</td><td>16</td><td>20000</td></tr>",
                            "<tr><td>267</td><td>5</td><td>2</td><td>1</td><td>n</td><td>17</td><td>5000</td></tr>",
                            "<tr><td>230</td><td>4</td><td>3</td><td>2</td><td>i</td><td>14</td><td>20000</td></tr>",
                            "<tr><td>276</td><td>14</td><td>2</td><td>0</td><td>i</td><td>17</td><td>20000</td></tr>",
                            "<tr><td>273</td><td>11</td><td>2</td><td>1</td><td>i</td><td>17</td><td>20000</td></tr>",
                            "<tr><td>250</td><td>8</td><td>3</td><td>1</td><td>n</td><td>16</td><td>5000</td></tr>",
                            "<tr><td>207</td><td>43</td><td>2</td><td>1</td><td>i</td><td>12</td><td>20000</td></tr>",
                            "<tr><td>256</td><td>14</td><td>3</td><td>1</td><td>i</td><td>16</td><td>20000</td></tr>",
                            "<tr><td>293</td><td>9</td><td>2</td><td>1</td><td>i</td><td>20</td><td>20000</td></tr>",
                            "<tr><td>239</td><td>9</td><td>2</td><td>2</td><td>i</td><td>15</td><td>20000</td></tr>",
                            "<tr><td>216</td><td>2</td><td>3</td><td>1</td><td>i</td><td>13</td><td>20000</td></tr>",
                            "<tr><td>287</td><td>3</td><td>3</td><td>0</td><td>n</td><td>20</td><td>5000</td></tr>",
                            "<tr><td>233</td><td>3</td><td>3</td><td>0</td><td>n</td><td>15</td><td>5000</td></tr>",
                            "<tr><td>210</td><td>46</td><td>2</td><td>0</td><td>i</td><td>12</td><td>20000</td></tr>",
                            "<tr><td>279</td><td>2</td><td>2</td><td>1</td><td>i</td><td>18</td><td>20000</td></tr>",
                            "<tr><td>270</td><td>8</td><td>3</td><td>0</td><td>n</td><td>17</td><td>5000</td></tr>",
                            "<tr><td>224</td><td>10</td><td>2</td><td>0</td><td>i</td><td>13</td><td>20000</td></tr>",
                            "<tr><td>227</td><td>1</td><td>2</td><td>1</td><td>i</td><td>14</td><td>20000</td></tr>",
                            "<tr><td>204</td><td>40</td><td>3</td><td>1</td><td>i</td><td>12</td><td>20000</td></tr>",
                            "<tr><td>253</td><td>11</td><td>2</td><td>0</td><td>i</td><td>16</td><td>20000</td></tr>",
                            "<tr><td>290</td><td>6</td><td>2</td><td>1</td><td>i</td><td>20</td><td>20000</td></tr>",
                            "<tr><td>247</td><td>5</td><td>2</td><td>0</td><td>i</td><td>16</td><td>20000</td></tr>",
                            "<tr><td>211</td><td>47</td><td>2</td><td>1</td><td>i</td><td>12</td><td>20000</td></tr>",
                            "<tr><td>282</td><td>2</td><td>2</td><td>0</td><td>i</td><td>19</td><td>20000</td></tr>",
                            "<tr><td>288</td><td>4</td><td>2</td><td>1</td><td>i</td><td>20</td><td>20000</td></tr>",
                            "<tr><td>234</td><td>4</td><td>3</td><td>1</td><td>i</td><td>15</td><td>20000</td></tr>",
                            "<tr><td>219</td><td>5</td><td>2</td><td>0</td><td>n</td><td>13</td><td>5000</td></tr>",
                            "<tr><td>265</td><td>3</td><td>3</td><td>0</td><td>i</td><td>17</td><td>20000</td></tr>",
                            "<tr><td>271</td><td>9</td><td>3</td><td>0</td><td>i</td><td>17</td><td>20000</td></tr>",
                            "<tr><td>228</td><td>2</td><td>3</td><td>0</td><td>i</td><td>14</td><td>20000</td></tr>",
                            "<tr><td>205</td><td>41</td><td>3</td><td>0</td><td>i</td><td>12</td><td>20000</td></tr>",
                            "<tr><td>291</td><td>7</td><td>2</td><td>1</td><td>i</td><td>20</td><td>20000</td></tr>",
                            "<tr><td>242</td><td>12</td><td>2</td><td>1</td><td>i</td><td>15</td><td>20000</td></tr>",
                            "<tr><td>254</td><td>12</td><td>2</td><td>0</td><td>i</td><td>16</td><td>20000</td></tr>",
                            "<tr><td>199</td><td>35</td><td>3</td><td>2</td><td>i</td><td>12</td><td>20000</td></tr>",
                            "<tr><td>248</td><td>6</td><td>2</td><td>2</td><td>i</td><td>16</td><td>20000</td></tr>",
                            "<tr><td>285</td><td>1</td><td>2</td><td>1</td><td>i</td><td>20</td><td>20000</td></tr>",
                            "<tr><td>262</td><td>20</td><td>1</td><td>0</td><td>n</td><td>16</td><td>5000</td></tr>",
                            "<tr><td>231</td><td>1</td><td>2</td><td>0</td><td>i</td><td>15</td><td>20000</td></tr>",
                            "<tr><td>268</td><td>6</td><td>2</td><td>2</td><td>n</td><td>17</td><td>5000</td></tr>",
                            "<tr><td>222</td><td>8</td><td>2</td><td>0</td><td>n</td><td>13</td><td>5000</td></tr>",
                            "<tr><td>202</td><td>38</td><td>3</td><td>1</td><td>i</td><td>12</td><td>20000</td></tr>",
                            "<tr><td>225</td><td>11</td><td>2</td><td>1</td><td>i</td><td>13</td><td>20000</td></tr>",
                            "<tr><td>274</td><td>12</td><td>3</td><td>1</td><td>i</td><td>17</td><td>20000</td></tr>",
                            "<tr><td>251</td><td>9</td><td>3</td><td>0</td><td>n</td><td>16</td><td>5000</td></tr>",
                            "<tr><td>159</td><td>25</td><td>3</td><td>1</td><td>n</td><td>10</td><td>5000</td></tr>",
                            "<tr><td>208</td><td>44</td><td>2</td><td>1</td><td>i</td><td>12</td><td>20000</td></tr>",
                            "<tr><td>294</td><td>10</td><td>3</td><td>0</td><td>i</td><td>20</td><td>20000</td></tr>",
                            "<tr><td>245</td><td>3</td><td>2</td><td>1</td><td>i</td><td>16</td><td>20000</td></tr>",
                            "<tr><td>286</td><td>2</td><td>3</td><td>0</td><td>i</td><td>20</td><td>20000</td></tr>",
                            "<tr><td>263</td><td>1</td><td>2</td><td>2</td><td>i</td><td>17</td><td>20000</td></tr>",
                            "<tr><td>240</td><td>10</td><td>3</td><td>0</td><td>i</td><td>15</td><td>20000</td></tr>",
                            "<tr><td>257</td><td>15</td><td>2</td><td>0</td><td>i</td><td>16</td><td>20000</td></tr>",
                            "<tr><td>280</td><td>3</td><td>3</td><td>0</td><td>n</td><td>18</td><td>5000</td></tr>",
                            "<tr><td>217</td><td>3</td><td>2</td><td>1</td><td>n</td><td>13</td><td>5000</td></tr>",
                            "<tr><td>223</td><td>9</td><td>2</td><td>1</td><td>i</td><td>13</td><td>20000</td></tr>",
                            "<tr><td>269</td><td>7</td><td>2</td><td>1</td><td>i</td><td>17</td><td>20000</td></tr>",
                            "<tr><td>226</td><td>12</td><td>3</td><td>1</td><td>n</td><td>13</td><td>5000</td></tr>",
                            "<tr><td>203</td><td>39</td><td>3</td><td>0</td><td>i</td><td>12</td><td>20000</td></tr>",
                            "<tr><td>289</td><td>5</td><td>3</td><td>0</td><td>i</td><td>20</td><td>20000</td></tr>",
                            "<tr><td>246</td><td>4</td><td>2</td><td>0</td><td>i</td><td>16</td><td>20000</td></tr>",
                            "<tr><td>214</td><td>50</td><td>3</td><td>1</td><td>i</td><td>12</td><td>20000</td></tr>",
                            "<tr><td>237</td><td>7</td><td>2</td><td>2</td><td>n</td><td>15</td><td>5000</td></tr>",
                            "<tr><td>260</td><td>18</td><td>2</td><td>0</td><td>i</td><td>16</td><td>20000</td></tr>",
                            "<tr><td>283</td><td>3</td><td>2</td><td>0</td><td>n</td><td>19</td><td>5000</td></tr>",
                            "<tr><td>220</td><td>6</td><td>3</td><td>0</td><td>i</td><td>13</td><td>20000</td></tr>",
                            "<tr><td>266</td><td>4</td><td>2</td><td>1</td><td>i</td><td>17</td><td>20000</td></tr>",
                            "<tr><td>277</td><td>15</td><td>2</td><td>0</td><td>i</td><td>17</td><td>20000</td></tr>",
                            "<tr><td>249</td><td>7</td><td>2</td><td>1</td><td>n</td><td>16</td><td>5000</td></tr>",
                            "<tr><td>206</td><td>42</td><td>2</td><td>1</td><td>i</td><td>12</td><td>20000</td></tr>",
                            "<tr><td>243</td><td>1</td><td>2</td><td>0</td><td>i</td><td>16</td><td>20000</td></tr>",
                            "<tr><td>200</td><td>36</td><td>2</td><td>0</td><td>i</td><td>12</td><td>20000</td></tr>",
                            "</table>"
                        ]
                    }
                }
            ],
            "execution_count": 18
        }
    ]
}