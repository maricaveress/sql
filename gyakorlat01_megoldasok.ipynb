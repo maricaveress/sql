{
    "metadata": {
        "kernelspec": {
            "name": "SQL",
            "display_name": "SQL",
            "language": "sql"
        },
        "language_info": {
            "name": "sql",
            "version": ""
        },
        "extensions": {
            "azuredatastudio": {
                "version": 1,
                "views": []
            }
        }
    },
    "nbformat_minor": 2,
    "nbformat": 4,
    "cells": [
        {
            "cell_type": "markdown",
            "source": [
                "1. Listázzuk a <span style=\"color: #800000;\">`kolcsonzes`</span> tábla következő oszlopait: ID, ki\\_datum, vissza\\_datum! \n",
                "\n",
                "  \n",
                "\n",
                "a.  Az ID oszlop neve legyen Azonosító\n",
                "\n",
                "b.  A ki\\_datum oszlop neve legyen Kölcsönzés\\_dátuma\n",
                "\n",
                "c.  A vissza\\_datum oszlop neve legyen Visszahozatal\\_dátuma"
            ],
            "metadata": {
                "azdata_cell_guid": "77f2d5b3-38e9-41cc-893f-f5afd02b97ef"
            },
            "attachments": {}
        },
        {
            "cell_type": "code",
            "source": [
                "SELECT ID as 'Azonosító', \r\n",
                "       ki_datum as 'Kölcsönzés_dátuma', \r\n",
                "       vissza_datum as 'Visszahozatal_dátuma'\r\n",
                "FROM kolcsonzesek"
            ],
            "metadata": {
                "azdata_cell_guid": "bd3cef1a-4e6e-4ece-9dc3-aaa9d2b5d66d",
                "language": "sql"
            },
            "outputs": [
                {
                    "output_type": "display_data",
                    "data": {
                        "text/html": "(5 rows affected)"
                    },
                    "metadata": {}
                },
                {
                    "output_type": "display_data",
                    "data": {
                        "text/html": "Total execution time: 00:00:00.034"
                    },
                    "metadata": {}
                },
                {
                    "output_type": "execute_result",
                    "metadata": {},
                    "execution_count": 1,
                    "data": {
                        "application/vnd.dataresource+json": {
                            "schema": {
                                "fields": [
                                    {
                                        "name": "Azonosító"
                                    },
                                    {
                                        "name": "Kölcsönzés_dátuma"
                                    },
                                    {
                                        "name": "Visszahozatal_dátuma"
                                    }
                                ]
                            },
                            "data": [
                                {
                                    "Azonosító": "10",
                                    "Kölcsönzés_dátuma": "2003-12-11",
                                    "Visszahozatal_dátuma": "NULL"
                                },
                                {
                                    "Azonosító": "11",
                                    "Kölcsönzés_dátuma": "2003-12-11",
                                    "Visszahozatal_dátuma": "NULL"
                                },
                                {
                                    "Azonosító": "12",
                                    "Kölcsönzés_dátuma": "2003-12-11",
                                    "Visszahozatal_dátuma": "NULL"
                                },
                                {
                                    "Azonosító": "13",
                                    "Kölcsönzés_dátuma": "2006-10-01",
                                    "Visszahozatal_dátuma": "2006-10-10"
                                },
                                {
                                    "Azonosító": "14",
                                    "Kölcsönzés_dátuma": "2006-10-02",
                                    "Visszahozatal_dátuma": "2006-10-09"
                                }
                            ]
                        },
                        "text/html": [
                            "<table>",
                            "<tr><th>Azonosító</th><th>Kölcsönzés_dátuma</th><th>Visszahozatal_dátuma</th></tr>",
                            "<tr><td>10</td><td>2003-12-11</td><td>NULL</td></tr>",
                            "<tr><td>11</td><td>2003-12-11</td><td>NULL</td></tr>",
                            "<tr><td>12</td><td>2003-12-11</td><td>NULL</td></tr>",
                            "<tr><td>13</td><td>2006-10-01</td><td>2006-10-10</td></tr>",
                            "<tr><td>14</td><td>2006-10-02</td><td>2006-10-09</td></tr>",
                            "</table>"
                        ]
                    }
                }
            ],
            "execution_count": 1
        },
        {
            "cell_type": "markdown",
            "source": [
                "2. Melyek azok a kölcsönzések, amelyek 2005.01.01 és 2007.01.01 között történtek?"
            ],
            "metadata": {
                "azdata_cell_guid": "88f5b4bb-f4c1-4bad-a0c7-b2592687b422"
            },
            "attachments": {}
        },
        {
            "cell_type": "code",
            "source": [
                "SELECT *\r\n",
                "FROM kolcsonzesek\r\n",
                "WHERE ki_datum BETWEEN '2005.01.01' AND '2007.01.01'"
            ],
            "metadata": {
                "azdata_cell_guid": "e9de5726-f036-4fb9-8c33-a873955ed886",
                "language": "sql"
            },
            "outputs": [
                {
                    "output_type": "display_data",
                    "data": {
                        "text/html": "(2 rows affected)"
                    },
                    "metadata": {}
                },
                {
                    "output_type": "display_data",
                    "data": {
                        "text/html": "Total execution time: 00:00:00.031"
                    },
                    "metadata": {}
                },
                {
                    "output_type": "execute_result",
                    "metadata": {},
                    "execution_count": 2,
                    "data": {
                        "application/vnd.dataresource+json": {
                            "schema": {
                                "fields": [
                                    {
                                        "name": "ID"
                                    },
                                    {
                                        "name": "ki"
                                    },
                                    {
                                        "name": "mit"
                                    },
                                    {
                                        "name": "ki_datum"
                                    },
                                    {
                                        "name": "vissza_datum"
                                    }
                                ]
                            },
                            "data": [
                                {
                                    "ID": "13",
                                    "ki": "1",
                                    "mit": "3",
                                    "ki_datum": "2006-10-01",
                                    "vissza_datum": "2006-10-10"
                                },
                                {
                                    "ID": "14",
                                    "ki": "2",
                                    "mit": "3",
                                    "ki_datum": "2006-10-02",
                                    "vissza_datum": "2006-10-09"
                                }
                            ]
                        },
                        "text/html": [
                            "<table>",
                            "<tr><th>ID</th><th>ki</th><th>mit</th><th>ki_datum</th><th>vissza_datum</th></tr>",
                            "<tr><td>13</td><td>1</td><td>3</td><td>2006-10-01</td><td>2006-10-10</td></tr>",
                            "<tr><td>14</td><td>2</td><td>3</td><td>2006-10-02</td><td>2006-10-09</td></tr>",
                            "</table>"
                        ]
                    }
                }
            ],
            "execution_count": 2
        },
        {
            "cell_type": "markdown",
            "source": [
                "3. Melyek azok a tagok, akiknek kedvenc stílusa a játék, és nevük a-ra végződik?\n",
                "\n",
                "  \n",
                "\n",
                "a.  Csak a tagok neve jelenjen meg, az oszlop neve Név legyen"
            ],
            "metadata": {
                "azdata_cell_guid": "9e7249de-1b59-43d8-84b1-26fa7d81fc5a"
            },
            "attachments": {}
        },
        {
            "cell_type": "code",
            "source": [
                "SELECT nev as 'Név'\r\n",
                "FROM tagok\r\n",
                "WHERE kedvencstilus='játék' AND nev LIKE '%a'"
            ],
            "metadata": {
                "azdata_cell_guid": "6405d3e8-a9b1-45d7-aa76-3b1e785ef6cc",
                "language": "sql"
            },
            "outputs": [
                {
                    "output_type": "display_data",
                    "data": {
                        "text/html": "(2 rows affected)"
                    },
                    "metadata": {}
                },
                {
                    "output_type": "display_data",
                    "data": {
                        "text/html": "Total execution time: 00:00:00.043"
                    },
                    "metadata": {}
                },
                {
                    "output_type": "execute_result",
                    "metadata": {},
                    "execution_count": 3,
                    "data": {
                        "application/vnd.dataresource+json": {
                            "schema": {
                                "fields": [
                                    {
                                        "name": "Név"
                                    }
                                ]
                            },
                            "data": [
                                {
                                    "Név": "Bodó Kinga"
                                },
                                {
                                    "Név": "Garay Magdolna"
                                }
                            ]
                        },
                        "text/html": [
                            "<table>",
                            "<tr><th>Név</th></tr>",
                            "<tr><td>Bodó Kinga</td></tr>",
                            "<tr><td>Garay Magdolna</td></tr>",
                            "</table>"
                        ]
                    }
                }
            ],
            "execution_count": 3
        },
        {
            "cell_type": "markdown",
            "source": [
                "4. Listázzuk egy oszlopban a tagok nevét, címét és kedvenc stílusát összefűzve! \n",
                "\n",
                "  \n",
                "\n",
                "a.  A nevet, címet és a stílust kötőjellel válasszuk el\n",
                "\n",
                "b.  A kötőjelek előtt és után legyen 1-1 szóköz\n",
                "\n",
                "c.  Az oszlop neve legyen TAG\n",
                "\n",
                "d.  Kinga keresztnevű tagok ne legyenek benne a listában"
            ],
            "metadata": {
                "azdata_cell_guid": "6478e469-c094-472c-a772-ccd5b5c61516"
            },
            "attachments": {}
        },
        {
            "cell_type": "code",
            "source": [
                "SELECT nev +' - '+cim+' - '+ kedvencstilus AS 'TAG'\r\n",
                "FROM tagok\r\n",
                "WHERE nev NOT LIKE '%Kinga'"
            ],
            "metadata": {
                "azdata_cell_guid": "02031ea2-3838-458d-839c-228e3b362b61",
                "language": "sql"
            },
            "outputs": [
                {
                    "output_type": "display_data",
                    "data": {
                        "text/html": "(15 rows affected)"
                    },
                    "metadata": {}
                },
                {
                    "output_type": "display_data",
                    "data": {
                        "text/html": "Total execution time: 00:00:00.048"
                    },
                    "metadata": {}
                },
                {
                    "output_type": "execute_result",
                    "metadata": {},
                    "execution_count": 4,
                    "data": {
                        "application/vnd.dataresource+json": {
                            "schema": {
                                "fields": [
                                    {
                                        "name": "TAG"
                                    }
                                ]
                            },
                            "data": [
                                {
                                    "TAG": "Bakk Csaba József - Ulászló u. 22. - játék"
                                },
                                {
                                    "TAG": "Kollár Zsófia - Tenkes u. 7/a I/4. - történelem"
                                },
                                {
                                    "TAG": "Mohai Mónika - Pasaréti út 23. - történelem"
                                },
                                {
                                    "TAG": "Ivicsics Miklós - Mészöly u. 4.  - sport"
                                },
                                {
                                    "TAG": "Braiwish Dalal-Brigitte - Kosztolányi tér 7. - földrajz"
                                },
                                {
                                    "TAG": "Hajnáczky Gábor - Kende u. 14. - történelem"
                                },
                                {
                                    "TAG": "Lázár Gergely - Halom u. 15. - játék"
                                },
                                {
                                    "TAG": "Göttinger Pál - Forrás tér 14. - sport"
                                },
                                {
                                    "TAG": "Bernáth Margit - Felsővár u. 55/c - történelem"
                                },
                                {
                                    "TAG": "Garay Magdolna - Bartók B. út 66. - játék"
                                },
                                {
                                    "TAG": "Ligeti Orsolya - Bartók B. u. 61. I/6. - sport"
                                },
                                {
                                    "TAG": "Király Róbert - Bajcsy Zs. u. 19/b - földrajz"
                                },
                                {
                                    "TAG": "Burai-Kovács Anikó - Bajcsy u. 1. - sport"
                                },
                                {
                                    "TAG": "Czimmermann Zsolt - Árpád u. 3. - földrajz"
                                },
                                {
                                    "TAG": "Boronkay Péter - Ábel Jenő  u. 31. - földrajz"
                                }
                            ]
                        },
                        "text/html": [
                            "<table>",
                            "<tr><th>TAG</th></tr>",
                            "<tr><td>Bakk Csaba József - Ulászló u. 22. - játék</td></tr>",
                            "<tr><td>Kollár Zsófia - Tenkes u. 7/a I/4. - történelem</td></tr>",
                            "<tr><td>Mohai Mónika - Pasaréti út 23. - történelem</td></tr>",
                            "<tr><td>Ivicsics Miklós - Mészöly u. 4.  - sport</td></tr>",
                            "<tr><td>Braiwish Dalal-Brigitte - Kosztolányi tér 7. - földrajz</td></tr>",
                            "<tr><td>Hajnáczky Gábor - Kende u. 14. - történelem</td></tr>",
                            "<tr><td>Lázár Gergely - Halom u. 15. - játék</td></tr>",
                            "<tr><td>Göttinger Pál - Forrás tér 14. - sport</td></tr>",
                            "<tr><td>Bernáth Margit - Felsővár u. 55/c - történelem</td></tr>",
                            "<tr><td>Garay Magdolna - Bartók B. út 66. - játék</td></tr>",
                            "<tr><td>Ligeti Orsolya - Bartók B. u. 61. I/6. - sport</td></tr>",
                            "<tr><td>Király Róbert - Bajcsy Zs. u. 19/b - földrajz</td></tr>",
                            "<tr><td>Burai-Kovács Anikó - Bajcsy u. 1. - sport</td></tr>",
                            "<tr><td>Czimmermann Zsolt - Árpád u. 3. - földrajz</td></tr>",
                            "<tr><td>Boronkay Péter - Ábel Jenő  u. 31. - földrajz</td></tr>",
                            "</table>"
                        ]
                    }
                }
            ],
            "execution_count": 4
        },
        {
            "cell_type": "markdown",
            "source": [
                "5. Mennyi lenne a dvd-k nettó ára, ha 20%-kal csökkenne? \n",
                "\n",
                "  \n",
                "\n",
                "a.  Csak a dvd-k címét és a csökkentett árat jelenítsük meg\n",
                "\n",
                "b.  A csökkentett árat nevezzük el diszkont\\_ar-nak"
            ],
            "metadata": {
                "azdata_cell_guid": "9edbbaf9-c276-4898-9a01-e1b2993c089f"
            },
            "attachments": {}
        },
        {
            "cell_type": "code",
            "source": [
                "SELECT id, \r\n",
                "       cim, \r\n",
                "       nettoar*0.8 AS 'diszkont_ar'\r\n",
                "FROM dvd"
            ],
            "metadata": {
                "azdata_cell_guid": "5ad5fdcb-2878-4111-861a-833bcd50e935",
                "language": "sql"
            },
            "outputs": [
                {
                    "output_type": "display_data",
                    "data": {
                        "text/html": "(318 rows affected)"
                    },
                    "metadata": {}
                },
                {
                    "output_type": "display_data",
                    "data": {
                        "text/html": "Total execution time: 00:00:00.041"
                    },
                    "metadata": {}
                },
                {
                    "output_type": "execute_result",
                    "metadata": {},
                    "execution_count": 6,
                    "data": {
                        "application/vnd.dataresource+json": {
                            "schema": {
                                "fields": [
                                    {
                                        "name": "id"
                                    },
                                    {
                                        "name": "cim"
                                    },
                                    {
                                        "name": "diszkont_ar"
                                    }
                                ]
                            },
                            "data": [
                                {
                                    "id": "1",
                                    "cim": "NULL",
                                    "diszkont_ar": "3087,2000000000003"
                                },
                                {
                                    "id": "2",
                                    "cim": "A II. világháború története (1999)",
                                    "diszkont_ar": "3395,2000000000003"
                                },
                                {
                                    "id": "3",
                                    "cim": "3D Dinosaur - adventure",
                                    "diszkont_ar": "4032,8"
                                },
                                {
                                    "id": "4",
                                    "cim": "3D virtuális origami (2000)",
                                    "diszkont_ar": "4284"
                                },
                                {
                                    "id": "5",
                                    "cim": "Az 1848-1849-iki szabadságharc története (2002)",
                                    "diszkont_ar": "4560"
                                },
                                {
                                    "id": "6",
                                    "cim": "Ablak zsiráf (1999)",
                                    "diszkont_ar": "2832"
                                },
                                {
                                    "id": "7",
                                    "cim": "Ady Endre összes művei (1999)",
                                    "diszkont_ar": "3392,8"
                                },
                                {
                                    "id": "8",
                                    "cim": "Afrika",
                                    "diszkont_ar": "4254,400000000001"
                                },
                                {
                                    "id": "9",
                                    "cim": "Age of Empires (2000)",
                                    "diszkont_ar": "3585,6000000000004"
                                },
                                {
                                    "id": "10",
                                    "cim": "Airport Inc.",
                                    "diszkont_ar": "3448,8"
                                },
                                {
                                    "id": "11",
                                    "cim": "American Rodeo : BullRider 2000 (2001)",
                                    "diszkont_ar": "4472,8"
                                },
                                {
                                    "id": "12",
                                    "cim": "Angol : 8-10 éveseknek (2002)",
                                    "diszkont_ar": "3882,4"
                                },
                                {
                                    "id": "13",
                                    "cim": "Angol és német nyelvtani gyakorlatok (2002)",
                                    "diszkont_ar": "3924,8"
                                },
                                {
                                    "id": "14",
                                    "cim": "Angol szótanító CD-ROM",
                                    "diszkont_ar": "3559,2000000000003"
                                },
                                {
                                    "id": "15",
                                    "cim": "Angol szótanító CD-ROM",
                                    "diszkont_ar": "3555,2000000000003"
                                },
                                {
                                    "id": "16",
                                    "cim": "Angol szótár (1996)",
                                    "diszkont_ar": "2807,2000000000003"
                                },
                                {
                                    "id": "17",
                                    "cim": "Angol-magyar, Magyar-angol hangosszótár",
                                    "diszkont_ar": "4120,8"
                                },
                                {
                                    "id": "18",
                                    "cim": "Angol-magyar nagyszótár (Halász Előd)",
                                    "diszkont_ar": "4510,400000000001"
                                },
                                {
                                    "id": "19",
                                    "cim": "Az áramvonalas fakanál",
                                    "diszkont_ar": "4564,8"
                                },
                                {
                                    "id": "20",
                                    "cim": "Arany János: A bajusz (2002)",
                                    "diszkont_ar": "2712,8"
                                },
                                {
                                    "id": "21",
                                    "cim": "Az Árpád-ház története",
                                    "diszkont_ar": "4017,6000000000004"
                                },
                                {
                                    "id": "22",
                                    "cim": "Art Attack (1998)",
                                    "diszkont_ar": "3131,2000000000003"
                                },
                                {
                                    "id": "23",
                                    "cim": "Art puzzle (1998)",
                                    "diszkont_ar": "4628,8"
                                },
                                {
                                    "id": "24",
                                    "cim": "Az ásványok világa",
                                    "diszkont_ar": "4499,2"
                                },
                                {
                                    "id": "25",
                                    "cim": "Ausztrália",
                                    "diszkont_ar": "4260,8"
                                },
                                {
                                    "id": "26",
                                    "cim": "Auto 2000 - Kerékvilág",
                                    "diszkont_ar": "3570,4"
                                },
                                {
                                    "id": "27",
                                    "cim": "Ázsia (2000)",
                                    "diszkont_ar": "2498,4"
                                },
                                {
                                    "id": "28",
                                    "cim": "Biblia (1995)",
                                    "diszkont_ar": "3552"
                                },
                                {
                                    "id": "29",
                                    "cim": "Biológia '97",
                                    "diszkont_ar": "4434,400000000001"
                                },
                                {
                                    "id": "30",
                                    "cim": "Biológia (2000)",
                                    "diszkont_ar": "3055,2000000000003"
                                },
                                {
                                    "id": "31",
                                    "cim": "Biológia (2001)",
                                    "diszkont_ar": "3033,6000000000004"
                                },
                                {
                                    "id": "32",
                                    "cim": "Biológia : 12-14 éveseknek (2003)",
                                    "diszkont_ar": "2785,6000000000004"
                                },
                                {
                                    "id": "33",
                                    "cim": "Blinky Bill : A fantasztikus léggömbkaland",
                                    "diszkont_ar": "3260,8"
                                },
                                {
                                    "id": "34",
                                    "cim": "Broken Sword II. (cop. 1997)",
                                    "diszkont_ar": "3601,6000000000004"
                                },
                                {
                                    "id": "35",
                                    "cim": "Budapest kalauz",
                                    "diszkont_ar": "3243,2000000000003"
                                },
                                {
                                    "id": "36",
                                    "cim": "Budapest Museum",
                                    "diszkont_ar": "4233,6"
                                },
                                {
                                    "id": "37",
                                    "cim": "Buggy",
                                    "diszkont_ar": "4664"
                                },
                                {
                                    "id": "38",
                                    "cim": "Byte Magyarország (2002)",
                                    "diszkont_ar": "2621,6000000000004"
                                },
                                {
                                    "id": "39",
                                    "cim": "Caesar III.",
                                    "diszkont_ar": "3308,8"
                                },
                                {
                                    "id": "40",
                                    "cim": "Capitalism II. (2001)",
                                    "diszkont_ar": "4849,6"
                                },
                                {
                                    "id": "41",
                                    "cim": "Capitalism Plus",
                                    "diszkont_ar": "4024"
                                },
                                {
                                    "id": "42",
                                    "cim": "Castle Explorer",
                                    "diszkont_ar": "2965,6000000000004"
                                },
                                {
                                    "id": "43",
                                    "cim": "CD Panoráma 1-4. (1998)",
                                    "diszkont_ar": "4337,6"
                                },
                                {
                                    "id": "44",
                                    "cim": "Computer iskola (1998)",
                                    "diszkont_ar": "4208"
                                },
                                {
                                    "id": "45",
                                    "cim": "Csizmás kandúr (1998)",
                                    "diszkont_ar": "4745,6"
                                },
                                {
                                    "id": "46",
                                    "cim": "Csodálatos univerzum (1997)",
                                    "diszkont_ar": "3269,6000000000004"
                                },
                                {
                                    "id": "47",
                                    "cim": "Dél-Amerika (1999)",
                                    "diszkont_ar": "3199,2000000000003"
                                },
                                {
                                    "id": "48",
                                    "cim": "Dementia 1-5. (1997)",
                                    "diszkont_ar": "4735,2"
                                },
                                {
                                    "id": "49",
                                    "cim": "Deutsch: Anfanger (kezdő) + Telepítő ",
                                    "diszkont_ar": "4506,400000000001"
                                },
                                {
                                    "id": "50",
                                    "cim": "Deutsch: Fortgeschrittene (haladó) + Installation",
                                    "diszkont_ar": "4627,2"
                                },
                                {
                                    "id": "51",
                                    "cim": "Deutsch: Mittelstufe (középhaladó)+ Telepítő",
                                    "diszkont_ar": "3501,6000000000004"
                                },
                                {
                                    "id": "52",
                                    "cim": "Diablo",
                                    "diszkont_ar": "4775,2"
                                },
                                {
                                    "id": "53",
                                    "cim": "Diablo II. (2000)",
                                    "diszkont_ar": "3920"
                                },
                                {
                                    "id": "54",
                                    "cim": "Dicső napok és hétköznapok 1848 - Digitális forrásgyűjtemény 1.",
                                    "diszkont_ar": "4488,8"
                                },
                                {
                                    "id": "55",
                                    "cim": "Dreams to Reality 1-2. (1997)",
                                    "diszkont_ar": "3759,2000000000003"
                                },
                                {
                                    "id": "56",
                                    "cim": "Duke Nukem 3D",
                                    "diszkont_ar": "4379,2"
                                },
                                {
                                    "id": "57",
                                    "cim": "Dungeon Keeper 2. (1999)",
                                    "diszkont_ar": "2695,2000000000003"
                                },
                                {
                                    "id": "58",
                                    "cim": "E-Games : Collector's Edition (2001)",
                                    "diszkont_ar": "4466,400000000001"
                                },
                                {
                                    "id": "59",
                                    "cim": "Éléstár (1998)",
                                    "diszkont_ar": "2606,4"
                                },
                                {
                                    "id": "60",
                                    "cim": "Élet a polgárosodó Magyarországon (2001)",
                                    "diszkont_ar": "4457,6"
                                },
                                {
                                    "id": "61",
                                    "cim": "Életképek 1848 (1998)",
                                    "diszkont_ar": "3368,8"
                                },
                                {
                                    "id": "62",
                                    "cim": "Az ember tragédiája",
                                    "diszkont_ar": "3436"
                                },
                                {
                                    "id": "63",
                                    "cim": "Encarta World Atlas '99 1-2. (1998)",
                                    "diszkont_ar": "4267,2"
                                },
                                {
                                    "id": "64",
                                    "cim": "Enemy Engaged RAH-66",
                                    "diszkont_ar": "4173,6"
                                },
                                {
                                    "id": "65",
                                    "cim": "English 1-2. + Telepítő",
                                    "diszkont_ar": "4172"
                                },
                                {
                                    "id": "67",
                                    "cim": "English: Intermediate (haladó)",
                                    "diszkont_ar": "2901,6000000000004"
                                },
                                {
                                    "id": "68",
                                    "cim": "English by Stealth  lásd: Lopva angolul",
                                    "diszkont_ar": "3582,4"
                                },
                                {
                                    "id": "69",
                                    "cim": "Erdély (1996)",
                                    "diszkont_ar": "3999,2000000000003"
                                },
                                {
                                    "id": "70",
                                    "cim": "Espanol: Intermedio + Telepítő",
                                    "diszkont_ar": "3131,2000000000003"
                                },
                                {
                                    "id": "71",
                                    "cim": "Espanol: Principiante + Telepítő",
                                    "diszkont_ar": "4705,6"
                                },
                                {
                                    "id": "72",
                                    "cim": "Észak-Amerika",
                                    "diszkont_ar": "3195,2000000000003"
                                },
                                {
                                    "id": "73",
                                    "cim": "Európa",
                                    "diszkont_ar": "4216"
                                },
                                {
                                    "id": "74",
                                    "cim": "The F.A. Premier League Stars 2001",
                                    "diszkont_ar": "3096,8"
                                },
                                {
                                    "id": "75",
                                    "cim": "Felvételi példatár : Angol",
                                    "diszkont_ar": "3100,8"
                                },
                                {
                                    "id": "76",
                                    "cim": "Felvételi példatár : Biológia, földrajz",
                                    "diszkont_ar": "2572"
                                },
                                {
                                    "id": "77",
                                    "cim": "Felvételi példatár : Kémia, fizika",
                                    "diszkont_ar": "4680,8"
                                },
                                {
                                    "id": "78",
                                    "cim": "Felvételi példatár : Magyar nyelv és irodalom",
                                    "diszkont_ar": "4764"
                                },
                                {
                                    "id": "79",
                                    "cim": "Felvételi példatár : Matematika",
                                    "diszkont_ar": "4007,2000000000003"
                                },
                                {
                                    "id": "80",
                                    "cim": "Felvételi példatár : Német",
                                    "diszkont_ar": "2481,6000000000004"
                                },
                                {
                                    "id": "81",
                                    "cim": "FIFA, 2000 (1999)",
                                    "diszkont_ar": "4047,2000000000003"
                                },
                                {
                                    "id": "82",
                                    "cim": "Fighting Force (1998)",
                                    "diszkont_ar": "3840"
                                },
                                {
                                    "id": "83",
                                    "cim": "Final Liberation (1997)",
                                    "diszkont_ar": "3705,6000000000004"
                                },
                                {
                                    "id": "84",
                                    "cim": "Fitness mesterfokon / Béres Alexandra (2001)",
                                    "diszkont_ar": "3685,6000000000004"
                                },
                                {
                                    "id": "85",
                                    "cim": "Fizika : 12-14 éveseknek (2002)",
                                    "diszkont_ar": "2987,2000000000003"
                                },
                                {
                                    "id": "86",
                                    "cim": "Fizika felkészítő az érettségi és felvételi vizsgára",
                                    "diszkont_ar": "3848"
                                },
                                {
                                    "id": "87",
                                    "cim": "Fizika világa (2001)",
                                    "diszkont_ar": "4610,400000000001"
                                },
                                {
                                    "id": "88",
                                    "cim": "A Föld élővilága",
                                    "diszkont_ar": "4720"
                                },
                                {
                                    "id": "89",
                                    "cim": "Földrajz: 10-14 éveseknek (2002)",
                                    "diszkont_ar": "3144"
                                },
                                {
                                    "id": "90",
                                    "cim": "Földrajz: érettségi előkészítő (2002)",
                                    "diszkont_ar": "2538,4"
                                },
                                {
                                    "id": "91",
                                    "cim": "Francais 1-2. + Telepítő",
                                    "diszkont_ar": "3230,4"
                                },
                                {
                                    "id": "92",
                                    "cim": "Francais: Débutan (kezdő) + Telepítő",
                                    "diszkont_ar": "3016"
                                },
                                {
                                    "id": "93",
                                    "cim": "Francais: Moyen + Telepítő",
                                    "diszkont_ar": "4495,2"
                                },
                                {
                                    "id": "94",
                                    "cim": "Francia-magyar szótár",
                                    "diszkont_ar": "2852,8"
                                },
                                {
                                    "id": "95",
                                    "cim": "Funschool in Dreamland (1995)",
                                    "diszkont_ar": "3812,8"
                                },
                                {
                                    "id": "96",
                                    "cim": "Geolexikon 4.2 : földtani adatbázis (2002)",
                                    "diszkont_ar": "3681,6000000000004"
                                },
                                {
                                    "id": "97",
                                    "cim": "Gépírás 2000",
                                    "diszkont_ar": "3148,8"
                                },
                                {
                                    "id": "98",
                                    "cim": "Gondolattár: aforizmák, szállóigék",
                                    "diszkont_ar": "4276,8"
                                },
                                {
                                    "id": "99",
                                    "cim": "GTA 2",
                                    "diszkont_ar": "4004"
                                },
                                {
                                    "id": "100",
                                    "cim": "Hadiflották I. (2002)",
                                    "diszkont_ar": "4099,2"
                                },
                                {
                                    "id": "101",
                                    "cim": "Hadtudományi lexikon (1998)",
                                    "diszkont_ar": "2812"
                                },
                                {
                                    "id": "102",
                                    "cim": "Hajdúböszörmény",
                                    "diszkont_ar": "3024,8"
                                },
                                {
                                    "id": "103",
                                    "cim": "Halak, kétéltűek, hüllők",
                                    "diszkont_ar": "3322,4"
                                },
                                {
                                    "id": "104",
                                    "cim": "Half-Life (1996)",
                                    "diszkont_ar": "4324"
                                },
                                {
                                    "id": "105",
                                    "cim": "Half-Life Generation: Game of the Year Edition (2002)",
                                    "diszkont_ar": "2964"
                                },
                                {
                                    "id": "106",
                                    "cim": "Half-Life Generation: Counter Strike (2002)",
                                    "diszkont_ar": "4595,2"
                                },
                                {
                                    "id": "107",
                                    "cim": "Half-Life Generation: Blue Shift (2002)",
                                    "diszkont_ar": "4582,400000000001"
                                },
                                {
                                    "id": "108",
                                    "cim": "Harry Potter és a bölcsek köve (2001)",
                                    "diszkont_ar": "3577,6000000000004"
                                },
                                {
                                    "id": "109",
                                    "cim": "Haza és haladás",
                                    "diszkont_ar": "2784,8"
                                },
                                {
                                    "id": "110",
                                    "cim": "A hét világcsoda (2001)",
                                    "diszkont_ar": "2529,6000000000004"
                                },
                                {
                                    "id": "111",
                                    "cim": "Home Desing 3D (1998)",
                                    "diszkont_ar": "3429,6000000000004"
                                },
                                {
                                    "id": "112",
                                    "cim": "Hupikék törpikék: teletransportörp (1999)",
                                    "diszkont_ar": "2488"
                                },
                                {
                                    "id": "113",
                                    "cim": "Informatika - Internet - Iskola",
                                    "diszkont_ar": "2986,4"
                                },
                                {
                                    "id": "114",
                                    "cim": "Interaktív angol nyelvész kurzus haladó szint 1-5.",
                                    "diszkont_ar": "3673,6000000000004"
                                },
                                {
                                    "id": "115",
                                    "cim": "Interaktív angol nyelvész kurzus kezdő szint",
                                    "diszkont_ar": "3346,4"
                                },
                                {
                                    "id": "116",
                                    "cim": "Interaktív angol nyelvész kurzus középhaladó szint",
                                    "diszkont_ar": "2492"
                                },
                                {
                                    "id": "117",
                                    "cim": "Interaktív magyar nyelvtan",
                                    "diszkont_ar": "3823,2000000000003"
                                },
                                {
                                    "id": "118",
                                    "cim": "International Rally Championship",
                                    "diszkont_ar": "3112"
                                },
                                {
                                    "id": "119",
                                    "cim": "Internet (1996)",
                                    "diszkont_ar": "3947,2000000000003"
                                },
                                {
                                    "id": "120",
                                    "cim": "Introduction to Archeology",
                                    "diszkont_ar": "3018,4"
                                },
                                {
                                    "id": "121",
                                    "cim": "Investigating 20th Century Art (1994)",
                                    "diszkont_ar": "3515,2000000000003"
                                },
                                {
                                    "id": "122",
                                    "cim": "Az ipari forradalom kora (2000)",
                                    "diszkont_ar": "4065,6000000000004"
                                },
                                {
                                    "id": "123",
                                    "cim": "Irodalmi arcképcsarnok",
                                    "diszkont_ar": "3092,8"
                                },
                                {
                                    "id": "124",
                                    "cim": "Irodalom  felkészítő az érettségi és felvételi vizsgára",
                                    "diszkont_ar": "4523,2"
                                },
                                {
                                    "id": "125",
                                    "cim": "Irodalom (1998)",
                                    "diszkont_ar": "4500"
                                },
                                {
                                    "id": "126",
                                    "cim": "Italiano (1998) + Installation",
                                    "diszkont_ar": "4348,8"
                                },
                                {
                                    "id": "127",
                                    "cim": "Italiano 1-2. (1998) + Installation",
                                    "diszkont_ar": "4865,6"
                                },
                                {
                                    "id": "128",
                                    "cim": "Italiano 1-2. (1998) + Installation",
                                    "diszkont_ar": "2735,2000000000003"
                                },
                                {
                                    "id": "129",
                                    "cim": "Jancsó",
                                    "diszkont_ar": "3363,2000000000003"
                                },
                                {
                                    "id": "130",
                                    "cim": "Japán : képes kulturális atlasz (2001)",
                                    "diszkont_ar": "3567,2000000000003"
                                },
                                {
                                    "id": "131",
                                    "cim": "Játékfilmek 1963-tól napjainkig",
                                    "diszkont_ar": "2510,4"
                                },
                                {
                                    "id": "132",
                                    "cim": "Játszóház (1998)",
                                    "diszkont_ar": "4239,2"
                                },
                                {
                                    "id": "133",
                                    "cim": "Jókai összes művei (2001)",
                                    "diszkont_ar": "3814,4"
                                },
                                {
                                    "id": "134",
                                    "cim": "József Attila (1998)",
                                    "diszkont_ar": "3096"
                                },
                                {
                                    "id": "135",
                                    "cim": "A jövő titkai - Interaktív horoszkóp (1998)",
                                    "diszkont_ar": "4857,6"
                                },
                                {
                                    "id": "136",
                                    "cim": "Kártyaváros",
                                    "diszkont_ar": "2485,6000000000004"
                                },
                                {
                                    "id": "137",
                                    "cim": "Kémia Kalauz 2.",
                                    "diszkont_ar": "4075,2000000000003"
                                },
                                {
                                    "id": "138",
                                    "cim": "A kémkedés és a hírszerzés története (2002)",
                                    "diszkont_ar": "4676"
                                },
                                {
                                    "id": "139",
                                    "cim": "Képes krónika (1996)",
                                    "diszkont_ar": "3144,8"
                                },
                                {
                                    "id": "140",
                                    "cim": "Képtárak (1995)",
                                    "diszkont_ar": "4326,400000000001"
                                },
                                {
                                    "id": "141",
                                    "cim": "Kereszt és félhold",
                                    "diszkont_ar": "3441,6000000000004"
                                },
                                {
                                    "id": "142",
                                    "cim": "Kétfejű sas: A Habsburg-uralom Magyarországon (1699-1790)",
                                    "diszkont_ar": "4367,2"
                                },
                                {
                                    "id": "143",
                                    "cim": "Kettős kötődés: Az Osztrák-Magyar Monarchia (1867-1918)",
                                    "diszkont_ar": "3863,2000000000003"
                                },
                                {
                                    "id": "144",
                                    "cim": "Kínai falatok",
                                    "diszkont_ar": "3640"
                                },
                                {
                                    "id": "145",
                                    "cim": "Királyi könyvek 1-9. kötet",
                                    "diszkont_ar": "2604,8"
                                },
                                {
                                    "id": "146",
                                    "cim": "Királyi könyvek 18-26. kötet",
                                    "diszkont_ar": "4405,6"
                                },
                                {
                                    "id": "147",
                                    "cim": "Királyi könyvek 27-38. kötet : 1703-1740 (2002)",
                                    "diszkont_ar": "4380,8"
                                },
                                {
                                    "id": "148",
                                    "cim": "Kispál és a borz (1998)",
                                    "diszkont_ar": "4584"
                                },
                                {
                                    "id": "149",
                                    "cim": "Kossuth Lajos összes munkái (2002)",
                                    "diszkont_ar": "3671,2000000000003"
                                },
                                {
                                    "id": "150",
                                    "cim": "Környezetvédelmi kalauz (1999)",
                                    "diszkont_ar": "4406,400000000001"
                                },
                                {
                                    "id": "151",
                                    "cim": "Kötelező olvasmányok könyvtára 1. (2002)",
                                    "diszkont_ar": "2875,2000000000003"
                                },
                                {
                                    "id": "152",
                                    "cim": "A kőszívű ember fiai - Egri csillagok",
                                    "diszkont_ar": "4430,400000000001"
                                },
                                {
                                    "id": "153",
                                    "cim": "A kutyák: A család kedvencei",
                                    "diszkont_ar": "3970,4"
                                },
                                {
                                    "id": "154",
                                    "cim": "Kutyatár",
                                    "diszkont_ar": "4188"
                                },
                                {
                                    "id": "155",
                                    "cim": "KvízIQ : A hét világcsoda (2001)",
                                    "diszkont_ar": "2760,8"
                                },
                                {
                                    "id": "156",
                                    "cim": "Lakáskultúra 2000 (2000)",
                                    "diszkont_ar": "4677,6"
                                },
                                {
                                    "id": "157",
                                    "cim": "Lakáskultúra 1999 (1999)",
                                    "diszkont_ar": "4331,2"
                                },
                                {
                                    "id": "158",
                                    "cim": "Lakáskultúra 1998 (1998)",
                                    "diszkont_ar": "4392,8"
                                },
                                {
                                    "id": "159",
                                    "cim": "Lakáskultúra 1997 (1997)",
                                    "diszkont_ar": "2735,2000000000003"
                                },
                                {
                                    "id": "160",
                                    "cim": "Lakáskultúra 1996 (1996)",
                                    "diszkont_ar": "3367,2000000000003"
                                },
                                {
                                    "id": "161",
                                    "cim": "Lands of Lore II. 1-4. (1997)",
                                    "diszkont_ar": "3449,6000000000004"
                                },
                                {
                                    "id": "162",
                                    "cim": "Landscape Design 3D (1998)",
                                    "diszkont_ar": "3960,8"
                                },
                                {
                                    "id": "163",
                                    "cim": "Legféltettebb természeti értékeink",
                                    "diszkont_ar": "4066,4"
                                },
                                {
                                    "id": "164",
                                    "cim": "Legszebb vadnövényeink",
                                    "diszkont_ar": "3550,4"
                                },
                                {
                                    "id": "165",
                                    "cim": "Leonardo da Vinci",
                                    "diszkont_ar": "4094,4"
                                },
                                {
                                    "id": "166",
                                    "cim": "Lilenthal Andor sakkjátszmái",
                                    "diszkont_ar": "2915,2000000000003"
                                },
                                {
                                    "id": "167",
                                    "cim": "Lopva angolul /English by Stealth 1.",
                                    "diszkont_ar": "4344,8"
                                },
                                {
                                    "id": "168",
                                    "cim": "Lopva angolul /English by Stealth 2.",
                                    "diszkont_ar": "3677,6000000000004"
                                },
                                {
                                    "id": "169",
                                    "cim": "Lopva angolul /English by Stealth 3.",
                                    "diszkont_ar": "3880,8"
                                },
                                {
                                    "id": "170",
                                    "cim": "Lovagkirályok (1301-1437) (1997)",
                                    "diszkont_ar": "3494,4"
                                },
                                {
                                    "id": "171",
                                    "cim": "LoveQ, SexQ : szerelmi intelligencia (2001)",
                                    "diszkont_ar": "2900,8"
                                },
                                {
                                    "id": "172",
                                    "cim": "M1 Tank (1998)",
                                    "diszkont_ar": "4784,8"
                                },
                                {
                                    "id": "173",
                                    "cim": "Mackó úr (2002)",
                                    "diszkont_ar": "3705,6000000000004"
                                },
                                {
                                    "id": "174",
                                    "cim": "Madárdalos kirándulások - Madártani oktató CD-ROM (1999)",
                                    "diszkont_ar": "2726,4"
                                },
                                {
                                    "id": "175",
                                    "cim": "Magyar bélyegek katalógusa",
                                    "diszkont_ar": "3228"
                                },
                                {
                                    "id": "176",
                                    "cim": "Magyar fontok '97",
                                    "diszkont_ar": "3076"
                                },
                                {
                                    "id": "177",
                                    "cim": "A Magyar Koronázási Jelvények",
                                    "diszkont_ar": "3297,6000000000004"
                                },
                                {
                                    "id": "178",
                                    "cim": "Magyar nyelv és irodalom",
                                    "diszkont_ar": "3763,2000000000003"
                                },
                                {
                                    "id": "179",
                                    "cim": "Magyar színházművészet a világban",
                                    "diszkont_ar": "4126,400000000001"
                                },
                                {
                                    "id": "180",
                                    "cim": "Magyarország, 1944-1956 (2001)",
                                    "diszkont_ar": "3936,8"
                                },
                                {
                                    "id": "181",
                                    "cim": "Magyarország, 1944-1956 (2001)",
                                    "diszkont_ar": "2938,4"
                                },
                                {
                                    "id": "182",
                                    "cim": "Magyarország Nemzeti Parkjai I.",
                                    "diszkont_ar": "2678,4"
                                },
                                {
                                    "id": "183",
                                    "cim": "Magyarország Nemzeti Parkjai II.",
                                    "diszkont_ar": "2701,6000000000004"
                                },
                                {
                                    "id": "184",
                                    "cim": "Magyarországi várak (1998)",
                                    "diszkont_ar": "4367,2"
                                },
                                {
                                    "id": "185",
                                    "cim": "Mahjongg Master (1998)",
                                    "diszkont_ar": "4338,400000000001"
                                },
                                {
                                    "id": "186",
                                    "cim": "Manó Angol 1.",
                                    "diszkont_ar": "4681,6"
                                },
                                {
                                    "id": "187",
                                    "cim": "Manó Angol 1. (2002)",
                                    "diszkont_ar": "4840,8"
                                },
                                {
                                    "id": "188",
                                    "cim": "Manó Angol 2.",
                                    "diszkont_ar": "4282,400000000001"
                                },
                                {
                                    "id": "189",
                                    "cim": "Manó Angol 2. (2000)",
                                    "diszkont_ar": "4854,400000000001"
                                },
                                {
                                    "id": "190",
                                    "cim": "Manó Élővilág",
                                    "diszkont_ar": "2779,2000000000003"
                                },
                                {
                                    "id": "191",
                                    "cim": "Manó Élővilág (2002)",
                                    "diszkont_ar": "3904,8"
                                },
                                {
                                    "id": "192",
                                    "cim": "Manó IQ (2001)",
                                    "diszkont_ar": "4306,400000000001"
                                },
                                {
                                    "id": "193",
                                    "cim": "Manó Kaland (2002)",
                                    "diszkont_ar": "4773,6"
                                },
                                {
                                    "id": "194",
                                    "cim": "Manó Magyarország (2002)",
                                    "diszkont_ar": "3320"
                                },
                                {
                                    "id": "195",
                                    "cim": "Manó Matek 1.",
                                    "diszkont_ar": "4796"
                                },
                                {
                                    "id": "196",
                                    "cim": "Manó Matek 1. (2002)",
                                    "diszkont_ar": "4316,8"
                                },
                                {
                                    "id": "197",
                                    "cim": "Manó Matek 2. (1999)",
                                    "diszkont_ar": "4454,400000000001"
                                },
                                {
                                    "id": "198",
                                    "cim": "Manó Matek 2. (1999)",
                                    "diszkont_ar": "2828,8"
                                },
                                {
                                    "id": "199",
                                    "cim": "Manó Matek 3.",
                                    "diszkont_ar": "3842,4"
                                },
                                {
                                    "id": "200",
                                    "cim": "Manó Muzsika",
                                    "diszkont_ar": "3996,8"
                                },
                                {
                                    "id": "201",
                                    "cim": "Manó Muzsika",
                                    "diszkont_ar": "2712,8"
                                },
                                {
                                    "id": "202",
                                    "cim": "Manó Német 2.",
                                    "diszkont_ar": "3713,6000000000004"
                                },
                                {
                                    "id": "203",
                                    "cim": "Manó Olvasás 1.",
                                    "diszkont_ar": "4676"
                                },
                                {
                                    "id": "204",
                                    "cim": "Manó Puzzle (2002)",
                                    "diszkont_ar": "4862,400000000001"
                                },
                                {
                                    "id": "205",
                                    "cim": "Matematika (1998)",
                                    "diszkont_ar": "2484"
                                },
                                {
                                    "id": "206",
                                    "cim": "Matematika felkészítő az érettségi és felvételi vizsgára",
                                    "diszkont_ar": "3692,8"
                                },
                                {
                                    "id": "207",
                                    "cim": "Matematika kalauz (1997)",
                                    "diszkont_ar": "2652"
                                },
                                {
                                    "id": "208",
                                    "cim": "Mig-29 (1998)",
                                    "diszkont_ar": "4032"
                                },
                                {
                                    "id": "209",
                                    "cim": "Mikszáth Kálmán összes művei",
                                    "diszkont_ar": "3828,8"
                                },
                                {
                                    "id": "210",
                                    "cim": "Mini Manó Tavasz",
                                    "diszkont_ar": "3781,6000000000004"
                                },
                                {
                                    "id": "211",
                                    "cim": "MoBi Mouse: A fordító egér",
                                    "diszkont_ar": "4028,8"
                                },
                                {
                                    "id": "212",
                                    "cim": "Monopoly Junior",
                                    "diszkont_ar": "3179,2000000000003"
                                },
                                {
                                    "id": "213",
                                    "cim": "Mons Sacer Pannoniae (2001)",
                                    "diszkont_ar": "3528"
                                },
                                {
                                    "id": "214",
                                    "cim": "Moving Puzzle Action Flight (2000)",
                                    "diszkont_ar": "4381,6"
                                },
                                {
                                    "id": "215",
                                    "cim": "Multimédiás Menedzsment Könyvtár 1. - Változásmenedzsment",
                                    "diszkont_ar": "4845,6"
                                },
                                {
                                    "id": "216",
                                    "cim": "Multimédiás Menedzsment Könyvtár 2. - Önszervezés",
                                    "diszkont_ar": "2623,2000000000003"
                                },
                                {
                                    "id": "217",
                                    "cim": "Musique! (1997)",
                                    "diszkont_ar": "4268,8"
                                },
                                {
                                    "id": "218",
                                    "cim": "Művészet és mesterség",
                                    "diszkont_ar": "4878,400000000001"
                                },
                                {
                                    "id": "219",
                                    "cim": "Művészet és művészek (2002)",
                                    "diszkont_ar": "2792"
                                },
                                {
                                    "id": "220",
                                    "cim": "Nagy képes világtörténet (Matczáli Henrik) (1998)",
                                    "diszkont_ar": "3509,6000000000004"
                                },
                                {
                                    "id": "221",
                                    "cim": "Nagy vicc tár",
                                    "diszkont_ar": "4458,400000000001"
                                },
                                {
                                    "id": "222",
                                    "cim": "A Nagybányai Festőiskola (1998)",
                                    "diszkont_ar": "3901,6000000000004"
                                },
                                {
                                    "id": "223",
                                    "cim": "NASA 1.",
                                    "diszkont_ar": "4774,400000000001"
                                },
                                {
                                    "id": "224",
                                    "cim": "NASA 2.",
                                    "diszkont_ar": "3317,6000000000004"
                                },
                                {
                                    "id": "225",
                                    "cim": "Na, So Was? - Minden helyzetben otthonosan",
                                    "diszkont_ar": "2880"
                                },
                                {
                                    "id": "226",
                                    "cim": "Német : 8-10 éveseknek (2002)",
                                    "diszkont_ar": "3003,2000000000003"
                                },
                                {
                                    "id": "227",
                                    "cim": "Német szótanító CD-ROM",
                                    "diszkont_ar": "2650,4"
                                },
                                {
                                    "id": "228",
                                    "cim": "Németh László összes műve",
                                    "diszkont_ar": "3597,6000000000004"
                                },
                                {
                                    "id": "229",
                                    "cim": "New York : a tragédiák városa (2001)",
                                    "diszkont_ar": "2978,4"
                                },
                                {
                                    "id": "230",
                                    "cim": "NHL 2001",
                                    "diszkont_ar": "4193,6"
                                },
                                {
                                    "id": "231",
                                    "cim": "Nincs királyi út - A matematika kultúrtörténete",
                                    "diszkont_ar": "3482,4"
                                },
                                {
                                    "id": "232",
                                    "cim": "Nyelvész : Angol és német haladóknak (1997)",
                                    "diszkont_ar": "2817,6000000000004"
                                },
                                {
                                    "id": "233",
                                    "cim": "Nyelvtan összefoglaló : érettségi előkészítő (2002)",
                                    "diszkont_ar": "2950,4"
                                },
                                {
                                    "id": "234",
                                    "cim": "Az óceán világa - Maldiv szigetek (2000)",
                                    "diszkont_ar": "4666,400000000001"
                                },
                                {
                                    "id": "235",
                                    "cim": "Ókori lexikon",
                                    "diszkont_ar": "2497,6000000000004"
                                },
                                {
                                    "id": "236",
                                    "cim": "Olasz-magyar, magyar-olasz digitális szótár",
                                    "diszkont_ar": "3285,6000000000004"
                                },
                                {
                                    "id": "237",
                                    "cim": "Olasz szótanító CD-ROM",
                                    "diszkont_ar": "4086,4"
                                },
                                {
                                    "id": "238",
                                    "cim": "Orosz (1998)",
                                    "diszkont_ar": "4807,2"
                                },
                                {
                                    "id": "239",
                                    "cim": "Orosz-magyar nagyszótár",
                                    "diszkont_ar": "3732,8"
                                },
                                {
                                    "id": "240",
                                    "cim": "Az Országos Széchényi Könyvtár corvinái, 2002 (2002)",
                                    "diszkont_ar": "3802,4"
                                },
                                {
                                    "id": "241",
                                    "cim": "Az Osztrák-Magyar Monarchia írásban és képekben (2001)",
                                    "diszkont_ar": "3487,2000000000003"
                                },
                                {
                                    "id": "242",
                                    "cim": "Paddle Bash (2001)",
                                    "diszkont_ar": "3149,6000000000004"
                                },
                                {
                                    "id": "243",
                                    "cim": "Pannon Enciklopédia (1998)",
                                    "diszkont_ar": "3684,8"
                                },
                                {
                                    "id": "244",
                                    "cim": "Pannonhalmi Főapátság (2001)",
                                    "diszkont_ar": "4653,6"
                                },
                                {
                                    "id": "245",
                                    "cim": "Panzer General III: Scorched Earth (2000)",
                                    "diszkont_ar": "4846,400000000001"
                                },
                                {
                                    "id": "246",
                                    "cim": "People's General (1998)",
                                    "diszkont_ar": "4498,400000000001"
                                },
                                {
                                    "id": "247",
                                    "cim": "Petőfi Sándor: Arany Lacinak (2002)",
                                    "diszkont_ar": "4390,400000000001"
                                },
                                {
                                    "id": "248",
                                    "cim": "Petőfi Sándor összes költeményei",
                                    "diszkont_ar": "3025,6000000000004"
                                },
                                {
                                    "id": "249",
                                    "cim": "Plane Crazy",
                                    "diszkont_ar": "4008,8"
                                },
                                {
                                    "id": "250",
                                    "cim": "Quake III. (2001)",
                                    "diszkont_ar": "2515,2000000000003"
                                },
                                {
                                    "id": "251",
                                    "cim": "Rákóczi-szabadságharc",
                                    "diszkont_ar": "3822,4"
                                },
                                {
                                    "id": "252",
                                    "cim": "Rally Championship",
                                    "diszkont_ar": "2484,8"
                                },
                                {
                                    "id": "253",
                                    "cim": "Rayman: Matek és olvasás",
                                    "diszkont_ar": "3587,2000000000003"
                                },
                                {
                                    "id": "254",
                                    "cim": "Re-Volt (1999)",
                                    "diszkont_ar": "3191,2000000000003"
                                },
                                {
                                    "id": "255",
                                    "cim": "The Settlers III. 1-2. (1998)",
                                    "diszkont_ar": "3413,6000000000004"
                                },
                                {
                                    "id": "256",
                                    "cim": "The Settlers IV. (2001)",
                                    "diszkont_ar": "3314,4"
                                },
                                {
                                    "id": "257",
                                    "cim": "Shanghai (1997)",
                                    "diszkont_ar": "4720"
                                },
                                {
                                    "id": "258",
                                    "cim": "The Sims",
                                    "diszkont_ar": "3234,4"
                                },
                                {
                                    "id": "259",
                                    "cim": "Sonic Racer",
                                    "diszkont_ar": "2760"
                                },
                                {
                                    "id": "260",
                                    "cim": "Spanyol (1997)",
                                    "diszkont_ar": "3020"
                                },
                                {
                                    "id": "261",
                                    "cim": "Spanyol-magyar szótár",
                                    "diszkont_ar": "4587,2"
                                },
                                {
                                    "id": "262",
                                    "cim": "Star Wars: Battle for Naboo",
                                    "diszkont_ar": "2816"
                                },
                                {
                                    "id": "263",
                                    "cim": "Star Wars: Force Commander (2001)",
                                    "diszkont_ar": "4628"
                                },
                                {
                                    "id": "264",
                                    "cim": "Star Wars : Rogue Squadron 3D",
                                    "diszkont_ar": "4642,400000000001"
                                },
                                {
                                    "id": "265",
                                    "cim": "Supreme Snowboarding",
                                    "diszkont_ar": "3320,8"
                                },
                                {
                                    "id": "266",
                                    "cim": "Szabadítsd ki a kisoroszlánt!",
                                    "diszkont_ar": "4429,6"
                                },
                                {
                                    "id": "267",
                                    "cim": "Szabadságharc 1848-49 (1988)",
                                    "diszkont_ar": "4848"
                                },
                                {
                                    "id": "268",
                                    "cim": "A szabadságharc népzenei emlékei",
                                    "diszkont_ar": "4149,6"
                                },
                                {
                                    "id": "269",
                                    "cim": "Szolfézs: Kezdőknek és haladóknak",
                                    "diszkont_ar": "3593,6000000000004"
                                },
                                {
                                    "id": "270",
                                    "cim": "Talk To Me Deutsch 2-4.",
                                    "diszkont_ar": "4792"
                                },
                                {
                                    "id": "271",
                                    "cim": "Talk To Me English 1.",
                                    "diszkont_ar": "3794,4"
                                },
                                {
                                    "id": "272",
                                    "cim": "Talk To Me Francais 1-2.",
                                    "diszkont_ar": "3978,4"
                                },
                                {
                                    "id": "273",
                                    "cim": "Tankok, tüzérség (2002)",
                                    "diszkont_ar": "4867,2"
                                },
                                {
                                    "id": "274",
                                    "cim": "Tanulj tovább! 2000 (2000)",
                                    "diszkont_ar": "3448"
                                },
                                {
                                    "id": "275",
                                    "cim": "Táplálkozás, életmód mesterfokon (2002)",
                                    "diszkont_ar": "3584"
                                },
                                {
                                    "id": "276",
                                    "cim": "Target English (1998)",
                                    "diszkont_ar": "4848,8"
                                },
                                {
                                    "id": "277",
                                    "cim": "Tarzan",
                                    "diszkont_ar": "2989,6000000000004"
                                },
                                {
                                    "id": "278",
                                    "cim": "Terrorizmus (2002)",
                                    "diszkont_ar": "3901,6000000000004"
                                },
                                {
                                    "id": "279",
                                    "cim": "Testbeszéd (1998)",
                                    "diszkont_ar": "4305,6"
                                },
                                {
                                    "id": "280",
                                    "cim": "Tesztre készen: angol (1998)",
                                    "diszkont_ar": "3325,6000000000004"
                                },
                                {
                                    "id": "281",
                                    "cim": "Tesztre készen: német (1998)",
                                    "diszkont_ar": "3652,8"
                                },
                                {
                                    "id": "282",
                                    "cim": "Thaiföldi ízek (1999)",
                                    "diszkont_ar": "4200"
                                },
                                {
                                    "id": "283",
                                    "cim": "Timeshock!",
                                    "diszkont_ar": "4127,2"
                                },
                                {
                                    "id": "284",
                                    "cim": "Tomi megmenti a tengert (2000)",
                                    "diszkont_ar": "3460"
                                },
                                {
                                    "id": "285",
                                    "cim": "Touché - The Adventures of the Fifth",
                                    "diszkont_ar": "3638,4"
                                },
                                {
                                    "id": "286",
                                    "cim": "Toy Story 2.",
                                    "diszkont_ar": "3047,2000000000003"
                                },
                                {
                                    "id": "287",
                                    "cim": "Történelem (1998)",
                                    "diszkont_ar": "2989,6000000000004"
                                },
                                {
                                    "id": "288",
                                    "cim": "Történelem : 10-14 éveseknek (2002)",
                                    "diszkont_ar": "2989,6000000000004"
                                },
                                {
                                    "id": "289",
                                    "cim": "Történelem : középiskola 1. osztály (2002)",
                                    "diszkont_ar": "2988,8"
                                },
                                {
                                    "id": "290",
                                    "cim": "Történelem : középiskola 4. osztály (2002)",
                                    "diszkont_ar": "4508"
                                },
                                {
                                    "id": "291",
                                    "cim": "Traffic Giant",
                                    "diszkont_ar": "3508"
                                },
                                {
                                    "id": "292",
                                    "cim": "Train Simulator (2002)",
                                    "diszkont_ar": "4342,400000000001"
                                },
                                {
                                    "id": "293",
                                    "cim": "Trickstyle",
                                    "diszkont_ar": "3720,8"
                                },
                                {
                                    "id": "294",
                                    "cim": "A tudás próbája (2001)",
                                    "diszkont_ar": "4368,8"
                                },
                                {
                                    "id": "295",
                                    "cim": "Turul : 1883-1900 (2002)",
                                    "diszkont_ar": "4190,400000000001"
                                },
                                {
                                    "id": "296",
                                    "cim": "UEFA Champions Leage Season",
                                    "diszkont_ar": "4417,6"
                                },
                                {
                                    "id": "297",
                                    "cim": "Új Könyvek 1994-2000 (2002)",
                                    "diszkont_ar": "4819,2"
                                },
                                {
                                    "id": "298",
                                    "cim": "Az Univerzum története",
                                    "diszkont_ar": "2923,2000000000003"
                                },
                                {
                                    "id": "299",
                                    "cim": "Utazás a csillagok között (1998)",
                                    "diszkont_ar": "4564"
                                },
                                {
                                    "id": "300",
                                    "cim": "Utazás a Naprendszerben",
                                    "diszkont_ar": "2865,6000000000004"
                                },
                                {
                                    "id": "301",
                                    "cim": "Utazás a Naprendszerben 2.",
                                    "diszkont_ar": "4793,6"
                                },
                                {
                                    "id": "302",
                                    "cim": "Úton 2. (1998)",
                                    "diszkont_ar": "4380,8"
                                },
                                {
                                    "id": "303",
                                    "cim": "Üzleti protokoll CD (2002)",
                                    "diszkont_ar": "3912,8"
                                },
                                {
                                    "id": "304",
                                    "cim": "Várak, kastélyok, legendák 1.",
                                    "diszkont_ar": "3389,6000000000004"
                                },
                                {
                                    "id": "305",
                                    "cim": "Várak, kastélyok, legendák 2. (2002)",
                                    "diszkont_ar": "2650,4"
                                },
                                {
                                    "id": "306",
                                    "cim": "A varázslatos emberi test (1998)",
                                    "diszkont_ar": "3890,4"
                                },
                                {
                                    "id": "307",
                                    "cim": "Varázslatos szülinap",
                                    "diszkont_ar": "4569,6"
                                },
                                {
                                    "id": "308",
                                    "cim": "Varázslatos történelmi nyomozás",
                                    "diszkont_ar": "3516"
                                },
                                {
                                    "id": "309",
                                    "cim": "A városi élet a Római Birodalomban (1999)",
                                    "diszkont_ar": "4599,2"
                                },
                                {
                                    "id": "310",
                                    "cim": "A Vazul-ág (1038-1301) (1997)",
                                    "diszkont_ar": "3248"
                                },
                                {
                                    "id": "311",
                                    "cim": "Világatlasz '99 (1998)",
                                    "diszkont_ar": "4319,2"
                                },
                                {
                                    "id": "312",
                                    "cim": "Világatlasz '99 (1998)",
                                    "diszkont_ar": "4161,6"
                                },
                                {
                                    "id": "313",
                                    "cim": "Világatlasz (2001)",
                                    "diszkont_ar": "2756,8"
                                },
                                {
                                    "id": "314",
                                    "cim": "Világirodalom : Az ókortól napjainkig (2001)",
                                    "diszkont_ar": "2876"
                                },
                                {
                                    "id": "315",
                                    "cim": "Volt egyszer egy Magyarország",
                                    "diszkont_ar": "4241,6"
                                },
                                {
                                    "id": "316",
                                    "cim": "Warcraft III. (2002)",
                                    "diszkont_ar": "4619,2"
                                },
                                {
                                    "id": "317",
                                    "cim": "William Shakespeare összes művei",
                                    "diszkont_ar": "3549,6000000000004"
                                },
                                {
                                    "id": "318",
                                    "cim": "Zielpunkt Deutsch (1997)",
                                    "diszkont_ar": "3315,2000000000003"
                                },
                                {
                                    "id": "319",
                                    "cim": "Zöld Ödön a földgömbön",
                                    "diszkont_ar": "4852"
                                }
                            ]
                        },
                        "text/html": [
                            "<table>",
                            "<tr><th>id</th><th>cim</th><th>diszkont_ar</th></tr>",
                            "<tr><td>1</td><td>NULL</td><td>3087,2000000000003</td></tr>",
                            "<tr><td>2</td><td>A II. világháború története (1999)</td><td>3395,2000000000003</td></tr>",
                            "<tr><td>3</td><td>3D Dinosaur - adventure</td><td>4032,8</td></tr>",
                            "<tr><td>4</td><td>3D virtuális origami (2000)</td><td>4284</td></tr>",
                            "<tr><td>5</td><td>Az 1848-1849-iki szabadságharc története (2002)</td><td>4560</td></tr>",
                            "<tr><td>6</td><td>Ablak zsiráf (1999)</td><td>2832</td></tr>",
                            "<tr><td>7</td><td>Ady Endre összes művei (1999)</td><td>3392,8</td></tr>",
                            "<tr><td>8</td><td>Afrika</td><td>4254,400000000001</td></tr>",
                            "<tr><td>9</td><td>Age of Empires (2000)</td><td>3585,6000000000004</td></tr>",
                            "<tr><td>10</td><td>Airport Inc.</td><td>3448,8</td></tr>",
                            "<tr><td>11</td><td>American Rodeo : BullRider 2000 (2001)</td><td>4472,8</td></tr>",
                            "<tr><td>12</td><td>Angol : 8-10 éveseknek (2002)</td><td>3882,4</td></tr>",
                            "<tr><td>13</td><td>Angol és német nyelvtani gyakorlatok (2002)</td><td>3924,8</td></tr>",
                            "<tr><td>14</td><td>Angol szótanító CD-ROM</td><td>3559,2000000000003</td></tr>",
                            "<tr><td>15</td><td>Angol szótanító CD-ROM</td><td>3555,2000000000003</td></tr>",
                            "<tr><td>16</td><td>Angol szótár (1996)</td><td>2807,2000000000003</td></tr>",
                            "<tr><td>17</td><td>Angol-magyar, Magyar-angol hangosszótár</td><td>4120,8</td></tr>",
                            "<tr><td>18</td><td>Angol-magyar nagyszótár (Halász Előd)</td><td>4510,400000000001</td></tr>",
                            "<tr><td>19</td><td>Az áramvonalas fakanál</td><td>4564,8</td></tr>",
                            "<tr><td>20</td><td>Arany János: A bajusz (2002)</td><td>2712,8</td></tr>",
                            "<tr><td>21</td><td>Az Árpád-ház története</td><td>4017,6000000000004</td></tr>",
                            "<tr><td>22</td><td>Art Attack (1998)</td><td>3131,2000000000003</td></tr>",
                            "<tr><td>23</td><td>Art puzzle (1998)</td><td>4628,8</td></tr>",
                            "<tr><td>24</td><td>Az ásványok világa</td><td>4499,2</td></tr>",
                            "<tr><td>25</td><td>Ausztrália</td><td>4260,8</td></tr>",
                            "<tr><td>26</td><td>Auto 2000 - Kerékvilág</td><td>3570,4</td></tr>",
                            "<tr><td>27</td><td>Ázsia (2000)</td><td>2498,4</td></tr>",
                            "<tr><td>28</td><td>Biblia (1995)</td><td>3552</td></tr>",
                            "<tr><td>29</td><td>Biológia &#39;97</td><td>4434,400000000001</td></tr>",
                            "<tr><td>30</td><td>Biológia (2000)</td><td>3055,2000000000003</td></tr>",
                            "<tr><td>31</td><td>Biológia (2001)</td><td>3033,6000000000004</td></tr>",
                            "<tr><td>32</td><td>Biológia : 12-14 éveseknek (2003)</td><td>2785,6000000000004</td></tr>",
                            "<tr><td>33</td><td>Blinky Bill : A fantasztikus léggömbkaland</td><td>3260,8</td></tr>",
                            "<tr><td>34</td><td>Broken Sword II. (cop. 1997)</td><td>3601,6000000000004</td></tr>",
                            "<tr><td>35</td><td>Budapest kalauz</td><td>3243,2000000000003</td></tr>",
                            "<tr><td>36</td><td>Budapest Museum</td><td>4233,6</td></tr>",
                            "<tr><td>37</td><td>Buggy</td><td>4664</td></tr>",
                            "<tr><td>38</td><td>Byte Magyarország (2002)</td><td>2621,6000000000004</td></tr>",
                            "<tr><td>39</td><td>Caesar III.</td><td>3308,8</td></tr>",
                            "<tr><td>40</td><td>Capitalism II. (2001)</td><td>4849,6</td></tr>",
                            "<tr><td>41</td><td>Capitalism Plus</td><td>4024</td></tr>",
                            "<tr><td>42</td><td>Castle Explorer</td><td>2965,6000000000004</td></tr>",
                            "<tr><td>43</td><td>CD Panoráma 1-4. (1998)</td><td>4337,6</td></tr>",
                            "<tr><td>44</td><td>Computer iskola (1998)</td><td>4208</td></tr>",
                            "<tr><td>45</td><td>Csizmás kandúr (1998)</td><td>4745,6</td></tr>",
                            "<tr><td>46</td><td>Csodálatos univerzum (1997)</td><td>3269,6000000000004</td></tr>",
                            "<tr><td>47</td><td>Dél-Amerika (1999)</td><td>3199,2000000000003</td></tr>",
                            "<tr><td>48</td><td>Dementia 1-5. (1997)</td><td>4735,2</td></tr>",
                            "<tr><td>49</td><td>Deutsch: Anfanger (kezdő) + Telepítő </td><td>4506,400000000001</td></tr>",
                            "<tr><td>50</td><td>Deutsch: Fortgeschrittene (haladó) + Installation</td><td>4627,2</td></tr>",
                            "<tr><td>51</td><td>Deutsch: Mittelstufe (középhaladó)+ Telepítő</td><td>3501,6000000000004</td></tr>",
                            "<tr><td>52</td><td>Diablo</td><td>4775,2</td></tr>",
                            "<tr><td>53</td><td>Diablo II. (2000)</td><td>3920</td></tr>",
                            "<tr><td>54</td><td>Dicső napok és hétköznapok 1848 - Digitális forrásgyűjtemény 1.</td><td>4488,8</td></tr>",
                            "<tr><td>55</td><td>Dreams to Reality 1-2. (1997)</td><td>3759,2000000000003</td></tr>",
                            "<tr><td>56</td><td>Duke Nukem 3D</td><td>4379,2</td></tr>",
                            "<tr><td>57</td><td>Dungeon Keeper 2. (1999)</td><td>2695,2000000000003</td></tr>",
                            "<tr><td>58</td><td>E-Games : Collector&#39;s Edition (2001)</td><td>4466,400000000001</td></tr>",
                            "<tr><td>59</td><td>Éléstár (1998)</td><td>2606,4</td></tr>",
                            "<tr><td>60</td><td>Élet a polgárosodó Magyarországon (2001)</td><td>4457,6</td></tr>",
                            "<tr><td>61</td><td>Életképek 1848 (1998)</td><td>3368,8</td></tr>",
                            "<tr><td>62</td><td>Az ember tragédiája</td><td>3436</td></tr>",
                            "<tr><td>63</td><td>Encarta World Atlas &#39;99 1-2. (1998)</td><td>4267,2</td></tr>",
                            "<tr><td>64</td><td>Enemy Engaged RAH-66</td><td>4173,6</td></tr>",
                            "<tr><td>65</td><td>English 1-2. + Telepítő</td><td>4172</td></tr>",
                            "<tr><td>67</td><td>English: Intermediate (haladó)</td><td>2901,6000000000004</td></tr>",
                            "<tr><td>68</td><td>English by Stealth  lásd: Lopva angolul</td><td>3582,4</td></tr>",
                            "<tr><td>69</td><td>Erdély (1996)</td><td>3999,2000000000003</td></tr>",
                            "<tr><td>70</td><td>Espanol: Intermedio + Telepítő</td><td>3131,2000000000003</td></tr>",
                            "<tr><td>71</td><td>Espanol: Principiante + Telepítő</td><td>4705,6</td></tr>",
                            "<tr><td>72</td><td>Észak-Amerika</td><td>3195,2000000000003</td></tr>",
                            "<tr><td>73</td><td>Európa</td><td>4216</td></tr>",
                            "<tr><td>74</td><td>The F.A. Premier League Stars 2001</td><td>3096,8</td></tr>",
                            "<tr><td>75</td><td>Felvételi példatár : Angol</td><td>3100,8</td></tr>",
                            "<tr><td>76</td><td>Felvételi példatár : Biológia, földrajz</td><td>2572</td></tr>",
                            "<tr><td>77</td><td>Felvételi példatár : Kémia, fizika</td><td>4680,8</td></tr>",
                            "<tr><td>78</td><td>Felvételi példatár : Magyar nyelv és irodalom</td><td>4764</td></tr>",
                            "<tr><td>79</td><td>Felvételi példatár : Matematika</td><td>4007,2000000000003</td></tr>",
                            "<tr><td>80</td><td>Felvételi példatár : Német</td><td>2481,6000000000004</td></tr>",
                            "<tr><td>81</td><td>FIFA, 2000 (1999)</td><td>4047,2000000000003</td></tr>",
                            "<tr><td>82</td><td>Fighting Force (1998)</td><td>3840</td></tr>",
                            "<tr><td>83</td><td>Final Liberation (1997)</td><td>3705,6000000000004</td></tr>",
                            "<tr><td>84</td><td>Fitness mesterfokon / Béres Alexandra (2001)</td><td>3685,6000000000004</td></tr>",
                            "<tr><td>85</td><td>Fizika : 12-14 éveseknek (2002)</td><td>2987,2000000000003</td></tr>",
                            "<tr><td>86</td><td>Fizika felkészítő az érettségi és felvételi vizsgára</td><td>3848</td></tr>",
                            "<tr><td>87</td><td>Fizika világa (2001)</td><td>4610,400000000001</td></tr>",
                            "<tr><td>88</td><td>A Föld élővilága</td><td>4720</td></tr>",
                            "<tr><td>89</td><td>Földrajz: 10-14 éveseknek (2002)</td><td>3144</td></tr>",
                            "<tr><td>90</td><td>Földrajz: érettségi előkészítő (2002)</td><td>2538,4</td></tr>",
                            "<tr><td>91</td><td>Francais 1-2. + Telepítő</td><td>3230,4</td></tr>",
                            "<tr><td>92</td><td>Francais: Débutan (kezdő) + Telepítő</td><td>3016</td></tr>",
                            "<tr><td>93</td><td>Francais: Moyen + Telepítő</td><td>4495,2</td></tr>",
                            "<tr><td>94</td><td>Francia-magyar szótár</td><td>2852,8</td></tr>",
                            "<tr><td>95</td><td>Funschool in Dreamland (1995)</td><td>3812,8</td></tr>",
                            "<tr><td>96</td><td>Geolexikon 4.2 : földtani adatbázis (2002)</td><td>3681,6000000000004</td></tr>",
                            "<tr><td>97</td><td>Gépírás 2000</td><td>3148,8</td></tr>",
                            "<tr><td>98</td><td>Gondolattár: aforizmák, szállóigék</td><td>4276,8</td></tr>",
                            "<tr><td>99</td><td>GTA 2</td><td>4004</td></tr>",
                            "<tr><td>100</td><td>Hadiflották I. (2002)</td><td>4099,2</td></tr>",
                            "<tr><td>101</td><td>Hadtudományi lexikon (1998)</td><td>2812</td></tr>",
                            "<tr><td>102</td><td>Hajdúböszörmény</td><td>3024,8</td></tr>",
                            "<tr><td>103</td><td>Halak, kétéltűek, hüllők</td><td>3322,4</td></tr>",
                            "<tr><td>104</td><td>Half-Life (1996)</td><td>4324</td></tr>",
                            "<tr><td>105</td><td>Half-Life Generation: Game of the Year Edition (2002)</td><td>2964</td></tr>",
                            "<tr><td>106</td><td>Half-Life Generation: Counter Strike (2002)</td><td>4595,2</td></tr>",
                            "<tr><td>107</td><td>Half-Life Generation: Blue Shift (2002)</td><td>4582,400000000001</td></tr>",
                            "<tr><td>108</td><td>Harry Potter és a bölcsek köve (2001)</td><td>3577,6000000000004</td></tr>",
                            "<tr><td>109</td><td>Haza és haladás</td><td>2784,8</td></tr>",
                            "<tr><td>110</td><td>A hét világcsoda (2001)</td><td>2529,6000000000004</td></tr>",
                            "<tr><td>111</td><td>Home Desing 3D (1998)</td><td>3429,6000000000004</td></tr>",
                            "<tr><td>112</td><td>Hupikék törpikék: teletransportörp (1999)</td><td>2488</td></tr>",
                            "<tr><td>113</td><td>Informatika - Internet - Iskola</td><td>2986,4</td></tr>",
                            "<tr><td>114</td><td>Interaktív angol nyelvész kurzus haladó szint 1-5.</td><td>3673,6000000000004</td></tr>",
                            "<tr><td>115</td><td>Interaktív angol nyelvész kurzus kezdő szint</td><td>3346,4</td></tr>",
                            "<tr><td>116</td><td>Interaktív angol nyelvész kurzus középhaladó szint</td><td>2492</td></tr>",
                            "<tr><td>117</td><td>Interaktív magyar nyelvtan</td><td>3823,2000000000003</td></tr>",
                            "<tr><td>118</td><td>International Rally Championship</td><td>3112</td></tr>",
                            "<tr><td>119</td><td>Internet (1996)</td><td>3947,2000000000003</td></tr>",
                            "<tr><td>120</td><td>Introduction to Archeology</td><td>3018,4</td></tr>",
                            "<tr><td>121</td><td>Investigating 20th Century Art (1994)</td><td>3515,2000000000003</td></tr>",
                            "<tr><td>122</td><td>Az ipari forradalom kora (2000)</td><td>4065,6000000000004</td></tr>",
                            "<tr><td>123</td><td>Irodalmi arcképcsarnok</td><td>3092,8</td></tr>",
                            "<tr><td>124</td><td>Irodalom  felkészítő az érettségi és felvételi vizsgára</td><td>4523,2</td></tr>",
                            "<tr><td>125</td><td>Irodalom (1998)</td><td>4500</td></tr>",
                            "<tr><td>126</td><td>Italiano (1998) + Installation</td><td>4348,8</td></tr>",
                            "<tr><td>127</td><td>Italiano 1-2. (1998) + Installation</td><td>4865,6</td></tr>",
                            "<tr><td>128</td><td>Italiano 1-2. (1998) + Installation</td><td>2735,2000000000003</td></tr>",
                            "<tr><td>129</td><td>Jancsó</td><td>3363,2000000000003</td></tr>",
                            "<tr><td>130</td><td>Japán : képes kulturális atlasz (2001)</td><td>3567,2000000000003</td></tr>",
                            "<tr><td>131</td><td>Játékfilmek 1963-tól napjainkig</td><td>2510,4</td></tr>",
                            "<tr><td>132</td><td>Játszóház (1998)</td><td>4239,2</td></tr>",
                            "<tr><td>133</td><td>Jókai összes művei (2001)</td><td>3814,4</td></tr>",
                            "<tr><td>134</td><td>József Attila (1998)</td><td>3096</td></tr>",
                            "<tr><td>135</td><td>A jövő titkai - Interaktív horoszkóp (1998)</td><td>4857,6</td></tr>",
                            "<tr><td>136</td><td>Kártyaváros</td><td>2485,6000000000004</td></tr>",
                            "<tr><td>137</td><td>Kémia Kalauz 2.</td><td>4075,2000000000003</td></tr>",
                            "<tr><td>138</td><td>A kémkedés és a hírszerzés története (2002)</td><td>4676</td></tr>",
                            "<tr><td>139</td><td>Képes krónika (1996)</td><td>3144,8</td></tr>",
                            "<tr><td>140</td><td>Képtárak (1995)</td><td>4326,400000000001</td></tr>",
                            "<tr><td>141</td><td>Kereszt és félhold</td><td>3441,6000000000004</td></tr>",
                            "<tr><td>142</td><td>Kétfejű sas: A Habsburg-uralom Magyarországon (1699-1790)</td><td>4367,2</td></tr>",
                            "<tr><td>143</td><td>Kettős kötődés: Az Osztrák-Magyar Monarchia (1867-1918)</td><td>3863,2000000000003</td></tr>",
                            "<tr><td>144</td><td>Kínai falatok</td><td>3640</td></tr>",
                            "<tr><td>145</td><td>Királyi könyvek 1-9. kötet</td><td>2604,8</td></tr>",
                            "<tr><td>146</td><td>Királyi könyvek 18-26. kötet</td><td>4405,6</td></tr>",
                            "<tr><td>147</td><td>Királyi könyvek 27-38. kötet : 1703-1740 (2002)</td><td>4380,8</td></tr>",
                            "<tr><td>148</td><td>Kispál és a borz (1998)</td><td>4584</td></tr>",
                            "<tr><td>149</td><td>Kossuth Lajos összes munkái (2002)</td><td>3671,2000000000003</td></tr>",
                            "<tr><td>150</td><td>Környezetvédelmi kalauz (1999)</td><td>4406,400000000001</td></tr>",
                            "<tr><td>151</td><td>Kötelező olvasmányok könyvtára 1. (2002)</td><td>2875,2000000000003</td></tr>",
                            "<tr><td>152</td><td>A kőszívű ember fiai - Egri csillagok</td><td>4430,400000000001</td></tr>",
                            "<tr><td>153</td><td>A kutyák: A család kedvencei</td><td>3970,4</td></tr>",
                            "<tr><td>154</td><td>Kutyatár</td><td>4188</td></tr>",
                            "<tr><td>155</td><td>KvízIQ : A hét világcsoda (2001)</td><td>2760,8</td></tr>",
                            "<tr><td>156</td><td>Lakáskultúra 2000 (2000)</td><td>4677,6</td></tr>",
                            "<tr><td>157</td><td>Lakáskultúra 1999 (1999)</td><td>4331,2</td></tr>",
                            "<tr><td>158</td><td>Lakáskultúra 1998 (1998)</td><td>4392,8</td></tr>",
                            "<tr><td>159</td><td>Lakáskultúra 1997 (1997)</td><td>2735,2000000000003</td></tr>",
                            "<tr><td>160</td><td>Lakáskultúra 1996 (1996)</td><td>3367,2000000000003</td></tr>",
                            "<tr><td>161</td><td>Lands of Lore II. 1-4. (1997)</td><td>3449,6000000000004</td></tr>",
                            "<tr><td>162</td><td>Landscape Design 3D (1998)</td><td>3960,8</td></tr>",
                            "<tr><td>163</td><td>Legféltettebb természeti értékeink</td><td>4066,4</td></tr>",
                            "<tr><td>164</td><td>Legszebb vadnövényeink</td><td>3550,4</td></tr>",
                            "<tr><td>165</td><td>Leonardo da Vinci</td><td>4094,4</td></tr>",
                            "<tr><td>166</td><td>Lilenthal Andor sakkjátszmái</td><td>2915,2000000000003</td></tr>",
                            "<tr><td>167</td><td>Lopva angolul /English by Stealth 1.</td><td>4344,8</td></tr>",
                            "<tr><td>168</td><td>Lopva angolul /English by Stealth 2.</td><td>3677,6000000000004</td></tr>",
                            "<tr><td>169</td><td>Lopva angolul /English by Stealth 3.</td><td>3880,8</td></tr>",
                            "<tr><td>170</td><td>Lovagkirályok (1301-1437) (1997)</td><td>3494,4</td></tr>",
                            "<tr><td>171</td><td>LoveQ, SexQ : szerelmi intelligencia (2001)</td><td>2900,8</td></tr>",
                            "<tr><td>172</td><td>M1 Tank (1998)</td><td>4784,8</td></tr>",
                            "<tr><td>173</td><td>Mackó úr (2002)</td><td>3705,6000000000004</td></tr>",
                            "<tr><td>174</td><td>Madárdalos kirándulások - Madártani oktató CD-ROM (1999)</td><td>2726,4</td></tr>",
                            "<tr><td>175</td><td>Magyar bélyegek katalógusa</td><td>3228</td></tr>",
                            "<tr><td>176</td><td>Magyar fontok &#39;97</td><td>3076</td></tr>",
                            "<tr><td>177</td><td>A Magyar Koronázási Jelvények</td><td>3297,6000000000004</td></tr>",
                            "<tr><td>178</td><td>Magyar nyelv és irodalom</td><td>3763,2000000000003</td></tr>",
                            "<tr><td>179</td><td>Magyar színházművészet a világban</td><td>4126,400000000001</td></tr>",
                            "<tr><td>180</td><td>Magyarország, 1944-1956 (2001)</td><td>3936,8</td></tr>",
                            "<tr><td>181</td><td>Magyarország, 1944-1956 (2001)</td><td>2938,4</td></tr>",
                            "<tr><td>182</td><td>Magyarország Nemzeti Parkjai I.</td><td>2678,4</td></tr>",
                            "<tr><td>183</td><td>Magyarország Nemzeti Parkjai II.</td><td>2701,6000000000004</td></tr>",
                            "<tr><td>184</td><td>Magyarországi várak (1998)</td><td>4367,2</td></tr>",
                            "<tr><td>185</td><td>Mahjongg Master (1998)</td><td>4338,400000000001</td></tr>",
                            "<tr><td>186</td><td>Manó Angol 1.</td><td>4681,6</td></tr>",
                            "<tr><td>187</td><td>Manó Angol 1. (2002)</td><td>4840,8</td></tr>",
                            "<tr><td>188</td><td>Manó Angol 2.</td><td>4282,400000000001</td></tr>",
                            "<tr><td>189</td><td>Manó Angol 2. (2000)</td><td>4854,400000000001</td></tr>",
                            "<tr><td>190</td><td>Manó Élővilág</td><td>2779,2000000000003</td></tr>",
                            "<tr><td>191</td><td>Manó Élővilág (2002)</td><td>3904,8</td></tr>",
                            "<tr><td>192</td><td>Manó IQ (2001)</td><td>4306,400000000001</td></tr>",
                            "<tr><td>193</td><td>Manó Kaland (2002)</td><td>4773,6</td></tr>",
                            "<tr><td>194</td><td>Manó Magyarország (2002)</td><td>3320</td></tr>",
                            "<tr><td>195</td><td>Manó Matek 1.</td><td>4796</td></tr>",
                            "<tr><td>196</td><td>Manó Matek 1. (2002)</td><td>4316,8</td></tr>",
                            "<tr><td>197</td><td>Manó Matek 2. (1999)</td><td>4454,400000000001</td></tr>",
                            "<tr><td>198</td><td>Manó Matek 2. (1999)</td><td>2828,8</td></tr>",
                            "<tr><td>199</td><td>Manó Matek 3.</td><td>3842,4</td></tr>",
                            "<tr><td>200</td><td>Manó Muzsika</td><td>3996,8</td></tr>",
                            "<tr><td>201</td><td>Manó Muzsika</td><td>2712,8</td></tr>",
                            "<tr><td>202</td><td>Manó Német 2.</td><td>3713,6000000000004</td></tr>",
                            "<tr><td>203</td><td>Manó Olvasás 1.</td><td>4676</td></tr>",
                            "<tr><td>204</td><td>Manó Puzzle (2002)</td><td>4862,400000000001</td></tr>",
                            "<tr><td>205</td><td>Matematika (1998)</td><td>2484</td></tr>",
                            "<tr><td>206</td><td>Matematika felkészítő az érettségi és felvételi vizsgára</td><td>3692,8</td></tr>",
                            "<tr><td>207</td><td>Matematika kalauz (1997)</td><td>2652</td></tr>",
                            "<tr><td>208</td><td>Mig-29 (1998)</td><td>4032</td></tr>",
                            "<tr><td>209</td><td>Mikszáth Kálmán összes művei</td><td>3828,8</td></tr>",
                            "<tr><td>210</td><td>Mini Manó Tavasz</td><td>3781,6000000000004</td></tr>",
                            "<tr><td>211</td><td>MoBi Mouse: A fordító egér</td><td>4028,8</td></tr>",
                            "<tr><td>212</td><td>Monopoly Junior</td><td>3179,2000000000003</td></tr>",
                            "<tr><td>213</td><td>Mons Sacer Pannoniae (2001)</td><td>3528</td></tr>",
                            "<tr><td>214</td><td>Moving Puzzle Action Flight (2000)</td><td>4381,6</td></tr>",
                            "<tr><td>215</td><td>Multimédiás Menedzsment Könyvtár 1. - Változásmenedzsment</td><td>4845,6</td></tr>",
                            "<tr><td>216</td><td>Multimédiás Menedzsment Könyvtár 2. - Önszervezés</td><td>2623,2000000000003</td></tr>",
                            "<tr><td>217</td><td>Musique! (1997)</td><td>4268,8</td></tr>",
                            "<tr><td>218</td><td>Művészet és mesterség</td><td>4878,400000000001</td></tr>",
                            "<tr><td>219</td><td>Művészet és művészek (2002)</td><td>2792</td></tr>",
                            "<tr><td>220</td><td>Nagy képes világtörténet (Matczáli Henrik) (1998)</td><td>3509,6000000000004</td></tr>",
                            "<tr><td>221</td><td>Nagy vicc tár</td><td>4458,400000000001</td></tr>",
                            "<tr><td>222</td><td>A Nagybányai Festőiskola (1998)</td><td>3901,6000000000004</td></tr>",
                            "<tr><td>223</td><td>NASA 1.</td><td>4774,400000000001</td></tr>",
                            "<tr><td>224</td><td>NASA 2.</td><td>3317,6000000000004</td></tr>",
                            "<tr><td>225</td><td>Na, So Was? - Minden helyzetben otthonosan</td><td>2880</td></tr>",
                            "<tr><td>226</td><td>Német : 8-10 éveseknek (2002)</td><td>3003,2000000000003</td></tr>",
                            "<tr><td>227</td><td>Német szótanító CD-ROM</td><td>2650,4</td></tr>",
                            "<tr><td>228</td><td>Németh László összes műve</td><td>3597,6000000000004</td></tr>",
                            "<tr><td>229</td><td>New York : a tragédiák városa (2001)</td><td>2978,4</td></tr>",
                            "<tr><td>230</td><td>NHL 2001</td><td>4193,6</td></tr>",
                            "<tr><td>231</td><td>Nincs királyi út - A matematika kultúrtörténete</td><td>3482,4</td></tr>",
                            "<tr><td>232</td><td>Nyelvész : Angol és német haladóknak (1997)</td><td>2817,6000000000004</td></tr>",
                            "<tr><td>233</td><td>Nyelvtan összefoglaló : érettségi előkészítő (2002)</td><td>2950,4</td></tr>",
                            "<tr><td>234</td><td>Az óceán világa - Maldiv szigetek (2000)</td><td>4666,400000000001</td></tr>",
                            "<tr><td>235</td><td>Ókori lexikon</td><td>2497,6000000000004</td></tr>",
                            "<tr><td>236</td><td>Olasz-magyar, magyar-olasz digitális szótár</td><td>3285,6000000000004</td></tr>",
                            "<tr><td>237</td><td>Olasz szótanító CD-ROM</td><td>4086,4</td></tr>",
                            "<tr><td>238</td><td>Orosz (1998)</td><td>4807,2</td></tr>",
                            "<tr><td>239</td><td>Orosz-magyar nagyszótár</td><td>3732,8</td></tr>",
                            "<tr><td>240</td><td>Az Országos Széchényi Könyvtár corvinái, 2002 (2002)</td><td>3802,4</td></tr>",
                            "<tr><td>241</td><td>Az Osztrák-Magyar Monarchia írásban és képekben (2001)</td><td>3487,2000000000003</td></tr>",
                            "<tr><td>242</td><td>Paddle Bash (2001)</td><td>3149,6000000000004</td></tr>",
                            "<tr><td>243</td><td>Pannon Enciklopédia (1998)</td><td>3684,8</td></tr>",
                            "<tr><td>244</td><td>Pannonhalmi Főapátság (2001)</td><td>4653,6</td></tr>",
                            "<tr><td>245</td><td>Panzer General III: Scorched Earth (2000)</td><td>4846,400000000001</td></tr>",
                            "<tr><td>246</td><td>People&#39;s General (1998)</td><td>4498,400000000001</td></tr>",
                            "<tr><td>247</td><td>Petőfi Sándor: Arany Lacinak (2002)</td><td>4390,400000000001</td></tr>",
                            "<tr><td>248</td><td>Petőfi Sándor összes költeményei</td><td>3025,6000000000004</td></tr>",
                            "<tr><td>249</td><td>Plane Crazy</td><td>4008,8</td></tr>",
                            "<tr><td>250</td><td>Quake III. (2001)</td><td>2515,2000000000003</td></tr>",
                            "<tr><td>251</td><td>Rákóczi-szabadságharc</td><td>3822,4</td></tr>",
                            "<tr><td>252</td><td>Rally Championship</td><td>2484,8</td></tr>",
                            "<tr><td>253</td><td>Rayman: Matek és olvasás</td><td>3587,2000000000003</td></tr>",
                            "<tr><td>254</td><td>Re-Volt (1999)</td><td>3191,2000000000003</td></tr>",
                            "<tr><td>255</td><td>The Settlers III. 1-2. (1998)</td><td>3413,6000000000004</td></tr>",
                            "<tr><td>256</td><td>The Settlers IV. (2001)</td><td>3314,4</td></tr>",
                            "<tr><td>257</td><td>Shanghai (1997)</td><td>4720</td></tr>",
                            "<tr><td>258</td><td>The Sims</td><td>3234,4</td></tr>",
                            "<tr><td>259</td><td>Sonic Racer</td><td>2760</td></tr>",
                            "<tr><td>260</td><td>Spanyol (1997)</td><td>3020</td></tr>",
                            "<tr><td>261</td><td>Spanyol-magyar szótár</td><td>4587,2</td></tr>",
                            "<tr><td>262</td><td>Star Wars: Battle for Naboo</td><td>2816</td></tr>",
                            "<tr><td>263</td><td>Star Wars: Force Commander (2001)</td><td>4628</td></tr>",
                            "<tr><td>264</td><td>Star Wars : Rogue Squadron 3D</td><td>4642,400000000001</td></tr>",
                            "<tr><td>265</td><td>Supreme Snowboarding</td><td>3320,8</td></tr>",
                            "<tr><td>266</td><td>Szabadítsd ki a kisoroszlánt!</td><td>4429,6</td></tr>",
                            "<tr><td>267</td><td>Szabadságharc 1848-49 (1988)</td><td>4848</td></tr>",
                            "<tr><td>268</td><td>A szabadságharc népzenei emlékei</td><td>4149,6</td></tr>",
                            "<tr><td>269</td><td>Szolfézs: Kezdőknek és haladóknak</td><td>3593,6000000000004</td></tr>",
                            "<tr><td>270</td><td>Talk To Me Deutsch 2-4.</td><td>4792</td></tr>",
                            "<tr><td>271</td><td>Talk To Me English 1.</td><td>3794,4</td></tr>",
                            "<tr><td>272</td><td>Talk To Me Francais 1-2.</td><td>3978,4</td></tr>",
                            "<tr><td>273</td><td>Tankok, tüzérség (2002)</td><td>4867,2</td></tr>",
                            "<tr><td>274</td><td>Tanulj tovább! 2000 (2000)</td><td>3448</td></tr>",
                            "<tr><td>275</td><td>Táplálkozás, életmód mesterfokon (2002)</td><td>3584</td></tr>",
                            "<tr><td>276</td><td>Target English (1998)</td><td>4848,8</td></tr>",
                            "<tr><td>277</td><td>Tarzan</td><td>2989,6000000000004</td></tr>",
                            "<tr><td>278</td><td>Terrorizmus (2002)</td><td>3901,6000000000004</td></tr>",
                            "<tr><td>279</td><td>Testbeszéd (1998)</td><td>4305,6</td></tr>",
                            "<tr><td>280</td><td>Tesztre készen: angol (1998)</td><td>3325,6000000000004</td></tr>",
                            "<tr><td>281</td><td>Tesztre készen: német (1998)</td><td>3652,8</td></tr>",
                            "<tr><td>282</td><td>Thaiföldi ízek (1999)</td><td>4200</td></tr>",
                            "<tr><td>283</td><td>Timeshock!</td><td>4127,2</td></tr>",
                            "<tr><td>284</td><td>Tomi megmenti a tengert (2000)</td><td>3460</td></tr>",
                            "<tr><td>285</td><td>Touché - The Adventures of the Fifth</td><td>3638,4</td></tr>",
                            "<tr><td>286</td><td>Toy Story 2.</td><td>3047,2000000000003</td></tr>",
                            "<tr><td>287</td><td>Történelem (1998)</td><td>2989,6000000000004</td></tr>",
                            "<tr><td>288</td><td>Történelem : 10-14 éveseknek (2002)</td><td>2989,6000000000004</td></tr>",
                            "<tr><td>289</td><td>Történelem : középiskola 1. osztály (2002)</td><td>2988,8</td></tr>",
                            "<tr><td>290</td><td>Történelem : középiskola 4. osztály (2002)</td><td>4508</td></tr>",
                            "<tr><td>291</td><td>Traffic Giant</td><td>3508</td></tr>",
                            "<tr><td>292</td><td>Train Simulator (2002)</td><td>4342,400000000001</td></tr>",
                            "<tr><td>293</td><td>Trickstyle</td><td>3720,8</td></tr>",
                            "<tr><td>294</td><td>A tudás próbája (2001)</td><td>4368,8</td></tr>",
                            "<tr><td>295</td><td>Turul : 1883-1900 (2002)</td><td>4190,400000000001</td></tr>",
                            "<tr><td>296</td><td>UEFA Champions Leage Season</td><td>4417,6</td></tr>",
                            "<tr><td>297</td><td>Új Könyvek 1994-2000 (2002)</td><td>4819,2</td></tr>",
                            "<tr><td>298</td><td>Az Univerzum története</td><td>2923,2000000000003</td></tr>",
                            "<tr><td>299</td><td>Utazás a csillagok között (1998)</td><td>4564</td></tr>",
                            "<tr><td>300</td><td>Utazás a Naprendszerben</td><td>2865,6000000000004</td></tr>",
                            "<tr><td>301</td><td>Utazás a Naprendszerben 2.</td><td>4793,6</td></tr>",
                            "<tr><td>302</td><td>Úton 2. (1998)</td><td>4380,8</td></tr>",
                            "<tr><td>303</td><td>Üzleti protokoll CD (2002)</td><td>3912,8</td></tr>",
                            "<tr><td>304</td><td>Várak, kastélyok, legendák 1.</td><td>3389,6000000000004</td></tr>",
                            "<tr><td>305</td><td>Várak, kastélyok, legendák 2. (2002)</td><td>2650,4</td></tr>",
                            "<tr><td>306</td><td>A varázslatos emberi test (1998)</td><td>3890,4</td></tr>",
                            "<tr><td>307</td><td>Varázslatos szülinap</td><td>4569,6</td></tr>",
                            "<tr><td>308</td><td>Varázslatos történelmi nyomozás</td><td>3516</td></tr>",
                            "<tr><td>309</td><td>A városi élet a Római Birodalomban (1999)</td><td>4599,2</td></tr>",
                            "<tr><td>310</td><td>A Vazul-ág (1038-1301) (1997)</td><td>3248</td></tr>",
                            "<tr><td>311</td><td>Világatlasz &#39;99 (1998)</td><td>4319,2</td></tr>",
                            "<tr><td>312</td><td>Világatlasz &#39;99 (1998)</td><td>4161,6</td></tr>",
                            "<tr><td>313</td><td>Világatlasz (2001)</td><td>2756,8</td></tr>",
                            "<tr><td>314</td><td>Világirodalom : Az ókortól napjainkig (2001)</td><td>2876</td></tr>",
                            "<tr><td>315</td><td>Volt egyszer egy Magyarország</td><td>4241,6</td></tr>",
                            "<tr><td>316</td><td>Warcraft III. (2002)</td><td>4619,2</td></tr>",
                            "<tr><td>317</td><td>William Shakespeare összes művei</td><td>3549,6000000000004</td></tr>",
                            "<tr><td>318</td><td>Zielpunkt Deutsch (1997)</td><td>3315,2000000000003</td></tr>",
                            "<tr><td>319</td><td>Zöld Ödön a földgömbön</td><td>4852</td></tr>",
                            "</table>"
                        ]
                    }
                }
            ],
            "execution_count": 6
        },
        {
            "cell_type": "markdown",
            "source": [
                "6. Melyek azok a kölcsönzések, ahol még nem hozták vissza a dvd-t?"
            ],
            "metadata": {
                "azdata_cell_guid": "5fe65c1c-2479-45ac-ad03-ec99d12eae21"
            },
            "attachments": {}
        },
        {
            "cell_type": "code",
            "source": [
                "SELECT *\r\n",
                "FROM kolcsonzesek\r\n",
                "WHERE vissza_datum IS NULL"
            ],
            "metadata": {
                "azdata_cell_guid": "924f2dde-f1c2-4def-a7f9-dbf4bace7735",
                "language": "sql",
                "tags": []
            },
            "outputs": [
                {
                    "output_type": "display_data",
                    "data": {
                        "text/html": "(3 rows affected)"
                    },
                    "metadata": {}
                },
                {
                    "output_type": "display_data",
                    "data": {
                        "text/html": "Total execution time: 00:00:00.029"
                    },
                    "metadata": {}
                },
                {
                    "output_type": "execute_result",
                    "metadata": {},
                    "execution_count": 7,
                    "data": {
                        "application/vnd.dataresource+json": {
                            "schema": {
                                "fields": [
                                    {
                                        "name": "ID"
                                    },
                                    {
                                        "name": "ki"
                                    },
                                    {
                                        "name": "mit"
                                    },
                                    {
                                        "name": "ki_datum"
                                    },
                                    {
                                        "name": "vissza_datum"
                                    }
                                ]
                            },
                            "data": [
                                {
                                    "ID": "10",
                                    "ki": "3",
                                    "mit": "5",
                                    "ki_datum": "2003-12-11",
                                    "vissza_datum": "NULL"
                                },
                                {
                                    "ID": "11",
                                    "ki": "4",
                                    "mit": "2",
                                    "ki_datum": "2003-12-11",
                                    "vissza_datum": "NULL"
                                },
                                {
                                    "ID": "12",
                                    "ki": "5",
                                    "mit": "6",
                                    "ki_datum": "2003-12-11",
                                    "vissza_datum": "NULL"
                                }
                            ]
                        },
                        "text/html": [
                            "<table>",
                            "<tr><th>ID</th><th>ki</th><th>mit</th><th>ki_datum</th><th>vissza_datum</th></tr>",
                            "<tr><td>10</td><td>3</td><td>5</td><td>2003-12-11</td><td>NULL</td></tr>",
                            "<tr><td>11</td><td>4</td><td>2</td><td>2003-12-11</td><td>NULL</td></tr>",
                            "<tr><td>12</td><td>5</td><td>6</td><td>2003-12-11</td><td>NULL</td></tr>",
                            "</table>"
                        ]
                    }
                }
            ],
            "execution_count": 7
        },
        {
            "cell_type": "markdown",
            "source": [
                "7. Listázzuk azon diákok nevét és születési idejét, akik 1984-ben vagy 1985-ben születtek!  \n",
                "\n",
                "  \n",
                "\n",
                "a.  A születési dátum csak az évet, hónapot és a napot tartalmazza! \n",
                "\n",
                "b.  A születési dátum oszlopát nevezzük el 'Születési idő'-nek!"
            ],
            "metadata": {
                "azdata_cell_guid": "3aeb6bf5-b111-40d5-92b2-9712ce335696"
            },
            "attachments": {}
        },
        {
            "cell_type": "code",
            "source": [
                "SELECT Nev, \r\n",
                "       CAST(Szulido AS DATE) AS 'Születési idő'\r\n",
                "FROM diak\r\n",
                "WHERE YEAR(Szulido) in (1984, 1985)"
            ],
            "metadata": {
                "azdata_cell_guid": "3e89b651-f56f-4102-af52-30eb2bbe360d",
                "language": "sql"
            },
            "outputs": [
                {
                    "output_type": "display_data",
                    "data": {
                        "text/html": "(3 rows affected)"
                    },
                    "metadata": {}
                },
                {
                    "output_type": "display_data",
                    "data": {
                        "text/html": "Total execution time: 00:00:00.028"
                    },
                    "metadata": {}
                },
                {
                    "output_type": "execute_result",
                    "metadata": {},
                    "execution_count": 9,
                    "data": {
                        "application/vnd.dataresource+json": {
                            "schema": {
                                "fields": [
                                    {
                                        "name": "Nev"
                                    },
                                    {
                                        "name": "Születési idő"
                                    }
                                ]
                            },
                            "data": [
                                {
                                    "Nev": "Kovács Imre",
                                    "Születési idő": "1984-03-02"
                                },
                                {
                                    "Nev": "Kapos Petra",
                                    "Születési idő": "1985-12-23"
                                },
                                {
                                    "Nev": "Koppány Olga",
                                    "Születési idő": "1984-02-28"
                                }
                            ]
                        },
                        "text/html": [
                            "<table>",
                            "<tr><th>Nev</th><th>Születési idő</th></tr>",
                            "<tr><td>Kovács Imre</td><td>1984-03-02</td></tr>",
                            "<tr><td>Kapos Petra</td><td>1985-12-23</td></tr>",
                            "<tr><td>Koppány Olga</td><td>1984-02-28</td></tr>",
                            "</table>"
                        ]
                    }
                }
            ],
            "execution_count": 9
        },
        {
            "cell_type": "markdown",
            "source": [
                "8. Készítsünk lekérdezést, amely a tanulók nevét és az ebből képzett felhasználói nevét tartalmazza. \n",
                "\n",
                "  \n",
                "\n",
                "a.  A felhasználói név álljon a név első kettő, illetve utolsó kettő betűjének összefűzéséből!\n",
                "\n",
                "b.  A listát szűrjük azon tanulókra, akik teljes neve - szóközzel együtt - legalább 10 betűs!"
            ],
            "metadata": {
                "azdata_cell_guid": "26a504dc-ff6a-439f-94c0-4580eca3eacf"
            },
            "attachments": {}
        },
        {
            "cell_type": "code",
            "source": [
                "SELECT Nev, \r\n",
                "       LEFT(Nev, 2) + RIGHT(Nev, 2) AS 'Felhasználói név'\r\n",
                "FROM diak\r\n",
                "WHERE LEN(Nev) >=10"
            ],
            "metadata": {
                "azdata_cell_guid": "1cbb8aeb-78b5-4350-aa45-e3202fdab85b",
                "language": "sql"
            },
            "outputs": [
                {
                    "output_type": "display_data",
                    "data": {
                        "text/html": "(8 rows affected)"
                    },
                    "metadata": {}
                },
                {
                    "output_type": "display_data",
                    "data": {
                        "text/html": "Total execution time: 00:00:00.031"
                    },
                    "metadata": {}
                },
                {
                    "output_type": "execute_result",
                    "metadata": {},
                    "execution_count": 10,
                    "data": {
                        "application/vnd.dataresource+json": {
                            "schema": {
                                "fields": [
                                    {
                                        "name": "Nev"
                                    },
                                    {
                                        "name": "Felhasználói név"
                                    }
                                ]
                            },
                            "data": [
                                {
                                    "Nev": "Kovács Imre",
                                    "Felhasználói név": "Kore"
                                },
                                {
                                    "Nev": "Horváth Emil",
                                    "Felhasználói név": "Hoil"
                                },
                                {
                                    "Nev": "Kapos Petra",
                                    "Felhasználói név": "Kara"
                                },
                                {
                                    "Nev": "Csóka Anna",
                                    "Felhasználói név": "Csna"
                                },
                                {
                                    "Nev": "Nyúl Tamás",
                                    "Felhasználói név": "Nyás"
                                },
                                {
                                    "Nev": "Ordasi Emma",
                                    "Felhasználói név": "Orma"
                                },
                                {
                                    "Nev": "Koppány Olga",
                                    "Felhasználói név": "Koga"
                                },
                                {
                                    "Nev": "Kozma Patrícia",
                                    "Felhasználói név": "Koia"
                                }
                            ]
                        },
                        "text/html": [
                            "<table>",
                            "<tr><th>Nev</th><th>Felhasználói név</th></tr>",
                            "<tr><td>Kovács Imre</td><td>Kore</td></tr>",
                            "<tr><td>Horváth Emil</td><td>Hoil</td></tr>",
                            "<tr><td>Kapos Petra</td><td>Kara</td></tr>",
                            "<tr><td>Csóka Anna</td><td>Csna</td></tr>",
                            "<tr><td>Nyúl Tamás</td><td>Nyás</td></tr>",
                            "<tr><td>Ordasi Emma</td><td>Orma</td></tr>",
                            "<tr><td>Koppány Olga</td><td>Koga</td></tr>",
                            "<tr><td>Kozma Patrícia</td><td>Koia</td></tr>",
                            "</table>"
                        ]
                    }
                }
            ],
            "execution_count": 10
        },
        {
            "cell_type": "markdown",
            "source": [
                "9. Készítsünk listát a diákok adatairól, ahol a diákok neve úgy jelenik meg, hogy először a keresztnév, majd a vezetéknév, közöttük szóközzel!  \n",
                "\n",
                "a.  Ezen felül a születési idő három külön oszlopban jelenjen meg (év, hónap, nap). \n",
                "\n",
                "b.  Az oszlopokat nevezzük el értelemszerűen!"
            ],
            "metadata": {
                "azdata_cell_guid": "435e2860-2dd5-4877-90f4-34a43baeb53c"
            },
            "attachments": {}
        },
        {
            "cell_type": "code",
            "source": [
                "SELECT DiakAz AS 'Azonosító',\r\n",
                "       RIGHT(Nev, LEN(Nev)-CHARINDEX(' ',Nev))+' '+\r\n",
                "            LEFT(Nev, CHARINDEX(' ',Nev)-1) AS 'Nev',\r\n",
                "\t   YEAR(Szulido) AS 'Születési év',\r\n",
                "\t   MONTH(Szulido) AS 'Születési hónap',\r\n",
                "\t   DAY(Szulido) AS 'Születési nap'\r\n",
                "FROM diak"
            ],
            "metadata": {
                "azdata_cell_guid": "ce846351-ddbe-4d8e-b8fb-2a92c73ac80b",
                "language": "sql"
            },
            "outputs": [
                {
                    "output_type": "display_data",
                    "data": {
                        "text/html": "(10 rows affected)"
                    },
                    "metadata": {}
                },
                {
                    "output_type": "display_data",
                    "data": {
                        "text/html": "Total execution time: 00:00:00.038"
                    },
                    "metadata": {}
                },
                {
                    "output_type": "execute_result",
                    "metadata": {},
                    "execution_count": 11,
                    "data": {
                        "application/vnd.dataresource+json": {
                            "schema": {
                                "fields": [
                                    {
                                        "name": "Azonosító"
                                    },
                                    {
                                        "name": "Nev"
                                    },
                                    {
                                        "name": "Születési év"
                                    },
                                    {
                                        "name": "Születési hónap"
                                    },
                                    {
                                        "name": "Születési nap"
                                    }
                                ]
                            },
                            "data": [
                                {
                                    "Azonosító": "1",
                                    "Nev": "Péter Kos",
                                    "Születési év": "1987",
                                    "Születési hónap": "11",
                                    "Születési nap": "5"
                                },
                                {
                                    "Azonosító": "2",
                                    "Nev": "Imre Port",
                                    "Születési év": "1990",
                                    "Születési hónap": "5",
                                    "Születési nap": "5"
                                },
                                {
                                    "Azonosító": "3",
                                    "Nev": "Imre Kovács",
                                    "Születési év": "1984",
                                    "Születési hónap": "3",
                                    "Születési nap": "2"
                                },
                                {
                                    "Azonosító": "4",
                                    "Nev": "Emil Horváth",
                                    "Születési év": "1988",
                                    "Születési hónap": "5",
                                    "Születési nap": "2"
                                },
                                {
                                    "Azonosító": "5",
                                    "Nev": "Petra Kapos",
                                    "Születési év": "1985",
                                    "Születési hónap": "12",
                                    "Születési nap": "23"
                                },
                                {
                                    "Azonosító": "6",
                                    "Nev": "Anna Csóka",
                                    "Születési év": "1981",
                                    "Születési hónap": "11",
                                    "Születési nap": "30"
                                },
                                {
                                    "Azonosító": "7",
                                    "Nev": "Tamás Nyúl",
                                    "Születési év": "1988",
                                    "Születési hónap": "2",
                                    "Születési nap": "16"
                                },
                                {
                                    "Azonosító": "8",
                                    "Nev": "Emma Ordasi",
                                    "Születési év": "1989",
                                    "Születési hónap": "1",
                                    "Születési nap": "3"
                                },
                                {
                                    "Azonosító": "9",
                                    "Nev": "Olga Koppány",
                                    "Születési év": "1984",
                                    "Születési hónap": "2",
                                    "Születési nap": "28"
                                },
                                {
                                    "Azonosító": "10",
                                    "Nev": "Patrícia Kozma",
                                    "Születési év": "1983",
                                    "Születési hónap": "6",
                                    "Születési nap": "1"
                                }
                            ]
                        },
                        "text/html": [
                            "<table>",
                            "<tr><th>Azonosító</th><th>Nev</th><th>Születési év</th><th>Születési hónap</th><th>Születési nap</th></tr>",
                            "<tr><td>1</td><td>Péter Kos</td><td>1987</td><td>11</td><td>5</td></tr>",
                            "<tr><td>2</td><td>Imre Port</td><td>1990</td><td>5</td><td>5</td></tr>",
                            "<tr><td>3</td><td>Imre Kovács</td><td>1984</td><td>3</td><td>2</td></tr>",
                            "<tr><td>4</td><td>Emil Horváth</td><td>1988</td><td>5</td><td>2</td></tr>",
                            "<tr><td>5</td><td>Petra Kapos</td><td>1985</td><td>12</td><td>23</td></tr>",
                            "<tr><td>6</td><td>Anna Csóka</td><td>1981</td><td>11</td><td>30</td></tr>",
                            "<tr><td>7</td><td>Tamás Nyúl</td><td>1988</td><td>2</td><td>16</td></tr>",
                            "<tr><td>8</td><td>Emma Ordasi</td><td>1989</td><td>1</td><td>3</td></tr>",
                            "<tr><td>9</td><td>Olga Koppány</td><td>1984</td><td>2</td><td>28</td></tr>",
                            "<tr><td>10</td><td>Patrícia Kozma</td><td>1983</td><td>6</td><td>1</td></tr>",
                            "</table>"
                        ]
                    }
                }
            ],
            "execution_count": 11
        },
        {
            "cell_type": "markdown",
            "source": [
                "10. Készítsünk listát a munkák azonosítójáról és megnevezéséről! Egy új oszlopban azt is jelenítsük meg, hogy melyik munka hetente mennyit fizet! \n",
                "\n",
                "a.  Az oszlop neve legyen Heti bér, az értéket kerekítsük 1000 forintra! \n",
                "\n",
                "b.  A listát szűrjük azon rekordokra, ahol a kerekített heti bér 10000 Ft felett van!"
            ],
            "metadata": {
                "azdata_cell_guid": "217c5772-afe2-4a7c-b913-e3a3e09d6411"
            },
            "attachments": {}
        },
        {
            "cell_type": "code",
            "source": [
                "SELECT munkaId,\r\n",
                "       allas,\r\n",
                "\t   ROUND(oradij * oraszam * 5, -3) AS 'Heti bér'\r\n",
                "FROM munka\r\n",
                "WHERE ROUND(oradij * oraszam * 5, -3)> 10000\r\n",
                ""
            ],
            "metadata": {
                "azdata_cell_guid": "a9cc0926-3dbd-4ed8-8179-1c39d64a0762",
                "language": "sql"
            },
            "outputs": [
                {
                    "output_type": "display_data",
                    "data": {
                        "text/html": "(7 rows affected)"
                    },
                    "metadata": {}
                },
                {
                    "output_type": "display_data",
                    "data": {
                        "text/html": "Total execution time: 00:00:00.031"
                    },
                    "metadata": {}
                },
                {
                    "output_type": "execute_result",
                    "metadata": {},
                    "execution_count": 12,
                    "data": {
                        "application/vnd.dataresource+json": {
                            "schema": {
                                "fields": [
                                    {
                                        "name": "munkaId"
                                    },
                                    {
                                        "name": "allas"
                                    },
                                    {
                                        "name": "Heti bér"
                                    }
                                ]
                            },
                            "data": [
                                {
                                    "munkaId": "5",
                                    "allas": "kézbesítő",
                                    "Heti bér": "14000"
                                },
                                {
                                    "munkaId": "7",
                                    "allas": "eladó",
                                    "Heti bér": "12000"
                                },
                                {
                                    "munkaId": "16",
                                    "allas": "pincér",
                                    "Heti bér": "14000"
                                },
                                {
                                    "munkaId": "17",
                                    "allas": "pincér",
                                    "Heti bér": "14000"
                                },
                                {
                                    "munkaId": "20",
                                    "allas": "takarító",
                                    "Heti bér": "11000"
                                },
                                {
                                    "munkaId": "21",
                                    "allas": "takarító",
                                    "Heti bér": "11000"
                                },
                                {
                                    "munkaId": "41",
                                    "allas": "eladó",
                                    "Heti bér": "12000"
                                }
                            ]
                        },
                        "text/html": [
                            "<table>",
                            "<tr><th>munkaId</th><th>allas</th><th>Heti bér</th></tr>",
                            "<tr><td>5</td><td>kézbesítő</td><td>14000</td></tr>",
                            "<tr><td>7</td><td>eladó</td><td>12000</td></tr>",
                            "<tr><td>16</td><td>pincér</td><td>14000</td></tr>",
                            "<tr><td>17</td><td>pincér</td><td>14000</td></tr>",
                            "<tr><td>20</td><td>takarító</td><td>11000</td></tr>",
                            "<tr><td>21</td><td>takarító</td><td>11000</td></tr>",
                            "<tr><td>41</td><td>eladó</td><td>12000</td></tr>",
                            "</table>"
                        ]
                    }
                }
            ],
            "execution_count": 12
        },
        {
            "cell_type": "markdown",
            "source": [
                "11. A diákok számára differenciált béremelést terveznek: a középiskolások esetében 33%, egyéb esetben 17% mértékben. Készítsünk listát, amely tartalmazza a munkák azonosítóját, az állás nevét, az eredeti óradíjat és a tervezett emelt óradíjat.\n",
                "\n",
                "  \n",
                "\n",
                "a.  Az oszlopoknak adjuk nevet értelemszerűen!\n",
                "\n",
                "b.  Az emelt óradíj összegét kerekítsük egészre! (Az esetlegesen megjelenő 0 tizedesjegyekkel ne foglalkozzunk)"
            ],
            "metadata": {
                "azdata_cell_guid": "d2340f5f-1614-473c-b937-85740d67f7c1"
            },
            "attachments": {}
        },
        {
            "cell_type": "code",
            "source": [
                "SELECT munkaid AS 'Munka azonosítája',\r\n",
                "\t   oradij AS 'Eredeti óradíj',\r\n",
                "\t   ROUND(oradij * IIF(kozepiskolas = 1, 1.33, 1.17), 0) \r\n",
                "       AS 'Emelt óradíj'\r\n",
                "FROM munka"
            ],
            "metadata": {
                "azdata_cell_guid": "e99c2c53-898f-4787-b0e6-182d106dc16f",
                "language": "sql"
            },
            "outputs": [
                {
                    "output_type": "display_data",
                    "data": {
                        "text/html": "(41 rows affected)"
                    },
                    "metadata": {}
                },
                {
                    "output_type": "display_data",
                    "data": {
                        "text/html": "Total execution time: 00:00:00.049"
                    },
                    "metadata": {}
                },
                {
                    "output_type": "execute_result",
                    "metadata": {},
                    "execution_count": 13,
                    "data": {
                        "application/vnd.dataresource+json": {
                            "schema": {
                                "fields": [
                                    {
                                        "name": "Munka azonosítája"
                                    },
                                    {
                                        "name": "Eredeti óradíj"
                                    },
                                    {
                                        "name": "Emelt óradíj"
                                    }
                                ]
                            },
                            "data": [
                                {
                                    "Munka azonosítája": "1",
                                    "Eredeti óradíj": "400",
                                    "Emelt óradíj": "468.00"
                                },
                                {
                                    "Munka azonosítája": "2",
                                    "Eredeti óradíj": "300",
                                    "Emelt óradíj": "351.00"
                                },
                                {
                                    "Munka azonosítája": "3",
                                    "Eredeti óradíj": "500",
                                    "Emelt óradíj": "665.00"
                                },
                                {
                                    "Munka azonosítája": "4",
                                    "Eredeti óradíj": "350",
                                    "Emelt óradíj": "410.00"
                                },
                                {
                                    "Munka azonosítája": "5",
                                    "Eredeti óradíj": "450",
                                    "Emelt óradíj": "527.00"
                                },
                                {
                                    "Munka azonosítája": "6",
                                    "Eredeti óradíj": "300",
                                    "Emelt óradíj": "399.00"
                                },
                                {
                                    "Munka azonosítája": "7",
                                    "Eredeti óradíj": "400",
                                    "Emelt óradíj": "468.00"
                                },
                                {
                                    "Munka azonosítája": "8",
                                    "Eredeti óradíj": "300",
                                    "Emelt óradíj": "351.00"
                                },
                                {
                                    "Munka azonosítája": "9",
                                    "Eredeti óradíj": "400",
                                    "Emelt óradíj": "468.00"
                                },
                                {
                                    "Munka azonosítája": "10",
                                    "Eredeti óradíj": "400",
                                    "Emelt óradíj": "468.00"
                                },
                                {
                                    "Munka azonosítája": "11",
                                    "Eredeti óradíj": "300",
                                    "Emelt óradíj": "399.00"
                                },
                                {
                                    "Munka azonosítája": "12",
                                    "Eredeti óradíj": "300",
                                    "Emelt óradíj": "399.00"
                                },
                                {
                                    "Munka azonosítája": "13",
                                    "Eredeti óradíj": "400",
                                    "Emelt óradíj": "468.00"
                                },
                                {
                                    "Munka azonosítája": "14",
                                    "Eredeti óradíj": "400",
                                    "Emelt óradíj": "468.00"
                                },
                                {
                                    "Munka azonosítája": "15",
                                    "Eredeti óradíj": "400",
                                    "Emelt óradíj": "468.00"
                                },
                                {
                                    "Munka azonosítája": "16",
                                    "Eredeti óradíj": "450",
                                    "Emelt óradíj": "527.00"
                                },
                                {
                                    "Munka azonosítája": "17",
                                    "Eredeti óradíj": "450",
                                    "Emelt óradíj": "527.00"
                                },
                                {
                                    "Munka azonosítája": "18",
                                    "Eredeti óradíj": "500",
                                    "Emelt óradíj": "585.00"
                                },
                                {
                                    "Munka azonosítája": "19",
                                    "Eredeti óradíj": "500",
                                    "Emelt óradíj": "585.00"
                                },
                                {
                                    "Munka azonosítája": "20",
                                    "Eredeti óradíj": "350",
                                    "Emelt óradíj": "466.00"
                                },
                                {
                                    "Munka azonosítája": "21",
                                    "Eredeti óradíj": "350",
                                    "Emelt óradíj": "466.00"
                                },
                                {
                                    "Munka azonosítája": "22",
                                    "Eredeti óradíj": "400",
                                    "Emelt óradíj": "468.00"
                                },
                                {
                                    "Munka azonosítája": "23",
                                    "Eredeti óradíj": "300",
                                    "Emelt óradíj": "351.00"
                                },
                                {
                                    "Munka azonosítája": "24",
                                    "Eredeti óradíj": "300",
                                    "Emelt óradíj": "351.00"
                                },
                                {
                                    "Munka azonosítája": "25",
                                    "Eredeti óradíj": "250",
                                    "Emelt óradíj": "333.00"
                                },
                                {
                                    "Munka azonosítája": "26",
                                    "Eredeti óradíj": "250",
                                    "Emelt óradíj": "333.00"
                                },
                                {
                                    "Munka azonosítája": "27",
                                    "Eredeti óradíj": "300",
                                    "Emelt óradíj": "399.00"
                                },
                                {
                                    "Munka azonosítája": "28",
                                    "Eredeti óradíj": "300",
                                    "Emelt óradíj": "399.00"
                                },
                                {
                                    "Munka azonosítája": "29",
                                    "Eredeti óradíj": "300",
                                    "Emelt óradíj": "399.00"
                                },
                                {
                                    "Munka azonosítája": "30",
                                    "Eredeti óradíj": "300",
                                    "Emelt óradíj": "399.00"
                                },
                                {
                                    "Munka azonosítája": "31",
                                    "Eredeti óradíj": "200",
                                    "Emelt óradíj": "266.00"
                                },
                                {
                                    "Munka azonosítája": "32",
                                    "Eredeti óradíj": "200",
                                    "Emelt óradíj": "266.00"
                                },
                                {
                                    "Munka azonosítája": "33",
                                    "Eredeti óradíj": "200",
                                    "Emelt óradíj": "266.00"
                                },
                                {
                                    "Munka azonosítája": "34",
                                    "Eredeti óradíj": "200",
                                    "Emelt óradíj": "266.00"
                                },
                                {
                                    "Munka azonosítája": "35",
                                    "Eredeti óradíj": "300",
                                    "Emelt óradíj": "351.00"
                                },
                                {
                                    "Munka azonosítája": "36",
                                    "Eredeti óradíj": "300",
                                    "Emelt óradíj": "351.00"
                                },
                                {
                                    "Munka azonosítája": "37",
                                    "Eredeti óradíj": "300",
                                    "Emelt óradíj": "351.00"
                                },
                                {
                                    "Munka azonosítája": "38",
                                    "Eredeti óradíj": "400",
                                    "Emelt óradíj": "468.00"
                                },
                                {
                                    "Munka azonosítája": "39",
                                    "Eredeti óradíj": "400",
                                    "Emelt óradíj": "468.00"
                                },
                                {
                                    "Munka azonosítája": "40",
                                    "Eredeti óradíj": "400",
                                    "Emelt óradíj": "468.00"
                                },
                                {
                                    "Munka azonosítája": "41",
                                    "Eredeti óradíj": "400",
                                    "Emelt óradíj": "468.00"
                                }
                            ]
                        },
                        "text/html": [
                            "<table>",
                            "<tr><th>Munka azonosítája</th><th>Eredeti óradíj</th><th>Emelt óradíj</th></tr>",
                            "<tr><td>1</td><td>400</td><td>468.00</td></tr>",
                            "<tr><td>2</td><td>300</td><td>351.00</td></tr>",
                            "<tr><td>3</td><td>500</td><td>665.00</td></tr>",
                            "<tr><td>4</td><td>350</td><td>410.00</td></tr>",
                            "<tr><td>5</td><td>450</td><td>527.00</td></tr>",
                            "<tr><td>6</td><td>300</td><td>399.00</td></tr>",
                            "<tr><td>7</td><td>400</td><td>468.00</td></tr>",
                            "<tr><td>8</td><td>300</td><td>351.00</td></tr>",
                            "<tr><td>9</td><td>400</td><td>468.00</td></tr>",
                            "<tr><td>10</td><td>400</td><td>468.00</td></tr>",
                            "<tr><td>11</td><td>300</td><td>399.00</td></tr>",
                            "<tr><td>12</td><td>300</td><td>399.00</td></tr>",
                            "<tr><td>13</td><td>400</td><td>468.00</td></tr>",
                            "<tr><td>14</td><td>400</td><td>468.00</td></tr>",
                            "<tr><td>15</td><td>400</td><td>468.00</td></tr>",
                            "<tr><td>16</td><td>450</td><td>527.00</td></tr>",
                            "<tr><td>17</td><td>450</td><td>527.00</td></tr>",
                            "<tr><td>18</td><td>500</td><td>585.00</td></tr>",
                            "<tr><td>19</td><td>500</td><td>585.00</td></tr>",
                            "<tr><td>20</td><td>350</td><td>466.00</td></tr>",
                            "<tr><td>21</td><td>350</td><td>466.00</td></tr>",
                            "<tr><td>22</td><td>400</td><td>468.00</td></tr>",
                            "<tr><td>23</td><td>300</td><td>351.00</td></tr>",
                            "<tr><td>24</td><td>300</td><td>351.00</td></tr>",
                            "<tr><td>25</td><td>250</td><td>333.00</td></tr>",
                            "<tr><td>26</td><td>250</td><td>333.00</td></tr>",
                            "<tr><td>27</td><td>300</td><td>399.00</td></tr>",
                            "<tr><td>28</td><td>300</td><td>399.00</td></tr>",
                            "<tr><td>29</td><td>300</td><td>399.00</td></tr>",
                            "<tr><td>30</td><td>300</td><td>399.00</td></tr>",
                            "<tr><td>31</td><td>200</td><td>266.00</td></tr>",
                            "<tr><td>32</td><td>200</td><td>266.00</td></tr>",
                            "<tr><td>33</td><td>200</td><td>266.00</td></tr>",
                            "<tr><td>34</td><td>200</td><td>266.00</td></tr>",
                            "<tr><td>35</td><td>300</td><td>351.00</td></tr>",
                            "<tr><td>36</td><td>300</td><td>351.00</td></tr>",
                            "<tr><td>37</td><td>300</td><td>351.00</td></tr>",
                            "<tr><td>38</td><td>400</td><td>468.00</td></tr>",
                            "<tr><td>39</td><td>400</td><td>468.00</td></tr>",
                            "<tr><td>40</td><td>400</td><td>468.00</td></tr>",
                            "<tr><td>41</td><td>400</td><td>468.00</td></tr>",
                            "</table>"
                        ]
                    }
                }
            ],
            "execution_count": 13
        },
        {
            "cell_type": "markdown",
            "source": [
                "12. A diákok számára próbaidőt írnak elő, amely a munka kezdetétől számítva 3 hónapig tart.    Jelenítsük meg a munka tábla adatait egy új oszloppal kiegészítve, amelyik a próbaidő    végének dátumát mutatja!  \n",
                "\n",
                "  \n",
                "\n",
                "a.  Az oszlop neve Próbaidő vége legyen! \n",
                "\n",
                "b.  A lista ne tartalmazza azokat a munkákat, ahol a diákok azonosítója nincs megadva!"
            ],
            "metadata": {
                "azdata_cell_guid": "a765e9d6-58b3-4171-872a-78f3118fd6e3"
            },
            "attachments": {}
        },
        {
            "cell_type": "code",
            "source": [
                "SELECT *,\r\n",
                "       DATEADD(month, 3, datum) AS 'Próbaidő vége'\r\n",
                "FROM   munka\r\n",
                "WHERE  DiakAz IS NOT NULL"
            ],
            "metadata": {
                "azdata_cell_guid": "422e8127-b652-4d3a-bfd7-9b1637b5781e",
                "language": "sql"
            },
            "outputs": [
                {
                    "output_type": "display_data",
                    "data": {
                        "text/html": "(31 rows affected)"
                    },
                    "metadata": {}
                },
                {
                    "output_type": "display_data",
                    "data": {
                        "text/html": "Total execution time: 00:00:00.031"
                    },
                    "metadata": {}
                },
                {
                    "output_type": "execute_result",
                    "metadata": {},
                    "execution_count": 14,
                    "data": {
                        "application/vnd.dataresource+json": {
                            "schema": {
                                "fields": [
                                    {
                                        "name": "munkaId"
                                    },
                                    {
                                        "name": "MhelyId"
                                    },
                                    {
                                        "name": "DiakAz"
                                    },
                                    {
                                        "name": "allas"
                                    },
                                    {
                                        "name": "datum"
                                    },
                                    {
                                        "name": "oradij"
                                    },
                                    {
                                        "name": "oraszam"
                                    },
                                    {
                                        "name": "kozepiskolas"
                                    },
                                    {
                                        "name": "Próbaidő vége"
                                    }
                                ]
                            },
                            "data": [
                                {
                                    "munkaId": "1",
                                    "MhelyId": "1",
                                    "DiakAz": "1",
                                    "allas": "kézbesítő",
                                    "datum": "2003-07-02 00:00:00.000",
                                    "oradij": "400",
                                    "oraszam": "4",
                                    "kozepiskolas": "0",
                                    "Próbaidő vége": "2003-10-02 00:00:00.000"
                                },
                                {
                                    "munkaId": "2",
                                    "MhelyId": "1",
                                    "DiakAz": "2",
                                    "allas": "ügyfélszolgálati munkatárs",
                                    "datum": "2003-07-03 00:00:00.000",
                                    "oradij": "300",
                                    "oraszam": "4",
                                    "kozepiskolas": "0",
                                    "Próbaidő vége": "2003-10-03 00:00:00.000"
                                },
                                {
                                    "munkaId": "3",
                                    "MhelyId": "2",
                                    "DiakAz": "1",
                                    "allas": "kisegítő",
                                    "datum": "2003-07-01 00:00:00.000",
                                    "oradij": "500",
                                    "oraszam": "4",
                                    "kozepiskolas": "1",
                                    "Próbaidő vége": "2003-10-01 00:00:00.000"
                                },
                                {
                                    "munkaId": "4",
                                    "MhelyId": "2",
                                    "DiakAz": "2",
                                    "allas": "eladó",
                                    "datum": "2003-07-01 00:00:00.000",
                                    "oradij": "350",
                                    "oraszam": "4",
                                    "kozepiskolas": "0",
                                    "Próbaidő vége": "2003-10-01 00:00:00.000"
                                },
                                {
                                    "munkaId": "5",
                                    "MhelyId": "1",
                                    "DiakAz": "1",
                                    "allas": "kézbesítő",
                                    "datum": "2003-07-03 00:00:00.000",
                                    "oradij": "450",
                                    "oraszam": "6",
                                    "kozepiskolas": "0",
                                    "Próbaidő vége": "2003-10-03 00:00:00.000"
                                },
                                {
                                    "munkaId": "6",
                                    "MhelyId": "1",
                                    "DiakAz": "2",
                                    "allas": "futár",
                                    "datum": "2003-07-06 00:00:00.000",
                                    "oradij": "300",
                                    "oraszam": "5",
                                    "kozepiskolas": "1",
                                    "Próbaidő vége": "2003-10-06 00:00:00.000"
                                },
                                {
                                    "munkaId": "9",
                                    "MhelyId": "9",
                                    "DiakAz": "6",
                                    "allas": "takarító",
                                    "datum": "2003-06-19 00:00:00.000",
                                    "oradij": "400",
                                    "oraszam": "4",
                                    "kozepiskolas": "0",
                                    "Próbaidő vége": "2003-09-19 00:00:00.000"
                                },
                                {
                                    "munkaId": "10",
                                    "MhelyId": "9",
                                    "DiakAz": "6",
                                    "allas": "takarító",
                                    "datum": "2003-06-20 00:00:00.000",
                                    "oradij": "400",
                                    "oraszam": "4",
                                    "kozepiskolas": "0",
                                    "Próbaidő vége": "2003-09-20 00:00:00.000"
                                },
                                {
                                    "munkaId": "11",
                                    "MhelyId": "9",
                                    "DiakAz": "8",
                                    "allas": "kisegítő",
                                    "datum": "2003-06-21 00:00:00.000",
                                    "oradij": "300",
                                    "oraszam": "6",
                                    "kozepiskolas": "1",
                                    "Próbaidő vége": "2003-09-21 00:00:00.000"
                                },
                                {
                                    "munkaId": "12",
                                    "MhelyId": "9",
                                    "DiakAz": "8",
                                    "allas": "kisegítő",
                                    "datum": "2003-06-22 00:00:00.000",
                                    "oradij": "300",
                                    "oraszam": "6",
                                    "kozepiskolas": "1",
                                    "Próbaidő vége": "2003-09-22 00:00:00.000"
                                },
                                {
                                    "munkaId": "13",
                                    "MhelyId": "9",
                                    "DiakAz": "6",
                                    "allas": "takarító",
                                    "datum": "2003-06-23 00:00:00.000",
                                    "oradij": "400",
                                    "oraszam": "4",
                                    "kozepiskolas": "0",
                                    "Próbaidő vége": "2003-09-23 00:00:00.000"
                                },
                                {
                                    "munkaId": "14",
                                    "MhelyId": "6",
                                    "DiakAz": "4",
                                    "allas": "ruhatáros",
                                    "datum": "2003-09-11 00:00:00.000",
                                    "oradij": "400",
                                    "oraszam": "4",
                                    "kozepiskolas": "0",
                                    "Próbaidő vége": "2003-12-11 00:00:00.000"
                                },
                                {
                                    "munkaId": "15",
                                    "MhelyId": "6",
                                    "DiakAz": "7",
                                    "allas": "ruhatáros",
                                    "datum": "2003-09-11 00:00:00.000",
                                    "oradij": "400",
                                    "oraszam": "4",
                                    "kozepiskolas": "0",
                                    "Próbaidő vége": "2003-12-11 00:00:00.000"
                                },
                                {
                                    "munkaId": "16",
                                    "MhelyId": "6",
                                    "DiakAz": "5",
                                    "allas": "pincér",
                                    "datum": "2003-06-11 00:00:00.000",
                                    "oradij": "450",
                                    "oraszam": "6",
                                    "kozepiskolas": "0",
                                    "Próbaidő vége": "2003-09-11 00:00:00.000"
                                },
                                {
                                    "munkaId": "17",
                                    "MhelyId": "6",
                                    "DiakAz": "5",
                                    "allas": "pincér",
                                    "datum": "2003-06-12 00:00:00.000",
                                    "oradij": "450",
                                    "oraszam": "6",
                                    "kozepiskolas": "0",
                                    "Próbaidő vége": "2003-09-12 00:00:00.000"
                                },
                                {
                                    "munkaId": "18",
                                    "MhelyId": "8",
                                    "DiakAz": "9",
                                    "allas": "eladó",
                                    "datum": "2003-07-21 00:00:00.000",
                                    "oradij": "500",
                                    "oraszam": "4",
                                    "kozepiskolas": "0",
                                    "Próbaidő vége": "2003-10-21 00:00:00.000"
                                },
                                {
                                    "munkaId": "19",
                                    "MhelyId": "8",
                                    "DiakAz": "9",
                                    "allas": "eladó",
                                    "datum": "2003-07-22 00:00:00.000",
                                    "oradij": "500",
                                    "oraszam": "4",
                                    "kozepiskolas": "0",
                                    "Próbaidő vége": "2003-10-22 00:00:00.000"
                                },
                                {
                                    "munkaId": "20",
                                    "MhelyId": "8",
                                    "DiakAz": "10",
                                    "allas": "takarító",
                                    "datum": "2003-08-10 00:00:00.000",
                                    "oradij": "350",
                                    "oraszam": "6",
                                    "kozepiskolas": "1",
                                    "Próbaidő vége": "2003-11-10 00:00:00.000"
                                },
                                {
                                    "munkaId": "21",
                                    "MhelyId": "8",
                                    "DiakAz": "10",
                                    "allas": "takarító",
                                    "datum": "2003-08-11 00:00:00.000",
                                    "oradij": "350",
                                    "oraszam": "6",
                                    "kozepiskolas": "1",
                                    "Próbaidő vége": "2003-11-11 00:00:00.000"
                                },
                                {
                                    "munkaId": "22",
                                    "MhelyId": "11",
                                    "DiakAz": "5",
                                    "allas": "eladó",
                                    "datum": "2003-05-10 00:00:00.000",
                                    "oradij": "400",
                                    "oraszam": "4",
                                    "kozepiskolas": "0",
                                    "Próbaidő vége": "2003-08-10 00:00:00.000"
                                },
                                {
                                    "munkaId": "23",
                                    "MhelyId": "11",
                                    "DiakAz": "6",
                                    "allas": "raktáros",
                                    "datum": "2003-05-20 00:00:00.000",
                                    "oradij": "300",
                                    "oraszam": "4",
                                    "kozepiskolas": "0",
                                    "Próbaidő vége": "2003-08-20 00:00:00.000"
                                },
                                {
                                    "munkaId": "24",
                                    "MhelyId": "11",
                                    "DiakAz": "5",
                                    "allas": "eladó",
                                    "datum": "2003-06-23 00:00:00.000",
                                    "oradij": "300",
                                    "oraszam": "6",
                                    "kozepiskolas": "0",
                                    "Próbaidő vége": "2003-09-23 00:00:00.000"
                                },
                                {
                                    "munkaId": "27",
                                    "MhelyId": "10",
                                    "DiakAz": "3",
                                    "allas": "takarító",
                                    "datum": "2003-07-31 00:00:00.000",
                                    "oradij": "300",
                                    "oraszam": "4",
                                    "kozepiskolas": "1",
                                    "Próbaidő vége": "2003-10-31 00:00:00.000"
                                },
                                {
                                    "munkaId": "28",
                                    "MhelyId": "10",
                                    "DiakAz": "3",
                                    "allas": "takarító",
                                    "datum": "2003-08-01 00:00:00.000",
                                    "oradij": "300",
                                    "oraszam": "4",
                                    "kozepiskolas": "1",
                                    "Próbaidő vége": "2003-11-01 00:00:00.000"
                                },
                                {
                                    "munkaId": "29",
                                    "MhelyId": "10",
                                    "DiakAz": "8",
                                    "allas": "eladó",
                                    "datum": "2003-09-12 00:00:00.000",
                                    "oradij": "300",
                                    "oraszam": "6",
                                    "kozepiskolas": "1",
                                    "Próbaidő vége": "2003-12-12 00:00:00.000"
                                },
                                {
                                    "munkaId": "30",
                                    "MhelyId": "10",
                                    "DiakAz": "8",
                                    "allas": "eladó",
                                    "datum": "2003-09-13 00:00:00.000",
                                    "oradij": "300",
                                    "oraszam": "6",
                                    "kozepiskolas": "1",
                                    "Próbaidő vége": "2003-12-13 00:00:00.000"
                                },
                                {
                                    "munkaId": "31",
                                    "MhelyId": "7",
                                    "DiakAz": "8",
                                    "allas": "ruhatáros",
                                    "datum": "2003-08-20 00:00:00.000",
                                    "oradij": "200",
                                    "oraszam": "4",
                                    "kozepiskolas": "1",
                                    "Próbaidő vége": "2003-11-20 00:00:00.000"
                                },
                                {
                                    "munkaId": "32",
                                    "MhelyId": "7",
                                    "DiakAz": "8",
                                    "allas": "ruhatáros",
                                    "datum": "2003-08-21 00:00:00.000",
                                    "oradij": "200",
                                    "oraszam": "4",
                                    "kozepiskolas": "1",
                                    "Próbaidő vége": "2003-11-21 00:00:00.000"
                                },
                                {
                                    "munkaId": "38",
                                    "MhelyId": "5",
                                    "DiakAz": "7",
                                    "allas": "eladó",
                                    "datum": "2003-06-05 00:00:00.000",
                                    "oradij": "400",
                                    "oraszam": "4",
                                    "kozepiskolas": "0",
                                    "Próbaidő vége": "2003-09-05 00:00:00.000"
                                },
                                {
                                    "munkaId": "39",
                                    "MhelyId": "5",
                                    "DiakAz": "7",
                                    "allas": "eladó",
                                    "datum": "2003-06-06 00:00:00.000",
                                    "oradij": "400",
                                    "oraszam": "4",
                                    "kozepiskolas": "0",
                                    "Próbaidő vége": "2003-09-06 00:00:00.000"
                                },
                                {
                                    "munkaId": "40",
                                    "MhelyId": "5",
                                    "DiakAz": "7",
                                    "allas": "eladó",
                                    "datum": "2003-06-07 00:00:00.000",
                                    "oradij": "400",
                                    "oraszam": "4",
                                    "kozepiskolas": "0",
                                    "Próbaidő vége": "2003-09-07 00:00:00.000"
                                }
                            ]
                        },
                        "text/html": [
                            "<table>",
                            "<tr><th>munkaId</th><th>MhelyId</th><th>DiakAz</th><th>allas</th><th>datum</th><th>oradij</th><th>oraszam</th><th>kozepiskolas</th><th>Próbaidő vége</th></tr>",
                            "<tr><td>1</td><td>1</td><td>1</td><td>kézbesítő</td><td>2003-07-02 00:00:00.000</td><td>400</td><td>4</td><td>0</td><td>2003-10-02 00:00:00.000</td></tr>",
                            "<tr><td>2</td><td>1</td><td>2</td><td>ügyfélszolgálati munkatárs</td><td>2003-07-03 00:00:00.000</td><td>300</td><td>4</td><td>0</td><td>2003-10-03 00:00:00.000</td></tr>",
                            "<tr><td>3</td><td>2</td><td>1</td><td>kisegítő</td><td>2003-07-01 00:00:00.000</td><td>500</td><td>4</td><td>1</td><td>2003-10-01 00:00:00.000</td></tr>",
                            "<tr><td>4</td><td>2</td><td>2</td><td>eladó</td><td>2003-07-01 00:00:00.000</td><td>350</td><td>4</td><td>0</td><td>2003-10-01 00:00:00.000</td></tr>",
                            "<tr><td>5</td><td>1</td><td>1</td><td>kézbesítő</td><td>2003-07-03 00:00:00.000</td><td>450</td><td>6</td><td>0</td><td>2003-10-03 00:00:00.000</td></tr>",
                            "<tr><td>6</td><td>1</td><td>2</td><td>futár</td><td>2003-07-06 00:00:00.000</td><td>300</td><td>5</td><td>1</td><td>2003-10-06 00:00:00.000</td></tr>",
                            "<tr><td>9</td><td>9</td><td>6</td><td>takarító</td><td>2003-06-19 00:00:00.000</td><td>400</td><td>4</td><td>0</td><td>2003-09-19 00:00:00.000</td></tr>",
                            "<tr><td>10</td><td>9</td><td>6</td><td>takarító</td><td>2003-06-20 00:00:00.000</td><td>400</td><td>4</td><td>0</td><td>2003-09-20 00:00:00.000</td></tr>",
                            "<tr><td>11</td><td>9</td><td>8</td><td>kisegítő</td><td>2003-06-21 00:00:00.000</td><td>300</td><td>6</td><td>1</td><td>2003-09-21 00:00:00.000</td></tr>",
                            "<tr><td>12</td><td>9</td><td>8</td><td>kisegítő</td><td>2003-06-22 00:00:00.000</td><td>300</td><td>6</td><td>1</td><td>2003-09-22 00:00:00.000</td></tr>",
                            "<tr><td>13</td><td>9</td><td>6</td><td>takarító</td><td>2003-06-23 00:00:00.000</td><td>400</td><td>4</td><td>0</td><td>2003-09-23 00:00:00.000</td></tr>",
                            "<tr><td>14</td><td>6</td><td>4</td><td>ruhatáros</td><td>2003-09-11 00:00:00.000</td><td>400</td><td>4</td><td>0</td><td>2003-12-11 00:00:00.000</td></tr>",
                            "<tr><td>15</td><td>6</td><td>7</td><td>ruhatáros</td><td>2003-09-11 00:00:00.000</td><td>400</td><td>4</td><td>0</td><td>2003-12-11 00:00:00.000</td></tr>",
                            "<tr><td>16</td><td>6</td><td>5</td><td>pincér</td><td>2003-06-11 00:00:00.000</td><td>450</td><td>6</td><td>0</td><td>2003-09-11 00:00:00.000</td></tr>",
                            "<tr><td>17</td><td>6</td><td>5</td><td>pincér</td><td>2003-06-12 00:00:00.000</td><td>450</td><td>6</td><td>0</td><td>2003-09-12 00:00:00.000</td></tr>",
                            "<tr><td>18</td><td>8</td><td>9</td><td>eladó</td><td>2003-07-21 00:00:00.000</td><td>500</td><td>4</td><td>0</td><td>2003-10-21 00:00:00.000</td></tr>",
                            "<tr><td>19</td><td>8</td><td>9</td><td>eladó</td><td>2003-07-22 00:00:00.000</td><td>500</td><td>4</td><td>0</td><td>2003-10-22 00:00:00.000</td></tr>",
                            "<tr><td>20</td><td>8</td><td>10</td><td>takarító</td><td>2003-08-10 00:00:00.000</td><td>350</td><td>6</td><td>1</td><td>2003-11-10 00:00:00.000</td></tr>",
                            "<tr><td>21</td><td>8</td><td>10</td><td>takarító</td><td>2003-08-11 00:00:00.000</td><td>350</td><td>6</td><td>1</td><td>2003-11-11 00:00:00.000</td></tr>",
                            "<tr><td>22</td><td>11</td><td>5</td><td>eladó</td><td>2003-05-10 00:00:00.000</td><td>400</td><td>4</td><td>0</td><td>2003-08-10 00:00:00.000</td></tr>",
                            "<tr><td>23</td><td>11</td><td>6</td><td>raktáros</td><td>2003-05-20 00:00:00.000</td><td>300</td><td>4</td><td>0</td><td>2003-08-20 00:00:00.000</td></tr>",
                            "<tr><td>24</td><td>11</td><td>5</td><td>eladó</td><td>2003-06-23 00:00:00.000</td><td>300</td><td>6</td><td>0</td><td>2003-09-23 00:00:00.000</td></tr>",
                            "<tr><td>27</td><td>10</td><td>3</td><td>takarító</td><td>2003-07-31 00:00:00.000</td><td>300</td><td>4</td><td>1</td><td>2003-10-31 00:00:00.000</td></tr>",
                            "<tr><td>28</td><td>10</td><td>3</td><td>takarító</td><td>2003-08-01 00:00:00.000</td><td>300</td><td>4</td><td>1</td><td>2003-11-01 00:00:00.000</td></tr>",
                            "<tr><td>29</td><td>10</td><td>8</td><td>eladó</td><td>2003-09-12 00:00:00.000</td><td>300</td><td>6</td><td>1</td><td>2003-12-12 00:00:00.000</td></tr>",
                            "<tr><td>30</td><td>10</td><td>8</td><td>eladó</td><td>2003-09-13 00:00:00.000</td><td>300</td><td>6</td><td>1</td><td>2003-12-13 00:00:00.000</td></tr>",
                            "<tr><td>31</td><td>7</td><td>8</td><td>ruhatáros</td><td>2003-08-20 00:00:00.000</td><td>200</td><td>4</td><td>1</td><td>2003-11-20 00:00:00.000</td></tr>",
                            "<tr><td>32</td><td>7</td><td>8</td><td>ruhatáros</td><td>2003-08-21 00:00:00.000</td><td>200</td><td>4</td><td>1</td><td>2003-11-21 00:00:00.000</td></tr>",
                            "<tr><td>38</td><td>5</td><td>7</td><td>eladó</td><td>2003-06-05 00:00:00.000</td><td>400</td><td>4</td><td>0</td><td>2003-09-05 00:00:00.000</td></tr>",
                            "<tr><td>39</td><td>5</td><td>7</td><td>eladó</td><td>2003-06-06 00:00:00.000</td><td>400</td><td>4</td><td>0</td><td>2003-09-06 00:00:00.000</td></tr>",
                            "<tr><td>40</td><td>5</td><td>7</td><td>eladó</td><td>2003-06-07 00:00:00.000</td><td>400</td><td>4</td><td>0</td><td>2003-09-07 00:00:00.000</td></tr>",
                            "</table>"
                        ]
                    }
                }
            ],
            "execution_count": 14
        },
        {
            "cell_type": "markdown",
            "source": [
                "13. Készítsünk listát a munkák azonosítóiról és a megnevezésükről! A megnevezés allas-óraszám formában jelenjen meg, pl: eladó-4. \n",
                "\n",
                "  \n",
                "\n",
                "a.  Jelenítsük meg a dátumot is, de csak a évet és a hónapot, pl: 2003-07! \n",
                "\n",
                "b.  Ennek az oszlopnak 'Kezdés hónapja' legyen a neve! A listát szűrjük a nyári hónapokra!"
            ],
            "metadata": {
                "azdata_cell_guid": "3f9237ae-f109-401c-acb9-31d75e73331b"
            },
            "attachments": {}
        },
        {
            "cell_type": "code",
            "source": [
                "SELECT munkaId,\r\n",
                "       allas + '-'+ CAST(oraszam AS varchar(1)) AS 'Megnevezés',\r\n",
                "       LEFT(CAST(datum AS date), 7) AS 'Kezdés hónapja'\r\n",
                "FROM munka\r\n",
                "WHERE MONTH(datum) IN (6, 7, 8)"
            ],
            "metadata": {
                "azdata_cell_guid": "4b31bb89-cfbc-46b1-8639-85c462877786",
                "language": "sql"
            },
            "outputs": [
                {
                    "output_type": "display_data",
                    "data": {
                        "text/html": "(32 rows affected)"
                    },
                    "metadata": {}
                },
                {
                    "output_type": "display_data",
                    "data": {
                        "text/html": "Total execution time: 00:00:00.035"
                    },
                    "metadata": {}
                },
                {
                    "output_type": "execute_result",
                    "metadata": {},
                    "execution_count": 15,
                    "data": {
                        "application/vnd.dataresource+json": {
                            "schema": {
                                "fields": [
                                    {
                                        "name": "munkaId"
                                    },
                                    {
                                        "name": "Megnevezés"
                                    },
                                    {
                                        "name": "Kezdés hónapja"
                                    }
                                ]
                            },
                            "data": [
                                {
                                    "munkaId": "1",
                                    "Megnevezés": "kézbesítő-4",
                                    "Kezdés hónapja": "2003-07"
                                },
                                {
                                    "munkaId": "2",
                                    "Megnevezés": "ügyfélszolgálati munkatárs-4",
                                    "Kezdés hónapja": "2003-07"
                                },
                                {
                                    "munkaId": "3",
                                    "Megnevezés": "kisegítő-4",
                                    "Kezdés hónapja": "2003-07"
                                },
                                {
                                    "munkaId": "4",
                                    "Megnevezés": "eladó-4",
                                    "Kezdés hónapja": "2003-07"
                                },
                                {
                                    "munkaId": "5",
                                    "Megnevezés": "kézbesítő-6",
                                    "Kezdés hónapja": "2003-07"
                                },
                                {
                                    "munkaId": "6",
                                    "Megnevezés": "futár-5",
                                    "Kezdés hónapja": "2003-07"
                                },
                                {
                                    "munkaId": "7",
                                    "Megnevezés": "eladó-6",
                                    "Kezdés hónapja": "2003-07"
                                },
                                {
                                    "munkaId": "8",
                                    "Megnevezés": "kisegítő-4",
                                    "Kezdés hónapja": "2003-06"
                                },
                                {
                                    "munkaId": "9",
                                    "Megnevezés": "takarító-4",
                                    "Kezdés hónapja": "2003-06"
                                },
                                {
                                    "munkaId": "10",
                                    "Megnevezés": "takarító-4",
                                    "Kezdés hónapja": "2003-06"
                                },
                                {
                                    "munkaId": "11",
                                    "Megnevezés": "kisegítő-6",
                                    "Kezdés hónapja": "2003-06"
                                },
                                {
                                    "munkaId": "12",
                                    "Megnevezés": "kisegítő-6",
                                    "Kezdés hónapja": "2003-06"
                                },
                                {
                                    "munkaId": "13",
                                    "Megnevezés": "takarító-4",
                                    "Kezdés hónapja": "2003-06"
                                },
                                {
                                    "munkaId": "16",
                                    "Megnevezés": "pincér-6",
                                    "Kezdés hónapja": "2003-06"
                                },
                                {
                                    "munkaId": "17",
                                    "Megnevezés": "pincér-6",
                                    "Kezdés hónapja": "2003-06"
                                },
                                {
                                    "munkaId": "18",
                                    "Megnevezés": "eladó-4",
                                    "Kezdés hónapja": "2003-07"
                                },
                                {
                                    "munkaId": "19",
                                    "Megnevezés": "eladó-4",
                                    "Kezdés hónapja": "2003-07"
                                },
                                {
                                    "munkaId": "20",
                                    "Megnevezés": "takarító-6",
                                    "Kezdés hónapja": "2003-08"
                                },
                                {
                                    "munkaId": "21",
                                    "Megnevezés": "takarító-6",
                                    "Kezdés hónapja": "2003-08"
                                },
                                {
                                    "munkaId": "24",
                                    "Megnevezés": "eladó-6",
                                    "Kezdés hónapja": "2003-06"
                                },
                                {
                                    "munkaId": "25",
                                    "Megnevezés": "takarító-4",
                                    "Kezdés hónapja": "2003-07"
                                },
                                {
                                    "munkaId": "26",
                                    "Megnevezés": "takarító-4",
                                    "Kezdés hónapja": "2003-07"
                                },
                                {
                                    "munkaId": "27",
                                    "Megnevezés": "takarító-4",
                                    "Kezdés hónapja": "2003-07"
                                },
                                {
                                    "munkaId": "28",
                                    "Megnevezés": "takarító-4",
                                    "Kezdés hónapja": "2003-08"
                                },
                                {
                                    "munkaId": "31",
                                    "Megnevezés": "ruhatáros-4",
                                    "Kezdés hónapja": "2003-08"
                                },
                                {
                                    "munkaId": "32",
                                    "Megnevezés": "ruhatáros-4",
                                    "Kezdés hónapja": "2003-08"
                                },
                                {
                                    "munkaId": "33",
                                    "Megnevezés": "ruhatáros-4",
                                    "Kezdés hónapja": "2003-08"
                                },
                                {
                                    "munkaId": "34",
                                    "Megnevezés": "ruhatáros-4",
                                    "Kezdés hónapja": "2003-08"
                                },
                                {
                                    "munkaId": "38",
                                    "Megnevezés": "eladó-4",
                                    "Kezdés hónapja": "2003-06"
                                },
                                {
                                    "munkaId": "39",
                                    "Megnevezés": "eladó-4",
                                    "Kezdés hónapja": "2003-06"
                                },
                                {
                                    "munkaId": "40",
                                    "Megnevezés": "eladó-4",
                                    "Kezdés hónapja": "2003-06"
                                },
                                {
                                    "munkaId": "41",
                                    "Megnevezés": "eladó-6",
                                    "Kezdés hónapja": "2003-07"
                                }
                            ]
                        },
                        "text/html": [
                            "<table>",
                            "<tr><th>munkaId</th><th>Megnevezés</th><th>Kezdés hónapja</th></tr>",
                            "<tr><td>1</td><td>kézbesítő-4</td><td>2003-07</td></tr>",
                            "<tr><td>2</td><td>ügyfélszolgálati munkatárs-4</td><td>2003-07</td></tr>",
                            "<tr><td>3</td><td>kisegítő-4</td><td>2003-07</td></tr>",
                            "<tr><td>4</td><td>eladó-4</td><td>2003-07</td></tr>",
                            "<tr><td>5</td><td>kézbesítő-6</td><td>2003-07</td></tr>",
                            "<tr><td>6</td><td>futár-5</td><td>2003-07</td></tr>",
                            "<tr><td>7</td><td>eladó-6</td><td>2003-07</td></tr>",
                            "<tr><td>8</td><td>kisegítő-4</td><td>2003-06</td></tr>",
                            "<tr><td>9</td><td>takarító-4</td><td>2003-06</td></tr>",
                            "<tr><td>10</td><td>takarító-4</td><td>2003-06</td></tr>",
                            "<tr><td>11</td><td>kisegítő-6</td><td>2003-06</td></tr>",
                            "<tr><td>12</td><td>kisegítő-6</td><td>2003-06</td></tr>",
                            "<tr><td>13</td><td>takarító-4</td><td>2003-06</td></tr>",
                            "<tr><td>16</td><td>pincér-6</td><td>2003-06</td></tr>",
                            "<tr><td>17</td><td>pincér-6</td><td>2003-06</td></tr>",
                            "<tr><td>18</td><td>eladó-4</td><td>2003-07</td></tr>",
                            "<tr><td>19</td><td>eladó-4</td><td>2003-07</td></tr>",
                            "<tr><td>20</td><td>takarító-6</td><td>2003-08</td></tr>",
                            "<tr><td>21</td><td>takarító-6</td><td>2003-08</td></tr>",
                            "<tr><td>24</td><td>eladó-6</td><td>2003-06</td></tr>",
                            "<tr><td>25</td><td>takarító-4</td><td>2003-07</td></tr>",
                            "<tr><td>26</td><td>takarító-4</td><td>2003-07</td></tr>",
                            "<tr><td>27</td><td>takarító-4</td><td>2003-07</td></tr>",
                            "<tr><td>28</td><td>takarító-4</td><td>2003-08</td></tr>",
                            "<tr><td>31</td><td>ruhatáros-4</td><td>2003-08</td></tr>",
                            "<tr><td>32</td><td>ruhatáros-4</td><td>2003-08</td></tr>",
                            "<tr><td>33</td><td>ruhatáros-4</td><td>2003-08</td></tr>",
                            "<tr><td>34</td><td>ruhatáros-4</td><td>2003-08</td></tr>",
                            "<tr><td>38</td><td>eladó-4</td><td>2003-06</td></tr>",
                            "<tr><td>39</td><td>eladó-4</td><td>2003-06</td></tr>",
                            "<tr><td>40</td><td>eladó-4</td><td>2003-06</td></tr>",
                            "<tr><td>41</td><td>eladó-6</td><td>2003-07</td></tr>",
                            "</table>"
                        ]
                    }
                }
            ],
            "execution_count": 15
        },
        {
            "cell_type": "markdown",
            "source": [
                "14. Készítsünk listát a diákok adatairól, amely a Nev oszlop helyén a diák monogramját jeleníti meg (keresztnév, illetve vezetéknév első betűje összefűzve). \n",
                "\n",
                "a.  A listát szűrjük 1983.01.01 és 1987.06.01 között született diákokra!"
            ],
            "metadata": {
                "azdata_cell_guid": "f634e09a-85ef-4e70-8ec6-ef355dfddaa7"
            },
            "attachments": {}
        },
        {
            "cell_type": "code",
            "source": [
                "SELECT DiakAz,\r\n",
                "       LEFT(Nev, 1)+LEFT(RIGHT(NEV, LEN(NEV)-CHARINDEX(' ',NEV)),1) AS 'Nev'\r\n",
                "FROM diak\r\n",
                "WHERE Szulido BETWEEN '1983.01.01' AND '1987.06.01'"
            ],
            "metadata": {
                "azdata_cell_guid": "88abc55b-2c78-495b-a72f-3f8f4eb5fe70",
                "language": "sql"
            },
            "outputs": [
                {
                    "output_type": "display_data",
                    "data": {
                        "text/html": "(4 rows affected)"
                    },
                    "metadata": {}
                },
                {
                    "output_type": "display_data",
                    "data": {
                        "text/html": "Total execution time: 00:00:00.038"
                    },
                    "metadata": {}
                },
                {
                    "output_type": "execute_result",
                    "metadata": {},
                    "execution_count": 16,
                    "data": {
                        "application/vnd.dataresource+json": {
                            "schema": {
                                "fields": [
                                    {
                                        "name": "DiakAz"
                                    },
                                    {
                                        "name": "Nev"
                                    }
                                ]
                            },
                            "data": [
                                {
                                    "DiakAz": "3",
                                    "Nev": "KI"
                                },
                                {
                                    "DiakAz": "5",
                                    "Nev": "KP"
                                },
                                {
                                    "DiakAz": "9",
                                    "Nev": "KO"
                                },
                                {
                                    "DiakAz": "10",
                                    "Nev": "KP"
                                }
                            ]
                        },
                        "text/html": [
                            "<table>",
                            "<tr><th>DiakAz</th><th>Nev</th></tr>",
                            "<tr><td>3</td><td>KI</td></tr>",
                            "<tr><td>5</td><td>KP</td></tr>",
                            "<tr><td>9</td><td>KO</td></tr>",
                            "<tr><td>10</td><td>KP</td></tr>",
                            "</table>"
                        ]
                    }
                }
            ],
            "execution_count": 16
        },
        {
            "cell_type": "markdown",
            "source": [
                "15. A diákok a munkakezdés évének utolsó napján bónuszt kapnak, amennyiben az adott évben legalább 6 hónapot dolgoznak. \n",
                "\n",
                "  \n",
                "\n",
                "a.  Jelenítsük meg, hogy az egyes munkák adatait, egy új oszlopban az éves bónusz napját is 'Bónusz dátum' néven! \n",
                "\n",
                "b.  A lista csak a bónuszra jogosultak adatait tartalmazza!"
            ],
            "metadata": {
                "azdata_cell_guid": "4cbf2f0d-a65d-480a-8186-ccdb24498443"
            },
            "attachments": {}
        },
        {
            "cell_type": "code",
            "source": [
                "SELECT *,\r\n",
                "       CAST(CAST(YEAR(datum) AS VARCHAR(4))+'-12-31' AS DATE) \r\n",
                "       AS 'Bónusz dátum'\r\n",
                "FROM munka\r\n",
                "WHERE DATEDIFF(month, datum, CAST(CAST(YEAR(datum) \r\n",
                "      AS VARCHAR(4))+'-12-31' AS DATE))>=6"
            ],
            "metadata": {
                "azdata_cell_guid": "c148aee8-bc85-40bf-b80a-a4898a6c05cb",
                "language": "sql"
            },
            "outputs": [
                {
                    "output_type": "display_data",
                    "data": {
                        "text/html": "(14 rows affected)"
                    },
                    "metadata": {}
                },
                {
                    "output_type": "display_data",
                    "data": {
                        "text/html": "Total execution time: 00:00:00.040"
                    },
                    "metadata": {}
                },
                {
                    "output_type": "execute_result",
                    "metadata": {},
                    "execution_count": 17,
                    "data": {
                        "application/vnd.dataresource+json": {
                            "schema": {
                                "fields": [
                                    {
                                        "name": "munkaId"
                                    },
                                    {
                                        "name": "MhelyId"
                                    },
                                    {
                                        "name": "DiakAz"
                                    },
                                    {
                                        "name": "allas"
                                    },
                                    {
                                        "name": "datum"
                                    },
                                    {
                                        "name": "oradij"
                                    },
                                    {
                                        "name": "oraszam"
                                    },
                                    {
                                        "name": "kozepiskolas"
                                    },
                                    {
                                        "name": "Bónusz dátum"
                                    }
                                ]
                            },
                            "data": [
                                {
                                    "munkaId": "8",
                                    "MhelyId": "9",
                                    "DiakAz": "NULL",
                                    "allas": "kisegítő",
                                    "datum": "2003-06-19 00:00:00.000",
                                    "oradij": "300",
                                    "oraszam": "4",
                                    "kozepiskolas": "0",
                                    "Bónusz dátum": "2003-12-31"
                                },
                                {
                                    "munkaId": "9",
                                    "MhelyId": "9",
                                    "DiakAz": "6",
                                    "allas": "takarító",
                                    "datum": "2003-06-19 00:00:00.000",
                                    "oradij": "400",
                                    "oraszam": "4",
                                    "kozepiskolas": "0",
                                    "Bónusz dátum": "2003-12-31"
                                },
                                {
                                    "munkaId": "10",
                                    "MhelyId": "9",
                                    "DiakAz": "6",
                                    "allas": "takarító",
                                    "datum": "2003-06-20 00:00:00.000",
                                    "oradij": "400",
                                    "oraszam": "4",
                                    "kozepiskolas": "0",
                                    "Bónusz dátum": "2003-12-31"
                                },
                                {
                                    "munkaId": "11",
                                    "MhelyId": "9",
                                    "DiakAz": "8",
                                    "allas": "kisegítő",
                                    "datum": "2003-06-21 00:00:00.000",
                                    "oradij": "300",
                                    "oraszam": "6",
                                    "kozepiskolas": "1",
                                    "Bónusz dátum": "2003-12-31"
                                },
                                {
                                    "munkaId": "12",
                                    "MhelyId": "9",
                                    "DiakAz": "8",
                                    "allas": "kisegítő",
                                    "datum": "2003-06-22 00:00:00.000",
                                    "oradij": "300",
                                    "oraszam": "6",
                                    "kozepiskolas": "1",
                                    "Bónusz dátum": "2003-12-31"
                                },
                                {
                                    "munkaId": "13",
                                    "MhelyId": "9",
                                    "DiakAz": "6",
                                    "allas": "takarító",
                                    "datum": "2003-06-23 00:00:00.000",
                                    "oradij": "400",
                                    "oraszam": "4",
                                    "kozepiskolas": "0",
                                    "Bónusz dátum": "2003-12-31"
                                },
                                {
                                    "munkaId": "16",
                                    "MhelyId": "6",
                                    "DiakAz": "5",
                                    "allas": "pincér",
                                    "datum": "2003-06-11 00:00:00.000",
                                    "oradij": "450",
                                    "oraszam": "6",
                                    "kozepiskolas": "0",
                                    "Bónusz dátum": "2003-12-31"
                                },
                                {
                                    "munkaId": "17",
                                    "MhelyId": "6",
                                    "DiakAz": "5",
                                    "allas": "pincér",
                                    "datum": "2003-06-12 00:00:00.000",
                                    "oradij": "450",
                                    "oraszam": "6",
                                    "kozepiskolas": "0",
                                    "Bónusz dátum": "2003-12-31"
                                },
                                {
                                    "munkaId": "22",
                                    "MhelyId": "11",
                                    "DiakAz": "5",
                                    "allas": "eladó",
                                    "datum": "2003-05-10 00:00:00.000",
                                    "oradij": "400",
                                    "oraszam": "4",
                                    "kozepiskolas": "0",
                                    "Bónusz dátum": "2003-12-31"
                                },
                                {
                                    "munkaId": "23",
                                    "MhelyId": "11",
                                    "DiakAz": "6",
                                    "allas": "raktáros",
                                    "datum": "2003-05-20 00:00:00.000",
                                    "oradij": "300",
                                    "oraszam": "4",
                                    "kozepiskolas": "0",
                                    "Bónusz dátum": "2003-12-31"
                                },
                                {
                                    "munkaId": "24",
                                    "MhelyId": "11",
                                    "DiakAz": "5",
                                    "allas": "eladó",
                                    "datum": "2003-06-23 00:00:00.000",
                                    "oradij": "300",
                                    "oraszam": "6",
                                    "kozepiskolas": "0",
                                    "Bónusz dátum": "2003-12-31"
                                },
                                {
                                    "munkaId": "38",
                                    "MhelyId": "5",
                                    "DiakAz": "7",
                                    "allas": "eladó",
                                    "datum": "2003-06-05 00:00:00.000",
                                    "oradij": "400",
                                    "oraszam": "4",
                                    "kozepiskolas": "0",
                                    "Bónusz dátum": "2003-12-31"
                                },
                                {
                                    "munkaId": "39",
                                    "MhelyId": "5",
                                    "DiakAz": "7",
                                    "allas": "eladó",
                                    "datum": "2003-06-06 00:00:00.000",
                                    "oradij": "400",
                                    "oraszam": "4",
                                    "kozepiskolas": "0",
                                    "Bónusz dátum": "2003-12-31"
                                },
                                {
                                    "munkaId": "40",
                                    "MhelyId": "5",
                                    "DiakAz": "7",
                                    "allas": "eladó",
                                    "datum": "2003-06-07 00:00:00.000",
                                    "oradij": "400",
                                    "oraszam": "4",
                                    "kozepiskolas": "0",
                                    "Bónusz dátum": "2003-12-31"
                                }
                            ]
                        },
                        "text/html": [
                            "<table>",
                            "<tr><th>munkaId</th><th>MhelyId</th><th>DiakAz</th><th>allas</th><th>datum</th><th>oradij</th><th>oraszam</th><th>kozepiskolas</th><th>Bónusz dátum</th></tr>",
                            "<tr><td>8</td><td>9</td><td>NULL</td><td>kisegítő</td><td>2003-06-19 00:00:00.000</td><td>300</td><td>4</td><td>0</td><td>2003-12-31</td></tr>",
                            "<tr><td>9</td><td>9</td><td>6</td><td>takarító</td><td>2003-06-19 00:00:00.000</td><td>400</td><td>4</td><td>0</td><td>2003-12-31</td></tr>",
                            "<tr><td>10</td><td>9</td><td>6</td><td>takarító</td><td>2003-06-20 00:00:00.000</td><td>400</td><td>4</td><td>0</td><td>2003-12-31</td></tr>",
                            "<tr><td>11</td><td>9</td><td>8</td><td>kisegítő</td><td>2003-06-21 00:00:00.000</td><td>300</td><td>6</td><td>1</td><td>2003-12-31</td></tr>",
                            "<tr><td>12</td><td>9</td><td>8</td><td>kisegítő</td><td>2003-06-22 00:00:00.000</td><td>300</td><td>6</td><td>1</td><td>2003-12-31</td></tr>",
                            "<tr><td>13</td><td>9</td><td>6</td><td>takarító</td><td>2003-06-23 00:00:00.000</td><td>400</td><td>4</td><td>0</td><td>2003-12-31</td></tr>",
                            "<tr><td>16</td><td>6</td><td>5</td><td>pincér</td><td>2003-06-11 00:00:00.000</td><td>450</td><td>6</td><td>0</td><td>2003-12-31</td></tr>",
                            "<tr><td>17</td><td>6</td><td>5</td><td>pincér</td><td>2003-06-12 00:00:00.000</td><td>450</td><td>6</td><td>0</td><td>2003-12-31</td></tr>",
                            "<tr><td>22</td><td>11</td><td>5</td><td>eladó</td><td>2003-05-10 00:00:00.000</td><td>400</td><td>4</td><td>0</td><td>2003-12-31</td></tr>",
                            "<tr><td>23</td><td>11</td><td>6</td><td>raktáros</td><td>2003-05-20 00:00:00.000</td><td>300</td><td>4</td><td>0</td><td>2003-12-31</td></tr>",
                            "<tr><td>24</td><td>11</td><td>5</td><td>eladó</td><td>2003-06-23 00:00:00.000</td><td>300</td><td>6</td><td>0</td><td>2003-12-31</td></tr>",
                            "<tr><td>38</td><td>5</td><td>7</td><td>eladó</td><td>2003-06-05 00:00:00.000</td><td>400</td><td>4</td><td>0</td><td>2003-12-31</td></tr>",
                            "<tr><td>39</td><td>5</td><td>7</td><td>eladó</td><td>2003-06-06 00:00:00.000</td><td>400</td><td>4</td><td>0</td><td>2003-12-31</td></tr>",
                            "<tr><td>40</td><td>5</td><td>7</td><td>eladó</td><td>2003-06-07 00:00:00.000</td><td>400</td><td>4</td><td>0</td><td>2003-12-31</td></tr>",
                            "</table>"
                        ]
                    }
                }
            ],
            "execution_count": 17
        }
    ]
}