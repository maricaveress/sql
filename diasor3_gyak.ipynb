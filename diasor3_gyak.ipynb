{
    "metadata": {
        "kernelspec": {
            "name": "SQL",
            "display_name": "SQL",
            "language": "sql"
        },
        "language_info": {
            "name": "sql",
            "version": ""
        }
    },
    "nbformat_minor": 2,
    "nbformat": 4,
    "cells": [
        {
            "cell_type": "markdown",
            "source": [
                "<span style=\"mso-spacerun:'yes';font-size:18pt;font-family:Arial;color:rgb(27,32,61);\">Listázzuk azon órák adatait, amelyek</span>\n",
                "\n",
                "<span style=\"mso-spacerun:'yes';font-size:18.024pt;font-family:Arial;color:rgb(27,32,61);\">az 1-es vagy 2-es sávban vannak!</span>"
            ],
            "metadata": {
                "azdata_cell_guid": "78e8787e-13a3-4b54-a638-1c3827f2e340"
            },
            "attachments": {}
        },
        {
            "cell_type": "code",
            "source": [
                "select *\r\n",
                "from orak\r\n",
                "where sav in (1,2)"
            ],
            "metadata": {
                "azdata_cell_guid": "4c4d509e-bc39-4346-8c4c-9ef54f0d7041",
                "language": "sql"
            },
            "outputs": [
                {
                    "output_type": "display_data",
                    "data": {
                        "text/html": "(21 rows affected)"
                    },
                    "metadata": {}
                },
                {
                    "output_type": "display_data",
                    "data": {
                        "text/html": "Total execution time: 00:00:00.102"
                    },
                    "metadata": {}
                },
                {
                    "output_type": "execute_result",
                    "metadata": {},
                    "execution_count": 1,
                    "data": {
                        "application/vnd.dataresource+json": {
                            "schema": {
                                "fields": [
                                    {
                                        "name": "ora_id"
                                    },
                                    {
                                        "name": "tanar"
                                    },
                                    {
                                        "name": "nap"
                                    },
                                    {
                                        "name": "Sav"
                                    },
                                    {
                                        "name": "targy"
                                    },
                                    {
                                        "name": "terem"
                                    }
                                ]
                            },
                            "data": [
                                {
                                    "ora_id": "159",
                                    "tanar": "4",
                                    "nap": "3",
                                    "Sav": "1",
                                    "targy": "1",
                                    "terem": "1"
                                },
                                {
                                    "ora_id": "161",
                                    "tanar": "8",
                                    "nap": "1",
                                    "Sav": "2",
                                    "targy": "1",
                                    "terem": "2"
                                },
                                {
                                    "ora_id": "163",
                                    "tanar": "3",
                                    "nap": "3",
                                    "Sav": "2",
                                    "targy": "1",
                                    "terem": "4"
                                },
                                {
                                    "ora_id": "169",
                                    "tanar": "20",
                                    "nap": "1",
                                    "Sav": "2",
                                    "targy": "1",
                                    "terem": "6"
                                },
                                {
                                    "ora_id": "170",
                                    "tanar": "104",
                                    "nap": "1",
                                    "Sav": "2",
                                    "targy": "1",
                                    "terem": "4"
                                },
                                {
                                    "ora_id": "171",
                                    "tanar": "14",
                                    "nap": "2",
                                    "Sav": "2",
                                    "targy": "1",
                                    "terem": "8"
                                },
                                {
                                    "ora_id": "172",
                                    "tanar": "7",
                                    "nap": "2",
                                    "Sav": "2",
                                    "targy": "1",
                                    "terem": "3"
                                },
                                {
                                    "ora_id": "181",
                                    "tanar": "2",
                                    "nap": "5",
                                    "Sav": "1",
                                    "targy": "1",
                                    "terem": "2"
                                },
                                {
                                    "ora_id": "182",
                                    "tanar": "111",
                                    "nap": "5",
                                    "Sav": "1",
                                    "targy": "1",
                                    "terem": "7"
                                },
                                {
                                    "ora_id": "183",
                                    "tanar": "2",
                                    "nap": "5",
                                    "Sav": "2",
                                    "targy": "1",
                                    "terem": "8"
                                },
                                {
                                    "ora_id": "184",
                                    "tanar": "111",
                                    "nap": "5",
                                    "Sav": "2",
                                    "targy": "1",
                                    "terem": "6"
                                },
                                {
                                    "ora_id": "187",
                                    "tanar": "5",
                                    "nap": "3",
                                    "Sav": "2",
                                    "targy": "2",
                                    "terem": "5"
                                },
                                {
                                    "ora_id": "189",
                                    "tanar": "9",
                                    "nap": "4",
                                    "Sav": "2",
                                    "targy": "2",
                                    "terem": "13"
                                },
                                {
                                    "ora_id": "197",
                                    "tanar": "9",
                                    "nap": "4",
                                    "Sav": "1",
                                    "targy": "5",
                                    "terem": "16"
                                },
                                {
                                    "ora_id": "198",
                                    "tanar": "9",
                                    "nap": "3",
                                    "Sav": "2",
                                    "targy": "5",
                                    "terem": "3"
                                },
                                {
                                    "ora_id": "199",
                                    "tanar": "300",
                                    "nap": "4",
                                    "Sav": "1",
                                    "targy": "5",
                                    "terem": "6"
                                },
                                {
                                    "ora_id": "200",
                                    "tanar": "300",
                                    "nap": "4",
                                    "Sav": "2",
                                    "targy": "5",
                                    "terem": "8"
                                },
                                {
                                    "ora_id": "206",
                                    "tanar": "12",
                                    "nap": "2",
                                    "Sav": "1",
                                    "targy": "18",
                                    "terem": "10"
                                },
                                {
                                    "ora_id": "208",
                                    "tanar": "10",
                                    "nap": "1",
                                    "Sav": "1",
                                    "targy": "13",
                                    "terem": "13"
                                },
                                {
                                    "ora_id": "209",
                                    "tanar": "10",
                                    "nap": "1",
                                    "Sav": "2",
                                    "targy": "13",
                                    "terem": "13"
                                },
                                {
                                    "ora_id": "223",
                                    "tanar": "1",
                                    "nap": "5",
                                    "Sav": "1",
                                    "targy": "10",
                                    "terem": "10"
                                }
                            ]
                        },
                        "text/html": [
                            "<table>",
                            "<tr><th>ora_id</th><th>tanar</th><th>nap</th><th>Sav</th><th>targy</th><th>terem</th></tr>",
                            "<tr><td>159</td><td>4</td><td>3</td><td>1</td><td>1</td><td>1</td></tr>",
                            "<tr><td>161</td><td>8</td><td>1</td><td>2</td><td>1</td><td>2</td></tr>",
                            "<tr><td>163</td><td>3</td><td>3</td><td>2</td><td>1</td><td>4</td></tr>",
                            "<tr><td>169</td><td>20</td><td>1</td><td>2</td><td>1</td><td>6</td></tr>",
                            "<tr><td>170</td><td>104</td><td>1</td><td>2</td><td>1</td><td>4</td></tr>",
                            "<tr><td>171</td><td>14</td><td>2</td><td>2</td><td>1</td><td>8</td></tr>",
                            "<tr><td>172</td><td>7</td><td>2</td><td>2</td><td>1</td><td>3</td></tr>",
                            "<tr><td>181</td><td>2</td><td>5</td><td>1</td><td>1</td><td>2</td></tr>",
                            "<tr><td>182</td><td>111</td><td>5</td><td>1</td><td>1</td><td>7</td></tr>",
                            "<tr><td>183</td><td>2</td><td>5</td><td>2</td><td>1</td><td>8</td></tr>",
                            "<tr><td>184</td><td>111</td><td>5</td><td>2</td><td>1</td><td>6</td></tr>",
                            "<tr><td>187</td><td>5</td><td>3</td><td>2</td><td>2</td><td>5</td></tr>",
                            "<tr><td>189</td><td>9</td><td>4</td><td>2</td><td>2</td><td>13</td></tr>",
                            "<tr><td>197</td><td>9</td><td>4</td><td>1</td><td>5</td><td>16</td></tr>",
                            "<tr><td>198</td><td>9</td><td>3</td><td>2</td><td>5</td><td>3</td></tr>",
                            "<tr><td>199</td><td>300</td><td>4</td><td>1</td><td>5</td><td>6</td></tr>",
                            "<tr><td>200</td><td>300</td><td>4</td><td>2</td><td>5</td><td>8</td></tr>",
                            "<tr><td>206</td><td>12</td><td>2</td><td>1</td><td>18</td><td>10</td></tr>",
                            "<tr><td>208</td><td>10</td><td>1</td><td>1</td><td>13</td><td>13</td></tr>",
                            "<tr><td>209</td><td>10</td><td>1</td><td>2</td><td>13</td><td>13</td></tr>",
                            "<tr><td>223</td><td>1</td><td>5</td><td>1</td><td>10</td><td>10</td></tr>",
                            "</table>"
                        ]
                    }
                }
            ],
            "execution_count": 1
        },
        {
            "cell_type": "markdown",
            "source": [
                "<span style=\"mso-spacerun:'yes';font-size:18pt;font-family:Arial;color:rgb(27,32,61);\">Listázzuk azon oktatók adatait, akik beosztása óraadó vagy van</span>\n",
                "\n",
                "<span style=\"mso-spacerun:'yes';font-size:18.024pt;font-family:Arial;color:rgb(27,32,61);\">órájuk a 219-es teremben! Az eredménylista tartalmazza az</span>\n",
                "\n",
                "<span style=\"mso-spacerun:'yes';font-size:18pt;font-family:Arial;color:rgb(27,32,61);\">esetlegesen duplikált sorokat is!</span>"
            ],
            "metadata": {
                "azdata_cell_guid": "0574b6c3-4399-44e4-9c2c-c9fe0a1b8d64"
            },
            "attachments": {}
        },
        {
            "cell_type": "code",
            "source": [
                "select okt.*\r\n",
                "from oktatok okt\r\n",
                "join Beosztasok b on okt.beosztás = b.beosztas_id\r\n",
                "where b.beosztasnev = 'Óraadó'\r\n",
                "union ALL\r\n",
                "select okt.*\r\n",
                "from oktatok okt\r\n",
                "join orak o on okt.oktato_id = o.tanar\r\n",
                "join Termek t on o.terem = t.Tkód\r\n",
                "where t.terem = '219'"
            ],
            "metadata": {
                "azdata_cell_guid": "2aab3a81-662e-41c7-a979-1494cd77ca3b",
                "language": "sql"
            },
            "outputs": [
                {
                    "output_type": "display_data",
                    "data": {
                        "text/html": "(14 rows affected)"
                    },
                    "metadata": {}
                },
                {
                    "output_type": "display_data",
                    "data": {
                        "text/html": "Total execution time: 00:00:00.057"
                    },
                    "metadata": {}
                },
                {
                    "output_type": "execute_result",
                    "metadata": {},
                    "execution_count": 2,
                    "data": {
                        "application/vnd.dataresource+json": {
                            "schema": {
                                "fields": [
                                    {
                                        "name": "oktato_id"
                                    },
                                    {
                                        "name": "nev"
                                    },
                                    {
                                        "name": "titulus"
                                    },
                                    {
                                        "name": "beosztás"
                                    },
                                    {
                                        "name": "status"
                                    }
                                ]
                            },
                            "data": [
                                {
                                    "oktato_id": "18",
                                    "nev": "Nógrádi Kata",
                                    "titulus": "NULL",
                                    "beosztás": "1",
                                    "status": "1"
                                },
                                {
                                    "oktato_id": "19",
                                    "nev": "Rácz András",
                                    "titulus": "NULL",
                                    "beosztás": "1",
                                    "status": "1"
                                },
                                {
                                    "oktato_id": "20",
                                    "nev": "Kovács András",
                                    "titulus": "NULL",
                                    "beosztás": "1",
                                    "status": "1"
                                },
                                {
                                    "oktato_id": "104",
                                    "nev": "Ludas Mátyás",
                                    "titulus": "NULL",
                                    "beosztás": "1",
                                    "status": "1"
                                },
                                {
                                    "oktato_id": "105",
                                    "nev": "Kiss István",
                                    "titulus": "NULL",
                                    "beosztás": "1",
                                    "status": "2"
                                },
                                {
                                    "oktato_id": "107",
                                    "nev": "Mészáros Kriszta",
                                    "titulus": "NULL",
                                    "beosztás": "1",
                                    "status": "2"
                                },
                                {
                                    "oktato_id": "200",
                                    "nev": "Aranyi Mária",
                                    "titulus": "NULL",
                                    "beosztás": "1",
                                    "status": "1"
                                },
                                {
                                    "oktato_id": "300",
                                    "nev": "Szabó Andrera",
                                    "titulus": "NULL",
                                    "beosztás": "1",
                                    "status": "1"
                                },
                                {
                                    "oktato_id": "104",
                                    "nev": "Ludas Mátyás",
                                    "titulus": "NULL",
                                    "beosztás": "1",
                                    "status": "1"
                                },
                                {
                                    "oktato_id": "111",
                                    "nev": "Vitéz János",
                                    "titulus": "NULL",
                                    "beosztás": "2",
                                    "status": "1"
                                },
                                {
                                    "oktato_id": "18",
                                    "nev": "Nógrádi Kata",
                                    "titulus": "NULL",
                                    "beosztás": "1",
                                    "status": "1"
                                },
                                {
                                    "oktato_id": "12",
                                    "nev": "Varga Kata",
                                    "titulus": "Dr.",
                                    "beosztás": "4",
                                    "status": "1"
                                },
                                {
                                    "oktato_id": "8",
                                    "nev": "Pelikán József",
                                    "titulus": "NULL",
                                    "beosztás": "2",
                                    "status": "3"
                                },
                                {
                                    "oktato_id": "8",
                                    "nev": "Pelikán József",
                                    "titulus": "NULL",
                                    "beosztás": "2",
                                    "status": "3"
                                }
                            ]
                        },
                        "text/html": [
                            "<table>",
                            "<tr><th>oktato_id</th><th>nev</th><th>titulus</th><th>beosztás</th><th>status</th></tr>",
                            "<tr><td>18</td><td>Nógrádi Kata</td><td>NULL</td><td>1</td><td>1</td></tr>",
                            "<tr><td>19</td><td>Rácz András</td><td>NULL</td><td>1</td><td>1</td></tr>",
                            "<tr><td>20</td><td>Kovács András</td><td>NULL</td><td>1</td><td>1</td></tr>",
                            "<tr><td>104</td><td>Ludas Mátyás</td><td>NULL</td><td>1</td><td>1</td></tr>",
                            "<tr><td>105</td><td>Kiss István</td><td>NULL</td><td>1</td><td>2</td></tr>",
                            "<tr><td>107</td><td>Mészáros Kriszta</td><td>NULL</td><td>1</td><td>2</td></tr>",
                            "<tr><td>200</td><td>Aranyi Mária</td><td>NULL</td><td>1</td><td>1</td></tr>",
                            "<tr><td>300</td><td>Szabó Andrera</td><td>NULL</td><td>1</td><td>1</td></tr>",
                            "<tr><td>104</td><td>Ludas Mátyás</td><td>NULL</td><td>1</td><td>1</td></tr>",
                            "<tr><td>111</td><td>Vitéz János</td><td>NULL</td><td>2</td><td>1</td></tr>",
                            "<tr><td>18</td><td>Nógrádi Kata</td><td>NULL</td><td>1</td><td>1</td></tr>",
                            "<tr><td>12</td><td>Varga Kata</td><td>Dr.</td><td>4</td><td>1</td></tr>",
                            "<tr><td>8</td><td>Pelikán József</td><td>NULL</td><td>2</td><td>3</td></tr>",
                            "<tr><td>8</td><td>Pelikán József</td><td>NULL</td><td>2</td><td>3</td></tr>",
                            "</table>"
                        ]
                    }
                }
            ],
            "execution_count": 2
        },
        {
            "cell_type": "markdown",
            "source": [
                "<span style=\"mso-spacerun:'yes';font-size:18pt;font-family:Arial;color:rgb(27,32,61);\">Vannak-e olyan tanárok, akiknek nincs órájuk?</span>\n",
                "\n",
                "<span style=\"mso-spacerun:'yes';font-size:18.024pt;font-family:Arial;color:rgb(27,32,61);\">Adjuk meg az illető tanárok azonosítóját és</span>\n",
                "\n",
                "<span style=\"mso-spacerun:'yes';font-size:18pt;font-family:Arial;color:rgb(27,32,61);\">nevét! A listát rendezzük név szerint csökkenő</span>\n",
                "\n",
                "<span style=\"mso-spacerun:'yes';font-size:18pt;font-family:Arial;color:rgb(27,32,61);\">sorrendbe!</span>"
            ],
            "metadata": {
                "azdata_cell_guid": "c4d637ba-c122-4fff-931d-91b76b3e043d"
            },
            "attachments": {}
        },
        {
            "cell_type": "code",
            "source": [
                "select oktato_id,\r\n",
                "nev as 'név'\r\n",
                "from oktatok\r\n",
                "EXCEPT\r\n",
                "select distinct okt.oktato_id, okt.nev\r\n",
                "from orak o\r\n",
                "join oktatok okt on o.tanar = okt.oktato_id\r\n",
                "order by név desc"
            ],
            "metadata": {
                "azdata_cell_guid": "2fb6dfbd-f1bb-48d5-b2b8-8008278fc3ed",
                "language": "sql"
            },
            "outputs": [
                {
                    "output_type": "display_data",
                    "data": {
                        "text/html": "(5 rows affected)"
                    },
                    "metadata": {}
                },
                {
                    "output_type": "display_data",
                    "data": {
                        "text/html": "Total execution time: 00:00:00.214"
                    },
                    "metadata": {}
                },
                {
                    "output_type": "execute_result",
                    "metadata": {},
                    "execution_count": 4,
                    "data": {
                        "application/vnd.dataresource+json": {
                            "schema": {
                                "fields": [
                                    {
                                        "name": "oktato_id"
                                    },
                                    {
                                        "name": "név"
                                    }
                                ]
                            },
                            "data": [
                                {
                                    "oktato_id": "19",
                                    "név": "Rácz András"
                                },
                                {
                                    "oktato_id": "107",
                                    "név": "Mészáros Kriszta"
                                },
                                {
                                    "oktato_id": "302",
                                    "név": "Kovacs Istvan"
                                },
                                {
                                    "oktato_id": "105",
                                    "név": "Kiss István"
                                },
                                {
                                    "oktato_id": "11",
                                    "név": "Józsa Gábor"
                                }
                            ]
                        },
                        "text/html": [
                            "<table>",
                            "<tr><th>oktato_id</th><th>név</th></tr>",
                            "<tr><td>19</td><td>Rácz András</td></tr>",
                            "<tr><td>107</td><td>Mészáros Kriszta</td></tr>",
                            "<tr><td>302</td><td>Kovacs Istvan</td></tr>",
                            "<tr><td>105</td><td>Kiss István</td></tr>",
                            "<tr><td>11</td><td>Józsa Gábor</td></tr>",
                            "</table>"
                        ]
                    }
                }
            ],
            "execution_count": 4
        },
        {
            "cell_type": "markdown",
            "source": [
                "<span style=\"mso-spacerun:'yes';font-size:18pt;font-family:Arial;color:rgb(27,32,61);\">Listázzuk azon tantárgy(ak) azonosítóit, amely(ek)ből</span>\n",
                "\n",
                "<span style=\"mso-spacerun:'yes';font-size:18pt;font-family:Arial;color:rgb(27,32,61);\">nincs egyetlen óra sem! Az eredménylista oszlopát</span>\n",
                "\n",
                "<span style=\"mso-spacerun:'yes';font-size:18pt;font-family:Arial;color:rgb(27,32,61);\">nevezzük el „Nem tanított tantárgyak”-nak!&nbsp;</span>"
            ],
            "metadata": {
                "azdata_cell_guid": "53108abd-aa8e-4b4c-bbdd-9995c5962d31"
            },
            "attachments": {}
        },
        {
            "cell_type": "code",
            "source": [
                "SELECT tkód as 'nem tanított tárgyak'\r\n",
                "from Tantárgyak\r\n",
                "EXCEPT\r\n",
                "select distinct targy\r\n",
                "from orak"
            ],
            "metadata": {
                "azdata_cell_guid": "fa2dceb3-780e-4b32-b692-7189d0618c49",
                "language": "sql"
            },
            "outputs": [
                {
                    "output_type": "display_data",
                    "data": {
                        "text/html": "(1 row affected)"
                    },
                    "metadata": {}
                },
                {
                    "output_type": "display_data",
                    "data": {
                        "text/html": "Total execution time: 00:00:00.061"
                    },
                    "metadata": {}
                },
                {
                    "output_type": "execute_result",
                    "metadata": {},
                    "execution_count": 6,
                    "data": {
                        "application/vnd.dataresource+json": {
                            "schema": {
                                "fields": [
                                    {
                                        "name": "nem tanított tárgyak"
                                    }
                                ]
                            },
                            "data": [
                                {
                                    "nem tanított tárgyak": "11"
                                }
                            ]
                        },
                        "text/html": [
                            "<table>",
                            "<tr><th>nem tanított tárgyak</th></tr>",
                            "<tr><td>11</td></tr>",
                            "</table>"
                        ]
                    }
                }
            ],
            "execution_count": 6
        }
    ]
}