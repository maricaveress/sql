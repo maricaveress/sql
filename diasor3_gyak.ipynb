{
    "metadata": {
        "kernelspec": {
            "name": "SQL",
            "display_name": "SQL",
            "language": "sql"
        },
        "language_info": {
            "name": "sql",
            "version": ""
        }
    },
    "nbformat_minor": 2,
    "nbformat": 4,
    "cells": [
        {
            "cell_type": "markdown",
            "source": [
                "<span style=\"mso-spacerun:'yes';font-size:18pt;font-family:Arial;color:rgb(27,32,61);\">Listázzuk azon órák adatait, amelyek</span>\n",
                "\n",
                "<span style=\"mso-spacerun:'yes';font-size:18.024pt;font-family:Arial;color:rgb(27,32,61);\">az 1-es vagy 2-es sávban vannak!</span>"
            ],
            "metadata": {
                "azdata_cell_guid": "78e8787e-13a3-4b54-a638-1c3827f2e340"
            },
            "attachments": {}
        },
        {
            "cell_type": "code",
            "source": [
                "select *\r\n",
                "from orak\r\n",
                "where sav = 1"
            ],
            "metadata": {
                "azdata_cell_guid": "4c4d509e-bc39-4346-8c4c-9ef54f0d7041",
                "language": "sql"
            },
            "outputs": [
{
    "output_type": "error",
    "evalue": "Execution failed due to an unexpected error: \r\n\tConnection is required in order to interact with queries",
    "ename": "",
    "traceback": []
}, {
    "output_type": "display_data",
    "data": {
        "text/html": "Total execution time: 00:00:00"
    },
    "metadata": {}
}
],
            "execution_count": 8
        },
        {
            "cell_type": "markdown",
            "source": [
                "<span style=\"mso-spacerun:'yes';font-size:18pt;font-family:Arial;color:rgb(27,32,61);\">Listázzuk azon oktatók adatait, akik beosztása óraadó vagy van</span>\n",
                "\n",
                "<span style=\"mso-spacerun:'yes';font-size:18.024pt;font-family:Arial;color:rgb(27,32,61);\">órájuk a 219-es teremben! Az eredménylista tartalmazza az</span>\n",
                "\n",
                "<span style=\"mso-spacerun:'yes';font-size:18pt;font-family:Arial;color:rgb(27,32,61);\">esetlegesen duplikált sorokat is!</span>"
            ],
            "metadata": {
                "azdata_cell_guid": "0574b6c3-4399-44e4-9c2c-c9fe0a1b8d64"
            },
            "attachments": {}
        },
        {
            "cell_type": "code",
            "source": [
                ""
            ],
            "metadata": {
                "azdata_cell_guid": "2aab3a81-662e-41c7-a979-1494cd77ca3b",
                "language": "sql"
            },
            "outputs": [],
            "execution_count": null
        },
        {
            "cell_type": "markdown",
            "source": [
                "<span style=\"mso-spacerun:'yes';font-size:18pt;font-family:Arial;color:rgb(27,32,61);\">Vannak-e olyan tanárok, akiknek nincs órájuk?</span>\n",
                "\n",
                "<span style=\"mso-spacerun:'yes';font-size:18.024pt;font-family:Arial;color:rgb(27,32,61);\">Adjuk meg az illető tanárok azonosítóját és</span>\n",
                "\n",
                "<span style=\"mso-spacerun:'yes';font-size:18pt;font-family:Arial;color:rgb(27,32,61);\">nevét! A listát rendezzük név szerint csökkenő</span>\n",
                "\n",
                "<span style=\"mso-spacerun:'yes';font-size:18pt;font-family:Arial;color:rgb(27,32,61);\">sorrendbe!</span>"
            ],
            "metadata": {
                "azdata_cell_guid": "c4d637ba-c122-4fff-931d-91b76b3e043d"
            },
            "attachments": {}
        },
        {
            "cell_type": "code",
            "source": [
                ""
            ],
            "metadata": {
                "azdata_cell_guid": "2fb6dfbd-f1bb-48d5-b2b8-8008278fc3ed",
                "language": "sql"
            },
            "outputs": [],
            "execution_count": null
        },
        {
            "cell_type": "markdown",
            "source": [
                "<span style=\"mso-spacerun:'yes';font-size:18pt;font-family:Arial;color:rgb(27,32,61);\">Listázzuk azon tantárgy(ak) azonosítóit, amely(ek)ből</span>\n",
                "\n",
                "<span style=\"mso-spacerun:'yes';font-size:18pt;font-family:Arial;color:rgb(27,32,61);\">nincs egyetlen óra sem! Az eredménylista oszlopát</span>\n",
                "\n",
                "<span style=\"mso-spacerun:'yes';font-size:18pt;font-family:Arial;color:rgb(27,32,61);\">nevezzük el „Nem tanított tantárgyak”-nak!&nbsp;</span>"
            ],
            "metadata": {
                "azdata_cell_guid": "53108abd-aa8e-4b4c-bbdd-9995c5962d31"
            },
            "attachments": {}
        },
        {
            "cell_type": "code",
            "source": [
                ""
            ],
            "metadata": {
                "azdata_cell_guid": "fa2dceb3-780e-4b32-b692-7189d0618c49",
                "language": "sql"
            },
            "outputs": [],
            "execution_count": null
        }
    ]
}