{
    "metadata": {
        "kernelspec": {
            "name": "SQL",
            "display_name": "SQL",
            "language": "sql"
        },
        "language_info": {
            "name": "sql",
            "version": ""
        }
    },
    "nbformat_minor": 2,
    "nbformat": 4,
    "cells": [
        {
            "cell_type": "markdown",
            "source": [
                "**FELADAT 1:**\n",
                "\n",
                "Listázzuk azon vendégek nevét, email-címét és felhasználói nevét, akik egynél többször foglaltak!\n",
                "\n",
                "- Hagyjuk ki azokat a vendégeket, akik május hónapban születtek!"
            ],
            "metadata": {
                "azdata_cell_guid": "ce0eeacd-bd68-49e8-98bd-32f43ab121e3"
            },
            "attachments": {}
        },
        {
            "cell_type": "code",
            "source": [
                "select v.nev,\r\n",
                "    v.email,\r\n",
                "    v.USERNEV\r\n",
                "FROM Foglalas f JOIN Szoba sz ON f.SZOBA_FK= sz.szoba_id\r\n",
                "                JOIN Szallashely szh ON sz.szallas_fk = szh.szallas_id\r\n",
                "                join vendeg v on v.USERNEV = f.UGYFEL_FK               \r\n",
                "where month(v.SZUL_DAT) != '05'\r\n",
                "group by v.nev, v.email, v.USERNEV\r\n",
                "having count(*)>1"
            ],
            "metadata": {
                "azdata_cell_guid": "608e61b3-94f2-4eb2-9b18-9950cc74a3a8",
                "language": "sql"
            },
            "outputs": [
                {
                    "output_type": "display_data",
                    "data": {
                        "text/html": "(169 rows affected)"
                    },
                    "metadata": {}
                },
                {
                    "output_type": "display_data",
                    "data": {
                        "text/html": "Total execution time: 00:00:00.021"
                    },
                    "metadata": {}
                },
                {
                    "output_type": "execute_result",
                    "metadata": {},
                    "execution_count": 21,
                    "data": {
                        "application/vnd.dataresource+json": {
                            "schema": {
                                "fields": [
                                    {
                                        "name": "nev"
                                    },
                                    {
                                        "name": "email"
                                    },
                                    {
                                        "name": "USERNEV"
                                    }
                                ]
                            },
                            "data": [
                                {
                                    "nev": "Kiss Ádám",
                                    "email": "ádám.kiss@mail.hu",
                                    "USERNEV": "adam1"
                                },
                                {
                                    "nev": "Barkóci Ádám",
                                    "email": "adam3@gmail.com",
                                    "USERNEV": "adam3"
                                },
                                {
                                    "nev": "Bieniek Ádám",
                                    "email": "ádám.bieniek@mail.hu",
                                    "USERNEV": "adam4"
                                },
                                {
                                    "nev": "Lengyel Ágnes",
                                    "email": "agnes@gmail.com",
                                    "USERNEV": "agnes"
                                },
                                {
                                    "nev": "Hartyánszky Ágnes",
                                    "email": "agnes3@gmail.com",
                                    "USERNEV": "agnes3"
                                },
                                {
                                    "nev": "Horváth Ágnes",
                                    "email": "AGNESH@gmail.com",
                                    "USERNEV": "AGNESH"
                                },
                                {
                                    "nev": "Kovács Ágnes",
                                    "email": "AGNESK@gmail.com",
                                    "USERNEV": "AGNESK"
                                },
                                {
                                    "nev": "Bíró Ákos",
                                    "email": "ákos.bíró@mail.hu",
                                    "USERNEV": "akos"
                                },
                                {
                                    "nev": "Dunai Aladár",
                                    "email": "aladár.dunai@mail.hu",
                                    "USERNEV": "aladar"
                                },
                                {
                                    "nev": "Bagóczki Alexandra",
                                    "email": "alexandra.bagóczki@mail.hu",
                                    "USERNEV": "alexandra"
                                },
                                {
                                    "nev": "Tóth András",
                                    "email": "andrás.tóth@mail.hu",
                                    "USERNEV": "andras2"
                                },
                                {
                                    "nev": "Molnár András",
                                    "email": "andrás.molnár@mail.hu",
                                    "USERNEV": "andras21"
                                },
                                {
                                    "nev": "Vígh András",
                                    "email": "andrás.vígh@mail.hu",
                                    "USERNEV": "andras3"
                                },
                                {
                                    "nev": "Back András",
                                    "email": "andras4@gmail.com",
                                    "USERNEV": "andras4"
                                },
                                {
                                    "nev": "Komjáti András",
                                    "email": "andras41@gmail.com",
                                    "USERNEV": "andras41"
                                },
                                {
                                    "nev": "Kiss Andrea",
                                    "email": "andrea.kiss@mail.hu",
                                    "USERNEV": "andrea"
                                },
                                {
                                    "nev": "Tornyos Andrea",
                                    "email": "ANDREAT@gmail.com",
                                    "USERNEV": "ANDREAT"
                                },
                                {
                                    "nev": "Pivarcsi Anett",
                                    "email": "anett.pivarcsi@mail.hu",
                                    "USERNEV": "anett3"
                                },
                                {
                                    "nev": "Tóth Anikó",
                                    "email": "aniko@gmail.com",
                                    "USERNEV": "aniko"
                                },
                                {
                                    "nev": "Böröcz Anikó",
                                    "email": "aniko4@gmail.com",
                                    "USERNEV": "aniko4"
                                },
                                {
                                    "nev": "Simon Anikó",
                                    "email": "ANIKOS@gmail.com",
                                    "USERNEV": "ANIKOS"
                                },
                                {
                                    "nev": "Hamvay-Kovács Anita",
                                    "email": "anita.hamvay-kovács@mail.hu",
                                    "USERNEV": "anita"
                                },
                                {
                                    "nev": "Szűcs Annamária",
                                    "email": "annamária.szűcs@mail.hu",
                                    "USERNEV": "annamaria1"
                                },
                                {
                                    "nev": "Regős Annamária",
                                    "email": "ANNAMARIAR@gmail.com",
                                    "USERNEV": "ANNAMARIAR"
                                },
                                {
                                    "nev": "Jakab Áron",
                                    "email": "aron2@gmail.com",
                                    "USERNEV": "aron2"
                                },
                                {
                                    "nev": "Kelemen Áron",
                                    "email": "áron.kelemen@mail.hu",
                                    "USERNEV": "ARONK"
                                },
                                {
                                    "nev": "Ötvös Árpád",
                                    "email": "árpád.ötvös@mail.hu",
                                    "USERNEV": "arpad2"
                                },
                                {
                                    "nev": "Móricz Árpád",
                                    "email": "árpád.móricz@mail.hu",
                                    "USERNEV": "ARPADM"
                                },
                                {
                                    "nev": "Csóti Attila",
                                    "email": "attila@gmail.com",
                                    "USERNEV": "attila"
                                },
                                {
                                    "nev": "Gulyás Attila",
                                    "email": "attila.gulyás@mail.hu",
                                    "USERNEV": "attila1"
                                },
                                {
                                    "nev": "Baróti Attila",
                                    "email": "attila.baróti@mail.hu",
                                    "USERNEV": "attila4"
                                },
                                {
                                    "nev": "Bozsik Balázs",
                                    "email": "balázs.bozsik@mail.hu",
                                    "USERNEV": "balazs1"
                                },
                                {
                                    "nev": "Szűcs Balázs",
                                    "email": "balázs.szűcs@mail.hu",
                                    "USERNEV": "balazs2"
                                },
                                {
                                    "nev": "Bakódy Balázs",
                                    "email": "balazs3@gmail.com",
                                    "USERNEV": "balazs3"
                                },
                                {
                                    "nev": "Horváth Bálint",
                                    "email": "balint@gmail.com",
                                    "USERNEV": "balint"
                                },
                                {
                                    "nev": "Molnár Bálint",
                                    "email": "balint1@gmail.com",
                                    "USERNEV": "balint1"
                                },
                                {
                                    "nev": "Vukasinovity Bálint",
                                    "email": "balint2@gmail.com",
                                    "USERNEV": "balint2"
                                },
                                {
                                    "nev": "Endresz Bálint",
                                    "email": "bálint.endresz@mail.hu",
                                    "USERNEV": "balu"
                                },
                                {
                                    "nev": "Bagi Beáta",
                                    "email": "beáta.bagi@mail.hu",
                                    "USERNEV": "beata4"
                                },
                                {
                                    "nev": "Kerényi Beatrix",
                                    "email": "beatrix.kerényi@mail.hu",
                                    "USERNEV": "BEATRIXK"
                                },
                                {
                                    "nev": "Szekendi Beatrix",
                                    "email": "beatrix.szekendi@mail.hu",
                                    "USERNEV": "BEATRIXS"
                                },
                                {
                                    "nev": "Farkas Béla",
                                    "email": "BELAF@gmail.com",
                                    "USERNEV": "BELAF"
                                },
                                {
                                    "nev": "Győrffy Bence",
                                    "email": "bence@gmail.com",
                                    "USERNEV": "bence"
                                },
                                {
                                    "nev": "Bajusz Bence",
                                    "email": "bence.bajusz@mail.hu",
                                    "USERNEV": "BENCEB"
                                },
                                {
                                    "nev": "Simon Bernadett",
                                    "email": "bernadett1@gmail.com",
                                    "USERNEV": "bernadett1"
                                },
                                {
                                    "nev": "Kovács Bernadett",
                                    "email": "bernadett.kovács@mail.hu",
                                    "USERNEV": "bernadett2"
                                },
                                {
                                    "nev": "Orbán Bernadett",
                                    "email": "bernadett.orbán@mail.hu",
                                    "USERNEV": "BERNADETTO"
                                },
                                {
                                    "nev": "Csiger Bertalan",
                                    "email": "bertalan@gmail.com",
                                    "USERNEV": "bertalan"
                                },
                                {
                                    "nev": "Székely Brigitta",
                                    "email": "brigitta.székely@mail.hu",
                                    "USERNEV": "brigitta"
                                },
                                {
                                    "nev": "Nagymihály Csongor",
                                    "email": "csongor.nagymihály@mail.hu",
                                    "USERNEV": "csongor3"
                                },
                                {
                                    "nev": "Vörös Dániel",
                                    "email": "daniel@gmail.com",
                                    "USERNEV": "dani"
                                },
                                {
                                    "nev": "Rácz Dániel",
                                    "email": "dániel.rácz@mail.hu",
                                    "USERNEV": "daniel"
                                },
                                {
                                    "nev": "Keszler Dániel",
                                    "email": "dániel.keszler@mail.hu",
                                    "USERNEV": "daniel1"
                                },
                                {
                                    "nev": "Ambrus Dávid",
                                    "email": "david@gmail.com",
                                    "USERNEV": "david"
                                },
                                {
                                    "nev": "Sobják Dávid",
                                    "email": "david1@gmail.com",
                                    "USERNEV": "david1"
                                },
                                {
                                    "nev": "Barna Debóra",
                                    "email": "debóra.barna@mail.hu",
                                    "USERNEV": "debora"
                                },
                                {
                                    "nev": "Tömböly Dénes",
                                    "email": "denes@gmail.com",
                                    "USERNEV": "denes"
                                },
                                {
                                    "nev": "Bittmann Edit",
                                    "email": "edit.bittmann@mail.hu",
                                    "USERNEV": "edit"
                                },
                                {
                                    "nev": "Kuruc Emese",
                                    "email": "emese.kuruc@mail.hu",
                                    "USERNEV": "emese"
                                },
                                {
                                    "nev": "Balogh Eszter",
                                    "email": "eszter.balogh@mail.hu",
                                    "USERNEV": "eszter2"
                                },
                                {
                                    "nev": "Fülöp Eszter",
                                    "email": "eszter.fülöp@mail.hu",
                                    "USERNEV": "eszter4"
                                },
                                {
                                    "nev": "Érsek Eszter",
                                    "email": "eszter.érsek@mail.hu",
                                    "USERNEV": "ESZTERE"
                                },
                                {
                                    "nev": "Enyedi Éva",
                                    "email": "eva@gmail.com",
                                    "USERNEV": "eva"
                                },
                                {
                                    "nev": "Perlinger Éva",
                                    "email": "eva2@gmail.com",
                                    "USERNEV": "eva2"
                                },
                                {
                                    "nev": "Viktor Éva",
                                    "email": "EVAV@gmail.com",
                                    "USERNEV": "EVAV"
                                },
                                {
                                    "nev": "Orosz Ferenc",
                                    "email": "ferenc.orosz@mail.hu",
                                    "USERNEV": "ferenc1"
                                },
                                {
                                    "nev": "Frank Fruzsina",
                                    "email": "fruzsina4@gmail.com",
                                    "USERNEV": "fruzsina4"
                                },
                                {
                                    "nev": "Köves Gábor",
                                    "email": "gabor1@gmail.com",
                                    "USERNEV": "gabor1"
                                },
                                {
                                    "nev": "Telek Gábor",
                                    "email": "gábor.telek@mail.hu",
                                    "USERNEV": "gabor4"
                                },
                                {
                                    "nev": "Nagy Gabriella",
                                    "email": "gabriella1@gmail.com",
                                    "USERNEV": "gabriella1"
                                },
                                {
                                    "nev": "Nyíri Georgij",
                                    "email": "georgij.nyíri@mail.hu",
                                    "USERNEV": "georgij"
                                },
                                {
                                    "nev": "Bárci Gusztáv",
                                    "email": "gusztav@gmail.com",
                                    "USERNEV": "gusztav"
                                },
                                {
                                    "nev": "Kornseé Gyöngyi",
                                    "email": "gyöngyi.kornseé@mail.hu",
                                    "USERNEV": "GYONGYIK"
                                },
                                {
                                    "nev": "Oroszi György",
                                    "email": "GYORGYO@gmail.com",
                                    "USERNEV": "GYORGYO"
                                },
                                {
                                    "nev": "Nádudvari Henrik",
                                    "email": "henrik.nádudvari@mail.hu",
                                    "USERNEV": "henrik3"
                                },
                                {
                                    "nev": "Andor Ibolya",
                                    "email": "ibolya.andor@mail.hu",
                                    "USERNEV": "IBOLYAA"
                                },
                                {
                                    "nev": "Bosnyák Ilona",
                                    "email": "ilona3@gmail.com",
                                    "USERNEV": "ilona3"
                                },
                                {
                                    "nev": "Búza Imre",
                                    "email": "imre.búza@mail.hu",
                                    "USERNEV": "imre"
                                },
                                {
                                    "nev": "Papp Imre",
                                    "email": "imre.papp@mail.hu",
                                    "USERNEV": "imre1"
                                },
                                {
                                    "nev": "Soós István",
                                    "email": "istvan@gmail.com",
                                    "USERNEV": "istvan"
                                },
                                {
                                    "nev": "Vizi István",
                                    "email": "istván.vizi@mail.hu",
                                    "USERNEV": "istvan1"
                                },
                                {
                                    "nev": "Varga István",
                                    "email": "ISTVANV@gmail.com",
                                    "USERNEV": "ISTVANV"
                                },
                                {
                                    "nev": "Harangozó János",
                                    "email": "janos3@gmail.com",
                                    "USERNEV": "janos3"
                                },
                                {
                                    "nev": "Giliga János",
                                    "email": "JANOSG@gmail.com",
                                    "USERNEV": "JANOSG"
                                },
                                {
                                    "nev": "Pálinkás János",
                                    "email": "JANOSP@gmail.com",
                                    "USERNEV": "JANOSP"
                                },
                                {
                                    "nev": "Gergely József",
                                    "email": "jozsef@gmail.com",
                                    "USERNEV": "jozsef"
                                },
                                {
                                    "nev": "Vajda József",
                                    "email": "józsef.vajda@mail.hu",
                                    "USERNEV": "jozsef2"
                                },
                                {
                                    "nev": "Hídasi Judit",
                                    "email": "JUDITH@gmail.com",
                                    "USERNEV": "JUDITH"
                                },
                                {
                                    "nev": "Tóth Júlia",
                                    "email": "julia@gmail.com",
                                    "USERNEV": "julia"
                                },
                                {
                                    "nev": "Nagy Júlia",
                                    "email": "julia4@gmail.com",
                                    "USERNEV": "julia4"
                                },
                                {
                                    "nev": "Szabó Julianna",
                                    "email": "julianna4@gmail.com",
                                    "USERNEV": "julianna4"
                                },
                                {
                                    "nev": "Gondos Katalin",
                                    "email": "katalin.gondos@mail.hu",
                                    "USERNEV": "kata"
                                },
                                {
                                    "nev": "Horváth Katalin",
                                    "email": "katalin.horváth@mail.hu",
                                    "USERNEV": "katalin"
                                },
                                {
                                    "nev": "Kertész Katalin",
                                    "email": "katalin4@gmail.com",
                                    "USERNEV": "katalin4"
                                },
                                {
                                    "nev": "Kovács Katalin",
                                    "email": "katalin.kovács@mail.hu",
                                    "USERNEV": "katka"
                                },
                                {
                                    "nev": "Bakó Klaudia",
                                    "email": "klaudia.bakó@mail.hu",
                                    "USERNEV": "klaudia2"
                                },
                                {
                                    "nev": "Lukács Kornél",
                                    "email": "kornél.lukács@mail.hu",
                                    "USERNEV": "kornel4"
                                },
                                {
                                    "nev": "Poprádi Kristóf",
                                    "email": "kristof4@gmail.com",
                                    "USERNEV": "kristof4"
                                },
                                {
                                    "nev": "Horváth Krisztina",
                                    "email": "kriszti@gmail.com",
                                    "USERNEV": "kriszti"
                                },
                                {
                                    "nev": "Czérna Krisztián",
                                    "email": "krisztián.czérna@mail.hu",
                                    "USERNEV": "krisztian4"
                                },
                                {
                                    "nev": "Bori Krisztina",
                                    "email": "krisztina.bori@mail.hu",
                                    "USERNEV": "krisztina1"
                                },
                                {
                                    "nev": "Gyárfás Krisztina",
                                    "email": "KRISZTINAG@gmail.com",
                                    "USERNEV": "KRISZTINAG"
                                },
                                {
                                    "nev": "Kiss Lajos",
                                    "email": "lajos.kiss@mail.hu",
                                    "USERNEV": "lajos"
                                },
                                {
                                    "nev": "Nagymihály Lajos",
                                    "email": "lajos.nagymihály@mail.hu",
                                    "USERNEV": "lala"
                                },
                                {
                                    "nev": "Móra László",
                                    "email": "lászló.móra@mail.hu",
                                    "USERNEV": "laszlo2"
                                },
                                {
                                    "nev": "Antal László",
                                    "email": "lászló.antal@mail.hu",
                                    "USERNEV": "LASZLOA"
                                },
                                {
                                    "nev": "Nagy László",
                                    "email": "lászló.nagy@mail.hu",
                                    "USERNEV": "LASZLON"
                                },
                                {
                                    "nev": "Baráth Mária",
                                    "email": "mária.baráth@mail.hu",
                                    "USERNEV": "maria1"
                                },
                                {
                                    "nev": "Kispál Márk",
                                    "email": "márk.kispál@mail.hu",
                                    "USERNEV": "mark"
                                },
                                {
                                    "nev": "Horváth Márk",
                                    "email": "márk.horváth@mail.hu",
                                    "USERNEV": "MARKH"
                                },
                                {
                                    "nev": "Kalacsi Márton",
                                    "email": "marton@gmail.com",
                                    "USERNEV": "marton"
                                },
                                {
                                    "nev": "Koza Máté",
                                    "email": "máté.koza@mail.hu",
                                    "USERNEV": "MATEK"
                                },
                                {
                                    "nev": "Botka Mátyás",
                                    "email": "matyas2@gmail.com",
                                    "USERNEV": "matyas2"
                                },
                                {
                                    "nev": "Szilágyi Mátyás",
                                    "email": "mátyás.szilágyi@mail.hu",
                                    "USERNEV": "MATYASS"
                                },
                                {
                                    "nev": "Juhász Mihály",
                                    "email": "mihály.juhász@mail.hu",
                                    "USERNEV": "MIHALYJ"
                                },
                                {
                                    "nev": "Gondos Miklós",
                                    "email": "miklos2@gmail.com",
                                    "USERNEV": "miklos2"
                                },
                                {
                                    "nev": "Balla Miklós",
                                    "email": "miklós.balla@mail.hu",
                                    "USERNEV": "MIKLOSB"
                                },
                                {
                                    "nev": "Mohos Mónika",
                                    "email": "mónika.mohos@mail.hu",
                                    "USERNEV": "MONIKAM"
                                },
                                {
                                    "nev": "Fő Nándor",
                                    "email": "nándor.fő@mail.hu",
                                    "USERNEV": "NANDORF"
                                },
                                {
                                    "nev": "Horváth Nikolett",
                                    "email": "nikolett3@gmail.com",
                                    "USERNEV": "nikolett3"
                                },
                                {
                                    "nev": "Kő Nikoletta",
                                    "email": "nikoletta4@gmail.com",
                                    "USERNEV": "nikoletta4"
                                },
                                {
                                    "nev": "Tatár Nikoletta",
                                    "email": "nikoletta.tatár@mail.hu",
                                    "USERNEV": "NIKOLETTAT"
                                },
                                {
                                    "nev": "Szűcs Norbert",
                                    "email": "norbert@gmail.com",
                                    "USERNEV": "norbert"
                                },
                                {
                                    "nev": "Hegedűs Norbert",
                                    "email": "norbert.hegedűs@mail.hu",
                                    "USERNEV": "norbert2"
                                },
                                {
                                    "nev": "Mile Norbert",
                                    "email": "norbert4@gmail.com",
                                    "USERNEV": "norbert4"
                                },
                                {
                                    "nev": "Béres Norbert",
                                    "email": "norbert5@gmail.com",
                                    "USERNEV": "norbert5"
                                },
                                {
                                    "nev": "Barabás Pál",
                                    "email": "pál.barabás@mail.hu",
                                    "USERNEV": "pal"
                                },
                                {
                                    "nev": "Kozma Péter",
                                    "email": "peter1@gmail.com",
                                    "USERNEV": "peter1"
                                },
                                {
                                    "nev": "Bozsó Péter",
                                    "email": "peter2@gmail.com",
                                    "USERNEV": "peter2"
                                },
                                {
                                    "nev": "Szalai Péter",
                                    "email": "peter3@gmail.com",
                                    "USERNEV": "peter3"
                                },
                                {
                                    "nev": "Bíró Péter",
                                    "email": "péter.bíró@mail.hu",
                                    "USERNEV": "peter4"
                                },
                                {
                                    "nev": "Berendi Péter",
                                    "email": "péter.berendi@mail.hu",
                                    "USERNEV": "PETERB"
                                },
                                {
                                    "nev": "Palágyi Polla",
                                    "email": "polla@gmail.com",
                                    "USERNEV": "polla"
                                },
                                {
                                    "nev": "Rácz Rajmond",
                                    "email": "rajmond.rácz@mail.hu",
                                    "USERNEV": "rajmond4"
                                },
                                {
                                    "nev": "Szikszai Réka",
                                    "email": "réka.szikszai@mail.hu",
                                    "USERNEV": "reka4"
                                },
                                {
                                    "nev": "Szirmai Renáta",
                                    "email": "RENATAS@gmail.com",
                                    "USERNEV": "RENATAS"
                                },
                                {
                                    "nev": "Patay Róbert",
                                    "email": "robert2@gmail.com",
                                    "USERNEV": "robert2"
                                },
                                {
                                    "nev": "Iván Róbert",
                                    "email": "róbert.iván@mail.hu",
                                    "USERNEV": "ROBERTI"
                                },
                                {
                                    "nev": "Tóth Roland",
                                    "email": "roland@gmail.com",
                                    "USERNEV": "roland"
                                },
                                {
                                    "nev": "Ferencz Roland",
                                    "email": "roland.ferencz@mail.hu",
                                    "USERNEV": "roland1"
                                },
                                {
                                    "nev": "Bucskó Róza",
                                    "email": "roza2@gmail.com",
                                    "USERNEV": "roza2"
                                },
                                {
                                    "nev": "Karasz Sándor",
                                    "email": "sandor@gmail.com",
                                    "USERNEV": "sandor"
                                },
                                {
                                    "nev": "Farkas Sándor",
                                    "email": "sándor.farkas@mail.hu",
                                    "USERNEV": "sandor3"
                                },
                                {
                                    "nev": "Nagy Sándor",
                                    "email": "sandor4@gmail.com",
                                    "USERNEV": "sandor4"
                                },
                                {
                                    "nev": "Farkas Sára",
                                    "email": "sára.farkas@mail.hu",
                                    "USERNEV": "sara"
                                },
                                {
                                    "nev": "Foltényi Sebastián",
                                    "email": "SEBASTIANF@gmail.com",
                                    "USERNEV": "SEBASTIANF"
                                },
                                {
                                    "nev": "Rab Sebestyén",
                                    "email": "sebestyen@gmail.com",
                                    "USERNEV": "sebestyen"
                                },
                                {
                                    "nev": "Miklós Szabolcs",
                                    "email": "szabolcs.miklós@mail.hu",
                                    "USERNEV": "SZABOLCSM"
                                },
                                {
                                    "nev": "Szalai Szilárd",
                                    "email": "szilárd.szalai@mail.hu",
                                    "USERNEV": "SZILARDS"
                                },
                                {
                                    "nev": "Tari Szilvia",
                                    "email": "szilvia.tari@mail.hu",
                                    "USERNEV": "szilvia1"
                                },
                                {
                                    "nev": "Miklós Tamara",
                                    "email": "tamara.miklós@mail.hu",
                                    "USERNEV": "tamara2"
                                },
                                {
                                    "nev": "Antal Tamás",
                                    "email": "tamás.antal@mail.hu",
                                    "USERNEV": "tamas"
                                },
                                {
                                    "nev": "Fényes Tamás",
                                    "email": "TAMASF@gmail.com",
                                    "USERNEV": "TAMASF"
                                },
                                {
                                    "nev": "Gombos Tibor",
                                    "email": "tibor.gombos@mail.hu",
                                    "USERNEV": "tibor"
                                },
                                {
                                    "nev": "Kazy Tihamér",
                                    "email": "tihamér.kazy@mail.hu",
                                    "USERNEV": "tihamer"
                                },
                                {
                                    "nev": "Dusha Tímea",
                                    "email": "tímea.dusha@mail.hu",
                                    "USERNEV": "timea2"
                                },
                                {
                                    "nev": "Turcsik Tünde",
                                    "email": "tunde@gmail.com",
                                    "USERNEV": "tunde"
                                },
                                {
                                    "nev": "Feró Valentin",
                                    "email": "valentin.feró@mail.hu",
                                    "USERNEV": "valentin"
                                },
                                {
                                    "nev": "Tankó Veronika",
                                    "email": "veronika4@gmail.com",
                                    "USERNEV": "veronika4"
                                },
                                {
                                    "nev": "Boros Vivien",
                                    "email": "vivien3@gmail.com",
                                    "USERNEV": "vivien3"
                                },
                                {
                                    "nev": "Fodor Zoltán",
                                    "email": "zoltán.fodor@mail.hu",
                                    "USERNEV": "zoltan"
                                },
                                {
                                    "nev": "Pintér Zoltán",
                                    "email": "zoltán.pintér@mail.hu",
                                    "USERNEV": "ZOLTANP"
                                },
                                {
                                    "nev": "Tóth Zoltán",
                                    "email": "zoltán.tóth@mail.hu",
                                    "USERNEV": "ZOLTANT"
                                },
                                {
                                    "nev": "Molnár Zsófi",
                                    "email": "zsofi1@gmail.com",
                                    "USERNEV": "zsofi1"
                                },
                                {
                                    "nev": "Józsa Zsolt",
                                    "email": "ZSOLTJ@gmail.com",
                                    "USERNEV": "ZSOLTJ"
                                },
                                {
                                    "nev": "Pusztai Zsuzsanna",
                                    "email": "zsuzsanna@gmail.com",
                                    "USERNEV": "zsuzsa"
                                },
                                {
                                    "nev": "Varsányi Zsuzsa",
                                    "email": "zsuzsa.varsányi@mail.hu",
                                    "USERNEV": "zsuzsa3"
                                },
                                {
                                    "nev": "Barta Zsuzsanna",
                                    "email": "zsuzsanna.barta@mail.hu",
                                    "USERNEV": "zsuzsanna"
                                },
                                {
                                    "nev": "Vajda Zsuzsa",
                                    "email": "zsuzsa.vajda@mail.hu",
                                    "USERNEV": "ZSUZSAV"
                                }
                            ]
                        },
                        "text/html": [
                            "<table>",
                            "<tr><th>nev</th><th>email</th><th>USERNEV</th></tr>",
                            "<tr><td>Kiss Ádám</td><td>ádám.kiss@mail.hu</td><td>adam1</td></tr>",
                            "<tr><td>Barkóci Ádám</td><td>adam3@gmail.com</td><td>adam3</td></tr>",
                            "<tr><td>Bieniek Ádám</td><td>ádám.bieniek@mail.hu</td><td>adam4</td></tr>",
                            "<tr><td>Lengyel Ágnes</td><td>agnes@gmail.com</td><td>agnes</td></tr>",
                            "<tr><td>Hartyánszky Ágnes</td><td>agnes3@gmail.com</td><td>agnes3</td></tr>",
                            "<tr><td>Horváth Ágnes</td><td>AGNESH@gmail.com</td><td>AGNESH</td></tr>",
                            "<tr><td>Kovács Ágnes</td><td>AGNESK@gmail.com</td><td>AGNESK</td></tr>",
                            "<tr><td>Bíró Ákos</td><td>ákos.bíró@mail.hu</td><td>akos</td></tr>",
                            "<tr><td>Dunai Aladár</td><td>aladár.dunai@mail.hu</td><td>aladar</td></tr>",
                            "<tr><td>Bagóczki Alexandra</td><td>alexandra.bagóczki@mail.hu</td><td>alexandra</td></tr>",
                            "<tr><td>Tóth András</td><td>andrás.tóth@mail.hu</td><td>andras2</td></tr>",
                            "<tr><td>Molnár András</td><td>andrás.molnár@mail.hu</td><td>andras21</td></tr>",
                            "<tr><td>Vígh András</td><td>andrás.vígh@mail.hu</td><td>andras3</td></tr>",
                            "<tr><td>Back András</td><td>andras4@gmail.com</td><td>andras4</td></tr>",
                            "<tr><td>Komjáti András</td><td>andras41@gmail.com</td><td>andras41</td></tr>",
                            "<tr><td>Kiss Andrea</td><td>andrea.kiss@mail.hu</td><td>andrea</td></tr>",
                            "<tr><td>Tornyos Andrea</td><td>ANDREAT@gmail.com</td><td>ANDREAT</td></tr>",
                            "<tr><td>Pivarcsi Anett</td><td>anett.pivarcsi@mail.hu</td><td>anett3</td></tr>",
                            "<tr><td>Tóth Anikó</td><td>aniko@gmail.com</td><td>aniko</td></tr>",
                            "<tr><td>Böröcz Anikó</td><td>aniko4@gmail.com</td><td>aniko4</td></tr>",
                            "<tr><td>Simon Anikó</td><td>ANIKOS@gmail.com</td><td>ANIKOS</td></tr>",
                            "<tr><td>Hamvay-Kovács Anita</td><td>anita.hamvay-kovács@mail.hu</td><td>anita</td></tr>",
                            "<tr><td>Szűcs Annamária</td><td>annamária.szűcs@mail.hu</td><td>annamaria1</td></tr>",
                            "<tr><td>Regős Annamária</td><td>ANNAMARIAR@gmail.com</td><td>ANNAMARIAR</td></tr>",
                            "<tr><td>Jakab Áron</td><td>aron2@gmail.com</td><td>aron2</td></tr>",
                            "<tr><td>Kelemen Áron</td><td>áron.kelemen@mail.hu</td><td>ARONK</td></tr>",
                            "<tr><td>Ötvös Árpád</td><td>árpád.ötvös@mail.hu</td><td>arpad2</td></tr>",
                            "<tr><td>Móricz Árpád</td><td>árpád.móricz@mail.hu</td><td>ARPADM</td></tr>",
                            "<tr><td>Csóti Attila</td><td>attila@gmail.com</td><td>attila</td></tr>",
                            "<tr><td>Gulyás Attila</td><td>attila.gulyás@mail.hu</td><td>attila1</td></tr>",
                            "<tr><td>Baróti Attila</td><td>attila.baróti@mail.hu</td><td>attila4</td></tr>",
                            "<tr><td>Bozsik Balázs</td><td>balázs.bozsik@mail.hu</td><td>balazs1</td></tr>",
                            "<tr><td>Szűcs Balázs</td><td>balázs.szűcs@mail.hu</td><td>balazs2</td></tr>",
                            "<tr><td>Bakódy Balázs</td><td>balazs3@gmail.com</td><td>balazs3</td></tr>",
                            "<tr><td>Horváth Bálint</td><td>balint@gmail.com</td><td>balint</td></tr>",
                            "<tr><td>Molnár Bálint</td><td>balint1@gmail.com</td><td>balint1</td></tr>",
                            "<tr><td>Vukasinovity Bálint</td><td>balint2@gmail.com</td><td>balint2</td></tr>",
                            "<tr><td>Endresz Bálint</td><td>bálint.endresz@mail.hu</td><td>balu</td></tr>",
                            "<tr><td>Bagi Beáta</td><td>beáta.bagi@mail.hu</td><td>beata4</td></tr>",
                            "<tr><td>Kerényi Beatrix</td><td>beatrix.kerényi@mail.hu</td><td>BEATRIXK</td></tr>",
                            "<tr><td>Szekendi Beatrix</td><td>beatrix.szekendi@mail.hu</td><td>BEATRIXS</td></tr>",
                            "<tr><td>Farkas Béla</td><td>BELAF@gmail.com</td><td>BELAF</td></tr>",
                            "<tr><td>Győrffy Bence</td><td>bence@gmail.com</td><td>bence</td></tr>",
                            "<tr><td>Bajusz Bence</td><td>bence.bajusz@mail.hu</td><td>BENCEB</td></tr>",
                            "<tr><td>Simon Bernadett</td><td>bernadett1@gmail.com</td><td>bernadett1</td></tr>",
                            "<tr><td>Kovács Bernadett</td><td>bernadett.kovács@mail.hu</td><td>bernadett2</td></tr>",
                            "<tr><td>Orbán Bernadett</td><td>bernadett.orbán@mail.hu</td><td>BERNADETTO</td></tr>",
                            "<tr><td>Csiger Bertalan</td><td>bertalan@gmail.com</td><td>bertalan</td></tr>",
                            "<tr><td>Székely Brigitta</td><td>brigitta.székely@mail.hu</td><td>brigitta</td></tr>",
                            "<tr><td>Nagymihály Csongor</td><td>csongor.nagymihály@mail.hu</td><td>csongor3</td></tr>",
                            "<tr><td>Vörös Dániel</td><td>daniel@gmail.com</td><td>dani</td></tr>",
                            "<tr><td>Rácz Dániel</td><td>dániel.rácz@mail.hu</td><td>daniel</td></tr>",
                            "<tr><td>Keszler Dániel</td><td>dániel.keszler@mail.hu</td><td>daniel1</td></tr>",
                            "<tr><td>Ambrus Dávid</td><td>david@gmail.com</td><td>david</td></tr>",
                            "<tr><td>Sobják Dávid</td><td>david1@gmail.com</td><td>david1</td></tr>",
                            "<tr><td>Barna Debóra</td><td>debóra.barna@mail.hu</td><td>debora</td></tr>",
                            "<tr><td>Tömböly Dénes</td><td>denes@gmail.com</td><td>denes</td></tr>",
                            "<tr><td>Bittmann Edit</td><td>edit.bittmann@mail.hu</td><td>edit</td></tr>",
                            "<tr><td>Kuruc Emese</td><td>emese.kuruc@mail.hu</td><td>emese</td></tr>",
                            "<tr><td>Balogh Eszter</td><td>eszter.balogh@mail.hu</td><td>eszter2</td></tr>",
                            "<tr><td>Fülöp Eszter</td><td>eszter.fülöp@mail.hu</td><td>eszter4</td></tr>",
                            "<tr><td>Érsek Eszter</td><td>eszter.érsek@mail.hu</td><td>ESZTERE</td></tr>",
                            "<tr><td>Enyedi Éva</td><td>eva@gmail.com</td><td>eva</td></tr>",
                            "<tr><td>Perlinger Éva</td><td>eva2@gmail.com</td><td>eva2</td></tr>",
                            "<tr><td>Viktor Éva</td><td>EVAV@gmail.com</td><td>EVAV</td></tr>",
                            "<tr><td>Orosz Ferenc</td><td>ferenc.orosz@mail.hu</td><td>ferenc1</td></tr>",
                            "<tr><td>Frank Fruzsina</td><td>fruzsina4@gmail.com</td><td>fruzsina4</td></tr>",
                            "<tr><td>Köves Gábor</td><td>gabor1@gmail.com</td><td>gabor1</td></tr>",
                            "<tr><td>Telek Gábor</td><td>gábor.telek@mail.hu</td><td>gabor4</td></tr>",
                            "<tr><td>Nagy Gabriella</td><td>gabriella1@gmail.com</td><td>gabriella1</td></tr>",
                            "<tr><td>Nyíri Georgij</td><td>georgij.nyíri@mail.hu</td><td>georgij</td></tr>",
                            "<tr><td>Bárci Gusztáv</td><td>gusztav@gmail.com</td><td>gusztav</td></tr>",
                            "<tr><td>Kornseé Gyöngyi</td><td>gyöngyi.kornseé@mail.hu</td><td>GYONGYIK</td></tr>",
                            "<tr><td>Oroszi György</td><td>GYORGYO@gmail.com</td><td>GYORGYO</td></tr>",
                            "<tr><td>Nádudvari Henrik</td><td>henrik.nádudvari@mail.hu</td><td>henrik3</td></tr>",
                            "<tr><td>Andor Ibolya</td><td>ibolya.andor@mail.hu</td><td>IBOLYAA</td></tr>",
                            "<tr><td>Bosnyák Ilona</td><td>ilona3@gmail.com</td><td>ilona3</td></tr>",
                            "<tr><td>Búza Imre</td><td>imre.búza@mail.hu</td><td>imre</td></tr>",
                            "<tr><td>Papp Imre</td><td>imre.papp@mail.hu</td><td>imre1</td></tr>",
                            "<tr><td>Soós István</td><td>istvan@gmail.com</td><td>istvan</td></tr>",
                            "<tr><td>Vizi István</td><td>istván.vizi@mail.hu</td><td>istvan1</td></tr>",
                            "<tr><td>Varga István</td><td>ISTVANV@gmail.com</td><td>ISTVANV</td></tr>",
                            "<tr><td>Harangozó János</td><td>janos3@gmail.com</td><td>janos3</td></tr>",
                            "<tr><td>Giliga János</td><td>JANOSG@gmail.com</td><td>JANOSG</td></tr>",
                            "<tr><td>Pálinkás János</td><td>JANOSP@gmail.com</td><td>JANOSP</td></tr>",
                            "<tr><td>Gergely József</td><td>jozsef@gmail.com</td><td>jozsef</td></tr>",
                            "<tr><td>Vajda József</td><td>józsef.vajda@mail.hu</td><td>jozsef2</td></tr>",
                            "<tr><td>Hídasi Judit</td><td>JUDITH@gmail.com</td><td>JUDITH</td></tr>",
                            "<tr><td>Tóth Júlia</td><td>julia@gmail.com</td><td>julia</td></tr>",
                            "<tr><td>Nagy Júlia</td><td>julia4@gmail.com</td><td>julia4</td></tr>",
                            "<tr><td>Szabó Julianna</td><td>julianna4@gmail.com</td><td>julianna4</td></tr>",
                            "<tr><td>Gondos Katalin</td><td>katalin.gondos@mail.hu</td><td>kata</td></tr>",
                            "<tr><td>Horváth Katalin</td><td>katalin.horváth@mail.hu</td><td>katalin</td></tr>",
                            "<tr><td>Kertész Katalin</td><td>katalin4@gmail.com</td><td>katalin4</td></tr>",
                            "<tr><td>Kovács Katalin</td><td>katalin.kovács@mail.hu</td><td>katka</td></tr>",
                            "<tr><td>Bakó Klaudia</td><td>klaudia.bakó@mail.hu</td><td>klaudia2</td></tr>",
                            "<tr><td>Lukács Kornél</td><td>kornél.lukács@mail.hu</td><td>kornel4</td></tr>",
                            "<tr><td>Poprádi Kristóf</td><td>kristof4@gmail.com</td><td>kristof4</td></tr>",
                            "<tr><td>Horváth Krisztina</td><td>kriszti@gmail.com</td><td>kriszti</td></tr>",
                            "<tr><td>Czérna Krisztián</td><td>krisztián.czérna@mail.hu</td><td>krisztian4</td></tr>",
                            "<tr><td>Bori Krisztina</td><td>krisztina.bori@mail.hu</td><td>krisztina1</td></tr>",
                            "<tr><td>Gyárfás Krisztina</td><td>KRISZTINAG@gmail.com</td><td>KRISZTINAG</td></tr>",
                            "<tr><td>Kiss Lajos</td><td>lajos.kiss@mail.hu</td><td>lajos</td></tr>",
                            "<tr><td>Nagymihály Lajos</td><td>lajos.nagymihály@mail.hu</td><td>lala</td></tr>",
                            "<tr><td>Móra László</td><td>lászló.móra@mail.hu</td><td>laszlo2</td></tr>",
                            "<tr><td>Antal László</td><td>lászló.antal@mail.hu</td><td>LASZLOA</td></tr>",
                            "<tr><td>Nagy László</td><td>lászló.nagy@mail.hu</td><td>LASZLON</td></tr>",
                            "<tr><td>Baráth Mária</td><td>mária.baráth@mail.hu</td><td>maria1</td></tr>",
                            "<tr><td>Kispál Márk</td><td>márk.kispál@mail.hu</td><td>mark</td></tr>",
                            "<tr><td>Horváth Márk</td><td>márk.horváth@mail.hu</td><td>MARKH</td></tr>",
                            "<tr><td>Kalacsi Márton</td><td>marton@gmail.com</td><td>marton</td></tr>",
                            "<tr><td>Koza Máté</td><td>máté.koza@mail.hu</td><td>MATEK</td></tr>",
                            "<tr><td>Botka Mátyás</td><td>matyas2@gmail.com</td><td>matyas2</td></tr>",
                            "<tr><td>Szilágyi Mátyás</td><td>mátyás.szilágyi@mail.hu</td><td>MATYASS</td></tr>",
                            "<tr><td>Juhász Mihály</td><td>mihály.juhász@mail.hu</td><td>MIHALYJ</td></tr>",
                            "<tr><td>Gondos Miklós</td><td>miklos2@gmail.com</td><td>miklos2</td></tr>",
                            "<tr><td>Balla Miklós</td><td>miklós.balla@mail.hu</td><td>MIKLOSB</td></tr>",
                            "<tr><td>Mohos Mónika</td><td>mónika.mohos@mail.hu</td><td>MONIKAM</td></tr>",
                            "<tr><td>Fő Nándor</td><td>nándor.fő@mail.hu</td><td>NANDORF</td></tr>",
                            "<tr><td>Horváth Nikolett</td><td>nikolett3@gmail.com</td><td>nikolett3</td></tr>",
                            "<tr><td>Kő Nikoletta</td><td>nikoletta4@gmail.com</td><td>nikoletta4</td></tr>",
                            "<tr><td>Tatár Nikoletta</td><td>nikoletta.tatár@mail.hu</td><td>NIKOLETTAT</td></tr>",
                            "<tr><td>Szűcs Norbert</td><td>norbert@gmail.com</td><td>norbert</td></tr>",
                            "<tr><td>Hegedűs Norbert</td><td>norbert.hegedűs@mail.hu</td><td>norbert2</td></tr>",
                            "<tr><td>Mile Norbert</td><td>norbert4@gmail.com</td><td>norbert4</td></tr>",
                            "<tr><td>Béres Norbert</td><td>norbert5@gmail.com</td><td>norbert5</td></tr>",
                            "<tr><td>Barabás Pál</td><td>pál.barabás@mail.hu</td><td>pal</td></tr>",
                            "<tr><td>Kozma Péter</td><td>peter1@gmail.com</td><td>peter1</td></tr>",
                            "<tr><td>Bozsó Péter</td><td>peter2@gmail.com</td><td>peter2</td></tr>",
                            "<tr><td>Szalai Péter</td><td>peter3@gmail.com</td><td>peter3</td></tr>",
                            "<tr><td>Bíró Péter</td><td>péter.bíró@mail.hu</td><td>peter4</td></tr>",
                            "<tr><td>Berendi Péter</td><td>péter.berendi@mail.hu</td><td>PETERB</td></tr>",
                            "<tr><td>Palágyi Polla</td><td>polla@gmail.com</td><td>polla</td></tr>",
                            "<tr><td>Rácz Rajmond</td><td>rajmond.rácz@mail.hu</td><td>rajmond4</td></tr>",
                            "<tr><td>Szikszai Réka</td><td>réka.szikszai@mail.hu</td><td>reka4</td></tr>",
                            "<tr><td>Szirmai Renáta</td><td>RENATAS@gmail.com</td><td>RENATAS</td></tr>",
                            "<tr><td>Patay Róbert</td><td>robert2@gmail.com</td><td>robert2</td></tr>",
                            "<tr><td>Iván Róbert</td><td>róbert.iván@mail.hu</td><td>ROBERTI</td></tr>",
                            "<tr><td>Tóth Roland</td><td>roland@gmail.com</td><td>roland</td></tr>",
                            "<tr><td>Ferencz Roland</td><td>roland.ferencz@mail.hu</td><td>roland1</td></tr>",
                            "<tr><td>Bucskó Róza</td><td>roza2@gmail.com</td><td>roza2</td></tr>",
                            "<tr><td>Karasz Sándor</td><td>sandor@gmail.com</td><td>sandor</td></tr>",
                            "<tr><td>Farkas Sándor</td><td>sándor.farkas@mail.hu</td><td>sandor3</td></tr>",
                            "<tr><td>Nagy Sándor</td><td>sandor4@gmail.com</td><td>sandor4</td></tr>",
                            "<tr><td>Farkas Sára</td><td>sára.farkas@mail.hu</td><td>sara</td></tr>",
                            "<tr><td>Foltényi Sebastián</td><td>SEBASTIANF@gmail.com</td><td>SEBASTIANF</td></tr>",
                            "<tr><td>Rab Sebestyén</td><td>sebestyen@gmail.com</td><td>sebestyen</td></tr>",
                            "<tr><td>Miklós Szabolcs</td><td>szabolcs.miklós@mail.hu</td><td>SZABOLCSM</td></tr>",
                            "<tr><td>Szalai Szilárd</td><td>szilárd.szalai@mail.hu</td><td>SZILARDS</td></tr>",
                            "<tr><td>Tari Szilvia</td><td>szilvia.tari@mail.hu</td><td>szilvia1</td></tr>",
                            "<tr><td>Miklós Tamara</td><td>tamara.miklós@mail.hu</td><td>tamara2</td></tr>",
                            "<tr><td>Antal Tamás</td><td>tamás.antal@mail.hu</td><td>tamas</td></tr>",
                            "<tr><td>Fényes Tamás</td><td>TAMASF@gmail.com</td><td>TAMASF</td></tr>",
                            "<tr><td>Gombos Tibor</td><td>tibor.gombos@mail.hu</td><td>tibor</td></tr>",
                            "<tr><td>Kazy Tihamér</td><td>tihamér.kazy@mail.hu</td><td>tihamer</td></tr>",
                            "<tr><td>Dusha Tímea</td><td>tímea.dusha@mail.hu</td><td>timea2</td></tr>",
                            "<tr><td>Turcsik Tünde</td><td>tunde@gmail.com</td><td>tunde</td></tr>",
                            "<tr><td>Feró Valentin</td><td>valentin.feró@mail.hu</td><td>valentin</td></tr>",
                            "<tr><td>Tankó Veronika</td><td>veronika4@gmail.com</td><td>veronika4</td></tr>",
                            "<tr><td>Boros Vivien</td><td>vivien3@gmail.com</td><td>vivien3</td></tr>",
                            "<tr><td>Fodor Zoltán</td><td>zoltán.fodor@mail.hu</td><td>zoltan</td></tr>",
                            "<tr><td>Pintér Zoltán</td><td>zoltán.pintér@mail.hu</td><td>ZOLTANP</td></tr>",
                            "<tr><td>Tóth Zoltán</td><td>zoltán.tóth@mail.hu</td><td>ZOLTANT</td></tr>",
                            "<tr><td>Molnár Zsófi</td><td>zsofi1@gmail.com</td><td>zsofi1</td></tr>",
                            "<tr><td>Józsa Zsolt</td><td>ZSOLTJ@gmail.com</td><td>ZSOLTJ</td></tr>",
                            "<tr><td>Pusztai Zsuzsanna</td><td>zsuzsanna@gmail.com</td><td>zsuzsa</td></tr>",
                            "<tr><td>Varsányi Zsuzsa</td><td>zsuzsa.varsányi@mail.hu</td><td>zsuzsa3</td></tr>",
                            "<tr><td>Barta Zsuzsanna</td><td>zsuzsanna.barta@mail.hu</td><td>zsuzsanna</td></tr>",
                            "<tr><td>Vajda Zsuzsa</td><td>zsuzsa.vajda@mail.hu</td><td>ZSUZSAV</td></tr>",
                            "</table>"
                        ]
                    }
                }
            ],
            "execution_count": 21
        },
        {
            "cell_type": "markdown",
            "source": [
                "**FELADAT 2:**\n",
                "\n",
                "Listázzuk azon szálláshelyek azonosítóját és nevét, amelyek a saját helyükön (HELY) a legtöbb csillaggal rendelkeznek!"
            ],
            "metadata": {
                "azdata_cell_guid": "eabeed14-2e69-45cb-97ce-161f8b2ed7fe"
            },
            "attachments": {}
        },
        {
            "cell_type": "code",
            "source": [
                "SELECT \r\n",
                "    szh.szallas_id,\r\n",
                "    szh.szallas_nev\r\n",
                "FROM \r\n",
                "    szallashely szh\r\n",
                "JOIN (\r\n",
                "    SELECT \r\n",
                "        hely, \r\n",
                "        MAX(csillagok_szama) AS max_csillagok\r\n",
                "    FROM \r\n",
                "        szallashely\r\n",
                "    GROUP BY \r\n",
                "        hely\r\n",
                ") AS max_cs ON szh.hely = max_cs.hely AND szh.csillagok_szama = max_cs.max_csillagok\r\n",
                "WHERE \r\n",
                "    szh.csillagok_szama = (\r\n",
                "        SELECT MAX(sz2.csillagok_szama)\r\n",
                "        FROM szallashely sz2\r\n",
                "        WHERE sz2.hely = szh.hely\r\n",
                "    )"
            ],
            "metadata": {
                "azdata_cell_guid": "34616c38-f64c-4383-ab5e-64fcbce1f71f",
                "language": "sql"
            },
            "outputs": [
                {
                    "output_type": "display_data",
                    "data": {
                        "text/html": "(11 rows affected)"
                    },
                    "metadata": {}
                },
                {
                    "output_type": "display_data",
                    "data": {
                        "text/html": "Total execution time: 00:00:00.011"
                    },
                    "metadata": {}
                },
                {
                    "output_type": "execute_result",
                    "metadata": {},
                    "execution_count": 28,
                    "data": {
                        "application/vnd.dataresource+json": {
                            "schema": {
                                "fields": [
                                    {
                                        "name": "szallas_id"
                                    },
                                    {
                                        "name": "szallas_nev"
                                    }
                                ]
                            },
                            "data": [
                                {
                                    "szallas_id": "3",
                                    "szallas_nev": "Fortuna Apartman"
                                },
                                {
                                    "szallas_id": "5",
                                    "szallas_nev": "Fortuna Panzió"
                                },
                                {
                                    "szallas_id": "8",
                                    "szallas_nev": "Hotel Három Hattyú"
                                },
                                {
                                    "szallas_id": "10",
                                    "szallas_nev": "Lagúna Hotel"
                                },
                                {
                                    "szallas_id": "11",
                                    "szallas_nev": "Partiszél Vendégház"
                                },
                                {
                                    "szallas_id": "13",
                                    "szallas_nev": "Riviéra Panzió"
                                },
                                {
                                    "szallas_id": "16",
                                    "szallas_nev": "Bagoly Hotel"
                                },
                                {
                                    "szallas_id": "17",
                                    "szallas_nev": "Szarvas Hotel"
                                },
                                {
                                    "szallas_id": "18",
                                    "szallas_nev": "Fortuna Apartman"
                                },
                                {
                                    "szallas_id": "19",
                                    "szallas_nev": "Nyárfás Vendégház"
                                },
                                {
                                    "szallas_id": "21",
                                    "szallas_nev": "Müller Vendégház"
                                }
                            ]
                        },
                        "text/html": [
                            "<table>",
                            "<tr><th>szallas_id</th><th>szallas_nev</th></tr>",
                            "<tr><td>3</td><td>Fortuna Apartman</td></tr>",
                            "<tr><td>5</td><td>Fortuna Panzió</td></tr>",
                            "<tr><td>8</td><td>Hotel Három Hattyú</td></tr>",
                            "<tr><td>10</td><td>Lagúna Hotel</td></tr>",
                            "<tr><td>11</td><td>Partiszél Vendégház</td></tr>",
                            "<tr><td>13</td><td>Riviéra Panzió</td></tr>",
                            "<tr><td>16</td><td>Bagoly Hotel</td></tr>",
                            "<tr><td>17</td><td>Szarvas Hotel</td></tr>",
                            "<tr><td>18</td><td>Fortuna Apartman</td></tr>",
                            "<tr><td>19</td><td>Nyárfás Vendégház</td></tr>",
                            "<tr><td>21</td><td>Müller Vendégház</td></tr>",
                            "</table>"
                        ]
                    }
                }
            ],
            "execution_count": 28
        },
        {
            "cell_type": "markdown",
            "source": [
                "FELADAT 3:\n",
                "\n",
                "Jelenítsük meg, hogy az egyes szálláshelyek szobáit esetén a legutolsó 5 foglalás átlagosan hány főre történt!\n",
                "\n",
                "- A számításnál vegyük figyelembe a felnőtteket és a gyermekeket is\n",
                "- A foglalás dátumánál a METTOL mezőt használjuk"
            ],
            "metadata": {
                "azdata_cell_guid": "52f2fab7-317b-4e3c-bc27-bfe946dfff5f"
            },
            "attachments": {}
        },
        {
            "cell_type": "code",
            "source": [
                "SELECT szh.SZALLAS_NEV,\r\n",
                "    sz.SZOBA_SZAMA,\r\n",
                "    count(*) over (partition by f.foglalas_pk order by f.mettol\r\n",
                "        range between unbounded preceding and unbounded following)\r\n",
                "FROM Foglalas f JOIN Szoba sz ON f.szoba_fk = sz.szoba_id\r\n",
                "                JOIN Szallashely szh ON sz.SZALLAS_FK = szh.SZALLAS_ID\r\n",
                "group by szh.SZALLAS_NEV, sz.SZOBA_SZAMA"
            ],
            "metadata": {
                "azdata_cell_guid": "b1cd8476-23ad-439d-a0bf-ba2694d5b215",
                "language": "sql",
                "tags": []
            },
            "outputs": [
                {
                    "output_type": "display_data",
                    "data": {
                        "text/html": "(1027 rows affected)"
                    },
                    "metadata": {}
                },
                {
                    "output_type": "display_data",
                    "data": {
                        "text/html": "Total execution time: 00:00:00.033"
                    },
                    "metadata": {}
                },
                {
                    "output_type": "execute_result",
                    "metadata": {},
                    "execution_count": 16,
                    "data": {
                        "application/vnd.dataresource+json": {
                            "schema": {
                                "fields": [
                                    {
                                        "name": "SZALLAS_NEV"
                                    },
                                    {
                                        "name": "SZOBA_SZAMA"
                                    },
                                    {
                                        "name": "(No column name)"
                                    }
                                ]
                            },
                            "data": [
                                {
                                    "SZALLAS_NEV": "Szieszta Apartmanház",
                                    "SZOBA_SZAMA": "3",
                                    "(No column name)": "1"
                                },
                                {
                                    "SZALLAS_NEV": "Jáde panzió",
                                    "SZOBA_SZAMA": "2",
                                    "(No column name)": "1"
                                },
                                {
                                    "SZALLAS_NEV": "Sába-Ház",
                                    "SZOBA_SZAMA": "6",
                                    "(No column name)": "1"
                                },
                                {
                                    "SZALLAS_NEV": "Fortuna Panzió",
                                    "SZOBA_SZAMA": "3",
                                    "(No column name)": "1"
                                },
                                {
                                    "SZALLAS_NEV": "Sába-Ház",
                                    "SZOBA_SZAMA": "7",
                                    "(No column name)": "1"
                                },
                                {
                                    "SZALLAS_NEV": "Kentaur Hotel",
                                    "SZOBA_SZAMA": "19",
                                    "(No column name)": "1"
                                },
                                {
                                    "SZALLAS_NEV": "Sába-Ház",
                                    "SZOBA_SZAMA": "5",
                                    "(No column name)": "1"
                                },
                                {
                                    "SZALLAS_NEV": "Lagúna Hotel",
                                    "SZOBA_SZAMA": "7",
                                    "(No column name)": "1"
                                },
                                {
                                    "SZALLAS_NEV": "Fortuna Apartman",
                                    "SZOBA_SZAMA": "5",
                                    "(No column name)": "1"
                                },
                                {
                                    "SZALLAS_NEV": "Gold Hotel",
                                    "SZOBA_SZAMA": "6",
                                    "(No column name)": "1"
                                },
                                {
                                    "SZALLAS_NEV": "Kentaur Hotel",
                                    "SZOBA_SZAMA": "29",
                                    "(No column name)": "1"
                                },
                                {
                                    "SZALLAS_NEV": "Sába-Ház",
                                    "SZOBA_SZAMA": "10",
                                    "(No column name)": "1"
                                },
                                {
                                    "SZALLAS_NEV": "Partiszél Vendégház",
                                    "SZOBA_SZAMA": "5",
                                    "(No column name)": "1"
                                },
                                {
                                    "SZALLAS_NEV": "Gold Hotel",
                                    "SZOBA_SZAMA": "18",
                                    "(No column name)": "1"
                                },
                                {
                                    "SZALLAS_NEV": "Kentaur Hotel",
                                    "SZOBA_SZAMA": "34",
                                    "(No column name)": "1"
                                },
                                {
                                    "SZALLAS_NEV": "Gold Hotel",
                                    "SZOBA_SZAMA": "5",
                                    "(No column name)": "1"
                                },
                                {
                                    "SZALLAS_NEV": "Gold Hotel",
                                    "SZOBA_SZAMA": "7",
                                    "(No column name)": "1"
                                },
                                {
                                    "SZALLAS_NEV": "Lagúna Hotel",
                                    "SZOBA_SZAMA": "21",
                                    "(No column name)": "1"
                                },
                                {
                                    "SZALLAS_NEV": "Hotel Három Hattyú",
                                    "SZOBA_SZAMA": "35",
                                    "(No column name)": "1"
                                },
                                {
                                    "SZALLAS_NEV": "Lagúna Hotel",
                                    "SZOBA_SZAMA": "21",
                                    "(No column name)": "1"
                                },
                                {
                                    "SZALLAS_NEV": "Gold Hotel",
                                    "SZOBA_SZAMA": "21",
                                    "(No column name)": "1"
                                },
                                {
                                    "SZALLAS_NEV": "Lagúna Hotel",
                                    "SZOBA_SZAMA": "5",
                                    "(No column name)": "1"
                                },
                                {
                                    "SZALLAS_NEV": "Jáde panzió",
                                    "SZOBA_SZAMA": "1",
                                    "(No column name)": "1"
                                },
                                {
                                    "SZALLAS_NEV": "Lagúna Hotel",
                                    "SZOBA_SZAMA": "10",
                                    "(No column name)": "1"
                                },
                                {
                                    "SZALLAS_NEV": "Lagúna Hotel",
                                    "SZOBA_SZAMA": "3",
                                    "(No column name)": "1"
                                },
                                {
                                    "SZALLAS_NEV": "Kentaur Hotel",
                                    "SZOBA_SZAMA": "30",
                                    "(No column name)": "1"
                                },
                                {
                                    "SZALLAS_NEV": "Lagúna Hotel",
                                    "SZOBA_SZAMA": "2",
                                    "(No column name)": "1"
                                },
                                {
                                    "SZALLAS_NEV": "Kentaur Hotel",
                                    "SZOBA_SZAMA": "21",
                                    "(No column name)": "1"
                                },
                                {
                                    "SZALLAS_NEV": "Hotel Három Hattyú",
                                    "SZOBA_SZAMA": "17",
                                    "(No column name)": "1"
                                },
                                {
                                    "SZALLAS_NEV": "Hotel Három Hattyú",
                                    "SZOBA_SZAMA": "33",
                                    "(No column name)": "1"
                                },
                                {
                                    "SZALLAS_NEV": "Lagúna Hotel",
                                    "SZOBA_SZAMA": "22",
                                    "(No column name)": "1"
                                },
                                {
                                    "SZALLAS_NEV": "Fortuna Panzió",
                                    "SZOBA_SZAMA": "5",
                                    "(No column name)": "1"
                                },
                                {
                                    "SZALLAS_NEV": "Fortuna Panzió",
                                    "SZOBA_SZAMA": "3",
                                    "(No column name)": "1"
                                },
                                {
                                    "SZALLAS_NEV": "Lagúna Hotel",
                                    "SZOBA_SZAMA": "15",
                                    "(No column name)": "1"
                                },
                                {
                                    "SZALLAS_NEV": "Gold Hotel",
                                    "SZOBA_SZAMA": "12",
                                    "(No column name)": "1"
                                },
                                {
                                    "SZALLAS_NEV": "Kentaur Hotel",
                                    "SZOBA_SZAMA": "28",
                                    "(No column name)": "1"
                                },
                                {
                                    "SZALLAS_NEV": "Lagúna Hotel",
                                    "SZOBA_SZAMA": "19",
                                    "(No column name)": "1"
                                },
                                {
                                    "SZALLAS_NEV": "Kentaur Hotel",
                                    "SZOBA_SZAMA": "25",
                                    "(No column name)": "1"
                                },
                                {
                                    "SZALLAS_NEV": "Hotel Három Hattyú",
                                    "SZOBA_SZAMA": "25",
                                    "(No column name)": "1"
                                },
                                {
                                    "SZALLAS_NEV": "Hotel Három Hattyú",
                                    "SZOBA_SZAMA": "10",
                                    "(No column name)": "1"
                                },
                                {
                                    "SZALLAS_NEV": "Fortuna panzió",
                                    "SZOBA_SZAMA": "7",
                                    "(No column name)": "1"
                                },
                                {
                                    "SZALLAS_NEV": "Partiszél Vendégház",
                                    "SZOBA_SZAMA": "3",
                                    "(No column name)": "1"
                                },
                                {
                                    "SZALLAS_NEV": "Gold Hotel",
                                    "SZOBA_SZAMA": "26",
                                    "(No column name)": "1"
                                },
                                {
                                    "SZALLAS_NEV": "Fortuna panzió",
                                    "SZOBA_SZAMA": "15",
                                    "(No column name)": "1"
                                },
                                {
                                    "SZALLAS_NEV": "Fortuna Apartman",
                                    "SZOBA_SZAMA": "1",
                                    "(No column name)": "1"
                                },
                                {
                                    "SZALLAS_NEV": "Fortuna Panzió",
                                    "SZOBA_SZAMA": "9",
                                    "(No column name)": "1"
                                },
                                {
                                    "SZALLAS_NEV": "Fortuna panzió",
                                    "SZOBA_SZAMA": "6",
                                    "(No column name)": "1"
                                },
                                {
                                    "SZALLAS_NEV": "Hotel Három Hattyú",
                                    "SZOBA_SZAMA": "21",
                                    "(No column name)": "1"
                                },
                                {
                                    "SZALLAS_NEV": "Fortuna panzió",
                                    "SZOBA_SZAMA": "7",
                                    "(No column name)": "1"
                                },
                                {
                                    "SZALLAS_NEV": "Hotel Három Hattyú",
                                    "SZOBA_SZAMA": "6",
                                    "(No column name)": "1"
                                },
                                {
                                    "SZALLAS_NEV": "Gold Hotel",
                                    "SZOBA_SZAMA": "20",
                                    "(No column name)": "1"
                                },
                                {
                                    "SZALLAS_NEV": "Sába-Ház",
                                    "SZOBA_SZAMA": "9",
                                    "(No column name)": "1"
                                },
                                {
                                    "SZALLAS_NEV": "Hotel Három Hattyú",
                                    "SZOBA_SZAMA": "16",
                                    "(No column name)": "1"
                                },
                                {
                                    "SZALLAS_NEV": "Fortuna panzió",
                                    "SZOBA_SZAMA": "5",
                                    "(No column name)": "1"
                                },
                                {
                                    "SZALLAS_NEV": "Hotel Három Hattyú",
                                    "SZOBA_SZAMA": "27",
                                    "(No column name)": "1"
                                },
                                {
                                    "SZALLAS_NEV": "Jáde panzió",
                                    "SZOBA_SZAMA": "1",
                                    "(No column name)": "1"
                                },
                                {
                                    "SZALLAS_NEV": "Hotel Három Hattyú",
                                    "SZOBA_SZAMA": "19",
                                    "(No column name)": "1"
                                },
                                {
                                    "SZALLAS_NEV": "Gold Hotel",
                                    "SZOBA_SZAMA": "22",
                                    "(No column name)": "1"
                                },
                                {
                                    "SZALLAS_NEV": "Hotel Három Hattyú",
                                    "SZOBA_SZAMA": "4",
                                    "(No column name)": "1"
                                },
                                {
                                    "SZALLAS_NEV": "Hotel Három Hattyú",
                                    "SZOBA_SZAMA": "27",
                                    "(No column name)": "1"
                                },
                                {
                                    "SZALLAS_NEV": "Hotel Három Hattyú",
                                    "SZOBA_SZAMA": "15",
                                    "(No column name)": "1"
                                },
                                {
                                    "SZALLAS_NEV": "Jáde panzió",
                                    "SZOBA_SZAMA": "3",
                                    "(No column name)": "1"
                                },
                                {
                                    "SZALLAS_NEV": "Sába-Ház",
                                    "SZOBA_SZAMA": "1",
                                    "(No column name)": "1"
                                },
                                {
                                    "SZALLAS_NEV": "Hotel Három Hattyú",
                                    "SZOBA_SZAMA": "19",
                                    "(No column name)": "1"
                                },
                                {
                                    "SZALLAS_NEV": "Kentaur Hotel",
                                    "SZOBA_SZAMA": "5",
                                    "(No column name)": "1"
                                },
                                {
                                    "SZALLAS_NEV": "Hotel Három Hattyú",
                                    "SZOBA_SZAMA": "6",
                                    "(No column name)": "1"
                                },
                                {
                                    "SZALLAS_NEV": "Fortuna panzió",
                                    "SZOBA_SZAMA": "9",
                                    "(No column name)": "1"
                                },
                                {
                                    "SZALLAS_NEV": "Kentaur Hotel",
                                    "SZOBA_SZAMA": "14",
                                    "(No column name)": "1"
                                },
                                {
                                    "SZALLAS_NEV": "Fortuna Apartman",
                                    "SZOBA_SZAMA": "2",
                                    "(No column name)": "1"
                                },
                                {
                                    "SZALLAS_NEV": "Fortuna panzió",
                                    "SZOBA_SZAMA": "14",
                                    "(No column name)": "1"
                                },
                                {
                                    "SZALLAS_NEV": "Fortuna Panzió",
                                    "SZOBA_SZAMA": "9",
                                    "(No column name)": "1"
                                },
                                {
                                    "SZALLAS_NEV": "Sába-Ház",
                                    "SZOBA_SZAMA": "3",
                                    "(No column name)": "1"
                                },
                                {
                                    "SZALLAS_NEV": "Partiszél Vendégház",
                                    "SZOBA_SZAMA": "4",
                                    "(No column name)": "1"
                                },
                                {
                                    "SZALLAS_NEV": "Hotel Három Hattyú",
                                    "SZOBA_SZAMA": "8",
                                    "(No column name)": "1"
                                },
                                {
                                    "SZALLAS_NEV": "Hotel Három Hattyú",
                                    "SZOBA_SZAMA": "9",
                                    "(No column name)": "1"
                                },
                                {
                                    "SZALLAS_NEV": "Gold Hotel",
                                    "SZOBA_SZAMA": "23",
                                    "(No column name)": "1"
                                },
                                {
                                    "SZALLAS_NEV": "Gold Hotel",
                                    "SZOBA_SZAMA": "29",
                                    "(No column name)": "1"
                                },
                                {
                                    "SZALLAS_NEV": "Hotel Három Hattyú",
                                    "SZOBA_SZAMA": "7",
                                    "(No column name)": "1"
                                },
                                {
                                    "SZALLAS_NEV": "Hotel Három Hattyú",
                                    "SZOBA_SZAMA": "1",
                                    "(No column name)": "1"
                                },
                                {
                                    "SZALLAS_NEV": "Hotel Három Hattyú",
                                    "SZOBA_SZAMA": "10",
                                    "(No column name)": "1"
                                },
                                {
                                    "SZALLAS_NEV": "Kentaur Hotel",
                                    "SZOBA_SZAMA": "18",
                                    "(No column name)": "1"
                                },
                                {
                                    "SZALLAS_NEV": "Partiszél Vendégház",
                                    "SZOBA_SZAMA": "2",
                                    "(No column name)": "1"
                                },
                                {
                                    "SZALLAS_NEV": "Gold Hotel",
                                    "SZOBA_SZAMA": "1",
                                    "(No column name)": "1"
                                },
                                {
                                    "SZALLAS_NEV": "Lagúna Hotel",
                                    "SZOBA_SZAMA": "16",
                                    "(No column name)": "1"
                                },
                                {
                                    "SZALLAS_NEV": "Kentaur Hotel",
                                    "SZOBA_SZAMA": "5",
                                    "(No column name)": "1"
                                },
                                {
                                    "SZALLAS_NEV": "Hotel Három Hattyú",
                                    "SZOBA_SZAMA": "37",
                                    "(No column name)": "1"
                                },
                                {
                                    "SZALLAS_NEV": "Gold Hotel",
                                    "SZOBA_SZAMA": "2",
                                    "(No column name)": "1"
                                },
                                {
                                    "SZALLAS_NEV": "Kentaur Hotel",
                                    "SZOBA_SZAMA": "18",
                                    "(No column name)": "1"
                                },
                                {
                                    "SZALLAS_NEV": "Kentaur Hotel",
                                    "SZOBA_SZAMA": "29",
                                    "(No column name)": "1"
                                },
                                {
                                    "SZALLAS_NEV": "Szieszta Apartmanház",
                                    "SZOBA_SZAMA": "1",
                                    "(No column name)": "1"
                                },
                                {
                                    "SZALLAS_NEV": "Lagúna Hotel",
                                    "SZOBA_SZAMA": "23",
                                    "(No column name)": "1"
                                },
                                {
                                    "SZALLAS_NEV": "Lagúna Hotel",
                                    "SZOBA_SZAMA": "3",
                                    "(No column name)": "1"
                                },
                                {
                                    "SZALLAS_NEV": "Kentaur Hotel",
                                    "SZOBA_SZAMA": "16",
                                    "(No column name)": "1"
                                },
                                {
                                    "SZALLAS_NEV": "Sába-Ház",
                                    "SZOBA_SZAMA": "4",
                                    "(No column name)": "1"
                                },
                                {
                                    "SZALLAS_NEV": "Lagúna Hotel",
                                    "SZOBA_SZAMA": "15",
                                    "(No column name)": "1"
                                },
                                {
                                    "SZALLAS_NEV": "Partiszél Vendégház",
                                    "SZOBA_SZAMA": "2",
                                    "(No column name)": "1"
                                },
                                {
                                    "SZALLAS_NEV": "Hotel Három Hattyú",
                                    "SZOBA_SZAMA": "19",
                                    "(No column name)": "1"
                                },
                                {
                                    "SZALLAS_NEV": "Jáde panzió",
                                    "SZOBA_SZAMA": "2",
                                    "(No column name)": "1"
                                },
                                {
                                    "SZALLAS_NEV": "Hotel Három Hattyú",
                                    "SZOBA_SZAMA": "5",
                                    "(No column name)": "1"
                                },
                                {
                                    "SZALLAS_NEV": "Lagúna Hotel",
                                    "SZOBA_SZAMA": "3",
                                    "(No column name)": "1"
                                },
                                {
                                    "SZALLAS_NEV": "Fortuna Panzió",
                                    "SZOBA_SZAMA": "5",
                                    "(No column name)": "1"
                                },
                                {
                                    "SZALLAS_NEV": "Gold Hotel",
                                    "SZOBA_SZAMA": "5",
                                    "(No column name)": "1"
                                },
                                {
                                    "SZALLAS_NEV": "Fortuna Apartman",
                                    "SZOBA_SZAMA": "5",
                                    "(No column name)": "1"
                                },
                                {
                                    "SZALLAS_NEV": "Lagúna Hotel",
                                    "SZOBA_SZAMA": "2",
                                    "(No column name)": "1"
                                },
                                {
                                    "SZALLAS_NEV": "Gold Hotel",
                                    "SZOBA_SZAMA": "15",
                                    "(No column name)": "1"
                                },
                                {
                                    "SZALLAS_NEV": "Családi Ház",
                                    "SZOBA_SZAMA": "2",
                                    "(No column name)": "1"
                                },
                                {
                                    "SZALLAS_NEV": "Lagúna Hotel",
                                    "SZOBA_SZAMA": "12",
                                    "(No column name)": "1"
                                },
                                {
                                    "SZALLAS_NEV": "Hotel Három Hattyú",
                                    "SZOBA_SZAMA": "4",
                                    "(No column name)": "1"
                                },
                                {
                                    "SZALLAS_NEV": "Sába-Ház",
                                    "SZOBA_SZAMA": "3",
                                    "(No column name)": "1"
                                },
                                {
                                    "SZALLAS_NEV": "Kentaur Hotel",
                                    "SZOBA_SZAMA": "31",
                                    "(No column name)": "1"
                                },
                                {
                                    "SZALLAS_NEV": "Kentaur Hotel",
                                    "SZOBA_SZAMA": "5",
                                    "(No column name)": "1"
                                },
                                {
                                    "SZALLAS_NEV": "Gold Hotel",
                                    "SZOBA_SZAMA": "9",
                                    "(No column name)": "1"
                                },
                                {
                                    "SZALLAS_NEV": "Fortuna Panzió",
                                    "SZOBA_SZAMA": "4",
                                    "(No column name)": "1"
                                },
                                {
                                    "SZALLAS_NEV": "Hotel Három Hattyú",
                                    "SZOBA_SZAMA": "6",
                                    "(No column name)": "1"
                                },
                                {
                                    "SZALLAS_NEV": "Gold Hotel",
                                    "SZOBA_SZAMA": "21",
                                    "(No column name)": "1"
                                },
                                {
                                    "SZALLAS_NEV": "Gold Hotel",
                                    "SZOBA_SZAMA": "32",
                                    "(No column name)": "1"
                                },
                                {
                                    "SZALLAS_NEV": "Kentaur Hotel",
                                    "SZOBA_SZAMA": "34",
                                    "(No column name)": "1"
                                },
                                {
                                    "SZALLAS_NEV": "Gold Hotel",
                                    "SZOBA_SZAMA": "29",
                                    "(No column name)": "1"
                                },
                                {
                                    "SZALLAS_NEV": "Kentaur Hotel",
                                    "SZOBA_SZAMA": "11",
                                    "(No column name)": "1"
                                },
                                {
                                    "SZALLAS_NEV": "Gold Hotel",
                                    "SZOBA_SZAMA": "17",
                                    "(No column name)": "1"
                                },
                                {
                                    "SZALLAS_NEV": "Lagúna Hotel",
                                    "SZOBA_SZAMA": "14",
                                    "(No column name)": "1"
                                },
                                {
                                    "SZALLAS_NEV": "Gold Hotel",
                                    "SZOBA_SZAMA": "21",
                                    "(No column name)": "1"
                                },
                                {
                                    "SZALLAS_NEV": "Gold Hotel",
                                    "SZOBA_SZAMA": "28",
                                    "(No column name)": "1"
                                },
                                {
                                    "SZALLAS_NEV": "Kentaur Hotel",
                                    "SZOBA_SZAMA": "22",
                                    "(No column name)": "1"
                                },
                                {
                                    "SZALLAS_NEV": "Gold Hotel",
                                    "SZOBA_SZAMA": "10",
                                    "(No column name)": "1"
                                },
                                {
                                    "SZALLAS_NEV": "Kentaur Hotel",
                                    "SZOBA_SZAMA": "27",
                                    "(No column name)": "1"
                                },
                                {
                                    "SZALLAS_NEV": "Gold Hotel",
                                    "SZOBA_SZAMA": "20",
                                    "(No column name)": "1"
                                },
                                {
                                    "SZALLAS_NEV": "Hotel Három Hattyú",
                                    "SZOBA_SZAMA": "20",
                                    "(No column name)": "1"
                                },
                                {
                                    "SZALLAS_NEV": "Fortuna panzió",
                                    "SZOBA_SZAMA": "11",
                                    "(No column name)": "1"
                                },
                                {
                                    "SZALLAS_NEV": "Családi Ház",
                                    "SZOBA_SZAMA": "4",
                                    "(No column name)": "1"
                                },
                                {
                                    "SZALLAS_NEV": "Fortuna panzió",
                                    "SZOBA_SZAMA": "13",
                                    "(No column name)": "1"
                                },
                                {
                                    "SZALLAS_NEV": "Hotel Három Hattyú",
                                    "SZOBA_SZAMA": "12",
                                    "(No column name)": "1"
                                },
                                {
                                    "SZALLAS_NEV": "Gold Hotel",
                                    "SZOBA_SZAMA": "24",
                                    "(No column name)": "1"
                                },
                                {
                                    "SZALLAS_NEV": "Hotel Három Hattyú",
                                    "SZOBA_SZAMA": "9",
                                    "(No column name)": "1"
                                },
                                {
                                    "SZALLAS_NEV": "Lagúna Hotel",
                                    "SZOBA_SZAMA": "22",
                                    "(No column name)": "1"
                                },
                                {
                                    "SZALLAS_NEV": "Gold Hotel",
                                    "SZOBA_SZAMA": "21",
                                    "(No column name)": "1"
                                },
                                {
                                    "SZALLAS_NEV": "Sába-Ház",
                                    "SZOBA_SZAMA": "8",
                                    "(No column name)": "1"
                                },
                                {
                                    "SZALLAS_NEV": "Gold Hotel",
                                    "SZOBA_SZAMA": "23",
                                    "(No column name)": "1"
                                },
                                {
                                    "SZALLAS_NEV": "Fortuna Apartman",
                                    "SZOBA_SZAMA": "3",
                                    "(No column name)": "1"
                                },
                                {
                                    "SZALLAS_NEV": "Sába-Ház",
                                    "SZOBA_SZAMA": "12",
                                    "(No column name)": "1"
                                },
                                {
                                    "SZALLAS_NEV": "Kentaur Hotel",
                                    "SZOBA_SZAMA": "28",
                                    "(No column name)": "1"
                                },
                                {
                                    "SZALLAS_NEV": "Gold Hotel",
                                    "SZOBA_SZAMA": "25",
                                    "(No column name)": "1"
                                },
                                {
                                    "SZALLAS_NEV": "Kentaur Hotel",
                                    "SZOBA_SZAMA": "29",
                                    "(No column name)": "1"
                                },
                                {
                                    "SZALLAS_NEV": "Kentaur Hotel",
                                    "SZOBA_SZAMA": "12",
                                    "(No column name)": "1"
                                },
                                {
                                    "SZALLAS_NEV": "Kentaur Hotel",
                                    "SZOBA_SZAMA": "13",
                                    "(No column name)": "1"
                                },
                                {
                                    "SZALLAS_NEV": "Lagúna Hotel",
                                    "SZOBA_SZAMA": "11",
                                    "(No column name)": "1"
                                },
                                {
                                    "SZALLAS_NEV": "Kentaur Hotel",
                                    "SZOBA_SZAMA": "21",
                                    "(No column name)": "1"
                                },
                                {
                                    "SZALLAS_NEV": "Fortuna panzió",
                                    "SZOBA_SZAMA": "13",
                                    "(No column name)": "1"
                                },
                                {
                                    "SZALLAS_NEV": "Hotel Három Hattyú",
                                    "SZOBA_SZAMA": "29",
                                    "(No column name)": "1"
                                },
                                {
                                    "SZALLAS_NEV": "Fortuna panzió",
                                    "SZOBA_SZAMA": "11",
                                    "(No column name)": "1"
                                },
                                {
                                    "SZALLAS_NEV": "Hotel Három Hattyú",
                                    "SZOBA_SZAMA": "16",
                                    "(No column name)": "1"
                                },
                                {
                                    "SZALLAS_NEV": "Gold Hotel",
                                    "SZOBA_SZAMA": "8",
                                    "(No column name)": "1"
                                },
                                {
                                    "SZALLAS_NEV": "Gold Hotel",
                                    "SZOBA_SZAMA": "24",
                                    "(No column name)": "1"
                                },
                                {
                                    "SZALLAS_NEV": "Gold Hotel",
                                    "SZOBA_SZAMA": "21",
                                    "(No column name)": "1"
                                },
                                {
                                    "SZALLAS_NEV": "Kentaur Hotel",
                                    "SZOBA_SZAMA": "22",
                                    "(No column name)": "1"
                                },
                                {
                                    "SZALLAS_NEV": "Fortuna Apartman",
                                    "SZOBA_SZAMA": "1",
                                    "(No column name)": "1"
                                },
                                {
                                    "SZALLAS_NEV": "Kentaur Hotel",
                                    "SZOBA_SZAMA": "24",
                                    "(No column name)": "1"
                                },
                                {
                                    "SZALLAS_NEV": "Hotel Három Hattyú",
                                    "SZOBA_SZAMA": "11",
                                    "(No column name)": "1"
                                },
                                {
                                    "SZALLAS_NEV": "Hotel Három Hattyú",
                                    "SZOBA_SZAMA": "28",
                                    "(No column name)": "1"
                                },
                                {
                                    "SZALLAS_NEV": "Hotel Három Hattyú",
                                    "SZOBA_SZAMA": "38",
                                    "(No column name)": "1"
                                },
                                {
                                    "SZALLAS_NEV": "Hotel Három Hattyú",
                                    "SZOBA_SZAMA": "7",
                                    "(No column name)": "1"
                                },
                                {
                                    "SZALLAS_NEV": "Kentaur Hotel",
                                    "SZOBA_SZAMA": "9",
                                    "(No column name)": "1"
                                },
                                {
                                    "SZALLAS_NEV": "Partiszél Vendégház",
                                    "SZOBA_SZAMA": "1",
                                    "(No column name)": "1"
                                },
                                {
                                    "SZALLAS_NEV": "Gold Hotel",
                                    "SZOBA_SZAMA": "31",
                                    "(No column name)": "1"
                                },
                                {
                                    "SZALLAS_NEV": "Hotel Három Hattyú",
                                    "SZOBA_SZAMA": "29",
                                    "(No column name)": "1"
                                },
                                {
                                    "SZALLAS_NEV": "Hotel Három Hattyú",
                                    "SZOBA_SZAMA": "39",
                                    "(No column name)": "1"
                                },
                                {
                                    "SZALLAS_NEV": "Lagúna Hotel",
                                    "SZOBA_SZAMA": "1",
                                    "(No column name)": "1"
                                },
                                {
                                    "SZALLAS_NEV": "Fortuna panzió",
                                    "SZOBA_SZAMA": "4",
                                    "(No column name)": "1"
                                },
                                {
                                    "SZALLAS_NEV": "Hotel Három Hattyú",
                                    "SZOBA_SZAMA": "7",
                                    "(No column name)": "1"
                                },
                                {
                                    "SZALLAS_NEV": "Hotel Három Hattyú",
                                    "SZOBA_SZAMA": "4",
                                    "(No column name)": "1"
                                },
                                {
                                    "SZALLAS_NEV": "Fortuna panzió",
                                    "SZOBA_SZAMA": "7",
                                    "(No column name)": "1"
                                },
                                {
                                    "SZALLAS_NEV": "Szieszta Apartmanház",
                                    "SZOBA_SZAMA": "6",
                                    "(No column name)": "1"
                                },
                                {
                                    "SZALLAS_NEV": "Lagúna Hotel",
                                    "SZOBA_SZAMA": "18",
                                    "(No column name)": "1"
                                },
                                {
                                    "SZALLAS_NEV": "Gold Hotel",
                                    "SZOBA_SZAMA": "17",
                                    "(No column name)": "1"
                                },
                                {
                                    "SZALLAS_NEV": "Hotel Három Hattyú",
                                    "SZOBA_SZAMA": "1",
                                    "(No column name)": "1"
                                },
                                {
                                    "SZALLAS_NEV": "Lagúna Hotel",
                                    "SZOBA_SZAMA": "6",
                                    "(No column name)": "1"
                                },
                                {
                                    "SZALLAS_NEV": "Kentaur Hotel",
                                    "SZOBA_SZAMA": "6",
                                    "(No column name)": "1"
                                },
                                {
                                    "SZALLAS_NEV": "Hotel Három Hattyú",
                                    "SZOBA_SZAMA": "31",
                                    "(No column name)": "1"
                                },
                                {
                                    "SZALLAS_NEV": "Kentaur Hotel",
                                    "SZOBA_SZAMA": "17",
                                    "(No column name)": "1"
                                },
                                {
                                    "SZALLAS_NEV": "Hotel Három Hattyú",
                                    "SZOBA_SZAMA": "24",
                                    "(No column name)": "1"
                                },
                                {
                                    "SZALLAS_NEV": "Sába-Ház",
                                    "SZOBA_SZAMA": "1",
                                    "(No column name)": "1"
                                },
                                {
                                    "SZALLAS_NEV": "Hotel Három Hattyú",
                                    "SZOBA_SZAMA": "31",
                                    "(No column name)": "1"
                                },
                                {
                                    "SZALLAS_NEV": "Gold Hotel",
                                    "SZOBA_SZAMA": "18",
                                    "(No column name)": "1"
                                },
                                {
                                    "SZALLAS_NEV": "Hotel Három Hattyú",
                                    "SZOBA_SZAMA": "3",
                                    "(No column name)": "1"
                                },
                                {
                                    "SZALLAS_NEV": "Partiszél Vendégház",
                                    "SZOBA_SZAMA": "5",
                                    "(No column name)": "1"
                                },
                                {
                                    "SZALLAS_NEV": "Gold Hotel",
                                    "SZOBA_SZAMA": "23",
                                    "(No column name)": "1"
                                },
                                {
                                    "SZALLAS_NEV": "Fortuna Apartman",
                                    "SZOBA_SZAMA": "1",
                                    "(No column name)": "1"
                                },
                                {
                                    "SZALLAS_NEV": "Lagúna Hotel",
                                    "SZOBA_SZAMA": "5",
                                    "(No column name)": "1"
                                },
                                {
                                    "SZALLAS_NEV": "Gold Hotel",
                                    "SZOBA_SZAMA": "5",
                                    "(No column name)": "1"
                                },
                                {
                                    "SZALLAS_NEV": "Gold Hotel",
                                    "SZOBA_SZAMA": "24",
                                    "(No column name)": "1"
                                },
                                {
                                    "SZALLAS_NEV": "Fortuna panzió",
                                    "SZOBA_SZAMA": "12",
                                    "(No column name)": "1"
                                },
                                {
                                    "SZALLAS_NEV": "Gold Hotel",
                                    "SZOBA_SZAMA": "8",
                                    "(No column name)": "1"
                                },
                                {
                                    "SZALLAS_NEV": "Fortuna panzió",
                                    "SZOBA_SZAMA": "12",
                                    "(No column name)": "1"
                                },
                                {
                                    "SZALLAS_NEV": "Lagúna Hotel",
                                    "SZOBA_SZAMA": "5",
                                    "(No column name)": "1"
                                },
                                {
                                    "SZALLAS_NEV": "Fortuna Panzió",
                                    "SZOBA_SZAMA": "7",
                                    "(No column name)": "1"
                                },
                                {
                                    "SZALLAS_NEV": "Gold Hotel",
                                    "SZOBA_SZAMA": "25",
                                    "(No column name)": "1"
                                },
                                {
                                    "SZALLAS_NEV": "Hotel Három Hattyú",
                                    "SZOBA_SZAMA": "36",
                                    "(No column name)": "1"
                                },
                                {
                                    "SZALLAS_NEV": "Fortuna Apartman",
                                    "SZOBA_SZAMA": "4",
                                    "(No column name)": "1"
                                },
                                {
                                    "SZALLAS_NEV": "Kentaur Hotel",
                                    "SZOBA_SZAMA": "12",
                                    "(No column name)": "1"
                                },
                                {
                                    "SZALLAS_NEV": "Szieszta Apartmanház",
                                    "SZOBA_SZAMA": "4",
                                    "(No column name)": "1"
                                },
                                {
                                    "SZALLAS_NEV": "Fortuna panzió",
                                    "SZOBA_SZAMA": "3",
                                    "(No column name)": "1"
                                },
                                {
                                    "SZALLAS_NEV": "Sába-Ház",
                                    "SZOBA_SZAMA": "7",
                                    "(No column name)": "1"
                                },
                                {
                                    "SZALLAS_NEV": "Jáde panzió",
                                    "SZOBA_SZAMA": "2",
                                    "(No column name)": "1"
                                },
                                {
                                    "SZALLAS_NEV": "Lagúna Hotel",
                                    "SZOBA_SZAMA": "7",
                                    "(No column name)": "1"
                                },
                                {
                                    "SZALLAS_NEV": "Hotel Három Hattyú",
                                    "SZOBA_SZAMA": "30",
                                    "(No column name)": "1"
                                },
                                {
                                    "SZALLAS_NEV": "Családi Ház",
                                    "SZOBA_SZAMA": "1",
                                    "(No column name)": "1"
                                },
                                {
                                    "SZALLAS_NEV": "Gold Hotel",
                                    "SZOBA_SZAMA": "33",
                                    "(No column name)": "1"
                                },
                                {
                                    "SZALLAS_NEV": "Lagúna Hotel",
                                    "SZOBA_SZAMA": "14",
                                    "(No column name)": "1"
                                },
                                {
                                    "SZALLAS_NEV": "Gold Hotel",
                                    "SZOBA_SZAMA": "23",
                                    "(No column name)": "1"
                                },
                                {
                                    "SZALLAS_NEV": "Fortuna Apartman",
                                    "SZOBA_SZAMA": "2",
                                    "(No column name)": "1"
                                },
                                {
                                    "SZALLAS_NEV": "Lagúna Hotel",
                                    "SZOBA_SZAMA": "4",
                                    "(No column name)": "1"
                                },
                                {
                                    "SZALLAS_NEV": "Kentaur Hotel",
                                    "SZOBA_SZAMA": "14",
                                    "(No column name)": "1"
                                },
                                {
                                    "SZALLAS_NEV": "Fortuna Panzió",
                                    "SZOBA_SZAMA": "3",
                                    "(No column name)": "1"
                                },
                                {
                                    "SZALLAS_NEV": "Lagúna Hotel",
                                    "SZOBA_SZAMA": "13",
                                    "(No column name)": "1"
                                },
                                {
                                    "SZALLAS_NEV": "Sába-Ház",
                                    "SZOBA_SZAMA": "6",
                                    "(No column name)": "1"
                                },
                                {
                                    "SZALLAS_NEV": "Kentaur Hotel",
                                    "SZOBA_SZAMA": "9",
                                    "(No column name)": "1"
                                },
                                {
                                    "SZALLAS_NEV": "Gold Hotel",
                                    "SZOBA_SZAMA": "26",
                                    "(No column name)": "1"
                                },
                                {
                                    "SZALLAS_NEV": "Sába-Ház",
                                    "SZOBA_SZAMA": "12",
                                    "(No column name)": "1"
                                },
                                {
                                    "SZALLAS_NEV": "Hotel Három Hattyú",
                                    "SZOBA_SZAMA": "22",
                                    "(No column name)": "1"
                                },
                                {
                                    "SZALLAS_NEV": "Fortuna panzió",
                                    "SZOBA_SZAMA": "10",
                                    "(No column name)": "1"
                                },
                                {
                                    "SZALLAS_NEV": "Fortuna Apartman",
                                    "SZOBA_SZAMA": "3",
                                    "(No column name)": "1"
                                },
                                {
                                    "SZALLAS_NEV": "Jáde panzió",
                                    "SZOBA_SZAMA": "1",
                                    "(No column name)": "1"
                                },
                                {
                                    "SZALLAS_NEV": "Hotel Három Hattyú",
                                    "SZOBA_SZAMA": "6",
                                    "(No column name)": "1"
                                },
                                {
                                    "SZALLAS_NEV": "Gold Hotel",
                                    "SZOBA_SZAMA": "2",
                                    "(No column name)": "1"
                                },
                                {
                                    "SZALLAS_NEV": "Partiszél Vendégház",
                                    "SZOBA_SZAMA": "4",
                                    "(No column name)": "1"
                                },
                                {
                                    "SZALLAS_NEV": "Lagúna Hotel",
                                    "SZOBA_SZAMA": "14",
                                    "(No column name)": "1"
                                },
                                {
                                    "SZALLAS_NEV": "Lagúna Hotel",
                                    "SZOBA_SZAMA": "7",
                                    "(No column name)": "1"
                                },
                                {
                                    "SZALLAS_NEV": "Gold Hotel",
                                    "SZOBA_SZAMA": "13",
                                    "(No column name)": "1"
                                },
                                {
                                    "SZALLAS_NEV": "Hotel Három Hattyú",
                                    "SZOBA_SZAMA": "21",
                                    "(No column name)": "1"
                                },
                                {
                                    "SZALLAS_NEV": "Kentaur Hotel",
                                    "SZOBA_SZAMA": "1",
                                    "(No column name)": "1"
                                },
                                {
                                    "SZALLAS_NEV": "Sába-Ház",
                                    "SZOBA_SZAMA": "3",
                                    "(No column name)": "1"
                                },
                                {
                                    "SZALLAS_NEV": "Lagúna Hotel",
                                    "SZOBA_SZAMA": "12",
                                    "(No column name)": "1"
                                },
                                {
                                    "SZALLAS_NEV": "Sába-Ház",
                                    "SZOBA_SZAMA": "10",
                                    "(No column name)": "1"
                                },
                                {
                                    "SZALLAS_NEV": "Családi Ház",
                                    "SZOBA_SZAMA": "3",
                                    "(No column name)": "1"
                                },
                                {
                                    "SZALLAS_NEV": "Gold Hotel",
                                    "SZOBA_SZAMA": "4",
                                    "(No column name)": "1"
                                },
                                {
                                    "SZALLAS_NEV": "Fortuna Panzió",
                                    "SZOBA_SZAMA": "10",
                                    "(No column name)": "1"
                                },
                                {
                                    "SZALLAS_NEV": "Gold Hotel",
                                    "SZOBA_SZAMA": "4",
                                    "(No column name)": "1"
                                },
                                {
                                    "SZALLAS_NEV": "Sába-Ház",
                                    "SZOBA_SZAMA": "10",
                                    "(No column name)": "1"
                                },
                                {
                                    "SZALLAS_NEV": "Lagúna Hotel",
                                    "SZOBA_SZAMA": "4",
                                    "(No column name)": "1"
                                },
                                {
                                    "SZALLAS_NEV": "Kentaur Hotel",
                                    "SZOBA_SZAMA": "25",
                                    "(No column name)": "1"
                                },
                                {
                                    "SZALLAS_NEV": "Kentaur Hotel",
                                    "SZOBA_SZAMA": "34",
                                    "(No column name)": "1"
                                },
                                {
                                    "SZALLAS_NEV": "Gold Hotel",
                                    "SZOBA_SZAMA": "11",
                                    "(No column name)": "1"
                                },
                                {
                                    "SZALLAS_NEV": "Fortuna Panzió",
                                    "SZOBA_SZAMA": "6",
                                    "(No column name)": "1"
                                },
                                {
                                    "SZALLAS_NEV": "Hotel Három Hattyú",
                                    "SZOBA_SZAMA": "22",
                                    "(No column name)": "1"
                                },
                                {
                                    "SZALLAS_NEV": "Fortuna Panzió",
                                    "SZOBA_SZAMA": "6",
                                    "(No column name)": "1"
                                },
                                {
                                    "SZALLAS_NEV": "Sába-Ház",
                                    "SZOBA_SZAMA": "1",
                                    "(No column name)": "1"
                                },
                                {
                                    "SZALLAS_NEV": "Lagúna Hotel",
                                    "SZOBA_SZAMA": "12",
                                    "(No column name)": "1"
                                },
                                {
                                    "SZALLAS_NEV": "Fortuna Apartman",
                                    "SZOBA_SZAMA": "5",
                                    "(No column name)": "1"
                                },
                                {
                                    "SZALLAS_NEV": "Hotel Három Hattyú",
                                    "SZOBA_SZAMA": "36",
                                    "(No column name)": "1"
                                },
                                {
                                    "SZALLAS_NEV": "Fortuna panzió",
                                    "SZOBA_SZAMA": "3",
                                    "(No column name)": "1"
                                },
                                {
                                    "SZALLAS_NEV": "Lagúna Hotel",
                                    "SZOBA_SZAMA": "14",
                                    "(No column name)": "1"
                                },
                                {
                                    "SZALLAS_NEV": "Hotel Három Hattyú",
                                    "SZOBA_SZAMA": "2",
                                    "(No column name)": "1"
                                },
                                {
                                    "SZALLAS_NEV": "Hotel Három Hattyú",
                                    "SZOBA_SZAMA": "19",
                                    "(No column name)": "1"
                                },
                                {
                                    "SZALLAS_NEV": "Kentaur Hotel",
                                    "SZOBA_SZAMA": "2",
                                    "(No column name)": "1"
                                },
                                {
                                    "SZALLAS_NEV": "Lagúna Hotel",
                                    "SZOBA_SZAMA": "14",
                                    "(No column name)": "1"
                                },
                                {
                                    "SZALLAS_NEV": "Családi Ház",
                                    "SZOBA_SZAMA": "2",
                                    "(No column name)": "1"
                                },
                                {
                                    "SZALLAS_NEV": "Kentaur Hotel",
                                    "SZOBA_SZAMA": "21",
                                    "(No column name)": "1"
                                },
                                {
                                    "SZALLAS_NEV": "Hotel Három Hattyú",
                                    "SZOBA_SZAMA": "38",
                                    "(No column name)": "1"
                                },
                                {
                                    "SZALLAS_NEV": "Gold Hotel",
                                    "SZOBA_SZAMA": "14",
                                    "(No column name)": "1"
                                },
                                {
                                    "SZALLAS_NEV": "Szieszta Apartmanház",
                                    "SZOBA_SZAMA": "5",
                                    "(No column name)": "1"
                                },
                                {
                                    "SZALLAS_NEV": "Sába-Ház",
                                    "SZOBA_SZAMA": "8",
                                    "(No column name)": "1"
                                },
                                {
                                    "SZALLAS_NEV": "Kentaur Hotel",
                                    "SZOBA_SZAMA": "35",
                                    "(No column name)": "1"
                                },
                                {
                                    "SZALLAS_NEV": "Fortuna Apartman",
                                    "SZOBA_SZAMA": "4",
                                    "(No column name)": "1"
                                },
                                {
                                    "SZALLAS_NEV": "Fortuna panzió",
                                    "SZOBA_SZAMA": "10",
                                    "(No column name)": "1"
                                },
                                {
                                    "SZALLAS_NEV": "Kentaur Hotel",
                                    "SZOBA_SZAMA": "3",
                                    "(No column name)": "1"
                                },
                                {
                                    "SZALLAS_NEV": "Fortuna Panzió",
                                    "SZOBA_SZAMA": "5",
                                    "(No column name)": "1"
                                },
                                {
                                    "SZALLAS_NEV": "Fortuna Panzió",
                                    "SZOBA_SZAMA": "9",
                                    "(No column name)": "1"
                                },
                                {
                                    "SZALLAS_NEV": "Lagúna Hotel",
                                    "SZOBA_SZAMA": "24",
                                    "(No column name)": "1"
                                },
                                {
                                    "SZALLAS_NEV": "Fortuna Panzió",
                                    "SZOBA_SZAMA": "10",
                                    "(No column name)": "1"
                                },
                                {
                                    "SZALLAS_NEV": "Hotel Három Hattyú",
                                    "SZOBA_SZAMA": "24",
                                    "(No column name)": "1"
                                },
                                {
                                    "SZALLAS_NEV": "Sába-Ház",
                                    "SZOBA_SZAMA": "2",
                                    "(No column name)": "1"
                                },
                                {
                                    "SZALLAS_NEV": "Fortuna panzió",
                                    "SZOBA_SZAMA": "11",
                                    "(No column name)": "1"
                                },
                                {
                                    "SZALLAS_NEV": "Kentaur Hotel",
                                    "SZOBA_SZAMA": "25",
                                    "(No column name)": "1"
                                },
                                {
                                    "SZALLAS_NEV": "Gold Hotel",
                                    "SZOBA_SZAMA": "13",
                                    "(No column name)": "1"
                                },
                                {
                                    "SZALLAS_NEV": "Sába-Ház",
                                    "SZOBA_SZAMA": "8",
                                    "(No column name)": "1"
                                },
                                {
                                    "SZALLAS_NEV": "Lagúna Hotel",
                                    "SZOBA_SZAMA": "15",
                                    "(No column name)": "1"
                                },
                                {
                                    "SZALLAS_NEV": "Lagúna Hotel",
                                    "SZOBA_SZAMA": "15",
                                    "(No column name)": "1"
                                },
                                {
                                    "SZALLAS_NEV": "Gold Hotel",
                                    "SZOBA_SZAMA": "29",
                                    "(No column name)": "1"
                                },
                                {
                                    "SZALLAS_NEV": "Hotel Három Hattyú",
                                    "SZOBA_SZAMA": "7",
                                    "(No column name)": "1"
                                },
                                {
                                    "SZALLAS_NEV": "Hotel Három Hattyú",
                                    "SZOBA_SZAMA": "14",
                                    "(No column name)": "1"
                                },
                                {
                                    "SZALLAS_NEV": "Kentaur Hotel",
                                    "SZOBA_SZAMA": "7",
                                    "(No column name)": "1"
                                },
                                {
                                    "SZALLAS_NEV": "Gold Hotel",
                                    "SZOBA_SZAMA": "8",
                                    "(No column name)": "1"
                                },
                                {
                                    "SZALLAS_NEV": "Lagúna Hotel",
                                    "SZOBA_SZAMA": "24",
                                    "(No column name)": "1"
                                },
                                {
                                    "SZALLAS_NEV": "Hotel Három Hattyú",
                                    "SZOBA_SZAMA": "2",
                                    "(No column name)": "1"
                                },
                                {
                                    "SZALLAS_NEV": "Gold Hotel",
                                    "SZOBA_SZAMA": "31",
                                    "(No column name)": "1"
                                },
                                {
                                    "SZALLAS_NEV": "Lagúna Hotel",
                                    "SZOBA_SZAMA": "15",
                                    "(No column name)": "1"
                                },
                                {
                                    "SZALLAS_NEV": "Szieszta Apartmanház",
                                    "SZOBA_SZAMA": "3",
                                    "(No column name)": "1"
                                },
                                {
                                    "SZALLAS_NEV": "Kentaur Hotel",
                                    "SZOBA_SZAMA": "14",
                                    "(No column name)": "1"
                                },
                                {
                                    "SZALLAS_NEV": "Fortuna Panzió",
                                    "SZOBA_SZAMA": "6",
                                    "(No column name)": "1"
                                },
                                {
                                    "SZALLAS_NEV": "Kentaur Hotel",
                                    "SZOBA_SZAMA": "25",
                                    "(No column name)": "1"
                                },
                                {
                                    "SZALLAS_NEV": "Fortuna Apartman",
                                    "SZOBA_SZAMA": "7",
                                    "(No column name)": "1"
                                },
                                {
                                    "SZALLAS_NEV": "Lagúna Hotel",
                                    "SZOBA_SZAMA": "1",
                                    "(No column name)": "1"
                                },
                                {
                                    "SZALLAS_NEV": "Sába-Ház",
                                    "SZOBA_SZAMA": "6",
                                    "(No column name)": "1"
                                },
                                {
                                    "SZALLAS_NEV": "Fortuna Panzió",
                                    "SZOBA_SZAMA": "3",
                                    "(No column name)": "1"
                                },
                                {
                                    "SZALLAS_NEV": "Fortuna Apartman",
                                    "SZOBA_SZAMA": "8",
                                    "(No column name)": "1"
                                },
                                {
                                    "SZALLAS_NEV": "Hotel Három Hattyú",
                                    "SZOBA_SZAMA": "37",
                                    "(No column name)": "1"
                                },
                                {
                                    "SZALLAS_NEV": "Gold Hotel",
                                    "SZOBA_SZAMA": "3",
                                    "(No column name)": "1"
                                },
                                {
                                    "SZALLAS_NEV": "Kentaur Hotel",
                                    "SZOBA_SZAMA": "4",
                                    "(No column name)": "1"
                                },
                                {
                                    "SZALLAS_NEV": "Családi Ház",
                                    "SZOBA_SZAMA": "4",
                                    "(No column name)": "1"
                                },
                                {
                                    "SZALLAS_NEV": "Gold Hotel",
                                    "SZOBA_SZAMA": "1",
                                    "(No column name)": "1"
                                },
                                {
                                    "SZALLAS_NEV": "Hotel Három Hattyú",
                                    "SZOBA_SZAMA": "31",
                                    "(No column name)": "1"
                                },
                                {
                                    "SZALLAS_NEV": "Szieszta Apartmanház",
                                    "SZOBA_SZAMA": "2",
                                    "(No column name)": "1"
                                },
                                {
                                    "SZALLAS_NEV": "Kentaur Hotel",
                                    "SZOBA_SZAMA": "21",
                                    "(No column name)": "1"
                                },
                                {
                                    "SZALLAS_NEV": "Hotel Három Hattyú",
                                    "SZOBA_SZAMA": "34",
                                    "(No column name)": "1"
                                },
                                {
                                    "SZALLAS_NEV": "Kentaur Hotel",
                                    "SZOBA_SZAMA": "33",
                                    "(No column name)": "1"
                                },
                                {
                                    "SZALLAS_NEV": "Gold Hotel",
                                    "SZOBA_SZAMA": "21",
                                    "(No column name)": "1"
                                },
                                {
                                    "SZALLAS_NEV": "Hotel Három Hattyú",
                                    "SZOBA_SZAMA": "28",
                                    "(No column name)": "1"
                                },
                                {
                                    "SZALLAS_NEV": "Kentaur Hotel",
                                    "SZOBA_SZAMA": "2",
                                    "(No column name)": "1"
                                },
                                {
                                    "SZALLAS_NEV": "Szieszta Apartmanház",
                                    "SZOBA_SZAMA": "4",
                                    "(No column name)": "1"
                                },
                                {
                                    "SZALLAS_NEV": "Gold Hotel",
                                    "SZOBA_SZAMA": "11",
                                    "(No column name)": "1"
                                },
                                {
                                    "SZALLAS_NEV": "Gold Hotel",
                                    "SZOBA_SZAMA": "23",
                                    "(No column name)": "1"
                                },
                                {
                                    "SZALLAS_NEV": "Kentaur Hotel",
                                    "SZOBA_SZAMA": "34",
                                    "(No column name)": "1"
                                },
                                {
                                    "SZALLAS_NEV": "Fortuna panzió",
                                    "SZOBA_SZAMA": "10",
                                    "(No column name)": "1"
                                },
                                {
                                    "SZALLAS_NEV": "Kentaur Hotel",
                                    "SZOBA_SZAMA": "33",
                                    "(No column name)": "1"
                                },
                                {
                                    "SZALLAS_NEV": "Fortuna panzió",
                                    "SZOBA_SZAMA": "4",
                                    "(No column name)": "1"
                                },
                                {
                                    "SZALLAS_NEV": "Sába-Ház",
                                    "SZOBA_SZAMA": "6",
                                    "(No column name)": "1"
                                },
                                {
                                    "SZALLAS_NEV": "Kentaur Hotel",
                                    "SZOBA_SZAMA": "18",
                                    "(No column name)": "1"
                                },
                                {
                                    "SZALLAS_NEV": "Kentaur Hotel",
                                    "SZOBA_SZAMA": "15",
                                    "(No column name)": "1"
                                },
                                {
                                    "SZALLAS_NEV": "Sába-Ház",
                                    "SZOBA_SZAMA": "12",
                                    "(No column name)": "1"
                                },
                                {
                                    "SZALLAS_NEV": "Kentaur Hotel",
                                    "SZOBA_SZAMA": "25",
                                    "(No column name)": "1"
                                },
                                {
                                    "SZALLAS_NEV": "Kentaur Hotel",
                                    "SZOBA_SZAMA": "34",
                                    "(No column name)": "1"
                                },
                                {
                                    "SZALLAS_NEV": "Hotel Három Hattyú",
                                    "SZOBA_SZAMA": "37",
                                    "(No column name)": "1"
                                },
                                {
                                    "SZALLAS_NEV": "Gold Hotel",
                                    "SZOBA_SZAMA": "20",
                                    "(No column name)": "1"
                                },
                                {
                                    "SZALLAS_NEV": "Jáde panzió",
                                    "SZOBA_SZAMA": "2",
                                    "(No column name)": "1"
                                },
                                {
                                    "SZALLAS_NEV": "Sába-Ház",
                                    "SZOBA_SZAMA": "8",
                                    "(No column name)": "1"
                                },
                                {
                                    "SZALLAS_NEV": "Kentaur Hotel",
                                    "SZOBA_SZAMA": "9",
                                    "(No column name)": "1"
                                },
                                {
                                    "SZALLAS_NEV": "Hotel Három Hattyú",
                                    "SZOBA_SZAMA": "8",
                                    "(No column name)": "1"
                                },
                                {
                                    "SZALLAS_NEV": "Kentaur Hotel",
                                    "SZOBA_SZAMA": "20",
                                    "(No column name)": "1"
                                },
                                {
                                    "SZALLAS_NEV": "Fortuna panzió",
                                    "SZOBA_SZAMA": "4",
                                    "(No column name)": "1"
                                },
                                {
                                    "SZALLAS_NEV": "Kentaur Hotel",
                                    "SZOBA_SZAMA": "31",
                                    "(No column name)": "1"
                                },
                                {
                                    "SZALLAS_NEV": "Fortuna Panzió",
                                    "SZOBA_SZAMA": "10",
                                    "(No column name)": "1"
                                },
                                {
                                    "SZALLAS_NEV": "Kentaur Hotel",
                                    "SZOBA_SZAMA": "5",
                                    "(No column name)": "1"
                                },
                                {
                                    "SZALLAS_NEV": "Lagúna Hotel",
                                    "SZOBA_SZAMA": "12",
                                    "(No column name)": "1"
                                },
                                {
                                    "SZALLAS_NEV": "Kentaur Hotel",
                                    "SZOBA_SZAMA": "14",
                                    "(No column name)": "1"
                                },
                                {
                                    "SZALLAS_NEV": "Gold Hotel",
                                    "SZOBA_SZAMA": "1",
                                    "(No column name)": "1"
                                },
                                {
                                    "SZALLAS_NEV": "Lagúna Hotel",
                                    "SZOBA_SZAMA": "17",
                                    "(No column name)": "1"
                                },
                                {
                                    "SZALLAS_NEV": "Fortuna panzió",
                                    "SZOBA_SZAMA": "5",
                                    "(No column name)": "1"
                                },
                                {
                                    "SZALLAS_NEV": "Fortuna panzió",
                                    "SZOBA_SZAMA": "12",
                                    "(No column name)": "1"
                                },
                                {
                                    "SZALLAS_NEV": "Családi Ház",
                                    "SZOBA_SZAMA": "4",
                                    "(No column name)": "1"
                                },
                                {
                                    "SZALLAS_NEV": "Gold Hotel",
                                    "SZOBA_SZAMA": "1",
                                    "(No column name)": "1"
                                },
                                {
                                    "SZALLAS_NEV": "Gold Hotel",
                                    "SZOBA_SZAMA": "21",
                                    "(No column name)": "1"
                                },
                                {
                                    "SZALLAS_NEV": "Fortuna panzió",
                                    "SZOBA_SZAMA": "15",
                                    "(No column name)": "1"
                                },
                                {
                                    "SZALLAS_NEV": "Gold Hotel",
                                    "SZOBA_SZAMA": "1",
                                    "(No column name)": "1"
                                },
                                {
                                    "SZALLAS_NEV": "Fortuna panzió",
                                    "SZOBA_SZAMA": "4",
                                    "(No column name)": "1"
                                },
                                {
                                    "SZALLAS_NEV": "Kentaur Hotel",
                                    "SZOBA_SZAMA": "23",
                                    "(No column name)": "1"
                                },
                                {
                                    "SZALLAS_NEV": "Gold Hotel",
                                    "SZOBA_SZAMA": "28",
                                    "(No column name)": "1"
                                },
                                {
                                    "SZALLAS_NEV": "Fortuna panzió",
                                    "SZOBA_SZAMA": "10",
                                    "(No column name)": "1"
                                },
                                {
                                    "SZALLAS_NEV": "Gold Hotel",
                                    "SZOBA_SZAMA": "16",
                                    "(No column name)": "1"
                                },
                                {
                                    "SZALLAS_NEV": "Fortuna Apartman",
                                    "SZOBA_SZAMA": "6",
                                    "(No column name)": "1"
                                },
                                {
                                    "SZALLAS_NEV": "Lagúna Hotel",
                                    "SZOBA_SZAMA": "22",
                                    "(No column name)": "1"
                                },
                                {
                                    "SZALLAS_NEV": "Lagúna Hotel",
                                    "SZOBA_SZAMA": "7",
                                    "(No column name)": "1"
                                },
                                {
                                    "SZALLAS_NEV": "Jáde panzió",
                                    "SZOBA_SZAMA": "4",
                                    "(No column name)": "1"
                                },
                                {
                                    "SZALLAS_NEV": "Jáde panzió",
                                    "SZOBA_SZAMA": "1",
                                    "(No column name)": "1"
                                },
                                {
                                    "SZALLAS_NEV": "Partiszél Vendégház",
                                    "SZOBA_SZAMA": "2",
                                    "(No column name)": "1"
                                },
                                {
                                    "SZALLAS_NEV": "Gold Hotel",
                                    "SZOBA_SZAMA": "24",
                                    "(No column name)": "1"
                                },
                                {
                                    "SZALLAS_NEV": "Gold Hotel",
                                    "SZOBA_SZAMA": "9",
                                    "(No column name)": "1"
                                },
                                {
                                    "SZALLAS_NEV": "Fortuna Panzió",
                                    "SZOBA_SZAMA": "9",
                                    "(No column name)": "1"
                                },
                                {
                                    "SZALLAS_NEV": "Lagúna Hotel",
                                    "SZOBA_SZAMA": "6",
                                    "(No column name)": "1"
                                },
                                {
                                    "SZALLAS_NEV": "Fortuna Apartman",
                                    "SZOBA_SZAMA": "1",
                                    "(No column name)": "1"
                                },
                                {
                                    "SZALLAS_NEV": "Gold Hotel",
                                    "SZOBA_SZAMA": "10",
                                    "(No column name)": "1"
                                },
                                {
                                    "SZALLAS_NEV": "Sába-Ház",
                                    "SZOBA_SZAMA": "11",
                                    "(No column name)": "1"
                                },
                                {
                                    "SZALLAS_NEV": "Fortuna panzió",
                                    "SZOBA_SZAMA": "12",
                                    "(No column name)": "1"
                                },
                                {
                                    "SZALLAS_NEV": "Fortuna panzió",
                                    "SZOBA_SZAMA": "8",
                                    "(No column name)": "1"
                                },
                                {
                                    "SZALLAS_NEV": "Hotel Három Hattyú",
                                    "SZOBA_SZAMA": "22",
                                    "(No column name)": "1"
                                },
                                {
                                    "SZALLAS_NEV": "Partiszél Vendégház",
                                    "SZOBA_SZAMA": "1",
                                    "(No column name)": "1"
                                },
                                {
                                    "SZALLAS_NEV": "Hotel Három Hattyú",
                                    "SZOBA_SZAMA": "33",
                                    "(No column name)": "1"
                                },
                                {
                                    "SZALLAS_NEV": "Fortuna Panzió",
                                    "SZOBA_SZAMA": "1",
                                    "(No column name)": "1"
                                },
                                {
                                    "SZALLAS_NEV": "Gold Hotel",
                                    "SZOBA_SZAMA": "21",
                                    "(No column name)": "1"
                                },
                                {
                                    "SZALLAS_NEV": "Gold Hotel",
                                    "SZOBA_SZAMA": "29",
                                    "(No column name)": "1"
                                },
                                {
                                    "SZALLAS_NEV": "Partiszél Vendégház",
                                    "SZOBA_SZAMA": "1",
                                    "(No column name)": "1"
                                },
                                {
                                    "SZALLAS_NEV": "Gold Hotel",
                                    "SZOBA_SZAMA": "18",
                                    "(No column name)": "1"
                                },
                                {
                                    "SZALLAS_NEV": "Kentaur Hotel",
                                    "SZOBA_SZAMA": "31",
                                    "(No column name)": "1"
                                },
                                {
                                    "SZALLAS_NEV": "Gold Hotel",
                                    "SZOBA_SZAMA": "4",
                                    "(No column name)": "1"
                                },
                                {
                                    "SZALLAS_NEV": "Hotel Három Hattyú",
                                    "SZOBA_SZAMA": "20",
                                    "(No column name)": "1"
                                },
                                {
                                    "SZALLAS_NEV": "Fortuna Panzió",
                                    "SZOBA_SZAMA": "1",
                                    "(No column name)": "1"
                                },
                                {
                                    "SZALLAS_NEV": "Partiszél Vendégház",
                                    "SZOBA_SZAMA": "1",
                                    "(No column name)": "1"
                                },
                                {
                                    "SZALLAS_NEV": "Fortuna Apartman",
                                    "SZOBA_SZAMA": "7",
                                    "(No column name)": "1"
                                },
                                {
                                    "SZALLAS_NEV": "Kentaur Hotel",
                                    "SZOBA_SZAMA": "7",
                                    "(No column name)": "1"
                                },
                                {
                                    "SZALLAS_NEV": "Kentaur Hotel",
                                    "SZOBA_SZAMA": "13",
                                    "(No column name)": "1"
                                },
                                {
                                    "SZALLAS_NEV": "Gold Hotel",
                                    "SZOBA_SZAMA": "17",
                                    "(No column name)": "1"
                                },
                                {
                                    "SZALLAS_NEV": "Kentaur Hotel",
                                    "SZOBA_SZAMA": "13",
                                    "(No column name)": "1"
                                },
                                {
                                    "SZALLAS_NEV": "Gold Hotel",
                                    "SZOBA_SZAMA": "19",
                                    "(No column name)": "1"
                                },
                                {
                                    "SZALLAS_NEV": "Kentaur Hotel",
                                    "SZOBA_SZAMA": "25",
                                    "(No column name)": "1"
                                },
                                {
                                    "SZALLAS_NEV": "Partiszél Vendégház",
                                    "SZOBA_SZAMA": "4",
                                    "(No column name)": "1"
                                },
                                {
                                    "SZALLAS_NEV": "Hotel Három Hattyú",
                                    "SZOBA_SZAMA": "2",
                                    "(No column name)": "1"
                                },
                                {
                                    "SZALLAS_NEV": "Hotel Három Hattyú",
                                    "SZOBA_SZAMA": "25",
                                    "(No column name)": "1"
                                },
                                {
                                    "SZALLAS_NEV": "Gold Hotel",
                                    "SZOBA_SZAMA": "6",
                                    "(No column name)": "1"
                                },
                                {
                                    "SZALLAS_NEV": "Fortuna Apartman",
                                    "SZOBA_SZAMA": "7",
                                    "(No column name)": "1"
                                },
                                {
                                    "SZALLAS_NEV": "Sába-Ház",
                                    "SZOBA_SZAMA": "4",
                                    "(No column name)": "1"
                                },
                                {
                                    "SZALLAS_NEV": "Sába-Ház",
                                    "SZOBA_SZAMA": "8",
                                    "(No column name)": "1"
                                },
                                {
                                    "SZALLAS_NEV": "Fortuna Apartman",
                                    "SZOBA_SZAMA": "3",
                                    "(No column name)": "1"
                                },
                                {
                                    "SZALLAS_NEV": "Sába-Ház",
                                    "SZOBA_SZAMA": "1",
                                    "(No column name)": "1"
                                },
                                {
                                    "SZALLAS_NEV": "Kentaur Hotel",
                                    "SZOBA_SZAMA": "17",
                                    "(No column name)": "1"
                                },
                                {
                                    "SZALLAS_NEV": "Sába-Ház",
                                    "SZOBA_SZAMA": "12",
                                    "(No column name)": "1"
                                },
                                {
                                    "SZALLAS_NEV": "Gold Hotel",
                                    "SZOBA_SZAMA": "32",
                                    "(No column name)": "1"
                                },
                                {
                                    "SZALLAS_NEV": "Hotel Három Hattyú",
                                    "SZOBA_SZAMA": "27",
                                    "(No column name)": "1"
                                },
                                {
                                    "SZALLAS_NEV": "Kentaur Hotel",
                                    "SZOBA_SZAMA": "35",
                                    "(No column name)": "1"
                                },
                                {
                                    "SZALLAS_NEV": "Fortuna Panzió",
                                    "SZOBA_SZAMA": "8",
                                    "(No column name)": "1"
                                },
                                {
                                    "SZALLAS_NEV": "Lagúna Hotel",
                                    "SZOBA_SZAMA": "22",
                                    "(No column name)": "1"
                                },
                                {
                                    "SZALLAS_NEV": "Gold Hotel",
                                    "SZOBA_SZAMA": "23",
                                    "(No column name)": "1"
                                },
                                {
                                    "SZALLAS_NEV": "Gold Hotel",
                                    "SZOBA_SZAMA": "17",
                                    "(No column name)": "1"
                                },
                                {
                                    "SZALLAS_NEV": "Hotel Három Hattyú",
                                    "SZOBA_SZAMA": "21",
                                    "(No column name)": "1"
                                },
                                {
                                    "SZALLAS_NEV": "Fortuna Panzió",
                                    "SZOBA_SZAMA": "2",
                                    "(No column name)": "1"
                                },
                                {
                                    "SZALLAS_NEV": "Kentaur Hotel",
                                    "SZOBA_SZAMA": "23",
                                    "(No column name)": "1"
                                },
                                {
                                    "SZALLAS_NEV": "Hotel Három Hattyú",
                                    "SZOBA_SZAMA": "27",
                                    "(No column name)": "1"
                                },
                                {
                                    "SZALLAS_NEV": "Kentaur Hotel",
                                    "SZOBA_SZAMA": "25",
                                    "(No column name)": "1"
                                },
                                {
                                    "SZALLAS_NEV": "Hotel Három Hattyú",
                                    "SZOBA_SZAMA": "20",
                                    "(No column name)": "1"
                                },
                                {
                                    "SZALLAS_NEV": "Sába-Ház",
                                    "SZOBA_SZAMA": "5",
                                    "(No column name)": "1"
                                },
                                {
                                    "SZALLAS_NEV": "Hotel Három Hattyú",
                                    "SZOBA_SZAMA": "24",
                                    "(No column name)": "1"
                                },
                                {
                                    "SZALLAS_NEV": "Hotel Három Hattyú",
                                    "SZOBA_SZAMA": "33",
                                    "(No column name)": "1"
                                },
                                {
                                    "SZALLAS_NEV": "Lagúna Hotel",
                                    "SZOBA_SZAMA": "20",
                                    "(No column name)": "1"
                                },
                                {
                                    "SZALLAS_NEV": "Lagúna Hotel",
                                    "SZOBA_SZAMA": "19",
                                    "(No column name)": "1"
                                },
                                {
                                    "SZALLAS_NEV": "Sába-Ház",
                                    "SZOBA_SZAMA": "12",
                                    "(No column name)": "1"
                                },
                                {
                                    "SZALLAS_NEV": "Fortuna panzió",
                                    "SZOBA_SZAMA": "11",
                                    "(No column name)": "1"
                                },
                                {
                                    "SZALLAS_NEV": "Hotel Három Hattyú",
                                    "SZOBA_SZAMA": "13",
                                    "(No column name)": "1"
                                },
                                {
                                    "SZALLAS_NEV": "Családi Ház",
                                    "SZOBA_SZAMA": "4",
                                    "(No column name)": "1"
                                },
                                {
                                    "SZALLAS_NEV": "Gold Hotel",
                                    "SZOBA_SZAMA": "5",
                                    "(No column name)": "1"
                                },
                                {
                                    "SZALLAS_NEV": "Hotel Három Hattyú",
                                    "SZOBA_SZAMA": "4",
                                    "(No column name)": "1"
                                },
                                {
                                    "SZALLAS_NEV": "Kentaur Hotel",
                                    "SZOBA_SZAMA": "27",
                                    "(No column name)": "1"
                                },
                                {
                                    "SZALLAS_NEV": "Gold Hotel",
                                    "SZOBA_SZAMA": "29",
                                    "(No column name)": "1"
                                },
                                {
                                    "SZALLAS_NEV": "Gold Hotel",
                                    "SZOBA_SZAMA": "34",
                                    "(No column name)": "1"
                                },
                                {
                                    "SZALLAS_NEV": "Fortuna panzió",
                                    "SZOBA_SZAMA": "11",
                                    "(No column name)": "1"
                                },
                                {
                                    "SZALLAS_NEV": "Lagúna Hotel",
                                    "SZOBA_SZAMA": "9",
                                    "(No column name)": "1"
                                },
                                {
                                    "SZALLAS_NEV": "Gold Hotel",
                                    "SZOBA_SZAMA": "7",
                                    "(No column name)": "1"
                                },
                                {
                                    "SZALLAS_NEV": "Kentaur Hotel",
                                    "SZOBA_SZAMA": "28",
                                    "(No column name)": "1"
                                },
                                {
                                    "SZALLAS_NEV": "Kentaur Hotel",
                                    "SZOBA_SZAMA": "31",
                                    "(No column name)": "1"
                                },
                                {
                                    "SZALLAS_NEV": "Gold Hotel",
                                    "SZOBA_SZAMA": "8",
                                    "(No column name)": "1"
                                },
                                {
                                    "SZALLAS_NEV": "Fortuna panzió",
                                    "SZOBA_SZAMA": "12",
                                    "(No column name)": "1"
                                },
                                {
                                    "SZALLAS_NEV": "Fortuna Panzió",
                                    "SZOBA_SZAMA": "9",
                                    "(No column name)": "1"
                                },
                                {
                                    "SZALLAS_NEV": "Kentaur Hotel",
                                    "SZOBA_SZAMA": "4",
                                    "(No column name)": "1"
                                },
                                {
                                    "SZALLAS_NEV": "Jáde panzió",
                                    "SZOBA_SZAMA": "4",
                                    "(No column name)": "1"
                                },
                                {
                                    "SZALLAS_NEV": "Gold Hotel",
                                    "SZOBA_SZAMA": "26",
                                    "(No column name)": "1"
                                },
                                {
                                    "SZALLAS_NEV": "Sába-Ház",
                                    "SZOBA_SZAMA": "6",
                                    "(No column name)": "1"
                                },
                                {
                                    "SZALLAS_NEV": "Gold Hotel",
                                    "SZOBA_SZAMA": "14",
                                    "(No column name)": "1"
                                },
                                {
                                    "SZALLAS_NEV": "Hotel Három Hattyú",
                                    "SZOBA_SZAMA": "13",
                                    "(No column name)": "1"
                                },
                                {
                                    "SZALLAS_NEV": "Gold Hotel",
                                    "SZOBA_SZAMA": "33",
                                    "(No column name)": "1"
                                },
                                {
                                    "SZALLAS_NEV": "Hotel Három Hattyú",
                                    "SZOBA_SZAMA": "28",
                                    "(No column name)": "1"
                                },
                                {
                                    "SZALLAS_NEV": "Kentaur Hotel",
                                    "SZOBA_SZAMA": "34",
                                    "(No column name)": "1"
                                },
                                {
                                    "SZALLAS_NEV": "Hotel Három Hattyú",
                                    "SZOBA_SZAMA": "28",
                                    "(No column name)": "1"
                                },
                                {
                                    "SZALLAS_NEV": "Kentaur Hotel",
                                    "SZOBA_SZAMA": "33",
                                    "(No column name)": "1"
                                },
                                {
                                    "SZALLAS_NEV": "Hotel Három Hattyú",
                                    "SZOBA_SZAMA": "30",
                                    "(No column name)": "1"
                                },
                                {
                                    "SZALLAS_NEV": "Jáde panzió",
                                    "SZOBA_SZAMA": "3",
                                    "(No column name)": "1"
                                },
                                {
                                    "SZALLAS_NEV": "Kentaur Hotel",
                                    "SZOBA_SZAMA": "24",
                                    "(No column name)": "1"
                                },
                                {
                                    "SZALLAS_NEV": "Sába-Ház",
                                    "SZOBA_SZAMA": "4",
                                    "(No column name)": "1"
                                },
                                {
                                    "SZALLAS_NEV": "Hotel Három Hattyú",
                                    "SZOBA_SZAMA": "27",
                                    "(No column name)": "1"
                                },
                                {
                                    "SZALLAS_NEV": "Fortuna panzió",
                                    "SZOBA_SZAMA": "12",
                                    "(No column name)": "1"
                                },
                                {
                                    "SZALLAS_NEV": "Jáde panzió",
                                    "SZOBA_SZAMA": "5",
                                    "(No column name)": "1"
                                },
                                {
                                    "SZALLAS_NEV": "Fortuna Apartman",
                                    "SZOBA_SZAMA": "6",
                                    "(No column name)": "1"
                                },
                                {
                                    "SZALLAS_NEV": "Kentaur Hotel",
                                    "SZOBA_SZAMA": "21",
                                    "(No column name)": "1"
                                },
                                {
                                    "SZALLAS_NEV": "Hotel Három Hattyú",
                                    "SZOBA_SZAMA": "32",
                                    "(No column name)": "1"
                                },
                                {
                                    "SZALLAS_NEV": "Gold Hotel",
                                    "SZOBA_SZAMA": "18",
                                    "(No column name)": "1"
                                },
                                {
                                    "SZALLAS_NEV": "Kentaur Hotel",
                                    "SZOBA_SZAMA": "22",
                                    "(No column name)": "1"
                                },
                                {
                                    "SZALLAS_NEV": "Partiszél Vendégház",
                                    "SZOBA_SZAMA": "5",
                                    "(No column name)": "1"
                                },
                                {
                                    "SZALLAS_NEV": "Gold Hotel",
                                    "SZOBA_SZAMA": "34",
                                    "(No column name)": "1"
                                },
                                {
                                    "SZALLAS_NEV": "Fortuna panzió",
                                    "SZOBA_SZAMA": "9",
                                    "(No column name)": "1"
                                },
                                {
                                    "SZALLAS_NEV": "Kentaur Hotel",
                                    "SZOBA_SZAMA": "26",
                                    "(No column name)": "1"
                                },
                                {
                                    "SZALLAS_NEV": "Lagúna Hotel",
                                    "SZOBA_SZAMA": "3",
                                    "(No column name)": "1"
                                },
                                {
                                    "SZALLAS_NEV": "Gold Hotel",
                                    "SZOBA_SZAMA": "10",
                                    "(No column name)": "1"
                                },
                                {
                                    "SZALLAS_NEV": "Hotel Három Hattyú",
                                    "SZOBA_SZAMA": "2",
                                    "(No column name)": "1"
                                },
                                {
                                    "SZALLAS_NEV": "Gold Hotel",
                                    "SZOBA_SZAMA": "26",
                                    "(No column name)": "1"
                                },
                                {
                                    "SZALLAS_NEV": "Fortuna Panzió",
                                    "SZOBA_SZAMA": "1",
                                    "(No column name)": "1"
                                },
                                {
                                    "SZALLAS_NEV": "Fortuna Panzió",
                                    "SZOBA_SZAMA": "4",
                                    "(No column name)": "1"
                                },
                                {
                                    "SZALLAS_NEV": "Sába-Ház",
                                    "SZOBA_SZAMA": "12",
                                    "(No column name)": "1"
                                },
                                {
                                    "SZALLAS_NEV": "Gold Hotel",
                                    "SZOBA_SZAMA": "15",
                                    "(No column name)": "1"
                                },
                                {
                                    "SZALLAS_NEV": "Gold Hotel",
                                    "SZOBA_SZAMA": "17",
                                    "(No column name)": "1"
                                },
                                {
                                    "SZALLAS_NEV": "Fortuna panzió",
                                    "SZOBA_SZAMA": "6",
                                    "(No column name)": "1"
                                },
                                {
                                    "SZALLAS_NEV": "Jáde panzió",
                                    "SZOBA_SZAMA": "5",
                                    "(No column name)": "1"
                                },
                                {
                                    "SZALLAS_NEV": "Lagúna Hotel",
                                    "SZOBA_SZAMA": "23",
                                    "(No column name)": "1"
                                },
                                {
                                    "SZALLAS_NEV": "Hotel Három Hattyú",
                                    "SZOBA_SZAMA": "29",
                                    "(No column name)": "1"
                                },
                                {
                                    "SZALLAS_NEV": "Kentaur Hotel",
                                    "SZOBA_SZAMA": "19",
                                    "(No column name)": "1"
                                },
                                {
                                    "SZALLAS_NEV": "Családi Ház",
                                    "SZOBA_SZAMA": "3",
                                    "(No column name)": "1"
                                },
                                {
                                    "SZALLAS_NEV": "Hotel Három Hattyú",
                                    "SZOBA_SZAMA": "23",
                                    "(No column name)": "1"
                                },
                                {
                                    "SZALLAS_NEV": "Gold Hotel",
                                    "SZOBA_SZAMA": "24",
                                    "(No column name)": "1"
                                },
                                {
                                    "SZALLAS_NEV": "Fortuna panzió",
                                    "SZOBA_SZAMA": "3",
                                    "(No column name)": "1"
                                },
                                {
                                    "SZALLAS_NEV": "Lagúna Hotel",
                                    "SZOBA_SZAMA": "12",
                                    "(No column name)": "1"
                                },
                                {
                                    "SZALLAS_NEV": "Fortuna panzió",
                                    "SZOBA_SZAMA": "14",
                                    "(No column name)": "1"
                                },
                                {
                                    "SZALLAS_NEV": "Hotel Három Hattyú",
                                    "SZOBA_SZAMA": "37",
                                    "(No column name)": "1"
                                },
                                {
                                    "SZALLAS_NEV": "Fortuna Apartman",
                                    "SZOBA_SZAMA": "2",
                                    "(No column name)": "1"
                                },
                                {
                                    "SZALLAS_NEV": "Hotel Három Hattyú",
                                    "SZOBA_SZAMA": "32",
                                    "(No column name)": "1"
                                },
                                {
                                    "SZALLAS_NEV": "Szieszta Apartmanház",
                                    "SZOBA_SZAMA": "5",
                                    "(No column name)": "1"
                                },
                                {
                                    "SZALLAS_NEV": "Sába-Ház",
                                    "SZOBA_SZAMA": "3",
                                    "(No column name)": "1"
                                },
                                {
                                    "SZALLAS_NEV": "Gold Hotel",
                                    "SZOBA_SZAMA": "27",
                                    "(No column name)": "1"
                                },
                                {
                                    "SZALLAS_NEV": "Jáde panzió",
                                    "SZOBA_SZAMA": "1",
                                    "(No column name)": "1"
                                },
                                {
                                    "SZALLAS_NEV": "Hotel Három Hattyú",
                                    "SZOBA_SZAMA": "20",
                                    "(No column name)": "1"
                                },
                                {
                                    "SZALLAS_NEV": "Lagúna Hotel",
                                    "SZOBA_SZAMA": "5",
                                    "(No column name)": "1"
                                },
                                {
                                    "SZALLAS_NEV": "Gold Hotel",
                                    "SZOBA_SZAMA": "29",
                                    "(No column name)": "1"
                                },
                                {
                                    "SZALLAS_NEV": "Családi Ház",
                                    "SZOBA_SZAMA": "1",
                                    "(No column name)": "1"
                                },
                                {
                                    "SZALLAS_NEV": "Jáde panzió",
                                    "SZOBA_SZAMA": "5",
                                    "(No column name)": "1"
                                },
                                {
                                    "SZALLAS_NEV": "Lagúna Hotel",
                                    "SZOBA_SZAMA": "2",
                                    "(No column name)": "1"
                                },
                                {
                                    "SZALLAS_NEV": "Lagúna Hotel",
                                    "SZOBA_SZAMA": "23",
                                    "(No column name)": "1"
                                },
                                {
                                    "SZALLAS_NEV": "Hotel Három Hattyú",
                                    "SZOBA_SZAMA": "5",
                                    "(No column name)": "1"
                                },
                                {
                                    "SZALLAS_NEV": "Hotel Három Hattyú",
                                    "SZOBA_SZAMA": "31",
                                    "(No column name)": "1"
                                },
                                {
                                    "SZALLAS_NEV": "Hotel Három Hattyú",
                                    "SZOBA_SZAMA": "8",
                                    "(No column name)": "1"
                                },
                                {
                                    "SZALLAS_NEV": "Sába-Ház",
                                    "SZOBA_SZAMA": "2",
                                    "(No column name)": "1"
                                },
                                {
                                    "SZALLAS_NEV": "Fortuna panzió",
                                    "SZOBA_SZAMA": "1",
                                    "(No column name)": "1"
                                },
                                {
                                    "SZALLAS_NEV": "Fortuna panzió",
                                    "SZOBA_SZAMA": "9",
                                    "(No column name)": "1"
                                },
                                {
                                    "SZALLAS_NEV": "Kentaur Hotel",
                                    "SZOBA_SZAMA": "30",
                                    "(No column name)": "1"
                                },
                                {
                                    "SZALLAS_NEV": "Kentaur Hotel",
                                    "SZOBA_SZAMA": "20",
                                    "(No column name)": "1"
                                },
                                {
                                    "SZALLAS_NEV": "Fortuna Panzió",
                                    "SZOBA_SZAMA": "8",
                                    "(No column name)": "1"
                                },
                                {
                                    "SZALLAS_NEV": "Szieszta Apartmanház",
                                    "SZOBA_SZAMA": "2",
                                    "(No column name)": "1"
                                },
                                {
                                    "SZALLAS_NEV": "Lagúna Hotel",
                                    "SZOBA_SZAMA": "17",
                                    "(No column name)": "1"
                                },
                                {
                                    "SZALLAS_NEV": "Szieszta Apartmanház",
                                    "SZOBA_SZAMA": "1",
                                    "(No column name)": "1"
                                },
                                {
                                    "SZALLAS_NEV": "Fortuna panzió",
                                    "SZOBA_SZAMA": "14",
                                    "(No column name)": "1"
                                },
                                {
                                    "SZALLAS_NEV": "Lagúna Hotel",
                                    "SZOBA_SZAMA": "20",
                                    "(No column name)": "1"
                                },
                                {
                                    "SZALLAS_NEV": "Hotel Három Hattyú",
                                    "SZOBA_SZAMA": "32",
                                    "(No column name)": "1"
                                },
                                {
                                    "SZALLAS_NEV": "Kentaur Hotel",
                                    "SZOBA_SZAMA": "1",
                                    "(No column name)": "1"
                                },
                                {
                                    "SZALLAS_NEV": "Lagúna Hotel",
                                    "SZOBA_SZAMA": "5",
                                    "(No column name)": "1"
                                },
                                {
                                    "SZALLAS_NEV": "Gold Hotel",
                                    "SZOBA_SZAMA": "34",
                                    "(No column name)": "1"
                                },
                                {
                                    "SZALLAS_NEV": "Fortuna Panzió",
                                    "SZOBA_SZAMA": "10",
                                    "(No column name)": "1"
                                },
                                {
                                    "SZALLAS_NEV": "Gold Hotel",
                                    "SZOBA_SZAMA": "19",
                                    "(No column name)": "1"
                                },
                                {
                                    "SZALLAS_NEV": "Partiszél Vendégház",
                                    "SZOBA_SZAMA": "2",
                                    "(No column name)": "1"
                                },
                                {
                                    "SZALLAS_NEV": "Sába-Ház",
                                    "SZOBA_SZAMA": "2",
                                    "(No column name)": "1"
                                },
                                {
                                    "SZALLAS_NEV": "Fortuna Apartman",
                                    "SZOBA_SZAMA": "4",
                                    "(No column name)": "1"
                                },
                                {
                                    "SZALLAS_NEV": "Kentaur Hotel",
                                    "SZOBA_SZAMA": "31",
                                    "(No column name)": "1"
                                },
                                {
                                    "SZALLAS_NEV": "Hotel Három Hattyú",
                                    "SZOBA_SZAMA": "9",
                                    "(No column name)": "1"
                                },
                                {
                                    "SZALLAS_NEV": "Sába-Ház",
                                    "SZOBA_SZAMA": "5",
                                    "(No column name)": "1"
                                },
                                {
                                    "SZALLAS_NEV": "Gold Hotel",
                                    "SZOBA_SZAMA": "31",
                                    "(No column name)": "1"
                                },
                                {
                                    "SZALLAS_NEV": "Partiszél Vendégház",
                                    "SZOBA_SZAMA": "4",
                                    "(No column name)": "1"
                                },
                                {
                                    "SZALLAS_NEV": "Fortuna panzió",
                                    "SZOBA_SZAMA": "5",
                                    "(No column name)": "1"
                                },
                                {
                                    "SZALLAS_NEV": "Lagúna Hotel",
                                    "SZOBA_SZAMA": "11",
                                    "(No column name)": "1"
                                },
                                {
                                    "SZALLAS_NEV": "Fortuna panzió",
                                    "SZOBA_SZAMA": "14",
                                    "(No column name)": "1"
                                },
                                {
                                    "SZALLAS_NEV": "Szieszta Apartmanház",
                                    "SZOBA_SZAMA": "2",
                                    "(No column name)": "1"
                                },
                                {
                                    "SZALLAS_NEV": "Kentaur Hotel",
                                    "SZOBA_SZAMA": "10",
                                    "(No column name)": "1"
                                },
                                {
                                    "SZALLAS_NEV": "Kentaur Hotel",
                                    "SZOBA_SZAMA": "13",
                                    "(No column name)": "1"
                                },
                                {
                                    "SZALLAS_NEV": "Fortuna panzió",
                                    "SZOBA_SZAMA": "3",
                                    "(No column name)": "1"
                                },
                                {
                                    "SZALLAS_NEV": "Hotel Három Hattyú",
                                    "SZOBA_SZAMA": "19",
                                    "(No column name)": "1"
                                },
                                {
                                    "SZALLAS_NEV": "Kentaur Hotel",
                                    "SZOBA_SZAMA": "10",
                                    "(No column name)": "1"
                                },
                                {
                                    "SZALLAS_NEV": "Hotel Három Hattyú",
                                    "SZOBA_SZAMA": "23",
                                    "(No column name)": "1"
                                },
                                {
                                    "SZALLAS_NEV": "Kentaur Hotel",
                                    "SZOBA_SZAMA": "6",
                                    "(No column name)": "1"
                                },
                                {
                                    "SZALLAS_NEV": "Lagúna Hotel",
                                    "SZOBA_SZAMA": "10",
                                    "(No column name)": "1"
                                },
                                {
                                    "SZALLAS_NEV": "Fortuna Panzió",
                                    "SZOBA_SZAMA": "4",
                                    "(No column name)": "1"
                                },
                                {
                                    "SZALLAS_NEV": "Hotel Három Hattyú",
                                    "SZOBA_SZAMA": "30",
                                    "(No column name)": "1"
                                },
                                {
                                    "SZALLAS_NEV": "Jáde panzió",
                                    "SZOBA_SZAMA": "3",
                                    "(No column name)": "1"
                                },
                                {
                                    "SZALLAS_NEV": "Gold Hotel",
                                    "SZOBA_SZAMA": "33",
                                    "(No column name)": "1"
                                },
                                {
                                    "SZALLAS_NEV": "Kentaur Hotel",
                                    "SZOBA_SZAMA": "21",
                                    "(No column name)": "1"
                                },
                                {
                                    "SZALLAS_NEV": "Kentaur Hotel",
                                    "SZOBA_SZAMA": "25",
                                    "(No column name)": "1"
                                },
                                {
                                    "SZALLAS_NEV": "Gold Hotel",
                                    "SZOBA_SZAMA": "11",
                                    "(No column name)": "1"
                                },
                                {
                                    "SZALLAS_NEV": "Gold Hotel",
                                    "SZOBA_SZAMA": "30",
                                    "(No column name)": "1"
                                },
                                {
                                    "SZALLAS_NEV": "Kentaur Hotel",
                                    "SZOBA_SZAMA": "5",
                                    "(No column name)": "1"
                                },
                                {
                                    "SZALLAS_NEV": "Hotel Három Hattyú",
                                    "SZOBA_SZAMA": "5",
                                    "(No column name)": "1"
                                },
                                {
                                    "SZALLAS_NEV": "Lagúna Hotel",
                                    "SZOBA_SZAMA": "6",
                                    "(No column name)": "1"
                                },
                                {
                                    "SZALLAS_NEV": "Sába-Ház",
                                    "SZOBA_SZAMA": "6",
                                    "(No column name)": "1"
                                },
                                {
                                    "SZALLAS_NEV": "Lagúna Hotel",
                                    "SZOBA_SZAMA": "16",
                                    "(No column name)": "1"
                                },
                                {
                                    "SZALLAS_NEV": "Szieszta Apartmanház",
                                    "SZOBA_SZAMA": "5",
                                    "(No column name)": "1"
                                },
                                {
                                    "SZALLAS_NEV": "Hotel Három Hattyú",
                                    "SZOBA_SZAMA": "18",
                                    "(No column name)": "1"
                                },
                                {
                                    "SZALLAS_NEV": "Szieszta Apartmanház",
                                    "SZOBA_SZAMA": "3",
                                    "(No column name)": "1"
                                },
                                {
                                    "SZALLAS_NEV": "Kentaur Hotel",
                                    "SZOBA_SZAMA": "28",
                                    "(No column name)": "1"
                                },
                                {
                                    "SZALLAS_NEV": "Lagúna Hotel",
                                    "SZOBA_SZAMA": "16",
                                    "(No column name)": "1"
                                },
                                {
                                    "SZALLAS_NEV": "Fortuna Apartman",
                                    "SZOBA_SZAMA": "4",
                                    "(No column name)": "1"
                                },
                                {
                                    "SZALLAS_NEV": "Partiszél Vendégház",
                                    "SZOBA_SZAMA": "4",
                                    "(No column name)": "1"
                                },
                                {
                                    "SZALLAS_NEV": "Szieszta Apartmanház",
                                    "SZOBA_SZAMA": "2",
                                    "(No column name)": "1"
                                },
                                {
                                    "SZALLAS_NEV": "Hotel Három Hattyú",
                                    "SZOBA_SZAMA": "20",
                                    "(No column name)": "1"
                                },
                                {
                                    "SZALLAS_NEV": "Sába-Ház",
                                    "SZOBA_SZAMA": "3",
                                    "(No column name)": "1"
                                },
                                {
                                    "SZALLAS_NEV": "Jáde panzió",
                                    "SZOBA_SZAMA": "3",
                                    "(No column name)": "1"
                                },
                                {
                                    "SZALLAS_NEV": "Lagúna Hotel",
                                    "SZOBA_SZAMA": "21",
                                    "(No column name)": "1"
                                },
                                {
                                    "SZALLAS_NEV": "Kentaur Hotel",
                                    "SZOBA_SZAMA": "9",
                                    "(No column name)": "1"
                                },
                                {
                                    "SZALLAS_NEV": "Fortuna Apartman",
                                    "SZOBA_SZAMA": "4",
                                    "(No column name)": "1"
                                },
                                {
                                    "SZALLAS_NEV": "Lagúna Hotel",
                                    "SZOBA_SZAMA": "17",
                                    "(No column name)": "1"
                                },
                                {
                                    "SZALLAS_NEV": "Gold Hotel",
                                    "SZOBA_SZAMA": "34",
                                    "(No column name)": "1"
                                },
                                {
                                    "SZALLAS_NEV": "Lagúna Hotel",
                                    "SZOBA_SZAMA": "24",
                                    "(No column name)": "1"
                                },
                                {
                                    "SZALLAS_NEV": "Fortuna Panzió",
                                    "SZOBA_SZAMA": "1",
                                    "(No column name)": "1"
                                },
                                {
                                    "SZALLAS_NEV": "Kentaur Hotel",
                                    "SZOBA_SZAMA": "34",
                                    "(No column name)": "1"
                                },
                                {
                                    "SZALLAS_NEV": "Lagúna Hotel",
                                    "SZOBA_SZAMA": "11",
                                    "(No column name)": "1"
                                },
                                {
                                    "SZALLAS_NEV": "Hotel Három Hattyú",
                                    "SZOBA_SZAMA": "25",
                                    "(No column name)": "1"
                                },
                                {
                                    "SZALLAS_NEV": "Kentaur Hotel",
                                    "SZOBA_SZAMA": "15",
                                    "(No column name)": "1"
                                },
                                {
                                    "SZALLAS_NEV": "Sába-Ház",
                                    "SZOBA_SZAMA": "11",
                                    "(No column name)": "1"
                                },
                                {
                                    "SZALLAS_NEV": "Hotel Három Hattyú",
                                    "SZOBA_SZAMA": "22",
                                    "(No column name)": "1"
                                },
                                {
                                    "SZALLAS_NEV": "Gold Hotel",
                                    "SZOBA_SZAMA": "21",
                                    "(No column name)": "1"
                                },
                                {
                                    "SZALLAS_NEV": "Kentaur Hotel",
                                    "SZOBA_SZAMA": "21",
                                    "(No column name)": "1"
                                },
                                {
                                    "SZALLAS_NEV": "Sába-Ház",
                                    "SZOBA_SZAMA": "4",
                                    "(No column name)": "1"
                                },
                                {
                                    "SZALLAS_NEV": "Hotel Három Hattyú",
                                    "SZOBA_SZAMA": "31",
                                    "(No column name)": "1"
                                },
                                {
                                    "SZALLAS_NEV": "Családi Ház",
                                    "SZOBA_SZAMA": "3",
                                    "(No column name)": "1"
                                },
                                {
                                    "SZALLAS_NEV": "Fortuna Apartman",
                                    "SZOBA_SZAMA": "6",
                                    "(No column name)": "1"
                                },
                                {
                                    "SZALLAS_NEV": "Sába-Ház",
                                    "SZOBA_SZAMA": "7",
                                    "(No column name)": "1"
                                },
                                {
                                    "SZALLAS_NEV": "Sába-Ház",
                                    "SZOBA_SZAMA": "4",
                                    "(No column name)": "1"
                                },
                                {
                                    "SZALLAS_NEV": "Gold Hotel",
                                    "SZOBA_SZAMA": "11",
                                    "(No column name)": "1"
                                },
                                {
                                    "SZALLAS_NEV": "Hotel Három Hattyú",
                                    "SZOBA_SZAMA": "36",
                                    "(No column name)": "1"
                                },
                                {
                                    "SZALLAS_NEV": "Fortuna Panzió",
                                    "SZOBA_SZAMA": "6",
                                    "(No column name)": "1"
                                },
                                {
                                    "SZALLAS_NEV": "Fortuna panzió",
                                    "SZOBA_SZAMA": "6",
                                    "(No column name)": "1"
                                },
                                {
                                    "SZALLAS_NEV": "Sába-Ház",
                                    "SZOBA_SZAMA": "1",
                                    "(No column name)": "1"
                                },
                                {
                                    "SZALLAS_NEV": "Gold Hotel",
                                    "SZOBA_SZAMA": "34",
                                    "(No column name)": "1"
                                },
                                {
                                    "SZALLAS_NEV": "Fortuna Apartman",
                                    "SZOBA_SZAMA": "3",
                                    "(No column name)": "1"
                                },
                                {
                                    "SZALLAS_NEV": "Sába-Ház",
                                    "SZOBA_SZAMA": "12",
                                    "(No column name)": "1"
                                },
                                {
                                    "SZALLAS_NEV": "Gold Hotel",
                                    "SZOBA_SZAMA": "1",
                                    "(No column name)": "1"
                                },
                                {
                                    "SZALLAS_NEV": "Gold Hotel",
                                    "SZOBA_SZAMA": "8",
                                    "(No column name)": "1"
                                },
                                {
                                    "SZALLAS_NEV": "Gold Hotel",
                                    "SZOBA_SZAMA": "12",
                                    "(No column name)": "1"
                                },
                                {
                                    "SZALLAS_NEV": "Fortuna Panzió",
                                    "SZOBA_SZAMA": "2",
                                    "(No column name)": "1"
                                },
                                {
                                    "SZALLAS_NEV": "Lagúna Hotel",
                                    "SZOBA_SZAMA": "11",
                                    "(No column name)": "1"
                                },
                                {
                                    "SZALLAS_NEV": "Lagúna Hotel",
                                    "SZOBA_SZAMA": "15",
                                    "(No column name)": "1"
                                },
                                {
                                    "SZALLAS_NEV": "Gold Hotel",
                                    "SZOBA_SZAMA": "19",
                                    "(No column name)": "1"
                                },
                                {
                                    "SZALLAS_NEV": "Kentaur Hotel",
                                    "SZOBA_SZAMA": "12",
                                    "(No column name)": "1"
                                },
                                {
                                    "SZALLAS_NEV": "Jáde panzió",
                                    "SZOBA_SZAMA": "4",
                                    "(No column name)": "1"
                                },
                                {
                                    "SZALLAS_NEV": "Fortuna panzió",
                                    "SZOBA_SZAMA": "4",
                                    "(No column name)": "1"
                                },
                                {
                                    "SZALLAS_NEV": "Sába-Ház",
                                    "SZOBA_SZAMA": "3",
                                    "(No column name)": "1"
                                },
                                {
                                    "SZALLAS_NEV": "Sába-Ház",
                                    "SZOBA_SZAMA": "1",
                                    "(No column name)": "1"
                                },
                                {
                                    "SZALLAS_NEV": "Gold Hotel",
                                    "SZOBA_SZAMA": "22",
                                    "(No column name)": "1"
                                },
                                {
                                    "SZALLAS_NEV": "Hotel Három Hattyú",
                                    "SZOBA_SZAMA": "25",
                                    "(No column name)": "1"
                                },
                                {
                                    "SZALLAS_NEV": "Lagúna Hotel",
                                    "SZOBA_SZAMA": "9",
                                    "(No column name)": "1"
                                },
                                {
                                    "SZALLAS_NEV": "Lagúna Hotel",
                                    "SZOBA_SZAMA": "6",
                                    "(No column name)": "1"
                                },
                                {
                                    "SZALLAS_NEV": "Sába-Ház",
                                    "SZOBA_SZAMA": "9",
                                    "(No column name)": "1"
                                },
                                {
                                    "SZALLAS_NEV": "Fortuna panzió",
                                    "SZOBA_SZAMA": "2",
                                    "(No column name)": "1"
                                },
                                {
                                    "SZALLAS_NEV": "Kentaur Hotel",
                                    "SZOBA_SZAMA": "24",
                                    "(No column name)": "1"
                                },
                                {
                                    "SZALLAS_NEV": "Lagúna Hotel",
                                    "SZOBA_SZAMA": "18",
                                    "(No column name)": "1"
                                },
                                {
                                    "SZALLAS_NEV": "Gold Hotel",
                                    "SZOBA_SZAMA": "34",
                                    "(No column name)": "1"
                                },
                                {
                                    "SZALLAS_NEV": "Hotel Három Hattyú",
                                    "SZOBA_SZAMA": "20",
                                    "(No column name)": "1"
                                },
                                {
                                    "SZALLAS_NEV": "Kentaur Hotel",
                                    "SZOBA_SZAMA": "6",
                                    "(No column name)": "1"
                                },
                                {
                                    "SZALLAS_NEV": "Sába-Ház",
                                    "SZOBA_SZAMA": "12",
                                    "(No column name)": "1"
                                },
                                {
                                    "SZALLAS_NEV": "Kentaur Hotel",
                                    "SZOBA_SZAMA": "2",
                                    "(No column name)": "1"
                                },
                                {
                                    "SZALLAS_NEV": "Hotel Három Hattyú",
                                    "SZOBA_SZAMA": "32",
                                    "(No column name)": "1"
                                },
                                {
                                    "SZALLAS_NEV": "Fortuna Apartman",
                                    "SZOBA_SZAMA": "8",
                                    "(No column name)": "1"
                                },
                                {
                                    "SZALLAS_NEV": "Lagúna Hotel",
                                    "SZOBA_SZAMA": "20",
                                    "(No column name)": "1"
                                },
                                {
                                    "SZALLAS_NEV": "Hotel Három Hattyú",
                                    "SZOBA_SZAMA": "3",
                                    "(No column name)": "1"
                                },
                                {
                                    "SZALLAS_NEV": "Kentaur Hotel",
                                    "SZOBA_SZAMA": "10",
                                    "(No column name)": "1"
                                },
                                {
                                    "SZALLAS_NEV": "Gold Hotel",
                                    "SZOBA_SZAMA": "8",
                                    "(No column name)": "1"
                                },
                                {
                                    "SZALLAS_NEV": "Gold Hotel",
                                    "SZOBA_SZAMA": "33",
                                    "(No column name)": "1"
                                },
                                {
                                    "SZALLAS_NEV": "Fortuna Apartman",
                                    "SZOBA_SZAMA": "2",
                                    "(No column name)": "1"
                                },
                                {
                                    "SZALLAS_NEV": "Szieszta Apartmanház",
                                    "SZOBA_SZAMA": "6",
                                    "(No column name)": "1"
                                },
                                {
                                    "SZALLAS_NEV": "Sába-Ház",
                                    "SZOBA_SZAMA": "7",
                                    "(No column name)": "1"
                                },
                                {
                                    "SZALLAS_NEV": "Gold Hotel",
                                    "SZOBA_SZAMA": "13",
                                    "(No column name)": "1"
                                },
                                {
                                    "SZALLAS_NEV": "Lagúna Hotel",
                                    "SZOBA_SZAMA": "16",
                                    "(No column name)": "1"
                                },
                                {
                                    "SZALLAS_NEV": "Jáde panzió",
                                    "SZOBA_SZAMA": "5",
                                    "(No column name)": "1"
                                },
                                {
                                    "SZALLAS_NEV": "Kentaur Hotel",
                                    "SZOBA_SZAMA": "25",
                                    "(No column name)": "1"
                                },
                                {
                                    "SZALLAS_NEV": "Hotel Három Hattyú",
                                    "SZOBA_SZAMA": "14",
                                    "(No column name)": "1"
                                },
                                {
                                    "SZALLAS_NEV": "Gold Hotel",
                                    "SZOBA_SZAMA": "7",
                                    "(No column name)": "1"
                                },
                                {
                                    "SZALLAS_NEV": "Sába-Ház",
                                    "SZOBA_SZAMA": "7",
                                    "(No column name)": "1"
                                },
                                {
                                    "SZALLAS_NEV": "Gold Hotel",
                                    "SZOBA_SZAMA": "21",
                                    "(No column name)": "1"
                                },
                                {
                                    "SZALLAS_NEV": "Gold Hotel",
                                    "SZOBA_SZAMA": "31",
                                    "(No column name)": "1"
                                },
                                {
                                    "SZALLAS_NEV": "Fortuna panzió",
                                    "SZOBA_SZAMA": "5",
                                    "(No column name)": "1"
                                },
                                {
                                    "SZALLAS_NEV": "Kentaur Hotel",
                                    "SZOBA_SZAMA": "9",
                                    "(No column name)": "1"
                                },
                                {
                                    "SZALLAS_NEV": "Fortuna Panzió",
                                    "SZOBA_SZAMA": "7",
                                    "(No column name)": "1"
                                },
                                {
                                    "SZALLAS_NEV": "Gold Hotel",
                                    "SZOBA_SZAMA": "18",
                                    "(No column name)": "1"
                                },
                                {
                                    "SZALLAS_NEV": "Szieszta Apartmanház",
                                    "SZOBA_SZAMA": "5",
                                    "(No column name)": "1"
                                },
                                {
                                    "SZALLAS_NEV": "Partiszél Vendégház",
                                    "SZOBA_SZAMA": "2",
                                    "(No column name)": "1"
                                },
                                {
                                    "SZALLAS_NEV": "Kentaur Hotel",
                                    "SZOBA_SZAMA": "10",
                                    "(No column name)": "1"
                                },
                                {
                                    "SZALLAS_NEV": "Hotel Három Hattyú",
                                    "SZOBA_SZAMA": "27",
                                    "(No column name)": "1"
                                },
                                {
                                    "SZALLAS_NEV": "Lagúna Hotel",
                                    "SZOBA_SZAMA": "9",
                                    "(No column name)": "1"
                                },
                                {
                                    "SZALLAS_NEV": "Gold Hotel",
                                    "SZOBA_SZAMA": "6",
                                    "(No column name)": "1"
                                },
                                {
                                    "SZALLAS_NEV": "Fortuna Apartman",
                                    "SZOBA_SZAMA": "6",
                                    "(No column name)": "1"
                                },
                                {
                                    "SZALLAS_NEV": "Szieszta Apartmanház",
                                    "SZOBA_SZAMA": "4",
                                    "(No column name)": "1"
                                },
                                {
                                    "SZALLAS_NEV": "Lagúna Hotel",
                                    "SZOBA_SZAMA": "18",
                                    "(No column name)": "1"
                                },
                                {
                                    "SZALLAS_NEV": "Fortuna Apartman",
                                    "SZOBA_SZAMA": "2",
                                    "(No column name)": "1"
                                },
                                {
                                    "SZALLAS_NEV": "Lagúna Hotel",
                                    "SZOBA_SZAMA": "10",
                                    "(No column name)": "1"
                                },
                                {
                                    "SZALLAS_NEV": "Fortuna Panzió",
                                    "SZOBA_SZAMA": "10",
                                    "(No column name)": "1"
                                },
                                {
                                    "SZALLAS_NEV": "Lagúna Hotel",
                                    "SZOBA_SZAMA": "3",
                                    "(No column name)": "1"
                                },
                                {
                                    "SZALLAS_NEV": "Kentaur Hotel",
                                    "SZOBA_SZAMA": "3",
                                    "(No column name)": "1"
                                },
                                {
                                    "SZALLAS_NEV": "Lagúna Hotel",
                                    "SZOBA_SZAMA": "16",
                                    "(No column name)": "1"
                                },
                                {
                                    "SZALLAS_NEV": "Gold Hotel",
                                    "SZOBA_SZAMA": "25",
                                    "(No column name)": "1"
                                },
                                {
                                    "SZALLAS_NEV": "Partiszél Vendégház",
                                    "SZOBA_SZAMA": "3",
                                    "(No column name)": "1"
                                },
                                {
                                    "SZALLAS_NEV": "Fortuna Apartman",
                                    "SZOBA_SZAMA": "6",
                                    "(No column name)": "1"
                                },
                                {
                                    "SZALLAS_NEV": "Fortuna Panzió",
                                    "SZOBA_SZAMA": "4",
                                    "(No column name)": "1"
                                },
                                {
                                    "SZALLAS_NEV": "Kentaur Hotel",
                                    "SZOBA_SZAMA": "9",
                                    "(No column name)": "1"
                                },
                                {
                                    "SZALLAS_NEV": "Hotel Három Hattyú",
                                    "SZOBA_SZAMA": "32",
                                    "(No column name)": "1"
                                },
                                {
                                    "SZALLAS_NEV": "Hotel Három Hattyú",
                                    "SZOBA_SZAMA": "34",
                                    "(No column name)": "1"
                                },
                                {
                                    "SZALLAS_NEV": "Gold Hotel",
                                    "SZOBA_SZAMA": "14",
                                    "(No column name)": "1"
                                },
                                {
                                    "SZALLAS_NEV": "Fortuna Apartman",
                                    "SZOBA_SZAMA": "5",
                                    "(No column name)": "1"
                                },
                                {
                                    "SZALLAS_NEV": "Hotel Három Hattyú",
                                    "SZOBA_SZAMA": "1",
                                    "(No column name)": "1"
                                },
                                {
                                    "SZALLAS_NEV": "Fortuna panzió",
                                    "SZOBA_SZAMA": "15",
                                    "(No column name)": "1"
                                },
                                {
                                    "SZALLAS_NEV": "Hotel Három Hattyú",
                                    "SZOBA_SZAMA": "31",
                                    "(No column name)": "1"
                                },
                                {
                                    "SZALLAS_NEV": "Gold Hotel",
                                    "SZOBA_SZAMA": "34",
                                    "(No column name)": "1"
                                },
                                {
                                    "SZALLAS_NEV": "Hotel Három Hattyú",
                                    "SZOBA_SZAMA": "3",
                                    "(No column name)": "1"
                                },
                                {
                                    "SZALLAS_NEV": "Kentaur Hotel",
                                    "SZOBA_SZAMA": "12",
                                    "(No column name)": "1"
                                },
                                {
                                    "SZALLAS_NEV": "Jáde panzió",
                                    "SZOBA_SZAMA": "5",
                                    "(No column name)": "1"
                                },
                                {
                                    "SZALLAS_NEV": "Sába-Ház",
                                    "SZOBA_SZAMA": "9",
                                    "(No column name)": "1"
                                },
                                {
                                    "SZALLAS_NEV": "Fortuna Panzió",
                                    "SZOBA_SZAMA": "10",
                                    "(No column name)": "1"
                                },
                                {
                                    "SZALLAS_NEV": "Lagúna Hotel",
                                    "SZOBA_SZAMA": "9",
                                    "(No column name)": "1"
                                },
                                {
                                    "SZALLAS_NEV": "Hotel Három Hattyú",
                                    "SZOBA_SZAMA": "33",
                                    "(No column name)": "1"
                                },
                                {
                                    "SZALLAS_NEV": "Kentaur Hotel",
                                    "SZOBA_SZAMA": "1",
                                    "(No column name)": "1"
                                },
                                {
                                    "SZALLAS_NEV": "Kentaur Hotel",
                                    "SZOBA_SZAMA": "20",
                                    "(No column name)": "1"
                                },
                                {
                                    "SZALLAS_NEV": "Hotel Három Hattyú",
                                    "SZOBA_SZAMA": "37",
                                    "(No column name)": "1"
                                },
                                {
                                    "SZALLAS_NEV": "Fortuna Panzió",
                                    "SZOBA_SZAMA": "4",
                                    "(No column name)": "1"
                                },
                                {
                                    "SZALLAS_NEV": "Hotel Három Hattyú",
                                    "SZOBA_SZAMA": "16",
                                    "(No column name)": "1"
                                },
                                {
                                    "SZALLAS_NEV": "Kentaur Hotel",
                                    "SZOBA_SZAMA": "30",
                                    "(No column name)": "1"
                                },
                                {
                                    "SZALLAS_NEV": "Gold Hotel",
                                    "SZOBA_SZAMA": "18",
                                    "(No column name)": "1"
                                },
                                {
                                    "SZALLAS_NEV": "Gold Hotel",
                                    "SZOBA_SZAMA": "18",
                                    "(No column name)": "1"
                                },
                                {
                                    "SZALLAS_NEV": "Kentaur Hotel",
                                    "SZOBA_SZAMA": "6",
                                    "(No column name)": "1"
                                },
                                {
                                    "SZALLAS_NEV": "Kentaur Hotel",
                                    "SZOBA_SZAMA": "15",
                                    "(No column name)": "1"
                                },
                                {
                                    "SZALLAS_NEV": "Kentaur Hotel",
                                    "SZOBA_SZAMA": "17",
                                    "(No column name)": "1"
                                },
                                {
                                    "SZALLAS_NEV": "Fortuna panzió",
                                    "SZOBA_SZAMA": "5",
                                    "(No column name)": "1"
                                },
                                {
                                    "SZALLAS_NEV": "Sába-Ház",
                                    "SZOBA_SZAMA": "11",
                                    "(No column name)": "1"
                                },
                                {
                                    "SZALLAS_NEV": "Fortuna Apartman",
                                    "SZOBA_SZAMA": "3",
                                    "(No column name)": "1"
                                },
                                {
                                    "SZALLAS_NEV": "Gold Hotel",
                                    "SZOBA_SZAMA": "29",
                                    "(No column name)": "1"
                                },
                                {
                                    "SZALLAS_NEV": "Kentaur Hotel",
                                    "SZOBA_SZAMA": "10",
                                    "(No column name)": "1"
                                },
                                {
                                    "SZALLAS_NEV": "Lagúna Hotel",
                                    "SZOBA_SZAMA": "23",
                                    "(No column name)": "1"
                                },
                                {
                                    "SZALLAS_NEV": "Hotel Három Hattyú",
                                    "SZOBA_SZAMA": "4",
                                    "(No column name)": "1"
                                },
                                {
                                    "SZALLAS_NEV": "Gold Hotel",
                                    "SZOBA_SZAMA": "14",
                                    "(No column name)": "1"
                                },
                                {
                                    "SZALLAS_NEV": "Fortuna Panzió",
                                    "SZOBA_SZAMA": "9",
                                    "(No column name)": "1"
                                },
                                {
                                    "SZALLAS_NEV": "Családi Ház",
                                    "SZOBA_SZAMA": "3",
                                    "(No column name)": "1"
                                },
                                {
                                    "SZALLAS_NEV": "Hotel Három Hattyú",
                                    "SZOBA_SZAMA": "32",
                                    "(No column name)": "1"
                                },
                                {
                                    "SZALLAS_NEV": "Kentaur Hotel",
                                    "SZOBA_SZAMA": "20",
                                    "(No column name)": "1"
                                },
                                {
                                    "SZALLAS_NEV": "Hotel Három Hattyú",
                                    "SZOBA_SZAMA": "27",
                                    "(No column name)": "1"
                                },
                                {
                                    "SZALLAS_NEV": "Gold Hotel",
                                    "SZOBA_SZAMA": "22",
                                    "(No column name)": "1"
                                },
                                {
                                    "SZALLAS_NEV": "Gold Hotel",
                                    "SZOBA_SZAMA": "4",
                                    "(No column name)": "1"
                                },
                                {
                                    "SZALLAS_NEV": "Hotel Három Hattyú",
                                    "SZOBA_SZAMA": "17",
                                    "(No column name)": "1"
                                },
                                {
                                    "SZALLAS_NEV": "Gold Hotel",
                                    "SZOBA_SZAMA": "20",
                                    "(No column name)": "1"
                                },
                                {
                                    "SZALLAS_NEV": "Sába-Ház",
                                    "SZOBA_SZAMA": "7",
                                    "(No column name)": "1"
                                },
                                {
                                    "SZALLAS_NEV": "Szieszta Apartmanház",
                                    "SZOBA_SZAMA": "5",
                                    "(No column name)": "1"
                                },
                                {
                                    "SZALLAS_NEV": "Lagúna Hotel",
                                    "SZOBA_SZAMA": "7",
                                    "(No column name)": "1"
                                },
                                {
                                    "SZALLAS_NEV": "Kentaur Hotel",
                                    "SZOBA_SZAMA": "9",
                                    "(No column name)": "1"
                                },
                                {
                                    "SZALLAS_NEV": "Lagúna Hotel",
                                    "SZOBA_SZAMA": "4",
                                    "(No column name)": "1"
                                },
                                {
                                    "SZALLAS_NEV": "Sába-Ház",
                                    "SZOBA_SZAMA": "5",
                                    "(No column name)": "1"
                                },
                                {
                                    "SZALLAS_NEV": "Kentaur Hotel",
                                    "SZOBA_SZAMA": "3",
                                    "(No column name)": "1"
                                },
                                {
                                    "SZALLAS_NEV": "Lagúna Hotel",
                                    "SZOBA_SZAMA": "6",
                                    "(No column name)": "1"
                                },
                                {
                                    "SZALLAS_NEV": "Sába-Ház",
                                    "SZOBA_SZAMA": "9",
                                    "(No column name)": "1"
                                },
                                {
                                    "SZALLAS_NEV": "Kentaur Hotel",
                                    "SZOBA_SZAMA": "9",
                                    "(No column name)": "1"
                                },
                                {
                                    "SZALLAS_NEV": "Lagúna Hotel",
                                    "SZOBA_SZAMA": "20",
                                    "(No column name)": "1"
                                },
                                {
                                    "SZALLAS_NEV": "Hotel Három Hattyú",
                                    "SZOBA_SZAMA": "23",
                                    "(No column name)": "1"
                                },
                                {
                                    "SZALLAS_NEV": "Kentaur Hotel",
                                    "SZOBA_SZAMA": "17",
                                    "(No column name)": "1"
                                },
                                {
                                    "SZALLAS_NEV": "Partiszél Vendégház",
                                    "SZOBA_SZAMA": "4",
                                    "(No column name)": "1"
                                },
                                {
                                    "SZALLAS_NEV": "Gold Hotel",
                                    "SZOBA_SZAMA": "4",
                                    "(No column name)": "1"
                                },
                                {
                                    "SZALLAS_NEV": "Gold Hotel",
                                    "SZOBA_SZAMA": "6",
                                    "(No column name)": "1"
                                },
                                {
                                    "SZALLAS_NEV": "Kentaur Hotel",
                                    "SZOBA_SZAMA": "29",
                                    "(No column name)": "1"
                                },
                                {
                                    "SZALLAS_NEV": "Szieszta Apartmanház",
                                    "SZOBA_SZAMA": "5",
                                    "(No column name)": "1"
                                },
                                {
                                    "SZALLAS_NEV": "Fortuna Panzió",
                                    "SZOBA_SZAMA": "4",
                                    "(No column name)": "1"
                                },
                                {
                                    "SZALLAS_NEV": "Hotel Három Hattyú",
                                    "SZOBA_SZAMA": "16",
                                    "(No column name)": "1"
                                },
                                {
                                    "SZALLAS_NEV": "Kentaur Hotel",
                                    "SZOBA_SZAMA": "1",
                                    "(No column name)": "1"
                                },
                                {
                                    "SZALLAS_NEV": "Szieszta Apartmanház",
                                    "SZOBA_SZAMA": "4",
                                    "(No column name)": "1"
                                },
                                {
                                    "SZALLAS_NEV": "Sába-Ház",
                                    "SZOBA_SZAMA": "1",
                                    "(No column name)": "1"
                                },
                                {
                                    "SZALLAS_NEV": "Fortuna panzió",
                                    "SZOBA_SZAMA": "3",
                                    "(No column name)": "1"
                                },
                                {
                                    "SZALLAS_NEV": "Gold Hotel",
                                    "SZOBA_SZAMA": "10",
                                    "(No column name)": "1"
                                },
                                {
                                    "SZALLAS_NEV": "Kentaur Hotel",
                                    "SZOBA_SZAMA": "33",
                                    "(No column name)": "1"
                                },
                                {
                                    "SZALLAS_NEV": "Gold Hotel",
                                    "SZOBA_SZAMA": "12",
                                    "(No column name)": "1"
                                },
                                {
                                    "SZALLAS_NEV": "Kentaur Hotel",
                                    "SZOBA_SZAMA": "31",
                                    "(No column name)": "1"
                                },
                                {
                                    "SZALLAS_NEV": "Lagúna Hotel",
                                    "SZOBA_SZAMA": "3",
                                    "(No column name)": "1"
                                },
                                {
                                    "SZALLAS_NEV": "Kentaur Hotel",
                                    "SZOBA_SZAMA": "29",
                                    "(No column name)": "1"
                                },
                                {
                                    "SZALLAS_NEV": "Hotel Három Hattyú",
                                    "SZOBA_SZAMA": "33",
                                    "(No column name)": "1"
                                },
                                {
                                    "SZALLAS_NEV": "Lagúna Hotel",
                                    "SZOBA_SZAMA": "4",
                                    "(No column name)": "1"
                                },
                                {
                                    "SZALLAS_NEV": "Partiszél Vendégház",
                                    "SZOBA_SZAMA": "5",
                                    "(No column name)": "1"
                                },
                                {
                                    "SZALLAS_NEV": "Kentaur Hotel",
                                    "SZOBA_SZAMA": "9",
                                    "(No column name)": "1"
                                },
                                {
                                    "SZALLAS_NEV": "Hotel Három Hattyú",
                                    "SZOBA_SZAMA": "37",
                                    "(No column name)": "1"
                                },
                                {
                                    "SZALLAS_NEV": "Fortuna Apartman",
                                    "SZOBA_SZAMA": "6",
                                    "(No column name)": "1"
                                },
                                {
                                    "SZALLAS_NEV": "Kentaur Hotel",
                                    "SZOBA_SZAMA": "10",
                                    "(No column name)": "1"
                                },
                                {
                                    "SZALLAS_NEV": "Lagúna Hotel",
                                    "SZOBA_SZAMA": "1",
                                    "(No column name)": "1"
                                },
                                {
                                    "SZALLAS_NEV": "Hotel Három Hattyú",
                                    "SZOBA_SZAMA": "38",
                                    "(No column name)": "1"
                                },
                                {
                                    "SZALLAS_NEV": "Fortuna Panzió",
                                    "SZOBA_SZAMA": "7",
                                    "(No column name)": "1"
                                },
                                {
                                    "SZALLAS_NEV": "Partiszél Vendégház",
                                    "SZOBA_SZAMA": "5",
                                    "(No column name)": "1"
                                },
                                {
                                    "SZALLAS_NEV": "Kentaur Hotel",
                                    "SZOBA_SZAMA": "9",
                                    "(No column name)": "1"
                                },
                                {
                                    "SZALLAS_NEV": "Lagúna Hotel",
                                    "SZOBA_SZAMA": "4",
                                    "(No column name)": "1"
                                },
                                {
                                    "SZALLAS_NEV": "Fortuna Panzió",
                                    "SZOBA_SZAMA": "5",
                                    "(No column name)": "1"
                                },
                                {
                                    "SZALLAS_NEV": "Hotel Három Hattyú",
                                    "SZOBA_SZAMA": "21",
                                    "(No column name)": "1"
                                },
                                {
                                    "SZALLAS_NEV": "Lagúna Hotel",
                                    "SZOBA_SZAMA": "10",
                                    "(No column name)": "1"
                                },
                                {
                                    "SZALLAS_NEV": "Hotel Három Hattyú",
                                    "SZOBA_SZAMA": "19",
                                    "(No column name)": "1"
                                },
                                {
                                    "SZALLAS_NEV": "Szieszta Apartmanház",
                                    "SZOBA_SZAMA": "6",
                                    "(No column name)": "1"
                                },
                                {
                                    "SZALLAS_NEV": "Szieszta Apartmanház",
                                    "SZOBA_SZAMA": "4",
                                    "(No column name)": "1"
                                },
                                {
                                    "SZALLAS_NEV": "Jáde panzió",
                                    "SZOBA_SZAMA": "3",
                                    "(No column name)": "1"
                                },
                                {
                                    "SZALLAS_NEV": "Gold Hotel",
                                    "SZOBA_SZAMA": "27",
                                    "(No column name)": "1"
                                },
                                {
                                    "SZALLAS_NEV": "Fortuna Panzió",
                                    "SZOBA_SZAMA": "6",
                                    "(No column name)": "1"
                                },
                                {
                                    "SZALLAS_NEV": "Gold Hotel",
                                    "SZOBA_SZAMA": "33",
                                    "(No column name)": "1"
                                },
                                {
                                    "SZALLAS_NEV": "Hotel Három Hattyú",
                                    "SZOBA_SZAMA": "4",
                                    "(No column name)": "1"
                                },
                                {
                                    "SZALLAS_NEV": "Jáde panzió",
                                    "SZOBA_SZAMA": "4",
                                    "(No column name)": "1"
                                },
                                {
                                    "SZALLAS_NEV": "Kentaur Hotel",
                                    "SZOBA_SZAMA": "9",
                                    "(No column name)": "1"
                                },
                                {
                                    "SZALLAS_NEV": "Gold Hotel",
                                    "SZOBA_SZAMA": "18",
                                    "(No column name)": "1"
                                },
                                {
                                    "SZALLAS_NEV": "Fortuna Panzió",
                                    "SZOBA_SZAMA": "3",
                                    "(No column name)": "1"
                                },
                                {
                                    "SZALLAS_NEV": "Lagúna Hotel",
                                    "SZOBA_SZAMA": "21",
                                    "(No column name)": "1"
                                },
                                {
                                    "SZALLAS_NEV": "Sába-Ház",
                                    "SZOBA_SZAMA": "2",
                                    "(No column name)": "1"
                                },
                                {
                                    "SZALLAS_NEV": "Hotel Három Hattyú",
                                    "SZOBA_SZAMA": "4",
                                    "(No column name)": "1"
                                },
                                {
                                    "SZALLAS_NEV": "Lagúna Hotel",
                                    "SZOBA_SZAMA": "9",
                                    "(No column name)": "1"
                                },
                                {
                                    "SZALLAS_NEV": "Gold Hotel",
                                    "SZOBA_SZAMA": "32",
                                    "(No column name)": "1"
                                },
                                {
                                    "SZALLAS_NEV": "Hotel Három Hattyú",
                                    "SZOBA_SZAMA": "10",
                                    "(No column name)": "1"
                                },
                                {
                                    "SZALLAS_NEV": "Fortuna Apartman",
                                    "SZOBA_SZAMA": "1",
                                    "(No column name)": "1"
                                },
                                {
                                    "SZALLAS_NEV": "Gold Hotel",
                                    "SZOBA_SZAMA": "18",
                                    "(No column name)": "1"
                                },
                                {
                                    "SZALLAS_NEV": "Kentaur Hotel",
                                    "SZOBA_SZAMA": "23",
                                    "(No column name)": "1"
                                },
                                {
                                    "SZALLAS_NEV": "Sába-Ház",
                                    "SZOBA_SZAMA": "10",
                                    "(No column name)": "1"
                                },
                                {
                                    "SZALLAS_NEV": "Szieszta Apartmanház",
                                    "SZOBA_SZAMA": "1",
                                    "(No column name)": "1"
                                },
                                {
                                    "SZALLAS_NEV": "Fortuna panzió",
                                    "SZOBA_SZAMA": "9",
                                    "(No column name)": "1"
                                },
                                {
                                    "SZALLAS_NEV": "Kentaur Hotel",
                                    "SZOBA_SZAMA": "9",
                                    "(No column name)": "1"
                                },
                                {
                                    "SZALLAS_NEV": "Gold Hotel",
                                    "SZOBA_SZAMA": "27",
                                    "(No column name)": "1"
                                },
                                {
                                    "SZALLAS_NEV": "Kentaur Hotel",
                                    "SZOBA_SZAMA": "19",
                                    "(No column name)": "1"
                                },
                                {
                                    "SZALLAS_NEV": "Kentaur Hotel",
                                    "SZOBA_SZAMA": "21",
                                    "(No column name)": "1"
                                },
                                {
                                    "SZALLAS_NEV": "Gold Hotel",
                                    "SZOBA_SZAMA": "18",
                                    "(No column name)": "1"
                                },
                                {
                                    "SZALLAS_NEV": "Kentaur Hotel",
                                    "SZOBA_SZAMA": "6",
                                    "(No column name)": "1"
                                },
                                {
                                    "SZALLAS_NEV": "Kentaur Hotel",
                                    "SZOBA_SZAMA": "5",
                                    "(No column name)": "1"
                                },
                                {
                                    "SZALLAS_NEV": "Gold Hotel",
                                    "SZOBA_SZAMA": "7",
                                    "(No column name)": "1"
                                },
                                {
                                    "SZALLAS_NEV": "Hotel Három Hattyú",
                                    "SZOBA_SZAMA": "34",
                                    "(No column name)": "1"
                                },
                                {
                                    "SZALLAS_NEV": "Kentaur Hotel",
                                    "SZOBA_SZAMA": "24",
                                    "(No column name)": "1"
                                },
                                {
                                    "SZALLAS_NEV": "Hotel Három Hattyú",
                                    "SZOBA_SZAMA": "11",
                                    "(No column name)": "1"
                                },
                                {
                                    "SZALLAS_NEV": "Kentaur Hotel",
                                    "SZOBA_SZAMA": "21",
                                    "(No column name)": "1"
                                },
                                {
                                    "SZALLAS_NEV": "Sába-Ház",
                                    "SZOBA_SZAMA": "1",
                                    "(No column name)": "1"
                                },
                                {
                                    "SZALLAS_NEV": "Fortuna panzió",
                                    "SZOBA_SZAMA": "13",
                                    "(No column name)": "1"
                                },
                                {
                                    "SZALLAS_NEV": "Gold Hotel",
                                    "SZOBA_SZAMA": "8",
                                    "(No column name)": "1"
                                },
                                {
                                    "SZALLAS_NEV": "Hotel Három Hattyú",
                                    "SZOBA_SZAMA": "32",
                                    "(No column name)": "1"
                                },
                                {
                                    "SZALLAS_NEV": "Lagúna Hotel",
                                    "SZOBA_SZAMA": "11",
                                    "(No column name)": "1"
                                },
                                {
                                    "SZALLAS_NEV": "Hotel Három Hattyú",
                                    "SZOBA_SZAMA": "30",
                                    "(No column name)": "1"
                                },
                                {
                                    "SZALLAS_NEV": "Gold Hotel",
                                    "SZOBA_SZAMA": "32",
                                    "(No column name)": "1"
                                },
                                {
                                    "SZALLAS_NEV": "Kentaur Hotel",
                                    "SZOBA_SZAMA": "33",
                                    "(No column name)": "1"
                                },
                                {
                                    "SZALLAS_NEV": "Gold Hotel",
                                    "SZOBA_SZAMA": "6",
                                    "(No column name)": "1"
                                },
                                {
                                    "SZALLAS_NEV": "Hotel Három Hattyú",
                                    "SZOBA_SZAMA": "12",
                                    "(No column name)": "1"
                                },
                                {
                                    "SZALLAS_NEV": "Fortuna panzió",
                                    "SZOBA_SZAMA": "9",
                                    "(No column name)": "1"
                                },
                                {
                                    "SZALLAS_NEV": "Kentaur Hotel",
                                    "SZOBA_SZAMA": "30",
                                    "(No column name)": "1"
                                },
                                {
                                    "SZALLAS_NEV": "Gold Hotel",
                                    "SZOBA_SZAMA": "17",
                                    "(No column name)": "1"
                                },
                                {
                                    "SZALLAS_NEV": "Családi Ház",
                                    "SZOBA_SZAMA": "1",
                                    "(No column name)": "1"
                                },
                                {
                                    "SZALLAS_NEV": "Kentaur Hotel",
                                    "SZOBA_SZAMA": "8",
                                    "(No column name)": "1"
                                },
                                {
                                    "SZALLAS_NEV": "Szieszta Apartmanház",
                                    "SZOBA_SZAMA": "3",
                                    "(No column name)": "1"
                                },
                                {
                                    "SZALLAS_NEV": "Gold Hotel",
                                    "SZOBA_SZAMA": "9",
                                    "(No column name)": "1"
                                },
                                {
                                    "SZALLAS_NEV": "Fortuna panzió",
                                    "SZOBA_SZAMA": "14",
                                    "(No column name)": "1"
                                },
                                {
                                    "SZALLAS_NEV": "Hotel Három Hattyú",
                                    "SZOBA_SZAMA": "25",
                                    "(No column name)": "1"
                                },
                                {
                                    "SZALLAS_NEV": "Hotel Három Hattyú",
                                    "SZOBA_SZAMA": "21",
                                    "(No column name)": "1"
                                },
                                {
                                    "SZALLAS_NEV": "Hotel Három Hattyú",
                                    "SZOBA_SZAMA": "17",
                                    "(No column name)": "1"
                                },
                                {
                                    "SZALLAS_NEV": "Hotel Három Hattyú",
                                    "SZOBA_SZAMA": "3",
                                    "(No column name)": "1"
                                },
                                {
                                    "SZALLAS_NEV": "Gold Hotel",
                                    "SZOBA_SZAMA": "5",
                                    "(No column name)": "1"
                                },
                                {
                                    "SZALLAS_NEV": "Lagúna Hotel",
                                    "SZOBA_SZAMA": "6",
                                    "(No column name)": "1"
                                },
                                {
                                    "SZALLAS_NEV": "Lagúna Hotel",
                                    "SZOBA_SZAMA": "4",
                                    "(No column name)": "1"
                                },
                                {
                                    "SZALLAS_NEV": "Szieszta Apartmanház",
                                    "SZOBA_SZAMA": "4",
                                    "(No column name)": "1"
                                },
                                {
                                    "SZALLAS_NEV": "Hotel Három Hattyú",
                                    "SZOBA_SZAMA": "39",
                                    "(No column name)": "1"
                                },
                                {
                                    "SZALLAS_NEV": "Lagúna Hotel",
                                    "SZOBA_SZAMA": "6",
                                    "(No column name)": "1"
                                },
                                {
                                    "SZALLAS_NEV": "Fortuna panzió",
                                    "SZOBA_SZAMA": "1",
                                    "(No column name)": "1"
                                },
                                {
                                    "SZALLAS_NEV": "Jáde panzió",
                                    "SZOBA_SZAMA": "4",
                                    "(No column name)": "1"
                                },
                                {
                                    "SZALLAS_NEV": "Hotel Három Hattyú",
                                    "SZOBA_SZAMA": "36",
                                    "(No column name)": "1"
                                },
                                {
                                    "SZALLAS_NEV": "Kentaur Hotel",
                                    "SZOBA_SZAMA": "21",
                                    "(No column name)": "1"
                                },
                                {
                                    "SZALLAS_NEV": "Kentaur Hotel",
                                    "SZOBA_SZAMA": "32",
                                    "(No column name)": "1"
                                },
                                {
                                    "SZALLAS_NEV": "Kentaur Hotel",
                                    "SZOBA_SZAMA": "31",
                                    "(No column name)": "1"
                                },
                                {
                                    "SZALLAS_NEV": "Hotel Három Hattyú",
                                    "SZOBA_SZAMA": "4",
                                    "(No column name)": "1"
                                },
                                {
                                    "SZALLAS_NEV": "Lagúna Hotel",
                                    "SZOBA_SZAMA": "8",
                                    "(No column name)": "1"
                                },
                                {
                                    "SZALLAS_NEV": "Lagúna Hotel",
                                    "SZOBA_SZAMA": "4",
                                    "(No column name)": "1"
                                },
                                {
                                    "SZALLAS_NEV": "Lagúna Hotel",
                                    "SZOBA_SZAMA": "6",
                                    "(No column name)": "1"
                                },
                                {
                                    "SZALLAS_NEV": "Hotel Három Hattyú",
                                    "SZOBA_SZAMA": "16",
                                    "(No column name)": "1"
                                },
                                {
                                    "SZALLAS_NEV": "Hotel Három Hattyú",
                                    "SZOBA_SZAMA": "31",
                                    "(No column name)": "1"
                                },
                                {
                                    "SZALLAS_NEV": "Hotel Három Hattyú",
                                    "SZOBA_SZAMA": "28",
                                    "(No column name)": "1"
                                },
                                {
                                    "SZALLAS_NEV": "Gold Hotel",
                                    "SZOBA_SZAMA": "1",
                                    "(No column name)": "1"
                                },
                                {
                                    "SZALLAS_NEV": "Kentaur Hotel",
                                    "SZOBA_SZAMA": "35",
                                    "(No column name)": "1"
                                },
                                {
                                    "SZALLAS_NEV": "Fortuna panzió",
                                    "SZOBA_SZAMA": "3",
                                    "(No column name)": "1"
                                },
                                {
                                    "SZALLAS_NEV": "Hotel Három Hattyú",
                                    "SZOBA_SZAMA": "6",
                                    "(No column name)": "1"
                                },
                                {
                                    "SZALLAS_NEV": "Kentaur Hotel",
                                    "SZOBA_SZAMA": "34",
                                    "(No column name)": "1"
                                },
                                {
                                    "SZALLAS_NEV": "Fortuna panzió",
                                    "SZOBA_SZAMA": "15",
                                    "(No column name)": "1"
                                },
                                {
                                    "SZALLAS_NEV": "Fortuna panzió",
                                    "SZOBA_SZAMA": "9",
                                    "(No column name)": "1"
                                },
                                {
                                    "SZALLAS_NEV": "Kentaur Hotel",
                                    "SZOBA_SZAMA": "18",
                                    "(No column name)": "1"
                                },
                                {
                                    "SZALLAS_NEV": "Gold Hotel",
                                    "SZOBA_SZAMA": "12",
                                    "(No column name)": "1"
                                },
                                {
                                    "SZALLAS_NEV": "Kentaur Hotel",
                                    "SZOBA_SZAMA": "35",
                                    "(No column name)": "1"
                                },
                                {
                                    "SZALLAS_NEV": "Hotel Három Hattyú",
                                    "SZOBA_SZAMA": "32",
                                    "(No column name)": "1"
                                },
                                {
                                    "SZALLAS_NEV": "Kentaur Hotel",
                                    "SZOBA_SZAMA": "6",
                                    "(No column name)": "1"
                                },
                                {
                                    "SZALLAS_NEV": "Gold Hotel",
                                    "SZOBA_SZAMA": "33",
                                    "(No column name)": "1"
                                },
                                {
                                    "SZALLAS_NEV": "Fortuna panzió",
                                    "SZOBA_SZAMA": "2",
                                    "(No column name)": "1"
                                },
                                {
                                    "SZALLAS_NEV": "Kentaur Hotel",
                                    "SZOBA_SZAMA": "8",
                                    "(No column name)": "1"
                                },
                                {
                                    "SZALLAS_NEV": "Gold Hotel",
                                    "SZOBA_SZAMA": "24",
                                    "(No column name)": "1"
                                },
                                {
                                    "SZALLAS_NEV": "Hotel Három Hattyú",
                                    "SZOBA_SZAMA": "3",
                                    "(No column name)": "1"
                                },
                                {
                                    "SZALLAS_NEV": "Hotel Három Hattyú",
                                    "SZOBA_SZAMA": "18",
                                    "(No column name)": "1"
                                },
                                {
                                    "SZALLAS_NEV": "Hotel Három Hattyú",
                                    "SZOBA_SZAMA": "31",
                                    "(No column name)": "1"
                                },
                                {
                                    "SZALLAS_NEV": "Lagúna Hotel",
                                    "SZOBA_SZAMA": "9",
                                    "(No column name)": "1"
                                },
                                {
                                    "SZALLAS_NEV": "Hotel Három Hattyú",
                                    "SZOBA_SZAMA": "7",
                                    "(No column name)": "1"
                                },
                                {
                                    "SZALLAS_NEV": "Kentaur Hotel",
                                    "SZOBA_SZAMA": "23",
                                    "(No column name)": "1"
                                },
                                {
                                    "SZALLAS_NEV": "Hotel Három Hattyú",
                                    "SZOBA_SZAMA": "1",
                                    "(No column name)": "1"
                                },
                                {
                                    "SZALLAS_NEV": "Hotel Három Hattyú",
                                    "SZOBA_SZAMA": "13",
                                    "(No column name)": "1"
                                },
                                {
                                    "SZALLAS_NEV": "Szieszta Apartmanház",
                                    "SZOBA_SZAMA": "5",
                                    "(No column name)": "1"
                                },
                                {
                                    "SZALLAS_NEV": "Partiszél Vendégház",
                                    "SZOBA_SZAMA": "3",
                                    "(No column name)": "1"
                                },
                                {
                                    "SZALLAS_NEV": "Lagúna Hotel",
                                    "SZOBA_SZAMA": "7",
                                    "(No column name)": "1"
                                },
                                {
                                    "SZALLAS_NEV": "Hotel Három Hattyú",
                                    "SZOBA_SZAMA": "8",
                                    "(No column name)": "1"
                                },
                                {
                                    "SZALLAS_NEV": "Hotel Három Hattyú",
                                    "SZOBA_SZAMA": "34",
                                    "(No column name)": "1"
                                },
                                {
                                    "SZALLAS_NEV": "Gold Hotel",
                                    "SZOBA_SZAMA": "23",
                                    "(No column name)": "1"
                                },
                                {
                                    "SZALLAS_NEV": "Szieszta Apartmanház",
                                    "SZOBA_SZAMA": "6",
                                    "(No column name)": "1"
                                },
                                {
                                    "SZALLAS_NEV": "Kentaur Hotel",
                                    "SZOBA_SZAMA": "33",
                                    "(No column name)": "1"
                                },
                                {
                                    "SZALLAS_NEV": "Gold Hotel",
                                    "SZOBA_SZAMA": "11",
                                    "(No column name)": "1"
                                },
                                {
                                    "SZALLAS_NEV": "Hotel Három Hattyú",
                                    "SZOBA_SZAMA": "9",
                                    "(No column name)": "1"
                                },
                                {
                                    "SZALLAS_NEV": "Jáde panzió",
                                    "SZOBA_SZAMA": "4",
                                    "(No column name)": "1"
                                },
                                {
                                    "SZALLAS_NEV": "Gold Hotel",
                                    "SZOBA_SZAMA": "18",
                                    "(No column name)": "1"
                                },
                                {
                                    "SZALLAS_NEV": "Fortuna panzió",
                                    "SZOBA_SZAMA": "11",
                                    "(No column name)": "1"
                                },
                                {
                                    "SZALLAS_NEV": "Kentaur Hotel",
                                    "SZOBA_SZAMA": "26",
                                    "(No column name)": "1"
                                },
                                {
                                    "SZALLAS_NEV": "Hotel Három Hattyú",
                                    "SZOBA_SZAMA": "29",
                                    "(No column name)": "1"
                                },
                                {
                                    "SZALLAS_NEV": "Gold Hotel",
                                    "SZOBA_SZAMA": "3",
                                    "(No column name)": "1"
                                },
                                {
                                    "SZALLAS_NEV": "Fortuna Apartman",
                                    "SZOBA_SZAMA": "8",
                                    "(No column name)": "1"
                                },
                                {
                                    "SZALLAS_NEV": "Fortuna panzió",
                                    "SZOBA_SZAMA": "14",
                                    "(No column name)": "1"
                                },
                                {
                                    "SZALLAS_NEV": "Hotel Három Hattyú",
                                    "SZOBA_SZAMA": "7",
                                    "(No column name)": "1"
                                },
                                {
                                    "SZALLAS_NEV": "Családi Ház",
                                    "SZOBA_SZAMA": "3",
                                    "(No column name)": "1"
                                },
                                {
                                    "SZALLAS_NEV": "Hotel Három Hattyú",
                                    "SZOBA_SZAMA": "34",
                                    "(No column name)": "1"
                                },
                                {
                                    "SZALLAS_NEV": "Gold Hotel",
                                    "SZOBA_SZAMA": "34",
                                    "(No column name)": "1"
                                },
                                {
                                    "SZALLAS_NEV": "Gold Hotel",
                                    "SZOBA_SZAMA": "8",
                                    "(No column name)": "1"
                                },
                                {
                                    "SZALLAS_NEV": "Gold Hotel",
                                    "SZOBA_SZAMA": "18",
                                    "(No column name)": "1"
                                },
                                {
                                    "SZALLAS_NEV": "Sába-Ház",
                                    "SZOBA_SZAMA": "9",
                                    "(No column name)": "1"
                                },
                                {
                                    "SZALLAS_NEV": "Hotel Három Hattyú",
                                    "SZOBA_SZAMA": "20",
                                    "(No column name)": "1"
                                },
                                {
                                    "SZALLAS_NEV": "Fortuna Panzió",
                                    "SZOBA_SZAMA": "5",
                                    "(No column name)": "1"
                                },
                                {
                                    "SZALLAS_NEV": "Kentaur Hotel",
                                    "SZOBA_SZAMA": "13",
                                    "(No column name)": "1"
                                },
                                {
                                    "SZALLAS_NEV": "Gold Hotel",
                                    "SZOBA_SZAMA": "5",
                                    "(No column name)": "1"
                                },
                                {
                                    "SZALLAS_NEV": "Hotel Három Hattyú",
                                    "SZOBA_SZAMA": "36",
                                    "(No column name)": "1"
                                },
                                {
                                    "SZALLAS_NEV": "Gold Hotel",
                                    "SZOBA_SZAMA": "9",
                                    "(No column name)": "1"
                                },
                                {
                                    "SZALLAS_NEV": "Sába-Ház",
                                    "SZOBA_SZAMA": "12",
                                    "(No column name)": "1"
                                },
                                {
                                    "SZALLAS_NEV": "Kentaur Hotel",
                                    "SZOBA_SZAMA": "3",
                                    "(No column name)": "1"
                                },
                                {
                                    "SZALLAS_NEV": "Lagúna Hotel",
                                    "SZOBA_SZAMA": "16",
                                    "(No column name)": "1"
                                },
                                {
                                    "SZALLAS_NEV": "Lagúna Hotel",
                                    "SZOBA_SZAMA": "5",
                                    "(No column name)": "1"
                                },
                                {
                                    "SZALLAS_NEV": "Sába-Ház",
                                    "SZOBA_SZAMA": "3",
                                    "(No column name)": "1"
                                },
                                {
                                    "SZALLAS_NEV": "Fortuna panzió",
                                    "SZOBA_SZAMA": "15",
                                    "(No column name)": "1"
                                },
                                {
                                    "SZALLAS_NEV": "Fortuna panzió",
                                    "SZOBA_SZAMA": "11",
                                    "(No column name)": "1"
                                },
                                {
                                    "SZALLAS_NEV": "Gold Hotel",
                                    "SZOBA_SZAMA": "19",
                                    "(No column name)": "1"
                                },
                                {
                                    "SZALLAS_NEV": "Hotel Három Hattyú",
                                    "SZOBA_SZAMA": "6",
                                    "(No column name)": "1"
                                },
                                {
                                    "SZALLAS_NEV": "Kentaur Hotel",
                                    "SZOBA_SZAMA": "28",
                                    "(No column name)": "1"
                                },
                                {
                                    "SZALLAS_NEV": "Hotel Három Hattyú",
                                    "SZOBA_SZAMA": "32",
                                    "(No column name)": "1"
                                },
                                {
                                    "SZALLAS_NEV": "Gold Hotel",
                                    "SZOBA_SZAMA": "21",
                                    "(No column name)": "1"
                                },
                                {
                                    "SZALLAS_NEV": "Családi Ház",
                                    "SZOBA_SZAMA": "3",
                                    "(No column name)": "1"
                                },
                                {
                                    "SZALLAS_NEV": "Kentaur Hotel",
                                    "SZOBA_SZAMA": "32",
                                    "(No column name)": "1"
                                },
                                {
                                    "SZALLAS_NEV": "Fortuna Panzió",
                                    "SZOBA_SZAMA": "3",
                                    "(No column name)": "1"
                                },
                                {
                                    "SZALLAS_NEV": "Hotel Három Hattyú",
                                    "SZOBA_SZAMA": "39",
                                    "(No column name)": "1"
                                },
                                {
                                    "SZALLAS_NEV": "Kentaur Hotel",
                                    "SZOBA_SZAMA": "15",
                                    "(No column name)": "1"
                                },
                                {
                                    "SZALLAS_NEV": "Kentaur Hotel",
                                    "SZOBA_SZAMA": "30",
                                    "(No column name)": "1"
                                },
                                {
                                    "SZALLAS_NEV": "Lagúna Hotel",
                                    "SZOBA_SZAMA": "9",
                                    "(No column name)": "1"
                                },
                                {
                                    "SZALLAS_NEV": "Gold Hotel",
                                    "SZOBA_SZAMA": "25",
                                    "(No column name)": "1"
                                },
                                {
                                    "SZALLAS_NEV": "Lagúna Hotel",
                                    "SZOBA_SZAMA": "5",
                                    "(No column name)": "1"
                                },
                                {
                                    "SZALLAS_NEV": "Kentaur Hotel",
                                    "SZOBA_SZAMA": "9",
                                    "(No column name)": "1"
                                },
                                {
                                    "SZALLAS_NEV": "Hotel Három Hattyú",
                                    "SZOBA_SZAMA": "17",
                                    "(No column name)": "1"
                                },
                                {
                                    "SZALLAS_NEV": "Szieszta Apartmanház",
                                    "SZOBA_SZAMA": "2",
                                    "(No column name)": "1"
                                },
                                {
                                    "SZALLAS_NEV": "Fortuna panzió",
                                    "SZOBA_SZAMA": "15",
                                    "(No column name)": "1"
                                },
                                {
                                    "SZALLAS_NEV": "Hotel Három Hattyú",
                                    "SZOBA_SZAMA": "26",
                                    "(No column name)": "1"
                                },
                                {
                                    "SZALLAS_NEV": "Szieszta Apartmanház",
                                    "SZOBA_SZAMA": "3",
                                    "(No column name)": "1"
                                },
                                {
                                    "SZALLAS_NEV": "Kentaur Hotel",
                                    "SZOBA_SZAMA": "21",
                                    "(No column name)": "1"
                                },
                                {
                                    "SZALLAS_NEV": "Kentaur Hotel",
                                    "SZOBA_SZAMA": "26",
                                    "(No column name)": "1"
                                },
                                {
                                    "SZALLAS_NEV": "Fortuna panzió",
                                    "SZOBA_SZAMA": "4",
                                    "(No column name)": "1"
                                },
                                {
                                    "SZALLAS_NEV": "Lagúna Hotel",
                                    "SZOBA_SZAMA": "19",
                                    "(No column name)": "1"
                                },
                                {
                                    "SZALLAS_NEV": "Kentaur Hotel",
                                    "SZOBA_SZAMA": "28",
                                    "(No column name)": "1"
                                },
                                {
                                    "SZALLAS_NEV": "Lagúna Hotel",
                                    "SZOBA_SZAMA": "22",
                                    "(No column name)": "1"
                                },
                                {
                                    "SZALLAS_NEV": "Gold Hotel",
                                    "SZOBA_SZAMA": "21",
                                    "(No column name)": "1"
                                },
                                {
                                    "SZALLAS_NEV": "Kentaur Hotel",
                                    "SZOBA_SZAMA": "32",
                                    "(No column name)": "1"
                                },
                                {
                                    "SZALLAS_NEV": "Kentaur Hotel",
                                    "SZOBA_SZAMA": "15",
                                    "(No column name)": "1"
                                },
                                {
                                    "SZALLAS_NEV": "Kentaur Hotel",
                                    "SZOBA_SZAMA": "8",
                                    "(No column name)": "1"
                                },
                                {
                                    "SZALLAS_NEV": "Gold Hotel",
                                    "SZOBA_SZAMA": "22",
                                    "(No column name)": "1"
                                },
                                {
                                    "SZALLAS_NEV": "Hotel Három Hattyú",
                                    "SZOBA_SZAMA": "27",
                                    "(No column name)": "1"
                                },
                                {
                                    "SZALLAS_NEV": "Családi Ház",
                                    "SZOBA_SZAMA": "1",
                                    "(No column name)": "1"
                                },
                                {
                                    "SZALLAS_NEV": "Lagúna Hotel",
                                    "SZOBA_SZAMA": "19",
                                    "(No column name)": "1"
                                },
                                {
                                    "SZALLAS_NEV": "Lagúna Hotel",
                                    "SZOBA_SZAMA": "11",
                                    "(No column name)": "1"
                                },
                                {
                                    "SZALLAS_NEV": "Hotel Három Hattyú",
                                    "SZOBA_SZAMA": "28",
                                    "(No column name)": "1"
                                },
                                {
                                    "SZALLAS_NEV": "Gold Hotel",
                                    "SZOBA_SZAMA": "31",
                                    "(No column name)": "1"
                                },
                                {
                                    "SZALLAS_NEV": "Jáde panzió",
                                    "SZOBA_SZAMA": "2",
                                    "(No column name)": "1"
                                },
                                {
                                    "SZALLAS_NEV": "Jáde panzió",
                                    "SZOBA_SZAMA": "1",
                                    "(No column name)": "1"
                                },
                                {
                                    "SZALLAS_NEV": "Fortuna panzió",
                                    "SZOBA_SZAMA": "3",
                                    "(No column name)": "1"
                                },
                                {
                                    "SZALLAS_NEV": "Kentaur Hotel",
                                    "SZOBA_SZAMA": "2",
                                    "(No column name)": "1"
                                },
                                {
                                    "SZALLAS_NEV": "Fortuna panzió",
                                    "SZOBA_SZAMA": "14",
                                    "(No column name)": "1"
                                },
                                {
                                    "SZALLAS_NEV": "Lagúna Hotel",
                                    "SZOBA_SZAMA": "12",
                                    "(No column name)": "1"
                                },
                                {
                                    "SZALLAS_NEV": "Fortuna panzió",
                                    "SZOBA_SZAMA": "11",
                                    "(No column name)": "1"
                                },
                                {
                                    "SZALLAS_NEV": "Hotel Három Hattyú",
                                    "SZOBA_SZAMA": "28",
                                    "(No column name)": "1"
                                },
                                {
                                    "SZALLAS_NEV": "Hotel Három Hattyú",
                                    "SZOBA_SZAMA": "10",
                                    "(No column name)": "1"
                                },
                                {
                                    "SZALLAS_NEV": "Hotel Három Hattyú",
                                    "SZOBA_SZAMA": "30",
                                    "(No column name)": "1"
                                },
                                {
                                    "SZALLAS_NEV": "Gold Hotel",
                                    "SZOBA_SZAMA": "31",
                                    "(No column name)": "1"
                                },
                                {
                                    "SZALLAS_NEV": "Hotel Három Hattyú",
                                    "SZOBA_SZAMA": "13",
                                    "(No column name)": "1"
                                },
                                {
                                    "SZALLAS_NEV": "Hotel Három Hattyú",
                                    "SZOBA_SZAMA": "9",
                                    "(No column name)": "1"
                                },
                                {
                                    "SZALLAS_NEV": "Partiszél Vendégház",
                                    "SZOBA_SZAMA": "4",
                                    "(No column name)": "1"
                                },
                                {
                                    "SZALLAS_NEV": "Hotel Három Hattyú",
                                    "SZOBA_SZAMA": "29",
                                    "(No column name)": "1"
                                },
                                {
                                    "SZALLAS_NEV": "Hotel Három Hattyú",
                                    "SZOBA_SZAMA": "20",
                                    "(No column name)": "1"
                                },
                                {
                                    "SZALLAS_NEV": "Lagúna Hotel",
                                    "SZOBA_SZAMA": "22",
                                    "(No column name)": "1"
                                },
                                {
                                    "SZALLAS_NEV": "Gold Hotel",
                                    "SZOBA_SZAMA": "8",
                                    "(No column name)": "1"
                                },
                                {
                                    "SZALLAS_NEV": "Sába-Ház",
                                    "SZOBA_SZAMA": "4",
                                    "(No column name)": "1"
                                },
                                {
                                    "SZALLAS_NEV": "Hotel Három Hattyú",
                                    "SZOBA_SZAMA": "30",
                                    "(No column name)": "1"
                                },
                                {
                                    "SZALLAS_NEV": "Hotel Három Hattyú",
                                    "SZOBA_SZAMA": "17",
                                    "(No column name)": "1"
                                },
                                {
                                    "SZALLAS_NEV": "Hotel Három Hattyú",
                                    "SZOBA_SZAMA": "23",
                                    "(No column name)": "1"
                                },
                                {
                                    "SZALLAS_NEV": "Kentaur Hotel",
                                    "SZOBA_SZAMA": "12",
                                    "(No column name)": "1"
                                },
                                {
                                    "SZALLAS_NEV": "Gold Hotel",
                                    "SZOBA_SZAMA": "15",
                                    "(No column name)": "1"
                                },
                                {
                                    "SZALLAS_NEV": "Családi Ház",
                                    "SZOBA_SZAMA": "4",
                                    "(No column name)": "1"
                                },
                                {
                                    "SZALLAS_NEV": "Hotel Három Hattyú",
                                    "SZOBA_SZAMA": "23",
                                    "(No column name)": "1"
                                },
                                {
                                    "SZALLAS_NEV": "Hotel Három Hattyú",
                                    "SZOBA_SZAMA": "36",
                                    "(No column name)": "1"
                                },
                                {
                                    "SZALLAS_NEV": "Hotel Három Hattyú",
                                    "SZOBA_SZAMA": "26",
                                    "(No column name)": "1"
                                },
                                {
                                    "SZALLAS_NEV": "Gold Hotel",
                                    "SZOBA_SZAMA": "27",
                                    "(No column name)": "1"
                                },
                                {
                                    "SZALLAS_NEV": "Gold Hotel",
                                    "SZOBA_SZAMA": "13",
                                    "(No column name)": "1"
                                },
                                {
                                    "SZALLAS_NEV": "Kentaur Hotel",
                                    "SZOBA_SZAMA": "8",
                                    "(No column name)": "1"
                                },
                                {
                                    "SZALLAS_NEV": "Fortuna Apartman",
                                    "SZOBA_SZAMA": "2",
                                    "(No column name)": "1"
                                },
                                {
                                    "SZALLAS_NEV": "Kentaur Hotel",
                                    "SZOBA_SZAMA": "32",
                                    "(No column name)": "1"
                                },
                                {
                                    "SZALLAS_NEV": "Lagúna Hotel",
                                    "SZOBA_SZAMA": "19",
                                    "(No column name)": "1"
                                },
                                {
                                    "SZALLAS_NEV": "Gold Hotel",
                                    "SZOBA_SZAMA": "27",
                                    "(No column name)": "1"
                                },
                                {
                                    "SZALLAS_NEV": "Hotel Három Hattyú",
                                    "SZOBA_SZAMA": "39",
                                    "(No column name)": "1"
                                },
                                {
                                    "SZALLAS_NEV": "Hotel Három Hattyú",
                                    "SZOBA_SZAMA": "16",
                                    "(No column name)": "1"
                                },
                                {
                                    "SZALLAS_NEV": "Gold Hotel",
                                    "SZOBA_SZAMA": "12",
                                    "(No column name)": "1"
                                },
                                {
                                    "SZALLAS_NEV": "Kentaur Hotel",
                                    "SZOBA_SZAMA": "6",
                                    "(No column name)": "1"
                                },
                                {
                                    "SZALLAS_NEV": "Szieszta Apartmanház",
                                    "SZOBA_SZAMA": "1",
                                    "(No column name)": "1"
                                },
                                {
                                    "SZALLAS_NEV": "Lagúna Hotel",
                                    "SZOBA_SZAMA": "15",
                                    "(No column name)": "1"
                                },
                                {
                                    "SZALLAS_NEV": "Fortuna Panzió",
                                    "SZOBA_SZAMA": "7",
                                    "(No column name)": "1"
                                },
                                {
                                    "SZALLAS_NEV": "Hotel Három Hattyú",
                                    "SZOBA_SZAMA": "11",
                                    "(No column name)": "1"
                                },
                                {
                                    "SZALLAS_NEV": "Gold Hotel",
                                    "SZOBA_SZAMA": "26",
                                    "(No column name)": "1"
                                },
                                {
                                    "SZALLAS_NEV": "Hotel Három Hattyú",
                                    "SZOBA_SZAMA": "4",
                                    "(No column name)": "1"
                                },
                                {
                                    "SZALLAS_NEV": "Jáde panzió",
                                    "SZOBA_SZAMA": "3",
                                    "(No column name)": "1"
                                },
                                {
                                    "SZALLAS_NEV": "Kentaur Hotel",
                                    "SZOBA_SZAMA": "6",
                                    "(No column name)": "1"
                                },
                                {
                                    "SZALLAS_NEV": "Szieszta Apartmanház",
                                    "SZOBA_SZAMA": "5",
                                    "(No column name)": "1"
                                },
                                {
                                    "SZALLAS_NEV": "Hotel Három Hattyú",
                                    "SZOBA_SZAMA": "14",
                                    "(No column name)": "1"
                                },
                                {
                                    "SZALLAS_NEV": "Sába-Ház",
                                    "SZOBA_SZAMA": "11",
                                    "(No column name)": "1"
                                },
                                {
                                    "SZALLAS_NEV": "Fortuna Panzió",
                                    "SZOBA_SZAMA": "4",
                                    "(No column name)": "1"
                                },
                                {
                                    "SZALLAS_NEV": "Hotel Három Hattyú",
                                    "SZOBA_SZAMA": "15",
                                    "(No column name)": "1"
                                },
                                {
                                    "SZALLAS_NEV": "Gold Hotel",
                                    "SZOBA_SZAMA": "2",
                                    "(No column name)": "1"
                                },
                                {
                                    "SZALLAS_NEV": "Hotel Három Hattyú",
                                    "SZOBA_SZAMA": "2",
                                    "(No column name)": "1"
                                },
                                {
                                    "SZALLAS_NEV": "Hotel Három Hattyú",
                                    "SZOBA_SZAMA": "7",
                                    "(No column name)": "1"
                                },
                                {
                                    "SZALLAS_NEV": "Fortuna panzió",
                                    "SZOBA_SZAMA": "11",
                                    "(No column name)": "1"
                                },
                                {
                                    "SZALLAS_NEV": "Hotel Három Hattyú",
                                    "SZOBA_SZAMA": "22",
                                    "(No column name)": "1"
                                },
                                {
                                    "SZALLAS_NEV": "Hotel Három Hattyú",
                                    "SZOBA_SZAMA": "34",
                                    "(No column name)": "1"
                                },
                                {
                                    "SZALLAS_NEV": "Hotel Három Hattyú",
                                    "SZOBA_SZAMA": "14",
                                    "(No column name)": "1"
                                },
                                {
                                    "SZALLAS_NEV": "Fortuna Apartman",
                                    "SZOBA_SZAMA": "3",
                                    "(No column name)": "1"
                                },
                                {
                                    "SZALLAS_NEV": "Kentaur Hotel",
                                    "SZOBA_SZAMA": "3",
                                    "(No column name)": "1"
                                },
                                {
                                    "SZALLAS_NEV": "Jáde panzió",
                                    "SZOBA_SZAMA": "5",
                                    "(No column name)": "1"
                                },
                                {
                                    "SZALLAS_NEV": "Fortuna Panzió",
                                    "SZOBA_SZAMA": "10",
                                    "(No column name)": "1"
                                },
                                {
                                    "SZALLAS_NEV": "Sába-Ház",
                                    "SZOBA_SZAMA": "9",
                                    "(No column name)": "1"
                                },
                                {
                                    "SZALLAS_NEV": "Fortuna panzió",
                                    "SZOBA_SZAMA": "15",
                                    "(No column name)": "1"
                                },
                                {
                                    "SZALLAS_NEV": "Lagúna Hotel",
                                    "SZOBA_SZAMA": "20",
                                    "(No column name)": "1"
                                },
                                {
                                    "SZALLAS_NEV": "Hotel Három Hattyú",
                                    "SZOBA_SZAMA": "24",
                                    "(No column name)": "1"
                                },
                                {
                                    "SZALLAS_NEV": "Lagúna Hotel",
                                    "SZOBA_SZAMA": "21",
                                    "(No column name)": "1"
                                },
                                {
                                    "SZALLAS_NEV": "Családi Ház",
                                    "SZOBA_SZAMA": "2",
                                    "(No column name)": "1"
                                },
                                {
                                    "SZALLAS_NEV": "Hotel Három Hattyú",
                                    "SZOBA_SZAMA": "5",
                                    "(No column name)": "1"
                                },
                                {
                                    "SZALLAS_NEV": "Sába-Ház",
                                    "SZOBA_SZAMA": "3",
                                    "(No column name)": "1"
                                },
                                {
                                    "SZALLAS_NEV": "Lagúna Hotel",
                                    "SZOBA_SZAMA": "8",
                                    "(No column name)": "1"
                                },
                                {
                                    "SZALLAS_NEV": "Fortuna Panzió",
                                    "SZOBA_SZAMA": "9",
                                    "(No column name)": "1"
                                },
                                {
                                    "SZALLAS_NEV": "Fortuna Panzió",
                                    "SZOBA_SZAMA": "9",
                                    "(No column name)": "1"
                                },
                                {
                                    "SZALLAS_NEV": "Szieszta Apartmanház",
                                    "SZOBA_SZAMA": "4",
                                    "(No column name)": "1"
                                },
                                {
                                    "SZALLAS_NEV": "Fortuna Apartman",
                                    "SZOBA_SZAMA": "1",
                                    "(No column name)": "1"
                                },
                                {
                                    "SZALLAS_NEV": "Kentaur Hotel",
                                    "SZOBA_SZAMA": "2",
                                    "(No column name)": "1"
                                },
                                {
                                    "SZALLAS_NEV": "Lagúna Hotel",
                                    "SZOBA_SZAMA": "23",
                                    "(No column name)": "1"
                                },
                                {
                                    "SZALLAS_NEV": "Fortuna Panzió",
                                    "SZOBA_SZAMA": "5",
                                    "(No column name)": "1"
                                },
                                {
                                    "SZALLAS_NEV": "Fortuna Panzió",
                                    "SZOBA_SZAMA": "4",
                                    "(No column name)": "1"
                                },
                                {
                                    "SZALLAS_NEV": "Hotel Három Hattyú",
                                    "SZOBA_SZAMA": "25",
                                    "(No column name)": "1"
                                },
                                {
                                    "SZALLAS_NEV": "Hotel Három Hattyú",
                                    "SZOBA_SZAMA": "2",
                                    "(No column name)": "1"
                                },
                                {
                                    "SZALLAS_NEV": "Fortuna panzió",
                                    "SZOBA_SZAMA": "14",
                                    "(No column name)": "1"
                                },
                                {
                                    "SZALLAS_NEV": "Kentaur Hotel",
                                    "SZOBA_SZAMA": "27",
                                    "(No column name)": "1"
                                },
                                {
                                    "SZALLAS_NEV": "Lagúna Hotel",
                                    "SZOBA_SZAMA": "18",
                                    "(No column name)": "1"
                                },
                                {
                                    "SZALLAS_NEV": "Gold Hotel",
                                    "SZOBA_SZAMA": "16",
                                    "(No column name)": "1"
                                },
                                {
                                    "SZALLAS_NEV": "Hotel Három Hattyú",
                                    "SZOBA_SZAMA": "19",
                                    "(No column name)": "1"
                                },
                                {
                                    "SZALLAS_NEV": "Lagúna Hotel",
                                    "SZOBA_SZAMA": "22",
                                    "(No column name)": "1"
                                },
                                {
                                    "SZALLAS_NEV": "Kentaur Hotel",
                                    "SZOBA_SZAMA": "32",
                                    "(No column name)": "1"
                                },
                                {
                                    "SZALLAS_NEV": "Gold Hotel",
                                    "SZOBA_SZAMA": "16",
                                    "(No column name)": "1"
                                },
                                {
                                    "SZALLAS_NEV": "Hotel Három Hattyú",
                                    "SZOBA_SZAMA": "4",
                                    "(No column name)": "1"
                                },
                                {
                                    "SZALLAS_NEV": "Partiszél Vendégház",
                                    "SZOBA_SZAMA": "1",
                                    "(No column name)": "1"
                                },
                                {
                                    "SZALLAS_NEV": "Hotel Három Hattyú",
                                    "SZOBA_SZAMA": "25",
                                    "(No column name)": "1"
                                },
                                {
                                    "SZALLAS_NEV": "Gold Hotel",
                                    "SZOBA_SZAMA": "7",
                                    "(No column name)": "1"
                                },
                                {
                                    "SZALLAS_NEV": "Fortuna panzió",
                                    "SZOBA_SZAMA": "5",
                                    "(No column name)": "1"
                                },
                                {
                                    "SZALLAS_NEV": "Hotel Három Hattyú",
                                    "SZOBA_SZAMA": "6",
                                    "(No column name)": "1"
                                },
                                {
                                    "SZALLAS_NEV": "Gold Hotel",
                                    "SZOBA_SZAMA": "12",
                                    "(No column name)": "1"
                                },
                                {
                                    "SZALLAS_NEV": "Partiszél Vendégház",
                                    "SZOBA_SZAMA": "2",
                                    "(No column name)": "1"
                                },
                                {
                                    "SZALLAS_NEV": "Lagúna Hotel",
                                    "SZOBA_SZAMA": "10",
                                    "(No column name)": "1"
                                },
                                {
                                    "SZALLAS_NEV": "Kentaur Hotel",
                                    "SZOBA_SZAMA": "10",
                                    "(No column name)": "1"
                                },
                                {
                                    "SZALLAS_NEV": "Hotel Három Hattyú",
                                    "SZOBA_SZAMA": "38",
                                    "(No column name)": "1"
                                },
                                {
                                    "SZALLAS_NEV": "Szieszta Apartmanház",
                                    "SZOBA_SZAMA": "4",
                                    "(No column name)": "1"
                                },
                                {
                                    "SZALLAS_NEV": "Gold Hotel",
                                    "SZOBA_SZAMA": "25",
                                    "(No column name)": "1"
                                },
                                {
                                    "SZALLAS_NEV": "Kentaur Hotel",
                                    "SZOBA_SZAMA": "29",
                                    "(No column name)": "1"
                                },
                                {
                                    "SZALLAS_NEV": "Lagúna Hotel",
                                    "SZOBA_SZAMA": "14",
                                    "(No column name)": "1"
                                },
                                {
                                    "SZALLAS_NEV": "Hotel Három Hattyú",
                                    "SZOBA_SZAMA": "37",
                                    "(No column name)": "1"
                                },
                                {
                                    "SZALLAS_NEV": "Kentaur Hotel",
                                    "SZOBA_SZAMA": "18",
                                    "(No column name)": "1"
                                },
                                {
                                    "SZALLAS_NEV": "Fortuna Panzió",
                                    "SZOBA_SZAMA": "9",
                                    "(No column name)": "1"
                                },
                                {
                                    "SZALLAS_NEV": "Kentaur Hotel",
                                    "SZOBA_SZAMA": "15",
                                    "(No column name)": "1"
                                },
                                {
                                    "SZALLAS_NEV": "Hotel Három Hattyú",
                                    "SZOBA_SZAMA": "38",
                                    "(No column name)": "1"
                                },
                                {
                                    "SZALLAS_NEV": "Kentaur Hotel",
                                    "SZOBA_SZAMA": "18",
                                    "(No column name)": "1"
                                }
                            ]
                        },
                        "text/html": [
                            "<table>",
                            "<tr><th>SZALLAS_NEV</th><th>SZOBA_SZAMA</th><th>(No column name)</th></tr>",
                            "<tr><td>Szieszta Apartmanház</td><td>3</td><td>1</td></tr>",
                            "<tr><td>Jáde panzió</td><td>2</td><td>1</td></tr>",
                            "<tr><td>Sába-Ház</td><td>6</td><td>1</td></tr>",
                            "<tr><td>Fortuna Panzió</td><td>3</td><td>1</td></tr>",
                            "<tr><td>Sába-Ház</td><td>7</td><td>1</td></tr>",
                            "<tr><td>Kentaur Hotel</td><td>19</td><td>1</td></tr>",
                            "<tr><td>Sába-Ház</td><td>5</td><td>1</td></tr>",
                            "<tr><td>Lagúna Hotel</td><td>7</td><td>1</td></tr>",
                            "<tr><td>Fortuna Apartman</td><td>5</td><td>1</td></tr>",
                            "<tr><td>Gold Hotel</td><td>6</td><td>1</td></tr>",
                            "<tr><td>Kentaur Hotel</td><td>29</td><td>1</td></tr>",
                            "<tr><td>Sába-Ház</td><td>10</td><td>1</td></tr>",
                            "<tr><td>Partiszél Vendégház</td><td>5</td><td>1</td></tr>",
                            "<tr><td>Gold Hotel</td><td>18</td><td>1</td></tr>",
                            "<tr><td>Kentaur Hotel</td><td>34</td><td>1</td></tr>",
                            "<tr><td>Gold Hotel</td><td>5</td><td>1</td></tr>",
                            "<tr><td>Gold Hotel</td><td>7</td><td>1</td></tr>",
                            "<tr><td>Lagúna Hotel</td><td>21</td><td>1</td></tr>",
                            "<tr><td>Hotel Három Hattyú</td><td>35</td><td>1</td></tr>",
                            "<tr><td>Lagúna Hotel</td><td>21</td><td>1</td></tr>",
                            "<tr><td>Gold Hotel</td><td>21</td><td>1</td></tr>",
                            "<tr><td>Lagúna Hotel</td><td>5</td><td>1</td></tr>",
                            "<tr><td>Jáde panzió</td><td>1</td><td>1</td></tr>",
                            "<tr><td>Lagúna Hotel</td><td>10</td><td>1</td></tr>",
                            "<tr><td>Lagúna Hotel</td><td>3</td><td>1</td></tr>",
                            "<tr><td>Kentaur Hotel</td><td>30</td><td>1</td></tr>",
                            "<tr><td>Lagúna Hotel</td><td>2</td><td>1</td></tr>",
                            "<tr><td>Kentaur Hotel</td><td>21</td><td>1</td></tr>",
                            "<tr><td>Hotel Három Hattyú</td><td>17</td><td>1</td></tr>",
                            "<tr><td>Hotel Három Hattyú</td><td>33</td><td>1</td></tr>",
                            "<tr><td>Lagúna Hotel</td><td>22</td><td>1</td></tr>",
                            "<tr><td>Fortuna Panzió</td><td>5</td><td>1</td></tr>",
                            "<tr><td>Fortuna Panzió</td><td>3</td><td>1</td></tr>",
                            "<tr><td>Lagúna Hotel</td><td>15</td><td>1</td></tr>",
                            "<tr><td>Gold Hotel</td><td>12</td><td>1</td></tr>",
                            "<tr><td>Kentaur Hotel</td><td>28</td><td>1</td></tr>",
                            "<tr><td>Lagúna Hotel</td><td>19</td><td>1</td></tr>",
                            "<tr><td>Kentaur Hotel</td><td>25</td><td>1</td></tr>",
                            "<tr><td>Hotel Három Hattyú</td><td>25</td><td>1</td></tr>",
                            "<tr><td>Hotel Három Hattyú</td><td>10</td><td>1</td></tr>",
                            "<tr><td>Fortuna panzió</td><td>7</td><td>1</td></tr>",
                            "<tr><td>Partiszél Vendégház</td><td>3</td><td>1</td></tr>",
                            "<tr><td>Gold Hotel</td><td>26</td><td>1</td></tr>",
                            "<tr><td>Fortuna panzió</td><td>15</td><td>1</td></tr>",
                            "<tr><td>Fortuna Apartman</td><td>1</td><td>1</td></tr>",
                            "<tr><td>Fortuna Panzió</td><td>9</td><td>1</td></tr>",
                            "<tr><td>Fortuna panzió</td><td>6</td><td>1</td></tr>",
                            "<tr><td>Hotel Három Hattyú</td><td>21</td><td>1</td></tr>",
                            "<tr><td>Fortuna panzió</td><td>7</td><td>1</td></tr>",
                            "<tr><td>Hotel Három Hattyú</td><td>6</td><td>1</td></tr>",
                            "<tr><td>Gold Hotel</td><td>20</td><td>1</td></tr>",
                            "<tr><td>Sába-Ház</td><td>9</td><td>1</td></tr>",
                            "<tr><td>Hotel Három Hattyú</td><td>16</td><td>1</td></tr>",
                            "<tr><td>Fortuna panzió</td><td>5</td><td>1</td></tr>",
                            "<tr><td>Hotel Három Hattyú</td><td>27</td><td>1</td></tr>",
                            "<tr><td>Jáde panzió</td><td>1</td><td>1</td></tr>",
                            "<tr><td>Hotel Három Hattyú</td><td>19</td><td>1</td></tr>",
                            "<tr><td>Gold Hotel</td><td>22</td><td>1</td></tr>",
                            "<tr><td>Hotel Három Hattyú</td><td>4</td><td>1</td></tr>",
                            "<tr><td>Hotel Három Hattyú</td><td>27</td><td>1</td></tr>",
                            "<tr><td>Hotel Három Hattyú</td><td>15</td><td>1</td></tr>",
                            "<tr><td>Jáde panzió</td><td>3</td><td>1</td></tr>",
                            "<tr><td>Sába-Ház</td><td>1</td><td>1</td></tr>",
                            "<tr><td>Hotel Három Hattyú</td><td>19</td><td>1</td></tr>",
                            "<tr><td>Kentaur Hotel</td><td>5</td><td>1</td></tr>",
                            "<tr><td>Hotel Három Hattyú</td><td>6</td><td>1</td></tr>",
                            "<tr><td>Fortuna panzió</td><td>9</td><td>1</td></tr>",
                            "<tr><td>Kentaur Hotel</td><td>14</td><td>1</td></tr>",
                            "<tr><td>Fortuna Apartman</td><td>2</td><td>1</td></tr>",
                            "<tr><td>Fortuna panzió</td><td>14</td><td>1</td></tr>",
                            "<tr><td>Fortuna Panzió</td><td>9</td><td>1</td></tr>",
                            "<tr><td>Sába-Ház</td><td>3</td><td>1</td></tr>",
                            "<tr><td>Partiszél Vendégház</td><td>4</td><td>1</td></tr>",
                            "<tr><td>Hotel Három Hattyú</td><td>8</td><td>1</td></tr>",
                            "<tr><td>Hotel Három Hattyú</td><td>9</td><td>1</td></tr>",
                            "<tr><td>Gold Hotel</td><td>23</td><td>1</td></tr>",
                            "<tr><td>Gold Hotel</td><td>29</td><td>1</td></tr>",
                            "<tr><td>Hotel Három Hattyú</td><td>7</td><td>1</td></tr>",
                            "<tr><td>Hotel Három Hattyú</td><td>1</td><td>1</td></tr>",
                            "<tr><td>Hotel Három Hattyú</td><td>10</td><td>1</td></tr>",
                            "<tr><td>Kentaur Hotel</td><td>18</td><td>1</td></tr>",
                            "<tr><td>Partiszél Vendégház</td><td>2</td><td>1</td></tr>",
                            "<tr><td>Gold Hotel</td><td>1</td><td>1</td></tr>",
                            "<tr><td>Lagúna Hotel</td><td>16</td><td>1</td></tr>",
                            "<tr><td>Kentaur Hotel</td><td>5</td><td>1</td></tr>",
                            "<tr><td>Hotel Három Hattyú</td><td>37</td><td>1</td></tr>",
                            "<tr><td>Gold Hotel</td><td>2</td><td>1</td></tr>",
                            "<tr><td>Kentaur Hotel</td><td>18</td><td>1</td></tr>",
                            "<tr><td>Kentaur Hotel</td><td>29</td><td>1</td></tr>",
                            "<tr><td>Szieszta Apartmanház</td><td>1</td><td>1</td></tr>",
                            "<tr><td>Lagúna Hotel</td><td>23</td><td>1</td></tr>",
                            "<tr><td>Lagúna Hotel</td><td>3</td><td>1</td></tr>",
                            "<tr><td>Kentaur Hotel</td><td>16</td><td>1</td></tr>",
                            "<tr><td>Sába-Ház</td><td>4</td><td>1</td></tr>",
                            "<tr><td>Lagúna Hotel</td><td>15</td><td>1</td></tr>",
                            "<tr><td>Partiszél Vendégház</td><td>2</td><td>1</td></tr>",
                            "<tr><td>Hotel Három Hattyú</td><td>19</td><td>1</td></tr>",
                            "<tr><td>Jáde panzió</td><td>2</td><td>1</td></tr>",
                            "<tr><td>Hotel Három Hattyú</td><td>5</td><td>1</td></tr>",
                            "<tr><td>Lagúna Hotel</td><td>3</td><td>1</td></tr>",
                            "<tr><td>Fortuna Panzió</td><td>5</td><td>1</td></tr>",
                            "<tr><td>Gold Hotel</td><td>5</td><td>1</td></tr>",
                            "<tr><td>Fortuna Apartman</td><td>5</td><td>1</td></tr>",
                            "<tr><td>Lagúna Hotel</td><td>2</td><td>1</td></tr>",
                            "<tr><td>Gold Hotel</td><td>15</td><td>1</td></tr>",
                            "<tr><td>Családi Ház</td><td>2</td><td>1</td></tr>",
                            "<tr><td>Lagúna Hotel</td><td>12</td><td>1</td></tr>",
                            "<tr><td>Hotel Három Hattyú</td><td>4</td><td>1</td></tr>",
                            "<tr><td>Sába-Ház</td><td>3</td><td>1</td></tr>",
                            "<tr><td>Kentaur Hotel</td><td>31</td><td>1</td></tr>",
                            "<tr><td>Kentaur Hotel</td><td>5</td><td>1</td></tr>",
                            "<tr><td>Gold Hotel</td><td>9</td><td>1</td></tr>",
                            "<tr><td>Fortuna Panzió</td><td>4</td><td>1</td></tr>",
                            "<tr><td>Hotel Három Hattyú</td><td>6</td><td>1</td></tr>",
                            "<tr><td>Gold Hotel</td><td>21</td><td>1</td></tr>",
                            "<tr><td>Gold Hotel</td><td>32</td><td>1</td></tr>",
                            "<tr><td>Kentaur Hotel</td><td>34</td><td>1</td></tr>",
                            "<tr><td>Gold Hotel</td><td>29</td><td>1</td></tr>",
                            "<tr><td>Kentaur Hotel</td><td>11</td><td>1</td></tr>",
                            "<tr><td>Gold Hotel</td><td>17</td><td>1</td></tr>",
                            "<tr><td>Lagúna Hotel</td><td>14</td><td>1</td></tr>",
                            "<tr><td>Gold Hotel</td><td>21</td><td>1</td></tr>",
                            "<tr><td>Gold Hotel</td><td>28</td><td>1</td></tr>",
                            "<tr><td>Kentaur Hotel</td><td>22</td><td>1</td></tr>",
                            "<tr><td>Gold Hotel</td><td>10</td><td>1</td></tr>",
                            "<tr><td>Kentaur Hotel</td><td>27</td><td>1</td></tr>",
                            "<tr><td>Gold Hotel</td><td>20</td><td>1</td></tr>",
                            "<tr><td>Hotel Három Hattyú</td><td>20</td><td>1</td></tr>",
                            "<tr><td>Fortuna panzió</td><td>11</td><td>1</td></tr>",
                            "<tr><td>Családi Ház</td><td>4</td><td>1</td></tr>",
                            "<tr><td>Fortuna panzió</td><td>13</td><td>1</td></tr>",
                            "<tr><td>Hotel Három Hattyú</td><td>12</td><td>1</td></tr>",
                            "<tr><td>Gold Hotel</td><td>24</td><td>1</td></tr>",
                            "<tr><td>Hotel Három Hattyú</td><td>9</td><td>1</td></tr>",
                            "<tr><td>Lagúna Hotel</td><td>22</td><td>1</td></tr>",
                            "<tr><td>Gold Hotel</td><td>21</td><td>1</td></tr>",
                            "<tr><td>Sába-Ház</td><td>8</td><td>1</td></tr>",
                            "<tr><td>Gold Hotel</td><td>23</td><td>1</td></tr>",
                            "<tr><td>Fortuna Apartman</td><td>3</td><td>1</td></tr>",
                            "<tr><td>Sába-Ház</td><td>12</td><td>1</td></tr>",
                            "<tr><td>Kentaur Hotel</td><td>28</td><td>1</td></tr>",
                            "<tr><td>Gold Hotel</td><td>25</td><td>1</td></tr>",
                            "<tr><td>Kentaur Hotel</td><td>29</td><td>1</td></tr>",
                            "<tr><td>Kentaur Hotel</td><td>12</td><td>1</td></tr>",
                            "<tr><td>Kentaur Hotel</td><td>13</td><td>1</td></tr>",
                            "<tr><td>Lagúna Hotel</td><td>11</td><td>1</td></tr>",
                            "<tr><td>Kentaur Hotel</td><td>21</td><td>1</td></tr>",
                            "<tr><td>Fortuna panzió</td><td>13</td><td>1</td></tr>",
                            "<tr><td>Hotel Három Hattyú</td><td>29</td><td>1</td></tr>",
                            "<tr><td>Fortuna panzió</td><td>11</td><td>1</td></tr>",
                            "<tr><td>Hotel Három Hattyú</td><td>16</td><td>1</td></tr>",
                            "<tr><td>Gold Hotel</td><td>8</td><td>1</td></tr>",
                            "<tr><td>Gold Hotel</td><td>24</td><td>1</td></tr>",
                            "<tr><td>Gold Hotel</td><td>21</td><td>1</td></tr>",
                            "<tr><td>Kentaur Hotel</td><td>22</td><td>1</td></tr>",
                            "<tr><td>Fortuna Apartman</td><td>1</td><td>1</td></tr>",
                            "<tr><td>Kentaur Hotel</td><td>24</td><td>1</td></tr>",
                            "<tr><td>Hotel Három Hattyú</td><td>11</td><td>1</td></tr>",
                            "<tr><td>Hotel Három Hattyú</td><td>28</td><td>1</td></tr>",
                            "<tr><td>Hotel Három Hattyú</td><td>38</td><td>1</td></tr>",
                            "<tr><td>Hotel Három Hattyú</td><td>7</td><td>1</td></tr>",
                            "<tr><td>Kentaur Hotel</td><td>9</td><td>1</td></tr>",
                            "<tr><td>Partiszél Vendégház</td><td>1</td><td>1</td></tr>",
                            "<tr><td>Gold Hotel</td><td>31</td><td>1</td></tr>",
                            "<tr><td>Hotel Három Hattyú</td><td>29</td><td>1</td></tr>",
                            "<tr><td>Hotel Három Hattyú</td><td>39</td><td>1</td></tr>",
                            "<tr><td>Lagúna Hotel</td><td>1</td><td>1</td></tr>",
                            "<tr><td>Fortuna panzió</td><td>4</td><td>1</td></tr>",
                            "<tr><td>Hotel Három Hattyú</td><td>7</td><td>1</td></tr>",
                            "<tr><td>Hotel Három Hattyú</td><td>4</td><td>1</td></tr>",
                            "<tr><td>Fortuna panzió</td><td>7</td><td>1</td></tr>",
                            "<tr><td>Szieszta Apartmanház</td><td>6</td><td>1</td></tr>",
                            "<tr><td>Lagúna Hotel</td><td>18</td><td>1</td></tr>",
                            "<tr><td>Gold Hotel</td><td>17</td><td>1</td></tr>",
                            "<tr><td>Hotel Három Hattyú</td><td>1</td><td>1</td></tr>",
                            "<tr><td>Lagúna Hotel</td><td>6</td><td>1</td></tr>",
                            "<tr><td>Kentaur Hotel</td><td>6</td><td>1</td></tr>",
                            "<tr><td>Hotel Három Hattyú</td><td>31</td><td>1</td></tr>",
                            "<tr><td>Kentaur Hotel</td><td>17</td><td>1</td></tr>",
                            "<tr><td>Hotel Három Hattyú</td><td>24</td><td>1</td></tr>",
                            "<tr><td>Sába-Ház</td><td>1</td><td>1</td></tr>",
                            "<tr><td>Hotel Három Hattyú</td><td>31</td><td>1</td></tr>",
                            "<tr><td>Gold Hotel</td><td>18</td><td>1</td></tr>",
                            "<tr><td>Hotel Három Hattyú</td><td>3</td><td>1</td></tr>",
                            "<tr><td>Partiszél Vendégház</td><td>5</td><td>1</td></tr>",
                            "<tr><td>Gold Hotel</td><td>23</td><td>1</td></tr>",
                            "<tr><td>Fortuna Apartman</td><td>1</td><td>1</td></tr>",
                            "<tr><td>Lagúna Hotel</td><td>5</td><td>1</td></tr>",
                            "<tr><td>Gold Hotel</td><td>5</td><td>1</td></tr>",
                            "<tr><td>Gold Hotel</td><td>24</td><td>1</td></tr>",
                            "<tr><td>Fortuna panzió</td><td>12</td><td>1</td></tr>",
                            "<tr><td>Gold Hotel</td><td>8</td><td>1</td></tr>",
                            "<tr><td>Fortuna panzió</td><td>12</td><td>1</td></tr>",
                            "<tr><td>Lagúna Hotel</td><td>5</td><td>1</td></tr>",
                            "<tr><td>Fortuna Panzió</td><td>7</td><td>1</td></tr>",
                            "<tr><td>Gold Hotel</td><td>25</td><td>1</td></tr>",
                            "<tr><td>Hotel Három Hattyú</td><td>36</td><td>1</td></tr>",
                            "<tr><td>Fortuna Apartman</td><td>4</td><td>1</td></tr>",
                            "<tr><td>Kentaur Hotel</td><td>12</td><td>1</td></tr>",
                            "<tr><td>Szieszta Apartmanház</td><td>4</td><td>1</td></tr>",
                            "<tr><td>Fortuna panzió</td><td>3</td><td>1</td></tr>",
                            "<tr><td>Sába-Ház</td><td>7</td><td>1</td></tr>",
                            "<tr><td>Jáde panzió</td><td>2</td><td>1</td></tr>",
                            "<tr><td>Lagúna Hotel</td><td>7</td><td>1</td></tr>",
                            "<tr><td>Hotel Három Hattyú</td><td>30</td><td>1</td></tr>",
                            "<tr><td>Családi Ház</td><td>1</td><td>1</td></tr>",
                            "<tr><td>Gold Hotel</td><td>33</td><td>1</td></tr>",
                            "<tr><td>Lagúna Hotel</td><td>14</td><td>1</td></tr>",
                            "<tr><td>Gold Hotel</td><td>23</td><td>1</td></tr>",
                            "<tr><td>Fortuna Apartman</td><td>2</td><td>1</td></tr>",
                            "<tr><td>Lagúna Hotel</td><td>4</td><td>1</td></tr>",
                            "<tr><td>Kentaur Hotel</td><td>14</td><td>1</td></tr>",
                            "<tr><td>Fortuna Panzió</td><td>3</td><td>1</td></tr>",
                            "<tr><td>Lagúna Hotel</td><td>13</td><td>1</td></tr>",
                            "<tr><td>Sába-Ház</td><td>6</td><td>1</td></tr>",
                            "<tr><td>Kentaur Hotel</td><td>9</td><td>1</td></tr>",
                            "<tr><td>Gold Hotel</td><td>26</td><td>1</td></tr>",
                            "<tr><td>Sába-Ház</td><td>12</td><td>1</td></tr>",
                            "<tr><td>Hotel Három Hattyú</td><td>22</td><td>1</td></tr>",
                            "<tr><td>Fortuna panzió</td><td>10</td><td>1</td></tr>",
                            "<tr><td>Fortuna Apartman</td><td>3</td><td>1</td></tr>",
                            "<tr><td>Jáde panzió</td><td>1</td><td>1</td></tr>",
                            "<tr><td>Hotel Három Hattyú</td><td>6</td><td>1</td></tr>",
                            "<tr><td>Gold Hotel</td><td>2</td><td>1</td></tr>",
                            "<tr><td>Partiszél Vendégház</td><td>4</td><td>1</td></tr>",
                            "<tr><td>Lagúna Hotel</td><td>14</td><td>1</td></tr>",
                            "<tr><td>Lagúna Hotel</td><td>7</td><td>1</td></tr>",
                            "<tr><td>Gold Hotel</td><td>13</td><td>1</td></tr>",
                            "<tr><td>Hotel Három Hattyú</td><td>21</td><td>1</td></tr>",
                            "<tr><td>Kentaur Hotel</td><td>1</td><td>1</td></tr>",
                            "<tr><td>Sába-Ház</td><td>3</td><td>1</td></tr>",
                            "<tr><td>Lagúna Hotel</td><td>12</td><td>1</td></tr>",
                            "<tr><td>Sába-Ház</td><td>10</td><td>1</td></tr>",
                            "<tr><td>Családi Ház</td><td>3</td><td>1</td></tr>",
                            "<tr><td>Gold Hotel</td><td>4</td><td>1</td></tr>",
                            "<tr><td>Fortuna Panzió</td><td>10</td><td>1</td></tr>",
                            "<tr><td>Gold Hotel</td><td>4</td><td>1</td></tr>",
                            "<tr><td>Sába-Ház</td><td>10</td><td>1</td></tr>",
                            "<tr><td>Lagúna Hotel</td><td>4</td><td>1</td></tr>",
                            "<tr><td>Kentaur Hotel</td><td>25</td><td>1</td></tr>",
                            "<tr><td>Kentaur Hotel</td><td>34</td><td>1</td></tr>",
                            "<tr><td>Gold Hotel</td><td>11</td><td>1</td></tr>",
                            "<tr><td>Fortuna Panzió</td><td>6</td><td>1</td></tr>",
                            "<tr><td>Hotel Három Hattyú</td><td>22</td><td>1</td></tr>",
                            "<tr><td>Fortuna Panzió</td><td>6</td><td>1</td></tr>",
                            "<tr><td>Sába-Ház</td><td>1</td><td>1</td></tr>",
                            "<tr><td>Lagúna Hotel</td><td>12</td><td>1</td></tr>",
                            "<tr><td>Fortuna Apartman</td><td>5</td><td>1</td></tr>",
                            "<tr><td>Hotel Három Hattyú</td><td>36</td><td>1</td></tr>",
                            "<tr><td>Fortuna panzió</td><td>3</td><td>1</td></tr>",
                            "<tr><td>Lagúna Hotel</td><td>14</td><td>1</td></tr>",
                            "<tr><td>Hotel Három Hattyú</td><td>2</td><td>1</td></tr>",
                            "<tr><td>Hotel Három Hattyú</td><td>19</td><td>1</td></tr>",
                            "<tr><td>Kentaur Hotel</td><td>2</td><td>1</td></tr>",
                            "<tr><td>Lagúna Hotel</td><td>14</td><td>1</td></tr>",
                            "<tr><td>Családi Ház</td><td>2</td><td>1</td></tr>",
                            "<tr><td>Kentaur Hotel</td><td>21</td><td>1</td></tr>",
                            "<tr><td>Hotel Három Hattyú</td><td>38</td><td>1</td></tr>",
                            "<tr><td>Gold Hotel</td><td>14</td><td>1</td></tr>",
                            "<tr><td>Szieszta Apartmanház</td><td>5</td><td>1</td></tr>",
                            "<tr><td>Sába-Ház</td><td>8</td><td>1</td></tr>",
                            "<tr><td>Kentaur Hotel</td><td>35</td><td>1</td></tr>",
                            "<tr><td>Fortuna Apartman</td><td>4</td><td>1</td></tr>",
                            "<tr><td>Fortuna panzió</td><td>10</td><td>1</td></tr>",
                            "<tr><td>Kentaur Hotel</td><td>3</td><td>1</td></tr>",
                            "<tr><td>Fortuna Panzió</td><td>5</td><td>1</td></tr>",
                            "<tr><td>Fortuna Panzió</td><td>9</td><td>1</td></tr>",
                            "<tr><td>Lagúna Hotel</td><td>24</td><td>1</td></tr>",
                            "<tr><td>Fortuna Panzió</td><td>10</td><td>1</td></tr>",
                            "<tr><td>Hotel Három Hattyú</td><td>24</td><td>1</td></tr>",
                            "<tr><td>Sába-Ház</td><td>2</td><td>1</td></tr>",
                            "<tr><td>Fortuna panzió</td><td>11</td><td>1</td></tr>",
                            "<tr><td>Kentaur Hotel</td><td>25</td><td>1</td></tr>",
                            "<tr><td>Gold Hotel</td><td>13</td><td>1</td></tr>",
                            "<tr><td>Sába-Ház</td><td>8</td><td>1</td></tr>",
                            "<tr><td>Lagúna Hotel</td><td>15</td><td>1</td></tr>",
                            "<tr><td>Lagúna Hotel</td><td>15</td><td>1</td></tr>",
                            "<tr><td>Gold Hotel</td><td>29</td><td>1</td></tr>",
                            "<tr><td>Hotel Három Hattyú</td><td>7</td><td>1</td></tr>",
                            "<tr><td>Hotel Három Hattyú</td><td>14</td><td>1</td></tr>",
                            "<tr><td>Kentaur Hotel</td><td>7</td><td>1</td></tr>",
                            "<tr><td>Gold Hotel</td><td>8</td><td>1</td></tr>",
                            "<tr><td>Lagúna Hotel</td><td>24</td><td>1</td></tr>",
                            "<tr><td>Hotel Három Hattyú</td><td>2</td><td>1</td></tr>",
                            "<tr><td>Gold Hotel</td><td>31</td><td>1</td></tr>",
                            "<tr><td>Lagúna Hotel</td><td>15</td><td>1</td></tr>",
                            "<tr><td>Szieszta Apartmanház</td><td>3</td><td>1</td></tr>",
                            "<tr><td>Kentaur Hotel</td><td>14</td><td>1</td></tr>",
                            "<tr><td>Fortuna Panzió</td><td>6</td><td>1</td></tr>",
                            "<tr><td>Kentaur Hotel</td><td>25</td><td>1</td></tr>",
                            "<tr><td>Fortuna Apartman</td><td>7</td><td>1</td></tr>",
                            "<tr><td>Lagúna Hotel</td><td>1</td><td>1</td></tr>",
                            "<tr><td>Sába-Ház</td><td>6</td><td>1</td></tr>",
                            "<tr><td>Fortuna Panzió</td><td>3</td><td>1</td></tr>",
                            "<tr><td>Fortuna Apartman</td><td>8</td><td>1</td></tr>",
                            "<tr><td>Hotel Három Hattyú</td><td>37</td><td>1</td></tr>",
                            "<tr><td>Gold Hotel</td><td>3</td><td>1</td></tr>",
                            "<tr><td>Kentaur Hotel</td><td>4</td><td>1</td></tr>",
                            "<tr><td>Családi Ház</td><td>4</td><td>1</td></tr>",
                            "<tr><td>Gold Hotel</td><td>1</td><td>1</td></tr>",
                            "<tr><td>Hotel Három Hattyú</td><td>31</td><td>1</td></tr>",
                            "<tr><td>Szieszta Apartmanház</td><td>2</td><td>1</td></tr>",
                            "<tr><td>Kentaur Hotel</td><td>21</td><td>1</td></tr>",
                            "<tr><td>Hotel Három Hattyú</td><td>34</td><td>1</td></tr>",
                            "<tr><td>Kentaur Hotel</td><td>33</td><td>1</td></tr>",
                            "<tr><td>Gold Hotel</td><td>21</td><td>1</td></tr>",
                            "<tr><td>Hotel Három Hattyú</td><td>28</td><td>1</td></tr>",
                            "<tr><td>Kentaur Hotel</td><td>2</td><td>1</td></tr>",
                            "<tr><td>Szieszta Apartmanház</td><td>4</td><td>1</td></tr>",
                            "<tr><td>Gold Hotel</td><td>11</td><td>1</td></tr>",
                            "<tr><td>Gold Hotel</td><td>23</td><td>1</td></tr>",
                            "<tr><td>Kentaur Hotel</td><td>34</td><td>1</td></tr>",
                            "<tr><td>Fortuna panzió</td><td>10</td><td>1</td></tr>",
                            "<tr><td>Kentaur Hotel</td><td>33</td><td>1</td></tr>",
                            "<tr><td>Fortuna panzió</td><td>4</td><td>1</td></tr>",
                            "<tr><td>Sába-Ház</td><td>6</td><td>1</td></tr>",
                            "<tr><td>Kentaur Hotel</td><td>18</td><td>1</td></tr>",
                            "<tr><td>Kentaur Hotel</td><td>15</td><td>1</td></tr>",
                            "<tr><td>Sába-Ház</td><td>12</td><td>1</td></tr>",
                            "<tr><td>Kentaur Hotel</td><td>25</td><td>1</td></tr>",
                            "<tr><td>Kentaur Hotel</td><td>34</td><td>1</td></tr>",
                            "<tr><td>Hotel Három Hattyú</td><td>37</td><td>1</td></tr>",
                            "<tr><td>Gold Hotel</td><td>20</td><td>1</td></tr>",
                            "<tr><td>Jáde panzió</td><td>2</td><td>1</td></tr>",
                            "<tr><td>Sába-Ház</td><td>8</td><td>1</td></tr>",
                            "<tr><td>Kentaur Hotel</td><td>9</td><td>1</td></tr>",
                            "<tr><td>Hotel Három Hattyú</td><td>8</td><td>1</td></tr>",
                            "<tr><td>Kentaur Hotel</td><td>20</td><td>1</td></tr>",
                            "<tr><td>Fortuna panzió</td><td>4</td><td>1</td></tr>",
                            "<tr><td>Kentaur Hotel</td><td>31</td><td>1</td></tr>",
                            "<tr><td>Fortuna Panzió</td><td>10</td><td>1</td></tr>",
                            "<tr><td>Kentaur Hotel</td><td>5</td><td>1</td></tr>",
                            "<tr><td>Lagúna Hotel</td><td>12</td><td>1</td></tr>",
                            "<tr><td>Kentaur Hotel</td><td>14</td><td>1</td></tr>",
                            "<tr><td>Gold Hotel</td><td>1</td><td>1</td></tr>",
                            "<tr><td>Lagúna Hotel</td><td>17</td><td>1</td></tr>",
                            "<tr><td>Fortuna panzió</td><td>5</td><td>1</td></tr>",
                            "<tr><td>Fortuna panzió</td><td>12</td><td>1</td></tr>",
                            "<tr><td>Családi Ház</td><td>4</td><td>1</td></tr>",
                            "<tr><td>Gold Hotel</td><td>1</td><td>1</td></tr>",
                            "<tr><td>Gold Hotel</td><td>21</td><td>1</td></tr>",
                            "<tr><td>Fortuna panzió</td><td>15</td><td>1</td></tr>",
                            "<tr><td>Gold Hotel</td><td>1</td><td>1</td></tr>",
                            "<tr><td>Fortuna panzió</td><td>4</td><td>1</td></tr>",
                            "<tr><td>Kentaur Hotel</td><td>23</td><td>1</td></tr>",
                            "<tr><td>Gold Hotel</td><td>28</td><td>1</td></tr>",
                            "<tr><td>Fortuna panzió</td><td>10</td><td>1</td></tr>",
                            "<tr><td>Gold Hotel</td><td>16</td><td>1</td></tr>",
                            "<tr><td>Fortuna Apartman</td><td>6</td><td>1</td></tr>",
                            "<tr><td>Lagúna Hotel</td><td>22</td><td>1</td></tr>",
                            "<tr><td>Lagúna Hotel</td><td>7</td><td>1</td></tr>",
                            "<tr><td>Jáde panzió</td><td>4</td><td>1</td></tr>",
                            "<tr><td>Jáde panzió</td><td>1</td><td>1</td></tr>",
                            "<tr><td>Partiszél Vendégház</td><td>2</td><td>1</td></tr>",
                            "<tr><td>Gold Hotel</td><td>24</td><td>1</td></tr>",
                            "<tr><td>Gold Hotel</td><td>9</td><td>1</td></tr>",
                            "<tr><td>Fortuna Panzió</td><td>9</td><td>1</td></tr>",
                            "<tr><td>Lagúna Hotel</td><td>6</td><td>1</td></tr>",
                            "<tr><td>Fortuna Apartman</td><td>1</td><td>1</td></tr>",
                            "<tr><td>Gold Hotel</td><td>10</td><td>1</td></tr>",
                            "<tr><td>Sába-Ház</td><td>11</td><td>1</td></tr>",
                            "<tr><td>Fortuna panzió</td><td>12</td><td>1</td></tr>",
                            "<tr><td>Fortuna panzió</td><td>8</td><td>1</td></tr>",
                            "<tr><td>Hotel Három Hattyú</td><td>22</td><td>1</td></tr>",
                            "<tr><td>Partiszél Vendégház</td><td>1</td><td>1</td></tr>",
                            "<tr><td>Hotel Három Hattyú</td><td>33</td><td>1</td></tr>",
                            "<tr><td>Fortuna Panzió</td><td>1</td><td>1</td></tr>",
                            "<tr><td>Gold Hotel</td><td>21</td><td>1</td></tr>",
                            "<tr><td>Gold Hotel</td><td>29</td><td>1</td></tr>",
                            "<tr><td>Partiszél Vendégház</td><td>1</td><td>1</td></tr>",
                            "<tr><td>Gold Hotel</td><td>18</td><td>1</td></tr>",
                            "<tr><td>Kentaur Hotel</td><td>31</td><td>1</td></tr>",
                            "<tr><td>Gold Hotel</td><td>4</td><td>1</td></tr>",
                            "<tr><td>Hotel Három Hattyú</td><td>20</td><td>1</td></tr>",
                            "<tr><td>Fortuna Panzió</td><td>1</td><td>1</td></tr>",
                            "<tr><td>Partiszél Vendégház</td><td>1</td><td>1</td></tr>",
                            "<tr><td>Fortuna Apartman</td><td>7</td><td>1</td></tr>",
                            "<tr><td>Kentaur Hotel</td><td>7</td><td>1</td></tr>",
                            "<tr><td>Kentaur Hotel</td><td>13</td><td>1</td></tr>",
                            "<tr><td>Gold Hotel</td><td>17</td><td>1</td></tr>",
                            "<tr><td>Kentaur Hotel</td><td>13</td><td>1</td></tr>",
                            "<tr><td>Gold Hotel</td><td>19</td><td>1</td></tr>",
                            "<tr><td>Kentaur Hotel</td><td>25</td><td>1</td></tr>",
                            "<tr><td>Partiszél Vendégház</td><td>4</td><td>1</td></tr>",
                            "<tr><td>Hotel Három Hattyú</td><td>2</td><td>1</td></tr>",
                            "<tr><td>Hotel Három Hattyú</td><td>25</td><td>1</td></tr>",
                            "<tr><td>Gold Hotel</td><td>6</td><td>1</td></tr>",
                            "<tr><td>Fortuna Apartman</td><td>7</td><td>1</td></tr>",
                            "<tr><td>Sába-Ház</td><td>4</td><td>1</td></tr>",
                            "<tr><td>Sába-Ház</td><td>8</td><td>1</td></tr>",
                            "<tr><td>Fortuna Apartman</td><td>3</td><td>1</td></tr>",
                            "<tr><td>Sába-Ház</td><td>1</td><td>1</td></tr>",
                            "<tr><td>Kentaur Hotel</td><td>17</td><td>1</td></tr>",
                            "<tr><td>Sába-Ház</td><td>12</td><td>1</td></tr>",
                            "<tr><td>Gold Hotel</td><td>32</td><td>1</td></tr>",
                            "<tr><td>Hotel Három Hattyú</td><td>27</td><td>1</td></tr>",
                            "<tr><td>Kentaur Hotel</td><td>35</td><td>1</td></tr>",
                            "<tr><td>Fortuna Panzió</td><td>8</td><td>1</td></tr>",
                            "<tr><td>Lagúna Hotel</td><td>22</td><td>1</td></tr>",
                            "<tr><td>Gold Hotel</td><td>23</td><td>1</td></tr>",
                            "<tr><td>Gold Hotel</td><td>17</td><td>1</td></tr>",
                            "<tr><td>Hotel Három Hattyú</td><td>21</td><td>1</td></tr>",
                            "<tr><td>Fortuna Panzió</td><td>2</td><td>1</td></tr>",
                            "<tr><td>Kentaur Hotel</td><td>23</td><td>1</td></tr>",
                            "<tr><td>Hotel Három Hattyú</td><td>27</td><td>1</td></tr>",
                            "<tr><td>Kentaur Hotel</td><td>25</td><td>1</td></tr>",
                            "<tr><td>Hotel Három Hattyú</td><td>20</td><td>1</td></tr>",
                            "<tr><td>Sába-Ház</td><td>5</td><td>1</td></tr>",
                            "<tr><td>Hotel Három Hattyú</td><td>24</td><td>1</td></tr>",
                            "<tr><td>Hotel Három Hattyú</td><td>33</td><td>1</td></tr>",
                            "<tr><td>Lagúna Hotel</td><td>20</td><td>1</td></tr>",
                            "<tr><td>Lagúna Hotel</td><td>19</td><td>1</td></tr>",
                            "<tr><td>Sába-Ház</td><td>12</td><td>1</td></tr>",
                            "<tr><td>Fortuna panzió</td><td>11</td><td>1</td></tr>",
                            "<tr><td>Hotel Három Hattyú</td><td>13</td><td>1</td></tr>",
                            "<tr><td>Családi Ház</td><td>4</td><td>1</td></tr>",
                            "<tr><td>Gold Hotel</td><td>5</td><td>1</td></tr>",
                            "<tr><td>Hotel Három Hattyú</td><td>4</td><td>1</td></tr>",
                            "<tr><td>Kentaur Hotel</td><td>27</td><td>1</td></tr>",
                            "<tr><td>Gold Hotel</td><td>29</td><td>1</td></tr>",
                            "<tr><td>Gold Hotel</td><td>34</td><td>1</td></tr>",
                            "<tr><td>Fortuna panzió</td><td>11</td><td>1</td></tr>",
                            "<tr><td>Lagúna Hotel</td><td>9</td><td>1</td></tr>",
                            "<tr><td>Gold Hotel</td><td>7</td><td>1</td></tr>",
                            "<tr><td>Kentaur Hotel</td><td>28</td><td>1</td></tr>",
                            "<tr><td>Kentaur Hotel</td><td>31</td><td>1</td></tr>",
                            "<tr><td>Gold Hotel</td><td>8</td><td>1</td></tr>",
                            "<tr><td>Fortuna panzió</td><td>12</td><td>1</td></tr>",
                            "<tr><td>Fortuna Panzió</td><td>9</td><td>1</td></tr>",
                            "<tr><td>Kentaur Hotel</td><td>4</td><td>1</td></tr>",
                            "<tr><td>Jáde panzió</td><td>4</td><td>1</td></tr>",
                            "<tr><td>Gold Hotel</td><td>26</td><td>1</td></tr>",
                            "<tr><td>Sába-Ház</td><td>6</td><td>1</td></tr>",
                            "<tr><td>Gold Hotel</td><td>14</td><td>1</td></tr>",
                            "<tr><td>Hotel Három Hattyú</td><td>13</td><td>1</td></tr>",
                            "<tr><td>Gold Hotel</td><td>33</td><td>1</td></tr>",
                            "<tr><td>Hotel Három Hattyú</td><td>28</td><td>1</td></tr>",
                            "<tr><td>Kentaur Hotel</td><td>34</td><td>1</td></tr>",
                            "<tr><td>Hotel Három Hattyú</td><td>28</td><td>1</td></tr>",
                            "<tr><td>Kentaur Hotel</td><td>33</td><td>1</td></tr>",
                            "<tr><td>Hotel Három Hattyú</td><td>30</td><td>1</td></tr>",
                            "<tr><td>Jáde panzió</td><td>3</td><td>1</td></tr>",
                            "<tr><td>Kentaur Hotel</td><td>24</td><td>1</td></tr>",
                            "<tr><td>Sába-Ház</td><td>4</td><td>1</td></tr>",
                            "<tr><td>Hotel Három Hattyú</td><td>27</td><td>1</td></tr>",
                            "<tr><td>Fortuna panzió</td><td>12</td><td>1</td></tr>",
                            "<tr><td>Jáde panzió</td><td>5</td><td>1</td></tr>",
                            "<tr><td>Fortuna Apartman</td><td>6</td><td>1</td></tr>",
                            "<tr><td>Kentaur Hotel</td><td>21</td><td>1</td></tr>",
                            "<tr><td>Hotel Három Hattyú</td><td>32</td><td>1</td></tr>",
                            "<tr><td>Gold Hotel</td><td>18</td><td>1</td></tr>",
                            "<tr><td>Kentaur Hotel</td><td>22</td><td>1</td></tr>",
                            "<tr><td>Partiszél Vendégház</td><td>5</td><td>1</td></tr>",
                            "<tr><td>Gold Hotel</td><td>34</td><td>1</td></tr>",
                            "<tr><td>Fortuna panzió</td><td>9</td><td>1</td></tr>",
                            "<tr><td>Kentaur Hotel</td><td>26</td><td>1</td></tr>",
                            "<tr><td>Lagúna Hotel</td><td>3</td><td>1</td></tr>",
                            "<tr><td>Gold Hotel</td><td>10</td><td>1</td></tr>",
                            "<tr><td>Hotel Három Hattyú</td><td>2</td><td>1</td></tr>",
                            "<tr><td>Gold Hotel</td><td>26</td><td>1</td></tr>",
                            "<tr><td>Fortuna Panzió</td><td>1</td><td>1</td></tr>",
                            "<tr><td>Fortuna Panzió</td><td>4</td><td>1</td></tr>",
                            "<tr><td>Sába-Ház</td><td>12</td><td>1</td></tr>",
                            "<tr><td>Gold Hotel</td><td>15</td><td>1</td></tr>",
                            "<tr><td>Gold Hotel</td><td>17</td><td>1</td></tr>",
                            "<tr><td>Fortuna panzió</td><td>6</td><td>1</td></tr>",
                            "<tr><td>Jáde panzió</td><td>5</td><td>1</td></tr>",
                            "<tr><td>Lagúna Hotel</td><td>23</td><td>1</td></tr>",
                            "<tr><td>Hotel Három Hattyú</td><td>29</td><td>1</td></tr>",
                            "<tr><td>Kentaur Hotel</td><td>19</td><td>1</td></tr>",
                            "<tr><td>Családi Ház</td><td>3</td><td>1</td></tr>",
                            "<tr><td>Hotel Három Hattyú</td><td>23</td><td>1</td></tr>",
                            "<tr><td>Gold Hotel</td><td>24</td><td>1</td></tr>",
                            "<tr><td>Fortuna panzió</td><td>3</td><td>1</td></tr>",
                            "<tr><td>Lagúna Hotel</td><td>12</td><td>1</td></tr>",
                            "<tr><td>Fortuna panzió</td><td>14</td><td>1</td></tr>",
                            "<tr><td>Hotel Három Hattyú</td><td>37</td><td>1</td></tr>",
                            "<tr><td>Fortuna Apartman</td><td>2</td><td>1</td></tr>",
                            "<tr><td>Hotel Három Hattyú</td><td>32</td><td>1</td></tr>",
                            "<tr><td>Szieszta Apartmanház</td><td>5</td><td>1</td></tr>",
                            "<tr><td>Sába-Ház</td><td>3</td><td>1</td></tr>",
                            "<tr><td>Gold Hotel</td><td>27</td><td>1</td></tr>",
                            "<tr><td>Jáde panzió</td><td>1</td><td>1</td></tr>",
                            "<tr><td>Hotel Három Hattyú</td><td>20</td><td>1</td></tr>",
                            "<tr><td>Lagúna Hotel</td><td>5</td><td>1</td></tr>",
                            "<tr><td>Gold Hotel</td><td>29</td><td>1</td></tr>",
                            "<tr><td>Családi Ház</td><td>1</td><td>1</td></tr>",
                            "<tr><td>Jáde panzió</td><td>5</td><td>1</td></tr>",
                            "<tr><td>Lagúna Hotel</td><td>2</td><td>1</td></tr>",
                            "<tr><td>Lagúna Hotel</td><td>23</td><td>1</td></tr>",
                            "<tr><td>Hotel Három Hattyú</td><td>5</td><td>1</td></tr>",
                            "<tr><td>Hotel Három Hattyú</td><td>31</td><td>1</td></tr>",
                            "<tr><td>Hotel Három Hattyú</td><td>8</td><td>1</td></tr>",
                            "<tr><td>Sába-Ház</td><td>2</td><td>1</td></tr>",
                            "<tr><td>Fortuna panzió</td><td>1</td><td>1</td></tr>",
                            "<tr><td>Fortuna panzió</td><td>9</td><td>1</td></tr>",
                            "<tr><td>Kentaur Hotel</td><td>30</td><td>1</td></tr>",
                            "<tr><td>Kentaur Hotel</td><td>20</td><td>1</td></tr>",
                            "<tr><td>Fortuna Panzió</td><td>8</td><td>1</td></tr>",
                            "<tr><td>Szieszta Apartmanház</td><td>2</td><td>1</td></tr>",
                            "<tr><td>Lagúna Hotel</td><td>17</td><td>1</td></tr>",
                            "<tr><td>Szieszta Apartmanház</td><td>1</td><td>1</td></tr>",
                            "<tr><td>Fortuna panzió</td><td>14</td><td>1</td></tr>",
                            "<tr><td>Lagúna Hotel</td><td>20</td><td>1</td></tr>",
                            "<tr><td>Hotel Három Hattyú</td><td>32</td><td>1</td></tr>",
                            "<tr><td>Kentaur Hotel</td><td>1</td><td>1</td></tr>",
                            "<tr><td>Lagúna Hotel</td><td>5</td><td>1</td></tr>",
                            "<tr><td>Gold Hotel</td><td>34</td><td>1</td></tr>",
                            "<tr><td>Fortuna Panzió</td><td>10</td><td>1</td></tr>",
                            "<tr><td>Gold Hotel</td><td>19</td><td>1</td></tr>",
                            "<tr><td>Partiszél Vendégház</td><td>2</td><td>1</td></tr>",
                            "<tr><td>Sába-Ház</td><td>2</td><td>1</td></tr>",
                            "<tr><td>Fortuna Apartman</td><td>4</td><td>1</td></tr>",
                            "<tr><td>Kentaur Hotel</td><td>31</td><td>1</td></tr>",
                            "<tr><td>Hotel Három Hattyú</td><td>9</td><td>1</td></tr>",
                            "<tr><td>Sába-Ház</td><td>5</td><td>1</td></tr>",
                            "<tr><td>Gold Hotel</td><td>31</td><td>1</td></tr>",
                            "<tr><td>Partiszél Vendégház</td><td>4</td><td>1</td></tr>",
                            "<tr><td>Fortuna panzió</td><td>5</td><td>1</td></tr>",
                            "<tr><td>Lagúna Hotel</td><td>11</td><td>1</td></tr>",
                            "<tr><td>Fortuna panzió</td><td>14</td><td>1</td></tr>",
                            "<tr><td>Szieszta Apartmanház</td><td>2</td><td>1</td></tr>",
                            "<tr><td>Kentaur Hotel</td><td>10</td><td>1</td></tr>",
                            "<tr><td>Kentaur Hotel</td><td>13</td><td>1</td></tr>",
                            "<tr><td>Fortuna panzió</td><td>3</td><td>1</td></tr>",
                            "<tr><td>Hotel Három Hattyú</td><td>19</td><td>1</td></tr>",
                            "<tr><td>Kentaur Hotel</td><td>10</td><td>1</td></tr>",
                            "<tr><td>Hotel Három Hattyú</td><td>23</td><td>1</td></tr>",
                            "<tr><td>Kentaur Hotel</td><td>6</td><td>1</td></tr>",
                            "<tr><td>Lagúna Hotel</td><td>10</td><td>1</td></tr>",
                            "<tr><td>Fortuna Panzió</td><td>4</td><td>1</td></tr>",
                            "<tr><td>Hotel Három Hattyú</td><td>30</td><td>1</td></tr>",
                            "<tr><td>Jáde panzió</td><td>3</td><td>1</td></tr>",
                            "<tr><td>Gold Hotel</td><td>33</td><td>1</td></tr>",
                            "<tr><td>Kentaur Hotel</td><td>21</td><td>1</td></tr>",
                            "<tr><td>Kentaur Hotel</td><td>25</td><td>1</td></tr>",
                            "<tr><td>Gold Hotel</td><td>11</td><td>1</td></tr>",
                            "<tr><td>Gold Hotel</td><td>30</td><td>1</td></tr>",
                            "<tr><td>Kentaur Hotel</td><td>5</td><td>1</td></tr>",
                            "<tr><td>Hotel Három Hattyú</td><td>5</td><td>1</td></tr>",
                            "<tr><td>Lagúna Hotel</td><td>6</td><td>1</td></tr>",
                            "<tr><td>Sába-Ház</td><td>6</td><td>1</td></tr>",
                            "<tr><td>Lagúna Hotel</td><td>16</td><td>1</td></tr>",
                            "<tr><td>Szieszta Apartmanház</td><td>5</td><td>1</td></tr>",
                            "<tr><td>Hotel Három Hattyú</td><td>18</td><td>1</td></tr>",
                            "<tr><td>Szieszta Apartmanház</td><td>3</td><td>1</td></tr>",
                            "<tr><td>Kentaur Hotel</td><td>28</td><td>1</td></tr>",
                            "<tr><td>Lagúna Hotel</td><td>16</td><td>1</td></tr>",
                            "<tr><td>Fortuna Apartman</td><td>4</td><td>1</td></tr>",
                            "<tr><td>Partiszél Vendégház</td><td>4</td><td>1</td></tr>",
                            "<tr><td>Szieszta Apartmanház</td><td>2</td><td>1</td></tr>",
                            "<tr><td>Hotel Három Hattyú</td><td>20</td><td>1</td></tr>",
                            "<tr><td>Sába-Ház</td><td>3</td><td>1</td></tr>",
                            "<tr><td>Jáde panzió</td><td>3</td><td>1</td></tr>",
                            "<tr><td>Lagúna Hotel</td><td>21</td><td>1</td></tr>",
                            "<tr><td>Kentaur Hotel</td><td>9</td><td>1</td></tr>",
                            "<tr><td>Fortuna Apartman</td><td>4</td><td>1</td></tr>",
                            "<tr><td>Lagúna Hotel</td><td>17</td><td>1</td></tr>",
                            "<tr><td>Gold Hotel</td><td>34</td><td>1</td></tr>",
                            "<tr><td>Lagúna Hotel</td><td>24</td><td>1</td></tr>",
                            "<tr><td>Fortuna Panzió</td><td>1</td><td>1</td></tr>",
                            "<tr><td>Kentaur Hotel</td><td>34</td><td>1</td></tr>",
                            "<tr><td>Lagúna Hotel</td><td>11</td><td>1</td></tr>",
                            "<tr><td>Hotel Három Hattyú</td><td>25</td><td>1</td></tr>",
                            "<tr><td>Kentaur Hotel</td><td>15</td><td>1</td></tr>",
                            "<tr><td>Sába-Ház</td><td>11</td><td>1</td></tr>",
                            "<tr><td>Hotel Három Hattyú</td><td>22</td><td>1</td></tr>",
                            "<tr><td>Gold Hotel</td><td>21</td><td>1</td></tr>",
                            "<tr><td>Kentaur Hotel</td><td>21</td><td>1</td></tr>",
                            "<tr><td>Sába-Ház</td><td>4</td><td>1</td></tr>",
                            "<tr><td>Hotel Három Hattyú</td><td>31</td><td>1</td></tr>",
                            "<tr><td>Családi Ház</td><td>3</td><td>1</td></tr>",
                            "<tr><td>Fortuna Apartman</td><td>6</td><td>1</td></tr>",
                            "<tr><td>Sába-Ház</td><td>7</td><td>1</td></tr>",
                            "<tr><td>Sába-Ház</td><td>4</td><td>1</td></tr>",
                            "<tr><td>Gold Hotel</td><td>11</td><td>1</td></tr>",
                            "<tr><td>Hotel Három Hattyú</td><td>36</td><td>1</td></tr>",
                            "<tr><td>Fortuna Panzió</td><td>6</td><td>1</td></tr>",
                            "<tr><td>Fortuna panzió</td><td>6</td><td>1</td></tr>",
                            "<tr><td>Sába-Ház</td><td>1</td><td>1</td></tr>",
                            "<tr><td>Gold Hotel</td><td>34</td><td>1</td></tr>",
                            "<tr><td>Fortuna Apartman</td><td>3</td><td>1</td></tr>",
                            "<tr><td>Sába-Ház</td><td>12</td><td>1</td></tr>",
                            "<tr><td>Gold Hotel</td><td>1</td><td>1</td></tr>",
                            "<tr><td>Gold Hotel</td><td>8</td><td>1</td></tr>",
                            "<tr><td>Gold Hotel</td><td>12</td><td>1</td></tr>",
                            "<tr><td>Fortuna Panzió</td><td>2</td><td>1</td></tr>",
                            "<tr><td>Lagúna Hotel</td><td>11</td><td>1</td></tr>",
                            "<tr><td>Lagúna Hotel</td><td>15</td><td>1</td></tr>",
                            "<tr><td>Gold Hotel</td><td>19</td><td>1</td></tr>",
                            "<tr><td>Kentaur Hotel</td><td>12</td><td>1</td></tr>",
                            "<tr><td>Jáde panzió</td><td>4</td><td>1</td></tr>",
                            "<tr><td>Fortuna panzió</td><td>4</td><td>1</td></tr>",
                            "<tr><td>Sába-Ház</td><td>3</td><td>1</td></tr>",
                            "<tr><td>Sába-Ház</td><td>1</td><td>1</td></tr>",
                            "<tr><td>Gold Hotel</td><td>22</td><td>1</td></tr>",
                            "<tr><td>Hotel Három Hattyú</td><td>25</td><td>1</td></tr>",
                            "<tr><td>Lagúna Hotel</td><td>9</td><td>1</td></tr>",
                            "<tr><td>Lagúna Hotel</td><td>6</td><td>1</td></tr>",
                            "<tr><td>Sába-Ház</td><td>9</td><td>1</td></tr>",
                            "<tr><td>Fortuna panzió</td><td>2</td><td>1</td></tr>",
                            "<tr><td>Kentaur Hotel</td><td>24</td><td>1</td></tr>",
                            "<tr><td>Lagúna Hotel</td><td>18</td><td>1</td></tr>",
                            "<tr><td>Gold Hotel</td><td>34</td><td>1</td></tr>",
                            "<tr><td>Hotel Három Hattyú</td><td>20</td><td>1</td></tr>",
                            "<tr><td>Kentaur Hotel</td><td>6</td><td>1</td></tr>",
                            "<tr><td>Sába-Ház</td><td>12</td><td>1</td></tr>",
                            "<tr><td>Kentaur Hotel</td><td>2</td><td>1</td></tr>",
                            "<tr><td>Hotel Három Hattyú</td><td>32</td><td>1</td></tr>",
                            "<tr><td>Fortuna Apartman</td><td>8</td><td>1</td></tr>",
                            "<tr><td>Lagúna Hotel</td><td>20</td><td>1</td></tr>",
                            "<tr><td>Hotel Három Hattyú</td><td>3</td><td>1</td></tr>",
                            "<tr><td>Kentaur Hotel</td><td>10</td><td>1</td></tr>",
                            "<tr><td>Gold Hotel</td><td>8</td><td>1</td></tr>",
                            "<tr><td>Gold Hotel</td><td>33</td><td>1</td></tr>",
                            "<tr><td>Fortuna Apartman</td><td>2</td><td>1</td></tr>",
                            "<tr><td>Szieszta Apartmanház</td><td>6</td><td>1</td></tr>",
                            "<tr><td>Sába-Ház</td><td>7</td><td>1</td></tr>",
                            "<tr><td>Gold Hotel</td><td>13</td><td>1</td></tr>",
                            "<tr><td>Lagúna Hotel</td><td>16</td><td>1</td></tr>",
                            "<tr><td>Jáde panzió</td><td>5</td><td>1</td></tr>",
                            "<tr><td>Kentaur Hotel</td><td>25</td><td>1</td></tr>",
                            "<tr><td>Hotel Három Hattyú</td><td>14</td><td>1</td></tr>",
                            "<tr><td>Gold Hotel</td><td>7</td><td>1</td></tr>",
                            "<tr><td>Sába-Ház</td><td>7</td><td>1</td></tr>",
                            "<tr><td>Gold Hotel</td><td>21</td><td>1</td></tr>",
                            "<tr><td>Gold Hotel</td><td>31</td><td>1</td></tr>",
                            "<tr><td>Fortuna panzió</td><td>5</td><td>1</td></tr>",
                            "<tr><td>Kentaur Hotel</td><td>9</td><td>1</td></tr>",
                            "<tr><td>Fortuna Panzió</td><td>7</td><td>1</td></tr>",
                            "<tr><td>Gold Hotel</td><td>18</td><td>1</td></tr>",
                            "<tr><td>Szieszta Apartmanház</td><td>5</td><td>1</td></tr>",
                            "<tr><td>Partiszél Vendégház</td><td>2</td><td>1</td></tr>",
                            "<tr><td>Kentaur Hotel</td><td>10</td><td>1</td></tr>",
                            "<tr><td>Hotel Három Hattyú</td><td>27</td><td>1</td></tr>",
                            "<tr><td>Lagúna Hotel</td><td>9</td><td>1</td></tr>",
                            "<tr><td>Gold Hotel</td><td>6</td><td>1</td></tr>",
                            "<tr><td>Fortuna Apartman</td><td>6</td><td>1</td></tr>",
                            "<tr><td>Szieszta Apartmanház</td><td>4</td><td>1</td></tr>",
                            "<tr><td>Lagúna Hotel</td><td>18</td><td>1</td></tr>",
                            "<tr><td>Fortuna Apartman</td><td>2</td><td>1</td></tr>",
                            "<tr><td>Lagúna Hotel</td><td>10</td><td>1</td></tr>",
                            "<tr><td>Fortuna Panzió</td><td>10</td><td>1</td></tr>",
                            "<tr><td>Lagúna Hotel</td><td>3</td><td>1</td></tr>",
                            "<tr><td>Kentaur Hotel</td><td>3</td><td>1</td></tr>",
                            "<tr><td>Lagúna Hotel</td><td>16</td><td>1</td></tr>",
                            "<tr><td>Gold Hotel</td><td>25</td><td>1</td></tr>",
                            "<tr><td>Partiszél Vendégház</td><td>3</td><td>1</td></tr>",
                            "<tr><td>Fortuna Apartman</td><td>6</td><td>1</td></tr>",
                            "<tr><td>Fortuna Panzió</td><td>4</td><td>1</td></tr>",
                            "<tr><td>Kentaur Hotel</td><td>9</td><td>1</td></tr>",
                            "<tr><td>Hotel Három Hattyú</td><td>32</td><td>1</td></tr>",
                            "<tr><td>Hotel Három Hattyú</td><td>34</td><td>1</td></tr>",
                            "<tr><td>Gold Hotel</td><td>14</td><td>1</td></tr>",
                            "<tr><td>Fortuna Apartman</td><td>5</td><td>1</td></tr>",
                            "<tr><td>Hotel Három Hattyú</td><td>1</td><td>1</td></tr>",
                            "<tr><td>Fortuna panzió</td><td>15</td><td>1</td></tr>",
                            "<tr><td>Hotel Három Hattyú</td><td>31</td><td>1</td></tr>",
                            "<tr><td>Gold Hotel</td><td>34</td><td>1</td></tr>",
                            "<tr><td>Hotel Három Hattyú</td><td>3</td><td>1</td></tr>",
                            "<tr><td>Kentaur Hotel</td><td>12</td><td>1</td></tr>",
                            "<tr><td>Jáde panzió</td><td>5</td><td>1</td></tr>",
                            "<tr><td>Sába-Ház</td><td>9</td><td>1</td></tr>",
                            "<tr><td>Fortuna Panzió</td><td>10</td><td>1</td></tr>",
                            "<tr><td>Lagúna Hotel</td><td>9</td><td>1</td></tr>",
                            "<tr><td>Hotel Három Hattyú</td><td>33</td><td>1</td></tr>",
                            "<tr><td>Kentaur Hotel</td><td>1</td><td>1</td></tr>",
                            "<tr><td>Kentaur Hotel</td><td>20</td><td>1</td></tr>",
                            "<tr><td>Hotel Három Hattyú</td><td>37</td><td>1</td></tr>",
                            "<tr><td>Fortuna Panzió</td><td>4</td><td>1</td></tr>",
                            "<tr><td>Hotel Három Hattyú</td><td>16</td><td>1</td></tr>",
                            "<tr><td>Kentaur Hotel</td><td>30</td><td>1</td></tr>",
                            "<tr><td>Gold Hotel</td><td>18</td><td>1</td></tr>",
                            "<tr><td>Gold Hotel</td><td>18</td><td>1</td></tr>",
                            "<tr><td>Kentaur Hotel</td><td>6</td><td>1</td></tr>",
                            "<tr><td>Kentaur Hotel</td><td>15</td><td>1</td></tr>",
                            "<tr><td>Kentaur Hotel</td><td>17</td><td>1</td></tr>",
                            "<tr><td>Fortuna panzió</td><td>5</td><td>1</td></tr>",
                            "<tr><td>Sába-Ház</td><td>11</td><td>1</td></tr>",
                            "<tr><td>Fortuna Apartman</td><td>3</td><td>1</td></tr>",
                            "<tr><td>Gold Hotel</td><td>29</td><td>1</td></tr>",
                            "<tr><td>Kentaur Hotel</td><td>10</td><td>1</td></tr>",
                            "<tr><td>Lagúna Hotel</td><td>23</td><td>1</td></tr>",
                            "<tr><td>Hotel Három Hattyú</td><td>4</td><td>1</td></tr>",
                            "<tr><td>Gold Hotel</td><td>14</td><td>1</td></tr>",
                            "<tr><td>Fortuna Panzió</td><td>9</td><td>1</td></tr>",
                            "<tr><td>Családi Ház</td><td>3</td><td>1</td></tr>",
                            "<tr><td>Hotel Három Hattyú</td><td>32</td><td>1</td></tr>",
                            "<tr><td>Kentaur Hotel</td><td>20</td><td>1</td></tr>",
                            "<tr><td>Hotel Három Hattyú</td><td>27</td><td>1</td></tr>",
                            "<tr><td>Gold Hotel</td><td>22</td><td>1</td></tr>",
                            "<tr><td>Gold Hotel</td><td>4</td><td>1</td></tr>",
                            "<tr><td>Hotel Három Hattyú</td><td>17</td><td>1</td></tr>",
                            "<tr><td>Gold Hotel</td><td>20</td><td>1</td></tr>",
                            "<tr><td>Sába-Ház</td><td>7</td><td>1</td></tr>",
                            "<tr><td>Szieszta Apartmanház</td><td>5</td><td>1</td></tr>",
                            "<tr><td>Lagúna Hotel</td><td>7</td><td>1</td></tr>",
                            "<tr><td>Kentaur Hotel</td><td>9</td><td>1</td></tr>",
                            "<tr><td>Lagúna Hotel</td><td>4</td><td>1</td></tr>",
                            "<tr><td>Sába-Ház</td><td>5</td><td>1</td></tr>",
                            "<tr><td>Kentaur Hotel</td><td>3</td><td>1</td></tr>",
                            "<tr><td>Lagúna Hotel</td><td>6</td><td>1</td></tr>",
                            "<tr><td>Sába-Ház</td><td>9</td><td>1</td></tr>",
                            "<tr><td>Kentaur Hotel</td><td>9</td><td>1</td></tr>",
                            "<tr><td>Lagúna Hotel</td><td>20</td><td>1</td></tr>",
                            "<tr><td>Hotel Három Hattyú</td><td>23</td><td>1</td></tr>",
                            "<tr><td>Kentaur Hotel</td><td>17</td><td>1</td></tr>",
                            "<tr><td>Partiszél Vendégház</td><td>4</td><td>1</td></tr>",
                            "<tr><td>Gold Hotel</td><td>4</td><td>1</td></tr>",
                            "<tr><td>Gold Hotel</td><td>6</td><td>1</td></tr>",
                            "<tr><td>Kentaur Hotel</td><td>29</td><td>1</td></tr>",
                            "<tr><td>Szieszta Apartmanház</td><td>5</td><td>1</td></tr>",
                            "<tr><td>Fortuna Panzió</td><td>4</td><td>1</td></tr>",
                            "<tr><td>Hotel Három Hattyú</td><td>16</td><td>1</td></tr>",
                            "<tr><td>Kentaur Hotel</td><td>1</td><td>1</td></tr>",
                            "<tr><td>Szieszta Apartmanház</td><td>4</td><td>1</td></tr>",
                            "<tr><td>Sába-Ház</td><td>1</td><td>1</td></tr>",
                            "<tr><td>Fortuna panzió</td><td>3</td><td>1</td></tr>",
                            "<tr><td>Gold Hotel</td><td>10</td><td>1</td></tr>",
                            "<tr><td>Kentaur Hotel</td><td>33</td><td>1</td></tr>",
                            "<tr><td>Gold Hotel</td><td>12</td><td>1</td></tr>",
                            "<tr><td>Kentaur Hotel</td><td>31</td><td>1</td></tr>",
                            "<tr><td>Lagúna Hotel</td><td>3</td><td>1</td></tr>",
                            "<tr><td>Kentaur Hotel</td><td>29</td><td>1</td></tr>",
                            "<tr><td>Hotel Három Hattyú</td><td>33</td><td>1</td></tr>",
                            "<tr><td>Lagúna Hotel</td><td>4</td><td>1</td></tr>",
                            "<tr><td>Partiszél Vendégház</td><td>5</td><td>1</td></tr>",
                            "<tr><td>Kentaur Hotel</td><td>9</td><td>1</td></tr>",
                            "<tr><td>Hotel Három Hattyú</td><td>37</td><td>1</td></tr>",
                            "<tr><td>Fortuna Apartman</td><td>6</td><td>1</td></tr>",
                            "<tr><td>Kentaur Hotel</td><td>10</td><td>1</td></tr>",
                            "<tr><td>Lagúna Hotel</td><td>1</td><td>1</td></tr>",
                            "<tr><td>Hotel Három Hattyú</td><td>38</td><td>1</td></tr>",
                            "<tr><td>Fortuna Panzió</td><td>7</td><td>1</td></tr>",
                            "<tr><td>Partiszél Vendégház</td><td>5</td><td>1</td></tr>",
                            "<tr><td>Kentaur Hotel</td><td>9</td><td>1</td></tr>",
                            "<tr><td>Lagúna Hotel</td><td>4</td><td>1</td></tr>",
                            "<tr><td>Fortuna Panzió</td><td>5</td><td>1</td></tr>",
                            "<tr><td>Hotel Három Hattyú</td><td>21</td><td>1</td></tr>",
                            "<tr><td>Lagúna Hotel</td><td>10</td><td>1</td></tr>",
                            "<tr><td>Hotel Három Hattyú</td><td>19</td><td>1</td></tr>",
                            "<tr><td>Szieszta Apartmanház</td><td>6</td><td>1</td></tr>",
                            "<tr><td>Szieszta Apartmanház</td><td>4</td><td>1</td></tr>",
                            "<tr><td>Jáde panzió</td><td>3</td><td>1</td></tr>",
                            "<tr><td>Gold Hotel</td><td>27</td><td>1</td></tr>",
                            "<tr><td>Fortuna Panzió</td><td>6</td><td>1</td></tr>",
                            "<tr><td>Gold Hotel</td><td>33</td><td>1</td></tr>",
                            "<tr><td>Hotel Három Hattyú</td><td>4</td><td>1</td></tr>",
                            "<tr><td>Jáde panzió</td><td>4</td><td>1</td></tr>",
                            "<tr><td>Kentaur Hotel</td><td>9</td><td>1</td></tr>",
                            "<tr><td>Gold Hotel</td><td>18</td><td>1</td></tr>",
                            "<tr><td>Fortuna Panzió</td><td>3</td><td>1</td></tr>",
                            "<tr><td>Lagúna Hotel</td><td>21</td><td>1</td></tr>",
                            "<tr><td>Sába-Ház</td><td>2</td><td>1</td></tr>",
                            "<tr><td>Hotel Három Hattyú</td><td>4</td><td>1</td></tr>",
                            "<tr><td>Lagúna Hotel</td><td>9</td><td>1</td></tr>",
                            "<tr><td>Gold Hotel</td><td>32</td><td>1</td></tr>",
                            "<tr><td>Hotel Három Hattyú</td><td>10</td><td>1</td></tr>",
                            "<tr><td>Fortuna Apartman</td><td>1</td><td>1</td></tr>",
                            "<tr><td>Gold Hotel</td><td>18</td><td>1</td></tr>",
                            "<tr><td>Kentaur Hotel</td><td>23</td><td>1</td></tr>",
                            "<tr><td>Sába-Ház</td><td>10</td><td>1</td></tr>",
                            "<tr><td>Szieszta Apartmanház</td><td>1</td><td>1</td></tr>",
                            "<tr><td>Fortuna panzió</td><td>9</td><td>1</td></tr>",
                            "<tr><td>Kentaur Hotel</td><td>9</td><td>1</td></tr>",
                            "<tr><td>Gold Hotel</td><td>27</td><td>1</td></tr>",
                            "<tr><td>Kentaur Hotel</td><td>19</td><td>1</td></tr>",
                            "<tr><td>Kentaur Hotel</td><td>21</td><td>1</td></tr>",
                            "<tr><td>Gold Hotel</td><td>18</td><td>1</td></tr>",
                            "<tr><td>Kentaur Hotel</td><td>6</td><td>1</td></tr>",
                            "<tr><td>Kentaur Hotel</td><td>5</td><td>1</td></tr>",
                            "<tr><td>Gold Hotel</td><td>7</td><td>1</td></tr>",
                            "<tr><td>Hotel Három Hattyú</td><td>34</td><td>1</td></tr>",
                            "<tr><td>Kentaur Hotel</td><td>24</td><td>1</td></tr>",
                            "<tr><td>Hotel Három Hattyú</td><td>11</td><td>1</td></tr>",
                            "<tr><td>Kentaur Hotel</td><td>21</td><td>1</td></tr>",
                            "<tr><td>Sába-Ház</td><td>1</td><td>1</td></tr>",
                            "<tr><td>Fortuna panzió</td><td>13</td><td>1</td></tr>",
                            "<tr><td>Gold Hotel</td><td>8</td><td>1</td></tr>",
                            "<tr><td>Hotel Három Hattyú</td><td>32</td><td>1</td></tr>",
                            "<tr><td>Lagúna Hotel</td><td>11</td><td>1</td></tr>",
                            "<tr><td>Hotel Három Hattyú</td><td>30</td><td>1</td></tr>",
                            "<tr><td>Gold Hotel</td><td>32</td><td>1</td></tr>",
                            "<tr><td>Kentaur Hotel</td><td>33</td><td>1</td></tr>",
                            "<tr><td>Gold Hotel</td><td>6</td><td>1</td></tr>",
                            "<tr><td>Hotel Három Hattyú</td><td>12</td><td>1</td></tr>",
                            "<tr><td>Fortuna panzió</td><td>9</td><td>1</td></tr>",
                            "<tr><td>Kentaur Hotel</td><td>30</td><td>1</td></tr>",
                            "<tr><td>Gold Hotel</td><td>17</td><td>1</td></tr>",
                            "<tr><td>Családi Ház</td><td>1</td><td>1</td></tr>",
                            "<tr><td>Kentaur Hotel</td><td>8</td><td>1</td></tr>",
                            "<tr><td>Szieszta Apartmanház</td><td>3</td><td>1</td></tr>",
                            "<tr><td>Gold Hotel</td><td>9</td><td>1</td></tr>",
                            "<tr><td>Fortuna panzió</td><td>14</td><td>1</td></tr>",
                            "<tr><td>Hotel Három Hattyú</td><td>25</td><td>1</td></tr>",
                            "<tr><td>Hotel Három Hattyú</td><td>21</td><td>1</td></tr>",
                            "<tr><td>Hotel Három Hattyú</td><td>17</td><td>1</td></tr>",
                            "<tr><td>Hotel Három Hattyú</td><td>3</td><td>1</td></tr>",
                            "<tr><td>Gold Hotel</td><td>5</td><td>1</td></tr>",
                            "<tr><td>Lagúna Hotel</td><td>6</td><td>1</td></tr>",
                            "<tr><td>Lagúna Hotel</td><td>4</td><td>1</td></tr>",
                            "<tr><td>Szieszta Apartmanház</td><td>4</td><td>1</td></tr>",
                            "<tr><td>Hotel Három Hattyú</td><td>39</td><td>1</td></tr>",
                            "<tr><td>Lagúna Hotel</td><td>6</td><td>1</td></tr>",
                            "<tr><td>Fortuna panzió</td><td>1</td><td>1</td></tr>",
                            "<tr><td>Jáde panzió</td><td>4</td><td>1</td></tr>",
                            "<tr><td>Hotel Három Hattyú</td><td>36</td><td>1</td></tr>",
                            "<tr><td>Kentaur Hotel</td><td>21</td><td>1</td></tr>",
                            "<tr><td>Kentaur Hotel</td><td>32</td><td>1</td></tr>",
                            "<tr><td>Kentaur Hotel</td><td>31</td><td>1</td></tr>",
                            "<tr><td>Hotel Három Hattyú</td><td>4</td><td>1</td></tr>",
                            "<tr><td>Lagúna Hotel</td><td>8</td><td>1</td></tr>",
                            "<tr><td>Lagúna Hotel</td><td>4</td><td>1</td></tr>",
                            "<tr><td>Lagúna Hotel</td><td>6</td><td>1</td></tr>",
                            "<tr><td>Hotel Három Hattyú</td><td>16</td><td>1</td></tr>",
                            "<tr><td>Hotel Három Hattyú</td><td>31</td><td>1</td></tr>",
                            "<tr><td>Hotel Három Hattyú</td><td>28</td><td>1</td></tr>",
                            "<tr><td>Gold Hotel</td><td>1</td><td>1</td></tr>",
                            "<tr><td>Kentaur Hotel</td><td>35</td><td>1</td></tr>",
                            "<tr><td>Fortuna panzió</td><td>3</td><td>1</td></tr>",
                            "<tr><td>Hotel Három Hattyú</td><td>6</td><td>1</td></tr>",
                            "<tr><td>Kentaur Hotel</td><td>34</td><td>1</td></tr>",
                            "<tr><td>Fortuna panzió</td><td>15</td><td>1</td></tr>",
                            "<tr><td>Fortuna panzió</td><td>9</td><td>1</td></tr>",
                            "<tr><td>Kentaur Hotel</td><td>18</td><td>1</td></tr>",
                            "<tr><td>Gold Hotel</td><td>12</td><td>1</td></tr>",
                            "<tr><td>Kentaur Hotel</td><td>35</td><td>1</td></tr>",
                            "<tr><td>Hotel Három Hattyú</td><td>32</td><td>1</td></tr>",
                            "<tr><td>Kentaur Hotel</td><td>6</td><td>1</td></tr>",
                            "<tr><td>Gold Hotel</td><td>33</td><td>1</td></tr>",
                            "<tr><td>Fortuna panzió</td><td>2</td><td>1</td></tr>",
                            "<tr><td>Kentaur Hotel</td><td>8</td><td>1</td></tr>",
                            "<tr><td>Gold Hotel</td><td>24</td><td>1</td></tr>",
                            "<tr><td>Hotel Három Hattyú</td><td>3</td><td>1</td></tr>",
                            "<tr><td>Hotel Három Hattyú</td><td>18</td><td>1</td></tr>",
                            "<tr><td>Hotel Három Hattyú</td><td>31</td><td>1</td></tr>",
                            "<tr><td>Lagúna Hotel</td><td>9</td><td>1</td></tr>",
                            "<tr><td>Hotel Három Hattyú</td><td>7</td><td>1</td></tr>",
                            "<tr><td>Kentaur Hotel</td><td>23</td><td>1</td></tr>",
                            "<tr><td>Hotel Három Hattyú</td><td>1</td><td>1</td></tr>",
                            "<tr><td>Hotel Három Hattyú</td><td>13</td><td>1</td></tr>",
                            "<tr><td>Szieszta Apartmanház</td><td>5</td><td>1</td></tr>",
                            "<tr><td>Partiszél Vendégház</td><td>3</td><td>1</td></tr>",
                            "<tr><td>Lagúna Hotel</td><td>7</td><td>1</td></tr>",
                            "<tr><td>Hotel Három Hattyú</td><td>8</td><td>1</td></tr>",
                            "<tr><td>Hotel Három Hattyú</td><td>34</td><td>1</td></tr>",
                            "<tr><td>Gold Hotel</td><td>23</td><td>1</td></tr>",
                            "<tr><td>Szieszta Apartmanház</td><td>6</td><td>1</td></tr>",
                            "<tr><td>Kentaur Hotel</td><td>33</td><td>1</td></tr>",
                            "<tr><td>Gold Hotel</td><td>11</td><td>1</td></tr>",
                            "<tr><td>Hotel Három Hattyú</td><td>9</td><td>1</td></tr>",
                            "<tr><td>Jáde panzió</td><td>4</td><td>1</td></tr>",
                            "<tr><td>Gold Hotel</td><td>18</td><td>1</td></tr>",
                            "<tr><td>Fortuna panzió</td><td>11</td><td>1</td></tr>",
                            "<tr><td>Kentaur Hotel</td><td>26</td><td>1</td></tr>",
                            "<tr><td>Hotel Három Hattyú</td><td>29</td><td>1</td></tr>",
                            "<tr><td>Gold Hotel</td><td>3</td><td>1</td></tr>",
                            "<tr><td>Fortuna Apartman</td><td>8</td><td>1</td></tr>",
                            "<tr><td>Fortuna panzió</td><td>14</td><td>1</td></tr>",
                            "<tr><td>Hotel Három Hattyú</td><td>7</td><td>1</td></tr>",
                            "<tr><td>Családi Ház</td><td>3</td><td>1</td></tr>",
                            "<tr><td>Hotel Három Hattyú</td><td>34</td><td>1</td></tr>",
                            "<tr><td>Gold Hotel</td><td>34</td><td>1</td></tr>",
                            "<tr><td>Gold Hotel</td><td>8</td><td>1</td></tr>",
                            "<tr><td>Gold Hotel</td><td>18</td><td>1</td></tr>",
                            "<tr><td>Sába-Ház</td><td>9</td><td>1</td></tr>",
                            "<tr><td>Hotel Három Hattyú</td><td>20</td><td>1</td></tr>",
                            "<tr><td>Fortuna Panzió</td><td>5</td><td>1</td></tr>",
                            "<tr><td>Kentaur Hotel</td><td>13</td><td>1</td></tr>",
                            "<tr><td>Gold Hotel</td><td>5</td><td>1</td></tr>",
                            "<tr><td>Hotel Három Hattyú</td><td>36</td><td>1</td></tr>",
                            "<tr><td>Gold Hotel</td><td>9</td><td>1</td></tr>",
                            "<tr><td>Sába-Ház</td><td>12</td><td>1</td></tr>",
                            "<tr><td>Kentaur Hotel</td><td>3</td><td>1</td></tr>",
                            "<tr><td>Lagúna Hotel</td><td>16</td><td>1</td></tr>",
                            "<tr><td>Lagúna Hotel</td><td>5</td><td>1</td></tr>",
                            "<tr><td>Sába-Ház</td><td>3</td><td>1</td></tr>",
                            "<tr><td>Fortuna panzió</td><td>15</td><td>1</td></tr>",
                            "<tr><td>Fortuna panzió</td><td>11</td><td>1</td></tr>",
                            "<tr><td>Gold Hotel</td><td>19</td><td>1</td></tr>",
                            "<tr><td>Hotel Három Hattyú</td><td>6</td><td>1</td></tr>",
                            "<tr><td>Kentaur Hotel</td><td>28</td><td>1</td></tr>",
                            "<tr><td>Hotel Három Hattyú</td><td>32</td><td>1</td></tr>",
                            "<tr><td>Gold Hotel</td><td>21</td><td>1</td></tr>",
                            "<tr><td>Családi Ház</td><td>3</td><td>1</td></tr>",
                            "<tr><td>Kentaur Hotel</td><td>32</td><td>1</td></tr>",
                            "<tr><td>Fortuna Panzió</td><td>3</td><td>1</td></tr>",
                            "<tr><td>Hotel Három Hattyú</td><td>39</td><td>1</td></tr>",
                            "<tr><td>Kentaur Hotel</td><td>15</td><td>1</td></tr>",
                            "<tr><td>Kentaur Hotel</td><td>30</td><td>1</td></tr>",
                            "<tr><td>Lagúna Hotel</td><td>9</td><td>1</td></tr>",
                            "<tr><td>Gold Hotel</td><td>25</td><td>1</td></tr>",
                            "<tr><td>Lagúna Hotel</td><td>5</td><td>1</td></tr>",
                            "<tr><td>Kentaur Hotel</td><td>9</td><td>1</td></tr>",
                            "<tr><td>Hotel Három Hattyú</td><td>17</td><td>1</td></tr>",
                            "<tr><td>Szieszta Apartmanház</td><td>2</td><td>1</td></tr>",
                            "<tr><td>Fortuna panzió</td><td>15</td><td>1</td></tr>",
                            "<tr><td>Hotel Három Hattyú</td><td>26</td><td>1</td></tr>",
                            "<tr><td>Szieszta Apartmanház</td><td>3</td><td>1</td></tr>",
                            "<tr><td>Kentaur Hotel</td><td>21</td><td>1</td></tr>",
                            "<tr><td>Kentaur Hotel</td><td>26</td><td>1</td></tr>",
                            "<tr><td>Fortuna panzió</td><td>4</td><td>1</td></tr>",
                            "<tr><td>Lagúna Hotel</td><td>19</td><td>1</td></tr>",
                            "<tr><td>Kentaur Hotel</td><td>28</td><td>1</td></tr>",
                            "<tr><td>Lagúna Hotel</td><td>22</td><td>1</td></tr>",
                            "<tr><td>Gold Hotel</td><td>21</td><td>1</td></tr>",
                            "<tr><td>Kentaur Hotel</td><td>32</td><td>1</td></tr>",
                            "<tr><td>Kentaur Hotel</td><td>15</td><td>1</td></tr>",
                            "<tr><td>Kentaur Hotel</td><td>8</td><td>1</td></tr>",
                            "<tr><td>Gold Hotel</td><td>22</td><td>1</td></tr>",
                            "<tr><td>Hotel Három Hattyú</td><td>27</td><td>1</td></tr>",
                            "<tr><td>Családi Ház</td><td>1</td><td>1</td></tr>",
                            "<tr><td>Lagúna Hotel</td><td>19</td><td>1</td></tr>",
                            "<tr><td>Lagúna Hotel</td><td>11</td><td>1</td></tr>",
                            "<tr><td>Hotel Három Hattyú</td><td>28</td><td>1</td></tr>",
                            "<tr><td>Gold Hotel</td><td>31</td><td>1</td></tr>",
                            "<tr><td>Jáde panzió</td><td>2</td><td>1</td></tr>",
                            "<tr><td>Jáde panzió</td><td>1</td><td>1</td></tr>",
                            "<tr><td>Fortuna panzió</td><td>3</td><td>1</td></tr>",
                            "<tr><td>Kentaur Hotel</td><td>2</td><td>1</td></tr>",
                            "<tr><td>Fortuna panzió</td><td>14</td><td>1</td></tr>",
                            "<tr><td>Lagúna Hotel</td><td>12</td><td>1</td></tr>",
                            "<tr><td>Fortuna panzió</td><td>11</td><td>1</td></tr>",
                            "<tr><td>Hotel Három Hattyú</td><td>28</td><td>1</td></tr>",
                            "<tr><td>Hotel Három Hattyú</td><td>10</td><td>1</td></tr>",
                            "<tr><td>Hotel Három Hattyú</td><td>30</td><td>1</td></tr>",
                            "<tr><td>Gold Hotel</td><td>31</td><td>1</td></tr>",
                            "<tr><td>Hotel Három Hattyú</td><td>13</td><td>1</td></tr>",
                            "<tr><td>Hotel Három Hattyú</td><td>9</td><td>1</td></tr>",
                            "<tr><td>Partiszél Vendégház</td><td>4</td><td>1</td></tr>",
                            "<tr><td>Hotel Három Hattyú</td><td>29</td><td>1</td></tr>",
                            "<tr><td>Hotel Három Hattyú</td><td>20</td><td>1</td></tr>",
                            "<tr><td>Lagúna Hotel</td><td>22</td><td>1</td></tr>",
                            "<tr><td>Gold Hotel</td><td>8</td><td>1</td></tr>",
                            "<tr><td>Sába-Ház</td><td>4</td><td>1</td></tr>",
                            "<tr><td>Hotel Három Hattyú</td><td>30</td><td>1</td></tr>",
                            "<tr><td>Hotel Három Hattyú</td><td>17</td><td>1</td></tr>",
                            "<tr><td>Hotel Három Hattyú</td><td>23</td><td>1</td></tr>",
                            "<tr><td>Kentaur Hotel</td><td>12</td><td>1</td></tr>",
                            "<tr><td>Gold Hotel</td><td>15</td><td>1</td></tr>",
                            "<tr><td>Családi Ház</td><td>4</td><td>1</td></tr>",
                            "<tr><td>Hotel Három Hattyú</td><td>23</td><td>1</td></tr>",
                            "<tr><td>Hotel Három Hattyú</td><td>36</td><td>1</td></tr>",
                            "<tr><td>Hotel Három Hattyú</td><td>26</td><td>1</td></tr>",
                            "<tr><td>Gold Hotel</td><td>27</td><td>1</td></tr>",
                            "<tr><td>Gold Hotel</td><td>13</td><td>1</td></tr>",
                            "<tr><td>Kentaur Hotel</td><td>8</td><td>1</td></tr>",
                            "<tr><td>Fortuna Apartman</td><td>2</td><td>1</td></tr>",
                            "<tr><td>Kentaur Hotel</td><td>32</td><td>1</td></tr>",
                            "<tr><td>Lagúna Hotel</td><td>19</td><td>1</td></tr>",
                            "<tr><td>Gold Hotel</td><td>27</td><td>1</td></tr>",
                            "<tr><td>Hotel Három Hattyú</td><td>39</td><td>1</td></tr>",
                            "<tr><td>Hotel Három Hattyú</td><td>16</td><td>1</td></tr>",
                            "<tr><td>Gold Hotel</td><td>12</td><td>1</td></tr>",
                            "<tr><td>Kentaur Hotel</td><td>6</td><td>1</td></tr>",
                            "<tr><td>Szieszta Apartmanház</td><td>1</td><td>1</td></tr>",
                            "<tr><td>Lagúna Hotel</td><td>15</td><td>1</td></tr>",
                            "<tr><td>Fortuna Panzió</td><td>7</td><td>1</td></tr>",
                            "<tr><td>Hotel Három Hattyú</td><td>11</td><td>1</td></tr>",
                            "<tr><td>Gold Hotel</td><td>26</td><td>1</td></tr>",
                            "<tr><td>Hotel Három Hattyú</td><td>4</td><td>1</td></tr>",
                            "<tr><td>Jáde panzió</td><td>3</td><td>1</td></tr>",
                            "<tr><td>Kentaur Hotel</td><td>6</td><td>1</td></tr>",
                            "<tr><td>Szieszta Apartmanház</td><td>5</td><td>1</td></tr>",
                            "<tr><td>Hotel Három Hattyú</td><td>14</td><td>1</td></tr>",
                            "<tr><td>Sába-Ház</td><td>11</td><td>1</td></tr>",
                            "<tr><td>Fortuna Panzió</td><td>4</td><td>1</td></tr>",
                            "<tr><td>Hotel Három Hattyú</td><td>15</td><td>1</td></tr>",
                            "<tr><td>Gold Hotel</td><td>2</td><td>1</td></tr>",
                            "<tr><td>Hotel Három Hattyú</td><td>2</td><td>1</td></tr>",
                            "<tr><td>Hotel Három Hattyú</td><td>7</td><td>1</td></tr>",
                            "<tr><td>Fortuna panzió</td><td>11</td><td>1</td></tr>",
                            "<tr><td>Hotel Három Hattyú</td><td>22</td><td>1</td></tr>",
                            "<tr><td>Hotel Három Hattyú</td><td>34</td><td>1</td></tr>",
                            "<tr><td>Hotel Három Hattyú</td><td>14</td><td>1</td></tr>",
                            "<tr><td>Fortuna Apartman</td><td>3</td><td>1</td></tr>",
                            "<tr><td>Kentaur Hotel</td><td>3</td><td>1</td></tr>",
                            "<tr><td>Jáde panzió</td><td>5</td><td>1</td></tr>",
                            "<tr><td>Fortuna Panzió</td><td>10</td><td>1</td></tr>",
                            "<tr><td>Sába-Ház</td><td>9</td><td>1</td></tr>",
                            "<tr><td>Fortuna panzió</td><td>15</td><td>1</td></tr>",
                            "<tr><td>Lagúna Hotel</td><td>20</td><td>1</td></tr>",
                            "<tr><td>Hotel Három Hattyú</td><td>24</td><td>1</td></tr>",
                            "<tr><td>Lagúna Hotel</td><td>21</td><td>1</td></tr>",
                            "<tr><td>Családi Ház</td><td>2</td><td>1</td></tr>",
                            "<tr><td>Hotel Három Hattyú</td><td>5</td><td>1</td></tr>",
                            "<tr><td>Sába-Ház</td><td>3</td><td>1</td></tr>",
                            "<tr><td>Lagúna Hotel</td><td>8</td><td>1</td></tr>",
                            "<tr><td>Fortuna Panzió</td><td>9</td><td>1</td></tr>",
                            "<tr><td>Fortuna Panzió</td><td>9</td><td>1</td></tr>",
                            "<tr><td>Szieszta Apartmanház</td><td>4</td><td>1</td></tr>",
                            "<tr><td>Fortuna Apartman</td><td>1</td><td>1</td></tr>",
                            "<tr><td>Kentaur Hotel</td><td>2</td><td>1</td></tr>",
                            "<tr><td>Lagúna Hotel</td><td>23</td><td>1</td></tr>",
                            "<tr><td>Fortuna Panzió</td><td>5</td><td>1</td></tr>",
                            "<tr><td>Fortuna Panzió</td><td>4</td><td>1</td></tr>",
                            "<tr><td>Hotel Három Hattyú</td><td>25</td><td>1</td></tr>",
                            "<tr><td>Hotel Három Hattyú</td><td>2</td><td>1</td></tr>",
                            "<tr><td>Fortuna panzió</td><td>14</td><td>1</td></tr>",
                            "<tr><td>Kentaur Hotel</td><td>27</td><td>1</td></tr>",
                            "<tr><td>Lagúna Hotel</td><td>18</td><td>1</td></tr>",
                            "<tr><td>Gold Hotel</td><td>16</td><td>1</td></tr>",
                            "<tr><td>Hotel Három Hattyú</td><td>19</td><td>1</td></tr>",
                            "<tr><td>Lagúna Hotel</td><td>22</td><td>1</td></tr>",
                            "<tr><td>Kentaur Hotel</td><td>32</td><td>1</td></tr>",
                            "<tr><td>Gold Hotel</td><td>16</td><td>1</td></tr>",
                            "<tr><td>Hotel Három Hattyú</td><td>4</td><td>1</td></tr>",
                            "<tr><td>Partiszél Vendégház</td><td>1</td><td>1</td></tr>",
                            "<tr><td>Hotel Három Hattyú</td><td>25</td><td>1</td></tr>",
                            "<tr><td>Gold Hotel</td><td>7</td><td>1</td></tr>",
                            "<tr><td>Fortuna panzió</td><td>5</td><td>1</td></tr>",
                            "<tr><td>Hotel Három Hattyú</td><td>6</td><td>1</td></tr>",
                            "<tr><td>Gold Hotel</td><td>12</td><td>1</td></tr>",
                            "<tr><td>Partiszél Vendégház</td><td>2</td><td>1</td></tr>",
                            "<tr><td>Lagúna Hotel</td><td>10</td><td>1</td></tr>",
                            "<tr><td>Kentaur Hotel</td><td>10</td><td>1</td></tr>",
                            "<tr><td>Hotel Három Hattyú</td><td>38</td><td>1</td></tr>",
                            "<tr><td>Szieszta Apartmanház</td><td>4</td><td>1</td></tr>",
                            "<tr><td>Gold Hotel</td><td>25</td><td>1</td></tr>",
                            "<tr><td>Kentaur Hotel</td><td>29</td><td>1</td></tr>",
                            "<tr><td>Lagúna Hotel</td><td>14</td><td>1</td></tr>",
                            "<tr><td>Hotel Három Hattyú</td><td>37</td><td>1</td></tr>",
                            "<tr><td>Kentaur Hotel</td><td>18</td><td>1</td></tr>",
                            "<tr><td>Fortuna Panzió</td><td>9</td><td>1</td></tr>",
                            "<tr><td>Kentaur Hotel</td><td>15</td><td>1</td></tr>",
                            "<tr><td>Hotel Három Hattyú</td><td>38</td><td>1</td></tr>",
                            "<tr><td>Kentaur Hotel</td><td>18</td><td>1</td></tr>",
                            "</table>"
                        ]
                    }
                }
            ],
            "execution_count": 16
        },
        {
            "cell_type": "markdown",
            "source": [
                ">   \n",
                "\n",
                "**FELADAT 4:**\n",
                "\n",
                "Készítsen lekérdezést, amely megjeleníti, hogy szálláshelyenként, azon belül a pótágyak száma szerint hány főre foglaltak összesen (felnőtt + gyermek)!\n",
                "\n",
                "- Jelenjenek meg a részösszegek és a végösszeg is!"
            ],
            "metadata": {
                "azdata_cell_guid": "860e1f05-efa3-42b6-b0f2-a0f80e6a568d"
            },
            "attachments": {}
        },
        {
            "cell_type": "code",
            "source": [
                "SELECT IIF(\r\n",
                "    GROUPING(szh.SZALLAS_NEV)= 1, 'Végösszeg', szh.SZALLAS_NEV) AS 'Szálláshely',\r\n",
                "    IIF(GROUPING(sz.POTAGY)= 3, 'Részösszeg', sz.POTAGY) AS 'Pótágy',\r\n",
                "    SUM(f.FELNOTT_SZAM)+ SUM(f.GYERMEK_SZAM) AS 'Foglalások száma'\r\n",
                "FROM Szallashely szh\r\n",
                "    JOIN Szoba sz ON szh.SZALLAS_ID = sz.SZALLAS_FK\r\n",
                "    JOIN Foglalas f ON f.SZOBA_FK = sz.SZOBA_ID\r\n",
                "GROUP BY ROLLUP(szh.SZALLAS_NEV, sz.POTAGY)"
            ],
            "metadata": {
                "azdata_cell_guid": "c8d8c2d3-1c78-46ff-9f9f-623d7d862e29",
                "language": "sql"
            },
            "outputs": [
                {
                    "output_type": "display_data",
                    "data": {
                        "text/html": "(41 rows affected)"
                    },
                    "metadata": {}
                },
                {
                    "output_type": "display_data",
                    "data": {
                        "text/html": "Total execution time: 00:00:00.024"
                    },
                    "metadata": {}
                },
                {
                    "output_type": "execute_result",
                    "metadata": {},
                    "execution_count": 14,
                    "data": {
                        "application/vnd.dataresource+json": {
                            "schema": {
                                "fields": [
                                    {
                                        "name": "Szálláshely"
                                    },
                                    {
                                        "name": "Pótágy"
                                    },
                                    {
                                        "name": "Foglalások száma"
                                    }
                                ]
                            },
                            "data": [
                                {
                                    "Szálláshely": "Családi Ház",
                                    "Pótágy": "0",
                                    "Foglalások száma": "10"
                                },
                                {
                                    "Szálláshely": "Családi Ház",
                                    "Pótágy": "1",
                                    "Foglalások száma": "31"
                                },
                                {
                                    "Szálláshely": "Családi Ház",
                                    "Pótágy": "2",
                                    "Foglalások száma": "11"
                                },
                                {
                                    "Szálláshely": "Családi Ház",
                                    "Pótágy": "NULL",
                                    "Foglalások száma": "52"
                                },
                                {
                                    "Szálláshely": "Fortuna Apartman",
                                    "Pótágy": "0",
                                    "Foglalások száma": "18"
                                },
                                {
                                    "Szálláshely": "Fortuna Apartman",
                                    "Pótágy": "1",
                                    "Foglalások száma": "52"
                                },
                                {
                                    "Szálláshely": "Fortuna Apartman",
                                    "Pótágy": "2",
                                    "Foglalások száma": "36"
                                },
                                {
                                    "Szálláshely": "Fortuna Apartman",
                                    "Pótágy": "NULL",
                                    "Foglalások száma": "106"
                                },
                                {
                                    "Szálláshely": "Fortuna Panzió",
                                    "Pótágy": "0",
                                    "Foglalások száma": "158"
                                },
                                {
                                    "Szálláshely": "Fortuna panzió",
                                    "Pótágy": "1",
                                    "Foglalások száma": "113"
                                },
                                {
                                    "Szálláshely": "Fortuna panzió",
                                    "Pótágy": "2",
                                    "Foglalások száma": "40"
                                },
                                {
                                    "Szálláshely": "Fortuna Panzió",
                                    "Pótágy": "NULL",
                                    "Foglalások száma": "311"
                                },
                                {
                                    "Szálláshely": "Gold Hotel",
                                    "Pótágy": "0",
                                    "Foglalások száma": "216"
                                },
                                {
                                    "Szálláshely": "Gold Hotel",
                                    "Pótágy": "1",
                                    "Foglalások száma": "93"
                                },
                                {
                                    "Szálláshely": "Gold Hotel",
                                    "Pótágy": "2",
                                    "Foglalások száma": "119"
                                },
                                {
                                    "Szálláshely": "Gold Hotel",
                                    "Pótágy": "NULL",
                                    "Foglalások száma": "428"
                                },
                                {
                                    "Szálláshely": "Hotel Három Hattyú",
                                    "Pótágy": "0",
                                    "Foglalások száma": "183"
                                },
                                {
                                    "Szálláshely": "Hotel Három Hattyú",
                                    "Pótágy": "1",
                                    "Foglalások száma": "258"
                                },
                                {
                                    "Szálláshely": "Hotel Három Hattyú",
                                    "Pótágy": "2",
                                    "Foglalások száma": "63"
                                },
                                {
                                    "Szálláshely": "Hotel Három Hattyú",
                                    "Pótágy": "NULL",
                                    "Foglalások száma": "504"
                                },
                                {
                                    "Szálláshely": "Jáde panzió",
                                    "Pótágy": "0",
                                    "Foglalások száma": "66"
                                },
                                {
                                    "Szálláshely": "Jáde panzió",
                                    "Pótágy": "NULL",
                                    "Foglalások száma": "66"
                                },
                                {
                                    "Szálláshely": "Kentaur Hotel",
                                    "Pótágy": "0",
                                    "Foglalások száma": "168"
                                },
                                {
                                    "Szálláshely": "Kentaur Hotel",
                                    "Pótágy": "1",
                                    "Foglalások száma": "224"
                                },
                                {
                                    "Szálláshely": "Kentaur Hotel",
                                    "Pótágy": "2",
                                    "Foglalások száma": "28"
                                },
                                {
                                    "Szálláshely": "Kentaur Hotel",
                                    "Pótágy": "NULL",
                                    "Foglalások száma": "420"
                                },
                                {
                                    "Szálláshely": "Lagúna Hotel",
                                    "Pótágy": "0",
                                    "Foglalások száma": "105"
                                },
                                {
                                    "Szálláshely": "Lagúna Hotel",
                                    "Pótágy": "1",
                                    "Foglalások száma": "150"
                                },
                                {
                                    "Szálláshely": "Lagúna Hotel",
                                    "Pótágy": "2",
                                    "Foglalások száma": "36"
                                },
                                {
                                    "Szálláshely": "Lagúna Hotel",
                                    "Pótágy": "NULL",
                                    "Foglalások száma": "291"
                                },
                                {
                                    "Szálláshely": "Partiszél Vendégház",
                                    "Pótágy": "0",
                                    "Foglalások száma": "31"
                                },
                                {
                                    "Szálláshely": "Partiszél Vendégház",
                                    "Pótágy": "1",
                                    "Foglalások száma": "17"
                                },
                                {
                                    "Szálláshely": "Partiszél Vendégház",
                                    "Pótágy": "2",
                                    "Foglalások száma": "15"
                                },
                                {
                                    "Szálláshely": "Partiszél Vendégház",
                                    "Pótágy": "NULL",
                                    "Foglalások száma": "63"
                                },
                                {
                                    "Szálláshely": "Sába-Ház",
                                    "Pótágy": "0",
                                    "Foglalások száma": "67"
                                },
                                {
                                    "Szálláshely": "Sába-Ház",
                                    "Pótágy": "1",
                                    "Foglalások száma": "99"
                                },
                                {
                                    "Szálláshely": "Sába-Ház",
                                    "Pótágy": "NULL",
                                    "Foglalások száma": "166"
                                },
                                {
                                    "Szálláshely": "Szieszta Apartmanház",
                                    "Pótágy": "0",
                                    "Foglalások száma": "64"
                                },
                                {
                                    "Szálláshely": "Szieszta Apartmanház",
                                    "Pótágy": "1",
                                    "Foglalások száma": "19"
                                },
                                {
                                    "Szálláshely": "Szieszta Apartmanház",
                                    "Pótágy": "NULL",
                                    "Foglalások száma": "83"
                                },
                                {
                                    "Szálláshely": "Végösszeg",
                                    "Pótágy": "NULL",
                                    "Foglalások száma": "2490"
                                }
                            ]
                        },
                        "text/html": [
                            "<table>",
                            "<tr><th>Szálláshely</th><th>Pótágy</th><th>Foglalások száma</th></tr>",
                            "<tr><td>Családi Ház</td><td>0</td><td>10</td></tr>",
                            "<tr><td>Családi Ház</td><td>1</td><td>31</td></tr>",
                            "<tr><td>Családi Ház</td><td>2</td><td>11</td></tr>",
                            "<tr><td>Családi Ház</td><td>NULL</td><td>52</td></tr>",
                            "<tr><td>Fortuna Apartman</td><td>0</td><td>18</td></tr>",
                            "<tr><td>Fortuna Apartman</td><td>1</td><td>52</td></tr>",
                            "<tr><td>Fortuna Apartman</td><td>2</td><td>36</td></tr>",
                            "<tr><td>Fortuna Apartman</td><td>NULL</td><td>106</td></tr>",
                            "<tr><td>Fortuna Panzió</td><td>0</td><td>158</td></tr>",
                            "<tr><td>Fortuna panzió</td><td>1</td><td>113</td></tr>",
                            "<tr><td>Fortuna panzió</td><td>2</td><td>40</td></tr>",
                            "<tr><td>Fortuna Panzió</td><td>NULL</td><td>311</td></tr>",
                            "<tr><td>Gold Hotel</td><td>0</td><td>216</td></tr>",
                            "<tr><td>Gold Hotel</td><td>1</td><td>93</td></tr>",
                            "<tr><td>Gold Hotel</td><td>2</td><td>119</td></tr>",
                            "<tr><td>Gold Hotel</td><td>NULL</td><td>428</td></tr>",
                            "<tr><td>Hotel Három Hattyú</td><td>0</td><td>183</td></tr>",
                            "<tr><td>Hotel Három Hattyú</td><td>1</td><td>258</td></tr>",
                            "<tr><td>Hotel Három Hattyú</td><td>2</td><td>63</td></tr>",
                            "<tr><td>Hotel Három Hattyú</td><td>NULL</td><td>504</td></tr>",
                            "<tr><td>Jáde panzió</td><td>0</td><td>66</td></tr>",
                            "<tr><td>Jáde panzió</td><td>NULL</td><td>66</td></tr>",
                            "<tr><td>Kentaur Hotel</td><td>0</td><td>168</td></tr>",
                            "<tr><td>Kentaur Hotel</td><td>1</td><td>224</td></tr>",
                            "<tr><td>Kentaur Hotel</td><td>2</td><td>28</td></tr>",
                            "<tr><td>Kentaur Hotel</td><td>NULL</td><td>420</td></tr>",
                            "<tr><td>Lagúna Hotel</td><td>0</td><td>105</td></tr>",
                            "<tr><td>Lagúna Hotel</td><td>1</td><td>150</td></tr>",
                            "<tr><td>Lagúna Hotel</td><td>2</td><td>36</td></tr>",
                            "<tr><td>Lagúna Hotel</td><td>NULL</td><td>291</td></tr>",
                            "<tr><td>Partiszél Vendégház</td><td>0</td><td>31</td></tr>",
                            "<tr><td>Partiszél Vendégház</td><td>1</td><td>17</td></tr>",
                            "<tr><td>Partiszél Vendégház</td><td>2</td><td>15</td></tr>",
                            "<tr><td>Partiszél Vendégház</td><td>NULL</td><td>63</td></tr>",
                            "<tr><td>Sába-Ház</td><td>0</td><td>67</td></tr>",
                            "<tr><td>Sába-Ház</td><td>1</td><td>99</td></tr>",
                            "<tr><td>Sába-Ház</td><td>NULL</td><td>166</td></tr>",
                            "<tr><td>Szieszta Apartmanház</td><td>0</td><td>64</td></tr>",
                            "<tr><td>Szieszta Apartmanház</td><td>1</td><td>19</td></tr>",
                            "<tr><td>Szieszta Apartmanház</td><td>NULL</td><td>83</td></tr>",
                            "<tr><td>Végösszeg</td><td>NULL</td><td>2490</td></tr>",
                            "</table>"
                        ]
                    }
                }
            ],
            "execution_count": 14
        },
        {
            "cell_type": "markdown",
            "source": [
                "**FELADAT 5:**\n",
                "\n",
                "A Szoba tábla <mark>Ferohely</mark> oszlopára végezzük el a következő számításokat:\n",
                "\n",
                "- Különböző értékek száma\n",
                "- Minimum, maximum, átlag\n",
                "- Null és Not null értékek százalékos aránya"
            ],
            "metadata": {
                "azdata_cell_guid": "7285a8c9-3884-45c1-a8ed-8d5b7b7b94ff"
            },
            "attachments": {}
        },
        {
            "cell_type": "code",
            "source": [
                "SELECT COUNT(DISTINCT FEROHELY) AS 'Különböző értékek',\r\n",
                "    MIN(FEROHELY) AS 'Minimum',\r\n",
                "    MAX(FEROHELY) AS 'Maximum',\r\n",
                "    AVG(FEROHELY) AS 'Átlag',\r\n",
                "    100 * SUM(CASE WHEN FEROHELY IS NULL THEN 1 ELSE 0 END) / COUNT(*) AS 'Null értékek (%)',\r\n",
                "    100 * SUM(CASE WHEN FEROHELY IS NOT NULL THEN 1 ELSE 0 END) / COUNT(*) AS 'Nem null értékek (%)'\r\n",
                "FROM Szoba"
            ],
            "metadata": {
                "azdata_cell_guid": "50784f15-143f-455a-82d7-be85d0a86460",
                "language": "sql"
            },
            "outputs": [
                {
                    "output_type": "display_data",
                    "data": {
                        "text/html": "(1 row affected)"
                    },
                    "metadata": {}
                },
                {
                    "output_type": "display_data",
                    "data": {
                        "text/html": "Total execution time: 00:00:00.017"
                    },
                    "metadata": {}
                },
                {
                    "output_type": "execute_result",
                    "metadata": {},
                    "execution_count": 11,
                    "data": {
                        "application/vnd.dataresource+json": {
                            "schema": {
                                "fields": [
                                    {
                                        "name": "Különböző értékek"
                                    },
                                    {
                                        "name": "Minimum"
                                    },
                                    {
                                        "name": "Maximum"
                                    },
                                    {
                                        "name": "Átlag"
                                    },
                                    {
                                        "name": "Null értékek (%)"
                                    },
                                    {
                                        "name": "Nem null értékek (%)"
                                    }
                                ]
                            },
                            "data": [
                                {
                                    "Különböző értékek": "4",
                                    "Minimum": "1",
                                    "Maximum": "4",
                                    "Átlag": "2",
                                    "Null értékek (%)": "0",
                                    "Nem null értékek (%)": "100"
                                }
                            ]
                        },
                        "text/html": [
                            "<table>",
                            "<tr><th>Különböző értékek</th><th>Minimum</th><th>Maximum</th><th>Átlag</th><th>Null értékek (%)</th><th>Nem null értékek (%)</th></tr>",
                            "<tr><td>4</td><td>1</td><td>4</td><td>2</td><td>0</td><td>100</td></tr>",
                            "</table>"
                        ]
                    }
                }
            ],
            "execution_count": 11
        },
        {
            "cell_type": "markdown",
            "source": [
                "**FELADAT 6:**\n",
                "\n",
                "Valósítsa meg REDIS-ben a következő táblákat:\n",
                "\n",
                "- <span style=\"box-sizing: border-box; font-size: 0.9375rem;\">IRO(ID, nev, nemzetiseg)</span>\n",
                "- KONYV(ID, cim, mufaj, IRO\\_ID)\n",
                "\n",
                "Vigyen fel táblánként legalább 2-2 sornyi adatot!"
            ],
            "metadata": {
                "azdata_cell_guid": "bd81361f-14de-42ec-9e84-9fb91d9f710d"
            },
            "attachments": {}
        },
        {
            "cell_type": "code",
            "source": [
                "hset IRO:1 ID 1 nev \"Jokai Mor\" nemzetiseg \"magyar\"\r\n",
                "hset IRO:2 ID 2 nev \"Margaret Mitchell\" nemzetiseg \"amerikai\"\r\n",
                "hset KONYV:1 ID 1 cim \"Az arany ember\" mufaj \"tortenelmi\" IRO_ID 1\r\n",
                "hset KONYV:2 ID 1 cim \"Gone with the Wind\" mufaj \"tortenelmi\" IRO_ID 2"
            ],
            "metadata": {
                "azdata_cell_guid": "dc63a4e5-aa9d-4913-8c0f-fdbb81820c07",
                "language": "sql"
            },
            "outputs": [
                {
                    "output_type": "error",
                    "evalue": "Msg 102, Level 15, State 1, Line 1\r\nIncorrect syntax near '1'.",
                    "ename": "",
                    "traceback": []
                },
                {
                    "output_type": "error",
                    "evalue": "Msg 132, Level 15, State 1, Line 2\r\nThe label 'IRO' has already been declared. Label names must be unique within a query batch or stored procedure.",
                    "ename": "",
                    "traceback": []
                },
                {
                    "output_type": "error",
                    "evalue": "Msg 132, Level 15, State 1, Line 4\r\nThe label 'KONYV' has already been declared. Label names must be unique within a query batch or stored procedure.",
                    "ename": "",
                    "traceback": []
                },
                {
                    "output_type": "display_data",
                    "data": {
                        "text/html": "Total execution time: 00:00:00.004"
                    },
                    "metadata": {}
                }
            ],
            "execution_count": 29
        },
        {
            "cell_type": "markdown",
            "source": [
                "**FELADAT 7:**\n",
                "\n",
                "Cassandra CQL Shellben hozza létre a következő táblát:\n",
                "\n",
                "STUDENT(ID, Nev, Teljesitett\\_felevek, Eredmenyek, Nyelvtudas)\n",
                "\n",
                "- Az ID legyen az elsődleges kulcs\n",
                "- A Teljesitett félévek legyen LIST, tartalma egész számok, pl: 1, 2, 3\n",
                "- Az Eredmenyek legyen MAP, tartalma, hogy melyik félévben mennyi volt az átlag, pl: 1: 3,00, 2: 4.55, 3: 4,10\n",
                "- A Nyelvtudas legyen SET, tartalma a nyelvek megnevezése\n",
                "\n",
                "Vigyen fel legalább 2 rekordot!"
            ],
            "metadata": {
                "azdata_cell_guid": "333cc032-f431-4fda-857d-f12d6fb2f64f"
            },
            "attachments": {}
        },
        {
            "cell_type": "code",
            "source": [
                "Create table STUDENT (id int PRIMARY KEY, Nev text, Teljesitett_felevek list<int>, Eredmenyek map<int, float>, Nyelvtudas set<text>);\r\n",
                "INSERT INTO STUDENT (id, Nev, Teljesitett_felevek, Eredmenyek, Nyelvtudas)  VALUES (1, 'Toth Anna', [1],      {1: 2.01, 2: 7.55, 3: 4.72},      {'angol', 'magyar'});\r\n",
                "INSERT INTO STUDENT (id, Nev, Teljesitett_felevek, Eredmenyek, Nyelvtudas)  VALUES (2, 'Horvath Kata', [1, 2],      {1: 2.00, 2: 5.00, 3: 6.36},      {'spanyol', 'olasz'});"
            ],
            "metadata": {
                "azdata_cell_guid": "a5b296c9-bce4-416e-8bba-89d397be1bb7",
                "language": "sql"
            },
            "outputs": [],
            "execution_count": null
        },
        {
            "cell_type": "markdown",
            "source": [
                "**FELADAT 8:**\n",
                "\n",
                "A Neo4j Sandbox-ban vagy a Desktopban jelenítsük meg azon személyeket, akik egy filmben szerepeltek Tom Hanks-sel.\n",
                "\n",
                "Egy szereplő neve csak egyszer jelenjen meg\n",
                "\n",
                "Tom Hanks ne legyen benne a listában"
            ],
            "metadata": {
                "azdata_cell_guid": "7b9ae64b-016a-4cc9-80cf-b6cfa2764111"
            },
            "attachments": {}
        },
        {
            "cell_type": "code",
            "source": [
                "MATCH (p:Person)-[:ACTED_IN]->(m:Movie)<-[:ACTED_IN]-(coactor:Person)\r\n",
                "WHERE p.name = 'Tom Hanks' AND coactor.name <> 'Tom Hanks'\r\n",
                "RETURN DISTINCT coactor.name AS Coactors\r\n",
                "ORDER BY coactor.name"
            ],
            "metadata": {
                "azdata_cell_guid": "19d53b3b-b0a9-42e5-89dd-26419ec4e7fb",
                "language": "sql"
            },
            "outputs": [],
            "execution_count": null
        }
    ]
}