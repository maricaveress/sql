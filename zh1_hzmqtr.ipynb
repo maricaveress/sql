{
    "metadata": {
        "kernelspec": {
            "name": "SQL",
            "display_name": "SQL",
            "language": "sql"
        },
        "language_info": {
            "name": "sql",
            "version": ""
        }
    },
    "nbformat_minor": 2,
    "nbformat": 4,
    "cells": [
        {
            "cell_type": "markdown",
            "source": [
                "első zh"
            ],
            "metadata": {
                "azdata_cell_guid": "fae26293-60fc-407e-a902-1a3acc5bab9c"
            },
            "attachments": {}
        },
        {
            "cell_type": "markdown",
            "source": [
                "Kérdezze le, március hónapban ki rögzített Balaton környéki szálláshelyet! \n",
                "\n",
                "a. A listában jelenjen meg a rögzítő neve, a szállás neve és címe! \n",
                "\n",
                "b. A listát rendezzük csillagok száma szerint csökkenő sorba!"
            ],
            "metadata": {
                "azdata_cell_guid": "f3fd489a-554f-43de-b2b1-ab8db756129d"
            },
            "attachments": {}
        },
        {
            "cell_type": "code",
            "source": [
                "select ROGZITETTE as 'rögzítő neve',\r\n",
                "    SZALLAS_NEV as 'szállás neve',\r\n",
                "    CIM as 'szállás címe'\r\n",
                "from szallashely\r\n",
                "where month(ROGZ_IDO) = '03' and HELY like '%Balaton%'\r\n",
                "order by CSILLAGOK_SZAMA desc"
            ],
            "metadata": {
                "azdata_cell_guid": "aa58872e-1f0f-4aef-be35-5dda04686843",
                "language": "sql",
                "tags": []
            },
            "outputs": [
                {
                    "output_type": "display_data",
                    "data": {
                        "text/html": "(7 rows affected)"
                    },
                    "metadata": {}
                },
                {
                    "output_type": "display_data",
                    "data": {
                        "text/html": "Total execution time: 00:00:00.003"
                    },
                    "metadata": {}
                },
                {
                    "output_type": "execute_result",
                    "metadata": {},
                    "execution_count": 15,
                    "data": {
                        "application/vnd.dataresource+json": {
                            "schema": {
                                "fields": [
                                    {
                                        "name": "rögzítő neve"
                                    },
                                    {
                                        "name": "szállás neve"
                                    },
                                    {
                                        "name": "szállás címe"
                                    }
                                ]
                            },
                            "data": [
                                {
                                    "rögzítő neve": "Béla",
                                    "szállás neve": "Hotel Három Hattyú",
                                    "szállás címe": "8623 Balatonföldvár, Rákóczi Ferenc út 45."
                                },
                                {
                                    "rögzítő neve": "Mari",
                                    "szállás neve": "Jáde panzió",
                                    "szállás címe": "8624 Balatonföldvár, Kiss u.2."
                                },
                                {
                                    "rögzítő neve": "Béla",
                                    "szállás neve": "Kentaur Hotel",
                                    "szállás címe": "8600 Siófok (Széplak), Akácfa utca 1"
                                },
                                {
                                    "rögzítő neve": "Béla",
                                    "szállás neve": "Tímárház Panzió",
                                    "szállás címe": "8600 Siófok, Virág utca 1"
                                },
                                {
                                    "rögzítő neve": "Béla",
                                    "szállás neve": "Családi Ház",
                                    "szállás címe": "8630 Balatonboglár, József Attila utca 25"
                                },
                                {
                                    "rögzítő neve": "Mari",
                                    "szállás neve": "Szieszta Apartmanház",
                                    "szállás címe": "8630 Balatonboglár, Dózsa György utca 108"
                                },
                                {
                                    "rögzítő neve": "Béla",
                                    "szállás neve": "Partiszél Vendégház",
                                    "szállás címe": "8220 Balatonalmádi Neptun u. 23."
                                }
                            ]
                        },
                        "text/html": [
                            "<table>",
                            "<tr><th>rögzítő neve</th><th>szállás neve</th><th>szállás címe</th></tr>",
                            "<tr><td>Béla</td><td>Hotel Három Hattyú</td><td>8623 Balatonföldvár, Rákóczi Ferenc út 45.</td></tr>",
                            "<tr><td>Mari</td><td>Jáde panzió</td><td>8624 Balatonföldvár, Kiss u.2.</td></tr>",
                            "<tr><td>Béla</td><td>Kentaur Hotel</td><td>8600 Siófok (Széplak), Akácfa utca 1</td></tr>",
                            "<tr><td>Béla</td><td>Tímárház Panzió</td><td>8600 Siófok, Virág utca 1</td></tr>",
                            "<tr><td>Béla</td><td>Családi Ház</td><td>8630 Balatonboglár, József Attila utca 25</td></tr>",
                            "<tr><td>Mari</td><td>Szieszta Apartmanház</td><td>8630 Balatonboglár, Dózsa György utca 108</td></tr>",
                            "<tr><td>Béla</td><td>Partiszél Vendégház</td><td>8220 Balatonalmádi Neptun u. 23.</td></tr>",
                            "</table>"
                        ]
                    }
                }
            ],
            "execution_count": 15
        },
        {
            "cell_type": "markdown",
            "source": [
                "Készítsen lekérdezést, amely megjeleníti, hogy szobánként (SZOBA\\_FK) hány olyan foglalás történt, ahol a felnőttek száma nagyobb volt a gyermekek számánál!\n",
                "\n",
                "a. Az eredményt rendezzük sorba a foglalásszám szerint növekvően!\n",
                "\n",
                "b. Hagyjuk ki azokat a csoportokat, ahol az említett foglalásszám 2 alatti!"
            ],
            "metadata": {
                "azdata_cell_guid": "3cc28c22-c857-414c-9a8e-e05f1fa3d1e2"
            },
            "attachments": {}
        },
        {
            "cell_type": "code",
            "source": [
                "select SZOBA_FK as 'szobaszám',\r\n",
                "    count(*) as 'foglalások száma'\r\n",
                "from foglalas\r\n",
                "where FELNOTT_SZAM > GYERMEK_SZAM\r\n",
                "group by SZOBA_FK\r\n",
                "having count(*) >= 2\r\n",
                "order by count(*) asc"
            ],
            "metadata": {
                "azdata_cell_guid": "aebdf500-1e3d-4a23-a789-3bbe9de588f6",
                "language": "sql"
            },
            "outputs": [
                {
                    "output_type": "display_data",
                    "data": {
                        "text/html": "(165 rows affected)"
                    },
                    "metadata": {}
                },
                {
                    "output_type": "display_data",
                    "data": {
                        "text/html": "Total execution time: 00:00:00.008"
                    },
                    "metadata": {}
                },
                {
                    "output_type": "execute_result",
                    "metadata": {},
                    "execution_count": 25,
                    "data": {
                        "application/vnd.dataresource+json": {
                            "schema": {
                                "fields": [
                                    {
                                        "name": "szobaszám"
                                    },
                                    {
                                        "name": "foglalások száma"
                                    }
                                ]
                            },
                            "data": [
                                {
                                    "szobaszám": "2",
                                    "foglalások száma": "2"
                                },
                                {
                                    "szobaszám": "5",
                                    "foglalások száma": "2"
                                },
                                {
                                    "szobaszám": "17",
                                    "foglalások száma": "2"
                                },
                                {
                                    "szobaszám": "22",
                                    "foglalások száma": "2"
                                },
                                {
                                    "szobaszám": "30",
                                    "foglalások száma": "2"
                                },
                                {
                                    "szobaszám": "37",
                                    "foglalások száma": "2"
                                },
                                {
                                    "szobaszám": "47",
                                    "foglalások száma": "2"
                                },
                                {
                                    "szobaszám": "71",
                                    "foglalások száma": "2"
                                },
                                {
                                    "szobaszám": "72",
                                    "foglalások száma": "2"
                                },
                                {
                                    "szobaszám": "75",
                                    "foglalások száma": "2"
                                },
                                {
                                    "szobaszám": "76",
                                    "foglalások száma": "2"
                                },
                                {
                                    "szobaszám": "67",
                                    "foglalások száma": "2"
                                },
                                {
                                    "szobaszám": "69",
                                    "foglalások száma": "2"
                                },
                                {
                                    "szobaszám": "85",
                                    "foglalások száma": "2"
                                },
                                {
                                    "szobaszám": "91",
                                    "foglalások száma": "2"
                                },
                                {
                                    "szobaszám": "100",
                                    "foglalások száma": "2"
                                },
                                {
                                    "szobaszám": "109",
                                    "foglalások száma": "2"
                                },
                                {
                                    "szobaszám": "113",
                                    "foglalások száma": "2"
                                },
                                {
                                    "szobaszám": "118",
                                    "foglalások száma": "2"
                                },
                                {
                                    "szobaszám": "120",
                                    "foglalások száma": "2"
                                },
                                {
                                    "szobaszám": "136",
                                    "foglalások száma": "2"
                                },
                                {
                                    "szobaszám": "137",
                                    "foglalások száma": "2"
                                },
                                {
                                    "szobaszám": "144",
                                    "foglalások száma": "2"
                                },
                                {
                                    "szobaszám": "145",
                                    "foglalások száma": "2"
                                },
                                {
                                    "szobaszám": "151",
                                    "foglalások száma": "2"
                                },
                                {
                                    "szobaszám": "156",
                                    "foglalások száma": "2"
                                },
                                {
                                    "szobaszám": "157",
                                    "foglalások száma": "2"
                                },
                                {
                                    "szobaszám": "160",
                                    "foglalások száma": "2"
                                },
                                {
                                    "szobaszám": "162",
                                    "foglalások száma": "2"
                                },
                                {
                                    "szobaszám": "167",
                                    "foglalások száma": "2"
                                },
                                {
                                    "szobaszám": "176",
                                    "foglalások száma": "2"
                                },
                                {
                                    "szobaszám": "179",
                                    "foglalások száma": "2"
                                },
                                {
                                    "szobaszám": "188",
                                    "foglalások száma": "2"
                                },
                                {
                                    "szobaszám": "193",
                                    "foglalások száma": "2"
                                },
                                {
                                    "szobaszám": "196",
                                    "foglalások száma": "2"
                                },
                                {
                                    "szobaszám": "191",
                                    "foglalások száma": "3"
                                },
                                {
                                    "szobaszám": "183",
                                    "foglalások száma": "3"
                                },
                                {
                                    "szobaszám": "173",
                                    "foglalások száma": "3"
                                },
                                {
                                    "szobaszám": "166",
                                    "foglalások száma": "3"
                                },
                                {
                                    "szobaszám": "175",
                                    "foglalások száma": "3"
                                },
                                {
                                    "szobaszám": "169",
                                    "foglalások száma": "3"
                                },
                                {
                                    "szobaszám": "170",
                                    "foglalások száma": "3"
                                },
                                {
                                    "szobaszám": "161",
                                    "foglalások száma": "3"
                                },
                                {
                                    "szobaszám": "158",
                                    "foglalások száma": "3"
                                },
                                {
                                    "szobaszám": "152",
                                    "foglalások száma": "3"
                                },
                                {
                                    "szobaszám": "154",
                                    "foglalások száma": "3"
                                },
                                {
                                    "szobaszám": "155",
                                    "foglalások száma": "3"
                                },
                                {
                                    "szobaszám": "146",
                                    "foglalások száma": "3"
                                },
                                {
                                    "szobaszám": "135",
                                    "foglalások száma": "3"
                                },
                                {
                                    "szobaszám": "122",
                                    "foglalások száma": "3"
                                },
                                {
                                    "szobaszám": "129",
                                    "foglalások száma": "3"
                                },
                                {
                                    "szobaszám": "104",
                                    "foglalások száma": "3"
                                },
                                {
                                    "szobaszám": "90",
                                    "foglalások száma": "3"
                                },
                                {
                                    "szobaszám": "66",
                                    "foglalások száma": "3"
                                },
                                {
                                    "szobaszám": "84",
                                    "foglalások száma": "3"
                                },
                                {
                                    "szobaszám": "93",
                                    "foglalások száma": "3"
                                },
                                {
                                    "szobaszám": "95",
                                    "foglalások száma": "3"
                                },
                                {
                                    "szobaszám": "81",
                                    "foglalások száma": "3"
                                },
                                {
                                    "szobaszám": "77",
                                    "foglalások száma": "3"
                                },
                                {
                                    "szobaszám": "78",
                                    "foglalások száma": "3"
                                },
                                {
                                    "szobaszám": "50",
                                    "foglalások száma": "3"
                                },
                                {
                                    "szobaszám": "51",
                                    "foglalások száma": "3"
                                },
                                {
                                    "szobaszám": "46",
                                    "foglalások száma": "3"
                                },
                                {
                                    "szobaszám": "55",
                                    "foglalások száma": "3"
                                },
                                {
                                    "szobaszám": "57",
                                    "foglalások száma": "3"
                                },
                                {
                                    "szobaszám": "62",
                                    "foglalások száma": "3"
                                },
                                {
                                    "szobaszám": "63",
                                    "foglalások száma": "3"
                                },
                                {
                                    "szobaszám": "29",
                                    "foglalások száma": "3"
                                },
                                {
                                    "szobaszám": "40",
                                    "foglalások száma": "3"
                                },
                                {
                                    "szobaszám": "33",
                                    "foglalások száma": "3"
                                },
                                {
                                    "szobaszám": "34",
                                    "foglalások száma": "3"
                                },
                                {
                                    "szobaszám": "23",
                                    "foglalások száma": "3"
                                },
                                {
                                    "szobaszám": "24",
                                    "foglalások száma": "3"
                                },
                                {
                                    "szobaszám": "18",
                                    "foglalások száma": "3"
                                },
                                {
                                    "szobaszám": "14",
                                    "foglalások száma": "3"
                                },
                                {
                                    "szobaszám": "3",
                                    "foglalások száma": "3"
                                },
                                {
                                    "szobaszám": "9",
                                    "foglalások száma": "4"
                                },
                                {
                                    "szobaszám": "10",
                                    "foglalások száma": "4"
                                },
                                {
                                    "szobaszám": "11",
                                    "foglalások száma": "4"
                                },
                                {
                                    "szobaszám": "15",
                                    "foglalások száma": "4"
                                },
                                {
                                    "szobaszám": "19",
                                    "foglalások száma": "4"
                                },
                                {
                                    "szobaszám": "36",
                                    "foglalások száma": "4"
                                },
                                {
                                    "szobaszám": "39",
                                    "foglalások száma": "4"
                                },
                                {
                                    "szobaszám": "13",
                                    "foglalások száma": "4"
                                },
                                {
                                    "szobaszám": "59",
                                    "foglalások száma": "4"
                                },
                                {
                                    "szobaszám": "61",
                                    "foglalások száma": "4"
                                },
                                {
                                    "szobaszám": "54",
                                    "foglalások száma": "4"
                                },
                                {
                                    "szobaszám": "45",
                                    "foglalások száma": "4"
                                },
                                {
                                    "szobaszám": "43",
                                    "foglalások száma": "4"
                                },
                                {
                                    "szobaszám": "79",
                                    "foglalások száma": "4"
                                },
                                {
                                    "szobaszám": "73",
                                    "foglalások száma": "4"
                                },
                                {
                                    "szobaszám": "86",
                                    "foglalások száma": "4"
                                },
                                {
                                    "szobaszám": "98",
                                    "foglalások száma": "4"
                                },
                                {
                                    "szobaszám": "99",
                                    "foglalások száma": "4"
                                },
                                {
                                    "szobaszám": "106",
                                    "foglalások száma": "4"
                                },
                                {
                                    "szobaszám": "107",
                                    "foglalások száma": "4"
                                },
                                {
                                    "szobaszám": "124",
                                    "foglalások száma": "4"
                                },
                                {
                                    "szobaszám": "126",
                                    "foglalások száma": "4"
                                },
                                {
                                    "szobaszám": "119",
                                    "foglalások száma": "4"
                                },
                                {
                                    "szobaszám": "112",
                                    "foglalások száma": "4"
                                },
                                {
                                    "szobaszám": "117",
                                    "foglalások száma": "4"
                                },
                                {
                                    "szobaszám": "141",
                                    "foglalások száma": "4"
                                },
                                {
                                    "szobaszám": "131",
                                    "foglalások száma": "4"
                                },
                                {
                                    "szobaszám": "132",
                                    "foglalások száma": "4"
                                },
                                {
                                    "szobaszám": "133",
                                    "foglalások száma": "4"
                                },
                                {
                                    "szobaszám": "134",
                                    "foglalások száma": "4"
                                },
                                {
                                    "szobaszám": "153",
                                    "foglalások száma": "4"
                                },
                                {
                                    "szobaszám": "164",
                                    "foglalások száma": "4"
                                },
                                {
                                    "szobaszám": "174",
                                    "foglalások száma": "4"
                                },
                                {
                                    "szobaszám": "184",
                                    "foglalások száma": "4"
                                },
                                {
                                    "szobaszám": "190",
                                    "foglalások száma": "5"
                                },
                                {
                                    "szobaszám": "195",
                                    "foglalások száma": "5"
                                },
                                {
                                    "szobaszám": "181",
                                    "foglalások száma": "5"
                                },
                                {
                                    "szobaszám": "165",
                                    "foglalások száma": "5"
                                },
                                {
                                    "szobaszám": "163",
                                    "foglalások száma": "5"
                                },
                                {
                                    "szobaszám": "171",
                                    "foglalások száma": "5"
                                },
                                {
                                    "szobaszám": "138",
                                    "foglalások száma": "5"
                                },
                                {
                                    "szobaszám": "143",
                                    "foglalások száma": "5"
                                },
                                {
                                    "szobaszám": "140",
                                    "foglalások száma": "5"
                                },
                                {
                                    "szobaszám": "148",
                                    "foglalások száma": "5"
                                },
                                {
                                    "szobaszám": "149",
                                    "foglalások száma": "5"
                                },
                                {
                                    "szobaszám": "115",
                                    "foglalások száma": "5"
                                },
                                {
                                    "szobaszám": "110",
                                    "foglalások száma": "5"
                                },
                                {
                                    "szobaszám": "127",
                                    "foglalások száma": "5"
                                },
                                {
                                    "szobaszám": "130",
                                    "foglalások száma": "5"
                                },
                                {
                                    "szobaszám": "123",
                                    "foglalások száma": "5"
                                },
                                {
                                    "szobaszám": "121",
                                    "foglalások száma": "5"
                                },
                                {
                                    "szobaszám": "97",
                                    "foglalások száma": "5"
                                },
                                {
                                    "szobaszám": "92",
                                    "foglalások száma": "5"
                                },
                                {
                                    "szobaszám": "87",
                                    "foglalások száma": "5"
                                },
                                {
                                    "szobaszám": "88",
                                    "foglalások száma": "5"
                                },
                                {
                                    "szobaszám": "82",
                                    "foglalások száma": "5"
                                },
                                {
                                    "szobaszám": "83",
                                    "foglalások száma": "5"
                                },
                                {
                                    "szobaszám": "80",
                                    "foglalások száma": "5"
                                },
                                {
                                    "szobaszám": "52",
                                    "foglalások száma": "5"
                                },
                                {
                                    "szobaszám": "49",
                                    "foglalások száma": "5"
                                },
                                {
                                    "szobaszám": "64",
                                    "foglalások száma": "5"
                                },
                                {
                                    "szobaszám": "38",
                                    "foglalások száma": "5"
                                },
                                {
                                    "szobaszám": "42",
                                    "foglalások száma": "5"
                                },
                                {
                                    "szobaszám": "27",
                                    "foglalások száma": "5"
                                },
                                {
                                    "szobaszám": "28",
                                    "foglalások száma": "5"
                                },
                                {
                                    "szobaszám": "20",
                                    "foglalások száma": "5"
                                },
                                {
                                    "szobaszám": "8",
                                    "foglalások száma": "5"
                                },
                                {
                                    "szobaszám": "4",
                                    "foglalások száma": "5"
                                },
                                {
                                    "szobaszám": "6",
                                    "foglalások száma": "5"
                                },
                                {
                                    "szobaszám": "7",
                                    "foglalások száma": "6"
                                },
                                {
                                    "szobaszám": "35",
                                    "foglalások száma": "6"
                                },
                                {
                                    "szobaszám": "48",
                                    "foglalások száma": "6"
                                },
                                {
                                    "szobaszám": "44",
                                    "foglalások száma": "6"
                                },
                                {
                                    "szobaszám": "96",
                                    "foglalások száma": "6"
                                },
                                {
                                    "szobaszám": "94",
                                    "foglalások száma": "6"
                                },
                                {
                                    "szobaszám": "150",
                                    "foglalások száma": "6"
                                },
                                {
                                    "szobaszám": "139",
                                    "foglalások száma": "6"
                                },
                                {
                                    "szobaszám": "172",
                                    "foglalások száma": "6"
                                },
                                {
                                    "szobaszám": "187",
                                    "foglalások száma": "6"
                                },
                                {
                                    "szobaszám": "197",
                                    "foglalások száma": "6"
                                },
                                {
                                    "szobaszám": "198",
                                    "foglalások száma": "7"
                                },
                                {
                                    "szobaszám": "12",
                                    "foglalások száma": "7"
                                },
                                {
                                    "szobaszám": "1",
                                    "foglalások száma": "7"
                                },
                                {
                                    "szobaszám": "58",
                                    "foglalások száma": "8"
                                },
                                {
                                    "szobaszám": "74",
                                    "foglalások száma": "8"
                                },
                                {
                                    "szobaszám": "70",
                                    "foglalások száma": "8"
                                },
                                {
                                    "szobaszám": "89",
                                    "foglalások száma": "8"
                                },
                                {
                                    "szobaszám": "185",
                                    "foglalások száma": "10"
                                },
                                {
                                    "szobaszám": "182",
                                    "foglalások száma": "11"
                                }
                            ]
                        },
                        "text/html": [
                            "<table>",
                            "<tr><th>szobaszám</th><th>foglalások száma</th></tr>",
                            "<tr><td>2</td><td>2</td></tr>",
                            "<tr><td>5</td><td>2</td></tr>",
                            "<tr><td>17</td><td>2</td></tr>",
                            "<tr><td>22</td><td>2</td></tr>",
                            "<tr><td>30</td><td>2</td></tr>",
                            "<tr><td>37</td><td>2</td></tr>",
                            "<tr><td>47</td><td>2</td></tr>",
                            "<tr><td>71</td><td>2</td></tr>",
                            "<tr><td>72</td><td>2</td></tr>",
                            "<tr><td>75</td><td>2</td></tr>",
                            "<tr><td>76</td><td>2</td></tr>",
                            "<tr><td>67</td><td>2</td></tr>",
                            "<tr><td>69</td><td>2</td></tr>",
                            "<tr><td>85</td><td>2</td></tr>",
                            "<tr><td>91</td><td>2</td></tr>",
                            "<tr><td>100</td><td>2</td></tr>",
                            "<tr><td>109</td><td>2</td></tr>",
                            "<tr><td>113</td><td>2</td></tr>",
                            "<tr><td>118</td><td>2</td></tr>",
                            "<tr><td>120</td><td>2</td></tr>",
                            "<tr><td>136</td><td>2</td></tr>",
                            "<tr><td>137</td><td>2</td></tr>",
                            "<tr><td>144</td><td>2</td></tr>",
                            "<tr><td>145</td><td>2</td></tr>",
                            "<tr><td>151</td><td>2</td></tr>",
                            "<tr><td>156</td><td>2</td></tr>",
                            "<tr><td>157</td><td>2</td></tr>",
                            "<tr><td>160</td><td>2</td></tr>",
                            "<tr><td>162</td><td>2</td></tr>",
                            "<tr><td>167</td><td>2</td></tr>",
                            "<tr><td>176</td><td>2</td></tr>",
                            "<tr><td>179</td><td>2</td></tr>",
                            "<tr><td>188</td><td>2</td></tr>",
                            "<tr><td>193</td><td>2</td></tr>",
                            "<tr><td>196</td><td>2</td></tr>",
                            "<tr><td>191</td><td>3</td></tr>",
                            "<tr><td>183</td><td>3</td></tr>",
                            "<tr><td>173</td><td>3</td></tr>",
                            "<tr><td>166</td><td>3</td></tr>",
                            "<tr><td>175</td><td>3</td></tr>",
                            "<tr><td>169</td><td>3</td></tr>",
                            "<tr><td>170</td><td>3</td></tr>",
                            "<tr><td>161</td><td>3</td></tr>",
                            "<tr><td>158</td><td>3</td></tr>",
                            "<tr><td>152</td><td>3</td></tr>",
                            "<tr><td>154</td><td>3</td></tr>",
                            "<tr><td>155</td><td>3</td></tr>",
                            "<tr><td>146</td><td>3</td></tr>",
                            "<tr><td>135</td><td>3</td></tr>",
                            "<tr><td>122</td><td>3</td></tr>",
                            "<tr><td>129</td><td>3</td></tr>",
                            "<tr><td>104</td><td>3</td></tr>",
                            "<tr><td>90</td><td>3</td></tr>",
                            "<tr><td>66</td><td>3</td></tr>",
                            "<tr><td>84</td><td>3</td></tr>",
                            "<tr><td>93</td><td>3</td></tr>",
                            "<tr><td>95</td><td>3</td></tr>",
                            "<tr><td>81</td><td>3</td></tr>",
                            "<tr><td>77</td><td>3</td></tr>",
                            "<tr><td>78</td><td>3</td></tr>",
                            "<tr><td>50</td><td>3</td></tr>",
                            "<tr><td>51</td><td>3</td></tr>",
                            "<tr><td>46</td><td>3</td></tr>",
                            "<tr><td>55</td><td>3</td></tr>",
                            "<tr><td>57</td><td>3</td></tr>",
                            "<tr><td>62</td><td>3</td></tr>",
                            "<tr><td>63</td><td>3</td></tr>",
                            "<tr><td>29</td><td>3</td></tr>",
                            "<tr><td>40</td><td>3</td></tr>",
                            "<tr><td>33</td><td>3</td></tr>",
                            "<tr><td>34</td><td>3</td></tr>",
                            "<tr><td>23</td><td>3</td></tr>",
                            "<tr><td>24</td><td>3</td></tr>",
                            "<tr><td>18</td><td>3</td></tr>",
                            "<tr><td>14</td><td>3</td></tr>",
                            "<tr><td>3</td><td>3</td></tr>",
                            "<tr><td>9</td><td>4</td></tr>",
                            "<tr><td>10</td><td>4</td></tr>",
                            "<tr><td>11</td><td>4</td></tr>",
                            "<tr><td>15</td><td>4</td></tr>",
                            "<tr><td>19</td><td>4</td></tr>",
                            "<tr><td>36</td><td>4</td></tr>",
                            "<tr><td>39</td><td>4</td></tr>",
                            "<tr><td>13</td><td>4</td></tr>",
                            "<tr><td>59</td><td>4</td></tr>",
                            "<tr><td>61</td><td>4</td></tr>",
                            "<tr><td>54</td><td>4</td></tr>",
                            "<tr><td>45</td><td>4</td></tr>",
                            "<tr><td>43</td><td>4</td></tr>",
                            "<tr><td>79</td><td>4</td></tr>",
                            "<tr><td>73</td><td>4</td></tr>",
                            "<tr><td>86</td><td>4</td></tr>",
                            "<tr><td>98</td><td>4</td></tr>",
                            "<tr><td>99</td><td>4</td></tr>",
                            "<tr><td>106</td><td>4</td></tr>",
                            "<tr><td>107</td><td>4</td></tr>",
                            "<tr><td>124</td><td>4</td></tr>",
                            "<tr><td>126</td><td>4</td></tr>",
                            "<tr><td>119</td><td>4</td></tr>",
                            "<tr><td>112</td><td>4</td></tr>",
                            "<tr><td>117</td><td>4</td></tr>",
                            "<tr><td>141</td><td>4</td></tr>",
                            "<tr><td>131</td><td>4</td></tr>",
                            "<tr><td>132</td><td>4</td></tr>",
                            "<tr><td>133</td><td>4</td></tr>",
                            "<tr><td>134</td><td>4</td></tr>",
                            "<tr><td>153</td><td>4</td></tr>",
                            "<tr><td>164</td><td>4</td></tr>",
                            "<tr><td>174</td><td>4</td></tr>",
                            "<tr><td>184</td><td>4</td></tr>",
                            "<tr><td>190</td><td>5</td></tr>",
                            "<tr><td>195</td><td>5</td></tr>",
                            "<tr><td>181</td><td>5</td></tr>",
                            "<tr><td>165</td><td>5</td></tr>",
                            "<tr><td>163</td><td>5</td></tr>",
                            "<tr><td>171</td><td>5</td></tr>",
                            "<tr><td>138</td><td>5</td></tr>",
                            "<tr><td>143</td><td>5</td></tr>",
                            "<tr><td>140</td><td>5</td></tr>",
                            "<tr><td>148</td><td>5</td></tr>",
                            "<tr><td>149</td><td>5</td></tr>",
                            "<tr><td>115</td><td>5</td></tr>",
                            "<tr><td>110</td><td>5</td></tr>",
                            "<tr><td>127</td><td>5</td></tr>",
                            "<tr><td>130</td><td>5</td></tr>",
                            "<tr><td>123</td><td>5</td></tr>",
                            "<tr><td>121</td><td>5</td></tr>",
                            "<tr><td>97</td><td>5</td></tr>",
                            "<tr><td>92</td><td>5</td></tr>",
                            "<tr><td>87</td><td>5</td></tr>",
                            "<tr><td>88</td><td>5</td></tr>",
                            "<tr><td>82</td><td>5</td></tr>",
                            "<tr><td>83</td><td>5</td></tr>",
                            "<tr><td>80</td><td>5</td></tr>",
                            "<tr><td>52</td><td>5</td></tr>",
                            "<tr><td>49</td><td>5</td></tr>",
                            "<tr><td>64</td><td>5</td></tr>",
                            "<tr><td>38</td><td>5</td></tr>",
                            "<tr><td>42</td><td>5</td></tr>",
                            "<tr><td>27</td><td>5</td></tr>",
                            "<tr><td>28</td><td>5</td></tr>",
                            "<tr><td>20</td><td>5</td></tr>",
                            "<tr><td>8</td><td>5</td></tr>",
                            "<tr><td>4</td><td>5</td></tr>",
                            "<tr><td>6</td><td>5</td></tr>",
                            "<tr><td>7</td><td>6</td></tr>",
                            "<tr><td>35</td><td>6</td></tr>",
                            "<tr><td>48</td><td>6</td></tr>",
                            "<tr><td>44</td><td>6</td></tr>",
                            "<tr><td>96</td><td>6</td></tr>",
                            "<tr><td>94</td><td>6</td></tr>",
                            "<tr><td>150</td><td>6</td></tr>",
                            "<tr><td>139</td><td>6</td></tr>",
                            "<tr><td>172</td><td>6</td></tr>",
                            "<tr><td>187</td><td>6</td></tr>",
                            "<tr><td>197</td><td>6</td></tr>",
                            "<tr><td>198</td><td>7</td></tr>",
                            "<tr><td>12</td><td>7</td></tr>",
                            "<tr><td>1</td><td>7</td></tr>",
                            "<tr><td>58</td><td>8</td></tr>",
                            "<tr><td>74</td><td>8</td></tr>",
                            "<tr><td>70</td><td>8</td></tr>",
                            "<tr><td>89</td><td>8</td></tr>",
                            "<tr><td>185</td><td>10</td></tr>",
                            "<tr><td>182</td><td>11</td></tr>",
                            "</table>"
                        ]
                    }
                }
            ],
            "execution_count": 25
        },
        {
            "cell_type": "markdown",
            "source": [
                "Készítsünk lekérdezést, amely megmutatja, hogy melyik szobát évente hányszor foglalták le!\n",
                "\n",
                "a. Jelenítsük meg a szobák azonosítóját, az évszámot és a foglalások számát!\n",
                "\n",
                "b. A listát szűrjük a 10 db foglalás feletti tételekre\n",
                "\n",
                "c. A listából hagyjuk ki a páros szobaszámú szobákat"
            ],
            "metadata": {
                "language": "sql",
                "azdata_cell_guid": "2b90b50e-2201-4a2c-a511-020292be748c"
            },
            "attachments": {}
        },
        {
            "cell_type": "code",
            "source": [
                "select sz.SZOBA_ID as 'szoba azonosítója',\r\n",
                "    year(f.METTOL) as 'évszám',\r\n",
                "    count(*) as 'foglalások száma'\r\n",
                "from szoba sz\r\n",
                "    join foglalas f on sz.SZOBA_ID = f.SZOBA_FK\r\n",
                "where sz.SZOBA_SZAMA % 2 <> 0\r\n",
                "group by sz.SZOBA_ID, year(f.METTOL)\r\n",
                "having count(*) > 10"
            ],
            "metadata": {
                "language": "sql",
                "azdata_cell_guid": "47e5bffd-2e59-414f-862a-0f1bfac2c2d6"
            },
            "outputs": [
                {
                    "output_type": "display_data",
                    "data": {
                        "text/html": "(1 row affected)"
                    },
                    "metadata": {}
                },
                {
                    "output_type": "display_data",
                    "data": {
                        "text/html": "Total execution time: 00:00:00.004"
                    },
                    "metadata": {}
                },
                {
                    "output_type": "execute_result",
                    "metadata": {},
                    "execution_count": 39,
                    "data": {
                        "application/vnd.dataresource+json": {
                            "schema": {
                                "fields": [
                                    {
                                        "name": "szoba azonosítója"
                                    },
                                    {
                                        "name": "évszám"
                                    },
                                    {
                                        "name": "foglalások száma"
                                    }
                                ]
                            },
                            "data": [
                                {
                                    "szoba azonosítója": "58",
                                    "évszám": "2016",
                                    "foglalások száma": "12"
                                }
                            ]
                        },
                        "text/html": [
                            "<table>",
                            "<tr><th>szoba azonosítója</th><th>évszám</th><th>foglalások száma</th></tr>",
                            "<tr><td>58</td><td>2016</td><td>12</td></tr>",
                            "</table>"
                        ]
                    }
                }
            ],
            "execution_count": 39
        }
    ]
}