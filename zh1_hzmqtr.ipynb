{
    "metadata": {
        "kernelspec": {
            "name": "SQL",
            "display_name": "SQL",
            "language": "sql"
        },
        "language_info": {
            "name": "sql",
            "version": ""
        }
    },
    "nbformat_minor": 2,
    "nbformat": 4,
    "cells": [
        {
            "cell_type": "markdown",
            "source": [
                "első zh"
            ],
            "metadata": {
                "azdata_cell_guid": "fae26293-60fc-407e-a902-1a3acc5bab9c"
            },
            "attachments": {}
        }
    ]
}